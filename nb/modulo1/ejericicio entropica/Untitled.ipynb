{
 "cells": [
  {
   "cell_type": "code",
   "execution_count": 1,
   "id": "706e0840",
   "metadata": {
    "ExecuteTime": {
     "end_time": "2022-06-03T01:20:46.215077Z",
     "start_time": "2022-06-03T01:20:45.287135Z"
    }
   },
   "outputs": [],
   "source": [
    "import pandas as pd\n",
    "import numpy as np\n",
    "import missingno as msno\n",
    "pd.options.display.max_rows = 25\n",
    "pd.options.display.max_columns = 100"
   ]
  },
  {
   "cell_type": "code",
   "execution_count": 2,
   "id": "9631fe5c",
   "metadata": {
    "ExecuteTime": {
     "end_time": "2022-06-03T01:21:29.664253Z",
     "start_time": "2022-06-03T01:21:29.607830Z"
    }
   },
   "outputs": [],
   "source": [
    "df = pd.read_csv('telco_churn_ejemplo.csv', sep=',', encoding='utf8')"
   ]
  },
  {
   "cell_type": "code",
   "execution_count": 3,
   "id": "375baeeb",
   "metadata": {
    "ExecuteTime": {
     "end_time": "2022-06-03T01:21:34.222482Z",
     "start_time": "2022-06-03T01:21:34.180346Z"
    }
   },
   "outputs": [
    {
     "data": {
      "text/html": [
       "<div>\n",
       "<style scoped>\n",
       "    .dataframe tbody tr th:only-of-type {\n",
       "        vertical-align: middle;\n",
       "    }\n",
       "\n",
       "    .dataframe tbody tr th {\n",
       "        vertical-align: top;\n",
       "    }\n",
       "\n",
       "    .dataframe thead th {\n",
       "        text-align: right;\n",
       "    }\n",
       "</style>\n",
       "<table border=\"1\" class=\"dataframe\">\n",
       "  <thead>\n",
       "    <tr style=\"text-align: right;\">\n",
       "      <th></th>\n",
       "      <th>customerID</th>\n",
       "      <th>gender</th>\n",
       "      <th>SeniorCitizen</th>\n",
       "      <th>Partner</th>\n",
       "      <th>Dependents</th>\n",
       "      <th>tenure</th>\n",
       "      <th>PhoneService</th>\n",
       "      <th>MultipleLines</th>\n",
       "      <th>InternetService</th>\n",
       "      <th>OnlineSecurity</th>\n",
       "      <th>OnlineBackup</th>\n",
       "      <th>DeviceProtection</th>\n",
       "      <th>TechSupport</th>\n",
       "      <th>StreamingTV</th>\n",
       "      <th>StreamingMovies</th>\n",
       "      <th>Contract</th>\n",
       "      <th>PaperlessBilling</th>\n",
       "      <th>PaymentMethod</th>\n",
       "      <th>MonthlyCharges</th>\n",
       "      <th>TotalCharges</th>\n",
       "      <th>Churn</th>\n",
       "    </tr>\n",
       "  </thead>\n",
       "  <tbody>\n",
       "    <tr>\n",
       "      <th>0</th>\n",
       "      <td>7590-VHVEG</td>\n",
       "      <td>Female</td>\n",
       "      <td>0</td>\n",
       "      <td>Yes</td>\n",
       "      <td>No</td>\n",
       "      <td>1</td>\n",
       "      <td>No</td>\n",
       "      <td>No phone service</td>\n",
       "      <td>DSL</td>\n",
       "      <td>No</td>\n",
       "      <td>Yes</td>\n",
       "      <td>No</td>\n",
       "      <td>No</td>\n",
       "      <td>No</td>\n",
       "      <td>No</td>\n",
       "      <td>Month-to-month</td>\n",
       "      <td>Yes</td>\n",
       "      <td>Electronic check</td>\n",
       "      <td>29.85</td>\n",
       "      <td>29.85</td>\n",
       "      <td>No</td>\n",
       "    </tr>\n",
       "    <tr>\n",
       "      <th>1</th>\n",
       "      <td>5575-GNVDE</td>\n",
       "      <td>Male</td>\n",
       "      <td>0</td>\n",
       "      <td>No</td>\n",
       "      <td>No</td>\n",
       "      <td>34</td>\n",
       "      <td>Yes</td>\n",
       "      <td>No</td>\n",
       "      <td>DSL</td>\n",
       "      <td>Yes</td>\n",
       "      <td>No</td>\n",
       "      <td>Yes</td>\n",
       "      <td>No</td>\n",
       "      <td>No</td>\n",
       "      <td>No</td>\n",
       "      <td>One year</td>\n",
       "      <td>No</td>\n",
       "      <td>Mailed check</td>\n",
       "      <td>56.95</td>\n",
       "      <td>1889.50</td>\n",
       "      <td>No</td>\n",
       "    </tr>\n",
       "    <tr>\n",
       "      <th>2</th>\n",
       "      <td>3668-QPYBK</td>\n",
       "      <td>Male</td>\n",
       "      <td>0</td>\n",
       "      <td>No</td>\n",
       "      <td>No</td>\n",
       "      <td>2</td>\n",
       "      <td>Yes</td>\n",
       "      <td>No</td>\n",
       "      <td>DSL</td>\n",
       "      <td>Yes</td>\n",
       "      <td>Yes</td>\n",
       "      <td>No</td>\n",
       "      <td>No</td>\n",
       "      <td>No</td>\n",
       "      <td>No</td>\n",
       "      <td>Month-to-month</td>\n",
       "      <td>Yes</td>\n",
       "      <td>Mailed check</td>\n",
       "      <td>53.85</td>\n",
       "      <td>108.15</td>\n",
       "      <td>Yes</td>\n",
       "    </tr>\n",
       "    <tr>\n",
       "      <th>3</th>\n",
       "      <td>7795-CFOCW</td>\n",
       "      <td>Male</td>\n",
       "      <td>0</td>\n",
       "      <td>No</td>\n",
       "      <td>No</td>\n",
       "      <td>45</td>\n",
       "      <td>No</td>\n",
       "      <td>No phone service</td>\n",
       "      <td>DSL</td>\n",
       "      <td>Yes</td>\n",
       "      <td>No</td>\n",
       "      <td>Yes</td>\n",
       "      <td>Yes</td>\n",
       "      <td>No</td>\n",
       "      <td>No</td>\n",
       "      <td>One year</td>\n",
       "      <td>No</td>\n",
       "      <td>Bank transfer (automatic)</td>\n",
       "      <td>42.30</td>\n",
       "      <td>1840.75</td>\n",
       "      <td>No</td>\n",
       "    </tr>\n",
       "    <tr>\n",
       "      <th>4</th>\n",
       "      <td>9237-HQITU</td>\n",
       "      <td>Female</td>\n",
       "      <td>0</td>\n",
       "      <td>No</td>\n",
       "      <td>No</td>\n",
       "      <td>2</td>\n",
       "      <td>Yes</td>\n",
       "      <td>No</td>\n",
       "      <td>Fiber optic</td>\n",
       "      <td>No</td>\n",
       "      <td>No</td>\n",
       "      <td>No</td>\n",
       "      <td>No</td>\n",
       "      <td>No</td>\n",
       "      <td>No</td>\n",
       "      <td>Month-to-month</td>\n",
       "      <td>Yes</td>\n",
       "      <td>Electronic check</td>\n",
       "      <td>70.70</td>\n",
       "      <td>151.65</td>\n",
       "      <td>Yes</td>\n",
       "    </tr>\n",
       "  </tbody>\n",
       "</table>\n",
       "</div>"
      ],
      "text/plain": [
       "   customerID  gender  SeniorCitizen Partner Dependents  tenure PhoneService  \\\n",
       "0  7590-VHVEG  Female              0     Yes         No       1           No   \n",
       "1  5575-GNVDE    Male              0      No         No      34          Yes   \n",
       "2  3668-QPYBK    Male              0      No         No       2          Yes   \n",
       "3  7795-CFOCW    Male              0      No         No      45           No   \n",
       "4  9237-HQITU  Female              0      No         No       2          Yes   \n",
       "\n",
       "      MultipleLines InternetService OnlineSecurity OnlineBackup  \\\n",
       "0  No phone service             DSL             No          Yes   \n",
       "1                No             DSL            Yes           No   \n",
       "2                No             DSL            Yes          Yes   \n",
       "3  No phone service             DSL            Yes           No   \n",
       "4                No     Fiber optic             No           No   \n",
       "\n",
       "  DeviceProtection TechSupport StreamingTV StreamingMovies        Contract  \\\n",
       "0               No          No          No              No  Month-to-month   \n",
       "1              Yes          No          No              No        One year   \n",
       "2               No          No          No              No  Month-to-month   \n",
       "3              Yes         Yes          No              No        One year   \n",
       "4               No          No          No              No  Month-to-month   \n",
       "\n",
       "  PaperlessBilling              PaymentMethod  MonthlyCharges  TotalCharges  \\\n",
       "0              Yes           Electronic check           29.85         29.85   \n",
       "1               No               Mailed check           56.95       1889.50   \n",
       "2              Yes               Mailed check           53.85        108.15   \n",
       "3               No  Bank transfer (automatic)           42.30       1840.75   \n",
       "4              Yes           Electronic check           70.70        151.65   \n",
       "\n",
       "  Churn  \n",
       "0    No  \n",
       "1    No  \n",
       "2   Yes  \n",
       "3    No  \n",
       "4   Yes  "
      ]
     },
     "execution_count": 3,
     "metadata": {},
     "output_type": "execute_result"
    }
   ],
   "source": [
    "df.head()"
   ]
  },
  {
   "cell_type": "code",
   "execution_count": 6,
   "id": "60ca19b1",
   "metadata": {
    "ExecuteTime": {
     "end_time": "2022-06-03T01:31:50.874503Z",
     "start_time": "2022-06-03T01:31:50.870328Z"
    }
   },
   "outputs": [],
   "source": [
    "\n",
    "vars_v = ['customerID','gender', 'Parthner', 'Dependents', 'PhoneService', 'MultipleLines', 'InternetService', \n",
    "          'OnlineSecurity', 'OnlineBackup', 'DeviceProtection', 'TechSupport', 'StreamingTV', 'StreamingMovies',\n",
    "          'Contract', 'PaperlessBilling', 'PaymentMethod', 'SeniorCitizen']\n",
    "\n",
    "vars_c = ['tenure', 'MonthlyCharges', 'TotalCharges']\n",
    "\n",
    "v_tgt = ['Churn']"
   ]
  },
  {
   "cell_type": "code",
   "execution_count": 7,
   "id": "30ea617a",
   "metadata": {
    "ExecuteTime": {
     "end_time": "2022-06-03T01:32:56.988698Z",
     "start_time": "2022-06-03T01:32:56.975926Z"
    }
   },
   "outputs": [],
   "source": [
    "df.rename(columns=dict(zip(vars_c, ('c_' + x for x in vars_c))), inplace=True)\n",
    "df.rename(columns=dict(zip(vars_v, ('v_' + x for x in vars_v))), inplace=True)\n",
    "df.rename(columns=dict(zip(v_tgt, ('tgt_' + x for x in v_tgt))), inplace=True)\n"
   ]
  },
  {
   "cell_type": "code",
   "execution_count": 21,
   "id": "f6c4f915",
   "metadata": {
    "ExecuteTime": {
     "end_time": "2022-06-03T01:44:32.713668Z",
     "start_time": "2022-06-03T01:44:32.685827Z"
    }
   },
   "outputs": [
    {
     "data": {
      "text/html": [
       "<div>\n",
       "<style scoped>\n",
       "    .dataframe tbody tr th:only-of-type {\n",
       "        vertical-align: middle;\n",
       "    }\n",
       "\n",
       "    .dataframe tbody tr th {\n",
       "        vertical-align: top;\n",
       "    }\n",
       "\n",
       "    .dataframe thead th {\n",
       "        text-align: right;\n",
       "    }\n",
       "</style>\n",
       "<table border=\"1\" class=\"dataframe\">\n",
       "  <thead>\n",
       "    <tr style=\"text-align: right;\">\n",
       "      <th></th>\n",
       "      <th>v_customerID</th>\n",
       "      <th>v_gender</th>\n",
       "      <th>v_SeniorCitizen</th>\n",
       "      <th>Partner</th>\n",
       "      <th>v_Dependents</th>\n",
       "      <th>c_tenure</th>\n",
       "      <th>v_PhoneService</th>\n",
       "      <th>v_MultipleLines</th>\n",
       "      <th>v_InternetService</th>\n",
       "      <th>v_OnlineSecurity</th>\n",
       "      <th>v_OnlineBackup</th>\n",
       "      <th>v_DeviceProtection</th>\n",
       "      <th>v_TechSupport</th>\n",
       "      <th>v_StreamingTV</th>\n",
       "      <th>v_StreamingMovies</th>\n",
       "      <th>v_Contract</th>\n",
       "      <th>v_PaperlessBilling</th>\n",
       "      <th>v_PaymentMethod</th>\n",
       "      <th>c_MonthlyCharges</th>\n",
       "      <th>c_TotalCharges</th>\n",
       "      <th>tgt_Churn</th>\n",
       "    </tr>\n",
       "  </thead>\n",
       "  <tbody>\n",
       "    <tr>\n",
       "      <th>0</th>\n",
       "      <td>7590-VHVEG</td>\n",
       "      <td>Female</td>\n",
       "      <td>0</td>\n",
       "      <td>Yes</td>\n",
       "      <td>No</td>\n",
       "      <td>1</td>\n",
       "      <td>No</td>\n",
       "      <td>No phone service</td>\n",
       "      <td>DSL</td>\n",
       "      <td>No</td>\n",
       "      <td>Yes</td>\n",
       "      <td>No</td>\n",
       "      <td>No</td>\n",
       "      <td>No</td>\n",
       "      <td>No</td>\n",
       "      <td>Month-to-month</td>\n",
       "      <td>Yes</td>\n",
       "      <td>Electronic check</td>\n",
       "      <td>29.85</td>\n",
       "      <td>29.85</td>\n",
       "      <td>1</td>\n",
       "    </tr>\n",
       "    <tr>\n",
       "      <th>1</th>\n",
       "      <td>5575-GNVDE</td>\n",
       "      <td>Male</td>\n",
       "      <td>0</td>\n",
       "      <td>No</td>\n",
       "      <td>No</td>\n",
       "      <td>34</td>\n",
       "      <td>Yes</td>\n",
       "      <td>No</td>\n",
       "      <td>DSL</td>\n",
       "      <td>Yes</td>\n",
       "      <td>No</td>\n",
       "      <td>Yes</td>\n",
       "      <td>No</td>\n",
       "      <td>No</td>\n",
       "      <td>No</td>\n",
       "      <td>One year</td>\n",
       "      <td>No</td>\n",
       "      <td>Mailed check</td>\n",
       "      <td>56.95</td>\n",
       "      <td>1889.50</td>\n",
       "      <td>1</td>\n",
       "    </tr>\n",
       "    <tr>\n",
       "      <th>2</th>\n",
       "      <td>3668-QPYBK</td>\n",
       "      <td>Male</td>\n",
       "      <td>0</td>\n",
       "      <td>No</td>\n",
       "      <td>No</td>\n",
       "      <td>2</td>\n",
       "      <td>Yes</td>\n",
       "      <td>No</td>\n",
       "      <td>DSL</td>\n",
       "      <td>Yes</td>\n",
       "      <td>Yes</td>\n",
       "      <td>No</td>\n",
       "      <td>No</td>\n",
       "      <td>No</td>\n",
       "      <td>No</td>\n",
       "      <td>Month-to-month</td>\n",
       "      <td>Yes</td>\n",
       "      <td>Mailed check</td>\n",
       "      <td>53.85</td>\n",
       "      <td>108.15</td>\n",
       "      <td>0</td>\n",
       "    </tr>\n",
       "    <tr>\n",
       "      <th>3</th>\n",
       "      <td>7795-CFOCW</td>\n",
       "      <td>Male</td>\n",
       "      <td>0</td>\n",
       "      <td>No</td>\n",
       "      <td>No</td>\n",
       "      <td>45</td>\n",
       "      <td>No</td>\n",
       "      <td>No phone service</td>\n",
       "      <td>DSL</td>\n",
       "      <td>Yes</td>\n",
       "      <td>No</td>\n",
       "      <td>Yes</td>\n",
       "      <td>Yes</td>\n",
       "      <td>No</td>\n",
       "      <td>No</td>\n",
       "      <td>One year</td>\n",
       "      <td>No</td>\n",
       "      <td>Bank transfer (automatic)</td>\n",
       "      <td>42.30</td>\n",
       "      <td>1840.75</td>\n",
       "      <td>1</td>\n",
       "    </tr>\n",
       "    <tr>\n",
       "      <th>4</th>\n",
       "      <td>9237-HQITU</td>\n",
       "      <td>Female</td>\n",
       "      <td>0</td>\n",
       "      <td>No</td>\n",
       "      <td>No</td>\n",
       "      <td>2</td>\n",
       "      <td>Yes</td>\n",
       "      <td>No</td>\n",
       "      <td>Fiber optic</td>\n",
       "      <td>No</td>\n",
       "      <td>No</td>\n",
       "      <td>No</td>\n",
       "      <td>No</td>\n",
       "      <td>No</td>\n",
       "      <td>No</td>\n",
       "      <td>Month-to-month</td>\n",
       "      <td>Yes</td>\n",
       "      <td>Electronic check</td>\n",
       "      <td>70.70</td>\n",
       "      <td>151.65</td>\n",
       "      <td>0</td>\n",
       "    </tr>\n",
       "  </tbody>\n",
       "</table>\n",
       "</div>"
      ],
      "text/plain": [
       "  v_customerID v_gender  v_SeniorCitizen Partner v_Dependents  c_tenure  \\\n",
       "0   7590-VHVEG   Female                0     Yes           No         1   \n",
       "1   5575-GNVDE     Male                0      No           No        34   \n",
       "2   3668-QPYBK     Male                0      No           No         2   \n",
       "3   7795-CFOCW     Male                0      No           No        45   \n",
       "4   9237-HQITU   Female                0      No           No         2   \n",
       "\n",
       "  v_PhoneService   v_MultipleLines v_InternetService v_OnlineSecurity  \\\n",
       "0             No  No phone service               DSL               No   \n",
       "1            Yes                No               DSL              Yes   \n",
       "2            Yes                No               DSL              Yes   \n",
       "3             No  No phone service               DSL              Yes   \n",
       "4            Yes                No       Fiber optic               No   \n",
       "\n",
       "  v_OnlineBackup v_DeviceProtection v_TechSupport v_StreamingTV  \\\n",
       "0            Yes                 No            No            No   \n",
       "1             No                Yes            No            No   \n",
       "2            Yes                 No            No            No   \n",
       "3             No                Yes           Yes            No   \n",
       "4             No                 No            No            No   \n",
       "\n",
       "  v_StreamingMovies      v_Contract v_PaperlessBilling  \\\n",
       "0                No  Month-to-month                Yes   \n",
       "1                No        One year                 No   \n",
       "2                No  Month-to-month                Yes   \n",
       "3                No        One year                 No   \n",
       "4                No  Month-to-month                Yes   \n",
       "\n",
       "             v_PaymentMethod  c_MonthlyCharges  c_TotalCharges  tgt_Churn  \n",
       "0           Electronic check             29.85           29.85          1  \n",
       "1               Mailed check             56.95         1889.50          1  \n",
       "2               Mailed check             53.85          108.15          0  \n",
       "3  Bank transfer (automatic)             42.30         1840.75          1  \n",
       "4           Electronic check             70.70          151.65          0  "
      ]
     },
     "execution_count": 21,
     "metadata": {},
     "output_type": "execute_result"
    }
   ],
   "source": [
    "df.head()"
   ]
  },
  {
   "cell_type": "code",
   "execution_count": 20,
   "id": "f42f26c6",
   "metadata": {
    "ExecuteTime": {
     "end_time": "2022-06-03T01:44:29.303667Z",
     "start_time": "2022-06-03T01:44:29.297514Z"
    }
   },
   "outputs": [],
   "source": [
    "df[\"tgt_Churn\"]=df[\"tgt_Churn\"].replace({\"No\":1,\"Yes\":0})"
   ]
  },
  {
   "cell_type": "code",
   "execution_count": 10,
   "id": "1baeba53",
   "metadata": {
    "ExecuteTime": {
     "end_time": "2022-06-03T01:36:22.024695Z",
     "start_time": "2022-06-03T01:36:22.021186Z"
    }
   },
   "outputs": [],
   "source": [
    "df['c_MonthlyCharges'] = df['c_MonthlyCharges'].astype('float64')"
   ]
  },
  {
   "cell_type": "code",
   "execution_count": 11,
   "id": "f54900e0",
   "metadata": {
    "ExecuteTime": {
     "end_time": "2022-06-03T01:37:13.066584Z",
     "start_time": "2022-06-03T01:37:13.064038Z"
    }
   },
   "outputs": [],
   "source": [
    "from sklearn.tree import DecisionTreeClassifier"
   ]
  },
  {
   "cell_type": "code",
   "execution_count": 25,
   "id": "f9bb0b08",
   "metadata": {
    "ExecuteTime": {
     "end_time": "2022-06-03T01:47:16.428270Z",
     "start_time": "2022-06-03T01:47:16.425118Z"
    }
   },
   "outputs": [],
   "source": [
    "dt = DecisionTreeClassifier(max_depth=11, min_samples_leaf=0.08, max_features=1, random_state=0)"
   ]
  },
  {
   "cell_type": "code",
   "execution_count": 30,
   "id": "25bc60a4",
   "metadata": {
    "ExecuteTime": {
     "end_time": "2022-06-03T01:47:56.082695Z",
     "start_time": "2022-06-03T01:47:56.079777Z"
    }
   },
   "outputs": [],
   "source": [
    "X = df['c_MonthlyCharges']"
   ]
  },
  {
   "cell_type": "code",
   "execution_count": 31,
   "id": "e874559d",
   "metadata": {
    "ExecuteTime": {
     "end_time": "2022-06-03T01:47:56.734081Z",
     "start_time": "2022-06-03T01:47:56.731520Z"
    }
   },
   "outputs": [],
   "source": [
    "y = df['tgt_Churn']"
   ]
  },
  {
   "cell_type": "code",
   "execution_count": 32,
   "id": "453cb16e",
   "metadata": {
    "ExecuteTime": {
     "end_time": "2022-06-03T01:47:57.036004Z",
     "start_time": "2022-06-03T01:47:57.028127Z"
    }
   },
   "outputs": [
    {
     "data": {
      "text/plain": [
       "1    5163\n",
       "0    1869\n",
       "Name: tgt_Churn, dtype: int64"
      ]
     },
     "execution_count": 32,
     "metadata": {},
     "output_type": "execute_result"
    }
   ],
   "source": [
    "y.value_counts()"
   ]
  },
  {
   "cell_type": "code",
   "execution_count": null,
   "id": "3da0845a",
   "metadata": {
    "ExecuteTime": {
     "end_time": "2022-06-03T01:47:57.671473Z",
     "start_time": "2022-06-03T01:47:57.653190Z"
    }
   },
   "outputs": [],
   "source": []
  },
  {
   "cell_type": "code",
   "execution_count": null,
   "id": "7d9690bb",
   "metadata": {},
   "outputs": [],
   "source": []
  }
 ],
 "metadata": {
  "kernelspec": {
   "display_name": "dss",
   "language": "python",
   "name": "dss"
  },
  "language_info": {
   "codemirror_mode": {
    "name": "ipython",
    "version": 3
   },
   "file_extension": ".py",
   "mimetype": "text/x-python",
   "name": "python",
   "nbconvert_exporter": "python",
   "pygments_lexer": "ipython3",
   "version": "3.8.10"
  },
  "latex_envs": {
   "LaTeX_envs_menu_present": true,
   "autoclose": false,
   "autocomplete": true,
   "bibliofile": "biblio.bib",
   "cite_by": "apalike",
   "current_citInitial": 1,
   "eqLabelWithNumbers": true,
   "eqNumInitial": 1,
   "hotkeys": {
    "equation": "Ctrl-E",
    "itemize": "Ctrl-I"
   },
   "labels_anchors": false,
   "latex_user_defs": false,
   "report_style_numbering": false,
   "user_envs_cfg": false
  },
  "varInspector": {
   "cols": {
    "lenName": 16,
    "lenType": 16,
    "lenVar": 40
   },
   "kernels_config": {
    "python": {
     "delete_cmd_postfix": "",
     "delete_cmd_prefix": "del ",
     "library": "var_list.py",
     "varRefreshCmd": "print(var_dic_list())"
    },
    "r": {
     "delete_cmd_postfix": ") ",
     "delete_cmd_prefix": "rm(",
     "library": "var_list.r",
     "varRefreshCmd": "cat(var_dic_list()) "
    }
   },
   "types_to_exclude": [
    "module",
    "function",
    "builtin_function_or_method",
    "instance",
    "_Feature"
   ],
   "window_display": true
  }
 },
 "nbformat": 4,
 "nbformat_minor": 5
}
