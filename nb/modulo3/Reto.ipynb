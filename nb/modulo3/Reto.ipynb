{
 "cells": [
  {
   "cell_type": "markdown",
   "id": "bc4d3b31",
   "metadata": {},
   "source": [
    "# PRÁCTICA RETO:\n",
    "## POR ALBERTO PICO LARA Y KARLA ALEJANDRA MONTER BENITEZ."
   ]
  },
  {
   "cell_type": "code",
   "execution_count": 1,
   "id": "7a1b4c27",
   "metadata": {
    "ExecuteTime": {
     "end_time": "2022-08-27T14:24:41.440840Z",
     "start_time": "2022-08-27T14:24:31.567855Z"
    }
   },
   "outputs": [],
   "source": [
    "import pandas as pd\n",
    "import numpy as np\n",
    "import os\n",
    "import warnings\n",
    "warnings.filterwarnings(\"ignore\")\n",
    "pd.set_option('display.max_columns', 500)\n",
    "\n",
    "data_path = '../../data/modulo3/Citibike NY/'\n",
    "frames = [f for f in os.listdir(data_path) if '.csv' in f]\n",
    "df = pd.DataFrame()\n",
    "\n",
    "for f in frames:\n",
    "    df = pd.concat([df, pd.read_csv(data_path + f)])"
   ]
  },
  {
   "cell_type": "code",
   "execution_count": 2,
   "id": "c18b15ab",
   "metadata": {
    "ExecuteTime": {
     "end_time": "2022-08-27T14:24:41.983503Z",
     "start_time": "2022-08-27T14:24:41.442247Z"
    }
   },
   "outputs": [],
   "source": [
    "tr = df[['start station id', 'start station name', 'start station latitude', 'start station longitude', 'tripduration']].copy()\n",
    "tr.columns = ['id', 'name', 'slat', 'slong', 'trip_d']"
   ]
  },
  {
   "cell_type": "code",
   "execution_count": 3,
   "id": "483ede89",
   "metadata": {
    "ExecuteTime": {
     "end_time": "2022-08-27T14:24:42.249591Z",
     "start_time": "2022-08-27T14:24:41.985681Z"
    }
   },
   "outputs": [],
   "source": [
    "stations = (tr[[c for c in tr.columns if c != 'id']]\n",
    "            .groupby('name').agg({'slat':pd.Series.mode,\n",
    "                                  'slong':pd.Series.mode}))"
   ]
  },
  {
   "cell_type": "code",
   "execution_count": 4,
   "id": "aa2cad92",
   "metadata": {
    "ExecuteTime": {
     "end_time": "2022-08-27T14:24:42.268173Z",
     "start_time": "2022-08-27T14:24:42.251074Z"
    }
   },
   "outputs": [
    {
     "data": {
      "text/html": [
       "<div>\n",
       "<style scoped>\n",
       "    .dataframe tbody tr th:only-of-type {\n",
       "        vertical-align: middle;\n",
       "    }\n",
       "\n",
       "    .dataframe tbody tr th {\n",
       "        vertical-align: top;\n",
       "    }\n",
       "\n",
       "    .dataframe thead th {\n",
       "        text-align: right;\n",
       "    }\n",
       "</style>\n",
       "<table border=\"1\" class=\"dataframe\">\n",
       "  <thead>\n",
       "    <tr style=\"text-align: right;\">\n",
       "      <th></th>\n",
       "      <th>slat</th>\n",
       "      <th>slong</th>\n",
       "    </tr>\n",
       "    <tr>\n",
       "      <th>name</th>\n",
       "      <th></th>\n",
       "      <th></th>\n",
       "    </tr>\n",
       "  </thead>\n",
       "  <tbody>\n",
       "    <tr>\n",
       "      <th>5 Corners Library</th>\n",
       "      <td>40.734961</td>\n",
       "      <td>-74.059503</td>\n",
       "    </tr>\n",
       "    <tr>\n",
       "      <th>Astor Place</th>\n",
       "      <td>40.719282</td>\n",
       "      <td>-74.071262</td>\n",
       "    </tr>\n",
       "    <tr>\n",
       "      <th>Baldwin at Montgomery</th>\n",
       "      <td>40.723659</td>\n",
       "      <td>-74.064194</td>\n",
       "    </tr>\n",
       "    <tr>\n",
       "      <th>Bergen Ave</th>\n",
       "      <td>40.722104</td>\n",
       "      <td>-74.071455</td>\n",
       "    </tr>\n",
       "    <tr>\n",
       "      <th>Brunswick &amp; 6th</th>\n",
       "      <td>40.726012</td>\n",
       "      <td>-74.050389</td>\n",
       "    </tr>\n",
       "  </tbody>\n",
       "</table>\n",
       "</div>"
      ],
      "text/plain": [
       "                            slat      slong\n",
       "name                                       \n",
       "5 Corners Library      40.734961 -74.059503\n",
       "Astor Place            40.719282 -74.071262\n",
       "Baldwin at Montgomery  40.723659 -74.064194\n",
       "Bergen Ave             40.722104 -74.071455\n",
       "Brunswick & 6th        40.726012 -74.050389"
      ]
     },
     "execution_count": 4,
     "metadata": {},
     "output_type": "execute_result"
    }
   ],
   "source": [
    "stations.head(5)"
   ]
  },
  {
   "cell_type": "code",
   "execution_count": 5,
   "id": "af428e21",
   "metadata": {
    "ExecuteTime": {
     "end_time": "2022-08-27T14:24:42.276101Z",
     "start_time": "2022-08-27T14:24:42.270306Z"
    }
   },
   "outputs": [],
   "source": [
    "stations.reset_index(inplace=True, level=['name'])"
   ]
  },
  {
   "cell_type": "code",
   "execution_count": 6,
   "id": "f574a00d",
   "metadata": {
    "ExecuteTime": {
     "end_time": "2022-08-27T14:24:42.287367Z",
     "start_time": "2022-08-27T14:24:42.277857Z"
    }
   },
   "outputs": [
    {
     "data": {
      "text/html": [
       "<div>\n",
       "<style scoped>\n",
       "    .dataframe tbody tr th:only-of-type {\n",
       "        vertical-align: middle;\n",
       "    }\n",
       "\n",
       "    .dataframe tbody tr th {\n",
       "        vertical-align: top;\n",
       "    }\n",
       "\n",
       "    .dataframe thead th {\n",
       "        text-align: right;\n",
       "    }\n",
       "</style>\n",
       "<table border=\"1\" class=\"dataframe\">\n",
       "  <thead>\n",
       "    <tr style=\"text-align: right;\">\n",
       "      <th></th>\n",
       "      <th>name</th>\n",
       "      <th>slat</th>\n",
       "      <th>slong</th>\n",
       "    </tr>\n",
       "  </thead>\n",
       "  <tbody>\n",
       "    <tr>\n",
       "      <th>0</th>\n",
       "      <td>5 Corners Library</td>\n",
       "      <td>40.734961</td>\n",
       "      <td>-74.059503</td>\n",
       "    </tr>\n",
       "    <tr>\n",
       "      <th>1</th>\n",
       "      <td>Astor Place</td>\n",
       "      <td>40.719282</td>\n",
       "      <td>-74.071262</td>\n",
       "    </tr>\n",
       "    <tr>\n",
       "      <th>2</th>\n",
       "      <td>Baldwin at Montgomery</td>\n",
       "      <td>40.723659</td>\n",
       "      <td>-74.064194</td>\n",
       "    </tr>\n",
       "    <tr>\n",
       "      <th>3</th>\n",
       "      <td>Bergen Ave</td>\n",
       "      <td>40.722104</td>\n",
       "      <td>-74.071455</td>\n",
       "    </tr>\n",
       "    <tr>\n",
       "      <th>4</th>\n",
       "      <td>Brunswick &amp; 6th</td>\n",
       "      <td>40.726012</td>\n",
       "      <td>-74.050389</td>\n",
       "    </tr>\n",
       "  </tbody>\n",
       "</table>\n",
       "</div>"
      ],
      "text/plain": [
       "                    name       slat      slong\n",
       "0      5 Corners Library  40.734961 -74.059503\n",
       "1            Astor Place  40.719282 -74.071262\n",
       "2  Baldwin at Montgomery  40.723659 -74.064194\n",
       "3             Bergen Ave  40.722104 -74.071455\n",
       "4        Brunswick & 6th  40.726012 -74.050389"
      ]
     },
     "execution_count": 6,
     "metadata": {},
     "output_type": "execute_result"
    }
   ],
   "source": [
    "stations.head(5)"
   ]
  },
  {
   "cell_type": "code",
   "execution_count": 7,
   "id": "a26a4243",
   "metadata": {
    "ExecuteTime": {
     "end_time": "2022-08-27T14:24:42.293648Z",
     "start_time": "2022-08-27T14:24:42.289423Z"
    }
   },
   "outputs": [],
   "source": [
    "def media(x:list):\n",
    "    return(sum(x)/len(x))"
   ]
  },
  {
   "cell_type": "code",
   "execution_count": 8,
   "id": "4b87191d",
   "metadata": {
    "ExecuteTime": {
     "end_time": "2022-08-27T14:24:42.301202Z",
     "start_time": "2022-08-27T14:24:42.297299Z"
    }
   },
   "outputs": [],
   "source": [
    "def mapeo(S:list, m:int, n:int, f=media):\n",
    "    Z = []\n",
    "    for i in range(n):\n",
    "        Z.append(f([S[j][i] for j in range(m)]))\n",
    "    return(Z)"
   ]
  },
  {
   "cell_type": "code",
   "execution_count": 9,
   "id": "55fdd5d1",
   "metadata": {
    "ExecuteTime": {
     "end_time": "2022-08-27T14:24:42.314955Z",
     "start_time": "2022-08-27T14:24:42.303346Z"
    }
   },
   "outputs": [],
   "source": [
    "# Función de la distancia. \n",
    "\n",
    "from math import radians, cos, sin, asin, sqrt\n",
    "import pandas as pd\n",
    "\n",
    "def lat_long_to_distance(latitudes_1, latitudes_2, longitudes_1, longitudes_2,\n",
    "                        units = 'Kilometers', vector=False):\n",
    "    \n",
    "    '''This function obtains the distance between two Earth points using Haversine\n",
    "        formula it has as inputs the series of data.\n",
    "        \n",
    "        Args:\n",
    "        1. latitudes_1: an array containing the start latitudes.\n",
    "        2. latitudes_2: an array containing the end latitudes.\n",
    "        3. longitudes_1: an array containing the start longitudes.\n",
    "        4. longitudes_2: an array containing the end longitudes.\n",
    "        5. units: the unit for the result. Possible values 'Kilometers' 'Miles'\n",
    "        \n",
    "        Returns:\n",
    "        1. A pandas series with the distance in kilometers.'''\n",
    "    \n",
    "    if vector:\n",
    "        la1 = len(latitudes_1)\n",
    "        la2 = len(latitudes_2)\n",
    "        lg1 = len(longitudes_1)\n",
    "        lg2 = len(longitudes_2)\n",
    "    else:\n",
    "        la1=la2=lg1=lg2=0\n",
    "    \n",
    "    if (la1 == la2 == lg1 == lg2):\n",
    "        \n",
    "        #Radians conversion:\n",
    "        lat1 = pd.Series(latitudes_1).map(radians)\n",
    "        lat2 = pd.Series(latitudes_2).map(radians)\n",
    "        lon1 = pd.Series(longitudes_1).map(radians)\n",
    "        lon2 = pd.Series(longitudes_2).map(radians)\n",
    "        \n",
    "        #Haversine:\n",
    "        dlon = lon2 - lon1\n",
    "        dlat = lat2 - lat1\n",
    "        #a = sin(dlat/2)**2 + cos(lat1) * cos(lat2) * sin(dlon/2)**2\n",
    "        a = (dlat.map(lambda x:sin(x/2)**2) + lat1.map(cos) * lat2.map(cos) * \n",
    "             dlon.map(lambda x:sin(x/2)**2))\n",
    "        \n",
    "        #c = 2 * asin(sqrt(a))\n",
    "        c = a.map(sqrt).map(asin) * 2\n",
    "        \n",
    "        #Earth Radius:\n",
    "        if units == 'Kilometers':\n",
    "            r = 6371\n",
    "        elif units == 'Miles':\n",
    "            r = 3956\n",
    "        else: return('Invalid units.')\n",
    "        \n",
    "        if vector:return(c*r)\n",
    "        else:\n",
    "            result = c*r\n",
    "            return(result[0])\n",
    "        \n",
    "    else:\n",
    "        \n",
    "        print(la1, la2, lg1, lg2)\n",
    "        return('Invalid dimensions.')"
   ]
  },
  {
   "cell_type": "code",
   "execution_count": 80,
   "id": "1715f316",
   "metadata": {
    "ExecuteTime": {
     "end_time": "2022-08-27T14:40:25.890102Z",
     "start_time": "2022-08-27T14:40:25.883790Z"
    }
   },
   "outputs": [
    {
     "name": "stdout",
     "output_type": "stream",
     "text": [
      "CPU times: user 229 µs, sys: 16 µs, total: 245 µs\n",
      "Wall time: 220 µs\n"
     ]
    }
   ],
   "source": [
    "%%time\n",
    "import itertools\n",
    "combinaciones = list(itertools.combinations(np.arange(0, 53), 2))"
   ]
  },
  {
   "cell_type": "code",
   "execution_count": 82,
   "id": "255e9788",
   "metadata": {
    "ExecuteTime": {
     "end_time": "2022-08-27T14:40:36.938321Z",
     "start_time": "2022-08-27T14:40:33.538473Z"
    }
   },
   "outputs": [
    {
     "name": "stdout",
     "output_type": "stream",
     "text": [
      "CPU times: user 3.39 s, sys: 866 µs, total: 3.39 s\n",
      "Wall time: 3.4 s\n"
     ]
    }
   ],
   "source": [
    "%%time\n",
    "names = list(stations['name'])\n",
    "distances = []\n",
    "for i in combinaciones:\n",
    "    v1 = list(stations.loc[i[0], ['slat', 'slong']])\n",
    "    v2 = list(stations.loc[i[1], ['slat', 'slong']])\n",
    "    distances.append(    lat_long_to_distance(v1[0], v2[0], v1[1], v2[1]))"
   ]
  },
  {
   "cell_type": "code",
   "execution_count": 83,
   "id": "9341c97b",
   "metadata": {
    "ExecuteTime": {
     "end_time": "2022-08-27T14:40:37.729125Z",
     "start_time": "2022-08-27T14:40:37.709040Z"
    }
   },
   "outputs": [
    {
     "name": "stdout",
     "output_type": "stream",
     "text": [
      "CPU times: user 13.9 ms, sys: 45 µs, total: 13.9 ms\n",
      "Wall time: 13.3 ms\n"
     ]
    }
   ],
   "source": [
    "%%time\n",
    "names = pd.DataFrame(names, columns =['station_name'])\n",
    "com = pd.DataFrame(combinaciones, columns =['index_1', 'index_2'])\n",
    "ke = com.index[com['index_1']].tolist()\n",
    "ke2 = com.index[com['index_2']].tolist()\n",
    "names = pd.DataFrame(names, columns =['station_name'])\n",
    "mmm = []\n",
    "for i in ke:\n",
    "    mmm.append(names['station_name'][i])"
   ]
  },
  {
   "cell_type": "code",
   "execution_count": 84,
   "id": "e1768d5a",
   "metadata": {
    "ExecuteTime": {
     "end_time": "2022-08-27T14:40:41.081997Z",
     "start_time": "2022-08-27T14:40:41.060363Z"
    }
   },
   "outputs": [
    {
     "name": "stdout",
     "output_type": "stream",
     "text": [
      "CPU times: user 13.9 ms, sys: 1.12 ms, total: 15.1 ms\n",
      "Wall time: 13.7 ms\n"
     ]
    },
    {
     "data": {
      "text/plain": [
       "array([[8, 14, 'Columbus Dr at Exchange Pl', 'Exchange Place',\n",
       "        'Columbus Dr at Exchange Pl,Exchange Place', 0.0882636199205624]],\n",
       "      dtype=object)"
      ]
     },
     "execution_count": 84,
     "metadata": {},
     "output_type": "execute_result"
    }
   ],
   "source": [
    "%%time\n",
    "mmm2 = []\n",
    "for i in ke2:\n",
    "    mmm2.append(names['station_name'][i])\n",
    "com['name_1'] = mmm\n",
    "com['name_2'] = mmm2\n",
    "com['Vectores'] = (com.name_1.astype(str) + ',' + com.name_2.astype(str))\n",
    "com['distances'] = distances\n",
    "com.loc[com['distances'] == com['distances'].min()].values"
   ]
  },
  {
   "cell_type": "code",
   "execution_count": 85,
   "id": "d8a27190",
   "metadata": {
    "ExecuteTime": {
     "end_time": "2022-08-27T14:40:44.787908Z",
     "start_time": "2022-08-27T14:40:44.776190Z"
    }
   },
   "outputs": [
    {
     "data": {
      "text/html": [
       "<div>\n",
       "<style scoped>\n",
       "    .dataframe tbody tr th:only-of-type {\n",
       "        vertical-align: middle;\n",
       "    }\n",
       "\n",
       "    .dataframe tbody tr th {\n",
       "        vertical-align: top;\n",
       "    }\n",
       "\n",
       "    .dataframe thead th {\n",
       "        text-align: right;\n",
       "    }\n",
       "</style>\n",
       "<table border=\"1\" class=\"dataframe\">\n",
       "  <thead>\n",
       "    <tr style=\"text-align: right;\">\n",
       "      <th></th>\n",
       "      <th>index_1</th>\n",
       "      <th>index_2</th>\n",
       "      <th>name_1</th>\n",
       "      <th>name_2</th>\n",
       "      <th>Vectores</th>\n",
       "      <th>distances</th>\n",
       "    </tr>\n",
       "  </thead>\n",
       "  <tbody>\n",
       "    <tr>\n",
       "      <th>0</th>\n",
       "      <td>0</td>\n",
       "      <td>1</td>\n",
       "      <td>5 Corners Library</td>\n",
       "      <td>Astor Place</td>\n",
       "      <td>5 Corners Library,Astor Place</td>\n",
       "      <td>2.005315</td>\n",
       "    </tr>\n",
       "    <tr>\n",
       "      <th>1</th>\n",
       "      <td>0</td>\n",
       "      <td>2</td>\n",
       "      <td>5 Corners Library</td>\n",
       "      <td>Baldwin at Montgomery</td>\n",
       "      <td>5 Corners Library,Baldwin at Montgomery</td>\n",
       "      <td>1.317442</td>\n",
       "    </tr>\n",
       "    <tr>\n",
       "      <th>2</th>\n",
       "      <td>0</td>\n",
       "      <td>3</td>\n",
       "      <td>5 Corners Library</td>\n",
       "      <td>Bergen Ave</td>\n",
       "      <td>5 Corners Library,Bergen Ave</td>\n",
       "      <td>1.748778</td>\n",
       "    </tr>\n",
       "    <tr>\n",
       "      <th>3</th>\n",
       "      <td>0</td>\n",
       "      <td>4</td>\n",
       "      <td>5 Corners Library</td>\n",
       "      <td>Brunswick &amp; 6th</td>\n",
       "      <td>5 Corners Library,Brunswick &amp; 6th</td>\n",
       "      <td>1.256998</td>\n",
       "    </tr>\n",
       "    <tr>\n",
       "      <th>4</th>\n",
       "      <td>0</td>\n",
       "      <td>5</td>\n",
       "      <td>5 Corners Library</td>\n",
       "      <td>Brunswick St</td>\n",
       "      <td>5 Corners Library,Brunswick St</td>\n",
       "      <td>1.411998</td>\n",
       "    </tr>\n",
       "    <tr>\n",
       "      <th>...</th>\n",
       "      <td>...</td>\n",
       "      <td>...</td>\n",
       "      <td>...</td>\n",
       "      <td>...</td>\n",
       "      <td>...</td>\n",
       "      <td>...</td>\n",
       "    </tr>\n",
       "    <tr>\n",
       "      <th>1373</th>\n",
       "      <td>49</td>\n",
       "      <td>51</td>\n",
       "      <td>Van Vorst Park</td>\n",
       "      <td>Washington St</td>\n",
       "      <td>Van Vorst Park,Washington St</td>\n",
       "      <td>1.217123</td>\n",
       "    </tr>\n",
       "    <tr>\n",
       "      <th>1374</th>\n",
       "      <td>49</td>\n",
       "      <td>52</td>\n",
       "      <td>Van Vorst Park</td>\n",
       "      <td>York St</td>\n",
       "      <td>Van Vorst Park,York St</td>\n",
       "      <td>0.605005</td>\n",
       "    </tr>\n",
       "    <tr>\n",
       "      <th>1375</th>\n",
       "      <td>50</td>\n",
       "      <td>51</td>\n",
       "      <td>Warren St</td>\n",
       "      <td>Washington St</td>\n",
       "      <td>Warren St,Washington St</td>\n",
       "      <td>0.413682</td>\n",
       "    </tr>\n",
       "    <tr>\n",
       "      <th>1376</th>\n",
       "      <td>50</td>\n",
       "      <td>52</td>\n",
       "      <td>Warren St</td>\n",
       "      <td>York St</td>\n",
       "      <td>Warren St,York St</td>\n",
       "      <td>0.573888</td>\n",
       "    </tr>\n",
       "    <tr>\n",
       "      <th>1377</th>\n",
       "      <td>51</td>\n",
       "      <td>52</td>\n",
       "      <td>Washington St</td>\n",
       "      <td>York St</td>\n",
       "      <td>Washington St,York St</td>\n",
       "      <td>0.986497</td>\n",
       "    </tr>\n",
       "  </tbody>\n",
       "</table>\n",
       "<p>1378 rows × 6 columns</p>\n",
       "</div>"
      ],
      "text/plain": [
       "      index_1  index_2             name_1                 name_2  \\\n",
       "0           0        1  5 Corners Library            Astor Place   \n",
       "1           0        2  5 Corners Library  Baldwin at Montgomery   \n",
       "2           0        3  5 Corners Library             Bergen Ave   \n",
       "3           0        4  5 Corners Library        Brunswick & 6th   \n",
       "4           0        5  5 Corners Library           Brunswick St   \n",
       "...       ...      ...                ...                    ...   \n",
       "1373       49       51     Van Vorst Park          Washington St   \n",
       "1374       49       52     Van Vorst Park                York St   \n",
       "1375       50       51          Warren St          Washington St   \n",
       "1376       50       52          Warren St                York St   \n",
       "1377       51       52      Washington St                York St   \n",
       "\n",
       "                                     Vectores  distances  \n",
       "0               5 Corners Library,Astor Place   2.005315  \n",
       "1     5 Corners Library,Baldwin at Montgomery   1.317442  \n",
       "2                5 Corners Library,Bergen Ave   1.748778  \n",
       "3           5 Corners Library,Brunswick & 6th   1.256998  \n",
       "4              5 Corners Library,Brunswick St   1.411998  \n",
       "...                                       ...        ...  \n",
       "1373             Van Vorst Park,Washington St   1.217123  \n",
       "1374                   Van Vorst Park,York St   0.605005  \n",
       "1375                  Warren St,Washington St   0.413682  \n",
       "1376                        Warren St,York St   0.573888  \n",
       "1377                    Washington St,York St   0.986497  \n",
       "\n",
       "[1378 rows x 6 columns]"
      ]
     },
     "execution_count": 85,
     "metadata": {},
     "output_type": "execute_result"
    }
   ],
   "source": [
    "com"
   ]
  },
  {
   "cell_type": "markdown",
   "id": "93e5f764",
   "metadata": {
    "ExecuteTime": {
     "end_time": "2022-08-27T00:38:14.353311Z",
     "start_time": "2022-08-27T00:38:14.349430Z"
    }
   },
   "source": [
    "1. Cada observación es un cluster - 53 clusters\n",
    "2. Encontrar los más cercanos, formar un cluster entre ellos - 52 clusters\n",
    "3. Encontrar el cluster más cercano al cluster del paso 2 - 51 clusters\n",
    "4. Repetir paso 3 hasta que el conteo de clusters = 1"
   ]
  },
  {
   "cell_type": "code",
   "execution_count": 186,
   "id": "f0c4ece0",
   "metadata": {
    "ExecuteTime": {
     "end_time": "2022-08-27T15:14:29.996697Z",
     "start_time": "2022-08-27T15:14:29.993035Z"
    }
   },
   "outputs": [],
   "source": [
    "cluster = stations.copy()"
   ]
  },
  {
   "cell_type": "code",
   "execution_count": 187,
   "id": "48c8c991",
   "metadata": {
    "ExecuteTime": {
     "end_time": "2022-08-27T15:14:30.500089Z",
     "start_time": "2022-08-27T15:14:30.496113Z"
    }
   },
   "outputs": [
    {
     "data": {
      "text/plain": [
       "53"
      ]
     },
     "execution_count": 187,
     "metadata": {},
     "output_type": "execute_result"
    }
   ],
   "source": [
    "# Cada observación es un cluster - 53 clusters\n",
    "stations.shape[0]"
   ]
  },
  {
   "cell_type": "code",
   "execution_count": 188,
   "id": "9733d550",
   "metadata": {
    "ExecuteTime": {
     "end_time": "2022-08-27T15:14:31.007908Z",
     "start_time": "2022-08-27T15:14:30.997914Z"
    }
   },
   "outputs": [
    {
     "name": "stdout",
     "output_type": "stream",
     "text": [
      "CPU times: user 3.26 ms, sys: 10 µs, total: 3.27 ms\n",
      "Wall time: 3.14 ms\n"
     ]
    }
   ],
   "source": [
    "%%time\n",
    "# 2. Encontrar los más cercanos, formar un cluster entre ellos - 52 cluster\n",
    "minimo = com.loc[com['distances'] == com['distances'].min()]\n",
    "v = minimo.values\n",
    "index_1 = v[0][0]\n",
    "index_2 = v[0][1]\n",
    "cluster0 = mapeo([list(stations.loc[index_1, ['slat', 'slong']]) , list(stations.loc[index_2, ['slat', 'slong']])], 2, 2)"
   ]
  },
  {
   "cell_type": "code",
   "execution_count": 189,
   "id": "f805a57a",
   "metadata": {
    "ExecuteTime": {
     "end_time": "2022-08-27T15:14:31.496748Z",
     "start_time": "2022-08-27T15:14:31.491627Z"
    }
   },
   "outputs": [
    {
     "data": {
      "text/plain": [
       "[40.71655845, -74.0331344]"
      ]
     },
     "execution_count": 189,
     "metadata": {},
     "output_type": "execute_result"
    }
   ],
   "source": [
    "cluster0 "
   ]
  },
  {
   "cell_type": "code",
   "execution_count": 190,
   "id": "22f2144f",
   "metadata": {
    "ExecuteTime": {
     "end_time": "2022-08-27T15:14:32.018400Z",
     "start_time": "2022-08-27T15:14:32.013847Z"
    }
   },
   "outputs": [],
   "source": [
    "cluster.drop([index_1, index_2], inplace=True)"
   ]
  },
  {
   "cell_type": "code",
   "execution_count": 191,
   "id": "06380fa4",
   "metadata": {
    "ExecuteTime": {
     "end_time": "2022-08-27T15:14:32.564102Z",
     "start_time": "2022-08-27T15:14:32.559596Z"
    }
   },
   "outputs": [
    {
     "data": {
      "text/plain": [
       "(51, 3)"
      ]
     },
     "execution_count": 191,
     "metadata": {},
     "output_type": "execute_result"
    }
   ],
   "source": [
    "cluster.shape"
   ]
  },
  {
   "cell_type": "code",
   "execution_count": 192,
   "id": "ba066d57",
   "metadata": {
    "ExecuteTime": {
     "end_time": "2022-08-27T15:14:33.096556Z",
     "start_time": "2022-08-27T15:14:33.092677Z"
    }
   },
   "outputs": [],
   "source": [
    "cluster0.insert(0, 'c0')"
   ]
  },
  {
   "cell_type": "code",
   "execution_count": 193,
   "id": "0ef23043",
   "metadata": {
    "ExecuteTime": {
     "end_time": "2022-08-27T15:14:33.623773Z",
     "start_time": "2022-08-27T15:14:33.615071Z"
    }
   },
   "outputs": [
    {
     "data": {
      "text/plain": [
       "(52, 3)"
      ]
     },
     "execution_count": 193,
     "metadata": {},
     "output_type": "execute_result"
    }
   ],
   "source": [
    "cluster = cluster.append(pd.Series(cluster0, index = ['name', 'slat', 'slong']), ignore_index=True)\n",
    "cluster.shape # "
   ]
  },
  {
   "cell_type": "code",
   "execution_count": 194,
   "id": "3adffcc0",
   "metadata": {
    "ExecuteTime": {
     "end_time": "2022-08-27T15:14:34.289489Z",
     "start_time": "2022-08-27T15:14:34.147602Z"
    }
   },
   "outputs": [
    {
     "name": "stdout",
     "output_type": "stream",
     "text": [
      "CPU times: user 134 ms, sys: 5.09 ms, total: 139 ms\n",
      "Wall time: 136 ms\n"
     ]
    }
   ],
   "source": [
    "%%time\n",
    "# 3. Encontrar el cluster más cercano al cluster del paso 2 - 51 clusters\n",
    "distancias = []\n",
    "for i in list(cluster.index):\n",
    "    v = cluster.loc[[i], ['slat', 'slong']].values\n",
    "    distancias.append(lat_long_to_distance(cluster0[1], v[0][0], cluster0[2], v[0][1]))\n",
    "    pass"
   ]
  },
  {
   "cell_type": "code",
   "execution_count": 195,
   "id": "2d7fee2b",
   "metadata": {
    "ExecuteTime": {
     "end_time": "2022-08-27T15:14:34.828410Z",
     "start_time": "2022-08-27T15:14:34.824395Z"
    }
   },
   "outputs": [],
   "source": [
    "cluster['distance'] = distancias"
   ]
  },
  {
   "cell_type": "code",
   "execution_count": 196,
   "id": "75e99e18",
   "metadata": {
    "ExecuteTime": {
     "end_time": "2022-08-27T15:14:35.380254Z",
     "start_time": "2022-08-27T15:14:35.374825Z"
    }
   },
   "outputs": [
    {
     "data": {
      "text/plain": [
       "(52, 4)"
      ]
     },
     "execution_count": 196,
     "metadata": {},
     "output_type": "execute_result"
    }
   ],
   "source": [
    "cluster.shape"
   ]
  },
  {
   "cell_type": "code",
   "execution_count": 197,
   "id": "5e904afb",
   "metadata": {
    "ExecuteTime": {
     "end_time": "2022-08-27T15:14:35.923866Z",
     "start_time": "2022-08-27T15:14:35.919207Z"
    }
   },
   "outputs": [],
   "source": [
    "aux = cluster[:-1]"
   ]
  },
  {
   "cell_type": "code",
   "execution_count": 198,
   "id": "eb4e9409",
   "metadata": {
    "ExecuteTime": {
     "end_time": "2022-08-27T15:14:36.479800Z",
     "start_time": "2022-08-27T15:14:36.471546Z"
    }
   },
   "outputs": [
    {
     "name": "stdout",
     "output_type": "stream",
     "text": [
      "CPU times: user 2.57 ms, sys: 26 µs, total: 2.59 ms\n",
      "Wall time: 2.41 ms\n"
     ]
    }
   ],
   "source": [
    "%%time\n",
    "minimo = aux.loc[aux['distance'] == aux['distance'].min()]\n",
    "\n",
    "cluster0 = mapeo([list(cluster.iloc[-1])[1:3] , list(aux.loc[minimo.index.values[0], ['slat', 'slong']])], 2, 2)"
   ]
  },
  {
   "cell_type": "code",
   "execution_count": 199,
   "id": "5de4083f",
   "metadata": {
    "ExecuteTime": {
     "end_time": "2022-08-27T15:14:37.058515Z",
     "start_time": "2022-08-27T15:14:37.054727Z"
    }
   },
   "outputs": [],
   "source": [
    "cluster0.insert(0, 'c0')"
   ]
  },
  {
   "cell_type": "code",
   "execution_count": 200,
   "id": "7f85ae2a",
   "metadata": {
    "ExecuteTime": {
     "end_time": "2022-08-27T15:14:37.667050Z",
     "start_time": "2022-08-27T15:14:37.662091Z"
    }
   },
   "outputs": [],
   "source": [
    "cluster.drop(minimo.index, inplace=True)"
   ]
  },
  {
   "cell_type": "code",
   "execution_count": 201,
   "id": "75d20f6a",
   "metadata": {
    "ExecuteTime": {
     "end_time": "2022-08-27T15:14:38.243057Z",
     "start_time": "2022-08-27T15:14:38.237571Z"
    }
   },
   "outputs": [
    {
     "data": {
      "text/plain": [
       "(51, 4)"
      ]
     },
     "execution_count": 201,
     "metadata": {},
     "output_type": "execute_result"
    }
   ],
   "source": [
    "cluster.shape"
   ]
  },
  {
   "cell_type": "code",
   "execution_count": 202,
   "id": "88b3779e",
   "metadata": {
    "ExecuteTime": {
     "end_time": "2022-08-27T15:14:38.797206Z",
     "start_time": "2022-08-27T15:14:38.788086Z"
    }
   },
   "outputs": [],
   "source": [
    "cluster = cluster.append(pd.Series(cluster0, index = ['name', 'slat', 'slong']), ignore_index=True)"
   ]
  },
  {
   "cell_type": "code",
   "execution_count": 203,
   "id": "81f4395d",
   "metadata": {
    "ExecuteTime": {
     "end_time": "2022-08-27T15:14:39.338094Z",
     "start_time": "2022-08-27T15:14:39.333428Z"
    }
   },
   "outputs": [
    {
     "data": {
      "text/plain": [
       "(52, 4)"
      ]
     },
     "execution_count": 203,
     "metadata": {},
     "output_type": "execute_result"
    }
   ],
   "source": [
    "cluster.shape"
   ]
  },
  {
   "cell_type": "code",
   "execution_count": 204,
   "id": "3657d278",
   "metadata": {
    "ExecuteTime": {
     "end_time": "2022-08-27T15:14:39.885963Z",
     "start_time": "2022-08-27T15:14:39.881206Z"
    }
   },
   "outputs": [
    {
     "data": {
      "text/plain": [
       "(51, 4)"
      ]
     },
     "execution_count": 204,
     "metadata": {},
     "output_type": "execute_result"
    }
   ],
   "source": [
    "aux.shape"
   ]
  },
  {
   "cell_type": "code",
   "execution_count": 205,
   "id": "e1b5c5ef",
   "metadata": {
    "ExecuteTime": {
     "end_time": "2022-08-27T15:14:40.426762Z",
     "start_time": "2022-08-27T15:14:40.420530Z"
    }
   },
   "outputs": [
    {
     "data": {
      "text/plain": [
       "array([[ 40.7192822 , -74.07126188]])"
      ]
     },
     "execution_count": 205,
     "metadata": {},
     "output_type": "execute_result"
    }
   ],
   "source": [
    "aux.loc[[1], ['slat', 'slong']].values"
   ]
  },
  {
   "cell_type": "code",
   "execution_count": 206,
   "id": "bce4f38f",
   "metadata": {
    "ExecuteTime": {
     "end_time": "2022-08-27T15:14:47.818180Z",
     "start_time": "2022-08-27T15:14:40.942754Z"
    },
    "code_folding": []
   },
   "outputs": [
    {
     "name": "stdout",
     "output_type": "stream",
     "text": [
      "CPU times: user 6.86 s, sys: 16.2 ms, total: 6.88 s\n",
      "Wall time: 6.87 s\n"
     ]
    }
   ],
   "source": [
    "%%time\n",
    "# repetir 3 hasta que haya un solo cluster\n",
    "cont = 1\n",
    "while len(cluster['name'].unique()) > 1:\n",
    "    distancias = []\n",
    "    for i in list(cluster.index):\n",
    "        v = cluster.loc[[i], ['slat', 'slong']].values\n",
    "        distancias.append(lat_long_to_distance(cluster0[1], v[0][0], cluster0[2], v[0][1]))\n",
    "        pass\n",
    "    cluster['distance'] = distancias\n",
    "    aux = cluster[:-cont]\n",
    "    minimo = aux.loc[aux['distance'] == aux['distance'].min()]\n",
    "    cluster0 = mapeo([list(cluster.iloc[-1])[1:3] , list(aux.loc[minimo.index.values[0], ['slat', 'slong']])], 2, 2)\n",
    "    cluster0.insert(0, 'c0')\n",
    "    cluster.drop(minimo.index, inplace=True)\n",
    "    cluster = cluster.append(pd.Series(cluster0, index = ['name', 'slat', 'slong']), ignore_index=True)\n",
    "    cont += 1"
   ]
  },
  {
   "cell_type": "code",
   "execution_count": 207,
   "id": "7de0c71d",
   "metadata": {
    "ExecuteTime": {
     "end_time": "2022-08-27T15:14:48.400239Z",
     "start_time": "2022-08-27T15:14:48.385966Z"
    }
   },
   "outputs": [
    {
     "data": {
      "text/html": [
       "<div>\n",
       "<style scoped>\n",
       "    .dataframe tbody tr th:only-of-type {\n",
       "        vertical-align: middle;\n",
       "    }\n",
       "\n",
       "    .dataframe tbody tr th {\n",
       "        vertical-align: top;\n",
       "    }\n",
       "\n",
       "    .dataframe thead th {\n",
       "        text-align: right;\n",
       "    }\n",
       "</style>\n",
       "<table border=\"1\" class=\"dataframe\">\n",
       "  <thead>\n",
       "    <tr style=\"text-align: right;\">\n",
       "      <th></th>\n",
       "      <th>name</th>\n",
       "      <th>slat</th>\n",
       "      <th>slong</th>\n",
       "      <th>distance</th>\n",
       "    </tr>\n",
       "  </thead>\n",
       "  <tbody>\n",
       "    <tr>\n",
       "      <th>0</th>\n",
       "      <td>c0</td>\n",
       "      <td>40.715352</td>\n",
       "      <td>-74.033343</td>\n",
       "      <td>2.112744</td>\n",
       "    </tr>\n",
       "    <tr>\n",
       "      <th>1</th>\n",
       "      <td>c0</td>\n",
       "      <td>40.715955</td>\n",
       "      <td>-74.033239</td>\n",
       "      <td>2.129793</td>\n",
       "    </tr>\n",
       "    <tr>\n",
       "      <th>2</th>\n",
       "      <td>c0</td>\n",
       "      <td>40.717603</td>\n",
       "      <td>-74.033736</td>\n",
       "      <td>2.122080</td>\n",
       "    </tr>\n",
       "    <tr>\n",
       "      <th>3</th>\n",
       "      <td>c0</td>\n",
       "      <td>40.716391</td>\n",
       "      <td>-74.035710</td>\n",
       "      <td>1.931840</td>\n",
       "    </tr>\n",
       "    <tr>\n",
       "      <th>4</th>\n",
       "      <td>c0</td>\n",
       "      <td>40.717373</td>\n",
       "      <td>-74.037312</td>\n",
       "      <td>1.823244</td>\n",
       "    </tr>\n",
       "    <tr>\n",
       "      <th>5</th>\n",
       "      <td>c0</td>\n",
       "      <td>40.716931</td>\n",
       "      <td>-74.039181</td>\n",
       "      <td>1.658490</td>\n",
       "    </tr>\n",
       "    <tr>\n",
       "      <th>6</th>\n",
       "      <td>c0</td>\n",
       "      <td>40.715758</td>\n",
       "      <td>-74.040999</td>\n",
       "      <td>1.480700</td>\n",
       "    </tr>\n",
       "    <tr>\n",
       "      <th>7</th>\n",
       "      <td>c0</td>\n",
       "      <td>40.716745</td>\n",
       "      <td>-74.042422</td>\n",
       "      <td>1.389350</td>\n",
       "    </tr>\n",
       "    <tr>\n",
       "      <th>8</th>\n",
       "      <td>c0</td>\n",
       "      <td>40.718166</td>\n",
       "      <td>-74.042770</td>\n",
       "      <td>1.413996</td>\n",
       "    </tr>\n",
       "    <tr>\n",
       "      <th>9</th>\n",
       "      <td>c0</td>\n",
       "      <td>40.719908</td>\n",
       "      <td>-74.042827</td>\n",
       "      <td>1.494879</td>\n",
       "    </tr>\n",
       "    <tr>\n",
       "      <th>10</th>\n",
       "      <td>c0</td>\n",
       "      <td>40.720717</td>\n",
       "      <td>-74.044566</td>\n",
       "      <td>1.419637</td>\n",
       "    </tr>\n",
       "    <tr>\n",
       "      <th>11</th>\n",
       "      <td>c0</td>\n",
       "      <td>40.722024</td>\n",
       "      <td>-74.045259</td>\n",
       "      <td>1.464679</td>\n",
       "    </tr>\n",
       "    <tr>\n",
       "      <th>12</th>\n",
       "      <td>c0</td>\n",
       "      <td>40.723657</td>\n",
       "      <td>-74.045415</td>\n",
       "      <td>1.581878</td>\n",
       "    </tr>\n",
       "    <tr>\n",
       "      <th>13</th>\n",
       "      <td>c0</td>\n",
       "      <td>40.724671</td>\n",
       "      <td>-74.047103</td>\n",
       "      <td>1.577191</td>\n",
       "    </tr>\n",
       "    <tr>\n",
       "      <th>14</th>\n",
       "      <td>c0</td>\n",
       "      <td>40.724424</td>\n",
       "      <td>-74.048880</td>\n",
       "      <td>1.469505</td>\n",
       "    </tr>\n",
       "    <tr>\n",
       "      <th>15</th>\n",
       "      <td>c0</td>\n",
       "      <td>40.725218</td>\n",
       "      <td>-74.049634</td>\n",
       "      <td>1.513081</td>\n",
       "    </tr>\n",
       "    <tr>\n",
       "      <th>16</th>\n",
       "      <td>c0</td>\n",
       "      <td>40.723424</td>\n",
       "      <td>-74.049801</td>\n",
       "      <td>1.334026</td>\n",
       "    </tr>\n",
       "    <tr>\n",
       "      <th>17</th>\n",
       "      <td>c0</td>\n",
       "      <td>40.721422</td>\n",
       "      <td>-74.050396</td>\n",
       "      <td>1.121733</td>\n",
       "    </tr>\n",
       "    <tr>\n",
       "      <th>18</th>\n",
       "      <td>c0</td>\n",
       "      <td>40.719955</td>\n",
       "      <td>-74.049061</td>\n",
       "      <td>1.073100</td>\n",
       "    </tr>\n",
       "    <tr>\n",
       "      <th>19</th>\n",
       "      <td>c0</td>\n",
       "      <td>40.718248</td>\n",
       "      <td>-74.049349</td>\n",
       "      <td>0.932081</td>\n",
       "    </tr>\n",
       "    <tr>\n",
       "      <th>20</th>\n",
       "      <td>c0</td>\n",
       "      <td>40.714745</td>\n",
       "      <td>-74.052525</td>\n",
       "      <td>0.510022</td>\n",
       "    </tr>\n",
       "    <tr>\n",
       "      <th>21</th>\n",
       "      <td>c0</td>\n",
       "      <td>40.714104</td>\n",
       "      <td>-74.057692</td>\n",
       "      <td>0.103058</td>\n",
       "    </tr>\n",
       "    <tr>\n",
       "      <th>22</th>\n",
       "      <td>c0</td>\n",
       "      <td>40.714231</td>\n",
       "      <td>-74.062151</td>\n",
       "      <td>0.344341</td>\n",
       "    </tr>\n",
       "    <tr>\n",
       "      <th>23</th>\n",
       "      <td>c0</td>\n",
       "      <td>40.711941</td>\n",
       "      <td>-74.065376</td>\n",
       "      <td>0.617974</td>\n",
       "    </tr>\n",
       "    <tr>\n",
       "      <th>24</th>\n",
       "      <td>c0</td>\n",
       "      <td>40.715612</td>\n",
       "      <td>-74.068319</td>\n",
       "      <td>0.886286</td>\n",
       "    </tr>\n",
       "    <tr>\n",
       "      <th>25</th>\n",
       "      <td>c0</td>\n",
       "      <td>40.718858</td>\n",
       "      <td>-74.069887</td>\n",
       "      <td>1.159335</td>\n",
       "    </tr>\n",
       "    <tr>\n",
       "      <th>26</th>\n",
       "      <td>c0</td>\n",
       "      <td>40.721258</td>\n",
       "      <td>-74.067041</td>\n",
       "      <td>1.154819</td>\n",
       "    </tr>\n",
       "    <tr>\n",
       "      <th>27</th>\n",
       "      <td>c0</td>\n",
       "      <td>40.723299</td>\n",
       "      <td>-74.067331</td>\n",
       "      <td>1.350689</td>\n",
       "    </tr>\n",
       "    <tr>\n",
       "      <th>28</th>\n",
       "      <td>c0</td>\n",
       "      <td>40.724513</td>\n",
       "      <td>-74.069645</td>\n",
       "      <td>1.574558</td>\n",
       "    </tr>\n",
       "    <tr>\n",
       "      <th>29</th>\n",
       "      <td>c0</td>\n",
       "      <td>40.726032</td>\n",
       "      <td>-74.070353</td>\n",
       "      <td>1.745747</td>\n",
       "    </tr>\n",
       "    <tr>\n",
       "      <th>30</th>\n",
       "      <td>c0</td>\n",
       "      <td>40.725319</td>\n",
       "      <td>-74.074379</td>\n",
       "      <td>1.906764</td>\n",
       "    </tr>\n",
       "    <tr>\n",
       "      <th>31</th>\n",
       "      <td>c0</td>\n",
       "      <td>40.728108</td>\n",
       "      <td>-74.069146</td>\n",
       "      <td>1.886342</td>\n",
       "    </tr>\n",
       "    <tr>\n",
       "      <th>32</th>\n",
       "      <td>c0</td>\n",
       "      <td>40.730889</td>\n",
       "      <td>-74.065823</td>\n",
       "      <td>2.058644</td>\n",
       "    </tr>\n",
       "    <tr>\n",
       "      <th>33</th>\n",
       "      <td>c0</td>\n",
       "      <td>40.731029</td>\n",
       "      <td>-74.061698</td>\n",
       "      <td>1.994250</td>\n",
       "    </tr>\n",
       "    <tr>\n",
       "      <th>34</th>\n",
       "      <td>c0</td>\n",
       "      <td>40.732995</td>\n",
       "      <td>-74.060601</td>\n",
       "      <td>2.200570</td>\n",
       "    </tr>\n",
       "    <tr>\n",
       "      <th>35</th>\n",
       "      <td>c0</td>\n",
       "      <td>40.735353</td>\n",
       "      <td>-74.063761</td>\n",
       "      <td>2.497297</td>\n",
       "    </tr>\n",
       "    <tr>\n",
       "      <th>36</th>\n",
       "      <td>c0</td>\n",
       "      <td>40.736478</td>\n",
       "      <td>-74.058120</td>\n",
       "      <td>2.579085</td>\n",
       "    </tr>\n",
       "    <tr>\n",
       "      <th>37</th>\n",
       "      <td>c0</td>\n",
       "      <td>40.735632</td>\n",
       "      <td>-74.054282</td>\n",
       "      <td>2.507490</td>\n",
       "    </tr>\n",
       "    <tr>\n",
       "      <th>38</th>\n",
       "      <td>c0</td>\n",
       "      <td>40.735420</td>\n",
       "      <td>-74.050623</td>\n",
       "      <td>2.544188</td>\n",
       "    </tr>\n",
       "    <tr>\n",
       "      <th>39</th>\n",
       "      <td>c0</td>\n",
       "      <td>40.739049</td>\n",
       "      <td>-74.051206</td>\n",
       "      <td>2.925919</td>\n",
       "    </tr>\n",
       "    <tr>\n",
       "      <th>40</th>\n",
       "      <td>c0</td>\n",
       "      <td>40.741684</td>\n",
       "      <td>-74.047598</td>\n",
       "      <td>3.283220</td>\n",
       "    </tr>\n",
       "    <tr>\n",
       "      <th>41</th>\n",
       "      <td>c0</td>\n",
       "      <td>40.743797</td>\n",
       "      <td>-74.052435</td>\n",
       "      <td>3.428179</td>\n",
       "    </tr>\n",
       "    <tr>\n",
       "      <th>42</th>\n",
       "      <td>c0</td>\n",
       "      <td>40.746256</td>\n",
       "      <td>-74.046439</td>\n",
       "      <td>3.799261</td>\n",
       "    </tr>\n",
       "    <tr>\n",
       "      <th>43</th>\n",
       "      <td>c0</td>\n",
       "      <td>40.736926</td>\n",
       "      <td>-74.045343</td>\n",
       "      <td>2.845344</td>\n",
       "    </tr>\n",
       "    <tr>\n",
       "      <th>44</th>\n",
       "      <td>c0</td>\n",
       "      <td>40.732835</td>\n",
       "      <td>-74.038726</td>\n",
       "      <td>2.727018</td>\n",
       "    </tr>\n",
       "    <tr>\n",
       "      <th>45</th>\n",
       "      <td>c0</td>\n",
       "      <td>40.730029</td>\n",
       "      <td>-74.036242</td>\n",
       "      <td>2.628761</td>\n",
       "    </tr>\n",
       "    <tr>\n",
       "      <th>46</th>\n",
       "      <td>c0</td>\n",
       "      <td>40.727162</td>\n",
       "      <td>-74.035862</td>\n",
       "      <td>2.438150</td>\n",
       "    </tr>\n",
       "    <tr>\n",
       "      <th>47</th>\n",
       "      <td>c0</td>\n",
       "      <td>40.724143</td>\n",
       "      <td>-74.036957</td>\n",
       "      <td>2.163723</td>\n",
       "    </tr>\n",
       "    <tr>\n",
       "      <th>48</th>\n",
       "      <td>c0</td>\n",
       "      <td>40.718458</td>\n",
       "      <td>-74.036721</td>\n",
       "      <td>1.904430</td>\n",
       "    </tr>\n",
       "    <tr>\n",
       "      <th>49</th>\n",
       "      <td>c0</td>\n",
       "      <td>40.715439</td>\n",
       "      <td>-74.037623</td>\n",
       "      <td>1.755867</td>\n",
       "    </tr>\n",
       "    <tr>\n",
       "      <th>50</th>\n",
       "      <td>c0</td>\n",
       "      <td>40.713284</td>\n",
       "      <td>-74.058262</td>\n",
       "      <td>0.000000</td>\n",
       "    </tr>\n",
       "    <tr>\n",
       "      <th>51</th>\n",
       "      <td>c0</td>\n",
       "      <td>40.715748</td>\n",
       "      <td>-74.070951</td>\n",
       "      <td>NaN</td>\n",
       "    </tr>\n",
       "  </tbody>\n",
       "</table>\n",
       "</div>"
      ],
      "text/plain": [
       "   name       slat      slong  distance\n",
       "0    c0  40.715352 -74.033343  2.112744\n",
       "1    c0  40.715955 -74.033239  2.129793\n",
       "2    c0  40.717603 -74.033736  2.122080\n",
       "3    c0  40.716391 -74.035710  1.931840\n",
       "4    c0  40.717373 -74.037312  1.823244\n",
       "5    c0  40.716931 -74.039181  1.658490\n",
       "6    c0  40.715758 -74.040999  1.480700\n",
       "7    c0  40.716745 -74.042422  1.389350\n",
       "8    c0  40.718166 -74.042770  1.413996\n",
       "9    c0  40.719908 -74.042827  1.494879\n",
       "10   c0  40.720717 -74.044566  1.419637\n",
       "11   c0  40.722024 -74.045259  1.464679\n",
       "12   c0  40.723657 -74.045415  1.581878\n",
       "13   c0  40.724671 -74.047103  1.577191\n",
       "14   c0  40.724424 -74.048880  1.469505\n",
       "15   c0  40.725218 -74.049634  1.513081\n",
       "16   c0  40.723424 -74.049801  1.334026\n",
       "17   c0  40.721422 -74.050396  1.121733\n",
       "18   c0  40.719955 -74.049061  1.073100\n",
       "19   c0  40.718248 -74.049349  0.932081\n",
       "20   c0  40.714745 -74.052525  0.510022\n",
       "21   c0  40.714104 -74.057692  0.103058\n",
       "22   c0  40.714231 -74.062151  0.344341\n",
       "23   c0  40.711941 -74.065376  0.617974\n",
       "24   c0  40.715612 -74.068319  0.886286\n",
       "25   c0  40.718858 -74.069887  1.159335\n",
       "26   c0  40.721258 -74.067041  1.154819\n",
       "27   c0  40.723299 -74.067331  1.350689\n",
       "28   c0  40.724513 -74.069645  1.574558\n",
       "29   c0  40.726032 -74.070353  1.745747\n",
       "30   c0  40.725319 -74.074379  1.906764\n",
       "31   c0  40.728108 -74.069146  1.886342\n",
       "32   c0  40.730889 -74.065823  2.058644\n",
       "33   c0  40.731029 -74.061698  1.994250\n",
       "34   c0  40.732995 -74.060601  2.200570\n",
       "35   c0  40.735353 -74.063761  2.497297\n",
       "36   c0  40.736478 -74.058120  2.579085\n",
       "37   c0  40.735632 -74.054282  2.507490\n",
       "38   c0  40.735420 -74.050623  2.544188\n",
       "39   c0  40.739049 -74.051206  2.925919\n",
       "40   c0  40.741684 -74.047598  3.283220\n",
       "41   c0  40.743797 -74.052435  3.428179\n",
       "42   c0  40.746256 -74.046439  3.799261\n",
       "43   c0  40.736926 -74.045343  2.845344\n",
       "44   c0  40.732835 -74.038726  2.727018\n",
       "45   c0  40.730029 -74.036242  2.628761\n",
       "46   c0  40.727162 -74.035862  2.438150\n",
       "47   c0  40.724143 -74.036957  2.163723\n",
       "48   c0  40.718458 -74.036721  1.904430\n",
       "49   c0  40.715439 -74.037623  1.755867\n",
       "50   c0  40.713284 -74.058262  0.000000\n",
       "51   c0  40.715748 -74.070951       NaN"
      ]
     },
     "execution_count": 207,
     "metadata": {},
     "output_type": "execute_result"
    }
   ],
   "source": [
    "cluster"
   ]
  },
  {
   "cell_type": "code",
   "execution_count": null,
   "id": "e618b183",
   "metadata": {
    "ExecuteTime": {
     "end_time": "2022-08-27T14:12:54.221615Z",
     "start_time": "2022-08-27T14:12:54.210766Z"
    },
    "scrolled": true
   },
   "outputs": [],
   "source": []
  },
  {
   "cell_type": "code",
   "execution_count": null,
   "id": "e0083f3c",
   "metadata": {},
   "outputs": [],
   "source": []
  },
  {
   "cell_type": "code",
   "execution_count": null,
   "id": "a3237806",
   "metadata": {},
   "outputs": [],
   "source": []
  },
  {
   "cell_type": "code",
   "execution_count": null,
   "id": "a1fb6fc8",
   "metadata": {},
   "outputs": [],
   "source": []
  },
  {
   "cell_type": "code",
   "execution_count": null,
   "id": "c906fb53",
   "metadata": {},
   "outputs": [],
   "source": []
  },
  {
   "cell_type": "code",
   "execution_count": null,
   "id": "483855f2",
   "metadata": {},
   "outputs": [],
   "source": []
  },
  {
   "cell_type": "code",
   "execution_count": null,
   "id": "ac60eb3a",
   "metadata": {},
   "outputs": [],
   "source": []
  },
  {
   "cell_type": "code",
   "execution_count": null,
   "id": "986af49f",
   "metadata": {},
   "outputs": [],
   "source": []
  }
 ],
 "metadata": {
  "kernelspec": {
   "display_name": "Python (DSS2)",
   "language": "python",
   "name": "dss2"
  },
  "language_info": {
   "codemirror_mode": {
    "name": "ipython",
    "version": 3
   },
   "file_extension": ".py",
   "mimetype": "text/x-python",
   "name": "python",
   "nbconvert_exporter": "python",
   "pygments_lexer": "ipython3",
   "version": "3.9.13"
  },
  "latex_envs": {
   "LaTeX_envs_menu_present": true,
   "autoclose": false,
   "autocomplete": true,
   "bibliofile": "biblio.bib",
   "cite_by": "apalike",
   "current_citInitial": 1,
   "eqLabelWithNumbers": true,
   "eqNumInitial": 1,
   "hotkeys": {
    "equation": "Ctrl-E",
    "itemize": "Ctrl-I"
   },
   "labels_anchors": false,
   "latex_user_defs": false,
   "report_style_numbering": false,
   "user_envs_cfg": false
  },
  "varInspector": {
   "cols": {
    "lenName": 16,
    "lenType": 16,
    "lenVar": 40
   },
   "kernels_config": {
    "python": {
     "delete_cmd_postfix": "",
     "delete_cmd_prefix": "del ",
     "library": "var_list.py",
     "varRefreshCmd": "print(var_dic_list())"
    },
    "r": {
     "delete_cmd_postfix": ") ",
     "delete_cmd_prefix": "rm(",
     "library": "var_list.r",
     "varRefreshCmd": "cat(var_dic_list()) "
    }
   },
   "position": {
    "height": "788.85px",
    "left": "1532px",
    "right": "20px",
    "top": "114px",
    "width": "367px"
   },
   "types_to_exclude": [
    "module",
    "function",
    "builtin_function_or_method",
    "instance",
    "_Feature"
   ],
   "window_display": true
  }
 },
 "nbformat": 4,
 "nbformat_minor": 5
}
