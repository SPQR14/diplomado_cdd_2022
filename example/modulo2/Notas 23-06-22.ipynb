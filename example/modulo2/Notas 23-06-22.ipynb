{
 "cells": [
  {
   "cell_type": "markdown",
   "id": "0f8537ab",
   "metadata": {},
   "source": [
    "# Función de costo:\n",
    "\n",
    "* 1 $$ f_{costo} = \\sum (y_i-\\hat{y_i})^{2}$$\n",
    "\n",
    "* 2 $$ f_{costo} = \\sum (y_i-(\\beta^{T}X))^{2}$$\n",
    "\n",
    "# Redefiniendo la parábola con la notación de la regresión, tenemos:\n",
    "\n",
    "$$y = f_{costo}$$\n",
    "$$x = \\beta$$\n",
    "* 3 $$f_{costo} = \\beta^{2} - 2\\beta - 3$$"
   ]
  },
  {
   "cell_type": "markdown",
   "id": "8d5d5132",
   "metadata": {},
   "source": [
    "# Regresión Lineal\n",
    "\n",
    "$$\\hat{y} = \\beta_0 + \\beta^T X$$"
   ]
  },
  {
   "cell_type": "markdown",
   "id": "c5743c3b",
   "metadata": {},
   "source": [
    "* Tamaño de la muestra de observaciones = 30,000\n",
    "* Número de variables independientes = 8\n",
    "\n",
    "# Gradiente Descendiente\n",
    "\n",
    "* 3. Calcular la función de costo, con todos los valores de X, con el nuevo valor de parámetros $\\beta$.\n",
    "* Ejemplo: 30,000*8 = 240,000\n",
    "\n",
    "# Gradiente Descendiente Estocástico\n",
    "\n",
    "* 3. Calcula la función de costo, con n observaciones de la matriz X, con el nuevo valor de parámteros $\\beta$.\n",
    "* Ejemplo (n=1,000): 1,000*8=8,000\n",
    "\n",
    "# Mini-Lote de GDE\n",
    "\n",
    "* 3. Calcula la función de costo, con n muestras de tamaño m de la matriz X, con el nuevo valor de parámetros $\\beta$.\n",
    "* Ejemplo (n=1,000, m=5): (1,000 * 5)*8 = 40,000"
   ]
  },
  {
   "cell_type": "markdown",
   "id": "88af0208",
   "metadata": {},
   "source": [
    "Muestra de = 6738\n",
    "Variables = millas, y edad del auto\n",
    "\n",
    "# Ejemplo con Toyota:\n",
    "\n",
    "## GD:\n",
    "* 2 * 6738= 13476\n",
    "## SGD:\n",
    "* n = 50\n",
    "* 50 * 2 = 100\n",
    "## Mini-Batch SGD:\n",
    "* m = 10\n",
    "* 50 * 10 * 2 = 1000"
   ]
  },
  {
   "cell_type": "code",
   "execution_count": null,
   "id": "770ce6d1",
   "metadata": {},
   "outputs": [],
   "source": []
  }
 ],
 "metadata": {
  "kernelspec": {
   "display_name": "Python 3 (ipykernel)",
   "language": "python",
   "name": "python3"
  },
  "language_info": {
   "codemirror_mode": {
    "name": "ipython",
    "version": 3
   },
   "file_extension": ".py",
   "mimetype": "text/x-python",
   "name": "python",
   "nbconvert_exporter": "python",
   "pygments_lexer": "ipython3",
   "version": "3.9.13"
  }
 },
 "nbformat": 4,
 "nbformat_minor": 5
}
