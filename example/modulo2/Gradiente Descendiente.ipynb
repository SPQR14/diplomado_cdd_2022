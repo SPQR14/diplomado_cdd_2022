{
 "cells": [
  {
   "cell_type": "code",
   "execution_count": 1,
   "id": "377e3582",
   "metadata": {},
   "outputs": [],
   "source": [
    "import pandas as pd\n",
    "import os\n",
    "\n",
    "data_path = '../../Data/Used Cars/'\n",
    "\n",
    "bmw = pd.read_csv(data_path+'bmw.csv')\n",
    "toyota = pd.read_csv(data_path+'toyota.csv')\n",
    "audi = pd.read_csv(data_path+'audi.csv')"
   ]
  },
  {
   "cell_type": "code",
   "execution_count": 3,
   "id": "63ad8cc5",
   "metadata": {},
   "outputs": [],
   "source": [
    "def f1(x):\n",
    "    return(24-x)\n",
    "def f2(x):\n",
    "    return(x**2-2*x-3)"
   ]
  },
  {
   "cell_type": "code",
   "execution_count": 4,
   "id": "ab6db172",
   "metadata": {},
   "outputs": [
    {
     "data": {
      "text/plain": [
       "22"
      ]
     },
     "execution_count": 4,
     "metadata": {},
     "output_type": "execute_result"
    }
   ],
   "source": [
    "f1(2)"
   ]
  },
  {
   "cell_type": "code",
   "execution_count": 6,
   "id": "e4421142",
   "metadata": {},
   "outputs": [
    {
     "data": {
      "text/plain": [
       "-4"
      ]
     },
     "execution_count": 6,
     "metadata": {},
     "output_type": "execute_result"
    }
   ],
   "source": [
    "f2(1)"
   ]
  },
  {
   "cell_type": "code",
   "execution_count": null,
   "id": "5eb5a375",
   "metadata": {},
   "outputs": [],
   "source": [
    "cost_anterior > consto_actual: continuamos...\n",
    "cost_anterior < costo_actual : ya nos pasamos..."
   ]
  },
  {
   "cell_type": "code",
   "execution_count": 19,
   "id": "4c071bcf",
   "metadata": {},
   "outputs": [],
   "source": [
    "def gd(f, gradient, X_0, learn_rate, n_iter):\n",
    "    \n",
    "    X_i = X_0\n",
    "    \n",
    "    for i in range(n_iter):\n",
    "        step = -learn_rate * gradient(X_i)\n",
    "        co = \n",
    "        X_i += step\n",
    "    \n",
    "    return(X_i)"
   ]
  },
  {
   "cell_type": "code",
   "execution_count": 14,
   "id": "3c07e7b0",
   "metadata": {},
   "outputs": [],
   "source": [
    "def d_f2(x):\n",
    "    return(2*x - 2)"
   ]
  },
  {
   "cell_type": "code",
   "execution_count": 20,
   "id": "ac6e8a1c",
   "metadata": {},
   "outputs": [
    {
     "data": {
      "text/plain": [
       "37.05279832862459"
      ]
     },
     "execution_count": 20,
     "metadata": {},
     "output_type": "execute_result"
    }
   ],
   "source": [
    "gd(f2, d_f2, 100, .01, 50)"
   ]
  },
  {
   "cell_type": "code",
   "execution_count": null,
   "id": "915a41f7",
   "metadata": {},
   "outputs": [],
   "source": []
  }
 ],
 "metadata": {
  "kernelspec": {
   "display_name": "Python 3 (ipykernel)",
   "language": "python",
   "name": "python3"
  },
  "language_info": {
   "codemirror_mode": {
    "name": "ipython",
    "version": 3
   },
   "file_extension": ".py",
   "mimetype": "text/x-python",
   "name": "python",
   "nbconvert_exporter": "python",
   "pygments_lexer": "ipython3",
   "version": "3.9.13"
  }
 },
 "nbformat": 4,
 "nbformat_minor": 5
}
