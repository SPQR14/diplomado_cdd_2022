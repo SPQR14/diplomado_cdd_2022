{
 "cells": [
  {
   "cell_type": "code",
   "execution_count": 5,
   "id": "3118c33b",
   "metadata": {},
   "outputs": [],
   "source": [
    "import pandas as pd\n",
    "import os\n",
    "\n",
    "data_path = '../../data/modulo2/coches/'\n",
    "\n",
    "bmw = pd.read_excel(data_path+'bmw.xlsx')\n",
    "toyota = pd.read_excel(data_path+'toyota.xlsx')\n",
    "audi = pd.read_excel(data_path+'audi.xlsx')"
   ]
  },
  {
   "cell_type": "markdown",
   "id": "51c28c35",
   "metadata": {},
   "source": [
    "# Regresión Lineal Bayesiana\n",
    "\n",
    "Tomemos la siguiente ecuación de regresión lineal:\n",
    "\n",
    "$$y = \\beta^{T}X + \\epsilon$$\n",
    "\n",
    "Esa es nuestra ecuación de regresión lineal, por otra parte, la eucaión de regresión bayesiana, se vería distinta, pues como hemos platicado, sabemos que la regresión bayesiana asume que $y$ se distribuye de proma probabilística, y asumimos una distribución, tal cuál vimos en clase, pensemos en que $y$ se distribuye de forma normal, dicho esto, tenemos lo siguiente:\n",
    "\n",
    "$$y \\sim N(\\beta^{T}X, \\sigma^{2})$$\n",
    "\n",
    "De forma que la media de la normal es el producto de los parámetros estimados por las observaciones, y la varianza es la heredada de los residuales. Adicionalmente, como lo platicamos también es nuestra tarea estimar la distribución de los parámetros. De esta forma, gracias al teorema de Bayes, la distribución a posteriori del vector de parámteros $\\beta$, es la siguiente:\n",
    "\n",
    "$$P(\\beta|y,X)=\\frac{P(y|\\beta,X)P(\\beta|X)}{P(y|X)}$$\n",
    "\n",
    "Ahora, con este pequeño recordatorio de la teoría, procederemos a la implementacipon de dicha regresión en Python. Para lo cuál utilizaremos la librería $\\href{https://docs.pymc.io/en/v3/index.html}{PyMC3}$\n",
    "\n",
    "Para esto utilizaremos su submóudlo de GLM, y en partícular la clase GLM.grom_formula, pues esto nos permite ser bastante flexibles al construir un modelo de regresión bayesiana. \n",
    "\n",
    "Dicho esto, los pasos son los siguientes:\n",
    "\n",
    "* 1. Construir la fórmula de relación entre la variable dependiente y las variables independientes y decidir qué distribución a priori tiene dicha variable.\n",
    "* 2. Realizar la extracción de una muestra de máxima verosimilitud del universo de parámetros definido por la distribución a posteriori de los parámteros."
   ]
  },
  {
   "cell_type": "code",
   "execution_count": 6,
   "id": "347f29ea",
   "metadata": {},
   "outputs": [
    {
     "data": {
      "text/plain": "  model    year    price transmission  mileage fuelType    tax   mpg  \\\n0  GT86  2016.0  16000.0       Manual  24089.0   Petrol  265.0  36.2   \n1  GT86  2017.0  15995.0       Manual  18615.0   Petrol  145.0  36.2   \n2  GT86  2015.0  13998.0       Manual  27469.0   Petrol  265.0  36.2   \n\n   engineSize  \n0         2.0  \n1         2.0  \n2         2.0  ",
      "text/html": "<div>\n<style scoped>\n    .dataframe tbody tr th:only-of-type {\n        vertical-align: middle;\n    }\n\n    .dataframe tbody tr th {\n        vertical-align: top;\n    }\n\n    .dataframe thead th {\n        text-align: right;\n    }\n</style>\n<table border=\"1\" class=\"dataframe\">\n  <thead>\n    <tr style=\"text-align: right;\">\n      <th></th>\n      <th>model</th>\n      <th>year</th>\n      <th>price</th>\n      <th>transmission</th>\n      <th>mileage</th>\n      <th>fuelType</th>\n      <th>tax</th>\n      <th>mpg</th>\n      <th>engineSize</th>\n    </tr>\n  </thead>\n  <tbody>\n    <tr>\n      <th>0</th>\n      <td>GT86</td>\n      <td>2016.0</td>\n      <td>16000.0</td>\n      <td>Manual</td>\n      <td>24089.0</td>\n      <td>Petrol</td>\n      <td>265.0</td>\n      <td>36.2</td>\n      <td>2.0</td>\n    </tr>\n    <tr>\n      <th>1</th>\n      <td>GT86</td>\n      <td>2017.0</td>\n      <td>15995.0</td>\n      <td>Manual</td>\n      <td>18615.0</td>\n      <td>Petrol</td>\n      <td>145.0</td>\n      <td>36.2</td>\n      <td>2.0</td>\n    </tr>\n    <tr>\n      <th>2</th>\n      <td>GT86</td>\n      <td>2015.0</td>\n      <td>13998.0</td>\n      <td>Manual</td>\n      <td>27469.0</td>\n      <td>Petrol</td>\n      <td>265.0</td>\n      <td>36.2</td>\n      <td>2.0</td>\n    </tr>\n  </tbody>\n</table>\n</div>"
     },
     "execution_count": 6,
     "metadata": {},
     "output_type": "execute_result"
    }
   ],
   "source": [
    "toyota.head(3)"
   ]
  },
  {
   "cell_type": "code",
   "execution_count": 7,
   "id": "979f509e",
   "metadata": {},
   "outputs": [
    {
     "data": {
      "text/plain": "  model    year    price transmission  mileage fuelType    tax   mpg  \\\n0  GT86  2016.0  16000.0       Manual  24089.0   Petrol  265.0  36.2   \n1  GT86  2017.0  15995.0       Manual  18615.0   Petrol  145.0  36.2   \n2  GT86  2015.0  13998.0       Manual  27469.0   Petrol  265.0  36.2   \n\n   engineSize  car_age  \n0         2.0      6.0  \n1         2.0      5.0  \n2         2.0      7.0  ",
      "text/html": "<div>\n<style scoped>\n    .dataframe tbody tr th:only-of-type {\n        vertical-align: middle;\n    }\n\n    .dataframe tbody tr th {\n        vertical-align: top;\n    }\n\n    .dataframe thead th {\n        text-align: right;\n    }\n</style>\n<table border=\"1\" class=\"dataframe\">\n  <thead>\n    <tr style=\"text-align: right;\">\n      <th></th>\n      <th>model</th>\n      <th>year</th>\n      <th>price</th>\n      <th>transmission</th>\n      <th>mileage</th>\n      <th>fuelType</th>\n      <th>tax</th>\n      <th>mpg</th>\n      <th>engineSize</th>\n      <th>car_age</th>\n    </tr>\n  </thead>\n  <tbody>\n    <tr>\n      <th>0</th>\n      <td>GT86</td>\n      <td>2016.0</td>\n      <td>16000.0</td>\n      <td>Manual</td>\n      <td>24089.0</td>\n      <td>Petrol</td>\n      <td>265.0</td>\n      <td>36.2</td>\n      <td>2.0</td>\n      <td>6.0</td>\n    </tr>\n    <tr>\n      <th>1</th>\n      <td>GT86</td>\n      <td>2017.0</td>\n      <td>15995.0</td>\n      <td>Manual</td>\n      <td>18615.0</td>\n      <td>Petrol</td>\n      <td>145.0</td>\n      <td>36.2</td>\n      <td>2.0</td>\n      <td>5.0</td>\n    </tr>\n    <tr>\n      <th>2</th>\n      <td>GT86</td>\n      <td>2015.0</td>\n      <td>13998.0</td>\n      <td>Manual</td>\n      <td>27469.0</td>\n      <td>Petrol</td>\n      <td>265.0</td>\n      <td>36.2</td>\n      <td>2.0</td>\n      <td>7.0</td>\n    </tr>\n  </tbody>\n</table>\n</div>"
     },
     "execution_count": 7,
     "metadata": {},
     "output_type": "execute_result"
    }
   ],
   "source": [
    "toyota['car_age'] = 2022 - toyota['year']\n",
    "toyota.head(3)"
   ]
  },
  {
   "cell_type": "markdown",
   "id": "93554e50",
   "metadata": {},
   "source": [
    "## 1. Fórmula:\n",
    "\n",
    "$price \\sim mileage + car\\_age$"
   ]
  },
  {
   "cell_type": "code",
   "execution_count": 8,
   "id": "9b8028bc",
   "metadata": {},
   "outputs": [],
   "source": [
    "import pymc3 as pm"
   ]
  },
  {
   "cell_type": "code",
   "execution_count": 15,
   "id": "8a36ed67",
   "metadata": {},
   "outputs": [
    {
     "name": "stderr",
     "output_type": "stream",
     "text": [
      "The glm module is deprecated and will be removed in version 4.0\n",
      "We recommend to instead use Bambi https://bambinos.github.io/bambi/\n",
      "/home/sqpr14_/anaconda3/envs/dss/lib/python3.8/site-packages/deprecat/classic.py:215: FutureWarning: In v4.0, pm.sample will return an `arviz.InferenceData` object instead of a `MultiTrace` by default. You can pass return_inferencedata=True or return_inferencedata=False to be safe and silence this warning.\n",
      "  return wrapped_(*args_, **kwargs_)\n",
      "Auto-assigning NUTS sampler...\n",
      "Initializing NUTS using jitter+adapt_diag...\n",
      "Multiprocess sampling (2 chains in 4 jobs)\n",
      "NUTS: [sd, car_age, mileage, Intercept]\n"
     ]
    },
    {
     "data": {
      "text/plain": "<IPython.core.display.HTML object>",
      "text/html": "\n<style>\n    /* Turns off some styling */\n    progress {\n        /* gets rid of default border in Firefox and Opera. */\n        border: none;\n        /* Needs to be in here for Safari polyfill so background images work as expected. */\n        background-size: auto;\n    }\n    .progress-bar-interrupted, .progress-bar-interrupted::-webkit-progress-bar {\n        background: #F44336;\n    }\n</style>\n"
     },
     "metadata": {},
     "output_type": "display_data"
    },
    {
     "data": {
      "text/plain": "<IPython.core.display.HTML object>",
      "text/html": "\n    <div>\n      <progress value='0' class='' max='5000' style='width:300px; height:20px; vertical-align: middle;'></progress>\n      \n    </div>\n    "
     },
     "metadata": {},
     "output_type": "display_data"
    },
    {
     "name": "stderr",
     "output_type": "stream",
     "text": [
      "/home/sqpr14_/anaconda3/envs/dss/lib/python3.8/site-packages/pymc3/step_methods/hmc/quadpotential.py:220: RuntimeWarning: divide by zero encountered in true_divide\n",
      "  np.divide(1, self._stds, out=self._inv_stds)\n",
      "/home/sqpr14_/anaconda3/envs/dss/lib/python3.8/site-packages/pymc3/step_methods/hmc/quadpotential.py:199: RuntimeWarning: invalid value encountered in multiply\n",
      "  return np.multiply(self._var, x, out=out)\n",
      "/home/sqpr14_/anaconda3/envs/dss/lib/python3.8/site-packages/pymc3/step_methods/hmc/quadpotential.py:220: RuntimeWarning: divide by zero encountered in true_divide\n",
      "  np.divide(1, self._stds, out=self._inv_stds)\n",
      "/home/sqpr14_/anaconda3/envs/dss/lib/python3.8/site-packages/pymc3/step_methods/hmc/quadpotential.py:199: RuntimeWarning: invalid value encountered in multiply\n",
      "  return np.multiply(self._var, x, out=out)\n"
     ]
    },
    {
     "ename": "RuntimeError",
     "evalue": "Chain 1 failed.",
     "output_type": "error",
     "traceback": [
      "\u001B[0;31m---------------------------------------------------------------------------\u001B[0m",
      "\u001B[0;31mRemoteTraceback\u001B[0m                           Traceback (most recent call last)",
      "\u001B[0;31mRemoteTraceback\u001B[0m: \n\"\"\"\nTraceback (most recent call last):\n  File \"/home/sqpr14_/anaconda3/envs/dss/lib/python3.8/site-packages/pymc3/parallel_sampling.py\", line 137, in run\n    self._start_loop()\n  File \"/home/sqpr14_/anaconda3/envs/dss/lib/python3.8/site-packages/pymc3/parallel_sampling.py\", line 191, in _start_loop\n    point, stats = self._compute_point()\n  File \"/home/sqpr14_/anaconda3/envs/dss/lib/python3.8/site-packages/pymc3/parallel_sampling.py\", line 216, in _compute_point\n    point, stats = self._step_method.step(self._point)\n  File \"/home/sqpr14_/anaconda3/envs/dss/lib/python3.8/site-packages/pymc3/step_methods/arraystep.py\", line 276, in step\n    apoint, stats = self.astep(array)\n  File \"/home/sqpr14_/anaconda3/envs/dss/lib/python3.8/site-packages/pymc3/step_methods/hmc/base_hmc.py\", line 147, in astep\n    self.potential.raise_ok(self._logp_dlogp_func._ordering.vmap)\n  File \"/home/sqpr14_/anaconda3/envs/dss/lib/python3.8/site-packages/pymc3/step_methods/hmc/quadpotential.py\", line 268, in raise_ok\n    raise ValueError(\"\\n\".join(errmsg))\nValueError: Mass matrix contains zeros on the diagonal. \nThe derivative of RV `car_age`.ravel()[0] is zero.\nThe derivative of RV `Intercept`.ravel()[0] is zero.\n\"\"\"",
      "\nThe above exception was the direct cause of the following exception:\n",
      "\u001B[0;31mValueError\u001B[0m                                Traceback (most recent call last)",
      "\u001B[0;31mValueError\u001B[0m: Mass matrix contains zeros on the diagonal. \nThe derivative of RV `car_age`.ravel()[0] is zero.\nThe derivative of RV `Intercept`.ravel()[0] is zero.",
      "\nThe above exception was the direct cause of the following exception:\n",
      "\u001B[0;31mRuntimeError\u001B[0m                              Traceback (most recent call last)",
      "\u001B[0;32m<ipython-input-15-23e6f40e760f>\u001B[0m in \u001B[0;36m<module>\u001B[0;34m\u001B[0m\n\u001B[1;32m      9\u001B[0m \u001B[0;34m\u001B[0m\u001B[0m\n\u001B[1;32m     10\u001B[0m     \u001B[0;31m# normal_trace = pm.sample(draws=2000, chains=2, tune=500, njobs=-1)\u001B[0m\u001B[0;34m\u001B[0m\u001B[0;34m\u001B[0m\u001B[0;34m\u001B[0m\u001B[0m\n\u001B[0;32m---> 11\u001B[0;31m     \u001B[0mnormal_trace\u001B[0m \u001B[0;34m=\u001B[0m \u001B[0mpm\u001B[0m\u001B[0;34m.\u001B[0m\u001B[0msample\u001B[0m\u001B[0;34m(\u001B[0m\u001B[0mdraws\u001B[0m\u001B[0;34m=\u001B[0m\u001B[0;36m2000\u001B[0m\u001B[0;34m,\u001B[0m \u001B[0mchains\u001B[0m\u001B[0;34m=\u001B[0m\u001B[0;36m2\u001B[0m\u001B[0;34m,\u001B[0m \u001B[0mtune\u001B[0m\u001B[0;34m=\u001B[0m\u001B[0;36m500\u001B[0m\u001B[0;34m)\u001B[0m\u001B[0;34m\u001B[0m\u001B[0;34m\u001B[0m\u001B[0m\n\u001B[0m",
      "\u001B[0;32m~/anaconda3/envs/dss/lib/python3.8/site-packages/deprecat/classic.py\u001B[0m in \u001B[0;36mwrapper_function\u001B[0;34m(wrapped_, instance_, args_, kwargs_)\u001B[0m\n\u001B[1;32m    213\u001B[0m                         \u001B[0;32melse\u001B[0m\u001B[0;34m:\u001B[0m\u001B[0;34m\u001B[0m\u001B[0;34m\u001B[0m\u001B[0m\n\u001B[1;32m    214\u001B[0m                             \u001B[0mwarnings\u001B[0m\u001B[0;34m.\u001B[0m\u001B[0mwarn\u001B[0m\u001B[0;34m(\u001B[0m\u001B[0mmessage\u001B[0m\u001B[0;34m,\u001B[0m \u001B[0mcategory\u001B[0m\u001B[0;34m=\u001B[0m\u001B[0mcategory\u001B[0m\u001B[0;34m,\u001B[0m \u001B[0mstacklevel\u001B[0m\u001B[0;34m=\u001B[0m\u001B[0m_routine_stacklevel\u001B[0m\u001B[0;34m)\u001B[0m\u001B[0;34m\u001B[0m\u001B[0;34m\u001B[0m\u001B[0m\n\u001B[0;32m--> 215\u001B[0;31m                 \u001B[0;32mreturn\u001B[0m \u001B[0mwrapped_\u001B[0m\u001B[0;34m(\u001B[0m\u001B[0;34m*\u001B[0m\u001B[0margs_\u001B[0m\u001B[0;34m,\u001B[0m \u001B[0;34m**\u001B[0m\u001B[0mkwargs_\u001B[0m\u001B[0;34m)\u001B[0m\u001B[0;34m\u001B[0m\u001B[0;34m\u001B[0m\u001B[0m\n\u001B[0m\u001B[1;32m    216\u001B[0m \u001B[0;34m\u001B[0m\u001B[0m\n\u001B[1;32m    217\u001B[0m             \u001B[0;32mreturn\u001B[0m \u001B[0mwrapper_function\u001B[0m\u001B[0;34m(\u001B[0m\u001B[0mwrapped\u001B[0m\u001B[0;34m)\u001B[0m\u001B[0;34m\u001B[0m\u001B[0;34m\u001B[0m\u001B[0m\n",
      "\u001B[0;32m~/anaconda3/envs/dss/lib/python3.8/site-packages/pymc3/sampling.py\u001B[0m in \u001B[0;36msample\u001B[0;34m(draws, step, init, n_init, initvals, trace, chain_idx, chains, cores, tune, progressbar, model, random_seed, discard_tuned_samples, compute_convergence_checks, callback, jitter_max_retries, start, return_inferencedata, idata_kwargs, mp_ctx, pickle_backend, **kwargs)\u001B[0m\n\u001B[1;32m    573\u001B[0m         \u001B[0m_print_step_hierarchy\u001B[0m\u001B[0;34m(\u001B[0m\u001B[0mstep\u001B[0m\u001B[0;34m)\u001B[0m\u001B[0;34m\u001B[0m\u001B[0;34m\u001B[0m\u001B[0m\n\u001B[1;32m    574\u001B[0m         \u001B[0;32mtry\u001B[0m\u001B[0;34m:\u001B[0m\u001B[0;34m\u001B[0m\u001B[0;34m\u001B[0m\u001B[0m\n\u001B[0;32m--> 575\u001B[0;31m             \u001B[0mtrace\u001B[0m \u001B[0;34m=\u001B[0m \u001B[0m_mp_sample\u001B[0m\u001B[0;34m(\u001B[0m\u001B[0;34m**\u001B[0m\u001B[0msample_args\u001B[0m\u001B[0;34m,\u001B[0m \u001B[0;34m**\u001B[0m\u001B[0mparallel_args\u001B[0m\u001B[0;34m)\u001B[0m\u001B[0;34m\u001B[0m\u001B[0;34m\u001B[0m\u001B[0m\n\u001B[0m\u001B[1;32m    576\u001B[0m         \u001B[0;32mexcept\u001B[0m \u001B[0mpickle\u001B[0m\u001B[0;34m.\u001B[0m\u001B[0mPickleError\u001B[0m\u001B[0;34m:\u001B[0m\u001B[0;34m\u001B[0m\u001B[0;34m\u001B[0m\u001B[0m\n\u001B[1;32m    577\u001B[0m             \u001B[0m_log\u001B[0m\u001B[0;34m.\u001B[0m\u001B[0mwarning\u001B[0m\u001B[0;34m(\u001B[0m\u001B[0;34m\"Could not pickle model, sampling singlethreaded.\"\u001B[0m\u001B[0;34m)\u001B[0m\u001B[0;34m\u001B[0m\u001B[0;34m\u001B[0m\u001B[0m\n",
      "\u001B[0;32m~/anaconda3/envs/dss/lib/python3.8/site-packages/pymc3/sampling.py\u001B[0m in \u001B[0;36m_mp_sample\u001B[0;34m(draws, tune, step, chains, cores, chain, random_seed, start, progressbar, trace, model, callback, discard_tuned_samples, mp_ctx, pickle_backend, **kwargs)\u001B[0m\n\u001B[1;32m   1494\u001B[0m         \u001B[0;32mtry\u001B[0m\u001B[0;34m:\u001B[0m\u001B[0;34m\u001B[0m\u001B[0;34m\u001B[0m\u001B[0m\n\u001B[1;32m   1495\u001B[0m             \u001B[0;32mwith\u001B[0m \u001B[0msampler\u001B[0m\u001B[0;34m:\u001B[0m\u001B[0;34m\u001B[0m\u001B[0;34m\u001B[0m\u001B[0m\n\u001B[0;32m-> 1496\u001B[0;31m                 \u001B[0;32mfor\u001B[0m \u001B[0mdraw\u001B[0m \u001B[0;32min\u001B[0m \u001B[0msampler\u001B[0m\u001B[0;34m:\u001B[0m\u001B[0;34m\u001B[0m\u001B[0;34m\u001B[0m\u001B[0m\n\u001B[0m\u001B[1;32m   1497\u001B[0m                     \u001B[0mtrace\u001B[0m \u001B[0;34m=\u001B[0m \u001B[0mtraces\u001B[0m\u001B[0;34m[\u001B[0m\u001B[0mdraw\u001B[0m\u001B[0;34m.\u001B[0m\u001B[0mchain\u001B[0m \u001B[0;34m-\u001B[0m \u001B[0mchain\u001B[0m\u001B[0;34m]\u001B[0m\u001B[0;34m\u001B[0m\u001B[0;34m\u001B[0m\u001B[0m\n\u001B[1;32m   1498\u001B[0m                     \u001B[0;32mif\u001B[0m \u001B[0mtrace\u001B[0m\u001B[0;34m.\u001B[0m\u001B[0msupports_sampler_stats\u001B[0m \u001B[0;32mand\u001B[0m \u001B[0mdraw\u001B[0m\u001B[0;34m.\u001B[0m\u001B[0mstats\u001B[0m \u001B[0;32mis\u001B[0m \u001B[0;32mnot\u001B[0m \u001B[0;32mNone\u001B[0m\u001B[0;34m:\u001B[0m\u001B[0;34m\u001B[0m\u001B[0;34m\u001B[0m\u001B[0m\n",
      "\u001B[0;32m~/anaconda3/envs/dss/lib/python3.8/site-packages/pymc3/parallel_sampling.py\u001B[0m in \u001B[0;36m__iter__\u001B[0;34m(self)\u001B[0m\n\u001B[1;32m    477\u001B[0m \u001B[0;34m\u001B[0m\u001B[0m\n\u001B[1;32m    478\u001B[0m         \u001B[0;32mwhile\u001B[0m \u001B[0mself\u001B[0m\u001B[0;34m.\u001B[0m\u001B[0m_active\u001B[0m\u001B[0;34m:\u001B[0m\u001B[0;34m\u001B[0m\u001B[0;34m\u001B[0m\u001B[0m\n\u001B[0;32m--> 479\u001B[0;31m             \u001B[0mdraw\u001B[0m \u001B[0;34m=\u001B[0m \u001B[0mProcessAdapter\u001B[0m\u001B[0;34m.\u001B[0m\u001B[0mrecv_draw\u001B[0m\u001B[0;34m(\u001B[0m\u001B[0mself\u001B[0m\u001B[0;34m.\u001B[0m\u001B[0m_active\u001B[0m\u001B[0;34m)\u001B[0m\u001B[0;34m\u001B[0m\u001B[0;34m\u001B[0m\u001B[0m\n\u001B[0m\u001B[1;32m    480\u001B[0m             \u001B[0mproc\u001B[0m\u001B[0;34m,\u001B[0m \u001B[0mis_last\u001B[0m\u001B[0;34m,\u001B[0m \u001B[0mdraw\u001B[0m\u001B[0;34m,\u001B[0m \u001B[0mtuning\u001B[0m\u001B[0;34m,\u001B[0m \u001B[0mstats\u001B[0m\u001B[0;34m,\u001B[0m \u001B[0mwarns\u001B[0m \u001B[0;34m=\u001B[0m \u001B[0mdraw\u001B[0m\u001B[0;34m\u001B[0m\u001B[0;34m\u001B[0m\u001B[0m\n\u001B[1;32m    481\u001B[0m             \u001B[0mself\u001B[0m\u001B[0;34m.\u001B[0m\u001B[0m_total_draws\u001B[0m \u001B[0;34m+=\u001B[0m \u001B[0;36m1\u001B[0m\u001B[0;34m\u001B[0m\u001B[0;34m\u001B[0m\u001B[0m\n",
      "\u001B[0;32m~/anaconda3/envs/dss/lib/python3.8/site-packages/pymc3/parallel_sampling.py\u001B[0m in \u001B[0;36mrecv_draw\u001B[0;34m(processes, timeout)\u001B[0m\n\u001B[1;32m    357\u001B[0m             \u001B[0;32melse\u001B[0m\u001B[0;34m:\u001B[0m\u001B[0;34m\u001B[0m\u001B[0;34m\u001B[0m\u001B[0m\n\u001B[1;32m    358\u001B[0m                 \u001B[0merror\u001B[0m \u001B[0;34m=\u001B[0m \u001B[0mRuntimeError\u001B[0m\u001B[0;34m(\u001B[0m\u001B[0;34m\"Chain %s failed.\"\u001B[0m \u001B[0;34m%\u001B[0m \u001B[0mproc\u001B[0m\u001B[0;34m.\u001B[0m\u001B[0mchain\u001B[0m\u001B[0;34m)\u001B[0m\u001B[0;34m\u001B[0m\u001B[0;34m\u001B[0m\u001B[0m\n\u001B[0;32m--> 359\u001B[0;31m             \u001B[0;32mraise\u001B[0m \u001B[0merror\u001B[0m \u001B[0;32mfrom\u001B[0m \u001B[0mold_error\u001B[0m\u001B[0;34m\u001B[0m\u001B[0;34m\u001B[0m\u001B[0m\n\u001B[0m\u001B[1;32m    360\u001B[0m         \u001B[0;32melif\u001B[0m \u001B[0mmsg\u001B[0m\u001B[0;34m[\u001B[0m\u001B[0;36m0\u001B[0m\u001B[0;34m]\u001B[0m \u001B[0;34m==\u001B[0m \u001B[0;34m\"writing_done\"\u001B[0m\u001B[0;34m:\u001B[0m\u001B[0;34m\u001B[0m\u001B[0;34m\u001B[0m\u001B[0m\n\u001B[1;32m    361\u001B[0m             \u001B[0mproc\u001B[0m\u001B[0;34m.\u001B[0m\u001B[0m_readable\u001B[0m \u001B[0;34m=\u001B[0m \u001B[0;32mTrue\u001B[0m\u001B[0;34m\u001B[0m\u001B[0;34m\u001B[0m\u001B[0m\n",
      "\u001B[0;31mRuntimeError\u001B[0m: Chain 1 failed."
     ]
    }
   ],
   "source": [
    "import pymc3 as pm\n",
    "formula = 'price ~ mileage + car_age'\n",
    "\n",
    "with pm.Model() as normal_model:\n",
    "    \n",
    "    fam = pm.glm.families.Normal()\n",
    "    \n",
    "    pm.GLM.from_formula(formula, data=toyota, family=fam)\n",
    "    \n",
    "    # normal_trace = pm.sample(draws=2000, chains=2, tune=500, njobs=-1)\n",
    "    normal_trace = pm.sample(draws=2000, chains=2, tune=500)"
   ]
  },
  {
   "cell_type": "code",
   "execution_count": 13,
   "id": "147bf427",
   "metadata": {},
   "outputs": [
    {
     "ename": "NameError",
     "evalue": "name 'normal_trace' is not defined",
     "output_type": "error",
     "traceback": [
      "\u001B[0;31m---------------------------------------------------------------------------\u001B[0m",
      "\u001B[0;31mNameError\u001B[0m                                 Traceback (most recent call last)",
      "\u001B[0;32m<ipython-input-13-3c748771bf13>\u001B[0m in \u001B[0;36m<module>\u001B[0;34m\u001B[0m\n\u001B[0;32m----> 1\u001B[0;31m \u001B[0mpm\u001B[0m\u001B[0;34m.\u001B[0m\u001B[0mtraceplot\u001B[0m\u001B[0;34m(\u001B[0m\u001B[0mnormal_trace\u001B[0m\u001B[0;34m)\u001B[0m\u001B[0;34m\u001B[0m\u001B[0;34m\u001B[0m\u001B[0m\n\u001B[0m",
      "\u001B[0;31mNameError\u001B[0m: name 'normal_trace' is not defined"
     ]
    }
   ],
   "source": [
    "pm.traceplot(normal_trace)"
   ]
  },
  {
   "cell_type": "code",
   "execution_count": null,
   "id": "76abb5d2",
   "metadata": {},
   "outputs": [],
   "source": []
  }
 ],
 "metadata": {
  "kernelspec": {
   "display_name": "Python 3 (ipykernel)",
   "language": "python",
   "name": "python3"
  },
  "language_info": {
   "codemirror_mode": {
    "name": "ipython",
    "version": 3
   },
   "file_extension": ".py",
   "mimetype": "text/x-python",
   "name": "python",
   "nbconvert_exporter": "python",
   "pygments_lexer": "ipython3",
   "version": "3.9.13"
  }
 },
 "nbformat": 4,
 "nbformat_minor": 5
}