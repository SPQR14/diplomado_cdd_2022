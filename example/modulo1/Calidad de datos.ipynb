{
 "cells": [
  {
   "cell_type": "markdown",
   "metadata": {
    "id": "xsNHbQElHZ_w"
   },
   "source": [
    "## Librerias"
   ]
  },
  {
   "cell_type": "code",
   "execution_count": 97,
   "metadata": {
    "ExecuteTime": {
     "end_time": "2022-04-29T19:01:16.049158Z",
     "start_time": "2022-04-29T19:01:16.044912Z"
    },
    "id": "tvaqLohhHZ_9"
   },
   "outputs": [],
   "source": [
    "import pandas as pd\n",
    "#https://pandas.pydata.org/docs/reference/api/pandas.DataFrame.empty.html\n",
    "import numpy as np\n",
    "import seaborn as sns\n",
    "import matplotlib.pyplot as plt\n",
    "import emoji\n",
    "#definir eñlnumero de columnas visibles en un dataframe\n",
    "pd.set_option(\"display.max_columns\",200)\n",
    "#definir el numero de filas visibles en un dataframe\n",
    "pd.set_option(\"display.max_rows\",100)"
   ]
  },
  {
   "cell_type": "markdown",
   "metadata": {},
   "source": [
    "## OBJETIVO"
   ]
  },
  {
   "cell_type": "markdown",
   "metadata": {},
   "source": [
    "- Aplicar las técnicas de calidad de datos en información de apoyos en el estado de Jalisco de diversos programas donde la unidad muestral de la tabla es beneficiario y programa"
   ]
  },
  {
   "cell_type": "markdown",
   "metadata": {},
   "source": [
    "## SECCIONES\n",
    "- Codificaciones\n",
    "- Etiquetado de variables\n",
    "- Duplicados\n",
    "- Completitud\n",
    "- Orden \\ Precision - por tipo de variable\n",
    "- Consistencia"
   ]
  },
  {
   "cell_type": "markdown",
   "metadata": {},
   "source": [
    "## Codificaciones"
   ]
  },
  {
   "cell_type": "markdown",
   "metadata": {},
   "source": [
    "**¿Qué son las codificaciones?**\n",
    "- Las codificaciones de caracteres son conjuntos específicos de reglas para mapear desde cadenas de bytes binarios sin procesar (que se ven así: 0110100001101001) a caracteres que componen texto legible por humanos (como \"hola\").\n",
    "- Hay muchas codificaciones diferentes, y si trataste de leer un texto con una codificación diferente a la que estaba escrito originalmente, terminaste con un texto codificado llamado \"mojibake\" (dicho como mo-gee-bah-kay). Aquí tienes un ejemplo de mojibake:æ– ‡ å — åŒ – ã ??\n",
    "- Otra opcion es obtener valores \"desconocidos\" : ����������"
   ]
  },
  {
   "cell_type": "markdown",
   "metadata": {},
   "source": [
    "- Existen distintas codificaciones pero la principal es UTF-8 : https://es.wikipedia.org/wiki/Codificaci%C3%B3n_de_caracteres\n",
    "- UTF-8  “Formato de Transformación Unicode” (en inglés), y el número 8 a los bits. Este formato es considerado el más idóneo para web y e-mail.\n",
    "https://kb.iu.edu/d/ahfr\n",
    "\n",
    "- ASCII es un estándar para la representación de caracteres en dispositivos electrónicos. Para entender lo que significa es necesario conocer cómo funciona un ordenador: en él los procesos de cálculo se basan siempre en el sistema binario, lo que significa que ceros y unos determinan las operaciones. Por ello, ASCII se erige sobre este sistema. El estándar ASCII original define diversos caracteres en siete bits, es decir, siete posiciones que muestran 0 o 1.  https://elcodigoascii.com.ar/"
   ]
  },
  {
   "cell_type": "code",
   "execution_count": 98,
   "metadata": {
    "ExecuteTime": {
     "end_time": "2022-04-29T19:01:18.119479Z",
     "start_time": "2022-04-29T19:01:18.114148Z"
    }
   },
   "outputs": [
    {
     "data": {
      "text/plain": [
       "str"
      ]
     },
     "execution_count": 98,
     "metadata": {},
     "output_type": "execute_result"
    }
   ],
   "source": [
    "# Ejemplo\n",
    "before = \"Simbolo del Euro : €\"\n",
    "\n",
    "#type de dato\n",
    "type(before)"
   ]
  },
  {
   "cell_type": "markdown",
   "metadata": {},
   "source": [
    "- r significa crudo --- A diferencia de los literales de cadena normales, r-string no otorga ningún significado especial a los caracteres de escape. Es decir, la cadena normal 'abc\\n'tiene 4 caracteres de largo, el último carácter es un carácter especial de \"nueva línea\". Para proporcionarlo en forma literal, usamos escape con \\. Para cadenas sin procesar, r'abc\\n'es una cadena de 5 longitudes, los últimos dos caracteres son literalmente \\y n\n",
    "- b significa bytes\n",
    "- u significas unicode ---si para unicode en python 2. Lo más probable es que deba olvidar esto, si está trabajando con aplicaciones modernas: las cadenas predeterminadas en python 3 son todas unicode, y si está migrando desde python 2, lo más probable es que use from __future__ import unicode_literals, que hace [casi] lo mismo para python 2\n",
    "- f significa formato - Uno más notable es f-strings , que cobró vida con python 3.6 como una forma simple y poderosa de formatear cadenas:  f'a equals {a} and b is {b}'"
   ]
  },
  {
   "cell_type": "code",
   "execution_count": 99,
   "metadata": {
    "ExecuteTime": {
     "end_time": "2022-04-29T19:01:18.701608Z",
     "start_time": "2022-04-29T19:01:18.696680Z"
    }
   },
   "outputs": [
    {
     "data": {
      "text/plain": [
       "b'Simbolo del Euro : \\x80'"
      ]
     },
     "execution_count": 99,
     "metadata": {},
     "output_type": "execute_result"
    }
   ],
   "source": [
    "#Convertir a bytes determinando el tipo de codificación\n",
    "#tiene una b delante de él, y luego tal vez algo de texto después.\n",
    "#Eso es porque los bytes se imprimen como si fueran caracteres codificados en ASCII.\n",
    "before.encode(\"windows-1250\")"
   ]
  },
  {
   "cell_type": "code",
   "execution_count": 100,
   "metadata": {
    "ExecuteTime": {
     "end_time": "2022-04-29T19:01:18.998420Z",
     "start_time": "2022-04-29T19:01:18.993888Z"
    }
   },
   "outputs": [
    {
     "data": {
      "text/plain": [
       "b'Simbolo del Euro : \\xe2\\x82\\xac'"
      ]
     },
     "execution_count": 100,
     "metadata": {},
     "output_type": "execute_result"
    }
   ],
   "source": [
    "#Convertir a bytes determinando el tipo de codificación\n",
    "before.encode(\"utf-8\")"
   ]
  },
  {
   "cell_type": "code",
   "execution_count": 101,
   "metadata": {
    "ExecuteTime": {
     "end_time": "2022-04-29T19:01:19.254402Z",
     "start_time": "2022-04-29T19:01:19.252149Z"
    }
   },
   "outputs": [],
   "source": [
    "after=before.encode(\"utf-8\")"
   ]
  },
  {
   "cell_type": "code",
   "execution_count": 102,
   "metadata": {
    "ExecuteTime": {
     "end_time": "2022-04-29T19:01:19.533762Z",
     "start_time": "2022-04-29T19:01:19.529897Z"
    }
   },
   "outputs": [
    {
     "data": {
      "text/plain": [
       "b'Simbolo del Euro : \\xe2\\x82\\xac'"
      ]
     },
     "execution_count": 102,
     "metadata": {},
     "output_type": "execute_result"
    }
   ],
   "source": [
    "after"
   ]
  },
  {
   "cell_type": "code",
   "execution_count": 103,
   "metadata": {
    "ExecuteTime": {
     "end_time": "2022-04-29T19:01:20.822754Z",
     "start_time": "2022-04-29T19:01:20.818714Z"
    }
   },
   "outputs": [
    {
     "data": {
      "text/plain": [
       "'Simbolo del Euro : €'"
      ]
     },
     "execution_count": 103,
     "metadata": {},
     "output_type": "execute_result"
    }
   ],
   "source": [
    "#Regresar al simbolo normal\n",
    "after.decode(\"utf-8\")"
   ]
  },
  {
   "cell_type": "code",
   "execution_count": 104,
   "metadata": {
    "ExecuteTime": {
     "end_time": "2022-04-29T19:01:20.903234Z",
     "start_time": "2022-04-29T19:01:20.889959Z"
    }
   },
   "outputs": [
    {
     "ename": "UnicodeEncodeError",
     "evalue": "'ascii' codec can't encode character '\\u20ac' in position 19: ordinal not in range(128)",
     "output_type": "error",
     "traceback": [
      "\u001b[0;31m---------------------------------------------------------------------------\u001b[0m",
      "\u001b[0;31mUnicodeEncodeError\u001b[0m                        Traceback (most recent call last)",
      "\u001b[0;32m/tmp/ipykernel_5870/1879292834.py\u001b[0m in \u001b[0;36m<module>\u001b[0;34m\u001b[0m\n\u001b[1;32m      3\u001b[0m \u001b[0;34m\u001b[0m\u001b[0m\n\u001b[1;32m      4\u001b[0m \u001b[0;31m#\u001b[0m\u001b[0;34m\u001b[0m\u001b[0;34m\u001b[0m\u001b[0;34m\u001b[0m\u001b[0m\n\u001b[0;32m----> 5\u001b[0;31m \u001b[0mafter\u001b[0m \u001b[0;34m=\u001b[0m \u001b[0mbefore\u001b[0m\u001b[0;34m.\u001b[0m\u001b[0mencode\u001b[0m\u001b[0;34m(\u001b[0m\u001b[0;34m\"ascii\"\u001b[0m\u001b[0;34m)\u001b[0m\u001b[0;34m\u001b[0m\u001b[0;34m\u001b[0m\u001b[0m\n\u001b[0m",
      "\u001b[0;31mUnicodeEncodeError\u001b[0m: 'ascii' codec can't encode character '\\u20ac' in position 19: ordinal not in range(128)"
     ]
    }
   ],
   "source": [
    "# Ejemplo para codificar en ASCII\n",
    "before = \"Simbolo del Euro : €\"\n",
    "\n",
    "# \n",
    "after = before.encode(\"ascii\")"
   ]
  },
  {
   "cell_type": "code",
   "execution_count": null,
   "metadata": {
    "ExecuteTime": {
     "end_time": "2022-04-29T19:01:20.912763Z",
     "start_time": "2022-04-29T19:01:20.912739Z"
    }
   },
   "outputs": [],
   "source": [
    "# Ejemplo para codificar en ASCII\n",
    "before = \"Simbolo del Euro : €\"\n",
    "# \n",
    "after = before.encode(\"ascii\", errors = \"replace\")\n",
    "# regresar a utf-8 utf-8\n",
    "print(after.decode(\"ascii\"))"
   ]
  },
  {
   "cell_type": "markdown",
   "metadata": {
    "id": "5CTpYhzEHaAC"
   },
   "source": [
    "## Dataset"
   ]
  },
  {
   "cell_type": "code",
   "execution_count": 105,
   "metadata": {
    "ExecuteTime": {
     "end_time": "2022-04-29T19:01:21.534625Z",
     "start_time": "2022-04-29T19:01:21.523090Z"
    },
    "id": "se95huNEHaAE"
   },
   "outputs": [],
   "source": [
    "#catalogos\n",
    "sexo=pd.read_csv(\"../data/calidad_datos/cat_sexo.csv\",encoding=\"utf-8\",)\n",
    "ocupacion=pd.read_csv(\"../data/calidad_datos/cat_ocupacion.csv\",encoding=\"utf-8\")\n",
    "escolaridad=pd.read_csv(\"../data/calidad_datos/cat_escolaridad.csv\",encoding=\"utf-8\")\n",
    "edad=pd.read_csv(\"../data/calidad_datos/cat_edad.csv\",encoding=\"utf-8\")"
   ]
  },
  {
   "cell_type": "code",
   "execution_count": 106,
   "metadata": {
    "ExecuteTime": {
     "end_time": "2022-04-29T19:01:22.064658Z",
     "start_time": "2022-04-29T19:01:22.039561Z"
    }
   },
   "outputs": [
    {
     "data": {
      "text/html": [
       "<div>\n",
       "<style scoped>\n",
       "    .dataframe tbody tr th:only-of-type {\n",
       "        vertical-align: middle;\n",
       "    }\n",
       "\n",
       "    .dataframe tbody tr th {\n",
       "        vertical-align: top;\n",
       "    }\n",
       "\n",
       "    .dataframe thead th {\n",
       "        text-align: right;\n",
       "    }\n",
       "</style>\n",
       "<table border=\"1\" class=\"dataframe\">\n",
       "  <thead>\n",
       "    <tr style=\"text-align: right;\">\n",
       "      <th></th>\n",
       "      <th>CVE</th>\n",
       "      <th>DESCRIP</th>\n",
       "    </tr>\n",
       "  </thead>\n",
       "  <tbody>\n",
       "    <tr>\n",
       "      <th>0</th>\n",
       "      <td>1001</td>\n",
       "      <td>Una hora</td>\n",
       "    </tr>\n",
       "    <tr>\n",
       "      <th>1</th>\n",
       "      <td>1002</td>\n",
       "      <td>Dos horas</td>\n",
       "    </tr>\n",
       "    <tr>\n",
       "      <th>2</th>\n",
       "      <td>1003</td>\n",
       "      <td>Tres horas</td>\n",
       "    </tr>\n",
       "    <tr>\n",
       "      <th>3</th>\n",
       "      <td>1004</td>\n",
       "      <td>Cuatro horas</td>\n",
       "    </tr>\n",
       "    <tr>\n",
       "      <th>4</th>\n",
       "      <td>1005</td>\n",
       "      <td>Cinco horas</td>\n",
       "    </tr>\n",
       "    <tr>\n",
       "      <th>...</th>\n",
       "      <td>...</td>\n",
       "      <td>...</td>\n",
       "    </tr>\n",
       "    <tr>\n",
       "      <th>183</th>\n",
       "      <td>4117</td>\n",
       "      <td>Ciento diecisiete años</td>\n",
       "    </tr>\n",
       "    <tr>\n",
       "      <th>184</th>\n",
       "      <td>4118</td>\n",
       "      <td>Ciento dieciocho años</td>\n",
       "    </tr>\n",
       "    <tr>\n",
       "      <th>185</th>\n",
       "      <td>4119</td>\n",
       "      <td>Ciento diecinueve años</td>\n",
       "    </tr>\n",
       "    <tr>\n",
       "      <th>186</th>\n",
       "      <td>4120</td>\n",
       "      <td>Ciento veinte años</td>\n",
       "    </tr>\n",
       "    <tr>\n",
       "      <th>187</th>\n",
       "      <td>4998</td>\n",
       "      <td>Edad en años no especificada</td>\n",
       "    </tr>\n",
       "  </tbody>\n",
       "</table>\n",
       "<p>188 rows × 2 columns</p>\n",
       "</div>"
      ],
      "text/plain": [
       "      CVE                          DESCRIP\n",
       "0    1001  Una hora                       \n",
       "1    1002  Dos horas                      \n",
       "2    1003  Tres horas                     \n",
       "3    1004  Cuatro horas                   \n",
       "4    1005  Cinco horas                    \n",
       "..    ...                              ...\n",
       "183  4117  Ciento diecisiete años         \n",
       "184  4118  Ciento dieciocho años          \n",
       "185  4119  Ciento diecinueve años         \n",
       "186  4120  Ciento veinte años             \n",
       "187  4998  Edad en años no especificada   \n",
       "\n",
       "[188 rows x 2 columns]"
      ]
     },
     "execution_count": 106,
     "metadata": {},
     "output_type": "execute_result"
    }
   ],
   "source": [
    "edad"
   ]
  },
  {
   "cell_type": "code",
   "execution_count": 107,
   "metadata": {
    "ExecuteTime": {
     "end_time": "2022-04-29T19:01:24.750074Z",
     "start_time": "2022-04-29T19:01:22.615397Z"
    },
    "id": "fDneCutTHaAG",
    "outputId": "1cb396f1-f9fb-4933-a44f-4c6e7adc796e"
   },
   "outputs": [
    {
     "name": "stderr",
     "output_type": "stream",
     "text": [
      "/home/carla/envs/diplomado/lib/python3.8/site-packages/IPython/core/interactiveshell.py:3444: DtypeWarning: Columns (2,10) have mixed types.Specify dtype option on import or set low_memory=False.\n",
      "  exec(code_obj, self.user_global_ns, self.user_ns)\n"
     ]
    }
   ],
   "source": [
    "#Tabla con infomación de apoyos en el estado de Jalisco de distintos programas, la unidad muestral de la tabla es beneficiado y programa\n",
    "df=pd.read_csv(\"../data/calidad_datos/data_jalisco.csv\",encoding=\"utf-8\")"
   ]
  },
  {
   "cell_type": "code",
   "execution_count": 108,
   "metadata": {
    "ExecuteTime": {
     "end_time": "2022-04-29T19:01:24.843331Z",
     "start_time": "2022-04-29T19:01:24.830411Z"
    }
   },
   "outputs": [
    {
     "data": {
      "text/plain": [
       "(655341, 26)"
      ]
     },
     "execution_count": 108,
     "metadata": {},
     "output_type": "execute_result"
    }
   ],
   "source": [
    "df.shape"
   ]
  },
  {
   "cell_type": "code",
   "execution_count": 109,
   "metadata": {
    "ExecuteTime": {
     "end_time": "2022-04-29T19:01:24.934636Z",
     "start_time": "2022-04-29T19:01:24.926113Z"
    },
    "id": "gttpgfq2HaAL",
    "outputId": "fab9eabb-d86e-4b41-8f1b-fc63dc6d770b"
   },
   "outputs": [
    {
     "data": {
      "text/html": [
       "<div>\n",
       "<style scoped>\n",
       "    .dataframe tbody tr th:only-of-type {\n",
       "        vertical-align: middle;\n",
       "    }\n",
       "\n",
       "    .dataframe tbody tr th {\n",
       "        vertical-align: top;\n",
       "    }\n",
       "\n",
       "    .dataframe thead th {\n",
       "        text-align: right;\n",
       "    }\n",
       "</style>\n",
       "<table border=\"1\" class=\"dataframe\">\n",
       "  <thead>\n",
       "    <tr style=\"text-align: right;\">\n",
       "      <th></th>\n",
       "      <th>CVE</th>\n",
       "      <th>DESCRIP</th>\n",
       "    </tr>\n",
       "  </thead>\n",
       "  <tbody>\n",
       "    <tr>\n",
       "      <th>0</th>\n",
       "      <td>1</td>\n",
       "      <td>Hombres</td>\n",
       "    </tr>\n",
       "    <tr>\n",
       "      <th>1</th>\n",
       "      <td>2</td>\n",
       "      <td>Mujeres</td>\n",
       "    </tr>\n",
       "    <tr>\n",
       "      <th>2</th>\n",
       "      <td>9</td>\n",
       "      <td>Sexo no especificado</td>\n",
       "    </tr>\n",
       "  </tbody>\n",
       "</table>\n",
       "</div>"
      ],
      "text/plain": [
       "   CVE               DESCRIP\n",
       "0    1               Hombres\n",
       "1    2               Mujeres\n",
       "2    9  Sexo no especificado"
      ]
     },
     "execution_count": 109,
     "metadata": {},
     "output_type": "execute_result"
    }
   ],
   "source": [
    "sexo"
   ]
  },
  {
   "cell_type": "code",
   "execution_count": 110,
   "metadata": {
    "ExecuteTime": {
     "end_time": "2022-04-29T19:01:25.022685Z",
     "start_time": "2022-04-29T19:01:25.013154Z"
    },
    "id": "ZlqXG0jfHaAO",
    "outputId": "0bd74386-361a-49a7-ee08-8c057986ea97"
   },
   "outputs": [
    {
     "data": {
      "text/html": [
       "<div>\n",
       "<style scoped>\n",
       "    .dataframe tbody tr th:only-of-type {\n",
       "        vertical-align: middle;\n",
       "    }\n",
       "\n",
       "    .dataframe tbody tr th {\n",
       "        vertical-align: top;\n",
       "    }\n",
       "\n",
       "    .dataframe thead th {\n",
       "        text-align: right;\n",
       "    }\n",
       "</style>\n",
       "<table border=\"1\" class=\"dataframe\">\n",
       "  <thead>\n",
       "    <tr style=\"text-align: right;\">\n",
       "      <th></th>\n",
       "      <th>CVE</th>\n",
       "      <th>DESCRIP</th>\n",
       "    </tr>\n",
       "  </thead>\n",
       "  <tbody>\n",
       "    <tr>\n",
       "      <th>0</th>\n",
       "      <td>1</td>\n",
       "      <td>Funcionarios, directores y jefes</td>\n",
       "    </tr>\n",
       "    <tr>\n",
       "      <th>1</th>\n",
       "      <td>2</td>\n",
       "      <td>Profesionistas y técnicos</td>\n",
       "    </tr>\n",
       "    <tr>\n",
       "      <th>2</th>\n",
       "      <td>3</td>\n",
       "      <td>Trabajadores auxiliares en actividades adminis...</td>\n",
       "    </tr>\n",
       "    <tr>\n",
       "      <th>3</th>\n",
       "      <td>4</td>\n",
       "      <td>Comerciantes, empleados en ventas y agentes de...</td>\n",
       "    </tr>\n",
       "    <tr>\n",
       "      <th>4</th>\n",
       "      <td>5</td>\n",
       "      <td>Trabajadores en servicios personales y vigilancia</td>\n",
       "    </tr>\n",
       "    <tr>\n",
       "      <th>5</th>\n",
       "      <td>6</td>\n",
       "      <td>Trabajadores en actividades agrícolas, ganader...</td>\n",
       "    </tr>\n",
       "    <tr>\n",
       "      <th>6</th>\n",
       "      <td>7</td>\n",
       "      <td>Trabajadores artesanales</td>\n",
       "    </tr>\n",
       "    <tr>\n",
       "      <th>7</th>\n",
       "      <td>8</td>\n",
       "      <td>Operadores de maquinaria industrial, ensamblad...</td>\n",
       "    </tr>\n",
       "    <tr>\n",
       "      <th>8</th>\n",
       "      <td>9</td>\n",
       "      <td>Trabajadores en actividades elementales y de a...</td>\n",
       "    </tr>\n",
       "    <tr>\n",
       "      <th>9</th>\n",
       "      <td>10</td>\n",
       "      <td>Busca trabajo</td>\n",
       "    </tr>\n",
       "    <tr>\n",
       "      <th>10</th>\n",
       "      <td>11</td>\n",
       "      <td>No trabaja</td>\n",
       "    </tr>\n",
       "    <tr>\n",
       "      <th>11</th>\n",
       "      <td>97</td>\n",
       "      <td>No aplica a menores de 5 años</td>\n",
       "    </tr>\n",
       "    <tr>\n",
       "      <th>12</th>\n",
       "      <td>98</td>\n",
       "      <td>Ocupaciones insuficientemente especificadas</td>\n",
       "    </tr>\n",
       "    <tr>\n",
       "      <th>13</th>\n",
       "      <td>99</td>\n",
       "      <td>Ocupación no especificada</td>\n",
       "    </tr>\n",
       "  </tbody>\n",
       "</table>\n",
       "</div>"
      ],
      "text/plain": [
       "    CVE                                            DESCRIP\n",
       "0     1                   Funcionarios, directores y jefes\n",
       "1     2                          Profesionistas y técnicos\n",
       "2     3  Trabajadores auxiliares en actividades adminis...\n",
       "3     4  Comerciantes, empleados en ventas y agentes de...\n",
       "4     5  Trabajadores en servicios personales y vigilancia\n",
       "5     6  Trabajadores en actividades agrícolas, ganader...\n",
       "6     7                           Trabajadores artesanales\n",
       "7     8  Operadores de maquinaria industrial, ensamblad...\n",
       "8     9  Trabajadores en actividades elementales y de a...\n",
       "9    10                                      Busca trabajo\n",
       "10   11                                         No trabaja\n",
       "11   97                      No aplica a menores de 5 años\n",
       "12   98        Ocupaciones insuficientemente especificadas\n",
       "13   99                          Ocupación no especificada"
      ]
     },
     "execution_count": 110,
     "metadata": {},
     "output_type": "execute_result"
    }
   ],
   "source": [
    "#Tabla con la descripción de las distintas ocupaciones registradas\n",
    "ocupacion"
   ]
  },
  {
   "cell_type": "code",
   "execution_count": 111,
   "metadata": {
    "ExecuteTime": {
     "end_time": "2022-04-29T19:01:25.122916Z",
     "start_time": "2022-04-29T19:01:25.113628Z"
    },
    "id": "m6LekLxCHaAS",
    "outputId": "4db72ad1-c377-4463-aacf-936bc5ac36d6"
   },
   "outputs": [
    {
     "data": {
      "text/html": [
       "<div>\n",
       "<style scoped>\n",
       "    .dataframe tbody tr th:only-of-type {\n",
       "        vertical-align: middle;\n",
       "    }\n",
       "\n",
       "    .dataframe tbody tr th {\n",
       "        vertical-align: top;\n",
       "    }\n",
       "\n",
       "    .dataframe thead th {\n",
       "        text-align: right;\n",
       "    }\n",
       "</style>\n",
       "<table border=\"1\" class=\"dataframe\">\n",
       "  <thead>\n",
       "    <tr style=\"text-align: right;\">\n",
       "      <th></th>\n",
       "      <th>CVE</th>\n",
       "      <th>DESCRIP</th>\n",
       "    </tr>\n",
       "  </thead>\n",
       "  <tbody>\n",
       "    <tr>\n",
       "      <th>0</th>\n",
       "      <td>1</td>\n",
       "      <td>Sin escolaridad</td>\n",
       "    </tr>\n",
       "    <tr>\n",
       "      <th>1</th>\n",
       "      <td>2</td>\n",
       "      <td>Preescolar</td>\n",
       "    </tr>\n",
       "    <tr>\n",
       "      <th>2</th>\n",
       "      <td>3</td>\n",
       "      <td>Primaria incompleta</td>\n",
       "    </tr>\n",
       "    <tr>\n",
       "      <th>3</th>\n",
       "      <td>4</td>\n",
       "      <td>Primaria completa</td>\n",
       "    </tr>\n",
       "    <tr>\n",
       "      <th>4</th>\n",
       "      <td>5</td>\n",
       "      <td>Secundaria incompleta</td>\n",
       "    </tr>\n",
       "    <tr>\n",
       "      <th>5</th>\n",
       "      <td>6</td>\n",
       "      <td>Secundaria completa</td>\n",
       "    </tr>\n",
       "    <tr>\n",
       "      <th>6</th>\n",
       "      <td>7</td>\n",
       "      <td>Bachillerato o Preparatoria incompleto</td>\n",
       "    </tr>\n",
       "    <tr>\n",
       "      <th>7</th>\n",
       "      <td>8</td>\n",
       "      <td>Bachillerato o Preparatoria completo</td>\n",
       "    </tr>\n",
       "    <tr>\n",
       "      <th>8</th>\n",
       "      <td>9</td>\n",
       "      <td>Profesional</td>\n",
       "    </tr>\n",
       "    <tr>\n",
       "      <th>9</th>\n",
       "      <td>10</td>\n",
       "      <td>Posgrado</td>\n",
       "    </tr>\n",
       "    <tr>\n",
       "      <th>10</th>\n",
       "      <td>88</td>\n",
       "      <td>No aplica a menores de 3 años</td>\n",
       "    </tr>\n",
       "    <tr>\n",
       "      <th>11</th>\n",
       "      <td>99</td>\n",
       "      <td>No especificado</td>\n",
       "    </tr>\n",
       "  </tbody>\n",
       "</table>\n",
       "</div>"
      ],
      "text/plain": [
       "    CVE                                 DESCRIP\n",
       "0     1                         Sin escolaridad\n",
       "1     2                              Preescolar\n",
       "2     3                     Primaria incompleta\n",
       "3     4                       Primaria completa\n",
       "4     5                   Secundaria incompleta\n",
       "5     6                     Secundaria completa\n",
       "6     7  Bachillerato o Preparatoria incompleto\n",
       "7     8    Bachillerato o Preparatoria completo\n",
       "8     9                             Profesional\n",
       "9    10                                Posgrado\n",
       "10   88           No aplica a menores de 3 años\n",
       "11   99                         No especificado"
      ]
     },
     "execution_count": 111,
     "metadata": {},
     "output_type": "execute_result"
    }
   ],
   "source": [
    "#Nivel de estudios\n",
    "escolaridad"
   ]
  },
  {
   "cell_type": "code",
   "execution_count": 112,
   "metadata": {
    "ExecuteTime": {
     "end_time": "2022-04-29T19:01:25.221088Z",
     "start_time": "2022-04-29T19:01:25.205197Z"
    },
    "id": "DVpdF19-HaAU",
    "outputId": "b24a327c-da1f-47cb-b26b-03ee1836bfee"
   },
   "outputs": [
    {
     "data": {
      "text/html": [
       "<div>\n",
       "<style scoped>\n",
       "    .dataframe tbody tr th:only-of-type {\n",
       "        vertical-align: middle;\n",
       "    }\n",
       "\n",
       "    .dataframe tbody tr th {\n",
       "        vertical-align: top;\n",
       "    }\n",
       "\n",
       "    .dataframe thead th {\n",
       "        text-align: right;\n",
       "    }\n",
       "</style>\n",
       "<table border=\"1\" class=\"dataframe\">\n",
       "  <thead>\n",
       "    <tr style=\"text-align: right;\">\n",
       "      <th></th>\n",
       "      <th>CVE</th>\n",
       "      <th>DESCRIP</th>\n",
       "    </tr>\n",
       "  </thead>\n",
       "  <tbody>\n",
       "    <tr>\n",
       "      <th>0</th>\n",
       "      <td>1001</td>\n",
       "      <td>Una hora</td>\n",
       "    </tr>\n",
       "    <tr>\n",
       "      <th>1</th>\n",
       "      <td>1002</td>\n",
       "      <td>Dos horas</td>\n",
       "    </tr>\n",
       "    <tr>\n",
       "      <th>2</th>\n",
       "      <td>1003</td>\n",
       "      <td>Tres horas</td>\n",
       "    </tr>\n",
       "    <tr>\n",
       "      <th>3</th>\n",
       "      <td>1004</td>\n",
       "      <td>Cuatro horas</td>\n",
       "    </tr>\n",
       "    <tr>\n",
       "      <th>4</th>\n",
       "      <td>1005</td>\n",
       "      <td>Cinco horas</td>\n",
       "    </tr>\n",
       "    <tr>\n",
       "      <th>...</th>\n",
       "      <td>...</td>\n",
       "      <td>...</td>\n",
       "    </tr>\n",
       "    <tr>\n",
       "      <th>183</th>\n",
       "      <td>4117</td>\n",
       "      <td>Ciento diecisiete años</td>\n",
       "    </tr>\n",
       "    <tr>\n",
       "      <th>184</th>\n",
       "      <td>4118</td>\n",
       "      <td>Ciento dieciocho años</td>\n",
       "    </tr>\n",
       "    <tr>\n",
       "      <th>185</th>\n",
       "      <td>4119</td>\n",
       "      <td>Ciento diecinueve años</td>\n",
       "    </tr>\n",
       "    <tr>\n",
       "      <th>186</th>\n",
       "      <td>4120</td>\n",
       "      <td>Ciento veinte años</td>\n",
       "    </tr>\n",
       "    <tr>\n",
       "      <th>187</th>\n",
       "      <td>4998</td>\n",
       "      <td>Edad en años no especificada</td>\n",
       "    </tr>\n",
       "  </tbody>\n",
       "</table>\n",
       "<p>188 rows × 2 columns</p>\n",
       "</div>"
      ],
      "text/plain": [
       "      CVE                          DESCRIP\n",
       "0    1001  Una hora                       \n",
       "1    1002  Dos horas                      \n",
       "2    1003  Tres horas                     \n",
       "3    1004  Cuatro horas                   \n",
       "4    1005  Cinco horas                    \n",
       "..    ...                              ...\n",
       "183  4117  Ciento diecisiete años         \n",
       "184  4118  Ciento dieciocho años          \n",
       "185  4119  Ciento diecinueve años         \n",
       "186  4120  Ciento veinte años             \n",
       "187  4998  Edad en años no especificada   \n",
       "\n",
       "[188 rows x 2 columns]"
      ]
     },
     "execution_count": 112,
     "metadata": {},
     "output_type": "execute_result"
    }
   ],
   "source": [
    "edad"
   ]
  },
  {
   "cell_type": "code",
   "execution_count": 113,
   "metadata": {
    "ExecuteTime": {
     "end_time": "2022-04-29T19:01:25.312700Z",
     "start_time": "2022-04-29T19:01:25.304778Z"
    },
    "id": "tB9neyj_HaAY",
    "outputId": "5600fc04-a9ac-4020-c0b2-d26e1bb0fbab"
   },
   "outputs": [
    {
     "data": {
      "text/plain": [
       "(655341, 26)"
      ]
     },
     "execution_count": 113,
     "metadata": {},
     "output_type": "execute_result"
    }
   ],
   "source": [
    "df.shape"
   ]
  },
  {
   "cell_type": "code",
   "execution_count": 114,
   "metadata": {
    "ExecuteTime": {
     "end_time": "2022-04-29T19:01:25.745977Z",
     "start_time": "2022-04-29T19:01:25.737834Z"
    },
    "scrolled": true
   },
   "outputs": [
    {
     "data": {
      "text/plain": [
       "Index                          128\n",
       "edad                       5242728\n",
       "minutos                    5242728\n",
       "monto_de_apoyo             5242728\n",
       "horas                      5242728\n",
       "ent_regis                  5242728\n",
       "mun_regis                  5242728\n",
       "ent_resid                  5242728\n",
       "mun_resid                  5242728\n",
       "ent_ocurr                  5242728\n",
       "mun_ocurr                  5242728\n",
       "sexo                       5242728\n",
       "ocupacion                  5242728\n",
       "edo_civil                  5242728\n",
       "lugar_ocur                 5242728\n",
       "sitio_ocur                 5242728\n",
       "nacionalid                 5242728\n",
       "grupo                      5242728\n",
       "lengua                     5242728\n",
       "clave                      5242728\n",
       "escolarida                 5242728\n",
       "fecha_nac                  5242728\n",
       "fecha_ocurr                5242728\n",
       "programa_fondo             5242728\n",
       "nombre_del_proyecto        5242728\n",
       "nombre_del_beneficiario    5242728\n",
       "salario                    5242728\n",
       "dtype: int64"
      ]
     },
     "execution_count": 114,
     "metadata": {},
     "output_type": "execute_result"
    }
   ],
   "source": [
    "#Devuelve el uso de memoria de cada columna en bytes.\n",
    "df.memory_usage()"
   ]
  },
  {
   "cell_type": "code",
   "execution_count": 115,
   "metadata": {
    "ExecuteTime": {
     "end_time": "2022-04-29T19:01:26.333781Z",
     "start_time": "2022-04-29T19:01:26.301118Z"
    },
    "id": "rRxd_arLHaAa",
    "outputId": "3f67ad49-b6ad-4bd5-ea72-61652314a6e6"
   },
   "outputs": [
    {
     "data": {
      "text/html": [
       "<div>\n",
       "<style scoped>\n",
       "    .dataframe tbody tr th:only-of-type {\n",
       "        vertical-align: middle;\n",
       "    }\n",
       "\n",
       "    .dataframe tbody tr th {\n",
       "        vertical-align: top;\n",
       "    }\n",
       "\n",
       "    .dataframe thead th {\n",
       "        text-align: right;\n",
       "    }\n",
       "</style>\n",
       "<table border=\"1\" class=\"dataframe\">\n",
       "  <thead>\n",
       "    <tr style=\"text-align: right;\">\n",
       "      <th></th>\n",
       "      <th>edad</th>\n",
       "      <th>minutos</th>\n",
       "      <th>monto_de_apoyo</th>\n",
       "      <th>horas</th>\n",
       "      <th>ent_regis</th>\n",
       "      <th>mun_regis</th>\n",
       "      <th>ent_resid</th>\n",
       "      <th>mun_resid</th>\n",
       "      <th>ent_ocurr</th>\n",
       "      <th>mun_ocurr</th>\n",
       "      <th>sexo</th>\n",
       "      <th>ocupacion</th>\n",
       "      <th>edo_civil</th>\n",
       "      <th>lugar_ocur</th>\n",
       "      <th>sitio_ocur</th>\n",
       "      <th>nacionalid</th>\n",
       "      <th>grupo</th>\n",
       "      <th>lengua</th>\n",
       "      <th>clave</th>\n",
       "      <th>escolarida</th>\n",
       "      <th>fecha_nac</th>\n",
       "      <th>fecha_ocurr</th>\n",
       "      <th>programa_fondo</th>\n",
       "      <th>nombre_del_proyecto</th>\n",
       "      <th>nombre_del_beneficiario</th>\n",
       "      <th>salario</th>\n",
       "    </tr>\n",
       "  </thead>\n",
       "  <tbody>\n",
       "    <tr>\n",
       "      <th>0</th>\n",
       "      <td>4069</td>\n",
       "      <td>27</td>\n",
       "      <td>NaN</td>\n",
       "      <td>16</td>\n",
       "      <td>1.0</td>\n",
       "      <td>1</td>\n",
       "      <td>1</td>\n",
       "      <td>1</td>\n",
       "      <td>NaN</td>\n",
       "      <td>1</td>\n",
       "      <td>NaN</td>\n",
       "      <td>11</td>\n",
       "      <td>NaN</td>\n",
       "      <td>88</td>\n",
       "      <td>3</td>\n",
       "      <td>1</td>\n",
       "      <td>7</td>\n",
       "      <td>2.0</td>\n",
       "      <td>6343</td>\n",
       "      <td>1</td>\n",
       "      <td>1946-06-30</td>\n",
       "      <td>2015-05-25</td>\n",
       "      <td>Programa Jalisciense de Fomento a la Propieda...</td>\n",
       "      <td>MX - SISTEMA MECATRÓNICO PARA EL CONTROL DE IN...</td>\n",
       "      <td>RICARDO MERCADO CORTÉS\\n</td>\n",
       "      <td>2700</td>\n",
       "    </tr>\n",
       "    <tr>\n",
       "      <th>1</th>\n",
       "      <td>4093</td>\n",
       "      <td>0</td>\n",
       "      <td>31446.48</td>\n",
       "      <td>6</td>\n",
       "      <td>NaN</td>\n",
       "      <td>1</td>\n",
       "      <td>1</td>\n",
       "      <td>1</td>\n",
       "      <td>NaN</td>\n",
       "      <td>1</td>\n",
       "      <td>1</td>\n",
       "      <td>6</td>\n",
       "      <td>NaN</td>\n",
       "      <td>88</td>\n",
       "      <td>11</td>\n",
       "      <td>1</td>\n",
       "      <td>8</td>\n",
       "      <td>NaN</td>\n",
       "      <td>6344</td>\n",
       "      <td>3</td>\n",
       "      <td>1921-08-25</td>\n",
       "      <td>2015-09-26</td>\n",
       "      <td>Programa Jalisciense de Fomento a la Propieda...</td>\n",
       "      <td>PCT - SISTEMA MECATRÓNICO PARA EL CONTROL DE I...</td>\n",
       "      <td>RICARDO MERCADO CORTÉS\\n</td>\n",
       "      <td>0</td>\n",
       "    </tr>\n",
       "    <tr>\n",
       "      <th>2</th>\n",
       "      <td>4092</td>\n",
       "      <td>30</td>\n",
       "      <td>65673.63</td>\n",
       "      <td>16</td>\n",
       "      <td>1.0</td>\n",
       "      <td>1</td>\n",
       "      <td>1</td>\n",
       "      <td>1</td>\n",
       "      <td>NaN</td>\n",
       "      <td>1</td>\n",
       "      <td>1</td>\n",
       "      <td>7</td>\n",
       "      <td>NaN</td>\n",
       "      <td>88</td>\n",
       "      <td>11</td>\n",
       "      <td>1</td>\n",
       "      <td>2</td>\n",
       "      <td>NaN</td>\n",
       "      <td>6345</td>\n",
       "      <td>3</td>\n",
       "      <td>1922-06-12</td>\n",
       "      <td>2015-12-14</td>\n",
       "      <td>Programa Jalisciense de Fomento a la Propieda...</td>\n",
       "      <td>MX-EMPAQUE CÓNICO PARA LA CONEXIÓN \\nDE MANGUE...</td>\n",
       "      <td>CORPORATIVO BORO S.A. DE C.V.</td>\n",
       "      <td>3000</td>\n",
       "    </tr>\n",
       "    <tr>\n",
       "      <th>3</th>\n",
       "      <td>4047</td>\n",
       "      <td>58</td>\n",
       "      <td>Sistema Tecnológico de Jalisco, A.C.</td>\n",
       "      <td>3</td>\n",
       "      <td>NaN</td>\n",
       "      <td>1</td>\n",
       "      <td>1</td>\n",
       "      <td>1</td>\n",
       "      <td>NaN</td>\n",
       "      <td>1</td>\n",
       "      <td>Sistema Tecnológico de Jalisco, A.C.</td>\n",
       "      <td>7</td>\n",
       "      <td>NaN</td>\n",
       "      <td>88</td>\n",
       "      <td>9</td>\n",
       "      <td>1</td>\n",
       "      <td>13</td>\n",
       "      <td>1.0</td>\n",
       "      <td>6346</td>\n",
       "      <td>6</td>\n",
       "      <td>1967-08-28</td>\n",
       "      <td>2015-01-03</td>\n",
       "      <td>Programa Jalisciense de Fomento a la Propieda...</td>\n",
       "      <td>MX-PASTA BIODEGRADABLE PARA USOS MÚLTIPLES\\n</td>\n",
       "      <td>CORPORATIVO BORO S.A. DE C.V.\\n</td>\n",
       "      <td>5800</td>\n",
       "    </tr>\n",
       "    <tr>\n",
       "      <th>4</th>\n",
       "      <td>4040</td>\n",
       "      <td>50</td>\n",
       "      <td>30254.04</td>\n",
       "      <td>6</td>\n",
       "      <td>1.0</td>\n",
       "      <td>1</td>\n",
       "      <td>1</td>\n",
       "      <td>1</td>\n",
       "      <td>NaN</td>\n",
       "      <td>1</td>\n",
       "      <td>2</td>\n",
       "      <td>11</td>\n",
       "      <td>NaN</td>\n",
       "      <td>88</td>\n",
       "      <td>1</td>\n",
       "      <td>1</td>\n",
       "      <td>7</td>\n",
       "      <td>NaN</td>\n",
       "      <td>6364</td>\n",
       "      <td>4</td>\n",
       "      <td>1974-12-17</td>\n",
       "      <td>2015-07-16</td>\n",
       "      <td>Programa Jalisciense de Fomento a la Propieda...</td>\n",
       "      <td>DISPOSITIVO PERSONAL DE COMUNICACIÓN REMOTA PA...</td>\n",
       "      <td>GERALDINA  VEGA GAMBOA\\n</td>\n",
       "      <td>5000</td>\n",
       "    </tr>\n",
       "  </tbody>\n",
       "</table>\n",
       "</div>"
      ],
      "text/plain": [
       "   edad  minutos                        monto_de_apoyo  horas  ent_regis  \\\n",
       "0  4069       27                                   NaN     16        1.0   \n",
       "1  4093        0                              31446.48      6        NaN   \n",
       "2  4092       30                              65673.63     16        1.0   \n",
       "3  4047       58  Sistema Tecnológico de Jalisco, A.C.      3        NaN   \n",
       "4  4040       50                              30254.04      6        1.0   \n",
       "\n",
       "   mun_regis  ent_resid  mun_resid  ent_ocurr  mun_ocurr  \\\n",
       "0          1          1          1        NaN          1   \n",
       "1          1          1          1        NaN          1   \n",
       "2          1          1          1        NaN          1   \n",
       "3          1          1          1        NaN          1   \n",
       "4          1          1          1        NaN          1   \n",
       "\n",
       "                                   sexo  ocupacion  edo_civil  lugar_ocur  \\\n",
       "0                                   NaN         11        NaN          88   \n",
       "1                                     1          6        NaN          88   \n",
       "2                                     1          7        NaN          88   \n",
       "3  Sistema Tecnológico de Jalisco, A.C.          7        NaN          88   \n",
       "4                                     2         11        NaN          88   \n",
       "\n",
       "   sitio_ocur  nacionalid  grupo  lengua  clave  escolarida   fecha_nac  \\\n",
       "0           3           1      7     2.0   6343           1  1946-06-30   \n",
       "1          11           1      8     NaN   6344           3  1921-08-25   \n",
       "2          11           1      2     NaN   6345           3  1922-06-12   \n",
       "3           9           1     13     1.0   6346           6  1967-08-28   \n",
       "4           1           1      7     NaN   6364           4  1974-12-17   \n",
       "\n",
       "  fecha_ocurr                                     programa_fondo  \\\n",
       "0  2015-05-25   Programa Jalisciense de Fomento a la Propieda...   \n",
       "1  2015-09-26   Programa Jalisciense de Fomento a la Propieda...   \n",
       "2  2015-12-14   Programa Jalisciense de Fomento a la Propieda...   \n",
       "3  2015-01-03   Programa Jalisciense de Fomento a la Propieda...   \n",
       "4  2015-07-16   Programa Jalisciense de Fomento a la Propieda...   \n",
       "\n",
       "                                 nombre_del_proyecto  \\\n",
       "0  MX - SISTEMA MECATRÓNICO PARA EL CONTROL DE IN...   \n",
       "1  PCT - SISTEMA MECATRÓNICO PARA EL CONTROL DE I...   \n",
       "2  MX-EMPAQUE CÓNICO PARA LA CONEXIÓN \\nDE MANGUE...   \n",
       "3       MX-PASTA BIODEGRADABLE PARA USOS MÚLTIPLES\\n   \n",
       "4  DISPOSITIVO PERSONAL DE COMUNICACIÓN REMOTA PA...   \n",
       "\n",
       "           nombre_del_beneficiario  salario  \n",
       "0         RICARDO MERCADO CORTÉS\\n     2700  \n",
       "1         RICARDO MERCADO CORTÉS\\n        0  \n",
       "2    CORPORATIVO BORO S.A. DE C.V.     3000  \n",
       "3  CORPORATIVO BORO S.A. DE C.V.\\n     5800  \n",
       "4         GERALDINA  VEGA GAMBOA\\n     5000  "
      ]
     },
     "execution_count": 115,
     "metadata": {},
     "output_type": "execute_result"
    }
   ],
   "source": [
    "df.head()"
   ]
  },
  {
   "cell_type": "code",
   "execution_count": 116,
   "metadata": {
    "ExecuteTime": {
     "end_time": "2022-04-29T19:01:27.121540Z",
     "start_time": "2022-04-29T19:01:27.113262Z"
    },
    "id": "7QM9ShzSHaAc",
    "outputId": "b62d084e-4d12-48b3-f66d-75268c88a128",
    "scrolled": true
   },
   "outputs": [
    {
     "data": {
      "text/plain": [
       "edad                         int64\n",
       "minutos                      int64\n",
       "monto_de_apoyo              object\n",
       "horas                        int64\n",
       "ent_regis                  float64\n",
       "mun_regis                    int64\n",
       "ent_resid                    int64\n",
       "mun_resid                    int64\n",
       "ent_ocurr                  float64\n",
       "mun_ocurr                    int64\n",
       "sexo                        object\n",
       "ocupacion                    int64\n",
       "edo_civil                  float64\n",
       "lugar_ocur                   int64\n",
       "sitio_ocur                   int64\n",
       "nacionalid                   int64\n",
       "grupo                        int64\n",
       "lengua                     float64\n",
       "clave                        int64\n",
       "escolarida                   int64\n",
       "fecha_nac                   object\n",
       "fecha_ocurr                 object\n",
       "programa_fondo              object\n",
       "nombre_del_proyecto         object\n",
       "nombre_del_beneficiario     object\n",
       "salario                      int64\n",
       "dtype: object"
      ]
     },
     "execution_count": 116,
     "metadata": {},
     "output_type": "execute_result"
    }
   ],
   "source": [
    "#Esto devuelve una Serie con el tipo de datos de cada columna. \n",
    "df.dtypes"
   ]
  },
  {
   "cell_type": "markdown",
   "metadata": {},
   "source": [
    "- float--float64\n",
    "- int--int64\n",
    "- datetime--datetime64[ns]\n",
    "- string--object"
   ]
  },
  {
   "cell_type": "code",
   "execution_count": 117,
   "metadata": {
    "ExecuteTime": {
     "end_time": "2022-04-29T19:01:28.539959Z",
     "start_time": "2022-04-29T19:01:28.533620Z"
    },
    "id": "ygYrk0IVHaAe",
    "outputId": "df5fac2d-554b-40ba-a554-32534e9e6c77"
   },
   "outputs": [
    {
     "data": {
      "text/plain": [
       "(655341, 26)"
      ]
     },
     "execution_count": 117,
     "metadata": {},
     "output_type": "execute_result"
    }
   ],
   "source": [
    "#Número de registros\n",
    "df.shape"
   ]
  },
  {
   "cell_type": "markdown",
   "metadata": {
    "id": "R0JOJpeWHaAg"
   },
   "source": [
    "## <h1 style=\"color:#b38c6f\"> Etiquetado de variables </h1> "
   ]
  },
  {
   "cell_type": "code",
   "execution_count": 118,
   "metadata": {
    "ExecuteTime": {
     "end_time": "2022-04-29T19:01:29.745166Z",
     "start_time": "2022-04-29T19:01:29.543985Z"
    },
    "scrolled": true
   },
   "outputs": [
    {
     "name": "stdout",
     "output_type": "stream",
     "text": [
      "<class 'pandas.core.frame.DataFrame'>\n",
      "RangeIndex: 655341 entries, 0 to 655340\n",
      "Data columns (total 26 columns):\n",
      " #   Column                   Non-Null Count   Dtype  \n",
      "---  ------                   --------------   -----  \n",
      " 0   edad                     655341 non-null  int64  \n",
      " 1   minutos                  655341 non-null  int64  \n",
      " 2   monto_de_apoyo           655339 non-null  object \n",
      " 3   horas                    655341 non-null  int64  \n",
      " 4   ent_regis                458945 non-null  float64\n",
      " 5   mun_regis                655341 non-null  int64  \n",
      " 6   ent_resid                655341 non-null  int64  \n",
      " 7   mun_resid                655341 non-null  int64  \n",
      " 8   ent_ocurr                0 non-null       float64\n",
      " 9   mun_ocurr                655341 non-null  int64  \n",
      " 10  sexo                     655339 non-null  object \n",
      " 11  ocupacion                655341 non-null  int64  \n",
      " 12  edo_civil                0 non-null       float64\n",
      " 13  lugar_ocur               655341 non-null  int64  \n",
      " 14  sitio_ocur               655341 non-null  int64  \n",
      " 15  nacionalid               655341 non-null  int64  \n",
      " 16  grupo                    655341 non-null  int64  \n",
      " 17  lengua                   151167 non-null  float64\n",
      " 18  clave                    655341 non-null  int64  \n",
      " 19  escolarida               655341 non-null  int64  \n",
      " 20  fecha_nac                644963 non-null  object \n",
      " 21  fecha_ocurr              655199 non-null  object \n",
      " 22  programa_fondo           655341 non-null  object \n",
      " 23  nombre_del_proyecto      655341 non-null  object \n",
      " 24  nombre_del_beneficiario  655341 non-null  object \n",
      " 25  salario                  655341 non-null  int64  \n",
      "dtypes: float64(4), int64(15), object(7)\n",
      "memory usage: 130.0+ MB\n"
     ]
    }
   ],
   "source": [
    "#Este método imprime información sobre un DataFrame, incluido el tipo de índice y las columnas, \n",
    "#los valores no nulos y el uso de la memoria.\n",
    "df.info()"
   ]
  },
  {
   "cell_type": "markdown",
   "metadata": {},
   "source": [
    "**Contamos con:**\n",
    "- 4 columnas de tipo float64\n",
    "- 15 columnas de tipo int64\n",
    "- 7 columnas de tipo object"
   ]
  },
  {
   "cell_type": "code",
   "execution_count": 119,
   "metadata": {
    "ExecuteTime": {
     "end_time": "2022-04-29T19:01:30.931812Z",
     "start_time": "2022-04-29T19:01:30.877727Z"
    }
   },
   "outputs": [
    {
     "data": {
      "text/html": [
       "<div>\n",
       "<style scoped>\n",
       "    .dataframe tbody tr th:only-of-type {\n",
       "        vertical-align: middle;\n",
       "    }\n",
       "\n",
       "    .dataframe tbody tr th {\n",
       "        vertical-align: top;\n",
       "    }\n",
       "\n",
       "    .dataframe thead th {\n",
       "        text-align: right;\n",
       "    }\n",
       "</style>\n",
       "<table border=\"1\" class=\"dataframe\">\n",
       "  <thead>\n",
       "    <tr style=\"text-align: right;\">\n",
       "      <th></th>\n",
       "      <th>edad</th>\n",
       "      <th>minutos</th>\n",
       "      <th>horas</th>\n",
       "      <th>ent_regis</th>\n",
       "      <th>mun_regis</th>\n",
       "      <th>ent_resid</th>\n",
       "      <th>mun_resid</th>\n",
       "      <th>ent_ocurr</th>\n",
       "      <th>mun_ocurr</th>\n",
       "      <th>ocupacion</th>\n",
       "      <th>edo_civil</th>\n",
       "      <th>lugar_ocur</th>\n",
       "      <th>sitio_ocur</th>\n",
       "      <th>nacionalid</th>\n",
       "      <th>grupo</th>\n",
       "      <th>lengua</th>\n",
       "      <th>clave</th>\n",
       "      <th>escolarida</th>\n",
       "      <th>salario</th>\n",
       "    </tr>\n",
       "  </thead>\n",
       "  <tbody>\n",
       "    <tr>\n",
       "      <th>513960</th>\n",
       "      <td>4060</td>\n",
       "      <td>0</td>\n",
       "      <td>3</td>\n",
       "      <td>25.0</td>\n",
       "      <td>12</td>\n",
       "      <td>25</td>\n",
       "      <td>12</td>\n",
       "      <td>NaN</td>\n",
       "      <td>12</td>\n",
       "      <td>11</td>\n",
       "      <td>NaN</td>\n",
       "      <td>88</td>\n",
       "      <td>11</td>\n",
       "      <td>1</td>\n",
       "      <td>3</td>\n",
       "      <td>NaN</td>\n",
       "      <td>6726</td>\n",
       "      <td>4</td>\n",
       "      <td>0</td>\n",
       "    </tr>\n",
       "    <tr>\n",
       "      <th>307929</th>\n",
       "      <td>4067</td>\n",
       "      <td>10</td>\n",
       "      <td>5</td>\n",
       "      <td>NaN</td>\n",
       "      <td>48</td>\n",
       "      <td>15</td>\n",
       "      <td>48</td>\n",
       "      <td>NaN</td>\n",
       "      <td>48</td>\n",
       "      <td>6</td>\n",
       "      <td>NaN</td>\n",
       "      <td>88</td>\n",
       "      <td>11</td>\n",
       "      <td>1</td>\n",
       "      <td>5</td>\n",
       "      <td>2.0</td>\n",
       "      <td>6547</td>\n",
       "      <td>3</td>\n",
       "      <td>1000</td>\n",
       "    </tr>\n",
       "    <tr>\n",
       "      <th>166948</th>\n",
       "      <td>4057</td>\n",
       "      <td>43</td>\n",
       "      <td>5</td>\n",
       "      <td>9.0</td>\n",
       "      <td>10</td>\n",
       "      <td>9</td>\n",
       "      <td>3</td>\n",
       "      <td>NaN</td>\n",
       "      <td>14</td>\n",
       "      <td>2</td>\n",
       "      <td>NaN</td>\n",
       "      <td>88</td>\n",
       "      <td>3</td>\n",
       "      <td>1</td>\n",
       "      <td>8</td>\n",
       "      <td>NaN</td>\n",
       "      <td>6391</td>\n",
       "      <td>9</td>\n",
       "      <td>4300</td>\n",
       "    </tr>\n",
       "    <tr>\n",
       "      <th>399354</th>\n",
       "      <td>3001</td>\n",
       "      <td>35</td>\n",
       "      <td>11</td>\n",
       "      <td>19.0</td>\n",
       "      <td>39</td>\n",
       "      <td>19</td>\n",
       "      <td>46</td>\n",
       "      <td>NaN</td>\n",
       "      <td>46</td>\n",
       "      <td>97</td>\n",
       "      <td>NaN</td>\n",
       "      <td>88</td>\n",
       "      <td>1</td>\n",
       "      <td>1</td>\n",
       "      <td>4</td>\n",
       "      <td>NaN</td>\n",
       "      <td>6683</td>\n",
       "      <td>88</td>\n",
       "      <td>3500</td>\n",
       "    </tr>\n",
       "    <tr>\n",
       "      <th>98803</th>\n",
       "      <td>4090</td>\n",
       "      <td>10</td>\n",
       "      <td>9</td>\n",
       "      <td>8.0</td>\n",
       "      <td>37</td>\n",
       "      <td>8</td>\n",
       "      <td>37</td>\n",
       "      <td>NaN</td>\n",
       "      <td>37</td>\n",
       "      <td>11</td>\n",
       "      <td>NaN</td>\n",
       "      <td>88</td>\n",
       "      <td>8</td>\n",
       "      <td>1</td>\n",
       "      <td>8</td>\n",
       "      <td>NaN</td>\n",
       "      <td>6486</td>\n",
       "      <td>99</td>\n",
       "      <td>1000</td>\n",
       "    </tr>\n",
       "    <tr>\n",
       "      <th>363181</th>\n",
       "      <td>4051</td>\n",
       "      <td>0</td>\n",
       "      <td>4</td>\n",
       "      <td>NaN</td>\n",
       "      <td>108</td>\n",
       "      <td>16</td>\n",
       "      <td>108</td>\n",
       "      <td>NaN</td>\n",
       "      <td>108</td>\n",
       "      <td>2</td>\n",
       "      <td>NaN</td>\n",
       "      <td>88</td>\n",
       "      <td>11</td>\n",
       "      <td>1</td>\n",
       "      <td>2</td>\n",
       "      <td>NaN</td>\n",
       "      <td>6543</td>\n",
       "      <td>9</td>\n",
       "      <td>0</td>\n",
       "    </tr>\n",
       "    <tr>\n",
       "      <th>224206</th>\n",
       "      <td>4077</td>\n",
       "      <td>0</td>\n",
       "      <td>20</td>\n",
       "      <td>12.0</td>\n",
       "      <td>10</td>\n",
       "      <td>12</td>\n",
       "      <td>10</td>\n",
       "      <td>NaN</td>\n",
       "      <td>10</td>\n",
       "      <td>11</td>\n",
       "      <td>NaN</td>\n",
       "      <td>88</td>\n",
       "      <td>11</td>\n",
       "      <td>1</td>\n",
       "      <td>7</td>\n",
       "      <td>NaN</td>\n",
       "      <td>6488</td>\n",
       "      <td>1</td>\n",
       "      <td>0</td>\n",
       "    </tr>\n",
       "    <tr>\n",
       "      <th>319798</th>\n",
       "      <td>4065</td>\n",
       "      <td>35</td>\n",
       "      <td>15</td>\n",
       "      <td>15.0</td>\n",
       "      <td>14</td>\n",
       "      <td>15</td>\n",
       "      <td>14</td>\n",
       "      <td>NaN</td>\n",
       "      <td>14</td>\n",
       "      <td>11</td>\n",
       "      <td>NaN</td>\n",
       "      <td>88</td>\n",
       "      <td>9</td>\n",
       "      <td>1</td>\n",
       "      <td>3</td>\n",
       "      <td>2.0</td>\n",
       "      <td>6537</td>\n",
       "      <td>3</td>\n",
       "      <td>3500</td>\n",
       "    </tr>\n",
       "    <tr>\n",
       "      <th>323998</th>\n",
       "      <td>4088</td>\n",
       "      <td>20</td>\n",
       "      <td>1</td>\n",
       "      <td>15.0</td>\n",
       "      <td>106</td>\n",
       "      <td>15</td>\n",
       "      <td>106</td>\n",
       "      <td>NaN</td>\n",
       "      <td>106</td>\n",
       "      <td>11</td>\n",
       "      <td>NaN</td>\n",
       "      <td>88</td>\n",
       "      <td>1</td>\n",
       "      <td>1</td>\n",
       "      <td>2</td>\n",
       "      <td>NaN</td>\n",
       "      <td>6685</td>\n",
       "      <td>3</td>\n",
       "      <td>2000</td>\n",
       "    </tr>\n",
       "    <tr>\n",
       "      <th>644814</th>\n",
       "      <td>4022</td>\n",
       "      <td>0</td>\n",
       "      <td>13</td>\n",
       "      <td>31.0</td>\n",
       "      <td>50</td>\n",
       "      <td>4</td>\n",
       "      <td>1</td>\n",
       "      <td>NaN</td>\n",
       "      <td>50</td>\n",
       "      <td>11</td>\n",
       "      <td>NaN</td>\n",
       "      <td>88</td>\n",
       "      <td>3</td>\n",
       "      <td>1</td>\n",
       "      <td>2</td>\n",
       "      <td>NaN</td>\n",
       "      <td>6472</td>\n",
       "      <td>4</td>\n",
       "      <td>0</td>\n",
       "    </tr>\n",
       "  </tbody>\n",
       "</table>\n",
       "</div>"
      ],
      "text/plain": [
       "        edad  minutos  horas  ent_regis  mun_regis  ent_resid  mun_resid  \\\n",
       "513960  4060        0      3       25.0         12         25         12   \n",
       "307929  4067       10      5        NaN         48         15         48   \n",
       "166948  4057       43      5        9.0         10          9          3   \n",
       "399354  3001       35     11       19.0         39         19         46   \n",
       "98803   4090       10      9        8.0         37          8         37   \n",
       "363181  4051        0      4        NaN        108         16        108   \n",
       "224206  4077        0     20       12.0         10         12         10   \n",
       "319798  4065       35     15       15.0         14         15         14   \n",
       "323998  4088       20      1       15.0        106         15        106   \n",
       "644814  4022        0     13       31.0         50          4          1   \n",
       "\n",
       "        ent_ocurr  mun_ocurr  ocupacion  edo_civil  lugar_ocur  sitio_ocur  \\\n",
       "513960        NaN         12         11        NaN          88          11   \n",
       "307929        NaN         48          6        NaN          88          11   \n",
       "166948        NaN         14          2        NaN          88           3   \n",
       "399354        NaN         46         97        NaN          88           1   \n",
       "98803         NaN         37         11        NaN          88           8   \n",
       "363181        NaN        108          2        NaN          88          11   \n",
       "224206        NaN         10         11        NaN          88          11   \n",
       "319798        NaN         14         11        NaN          88           9   \n",
       "323998        NaN        106         11        NaN          88           1   \n",
       "644814        NaN         50         11        NaN          88           3   \n",
       "\n",
       "        nacionalid  grupo  lengua  clave  escolarida  salario  \n",
       "513960           1      3     NaN   6726           4        0  \n",
       "307929           1      5     2.0   6547           3     1000  \n",
       "166948           1      8     NaN   6391           9     4300  \n",
       "399354           1      4     NaN   6683          88     3500  \n",
       "98803            1      8     NaN   6486          99     1000  \n",
       "363181           1      2     NaN   6543           9        0  \n",
       "224206           1      7     NaN   6488           1        0  \n",
       "319798           1      3     2.0   6537           3     3500  \n",
       "323998           1      2     NaN   6685           3     2000  \n",
       "644814           1      2     NaN   6472           4        0  "
      ]
     },
     "execution_count": 119,
     "metadata": {},
     "output_type": "execute_result"
    }
   ],
   "source": [
    "#Conocer el tipo de dato es un buen indicador para conocer el tipo de variables y posteriormente etiquetarlas\n",
    "#Asi como nos puede dar indicios si una variable tiene valores fuera de la naturaleza de la variable\n",
    "df.select_dtypes(include=['int64',\"float64\"]).sample(10)"
   ]
  },
  {
   "cell_type": "code",
   "execution_count": 120,
   "metadata": {
    "ExecuteTime": {
     "end_time": "2022-04-29T19:01:31.703447Z",
     "start_time": "2022-04-29T19:01:31.623165Z"
    },
    "scrolled": true
   },
   "outputs": [
    {
     "data": {
      "text/html": [
       "<div>\n",
       "<style scoped>\n",
       "    .dataframe tbody tr th:only-of-type {\n",
       "        vertical-align: middle;\n",
       "    }\n",
       "\n",
       "    .dataframe tbody tr th {\n",
       "        vertical-align: top;\n",
       "    }\n",
       "\n",
       "    .dataframe thead th {\n",
       "        text-align: right;\n",
       "    }\n",
       "</style>\n",
       "<table border=\"1\" class=\"dataframe\">\n",
       "  <thead>\n",
       "    <tr style=\"text-align: right;\">\n",
       "      <th></th>\n",
       "      <th>monto_de_apoyo</th>\n",
       "      <th>sexo</th>\n",
       "      <th>fecha_nac</th>\n",
       "      <th>fecha_ocurr</th>\n",
       "      <th>programa_fondo</th>\n",
       "      <th>nombre_del_proyecto</th>\n",
       "      <th>nombre_del_beneficiario</th>\n",
       "    </tr>\n",
       "  </thead>\n",
       "  <tbody>\n",
       "    <tr>\n",
       "      <th>651317</th>\n",
       "      <td>12254.04</td>\n",
       "      <td>1</td>\n",
       "      <td>1961-01-15</td>\n",
       "      <td>2015-03-09</td>\n",
       "      <td>Programa Jalisciense de Fomento a la Propieda...</td>\n",
       "      <td>MODELO INDUSTRIAL DE UNA BASE RECTANGULAR PARA...</td>\n",
       "      <td>BRIAN ALEJANDRO FRANCO CEJA</td>\n",
       "    </tr>\n",
       "    <tr>\n",
       "      <th>83519</th>\n",
       "      <td>49381.0</td>\n",
       "      <td>1</td>\n",
       "      <td>1943-07-26</td>\n",
       "      <td>2015-06-16</td>\n",
       "      <td>Programa Jalisciense de Fomento a la Propieda...</td>\n",
       "      <td>SISTEMA Y APARATO INALÁMBRICO PARA REGISTRO, P...</td>\n",
       "      <td>DANIEL ARAGÓN HAN\\n</td>\n",
       "    </tr>\n",
       "    <tr>\n",
       "      <th>331056</th>\n",
       "      <td>666406.0</td>\n",
       "      <td>2</td>\n",
       "      <td>1930-12-28</td>\n",
       "      <td>2015-09-09</td>\n",
       "      <td>Programa Estatal para el Desarrollo de la Indu...</td>\n",
       "      <td>Laboratorios de fabricación digital Nueva Sant...</td>\n",
       "      <td>Instituto Tecnológico y de Estudios Superiores...</td>\n",
       "    </tr>\n",
       "    <tr>\n",
       "      <th>334931</th>\n",
       "      <td>58700.35</td>\n",
       "      <td>1</td>\n",
       "      <td>1935-08-30</td>\n",
       "      <td>2015-08-01</td>\n",
       "      <td>Programa Jalisciense de Fomento a la Propieda...</td>\n",
       "      <td>COMPRESOR-RECIRCULADOR DE FLUIDOS\\n</td>\n",
       "      <td>ACTIVE FINANCIAL SA DE CV\\n</td>\n",
       "    </tr>\n",
       "    <tr>\n",
       "      <th>385979</th>\n",
       "      <td>30564.99</td>\n",
       "      <td>1</td>\n",
       "      <td>1926-03-12</td>\n",
       "      <td>2015-02-14</td>\n",
       "      <td>Programa Jalisciense de Fomento a la Propieda...</td>\n",
       "      <td>PCT DE UN DISPOSITIVO FILTRANTE\\n</td>\n",
       "      <td>EDUARDO ARCINIEGA VAZQUEZ\\n</td>\n",
       "    </tr>\n",
       "    <tr>\n",
       "      <th>652523</th>\n",
       "      <td>288004.0</td>\n",
       "      <td>1</td>\n",
       "      <td>1934-09-05</td>\n",
       "      <td>2015-08-26</td>\n",
       "      <td>Programa Estatal para el Desarrollo de la Indu...</td>\n",
       "      <td>Recertificación en Mejora de Procesos Basada e...</td>\n",
       "      <td>IT Consultant S.C.</td>\n",
       "    </tr>\n",
       "    <tr>\n",
       "      <th>311424</th>\n",
       "      <td>14616.0</td>\n",
       "      <td>2</td>\n",
       "      <td>1943-01-18</td>\n",
       "      <td>2015-03-17</td>\n",
       "      <td>Programa de Difusión y Divulgación de la Cien...</td>\n",
       "      <td>Desarrollo Sustentable en las Micro, Pequeñas ...</td>\n",
       "      <td>Instituto Superior Autónomo de Occidente, A.C.</td>\n",
       "    </tr>\n",
       "    <tr>\n",
       "      <th>225869</th>\n",
       "      <td>58700.35</td>\n",
       "      <td>1</td>\n",
       "      <td>1942-06-21</td>\n",
       "      <td>2015-09-01</td>\n",
       "      <td>Programa Jalisciense de Fomento a la Propieda...</td>\n",
       "      <td>PROCESO DE FABRICACIÓN DE TANQUES HERMÉTICOS P...</td>\n",
       "      <td>ACTIVE FINANCIAL SA DE CV\\n</td>\n",
       "    </tr>\n",
       "    <tr>\n",
       "      <th>360943</th>\n",
       "      <td>560000.0</td>\n",
       "      <td>2</td>\n",
       "      <td>1931-04-11</td>\n",
       "      <td>2015-05-25</td>\n",
       "      <td>Programa Estatal para el Desarrollo de la Indu...</td>\n",
       "      <td>Plataforma digital de inteligencia de negocios...</td>\n",
       "      <td>Repstronics, S.A. de C.V.</td>\n",
       "    </tr>\n",
       "    <tr>\n",
       "      <th>68784</th>\n",
       "      <td>50336.83</td>\n",
       "      <td>2</td>\n",
       "      <td>1951-12-22</td>\n",
       "      <td>2015-10-01</td>\n",
       "      <td>Programa Jalisciense de Fomento a la Propieda...</td>\n",
       "      <td>BIO-REACTOR COMBINADO (CBR), CON BIO-REACTORES...</td>\n",
       "      <td>FRANCISCO XAVIER VALDÉS SIMANCAS\\n</td>\n",
       "    </tr>\n",
       "  </tbody>\n",
       "</table>\n",
       "</div>"
      ],
      "text/plain": [
       "       monto_de_apoyo sexo   fecha_nac fecha_ocurr  \\\n",
       "651317       12254.04    1  1961-01-15  2015-03-09   \n",
       "83519         49381.0    1  1943-07-26  2015-06-16   \n",
       "331056       666406.0    2  1930-12-28  2015-09-09   \n",
       "334931       58700.35    1  1935-08-30  2015-08-01   \n",
       "385979       30564.99    1  1926-03-12  2015-02-14   \n",
       "652523       288004.0    1  1934-09-05  2015-08-26   \n",
       "311424        14616.0    2  1943-01-18  2015-03-17   \n",
       "225869       58700.35    1  1942-06-21  2015-09-01   \n",
       "360943       560000.0    2  1931-04-11  2015-05-25   \n",
       "68784        50336.83    2  1951-12-22  2015-10-01   \n",
       "\n",
       "                                           programa_fondo  \\\n",
       "651317   Programa Jalisciense de Fomento a la Propieda...   \n",
       "83519    Programa Jalisciense de Fomento a la Propieda...   \n",
       "331056  Programa Estatal para el Desarrollo de la Indu...   \n",
       "334931   Programa Jalisciense de Fomento a la Propieda...   \n",
       "385979   Programa Jalisciense de Fomento a la Propieda...   \n",
       "652523  Programa Estatal para el Desarrollo de la Indu...   \n",
       "311424   Programa de Difusión y Divulgación de la Cien...   \n",
       "225869   Programa Jalisciense de Fomento a la Propieda...   \n",
       "360943  Programa Estatal para el Desarrollo de la Indu...   \n",
       "68784    Programa Jalisciense de Fomento a la Propieda...   \n",
       "\n",
       "                                      nombre_del_proyecto  \\\n",
       "651317  MODELO INDUSTRIAL DE UNA BASE RECTANGULAR PARA...   \n",
       "83519   SISTEMA Y APARATO INALÁMBRICO PARA REGISTRO, P...   \n",
       "331056  Laboratorios de fabricación digital Nueva Sant...   \n",
       "334931                COMPRESOR-RECIRCULADOR DE FLUIDOS\\n   \n",
       "385979                  PCT DE UN DISPOSITIVO FILTRANTE\\n   \n",
       "652523  Recertificación en Mejora de Procesos Basada e...   \n",
       "311424  Desarrollo Sustentable en las Micro, Pequeñas ...   \n",
       "225869  PROCESO DE FABRICACIÓN DE TANQUES HERMÉTICOS P...   \n",
       "360943  Plataforma digital de inteligencia de negocios...   \n",
       "68784   BIO-REACTOR COMBINADO (CBR), CON BIO-REACTORES...   \n",
       "\n",
       "                                  nombre_del_beneficiario  \n",
       "651317                        BRIAN ALEJANDRO FRANCO CEJA  \n",
       "83519                                 DANIEL ARAGÓN HAN\\n  \n",
       "331056  Instituto Tecnológico y de Estudios Superiores...  \n",
       "334931                        ACTIVE FINANCIAL SA DE CV\\n  \n",
       "385979                        EDUARDO ARCINIEGA VAZQUEZ\\n  \n",
       "652523                                 IT Consultant S.C.  \n",
       "311424     Instituto Superior Autónomo de Occidente, A.C.  \n",
       "225869                        ACTIVE FINANCIAL SA DE CV\\n  \n",
       "360943                          Repstronics, S.A. de C.V.  \n",
       "68784                  FRANCISCO XAVIER VALDÉS SIMANCAS\\n  "
      ]
     },
     "execution_count": 120,
     "metadata": {},
     "output_type": "execute_result"
    }
   ],
   "source": [
    "df.select_dtypes(exclude=['int64',\"float64\"]).sample(10)\n",
    "#monto_apoyo se identifica como variable de texto - indicador de que existen datos que no corresponden a un flotante"
   ]
  },
  {
   "cell_type": "code",
   "execution_count": 121,
   "metadata": {
    "ExecuteTime": {
     "end_time": "2022-04-29T19:01:34.000143Z",
     "start_time": "2022-04-29T19:01:33.995603Z"
    },
    "id": "0Ll6zVv1HaAh"
   },
   "outputs": [],
   "source": [
    "#Prefijos para los tipos de variables\n",
    "#La siguiente nomenclatura se trabajara en el módulo\n",
    "# \"c_\"  - Variables numericas : Discretas y continuas\n",
    "# \"v_\"  - Variables categoricas\n",
    "# \"d_\"  - Variables tipo fecha\n",
    "# \"t_\"  - Variables de texto : comentarios, descripciones, url\n",
    "# \"g_\"  - Variables geograficas\n",
    "\n",
    "\n",
    "c_feats=[\"edad\",\"monto_de_apoyo\",\"horas\",\"minutos\",\"salario\",\"n_hijos\"]\n",
    "v_feats=[\"ent_regis\",\"mun_regis\",\"ent_resid\",\"mun_resid\",\"ent_ocurr\",\"mun_ocurr\",\"sexo\",\"ocupacion\",\"edo_civil\",\n",
    "        \"lugar_ocur\",\"sitio_ocur\",\"nacionalid\",\"grupo\",\"lengua\",\"clave\",\"escolarida\"]\n",
    "d_feats=[\"fecha_nac\",\"fecha_ocurr\"]\n",
    "t_feats=[\"programa_fondo\",\"nombre_del_beneficiario\",\"nombre_del_proyecto\"]"
   ]
  },
  {
   "cell_type": "code",
   "execution_count": 122,
   "metadata": {
    "ExecuteTime": {
     "end_time": "2022-04-29T19:01:34.730582Z",
     "start_time": "2022-04-29T19:01:34.726257Z"
    },
    "id": "vz2LHNjcHaAi"
   },
   "outputs": [],
   "source": [
    "c_feats_new=[\"c_\"+x for x in c_feats]\n",
    "v_feats_new=[\"v_\"+x for x in v_feats]\n",
    "d_feats_new=[\"d_\"+x for x in d_feats]\n",
    "t_feats_new=[\"t_\"+x for x in t_feats]"
   ]
  },
  {
   "cell_type": "code",
   "execution_count": 123,
   "metadata": {
    "ExecuteTime": {
     "end_time": "2022-04-29T19:01:35.205376Z",
     "start_time": "2022-04-29T19:01:35.200361Z"
    },
    "id": "ilXWGKnOHaAk",
    "outputId": "e1f53269-eb7d-411d-a94c-1bc897024e54"
   },
   "outputs": [
    {
     "data": {
      "text/plain": [
       "['edad', 'monto_de_apoyo', 'horas', 'minutos', 'salario', 'n_hijos']"
      ]
     },
     "execution_count": 123,
     "metadata": {},
     "output_type": "execute_result"
    }
   ],
   "source": [
    "c_feats"
   ]
  },
  {
   "cell_type": "code",
   "execution_count": 124,
   "metadata": {
    "ExecuteTime": {
     "end_time": "2022-04-29T19:01:35.758873Z",
     "start_time": "2022-04-29T19:01:35.752970Z"
    },
    "id": "NT1hdebqHaAl",
    "outputId": "3a00b67a-2f42-4258-a7f4-78c92163334c"
   },
   "outputs": [
    {
     "data": {
      "text/plain": [
       "['c_edad',\n",
       " 'c_monto_de_apoyo',\n",
       " 'c_horas',\n",
       " 'c_minutos',\n",
       " 'c_salario',\n",
       " 'c_n_hijos']"
      ]
     },
     "execution_count": 124,
     "metadata": {},
     "output_type": "execute_result"
    }
   ],
   "source": [
    "c_feats_new"
   ]
  },
  {
   "cell_type": "code",
   "execution_count": 125,
   "metadata": {
    "ExecuteTime": {
     "end_time": "2022-04-29T19:01:36.218872Z",
     "start_time": "2022-04-29T19:01:36.211105Z"
    },
    "id": "CTsgJyN4HaAn"
   },
   "outputs": [],
   "source": [
    "df.rename(columns=dict(zip(d_feats,d_feats_new)),inplace=True)\n",
    "df.rename(columns=dict(zip(v_feats,v_feats_new)),inplace=True)\n",
    "df.rename(columns=dict(zip(t_feats,t_feats_new)),inplace=True)\n",
    "df.rename(columns=dict(zip(c_feats,c_feats_new)),inplace=True)"
   ]
  },
  {
   "cell_type": "markdown",
   "metadata": {
    "id": "RQwGSHQyHaAo"
   },
   "source": [
    "## <h1 style=\"color:#b38c6f\"> DUPLICADOS </h1>"
   ]
  },
  {
   "cell_type": "markdown",
   "metadata": {
    "id": "20fndIhAHaAo"
   },
   "source": [
    "###  <h1 style=\"color:#d2691e\"> DUPLICADOS GENERAL</h1>"
   ]
  },
  {
   "cell_type": "code",
   "execution_count": 126,
   "metadata": {
    "ExecuteTime": {
     "end_time": "2022-04-29T19:01:37.589809Z",
     "start_time": "2022-04-29T19:01:37.585262Z"
    },
    "id": "wkYnA96SHaAp"
   },
   "outputs": [],
   "source": [
    "n_rows=df.shape[0]"
   ]
  },
  {
   "cell_type": "code",
   "execution_count": 127,
   "metadata": {
    "ExecuteTime": {
     "end_time": "2022-04-29T19:01:37.973846Z",
     "start_time": "2022-04-29T19:01:37.953159Z"
    },
    "id": "uL0al8G1HaAq",
    "outputId": "cc4c93ec-1973-48ba-9e14-c2350a872826",
    "scrolled": true
   },
   "outputs": [
    {
     "data": {
      "text/html": [
       "<div>\n",
       "<style scoped>\n",
       "    .dataframe tbody tr th:only-of-type {\n",
       "        vertical-align: middle;\n",
       "    }\n",
       "\n",
       "    .dataframe tbody tr th {\n",
       "        vertical-align: top;\n",
       "    }\n",
       "\n",
       "    .dataframe thead th {\n",
       "        text-align: right;\n",
       "    }\n",
       "</style>\n",
       "<table border=\"1\" class=\"dataframe\">\n",
       "  <thead>\n",
       "    <tr style=\"text-align: right;\">\n",
       "      <th></th>\n",
       "      <th>c_edad</th>\n",
       "      <th>c_minutos</th>\n",
       "      <th>c_monto_de_apoyo</th>\n",
       "      <th>c_horas</th>\n",
       "      <th>v_ent_regis</th>\n",
       "      <th>v_mun_regis</th>\n",
       "      <th>v_ent_resid</th>\n",
       "      <th>v_mun_resid</th>\n",
       "      <th>v_ent_ocurr</th>\n",
       "      <th>v_mun_ocurr</th>\n",
       "      <th>v_sexo</th>\n",
       "      <th>v_ocupacion</th>\n",
       "      <th>v_edo_civil</th>\n",
       "      <th>v_lugar_ocur</th>\n",
       "      <th>v_sitio_ocur</th>\n",
       "      <th>v_nacionalid</th>\n",
       "      <th>v_grupo</th>\n",
       "      <th>v_lengua</th>\n",
       "      <th>v_clave</th>\n",
       "      <th>v_escolarida</th>\n",
       "      <th>d_fecha_nac</th>\n",
       "      <th>d_fecha_ocurr</th>\n",
       "      <th>t_programa_fondo</th>\n",
       "      <th>t_nombre_del_proyecto</th>\n",
       "      <th>t_nombre_del_beneficiario</th>\n",
       "      <th>c_salario</th>\n",
       "    </tr>\n",
       "  </thead>\n",
       "  <tbody>\n",
       "    <tr>\n",
       "      <th>0</th>\n",
       "      <td>4069</td>\n",
       "      <td>27</td>\n",
       "      <td>NaN</td>\n",
       "      <td>16</td>\n",
       "      <td>1.0</td>\n",
       "      <td>1</td>\n",
       "      <td>1</td>\n",
       "      <td>1</td>\n",
       "      <td>NaN</td>\n",
       "      <td>1</td>\n",
       "      <td>NaN</td>\n",
       "      <td>11</td>\n",
       "      <td>NaN</td>\n",
       "      <td>88</td>\n",
       "      <td>3</td>\n",
       "      <td>1</td>\n",
       "      <td>7</td>\n",
       "      <td>2.0</td>\n",
       "      <td>6343</td>\n",
       "      <td>1</td>\n",
       "      <td>1946-06-30</td>\n",
       "      <td>2015-05-25</td>\n",
       "      <td>Programa Jalisciense de Fomento a la Propieda...</td>\n",
       "      <td>MX - SISTEMA MECATRÓNICO PARA EL CONTROL DE IN...</td>\n",
       "      <td>RICARDO MERCADO CORTÉS\\n</td>\n",
       "      <td>2700</td>\n",
       "    </tr>\n",
       "    <tr>\n",
       "      <th>1</th>\n",
       "      <td>4093</td>\n",
       "      <td>0</td>\n",
       "      <td>31446.48</td>\n",
       "      <td>6</td>\n",
       "      <td>NaN</td>\n",
       "      <td>1</td>\n",
       "      <td>1</td>\n",
       "      <td>1</td>\n",
       "      <td>NaN</td>\n",
       "      <td>1</td>\n",
       "      <td>1</td>\n",
       "      <td>6</td>\n",
       "      <td>NaN</td>\n",
       "      <td>88</td>\n",
       "      <td>11</td>\n",
       "      <td>1</td>\n",
       "      <td>8</td>\n",
       "      <td>NaN</td>\n",
       "      <td>6344</td>\n",
       "      <td>3</td>\n",
       "      <td>1921-08-25</td>\n",
       "      <td>2015-09-26</td>\n",
       "      <td>Programa Jalisciense de Fomento a la Propieda...</td>\n",
       "      <td>PCT - SISTEMA MECATRÓNICO PARA EL CONTROL DE I...</td>\n",
       "      <td>RICARDO MERCADO CORTÉS\\n</td>\n",
       "      <td>0</td>\n",
       "    </tr>\n",
       "    <tr>\n",
       "      <th>2</th>\n",
       "      <td>4092</td>\n",
       "      <td>30</td>\n",
       "      <td>65673.63</td>\n",
       "      <td>16</td>\n",
       "      <td>1.0</td>\n",
       "      <td>1</td>\n",
       "      <td>1</td>\n",
       "      <td>1</td>\n",
       "      <td>NaN</td>\n",
       "      <td>1</td>\n",
       "      <td>1</td>\n",
       "      <td>7</td>\n",
       "      <td>NaN</td>\n",
       "      <td>88</td>\n",
       "      <td>11</td>\n",
       "      <td>1</td>\n",
       "      <td>2</td>\n",
       "      <td>NaN</td>\n",
       "      <td>6345</td>\n",
       "      <td>3</td>\n",
       "      <td>1922-06-12</td>\n",
       "      <td>2015-12-14</td>\n",
       "      <td>Programa Jalisciense de Fomento a la Propieda...</td>\n",
       "      <td>MX-EMPAQUE CÓNICO PARA LA CONEXIÓN \\nDE MANGUE...</td>\n",
       "      <td>CORPORATIVO BORO S.A. DE C.V.</td>\n",
       "      <td>3000</td>\n",
       "    </tr>\n",
       "    <tr>\n",
       "      <th>3</th>\n",
       "      <td>4047</td>\n",
       "      <td>58</td>\n",
       "      <td>Sistema Tecnológico de Jalisco, A.C.</td>\n",
       "      <td>3</td>\n",
       "      <td>NaN</td>\n",
       "      <td>1</td>\n",
       "      <td>1</td>\n",
       "      <td>1</td>\n",
       "      <td>NaN</td>\n",
       "      <td>1</td>\n",
       "      <td>Sistema Tecnológico de Jalisco, A.C.</td>\n",
       "      <td>7</td>\n",
       "      <td>NaN</td>\n",
       "      <td>88</td>\n",
       "      <td>9</td>\n",
       "      <td>1</td>\n",
       "      <td>13</td>\n",
       "      <td>1.0</td>\n",
       "      <td>6346</td>\n",
       "      <td>6</td>\n",
       "      <td>1967-08-28</td>\n",
       "      <td>2015-01-03</td>\n",
       "      <td>Programa Jalisciense de Fomento a la Propieda...</td>\n",
       "      <td>MX-PASTA BIODEGRADABLE PARA USOS MÚLTIPLES\\n</td>\n",
       "      <td>CORPORATIVO BORO S.A. DE C.V.\\n</td>\n",
       "      <td>5800</td>\n",
       "    </tr>\n",
       "    <tr>\n",
       "      <th>4</th>\n",
       "      <td>4040</td>\n",
       "      <td>50</td>\n",
       "      <td>30254.04</td>\n",
       "      <td>6</td>\n",
       "      <td>1.0</td>\n",
       "      <td>1</td>\n",
       "      <td>1</td>\n",
       "      <td>1</td>\n",
       "      <td>NaN</td>\n",
       "      <td>1</td>\n",
       "      <td>2</td>\n",
       "      <td>11</td>\n",
       "      <td>NaN</td>\n",
       "      <td>88</td>\n",
       "      <td>1</td>\n",
       "      <td>1</td>\n",
       "      <td>7</td>\n",
       "      <td>NaN</td>\n",
       "      <td>6364</td>\n",
       "      <td>4</td>\n",
       "      <td>1974-12-17</td>\n",
       "      <td>2015-07-16</td>\n",
       "      <td>Programa Jalisciense de Fomento a la Propieda...</td>\n",
       "      <td>DISPOSITIVO PERSONAL DE COMUNICACIÓN REMOTA PA...</td>\n",
       "      <td>GERALDINA  VEGA GAMBOA\\n</td>\n",
       "      <td>5000</td>\n",
       "    </tr>\n",
       "  </tbody>\n",
       "</table>\n",
       "</div>"
      ],
      "text/plain": [
       "   c_edad  c_minutos                      c_monto_de_apoyo  c_horas  \\\n",
       "0    4069         27                                   NaN       16   \n",
       "1    4093          0                              31446.48        6   \n",
       "2    4092         30                              65673.63       16   \n",
       "3    4047         58  Sistema Tecnológico de Jalisco, A.C.        3   \n",
       "4    4040         50                              30254.04        6   \n",
       "\n",
       "   v_ent_regis  v_mun_regis  v_ent_resid  v_mun_resid  v_ent_ocurr  \\\n",
       "0          1.0            1            1            1          NaN   \n",
       "1          NaN            1            1            1          NaN   \n",
       "2          1.0            1            1            1          NaN   \n",
       "3          NaN            1            1            1          NaN   \n",
       "4          1.0            1            1            1          NaN   \n",
       "\n",
       "   v_mun_ocurr                                v_sexo  v_ocupacion  \\\n",
       "0            1                                   NaN           11   \n",
       "1            1                                     1            6   \n",
       "2            1                                     1            7   \n",
       "3            1  Sistema Tecnológico de Jalisco, A.C.            7   \n",
       "4            1                                     2           11   \n",
       "\n",
       "   v_edo_civil  v_lugar_ocur  v_sitio_ocur  v_nacionalid  v_grupo  v_lengua  \\\n",
       "0          NaN            88             3             1        7       2.0   \n",
       "1          NaN            88            11             1        8       NaN   \n",
       "2          NaN            88            11             1        2       NaN   \n",
       "3          NaN            88             9             1       13       1.0   \n",
       "4          NaN            88             1             1        7       NaN   \n",
       "\n",
       "   v_clave  v_escolarida d_fecha_nac d_fecha_ocurr  \\\n",
       "0     6343             1  1946-06-30    2015-05-25   \n",
       "1     6344             3  1921-08-25    2015-09-26   \n",
       "2     6345             3  1922-06-12    2015-12-14   \n",
       "3     6346             6  1967-08-28    2015-01-03   \n",
       "4     6364             4  1974-12-17    2015-07-16   \n",
       "\n",
       "                                    t_programa_fondo  \\\n",
       "0   Programa Jalisciense de Fomento a la Propieda...   \n",
       "1   Programa Jalisciense de Fomento a la Propieda...   \n",
       "2   Programa Jalisciense de Fomento a la Propieda...   \n",
       "3   Programa Jalisciense de Fomento a la Propieda...   \n",
       "4   Programa Jalisciense de Fomento a la Propieda...   \n",
       "\n",
       "                               t_nombre_del_proyecto  \\\n",
       "0  MX - SISTEMA MECATRÓNICO PARA EL CONTROL DE IN...   \n",
       "1  PCT - SISTEMA MECATRÓNICO PARA EL CONTROL DE I...   \n",
       "2  MX-EMPAQUE CÓNICO PARA LA CONEXIÓN \\nDE MANGUE...   \n",
       "3       MX-PASTA BIODEGRADABLE PARA USOS MÚLTIPLES\\n   \n",
       "4  DISPOSITIVO PERSONAL DE COMUNICACIÓN REMOTA PA...   \n",
       "\n",
       "         t_nombre_del_beneficiario  c_salario  \n",
       "0         RICARDO MERCADO CORTÉS\\n       2700  \n",
       "1         RICARDO MERCADO CORTÉS\\n          0  \n",
       "2    CORPORATIVO BORO S.A. DE C.V.       3000  \n",
       "3  CORPORATIVO BORO S.A. DE C.V.\\n       5800  \n",
       "4         GERALDINA  VEGA GAMBOA\\n       5000  "
      ]
     },
     "execution_count": 127,
     "metadata": {},
     "output_type": "execute_result"
    }
   ],
   "source": [
    "df.head()"
   ]
  },
  {
   "cell_type": "code",
   "execution_count": 128,
   "metadata": {
    "ExecuteTime": {
     "end_time": "2022-04-29T19:01:44.100116Z",
     "start_time": "2022-04-29T19:01:43.454575Z"
    },
    "id": "KW91FuMMHaAs",
    "outputId": "1eacf972-535f-4bda-ef66-81f8ed6e81df"
   },
   "outputs": [
    {
     "data": {
      "text/plain": [
       "0         False\n",
       "1         False\n",
       "2         False\n",
       "3         False\n",
       "4         False\n",
       "          ...  \n",
       "655336     True\n",
       "655337     True\n",
       "655338     True\n",
       "655339     True\n",
       "655340     True\n",
       "Length: 655341, dtype: bool"
      ]
     },
     "execution_count": 128,
     "metadata": {},
     "output_type": "execute_result"
    }
   ],
   "source": [
    "df.duplicated()"
   ]
  },
  {
   "cell_type": "code",
   "execution_count": 129,
   "metadata": {
    "ExecuteTime": {
     "end_time": "2022-04-29T19:01:45.800692Z",
     "start_time": "2022-04-29T19:01:45.152497Z"
    },
    "id": "FOfAQEzbHaAt",
    "outputId": "51321696-e7f4-42e9-c4a5-60e99770189f",
    "scrolled": true
   },
   "outputs": [
    {
     "data": {
      "text/html": [
       "<div>\n",
       "<style scoped>\n",
       "    .dataframe tbody tr th:only-of-type {\n",
       "        vertical-align: middle;\n",
       "    }\n",
       "\n",
       "    .dataframe tbody tr th {\n",
       "        vertical-align: top;\n",
       "    }\n",
       "\n",
       "    .dataframe thead th {\n",
       "        text-align: right;\n",
       "    }\n",
       "</style>\n",
       "<table border=\"1\" class=\"dataframe\">\n",
       "  <thead>\n",
       "    <tr style=\"text-align: right;\">\n",
       "      <th></th>\n",
       "      <th>c_edad</th>\n",
       "      <th>c_minutos</th>\n",
       "      <th>c_monto_de_apoyo</th>\n",
       "      <th>c_horas</th>\n",
       "      <th>v_ent_regis</th>\n",
       "      <th>v_mun_regis</th>\n",
       "      <th>v_ent_resid</th>\n",
       "      <th>v_mun_resid</th>\n",
       "      <th>v_ent_ocurr</th>\n",
       "      <th>v_mun_ocurr</th>\n",
       "      <th>v_sexo</th>\n",
       "      <th>v_ocupacion</th>\n",
       "      <th>v_edo_civil</th>\n",
       "      <th>v_lugar_ocur</th>\n",
       "      <th>v_sitio_ocur</th>\n",
       "      <th>v_nacionalid</th>\n",
       "      <th>v_grupo</th>\n",
       "      <th>v_lengua</th>\n",
       "      <th>v_clave</th>\n",
       "      <th>v_escolarida</th>\n",
       "      <th>d_fecha_nac</th>\n",
       "      <th>d_fecha_ocurr</th>\n",
       "      <th>t_programa_fondo</th>\n",
       "      <th>t_nombre_del_proyecto</th>\n",
       "      <th>t_nombre_del_beneficiario</th>\n",
       "      <th>c_salario</th>\n",
       "    </tr>\n",
       "  </thead>\n",
       "  <tbody>\n",
       "    <tr>\n",
       "      <th>655333</th>\n",
       "      <td>4093</td>\n",
       "      <td>0</td>\n",
       "      <td>31446.48</td>\n",
       "      <td>6</td>\n",
       "      <td>NaN</td>\n",
       "      <td>1</td>\n",
       "      <td>1</td>\n",
       "      <td>1</td>\n",
       "      <td>NaN</td>\n",
       "      <td>1</td>\n",
       "      <td>1</td>\n",
       "      <td>6</td>\n",
       "      <td>NaN</td>\n",
       "      <td>88</td>\n",
       "      <td>11</td>\n",
       "      <td>1</td>\n",
       "      <td>8</td>\n",
       "      <td>NaN</td>\n",
       "      <td>6344</td>\n",
       "      <td>3</td>\n",
       "      <td>1921-08-25</td>\n",
       "      <td>2015-09-26</td>\n",
       "      <td>Programa Jalisciense de Fomento a la Propieda...</td>\n",
       "      <td>PCT - SISTEMA MECATRÓNICO PARA EL CONTROL DE I...</td>\n",
       "      <td>RICARDO MERCADO CORTÉS\\n</td>\n",
       "      <td>0</td>\n",
       "    </tr>\n",
       "    <tr>\n",
       "      <th>655334</th>\n",
       "      <td>4004</td>\n",
       "      <td>10</td>\n",
       "      <td>50336.83</td>\n",
       "      <td>16</td>\n",
       "      <td>1.0</td>\n",
       "      <td>7</td>\n",
       "      <td>1</td>\n",
       "      <td>7</td>\n",
       "      <td>NaN</td>\n",
       "      <td>1</td>\n",
       "      <td>2</td>\n",
       "      <td>97</td>\n",
       "      <td>NaN</td>\n",
       "      <td>88</td>\n",
       "      <td>3</td>\n",
       "      <td>1</td>\n",
       "      <td>6</td>\n",
       "      <td>2.0</td>\n",
       "      <td>6472</td>\n",
       "      <td>1</td>\n",
       "      <td>2010-09-14</td>\n",
       "      <td>2015-08-23</td>\n",
       "      <td>Programa Jalisciense de Fomento a la Propieda...</td>\n",
       "      <td>PRENDA ÍNTIMA DE MATERIAL ABSORBENTE CON MEDIO...</td>\n",
       "      <td>SILVIA MARIBEL BARCIA TAPIA\\n</td>\n",
       "      <td>1000</td>\n",
       "    </tr>\n",
       "    <tr>\n",
       "      <th>655335</th>\n",
       "      <td>4071</td>\n",
       "      <td>55</td>\n",
       "      <td>Molina Pasquel Y Henriquez</td>\n",
       "      <td>9</td>\n",
       "      <td>NaN</td>\n",
       "      <td>1</td>\n",
       "      <td>1</td>\n",
       "      <td>1</td>\n",
       "      <td>NaN</td>\n",
       "      <td>1</td>\n",
       "      <td>Molina Pasquel Y Henriquez</td>\n",
       "      <td>11</td>\n",
       "      <td>NaN</td>\n",
       "      <td>88</td>\n",
       "      <td>3</td>\n",
       "      <td>1</td>\n",
       "      <td>2</td>\n",
       "      <td>9.0</td>\n",
       "      <td>6488</td>\n",
       "      <td>6</td>\n",
       "      <td>1943-08-03</td>\n",
       "      <td>2015-01-28</td>\n",
       "      <td>Programa Jalisciense de Fomento a la Propieda...</td>\n",
       "      <td>MODELO INDUSTRIAL DE MUEBLE\\n</td>\n",
       "      <td>BRIAN ALEJANDRO FRANCO CEJA\\n</td>\n",
       "      <td>5500</td>\n",
       "    </tr>\n",
       "    <tr>\n",
       "      <th>655336</th>\n",
       "      <td>4019</td>\n",
       "      <td>2</td>\n",
       "      <td>30884.1</td>\n",
       "      <td>8</td>\n",
       "      <td>NaN</td>\n",
       "      <td>1</td>\n",
       "      <td>1</td>\n",
       "      <td>1</td>\n",
       "      <td>NaN</td>\n",
       "      <td>1</td>\n",
       "      <td>2</td>\n",
       "      <td>11</td>\n",
       "      <td>NaN</td>\n",
       "      <td>88</td>\n",
       "      <td>3</td>\n",
       "      <td>1</td>\n",
       "      <td>3</td>\n",
       "      <td>NaN</td>\n",
       "      <td>6500</td>\n",
       "      <td>7</td>\n",
       "      <td>1996-03-20</td>\n",
       "      <td>2015-03-01</td>\n",
       "      <td>Programa Jalisciense de Fomento a la Propieda...</td>\n",
       "      <td>PCT DE SISTEMA Y APARATO INALÁMBRICO PARA REGI...</td>\n",
       "      <td>DANIEL ARAGÓN HAN\\n</td>\n",
       "      <td>200</td>\n",
       "    </tr>\n",
       "    <tr>\n",
       "      <th>655337</th>\n",
       "      <td>4059</td>\n",
       "      <td>55</td>\n",
       "      <td>31209.56</td>\n",
       "      <td>17</td>\n",
       "      <td>2.0</td>\n",
       "      <td>4</td>\n",
       "      <td>2</td>\n",
       "      <td>4</td>\n",
       "      <td>NaN</td>\n",
       "      <td>4</td>\n",
       "      <td>1</td>\n",
       "      <td>11</td>\n",
       "      <td>NaN</td>\n",
       "      <td>88</td>\n",
       "      <td>1</td>\n",
       "      <td>1</td>\n",
       "      <td>4</td>\n",
       "      <td>NaN</td>\n",
       "      <td>6567</td>\n",
       "      <td>99</td>\n",
       "      <td>1955-07-09</td>\n",
       "      <td>2015-02-25</td>\n",
       "      <td>Programa Jalisciense de Fomento a la Propieda...</td>\n",
       "      <td>MANIQUI PARA SEÑALIZACIÓN VIAL DE FORMA VISUAL...</td>\n",
       "      <td>LUIS DAVID ALDAS ROBLES\\n</td>\n",
       "      <td>5500</td>\n",
       "    </tr>\n",
       "    <tr>\n",
       "      <th>655338</th>\n",
       "      <td>4025</td>\n",
       "      <td>5</td>\n",
       "      <td>62113.6</td>\n",
       "      <td>0</td>\n",
       "      <td>1.0</td>\n",
       "      <td>5</td>\n",
       "      <td>1</td>\n",
       "      <td>5</td>\n",
       "      <td>NaN</td>\n",
       "      <td>1</td>\n",
       "      <td>2</td>\n",
       "      <td>11</td>\n",
       "      <td>NaN</td>\n",
       "      <td>88</td>\n",
       "      <td>1</td>\n",
       "      <td>1</td>\n",
       "      <td>2</td>\n",
       "      <td>2.0</td>\n",
       "      <td>6515</td>\n",
       "      <td>8</td>\n",
       "      <td>1990-02-18</td>\n",
       "      <td>2015-06-06</td>\n",
       "      <td>Programa Jalisciense de Fomento a la Propieda...</td>\n",
       "      <td>PCT DE COMPOSICIÓN VEGETARIANA Y BIODEGRADABLE...</td>\n",
       "      <td>INSTITUTO TECNOLÓGICO Y DE ESTUDIOS SUPERIORES...</td>\n",
       "      <td>500</td>\n",
       "    </tr>\n",
       "    <tr>\n",
       "      <th>655339</th>\n",
       "      <td>4080</td>\n",
       "      <td>30</td>\n",
       "      <td>12254.04</td>\n",
       "      <td>11</td>\n",
       "      <td>1.0</td>\n",
       "      <td>11</td>\n",
       "      <td>1</td>\n",
       "      <td>11</td>\n",
       "      <td>NaN</td>\n",
       "      <td>11</td>\n",
       "      <td>1</td>\n",
       "      <td>11</td>\n",
       "      <td>NaN</td>\n",
       "      <td>88</td>\n",
       "      <td>11</td>\n",
       "      <td>1</td>\n",
       "      <td>5</td>\n",
       "      <td>NaN</td>\n",
       "      <td>6487</td>\n",
       "      <td>3</td>\n",
       "      <td>1934-02-18</td>\n",
       "      <td>2015-08-13</td>\n",
       "      <td>Programa Jalisciense de Fomento a la Propieda...</td>\n",
       "      <td>MODELO INDUSTRIAL DE MUEBLE\\n</td>\n",
       "      <td>BRIAN ALEJANDRO FRANCO CEJA\\n</td>\n",
       "      <td>3000</td>\n",
       "    </tr>\n",
       "    <tr>\n",
       "      <th>655340</th>\n",
       "      <td>4087</td>\n",
       "      <td>15</td>\n",
       "      <td>12254.04</td>\n",
       "      <td>10</td>\n",
       "      <td>NaN</td>\n",
       "      <td>5</td>\n",
       "      <td>1</td>\n",
       "      <td>1</td>\n",
       "      <td>NaN</td>\n",
       "      <td>1</td>\n",
       "      <td>2</td>\n",
       "      <td>11</td>\n",
       "      <td>NaN</td>\n",
       "      <td>88</td>\n",
       "      <td>9</td>\n",
       "      <td>1</td>\n",
       "      <td>6</td>\n",
       "      <td>NaN</td>\n",
       "      <td>6517</td>\n",
       "      <td>3</td>\n",
       "      <td>1928-03-18</td>\n",
       "      <td>2015-10-04</td>\n",
       "      <td>Programa Jalisciense de Fomento a la Propieda...</td>\n",
       "      <td>MODELO INDUSTRIAL DE MUEBLE\\n</td>\n",
       "      <td>BRIAN ALEJANDRO FRANCO CEJA\\n</td>\n",
       "      <td>1500</td>\n",
       "    </tr>\n",
       "  </tbody>\n",
       "</table>\n",
       "</div>"
      ],
      "text/plain": [
       "        c_edad  c_minutos            c_monto_de_apoyo  c_horas  v_ent_regis  \\\n",
       "655333    4093          0                    31446.48        6          NaN   \n",
       "655334    4004         10                    50336.83       16          1.0   \n",
       "655335    4071         55  Molina Pasquel Y Henriquez        9          NaN   \n",
       "655336    4019          2                     30884.1        8          NaN   \n",
       "655337    4059         55                    31209.56       17          2.0   \n",
       "655338    4025          5                     62113.6        0          1.0   \n",
       "655339    4080         30                    12254.04       11          1.0   \n",
       "655340    4087         15                    12254.04       10          NaN   \n",
       "\n",
       "        v_mun_regis  v_ent_resid  v_mun_resid  v_ent_ocurr  v_mun_ocurr  \\\n",
       "655333            1            1            1          NaN            1   \n",
       "655334            7            1            7          NaN            1   \n",
       "655335            1            1            1          NaN            1   \n",
       "655336            1            1            1          NaN            1   \n",
       "655337            4            2            4          NaN            4   \n",
       "655338            5            1            5          NaN            1   \n",
       "655339           11            1           11          NaN           11   \n",
       "655340            5            1            1          NaN            1   \n",
       "\n",
       "                            v_sexo  v_ocupacion  v_edo_civil  v_lugar_ocur  \\\n",
       "655333                           1            6          NaN            88   \n",
       "655334                           2           97          NaN            88   \n",
       "655335  Molina Pasquel Y Henriquez           11          NaN            88   \n",
       "655336                           2           11          NaN            88   \n",
       "655337                           1           11          NaN            88   \n",
       "655338                           2           11          NaN            88   \n",
       "655339                           1           11          NaN            88   \n",
       "655340                           2           11          NaN            88   \n",
       "\n",
       "        v_sitio_ocur  v_nacionalid  v_grupo  v_lengua  v_clave  v_escolarida  \\\n",
       "655333            11             1        8       NaN     6344             3   \n",
       "655334             3             1        6       2.0     6472             1   \n",
       "655335             3             1        2       9.0     6488             6   \n",
       "655336             3             1        3       NaN     6500             7   \n",
       "655337             1             1        4       NaN     6567            99   \n",
       "655338             1             1        2       2.0     6515             8   \n",
       "655339            11             1        5       NaN     6487             3   \n",
       "655340             9             1        6       NaN     6517             3   \n",
       "\n",
       "       d_fecha_nac d_fecha_ocurr  \\\n",
       "655333  1921-08-25    2015-09-26   \n",
       "655334  2010-09-14    2015-08-23   \n",
       "655335  1943-08-03    2015-01-28   \n",
       "655336  1996-03-20    2015-03-01   \n",
       "655337  1955-07-09    2015-02-25   \n",
       "655338  1990-02-18    2015-06-06   \n",
       "655339  1934-02-18    2015-08-13   \n",
       "655340  1928-03-18    2015-10-04   \n",
       "\n",
       "                                         t_programa_fondo  \\\n",
       "655333   Programa Jalisciense de Fomento a la Propieda...   \n",
       "655334   Programa Jalisciense de Fomento a la Propieda...   \n",
       "655335   Programa Jalisciense de Fomento a la Propieda...   \n",
       "655336   Programa Jalisciense de Fomento a la Propieda...   \n",
       "655337   Programa Jalisciense de Fomento a la Propieda...   \n",
       "655338   Programa Jalisciense de Fomento a la Propieda...   \n",
       "655339   Programa Jalisciense de Fomento a la Propieda...   \n",
       "655340   Programa Jalisciense de Fomento a la Propieda...   \n",
       "\n",
       "                                    t_nombre_del_proyecto  \\\n",
       "655333  PCT - SISTEMA MECATRÓNICO PARA EL CONTROL DE I...   \n",
       "655334  PRENDA ÍNTIMA DE MATERIAL ABSORBENTE CON MEDIO...   \n",
       "655335                      MODELO INDUSTRIAL DE MUEBLE\\n   \n",
       "655336  PCT DE SISTEMA Y APARATO INALÁMBRICO PARA REGI...   \n",
       "655337  MANIQUI PARA SEÑALIZACIÓN VIAL DE FORMA VISUAL...   \n",
       "655338  PCT DE COMPOSICIÓN VEGETARIANA Y BIODEGRADABLE...   \n",
       "655339                      MODELO INDUSTRIAL DE MUEBLE\\n   \n",
       "655340                      MODELO INDUSTRIAL DE MUEBLE\\n   \n",
       "\n",
       "                                t_nombre_del_beneficiario  c_salario  \n",
       "655333                           RICARDO MERCADO CORTÉS\\n          0  \n",
       "655334                      SILVIA MARIBEL BARCIA TAPIA\\n       1000  \n",
       "655335                      BRIAN ALEJANDRO FRANCO CEJA\\n       5500  \n",
       "655336                                DANIEL ARAGÓN HAN\\n        200  \n",
       "655337                          LUIS DAVID ALDAS ROBLES\\n       5500  \n",
       "655338  INSTITUTO TECNOLÓGICO Y DE ESTUDIOS SUPERIORES...        500  \n",
       "655339                      BRIAN ALEJANDRO FRANCO CEJA\\n       3000  \n",
       "655340                      BRIAN ALEJANDRO FRANCO CEJA\\n       1500  "
      ]
     },
     "execution_count": 129,
     "metadata": {},
     "output_type": "execute_result"
    }
   ],
   "source": [
    "df[df.duplicated()]"
   ]
  },
  {
   "cell_type": "code",
   "execution_count": 130,
   "metadata": {
    "ExecuteTime": {
     "end_time": "2022-04-29T19:01:55.679634Z",
     "start_time": "2022-04-29T19:01:55.673341Z"
    }
   },
   "outputs": [
    {
     "data": {
      "text/plain": [
       "(655341, 26)"
      ]
     },
     "execution_count": 130,
     "metadata": {},
     "output_type": "execute_result"
    }
   ],
   "source": [
    "df.shape"
   ]
  },
  {
   "cell_type": "code",
   "execution_count": 131,
   "metadata": {
    "ExecuteTime": {
     "end_time": "2022-04-29T19:01:56.625661Z",
     "start_time": "2022-04-29T19:01:55.997006Z"
    },
    "id": "Ui1uZfOrHaAu",
    "outputId": "3057c075-8ab3-47db-9c5e-26986eb0bfac"
   },
   "outputs": [
    {
     "data": {
      "text/plain": [
       "8"
      ]
     },
     "execution_count": 131,
     "metadata": {},
     "output_type": "execute_result"
    }
   ],
   "source": [
    "df.duplicated().sum()#Total de registros duplicados"
   ]
  },
  {
   "cell_type": "code",
   "execution_count": 132,
   "metadata": {
    "ExecuteTime": {
     "end_time": "2022-04-29T19:02:07.808495Z",
     "start_time": "2022-04-29T19:02:07.072098Z"
    },
    "id": "SNk8pgYzHaAv"
   },
   "outputs": [],
   "source": [
    "df.drop_duplicates(inplace=True)#Eliminamos duplicados de la tabla"
   ]
  },
  {
   "cell_type": "code",
   "execution_count": 133,
   "metadata": {
    "ExecuteTime": {
     "end_time": "2022-04-29T19:02:08.602226Z",
     "start_time": "2022-04-29T19:02:07.886628Z"
    },
    "id": "5ZubfSdaHaAw",
    "outputId": "2b06ca69-d971-4671-f718-8bb1ea165685"
   },
   "outputs": [
    {
     "data": {
      "text/plain": [
       "0"
      ]
     },
     "execution_count": 133,
     "metadata": {},
     "output_type": "execute_result"
    }
   ],
   "source": [
    "df.duplicated().sum()#Verificamos"
   ]
  },
  {
   "cell_type": "code",
   "execution_count": 134,
   "metadata": {
    "ExecuteTime": {
     "end_time": "2022-04-29T19:02:08.705458Z",
     "start_time": "2022-04-29T19:02:08.698931Z"
    },
    "id": "EqW7cFDRHaAw"
   },
   "outputs": [],
   "source": [
    "df.reset_index(drop=True,inplace=True)#Creamos un nuevo indice y eliminamos el anterior"
   ]
  },
  {
   "cell_type": "code",
   "execution_count": 135,
   "metadata": {
    "ExecuteTime": {
     "end_time": "2022-04-29T19:02:08.784275Z",
     "start_time": "2022-04-29T19:02:08.779230Z"
    },
    "id": "176v8QRKHaAx"
   },
   "outputs": [],
   "source": [
    "n_duplicados=n_rows-df.shape[0]"
   ]
  },
  {
   "cell_type": "code",
   "execution_count": 136,
   "metadata": {
    "ExecuteTime": {
     "end_time": "2022-04-29T19:02:08.874562Z",
     "start_time": "2022-04-29T19:02:08.869042Z"
    },
    "id": "Uf7DsVNkHaAy",
    "outputId": "04054d54-d1bb-44bf-bc30-d12b7b8a677a"
   },
   "outputs": [
    {
     "name": "stdout",
     "output_type": "stream",
     "text": [
      "Número de duplicados general : 8\n"
     ]
    }
   ],
   "source": [
    "print(f\"Número de duplicados general : { n_duplicados}\")"
   ]
  },
  {
   "cell_type": "markdown",
   "metadata": {
    "id": "WQS9repfHaAz"
   },
   "source": [
    "###  <h1 style=\"color:#d2691e\"> DUPLICADOS POR ID</h1>"
   ]
  },
  {
   "cell_type": "code",
   "execution_count": 137,
   "metadata": {
    "ExecuteTime": {
     "end_time": "2022-04-29T19:02:30.738191Z",
     "start_time": "2022-04-29T19:02:30.734042Z"
    },
    "id": "4LaObLmKHaAz"
   },
   "outputs": [],
   "source": [
    "#Verificamos que no existan duplicados por las siguientes variables:\n",
    "#\"t_nombre_del_beneficiario\"\n",
    "#\"t_nombre_del_proyecto\"\n",
    "#\"t_programa_fondo\" \n",
    "#\"d_fecha_ocurr\"\n",
    "\n",
    "#Es importante conocer la unidad muestral para verificar la duplicidad"
   ]
  },
  {
   "cell_type": "code",
   "execution_count": 138,
   "metadata": {
    "ExecuteTime": {
     "end_time": "2022-04-29T19:02:32.102149Z",
     "start_time": "2022-04-29T19:02:32.096780Z"
    },
    "id": "0wDn3me0HaA0",
    "outputId": "95f9f006-a9f0-4538-9e0c-f9013f750df0",
    "scrolled": true
   },
   "outputs": [
    {
     "data": {
      "text/plain": [
       "(655333, 26)"
      ]
     },
     "execution_count": 138,
     "metadata": {},
     "output_type": "execute_result"
    }
   ],
   "source": [
    "df.shape"
   ]
  },
  {
   "cell_type": "code",
   "execution_count": 139,
   "metadata": {
    "ExecuteTime": {
     "end_time": "2022-04-29T19:02:33.165537Z",
     "start_time": "2022-04-29T19:02:33.094758Z"
    },
    "id": "Ku8niYxuHaA2"
   },
   "outputs": [],
   "source": [
    "df=df.reset_index(drop=True)"
   ]
  },
  {
   "cell_type": "markdown",
   "metadata": {
    "id": "r2y7a1w8HaA4"
   },
   "source": [
    "#### LIMPIEZA DE TEXTO"
   ]
  },
  {
   "cell_type": "code",
   "execution_count": 140,
   "metadata": {
    "ExecuteTime": {
     "end_time": "2022-04-29T19:02:39.388334Z",
     "start_time": "2022-04-29T19:02:39.384903Z"
    },
    "id": "QsfgyaonHaA4"
   },
   "outputs": [],
   "source": [
    "import unicodedata\n",
    "import re\n",
    "#https://es.py4e.com/html3/11-regex"
   ]
  },
  {
   "cell_type": "markdown",
   "metadata": {},
   "source": [
    "- UNIDECODEDATA: Libreria que tiene como objetivo representar texto en unicode (Unicode es un estándar de codificación de caracteres diseñado para facilitar el tratamiento informático, transmisión y visualización de textos de numerosos idiomas) para representarlo en ASCII (es un código de caracteres basado en el alfabeto latino, tal como se usa en inglés moderno.)"
   ]
  },
  {
   "cell_type": "markdown",
   "metadata": {
    "id": "R1AIMey7HaA5"
   },
   "source": [
    "**Existe un método \"Normalize\" el cual devuelve la forma normal para una cadena de texto y tenemos distintos métodos :**\n",
    "- NFC - Aplica primero una descomposición y luego vuelve a componer los carateres combinados previamente\n",
    "- NFD - Aplica una descomposicion y traduce cada caracter a su forma descompuesta \n",
    "https://towardsdatascience.com/difference-between-nfd-nfc-nfkd-and-nfkc-explained-with-python-code-e2631f96ae6c\n",
    "\n",
    "- ENCODE (a,b) - Método con el cúal codificamos los carácteres, el primer parámetro indica como se van a codificar y el segundo parámetro indica que se hará con los caracteres que no se puedan codificar (se van a ignorar)\n",
    "- re.sub : Escanea una cadena en busca de coincidencias de expresiones regulares, reemplaza las partes coincidentes de la cadena con la cadena de reemplazo especificada y devuelve el resultado.\n",
    "- UTF-8  “Formato de Transformación Unicode” (en inglés), y el número 8 a los bits. Este formato es considerado el más idóneo para web y e-mail.\n",
    "- Las flags modifican el comportamiento de análisis de expresiones regulares, lo que le permite refinar aún más la coincidencia de patrones.  \n",
    "- re.UNICODE Especifica la codificación Unicode para la clasificación de caracteres (para manejar cualquier idioma de forma correctamente)\n",
    "\n",
    "- [^ : Coincide con cualquier CARACTER que no esté en el conjunto.\n",
    "- ASCII : https://elcodigoascii.com.ar/"
   ]
  },
  {
   "cell_type": "markdown",
   "metadata": {
    "id": "h26-UFFKHaA6"
   },
   "source": [
    "ASCII : https://elcodigoascii.com.ar/"
   ]
  },
  {
   "cell_type": "code",
   "execution_count": 141,
   "metadata": {
    "ExecuteTime": {
     "end_time": "2022-04-29T19:02:50.449919Z",
     "start_time": "2022-04-29T19:02:50.444232Z"
    }
   },
   "outputs": [
    {
     "data": {
      "text/plain": [
       "14"
      ]
     },
     "execution_count": 141,
     "metadata": {},
     "output_type": "execute_result"
    }
   ],
   "source": [
    "len(\"FELIZ BUEN DÍA\")"
   ]
  },
  {
   "cell_type": "code",
   "execution_count": 142,
   "metadata": {
    "ExecuteTime": {
     "end_time": "2022-04-29T19:02:53.625523Z",
     "start_time": "2022-04-29T19:02:53.582266Z"
    }
   },
   "outputs": [
    {
     "data": {
      "text/plain": [
       "'FELIZ BUEN DÍA'"
      ]
     },
     "execution_count": 142,
     "metadata": {},
     "output_type": "execute_result"
    }
   ],
   "source": [
    "unicodedata.normalize('NFC', \"FELIZ BUEN DÍA\")"
   ]
  },
  {
   "cell_type": "code",
   "execution_count": 143,
   "metadata": {
    "ExecuteTime": {
     "end_time": "2022-04-29T19:02:55.303683Z",
     "start_time": "2022-04-29T19:02:55.299219Z"
    }
   },
   "outputs": [
    {
     "data": {
      "text/plain": [
       "14"
      ]
     },
     "execution_count": 143,
     "metadata": {},
     "output_type": "execute_result"
    }
   ],
   "source": [
    "len(unicodedata.normalize('NFC', \"FELIZ BUEN DÍA\"))"
   ]
  },
  {
   "cell_type": "code",
   "execution_count": 144,
   "metadata": {
    "ExecuteTime": {
     "end_time": "2022-04-29T19:02:57.312303Z",
     "start_time": "2022-04-29T19:02:57.267611Z"
    }
   },
   "outputs": [
    {
     "data": {
      "text/plain": [
       "'FELIZ BUEN DÍA'"
      ]
     },
     "execution_count": 144,
     "metadata": {},
     "output_type": "execute_result"
    }
   ],
   "source": [
    "unicodedata.normalize('NFD', \"FELIZ BUEN DÍA\")"
   ]
  },
  {
   "cell_type": "code",
   "execution_count": 145,
   "metadata": {
    "ExecuteTime": {
     "end_time": "2022-04-29T19:02:57.753953Z",
     "start_time": "2022-04-29T19:02:57.747823Z"
    }
   },
   "outputs": [
    {
     "data": {
      "text/plain": [
       "15"
      ]
     },
     "execution_count": 145,
     "metadata": {},
     "output_type": "execute_result"
    }
   ],
   "source": [
    "len(unicodedata.normalize('NFD', \"FELIZ BUEN DÍA\"))"
   ]
  },
  {
   "cell_type": "code",
   "execution_count": 146,
   "metadata": {
    "ExecuteTime": {
     "end_time": "2022-04-29T19:03:01.423799Z",
     "start_time": "2022-04-29T19:03:01.418507Z"
    }
   },
   "outputs": [
    {
     "data": {
      "text/plain": [
       "b'FELIZ BUEN DA'"
      ]
     },
     "execution_count": 146,
     "metadata": {},
     "output_type": "execute_result"
    }
   ],
   "source": [
    "unicodedata.normalize('NFC', \"FELIZ BUEN DÍA\").encode('ascii', 'ignore')"
   ]
  },
  {
   "cell_type": "code",
   "execution_count": 147,
   "metadata": {
    "ExecuteTime": {
     "end_time": "2022-04-29T19:03:03.981594Z",
     "start_time": "2022-04-29T19:03:03.976931Z"
    }
   },
   "outputs": [
    {
     "data": {
      "text/plain": [
       "b'FELIZ BUEN DIA'"
      ]
     },
     "execution_count": 147,
     "metadata": {},
     "output_type": "execute_result"
    }
   ],
   "source": [
    "unicodedata.normalize('NFD', \"FELIZ BUEN DÍA\").encode('ascii', 'ignore')"
   ]
  },
  {
   "cell_type": "code",
   "execution_count": 148,
   "metadata": {
    "ExecuteTime": {
     "end_time": "2022-04-29T19:03:09.413340Z",
     "start_time": "2022-04-29T19:03:09.407552Z"
    }
   },
   "outputs": [
    {
     "data": {
      "text/plain": [
       "b'FELIZ BUEN D\\xc3\\x8dA'"
      ]
     },
     "execution_count": 148,
     "metadata": {},
     "output_type": "execute_result"
    }
   ],
   "source": [
    "unicodedata.normalize('NFC', \"FELIZ BUEN DÍA\").encode('utf-8', 'ignore')"
   ]
  },
  {
   "cell_type": "code",
   "execution_count": 149,
   "metadata": {
    "ExecuteTime": {
     "end_time": "2022-04-29T19:03:10.345762Z",
     "start_time": "2022-04-29T19:03:10.341593Z"
    }
   },
   "outputs": [
    {
     "name": "stdout",
     "output_type": "stream",
     "text": [
      "FELIZ BUEN DÍA \n",
      "\n"
     ]
    }
   ],
   "source": [
    "print(\"FELIZ BUEN DÍA \\n\")"
   ]
  },
  {
   "cell_type": "code",
   "execution_count": 150,
   "metadata": {
    "ExecuteTime": {
     "end_time": "2022-04-29T19:03:11.586237Z",
     "start_time": "2022-04-29T19:03:11.580138Z"
    }
   },
   "outputs": [
    {
     "name": "stdout",
     "output_type": "stream",
     "text": [
      "FELIZ BUEN DÍA \\n\n"
     ]
    }
   ],
   "source": [
    "print(r\"FELIZ BUEN DÍA \\n\")"
   ]
  },
  {
   "cell_type": "code",
   "execution_count": 151,
   "metadata": {
    "ExecuteTime": {
     "end_time": "2022-04-29T19:03:28.266194Z",
     "start_time": "2022-04-29T19:03:28.260411Z"
    }
   },
   "outputs": [
    {
     "data": {
      "text/plain": [
       "'FELIZ BUEN DÍA \\n'"
      ]
     },
     "execution_count": 151,
     "metadata": {},
     "output_type": "execute_result"
    }
   ],
   "source": [
    "unicodedata.normalize('NFD', \"FELIZ BUEN DÍA \\n\")"
   ]
  },
  {
   "cell_type": "code",
   "execution_count": 152,
   "metadata": {
    "ExecuteTime": {
     "end_time": "2022-04-29T19:03:29.839278Z",
     "start_time": "2022-04-29T19:03:29.832936Z"
    }
   },
   "outputs": [
    {
     "data": {
      "text/plain": [
       "b'FELIZ BUEN DI\\xcc\\x81A'"
      ]
     },
     "execution_count": 152,
     "metadata": {},
     "output_type": "execute_result"
    }
   ],
   "source": [
    "unicodedata.normalize('NFD', \"FELIZ BUEN DÍA\").encode('utf-8', 'ignore')"
   ]
  },
  {
   "cell_type": "code",
   "execution_count": 153,
   "metadata": {
    "ExecuteTime": {
     "end_time": "2022-04-29T19:03:30.411893Z",
     "start_time": "2022-04-29T19:03:30.408148Z"
    }
   },
   "outputs": [],
   "source": [
    "eje=unicodedata.normalize('NFD', \"FELIZ BUEN DÍA\").encode('ascii', 'ignore')"
   ]
  },
  {
   "cell_type": "code",
   "execution_count": 154,
   "metadata": {
    "ExecuteTime": {
     "end_time": "2022-04-29T19:03:30.837436Z",
     "start_time": "2022-04-29T19:03:30.831448Z"
    }
   },
   "outputs": [
    {
     "data": {
      "text/plain": [
       "b'FELIZ BUEN DIA'"
      ]
     },
     "execution_count": 154,
     "metadata": {},
     "output_type": "execute_result"
    }
   ],
   "source": [
    "eje"
   ]
  },
  {
   "cell_type": "code",
   "execution_count": 158,
   "metadata": {
    "ExecuteTime": {
     "end_time": "2022-04-29T19:13:01.489385Z",
     "start_time": "2022-04-29T19:13:01.484542Z"
    }
   },
   "outputs": [],
   "source": [
    "#pattern=\"[^a-zA-Z0-9 ]\"\n",
    "pattern=\"[^a-zA-Z0-9 ]\"  #reconoce todos los elementos que no sean letras o numeros\n",
    "#[] definen un set de caracteres\n",
    "# ^ Puede complementar (invertir) el conjunto de caracteres utilizando ^el símbolo de intercalación al \n",
    "#comienzo de un corchete\n"
   ]
  },
  {
   "cell_type": "code",
   "execution_count": 159,
   "metadata": {
    "ExecuteTime": {
     "end_time": "2022-04-29T19:13:05.016736Z",
     "start_time": "2022-04-29T19:13:05.011143Z"
    }
   },
   "outputs": [
    {
     "data": {
      "text/plain": [
       "'FELIZ BUEN DIA'"
      ]
     },
     "execution_count": 159,
     "metadata": {},
     "output_type": "execute_result"
    }
   ],
   "source": [
    "eje.decode(\"ascii\")"
   ]
  },
  {
   "cell_type": "code",
   "execution_count": 160,
   "metadata": {
    "ExecuteTime": {
     "end_time": "2022-04-29T19:13:06.550058Z",
     "start_time": "2022-04-29T19:13:06.546579Z"
    }
   },
   "outputs": [],
   "source": [
    "eje = re.sub(pattern, \" \", eje.decode(\"ascii\"), flags=re.UNICODE)"
   ]
  },
  {
   "cell_type": "code",
   "execution_count": 161,
   "metadata": {
    "ExecuteTime": {
     "end_time": "2022-04-29T19:13:07.028234Z",
     "start_time": "2022-04-29T19:13:07.023216Z"
    }
   },
   "outputs": [
    {
     "data": {
      "text/plain": [
       "'FELIZ BUEN DIA'"
      ]
     },
     "execution_count": 161,
     "metadata": {},
     "output_type": "execute_result"
    }
   ],
   "source": [
    "eje"
   ]
  },
  {
   "cell_type": "code",
   "execution_count": 163,
   "metadata": {
    "ExecuteTime": {
     "end_time": "2022-04-29T19:13:15.780741Z",
     "start_time": "2022-04-29T19:13:15.774714Z"
    }
   },
   "outputs": [
    {
     "data": {
      "text/plain": [
       "'hola'"
      ]
     },
     "execution_count": 163,
     "metadata": {},
     "output_type": "execute_result"
    }
   ],
   "source": [
    "\"hola \".strip()"
   ]
  },
  {
   "cell_type": "code",
   "execution_count": 164,
   "metadata": {
    "ExecuteTime": {
     "end_time": "2022-04-29T19:13:28.407736Z",
     "start_time": "2022-04-29T19:13:28.401264Z"
    }
   },
   "outputs": [
    {
     "data": {
      "text/plain": [
       "['hola', 'hola']"
      ]
     },
     "execution_count": 164,
     "metadata": {},
     "output_type": "execute_result"
    }
   ],
   "source": [
    "\" hola hola\".lstrip().split()"
   ]
  },
  {
   "cell_type": "code",
   "execution_count": 165,
   "metadata": {
    "ExecuteTime": {
     "end_time": "2022-04-29T19:13:39.546063Z",
     "start_time": "2022-04-29T19:13:39.540212Z"
    }
   },
   "outputs": [
    {
     "data": {
      "text/plain": [
       "'hola hola'"
      ]
     },
     "execution_count": 165,
     "metadata": {},
     "output_type": "execute_result"
    }
   ],
   "source": [
    "\" \".join(\"hola     hola\".lstrip().split())"
   ]
  },
  {
   "cell_type": "code",
   "execution_count": 166,
   "metadata": {
    "ExecuteTime": {
     "end_time": "2022-04-29T19:13:44.219682Z",
     "start_time": "2022-04-29T19:13:44.215141Z"
    },
    "id": "mcyKH5sbHaA7",
    "scrolled": true
   },
   "outputs": [],
   "source": [
    "def clean_text(text, pattern=\"[^a-zA-Z0-9]\"):\n",
    "    cleaned_text = unicodedata.normalize('NFD', text).encode('ascii', 'ignore')\n",
    "    cleaned_text = re.sub(pattern, \" \", cleaned_text.decode(\"ascii\"), flags=re.UNICODE)\n",
    "    cleaned_text = u' '.join(cleaned_text.lower().lstrip().strip().split())\n",
    "    return cleaned_text"
   ]
  },
  {
   "cell_type": "code",
   "execution_count": 167,
   "metadata": {
    "ExecuteTime": {
     "end_time": "2022-04-29T19:13:47.293091Z",
     "start_time": "2022-04-29T19:13:47.288342Z"
    }
   },
   "outputs": [
    {
     "name": "stdout",
     "output_type": "stream",
     "text": [
      "ä\n"
     ]
    }
   ],
   "source": [
    "print(\"\\u00e4\")"
   ]
  },
  {
   "cell_type": "code",
   "execution_count": 168,
   "metadata": {
    "ExecuteTime": {
     "end_time": "2022-04-29T19:13:51.409962Z",
     "start_time": "2022-04-29T19:13:51.405530Z"
    }
   },
   "outputs": [
    {
     "name": "stdout",
     "output_type": "stream",
     "text": [
      "ä\n"
     ]
    }
   ],
   "source": [
    "print(u\"\\u00e4\")"
   ]
  },
  {
   "cell_type": "code",
   "execution_count": 169,
   "metadata": {
    "ExecuteTime": {
     "end_time": "2022-04-29T19:13:54.329350Z",
     "start_time": "2022-04-29T19:13:54.323346Z"
    }
   },
   "outputs": [
    {
     "data": {
      "text/plain": [
       "'ä'"
      ]
     },
     "execution_count": 169,
     "metadata": {},
     "output_type": "execute_result"
    }
   ],
   "source": [
    "str(u\"\\u00e4\")"
   ]
  },
  {
   "cell_type": "code",
   "execution_count": 170,
   "metadata": {
    "ExecuteTime": {
     "end_time": "2022-04-29T19:13:56.566505Z",
     "start_time": "2022-04-29T19:13:56.561557Z"
    }
   },
   "outputs": [
    {
     "data": {
      "text/plain": [
       "'ä'"
      ]
     },
     "execution_count": 170,
     "metadata": {},
     "output_type": "execute_result"
    }
   ],
   "source": [
    "str(\"\\u00e4\")"
   ]
  },
  {
   "cell_type": "code",
   "execution_count": 171,
   "metadata": {
    "ExecuteTime": {
     "end_time": "2022-04-29T19:13:57.310073Z",
     "start_time": "2022-04-29T19:13:57.304020Z"
    }
   },
   "outputs": [
    {
     "data": {
      "text/plain": [
       "\"b'\\\\xc3\\\\xa4\\\\xc3\\\\xb6\\\\xc3\\\\xbc'\""
      ]
     },
     "execution_count": 171,
     "metadata": {},
     "output_type": "execute_result"
    }
   ],
   "source": [
    "str(u\"\\u00e4\\u00f6\\u00fc\".encode(\"utf-8\"))"
   ]
  },
  {
   "cell_type": "code",
   "execution_count": 172,
   "metadata": {
    "ExecuteTime": {
     "end_time": "2022-04-29T19:13:59.481693Z",
     "start_time": "2022-04-29T19:13:59.478692Z"
    },
    "id": "CtMVp_LxHaA7"
   },
   "outputs": [],
   "source": [
    "text='¡Feliz nuevo día, México!'"
   ]
  },
  {
   "cell_type": "code",
   "execution_count": 173,
   "metadata": {
    "ExecuteTime": {
     "end_time": "2022-04-29T19:14:07.982695Z",
     "start_time": "2022-04-29T19:14:07.979231Z"
    },
    "id": "WF84Z3WBHaA8"
   },
   "outputs": [],
   "source": [
    "pattern=\"[^a-zA-Z0-9]\"\n",
    "cleaned_text = unicodedata.normalize('NFD', text).encode('ascii', 'ignore')\n",
    "cleaned_text = re.sub(pattern, \" \", cleaned_text.decode(\"ascii\"), flags=re.UNICODE)"
   ]
  },
  {
   "cell_type": "code",
   "execution_count": 174,
   "metadata": {
    "ExecuteTime": {
     "end_time": "2022-04-29T19:14:08.550313Z",
     "start_time": "2022-04-29T19:14:08.546152Z"
    },
    "id": "XjrEz4pqHaA9",
    "outputId": "1863c8d0-733e-415f-f794-05380a13790c"
   },
   "outputs": [
    {
     "data": {
      "text/plain": [
       "'Feliz nuevo dia  Mexico '"
      ]
     },
     "execution_count": 174,
     "metadata": {},
     "output_type": "execute_result"
    }
   ],
   "source": [
    "cleaned_text"
   ]
  },
  {
   "cell_type": "code",
   "execution_count": 175,
   "metadata": {
    "ExecuteTime": {
     "end_time": "2022-04-29T19:14:12.470541Z",
     "start_time": "2022-04-29T19:14:12.467733Z"
    },
    "id": "mOgqU_iRHaA9"
   },
   "outputs": [],
   "source": [
    "cleaned_text = u' '.join(cleaned_text.lower().strip().split())"
   ]
  },
  {
   "cell_type": "code",
   "execution_count": 176,
   "metadata": {
    "ExecuteTime": {
     "end_time": "2022-04-29T19:14:12.973492Z",
     "start_time": "2022-04-29T19:14:12.969741Z"
    },
    "id": "bWg_s7hlHaA-",
    "outputId": "9cde76ed-32df-430a-9ff8-f979bfbe3ada"
   },
   "outputs": [
    {
     "data": {
      "text/plain": [
       "'feliz nuevo dia mexico'"
      ]
     },
     "execution_count": 176,
     "metadata": {},
     "output_type": "execute_result"
    }
   ],
   "source": [
    "cleaned_text"
   ]
  },
  {
   "cell_type": "markdown",
   "metadata": {
    "ExecuteTime": {
     "end_time": "2021-05-13T20:57:45.841828Z",
     "start_time": "2021-05-13T20:57:45.708131Z"
    },
    "id": "PEpjEwwYHaA_"
   },
   "source": [
    "##### Limpieza del t_nombre_del_beneficiario"
   ]
  },
  {
   "cell_type": "code",
   "execution_count": 177,
   "metadata": {
    "ExecuteTime": {
     "end_time": "2022-04-29T19:14:15.356441Z",
     "start_time": "2022-04-29T19:14:15.349987Z"
    },
    "id": "AP_3UVgnHaA_",
    "outputId": "c9373ec4-98ab-4c78-c582-2d27bbbd4150"
   },
   "outputs": [
    {
     "data": {
      "text/plain": [
       "0                       RICARDO MERCADO CORTÉS\\n\n",
       "1                       RICARDO MERCADO CORTÉS\\n\n",
       "2                  CORPORATIVO BORO S.A. DE C.V.\n",
       "3                CORPORATIVO BORO S.A. DE C.V.\\n\n",
       "4                       GERALDINA  VEGA GAMBOA\\n\n",
       "                           ...                  \n",
       "655328         Compañia Power Tools S.A. de C.V.\n",
       "655329         Complejo Industrial RM S.A de C.V\n",
       "655330    Microalgas Oleas de México S.A de C.V.\n",
       "655331                Universidad de Guadalajara\n",
       "655332                     Consire, S.A. de C.V.\n",
       "Name: t_nombre_del_beneficiario, Length: 655333, dtype: object"
      ]
     },
     "execution_count": 177,
     "metadata": {},
     "output_type": "execute_result"
    }
   ],
   "source": [
    "df[\"t_nombre_del_beneficiario\"]"
   ]
  },
  {
   "cell_type": "code",
   "execution_count": 178,
   "metadata": {
    "ExecuteTime": {
     "end_time": "2022-04-29T19:14:24.957480Z",
     "start_time": "2022-04-29T19:14:22.417579Z"
    },
    "id": "P0GXlKOlHaBA"
   },
   "outputs": [],
   "source": [
    "df[\"t_nombre_del_beneficiario\"]=df[\"t_nombre_del_beneficiario\"].map(lambda x:clean_text(x.lower()).replace(\"\\n\",\"\"))"
   ]
  },
  {
   "cell_type": "code",
   "execution_count": 183,
   "metadata": {
    "ExecuteTime": {
     "end_time": "2022-04-29T19:14:53.675085Z",
     "start_time": "2022-04-29T19:14:53.596242Z"
    }
   },
   "outputs": [
    {
     "data": {
      "text/plain": [
       "brian alejandro franco ceja                                                                                                        72811\n",
       "erick eduardo guzman quezada                                                                                                       29134\n",
       "instituto tecnologico y de estudios superiores de occidente a c                                                                    25487\n",
       "francisco xavier valdes simancas                                                                                                   21850\n",
       "active financial sa de cv                                                                                                          18207\n",
       "maricela lopez cepeda                                                                                                              18205\n",
       "gerardo tornel leanos                                                                                                              14566\n",
       "eduardo arciniega vazquez                                                                                                          14563\n",
       "instituto superior autonomo de occidente a c                                                                                       14562\n",
       "seerauber automotive de mexico sapi de c v                                                                                         14561\n",
       "universidad de guadalajara                                                                                                         14561\n",
       "corporativo boro s a de c v                                                                                                        14560\n",
       "sistema tecnologico de jalisco a c                                                                                                 14559\n",
       "marcos andres ochoa molina                                                                                                         10926\n",
       "alexis izquierdo collins                                                                                                           10923\n",
       "consire s a de c v                                                                                                                 10923\n",
       "mariana pieck lomeli                                                                                                               10920\n",
       "instituto tecnologico jose mario molina pasquel y henriquez                                                                        10919\n",
       "microalgas oleas de mexico s a de c v                                                                                              10918\n",
       "4 0 industrial cluster ac                                                                                                           7285\n",
       "katia saucedo fernandez                                                                                                             7285\n",
       "isaac jesus romero gonzalez                                                                                                         7284\n",
       "daniel aragon han                                                                                                                   7283\n",
       "ruth araceli de celis carrillo                                                                                                      7283\n",
       "emergys mexico s a de c v                                                                                                           7283\n",
       "instituto tecnologico de estudios superiores de monterrey                                                                           7282\n",
       "ricardo mercado cortes                                                                                                              7282\n",
       "laboratorio futuro innovacion s a p i de c v                                                                                        7282\n",
       "dennis sheridan plasencia                                                                                                           7282\n",
       "luis david aldas robles                                                                                                             7282\n",
       "compania power tools s a de c v                                                                                                     7281\n",
       "centros culturales de mexico a c                                                                                                    7281\n",
       "oracle de mexico s a de c v                                                                                                         7280\n",
       "active financial s a de c v                                                                                                         7279\n",
       "servando soto velasco                                                                                                               7279\n",
       "humberto gonzalez calleja                                                                                                           7278\n",
       "miriam alejandra carlos mancilla                                                                                                    3643\n",
       "complejo industrial rm s a de c v                                                                                                   3643\n",
       "nestor emmanuel diaz martinez                                                                                                       3643\n",
       "luis fernando luque vega                                                                                                            3643\n",
       "eslinga vikingo s a de c v                                                                                                          3642\n",
       "gyroscopik studios s a de c v                                                                                                       3642\n",
       "silvia maribel barcia tapia                                                                                                         3642\n",
       "logica global positioning system s a de c v                                                                                         3642\n",
       "cclp s a de c v                                                                                                                     3642\n",
       "it consultant s c                                                                                                                   3642\n",
       "sociedad latinoamericana de ciencia y tecnologia aplicada ac                                                                        3642\n",
       "universidad tecnologica de jalisco                                                                                                  3641\n",
       "camara nacional de la industria electronica de telecomunicaciones y tecnologias de la informacion delegacion regional occidente     3641\n",
       "jorge manuel ortega ibarra                                                                                                          3641\n",
       "jocelyn maira velazquez hernandez                                                                                                   3641\n",
       "grupo kantesa de mexico s a de c v                                                                                                  3641\n",
       "continental automotive guadalajara mexico sa de cv                                                                                  3641\n",
       "soluciones kenko s a de c v                                                                                                         3641\n",
       "luisa edurne ortega silva                                                                                                           3641\n",
       "camara de la industria alimenticia de jalisco                                                                                       3641\n",
       "hidro plata s a de c v                                                                                                              3641\n",
       "jorge rodrigo sanchez sanchez                                                                                                       3641\n",
       "emmanuel lopez neri                                                                                                                 3641\n",
       "jorge alberto cardenas magana                                                                                                       3641\n",
       "biomentum s a p i de c v                                                                                                            3640\n",
       "francisco javier luis juan barragan mario molina                                                                                    3640\n",
       "4 0 industrial cluster a c                                                                                                          3640\n",
       "unosquare s a de c v                                                                                                                3640\n",
       "intel tecnologia de mexico s a de c v                                                                                               3640\n",
       "julio cesar chavez novoa                                                                                                            3640\n",
       "frg internacional s de r l de c v                                                                                                   3640\n",
       "productos sane de chapala s a de c v                                                                                                3640\n",
       "centro de innovacion ciencia y tecnologia jalisco a c                                                                               3640\n",
       "sociedad latinoamericana de ciencia y tecnologia aplicada a c                                                                       3640\n",
       "roberto ibarra rabadan                                                                                                              3640\n",
       "emmanuel vega negrete mario molina                                                                                                  3640\n",
       "consejo promotor de la innovacion y el diseno jalisco a c                                                                           3640\n",
       "piensa tepa sc                                                                                                                      3640\n",
       "omar ricardo fonseca cervantes                                                                                                      3639\n",
       "im master capital s a p i s a de c v                                                                                                3639\n",
       "eduardo jacobo arroyo                                                                                                               3639\n",
       "sanmina sci systems de mexico s a de c v                                                                                            3639\n",
       "centro de ensenanza tecnica industrial                                                                                              3639\n",
       "tecnologia y productos biomedicos de occidente s a de c v                                                                           3639\n",
       "repstronics s a de c v                                                                                                              3639\n",
       "fleximatic s a de c v                                                                                                               3639\n",
       "instituto ciatt s c                                                                                                                 3639\n",
       "sferp s c                                                                                                                           3639\n",
       "geraldina vega gamboa                                                                                                               3638\n",
       "Name: t_nombre_del_beneficiario, dtype: int64"
      ]
     },
     "execution_count": 183,
     "metadata": {},
     "output_type": "execute_result"
    }
   ],
   "source": [
    "df[\"t_nombre_del_beneficiario\"].value_counts()"
   ]
  },
  {
   "cell_type": "markdown",
   "metadata": {
    "ExecuteTime": {
     "end_time": "2022-04-29T19:15:22.851952Z",
     "start_time": "2022-04-29T19:15:22.847432Z"
    }
   },
   "source": [
    "##### Distancia en texto\n",
    "- https://pypi.org/project/jellyfish/"
   ]
  },
  {
   "cell_type": "markdown",
   "metadata": {},
   "source": [
    "**Jellyfish es una biblioteca para coincidencias aproximadas y fonéticas de cadenas.**\n",
    "- Comparación de cadenas:\n",
    "\n",
    "- Distancia de Levenstein\n",
    "- Distancia Damerau-Levenshtein\n",
    "- Distancia Jaró\n",
    "- Distancia Jaro-Winkler\n",
    "- Comparación de enfoque de calificación de coincidencia\n",
    "- Distancia de Hamming\n"
   ]
  },
  {
   "cell_type": "code",
   "execution_count": 188,
   "metadata": {
    "ExecuteTime": {
     "end_time": "2022-04-29T20:38:09.031086Z",
     "start_time": "2022-04-29T20:38:09.006673Z"
    }
   },
   "outputs": [],
   "source": [
    "#pip install jellyfish\n",
    "import jellyfish as jf"
   ]
  },
  {
   "cell_type": "markdown",
   "metadata": {
    "ExecuteTime": {
     "end_time": "2022-04-29T20:46:15.854176Z",
     "start_time": "2022-04-29T20:46:15.851452Z"
    }
   },
   "source": [
    "###### Levenshtein Distance"
   ]
  },
  {
   "cell_type": "code",
   "execution_count": 189,
   "metadata": {
    "ExecuteTime": {
     "end_time": "2022-04-29T20:38:48.309642Z",
     "start_time": "2022-04-29T20:38:48.304978Z"
    }
   },
   "outputs": [
    {
     "data": {
      "text/plain": [
       "3"
      ]
     },
     "execution_count": 189,
     "metadata": {},
     "output_type": "execute_result"
    }
   ],
   "source": [
    "##Ejemplos\n",
    "jf.levenshtein_distance(\"kitten\",\"sitting\")"
   ]
  },
  {
   "cell_type": "markdown",
   "metadata": {
    "ExecuteTime": {
     "end_time": "2022-04-29T20:43:10.724183Z",
     "start_time": "2022-04-29T20:43:10.718989Z"
    }
   },
   "source": [
    "###### Damerau Levenshtein\n",
    "\n",
    "- La distancia Damerau-Levenshtein difiere de la distancia clásica de Levenshtein al incluir la operación de transposición entre sus operaciones permitidas además de las tres operaciones de edición de un solo carácter (inserciones, eliminaciones y sustituciones)"
   ]
  },
  {
   "cell_type": "code",
   "execution_count": 190,
   "metadata": {
    "ExecuteTime": {
     "end_time": "2022-04-29T20:40:56.388691Z",
     "start_time": "2022-04-29T20:40:56.384543Z"
    }
   },
   "outputs": [],
   "source": [
    "a=\"ag qwe\"\n",
    "b=\"a wqe\""
   ]
  },
  {
   "cell_type": "markdown",
   "metadata": {},
   "source": [
    "- Operation 1: eliminar g en el indice 1\n",
    "- Operation 2: eliminar q en el indice 4\n",
    "- Operation 3: insertar q en el indice 5\n",
    "\n",
    "**Levenshtein distance = 3**"
   ]
  },
  {
   "cell_type": "code",
   "execution_count": 191,
   "metadata": {
    "ExecuteTime": {
     "end_time": "2022-04-29T20:42:15.840416Z",
     "start_time": "2022-04-29T20:42:15.834640Z"
    }
   },
   "outputs": [
    {
     "data": {
      "text/plain": [
       "3"
      ]
     },
     "execution_count": 191,
     "metadata": {},
     "output_type": "execute_result"
    }
   ],
   "source": [
    "jf.levenshtein_distance(a,b)"
   ]
  },
  {
   "cell_type": "code",
   "execution_count": null,
   "metadata": {},
   "outputs": [],
   "source": [
    "# Operaciones en distancia de Levenshtein con operación de transposición"
   ]
  },
  {
   "cell_type": "markdown",
   "metadata": {},
   "source": [
    "- Operacion 1: Eliminar g en el indice 1\n",
    "- Operacion 2: Transposición: intercambiar caracteres en el índice 4 y 5\n",
    "\n",
    "**Distancia de Levenshtein con operación de transposición = 2**"
   ]
  },
  {
   "cell_type": "code",
   "execution_count": 195,
   "metadata": {
    "ExecuteTime": {
     "end_time": "2022-04-29T20:45:32.483393Z",
     "start_time": "2022-04-29T20:45:32.476589Z"
    }
   },
   "outputs": [
    {
     "data": {
      "text/plain": [
       "2"
      ]
     },
     "execution_count": 195,
     "metadata": {},
     "output_type": "execute_result"
    }
   ],
   "source": [
    "jf.damerau_levenshtein_distance(a,b)"
   ]
  },
  {
   "cell_type": "markdown",
   "metadata": {},
   "source": [
    "###### Jaro Distance\n",
    "- Jaro Similarity es la medida de similitud entre dos cadenas. El valor de la distancia de Jaro varía de 0 a 1, donde 1 significa que las cadenas son iguales y 0 significa que no hay similitud entre las dos cadenas. "
   ]
  },
  {
   "cell_type": "code",
   "execution_count": 198,
   "metadata": {
    "ExecuteTime": {
     "end_time": "2022-04-29T20:49:40.271071Z",
     "start_time": "2022-04-29T20:49:40.268560Z"
    }
   },
   "outputs": [],
   "source": [
    "a=\"arnab\"\n",
    "b=\"raanb\""
   ]
  },
  {
   "cell_type": "markdown",
   "metadata": {},
   "source": [
    "- Es evidente que ambas cadenas tienen 5 caracteres coincidentes, pero el orden no es el mismo, por lo que el número de caracteres que no están en orden es 4, por lo que el número de transposiciones es 2.\n",
    "- La unica letra que esta en orden es la \"b\""
   ]
  },
  {
   "cell_type": "markdown",
   "metadata": {},
   "source": [
    "- Similitud de Jaro = (1/3) * {(5/5) + (5/5) + (5-2)/5 } = 0.86667"
   ]
  },
  {
   "cell_type": "code",
   "execution_count": 199,
   "metadata": {
    "ExecuteTime": {
     "end_time": "2022-04-29T20:49:41.721793Z",
     "start_time": "2022-04-29T20:49:41.717529Z"
    }
   },
   "outputs": [
    {
     "data": {
      "text/plain": [
       "0.8666666666666667"
      ]
     },
     "execution_count": 199,
     "metadata": {},
     "output_type": "execute_result"
    }
   ],
   "source": [
    "jf.jaro_distance(a,b)"
   ]
  },
  {
   "cell_type": "code",
   "execution_count": 209,
   "metadata": {
    "ExecuteTime": {
     "end_time": "2022-04-29T21:04:58.703453Z",
     "start_time": "2022-04-29T21:04:58.670733Z"
    },
    "scrolled": true
   },
   "outputs": [],
   "source": [
    "nombres=pd.DataFrame(df[\"t_nombre_del_beneficiario\"].value_counts()).reset_index()\n",
    "\n",
    "nombres.columns=[\"nombre\",\"#\"]\n",
    "nombres=nombres[[\"nombre\"]]"
   ]
  },
  {
   "cell_type": "code",
   "execution_count": 210,
   "metadata": {
    "ExecuteTime": {
     "end_time": "2022-04-29T21:04:59.043123Z",
     "start_time": "2022-04-29T21:04:59.036350Z"
    }
   },
   "outputs": [
    {
     "data": {
      "text/html": [
       "<div>\n",
       "<style scoped>\n",
       "    .dataframe tbody tr th:only-of-type {\n",
       "        vertical-align: middle;\n",
       "    }\n",
       "\n",
       "    .dataframe tbody tr th {\n",
       "        vertical-align: top;\n",
       "    }\n",
       "\n",
       "    .dataframe thead th {\n",
       "        text-align: right;\n",
       "    }\n",
       "</style>\n",
       "<table border=\"1\" class=\"dataframe\">\n",
       "  <thead>\n",
       "    <tr style=\"text-align: right;\">\n",
       "      <th></th>\n",
       "      <th>nombre</th>\n",
       "    </tr>\n",
       "  </thead>\n",
       "  <tbody>\n",
       "    <tr>\n",
       "      <th>0</th>\n",
       "      <td>brian alejandro franco ceja</td>\n",
       "    </tr>\n",
       "    <tr>\n",
       "      <th>1</th>\n",
       "      <td>erick eduardo guzman quezada</td>\n",
       "    </tr>\n",
       "    <tr>\n",
       "      <th>2</th>\n",
       "      <td>instituto tecnologico y de estudios superiores...</td>\n",
       "    </tr>\n",
       "    <tr>\n",
       "      <th>3</th>\n",
       "      <td>francisco xavier valdes simancas</td>\n",
       "    </tr>\n",
       "    <tr>\n",
       "      <th>4</th>\n",
       "      <td>active financial sa de cv</td>\n",
       "    </tr>\n",
       "    <tr>\n",
       "      <th>5</th>\n",
       "      <td>maricela lopez cepeda</td>\n",
       "    </tr>\n",
       "    <tr>\n",
       "      <th>6</th>\n",
       "      <td>gerardo tornel leanos</td>\n",
       "    </tr>\n",
       "    <tr>\n",
       "      <th>7</th>\n",
       "      <td>eduardo arciniega vazquez</td>\n",
       "    </tr>\n",
       "    <tr>\n",
       "      <th>8</th>\n",
       "      <td>instituto superior autonomo de occidente a c</td>\n",
       "    </tr>\n",
       "    <tr>\n",
       "      <th>9</th>\n",
       "      <td>seerauber automotive de mexico sapi de c v</td>\n",
       "    </tr>\n",
       "    <tr>\n",
       "      <th>10</th>\n",
       "      <td>universidad de guadalajara</td>\n",
       "    </tr>\n",
       "    <tr>\n",
       "      <th>11</th>\n",
       "      <td>corporativo boro s a de c v</td>\n",
       "    </tr>\n",
       "    <tr>\n",
       "      <th>12</th>\n",
       "      <td>sistema tecnologico de jalisco a c</td>\n",
       "    </tr>\n",
       "    <tr>\n",
       "      <th>13</th>\n",
       "      <td>marcos andres ochoa molina</td>\n",
       "    </tr>\n",
       "    <tr>\n",
       "      <th>14</th>\n",
       "      <td>alexis izquierdo collins</td>\n",
       "    </tr>\n",
       "    <tr>\n",
       "      <th>15</th>\n",
       "      <td>consire s a de c v</td>\n",
       "    </tr>\n",
       "    <tr>\n",
       "      <th>16</th>\n",
       "      <td>mariana pieck lomeli</td>\n",
       "    </tr>\n",
       "    <tr>\n",
       "      <th>17</th>\n",
       "      <td>instituto tecnologico jose mario molina pasque...</td>\n",
       "    </tr>\n",
       "    <tr>\n",
       "      <th>18</th>\n",
       "      <td>microalgas oleas de mexico s a de c v</td>\n",
       "    </tr>\n",
       "    <tr>\n",
       "      <th>19</th>\n",
       "      <td>4 0 industrial cluster ac</td>\n",
       "    </tr>\n",
       "    <tr>\n",
       "      <th>20</th>\n",
       "      <td>katia saucedo fernandez</td>\n",
       "    </tr>\n",
       "    <tr>\n",
       "      <th>21</th>\n",
       "      <td>isaac jesus romero gonzalez</td>\n",
       "    </tr>\n",
       "    <tr>\n",
       "      <th>22</th>\n",
       "      <td>daniel aragon han</td>\n",
       "    </tr>\n",
       "    <tr>\n",
       "      <th>23</th>\n",
       "      <td>ruth araceli de celis carrillo</td>\n",
       "    </tr>\n",
       "    <tr>\n",
       "      <th>24</th>\n",
       "      <td>emergys mexico s a de c v</td>\n",
       "    </tr>\n",
       "    <tr>\n",
       "      <th>25</th>\n",
       "      <td>instituto tecnologico de estudios superiores d...</td>\n",
       "    </tr>\n",
       "    <tr>\n",
       "      <th>26</th>\n",
       "      <td>ricardo mercado cortes</td>\n",
       "    </tr>\n",
       "    <tr>\n",
       "      <th>27</th>\n",
       "      <td>laboratorio futuro innovacion s a p i de c v</td>\n",
       "    </tr>\n",
       "    <tr>\n",
       "      <th>28</th>\n",
       "      <td>dennis sheridan plasencia</td>\n",
       "    </tr>\n",
       "    <tr>\n",
       "      <th>29</th>\n",
       "      <td>luis david aldas robles</td>\n",
       "    </tr>\n",
       "    <tr>\n",
       "      <th>30</th>\n",
       "      <td>compania power tools s a de c v</td>\n",
       "    </tr>\n",
       "    <tr>\n",
       "      <th>31</th>\n",
       "      <td>centros culturales de mexico a c</td>\n",
       "    </tr>\n",
       "    <tr>\n",
       "      <th>32</th>\n",
       "      <td>oracle de mexico s a de c v</td>\n",
       "    </tr>\n",
       "    <tr>\n",
       "      <th>33</th>\n",
       "      <td>active financial s a de c v</td>\n",
       "    </tr>\n",
       "    <tr>\n",
       "      <th>34</th>\n",
       "      <td>servando soto velasco</td>\n",
       "    </tr>\n",
       "    <tr>\n",
       "      <th>35</th>\n",
       "      <td>humberto gonzalez calleja</td>\n",
       "    </tr>\n",
       "    <tr>\n",
       "      <th>36</th>\n",
       "      <td>miriam alejandra carlos mancilla</td>\n",
       "    </tr>\n",
       "    <tr>\n",
       "      <th>37</th>\n",
       "      <td>complejo industrial rm s a de c v</td>\n",
       "    </tr>\n",
       "    <tr>\n",
       "      <th>38</th>\n",
       "      <td>nestor emmanuel diaz martinez</td>\n",
       "    </tr>\n",
       "    <tr>\n",
       "      <th>39</th>\n",
       "      <td>luis fernando luque vega</td>\n",
       "    </tr>\n",
       "    <tr>\n",
       "      <th>40</th>\n",
       "      <td>eslinga vikingo s a de c v</td>\n",
       "    </tr>\n",
       "    <tr>\n",
       "      <th>41</th>\n",
       "      <td>gyroscopik studios s a de c v</td>\n",
       "    </tr>\n",
       "    <tr>\n",
       "      <th>42</th>\n",
       "      <td>silvia maribel barcia tapia</td>\n",
       "    </tr>\n",
       "    <tr>\n",
       "      <th>43</th>\n",
       "      <td>logica global positioning system s a de c v</td>\n",
       "    </tr>\n",
       "    <tr>\n",
       "      <th>44</th>\n",
       "      <td>cclp s a de c v</td>\n",
       "    </tr>\n",
       "    <tr>\n",
       "      <th>45</th>\n",
       "      <td>it consultant s c</td>\n",
       "    </tr>\n",
       "    <tr>\n",
       "      <th>46</th>\n",
       "      <td>sociedad latinoamericana de ciencia y tecnolog...</td>\n",
       "    </tr>\n",
       "    <tr>\n",
       "      <th>47</th>\n",
       "      <td>universidad tecnologica de jalisco</td>\n",
       "    </tr>\n",
       "    <tr>\n",
       "      <th>48</th>\n",
       "      <td>camara nacional de la industria electronica de...</td>\n",
       "    </tr>\n",
       "    <tr>\n",
       "      <th>49</th>\n",
       "      <td>jorge manuel ortega ibarra</td>\n",
       "    </tr>\n",
       "    <tr>\n",
       "      <th>50</th>\n",
       "      <td>jocelyn maira velazquez hernandez</td>\n",
       "    </tr>\n",
       "    <tr>\n",
       "      <th>51</th>\n",
       "      <td>grupo kantesa de mexico s a de c v</td>\n",
       "    </tr>\n",
       "    <tr>\n",
       "      <th>52</th>\n",
       "      <td>continental automotive guadalajara mexico sa d...</td>\n",
       "    </tr>\n",
       "    <tr>\n",
       "      <th>53</th>\n",
       "      <td>soluciones kenko s a de c v</td>\n",
       "    </tr>\n",
       "    <tr>\n",
       "      <th>54</th>\n",
       "      <td>luisa edurne ortega silva</td>\n",
       "    </tr>\n",
       "    <tr>\n",
       "      <th>55</th>\n",
       "      <td>camara de la industria alimenticia de jalisco</td>\n",
       "    </tr>\n",
       "    <tr>\n",
       "      <th>56</th>\n",
       "      <td>hidro plata s a de c v</td>\n",
       "    </tr>\n",
       "    <tr>\n",
       "      <th>57</th>\n",
       "      <td>jorge rodrigo sanchez sanchez</td>\n",
       "    </tr>\n",
       "    <tr>\n",
       "      <th>58</th>\n",
       "      <td>emmanuel lopez neri</td>\n",
       "    </tr>\n",
       "    <tr>\n",
       "      <th>59</th>\n",
       "      <td>jorge alberto cardenas magana</td>\n",
       "    </tr>\n",
       "    <tr>\n",
       "      <th>60</th>\n",
       "      <td>biomentum s a p i de c v</td>\n",
       "    </tr>\n",
       "    <tr>\n",
       "      <th>61</th>\n",
       "      <td>francisco javier luis juan barragan mario molina</td>\n",
       "    </tr>\n",
       "    <tr>\n",
       "      <th>62</th>\n",
       "      <td>4 0 industrial cluster a c</td>\n",
       "    </tr>\n",
       "    <tr>\n",
       "      <th>63</th>\n",
       "      <td>unosquare s a de c v</td>\n",
       "    </tr>\n",
       "    <tr>\n",
       "      <th>64</th>\n",
       "      <td>intel tecnologia de mexico s a de c v</td>\n",
       "    </tr>\n",
       "    <tr>\n",
       "      <th>65</th>\n",
       "      <td>julio cesar chavez novoa</td>\n",
       "    </tr>\n",
       "    <tr>\n",
       "      <th>66</th>\n",
       "      <td>frg internacional s de r l de c v</td>\n",
       "    </tr>\n",
       "    <tr>\n",
       "      <th>67</th>\n",
       "      <td>productos sane de chapala s a de c v</td>\n",
       "    </tr>\n",
       "    <tr>\n",
       "      <th>68</th>\n",
       "      <td>centro de innovacion ciencia y tecnologia jali...</td>\n",
       "    </tr>\n",
       "    <tr>\n",
       "      <th>69</th>\n",
       "      <td>sociedad latinoamericana de ciencia y tecnolog...</td>\n",
       "    </tr>\n",
       "    <tr>\n",
       "      <th>70</th>\n",
       "      <td>roberto ibarra rabadan</td>\n",
       "    </tr>\n",
       "    <tr>\n",
       "      <th>71</th>\n",
       "      <td>emmanuel vega negrete mario molina</td>\n",
       "    </tr>\n",
       "    <tr>\n",
       "      <th>72</th>\n",
       "      <td>consejo promotor de la innovacion y el diseno ...</td>\n",
       "    </tr>\n",
       "    <tr>\n",
       "      <th>73</th>\n",
       "      <td>piensa tepa sc</td>\n",
       "    </tr>\n",
       "    <tr>\n",
       "      <th>74</th>\n",
       "      <td>omar ricardo fonseca cervantes</td>\n",
       "    </tr>\n",
       "    <tr>\n",
       "      <th>75</th>\n",
       "      <td>im master capital s a p i s a de c v</td>\n",
       "    </tr>\n",
       "    <tr>\n",
       "      <th>76</th>\n",
       "      <td>eduardo jacobo arroyo</td>\n",
       "    </tr>\n",
       "    <tr>\n",
       "      <th>77</th>\n",
       "      <td>sanmina sci systems de mexico s a de c v</td>\n",
       "    </tr>\n",
       "    <tr>\n",
       "      <th>78</th>\n",
       "      <td>centro de ensenanza tecnica industrial</td>\n",
       "    </tr>\n",
       "    <tr>\n",
       "      <th>79</th>\n",
       "      <td>tecnologia y productos biomedicos de occidente...</td>\n",
       "    </tr>\n",
       "    <tr>\n",
       "      <th>80</th>\n",
       "      <td>repstronics s a de c v</td>\n",
       "    </tr>\n",
       "    <tr>\n",
       "      <th>81</th>\n",
       "      <td>fleximatic s a de c v</td>\n",
       "    </tr>\n",
       "    <tr>\n",
       "      <th>82</th>\n",
       "      <td>instituto ciatt s c</td>\n",
       "    </tr>\n",
       "    <tr>\n",
       "      <th>83</th>\n",
       "      <td>sferp s c</td>\n",
       "    </tr>\n",
       "    <tr>\n",
       "      <th>84</th>\n",
       "      <td>geraldina vega gamboa</td>\n",
       "    </tr>\n",
       "  </tbody>\n",
       "</table>\n",
       "</div>"
      ],
      "text/plain": [
       "                                               nombre\n",
       "0                         brian alejandro franco ceja\n",
       "1                        erick eduardo guzman quezada\n",
       "2   instituto tecnologico y de estudios superiores...\n",
       "3                    francisco xavier valdes simancas\n",
       "4                           active financial sa de cv\n",
       "5                               maricela lopez cepeda\n",
       "6                               gerardo tornel leanos\n",
       "7                           eduardo arciniega vazquez\n",
       "8        instituto superior autonomo de occidente a c\n",
       "9          seerauber automotive de mexico sapi de c v\n",
       "10                         universidad de guadalajara\n",
       "11                        corporativo boro s a de c v\n",
       "12                 sistema tecnologico de jalisco a c\n",
       "13                         marcos andres ochoa molina\n",
       "14                           alexis izquierdo collins\n",
       "15                                 consire s a de c v\n",
       "16                               mariana pieck lomeli\n",
       "17  instituto tecnologico jose mario molina pasque...\n",
       "18              microalgas oleas de mexico s a de c v\n",
       "19                          4 0 industrial cluster ac\n",
       "20                            katia saucedo fernandez\n",
       "21                        isaac jesus romero gonzalez\n",
       "22                                  daniel aragon han\n",
       "23                     ruth araceli de celis carrillo\n",
       "24                          emergys mexico s a de c v\n",
       "25  instituto tecnologico de estudios superiores d...\n",
       "26                             ricardo mercado cortes\n",
       "27       laboratorio futuro innovacion s a p i de c v\n",
       "28                          dennis sheridan plasencia\n",
       "29                            luis david aldas robles\n",
       "30                    compania power tools s a de c v\n",
       "31                   centros culturales de mexico a c\n",
       "32                        oracle de mexico s a de c v\n",
       "33                        active financial s a de c v\n",
       "34                              servando soto velasco\n",
       "35                          humberto gonzalez calleja\n",
       "36                   miriam alejandra carlos mancilla\n",
       "37                  complejo industrial rm s a de c v\n",
       "38                      nestor emmanuel diaz martinez\n",
       "39                           luis fernando luque vega\n",
       "40                         eslinga vikingo s a de c v\n",
       "41                      gyroscopik studios s a de c v\n",
       "42                        silvia maribel barcia tapia\n",
       "43        logica global positioning system s a de c v\n",
       "44                                    cclp s a de c v\n",
       "45                                  it consultant s c\n",
       "46  sociedad latinoamericana de ciencia y tecnolog...\n",
       "47                 universidad tecnologica de jalisco\n",
       "48  camara nacional de la industria electronica de...\n",
       "49                         jorge manuel ortega ibarra\n",
       "50                  jocelyn maira velazquez hernandez\n",
       "51                 grupo kantesa de mexico s a de c v\n",
       "52  continental automotive guadalajara mexico sa d...\n",
       "53                        soluciones kenko s a de c v\n",
       "54                          luisa edurne ortega silva\n",
       "55      camara de la industria alimenticia de jalisco\n",
       "56                             hidro plata s a de c v\n",
       "57                      jorge rodrigo sanchez sanchez\n",
       "58                                emmanuel lopez neri\n",
       "59                      jorge alberto cardenas magana\n",
       "60                           biomentum s a p i de c v\n",
       "61   francisco javier luis juan barragan mario molina\n",
       "62                         4 0 industrial cluster a c\n",
       "63                               unosquare s a de c v\n",
       "64              intel tecnologia de mexico s a de c v\n",
       "65                           julio cesar chavez novoa\n",
       "66                  frg internacional s de r l de c v\n",
       "67               productos sane de chapala s a de c v\n",
       "68  centro de innovacion ciencia y tecnologia jali...\n",
       "69  sociedad latinoamericana de ciencia y tecnolog...\n",
       "70                             roberto ibarra rabadan\n",
       "71                 emmanuel vega negrete mario molina\n",
       "72  consejo promotor de la innovacion y el diseno ...\n",
       "73                                     piensa tepa sc\n",
       "74                     omar ricardo fonseca cervantes\n",
       "75               im master capital s a p i s a de c v\n",
       "76                              eduardo jacobo arroyo\n",
       "77           sanmina sci systems de mexico s a de c v\n",
       "78             centro de ensenanza tecnica industrial\n",
       "79  tecnologia y productos biomedicos de occidente...\n",
       "80                             repstronics s a de c v\n",
       "81                              fleximatic s a de c v\n",
       "82                                instituto ciatt s c\n",
       "83                                          sferp s c\n",
       "84                              geraldina vega gamboa"
      ]
     },
     "execution_count": 210,
     "metadata": {},
     "output_type": "execute_result"
    }
   ],
   "source": [
    "nombres[]"
   ]
  },
  {
   "cell_type": "code",
   "execution_count": 218,
   "metadata": {
    "ExecuteTime": {
     "end_time": "2022-04-29T21:24:10.269219Z",
     "start_time": "2022-04-29T21:24:10.236972Z"
    }
   },
   "outputs": [],
   "source": [
    "nombres=list(df[\"t_nombre_del_beneficiario\"].value_counts().index)"
   ]
  },
  {
   "cell_type": "code",
   "execution_count": 219,
   "metadata": {
    "ExecuteTime": {
     "end_time": "2022-04-29T21:24:15.357004Z",
     "start_time": "2022-04-29T21:24:15.353313Z"
    },
    "collapsed": true
   },
   "outputs": [
    {
     "data": {
      "text/plain": [
       "['brian alejandro franco ceja',\n",
       " 'erick eduardo guzman quezada',\n",
       " 'instituto tecnologico y de estudios superiores de occidente a c',\n",
       " 'francisco xavier valdes simancas',\n",
       " 'active financial sa de cv',\n",
       " 'maricela lopez cepeda',\n",
       " 'gerardo tornel leanos',\n",
       " 'eduardo arciniega vazquez',\n",
       " 'instituto superior autonomo de occidente a c',\n",
       " 'seerauber automotive de mexico sapi de c v',\n",
       " 'universidad de guadalajara',\n",
       " 'corporativo boro s a de c v',\n",
       " 'sistema tecnologico de jalisco a c',\n",
       " 'marcos andres ochoa molina',\n",
       " 'alexis izquierdo collins',\n",
       " 'consire s a de c v',\n",
       " 'mariana pieck lomeli',\n",
       " 'instituto tecnologico jose mario molina pasquel y henriquez',\n",
       " 'microalgas oleas de mexico s a de c v',\n",
       " '4 0 industrial cluster ac',\n",
       " 'katia saucedo fernandez',\n",
       " 'isaac jesus romero gonzalez',\n",
       " 'daniel aragon han',\n",
       " 'ruth araceli de celis carrillo',\n",
       " 'emergys mexico s a de c v',\n",
       " 'instituto tecnologico de estudios superiores de monterrey',\n",
       " 'ricardo mercado cortes',\n",
       " 'laboratorio futuro innovacion s a p i de c v',\n",
       " 'dennis sheridan plasencia',\n",
       " 'luis david aldas robles',\n",
       " 'compania power tools s a de c v',\n",
       " 'centros culturales de mexico a c',\n",
       " 'oracle de mexico s a de c v',\n",
       " 'active financial s a de c v',\n",
       " 'servando soto velasco',\n",
       " 'humberto gonzalez calleja',\n",
       " 'miriam alejandra carlos mancilla',\n",
       " 'complejo industrial rm s a de c v',\n",
       " 'nestor emmanuel diaz martinez',\n",
       " 'luis fernando luque vega',\n",
       " 'eslinga vikingo s a de c v',\n",
       " 'gyroscopik studios s a de c v',\n",
       " 'silvia maribel barcia tapia',\n",
       " 'logica global positioning system s a de c v',\n",
       " 'cclp s a de c v',\n",
       " 'it consultant s c',\n",
       " 'sociedad latinoamericana de ciencia y tecnologia aplicada ac',\n",
       " 'universidad tecnologica de jalisco',\n",
       " 'camara nacional de la industria electronica de telecomunicaciones y tecnologias de la informacion delegacion regional occidente',\n",
       " 'jorge manuel ortega ibarra',\n",
       " 'jocelyn maira velazquez hernandez',\n",
       " 'grupo kantesa de mexico s a de c v',\n",
       " 'continental automotive guadalajara mexico sa de cv',\n",
       " 'soluciones kenko s a de c v',\n",
       " 'luisa edurne ortega silva',\n",
       " 'camara de la industria alimenticia de jalisco',\n",
       " 'hidro plata s a de c v',\n",
       " 'jorge rodrigo sanchez sanchez',\n",
       " 'emmanuel lopez neri',\n",
       " 'jorge alberto cardenas magana',\n",
       " 'biomentum s a p i de c v',\n",
       " 'francisco javier luis juan barragan mario molina',\n",
       " '4 0 industrial cluster a c',\n",
       " 'unosquare s a de c v',\n",
       " 'intel tecnologia de mexico s a de c v',\n",
       " 'julio cesar chavez novoa',\n",
       " 'frg internacional s de r l de c v',\n",
       " 'productos sane de chapala s a de c v',\n",
       " 'centro de innovacion ciencia y tecnologia jalisco a c',\n",
       " 'sociedad latinoamericana de ciencia y tecnologia aplicada a c',\n",
       " 'roberto ibarra rabadan',\n",
       " 'emmanuel vega negrete mario molina',\n",
       " 'consejo promotor de la innovacion y el diseno jalisco a c',\n",
       " 'piensa tepa sc',\n",
       " 'omar ricardo fonseca cervantes',\n",
       " 'im master capital s a p i s a de c v',\n",
       " 'eduardo jacobo arroyo',\n",
       " 'sanmina sci systems de mexico s a de c v',\n",
       " 'centro de ensenanza tecnica industrial',\n",
       " 'tecnologia y productos biomedicos de occidente s a de c v',\n",
       " 'repstronics s a de c v',\n",
       " 'fleximatic s a de c v',\n",
       " 'instituto ciatt s c',\n",
       " 'sferp s c',\n",
       " 'geraldina vega gamboa']"
      ]
     },
     "execution_count": 219,
     "metadata": {},
     "output_type": "execute_result"
    }
   ],
   "source": [
    "nombres"
   ]
  },
  {
   "cell_type": "code",
   "execution_count": 238,
   "metadata": {
    "ExecuteTime": {
     "end_time": "2022-04-29T21:27:54.728500Z",
     "start_time": "2022-04-29T21:27:54.725188Z"
    }
   },
   "outputs": [],
   "source": [
    "def diff_nombres(texto,nombres):\n",
    "    nombres=list(filter(lambda x:x!=texto,nombres))\n",
    "    diff=[jf.levenshtein_distance(x,str(texto)) for x in nombres]\n",
    "  \n",
    "    if len(diff)>0:\n",
    "        similitud=nombres[diff.index(min(diff))]\n",
    "\n",
    "    else:\n",
    "        similitud=\"\"\n",
    "    return [similitud,min(diff)]\n"
   ]
  },
  {
   "cell_type": "code",
   "execution_count": 241,
   "metadata": {
    "ExecuteTime": {
     "end_time": "2022-04-29T21:30:44.136144Z",
     "start_time": "2022-04-29T21:28:24.107116Z"
    }
   },
   "outputs": [],
   "source": [
    "df[\"t_nombre_del_beneficiario_lev_dist\"]=df[\"t_nombre_del_beneficiario\"].map(lambda x:diff_nombres(x,nombres))"
   ]
  },
  {
   "cell_type": "code",
   "execution_count": 242,
   "metadata": {
    "ExecuteTime": {
     "end_time": "2022-04-29T21:30:44.368301Z",
     "start_time": "2022-04-29T21:30:44.190242Z"
    }
   },
   "outputs": [
    {
     "data": {
      "text/plain": [
       "15    83738\n",
       "17    65542\n",
       "12    61887\n",
       "13    58251\n",
       "14    47321\n",
       "19    43692\n",
       "18    40055\n",
       "11    36410\n",
       "16    29122\n",
       "2     25486\n",
       "9     25482\n",
       "27    21841\n",
       "20    18208\n",
       "1     18207\n",
       "6     18205\n",
       "24    14565\n",
       "10    10920\n",
       "29    10919\n",
       "21     7281\n",
       "30     7279\n",
       "26     3641\n",
       "82     3641\n",
       "28     3640\n",
       "Name: t_nombre_del_beneficiario_lev_dist, dtype: int64"
      ]
     },
     "execution_count": 242,
     "metadata": {},
     "output_type": "execute_result"
    }
   ],
   "source": [
    "df[\"t_nombre_del_beneficiario_lev_dist\"].map(lambda x:x[1]).value_counts()"
   ]
  },
  {
   "cell_type": "code",
   "execution_count": 254,
   "metadata": {
    "ExecuteTime": {
     "end_time": "2022-04-29T21:46:50.095835Z",
     "start_time": "2022-04-29T21:46:49.986465Z"
    },
    "scrolled": true
   },
   "outputs": [
    {
     "data": {
      "text/plain": [
       "active financial sa de cv                                        18207\n",
       "4 0 industrial cluster ac                                         7285\n",
       "active financial s a de c v                                       7279\n",
       "sociedad latinoamericana de ciencia y tecnologia aplicada ac      3642\n",
       "sociedad latinoamericana de ciencia y tecnologia aplicada a c     3640\n",
       "4 0 industrial cluster a c                                        3640\n",
       "Name: t_nombre_del_beneficiario, dtype: int64"
      ]
     },
     "execution_count": 254,
     "metadata": {},
     "output_type": "execute_result"
    }
   ],
   "source": [
    "df[df[\"t_nombre_del_beneficiario_lev_dist\"].map(lambda x:x[1]<5)][\"t_nombre_del_beneficiario\"].value_counts()"
   ]
  },
  {
   "cell_type": "code",
   "execution_count": 255,
   "metadata": {
    "ExecuteTime": {
     "end_time": "2022-04-29T21:46:53.005224Z",
     "start_time": "2022-04-29T21:46:52.891337Z"
    }
   },
   "outputs": [
    {
     "data": {
      "text/plain": [
       "active financial s a de c v                                      18207\n",
       "4 0 industrial cluster a c                                        7285\n",
       "active financial sa de cv                                         7279\n",
       "sociedad latinoamericana de ciencia y tecnologia aplicada a c     3642\n",
       "sociedad latinoamericana de ciencia y tecnologia aplicada ac      3640\n",
       "4 0 industrial cluster ac                                         3640\n",
       "Name: t_nombre_del_beneficiario_lev_dist, dtype: int64"
      ]
     },
     "execution_count": 255,
     "metadata": {},
     "output_type": "execute_result"
    }
   ],
   "source": [
    "df[df[\"t_nombre_del_beneficiario_lev_dist\"].map(lambda x:x[1]<5)][\"t_nombre_del_beneficiario_lev_dist\"].map(lambda x:x[0]).value_counts()"
   ]
  },
  {
   "cell_type": "code",
   "execution_count": 256,
   "metadata": {
    "ExecuteTime": {
     "end_time": "2022-04-29T21:47:01.398109Z",
     "start_time": "2022-04-29T21:47:01.395090Z"
    }
   },
   "outputs": [],
   "source": [
    "dictio_nombres=dict(zip(['active financial sa de cv', '4 0 industrial cluster ac',\n",
    "       'active financial s a de c v',\n",
    "       'sociedad latinoamericana de ciencia y tecnologia aplicada ac',\n",
    "       'sociedad latinoamericana de ciencia y tecnologia aplicada a c',\n",
    "       '4 0 industrial cluster a c'],['active financial s a de c v', '4 0 industrial cluster a c',\n",
    "       'active financial sa de cv',\n",
    "       'sociedad latinoamericana de ciencia y tecnologia aplicada a c',\n",
    "       'sociedad latinoamericana de ciencia y tecnologia aplicada ac',\n",
    "       '4 0 industrial cluster ac']))"
   ]
  },
  {
   "cell_type": "code",
   "execution_count": 258,
   "metadata": {
    "ExecuteTime": {
     "end_time": "2022-04-29T21:47:15.533860Z",
     "start_time": "2022-04-29T21:47:15.298974Z"
    },
    "id": "Ipgt6XTJHaBA",
    "outputId": "888e5009-10ef-4de0-ec7b-c61b030bc849"
   },
   "outputs": [],
   "source": [
    "df[\"t_nombre_del_beneficiario\"]=df[\"t_nombre_del_beneficiario\"].replace(dictio_nombres)"
   ]
  },
  {
   "cell_type": "code",
   "execution_count": 279,
   "metadata": {
    "ExecuteTime": {
     "end_time": "2022-04-29T21:49:26.723402Z",
     "start_time": "2022-04-29T21:49:26.626424Z"
    }
   },
   "outputs": [],
   "source": [
    "df=df.drop(columns=[\"t_nombre_del_beneficiario_lev_dist\"])"
   ]
  },
  {
   "cell_type": "code",
   "execution_count": null,
   "metadata": {},
   "outputs": [],
   "source": []
  },
  {
   "cell_type": "markdown",
   "metadata": {
    "ExecuteTime": {
     "end_time": "2021-05-13T20:57:49.131610Z",
     "start_time": "2021-05-13T20:57:47.997610Z"
    },
    "id": "oGoZVexoHaBB"
   },
   "source": [
    "##### Limpieza de t_nombre_del_proyecto"
   ]
  },
  {
   "cell_type": "code",
   "execution_count": 180,
   "metadata": {
    "ExecuteTime": {
     "end_time": "2022-04-29T19:14:33.119941Z",
     "start_time": "2022-04-29T19:14:33.112719Z"
    },
    "id": "c4APAwnUHaBB",
    "outputId": "00c37c81-141a-4371-ca48-c6bc173fba27"
   },
   "outputs": [
    {
     "data": {
      "text/plain": [
       "0         MX - SISTEMA MECATRÓNICO PARA EL CONTROL DE IN...\n",
       "1         PCT - SISTEMA MECATRÓNICO PARA EL CONTROL DE I...\n",
       "2         MX-EMPAQUE CÓNICO PARA LA CONEXIÓN \\nDE MANGUE...\n",
       "3              MX-PASTA BIODEGRADABLE PARA USOS MÚLTIPLES\\n\n",
       "4         DISPOSITIVO PERSONAL DE COMUNICACIÓN REMOTA PA...\n",
       "                                ...                        \n",
       "655328    Dispositivo de prototipo de gravedad cero para...\n",
       "655329    Desarrollo tecnológico de un prototipo de bebi...\n",
       "655330    Piloto de filtración tangencial para purificac...\n",
       "655331    Máquina tribológica para medir el desgaste en ...\n",
       "655332    Interfaz USB Aislada para Conexión de Instrume...\n",
       "Name: t_nombre_del_proyecto, Length: 655333, dtype: object"
      ]
     },
     "execution_count": 180,
     "metadata": {},
     "output_type": "execute_result"
    }
   ],
   "source": [
    "df[\"t_nombre_del_proyecto\"]"
   ]
  },
  {
   "cell_type": "code",
   "execution_count": 181,
   "metadata": {
    "ExecuteTime": {
     "end_time": "2022-04-29T19:14:39.759317Z",
     "start_time": "2022-04-29T19:14:35.085739Z"
    },
    "id": "CnI650W5HaBC"
   },
   "outputs": [],
   "source": [
    "df[\"t_nombre_del_proyecto\"]=df[\"t_nombre_del_proyecto\"].map(lambda x:clean_text(x.lower()).strip().replace(\"\\n\",\"\"))"
   ]
  },
  {
   "cell_type": "code",
   "execution_count": 182,
   "metadata": {
    "ExecuteTime": {
     "end_time": "2022-04-29T19:14:39.950590Z",
     "start_time": "2022-04-29T19:14:39.833683Z"
    },
    "id": "cWTOdiKaHaBC",
    "outputId": "27e3a5b1-e93e-4963-8ba9-85fbc5678519"
   },
   "outputs": [
    {
     "data": {
      "text/plain": [
       "modelo industrial de mueble                                                                                                     29121\n",
       "modelo industrial de una base cuadrada para mesa                                                                                18210\n",
       "modelo industrial de una base para mesa                                                                                         14557\n",
       "modelo industrial de una base rectangular para mesa                                                                             10923\n",
       "dispositivo para calibrar los parametros de un generador de senales electronicas                                                 7281\n",
       "                                                                                                                                ...  \n",
       "3er encuentro de investigacion en comportamiento y salud                                                                         3638\n",
       "simposio de cianobacterias y cianotoxinas impacto ambiental implicaciones en salud publica y potencial biofarmaceutico           3638\n",
       "pct sistema de ensamble para muebles y estructuras armables desarmables                                                          3638\n",
       "fortalecimiento del ecosistema de innovacion ciencia y tecnologia a traves de la red epicentro 2018                              3638\n",
       "prototipo de bioestimulante agricola a base de la cianobacteria nostoc sp y su validacion in vivo sobre plantulas de berries     3637\n",
       "Name: t_nombre_del_proyecto, Length: 162, dtype: int64"
      ]
     },
     "execution_count": 182,
     "metadata": {},
     "output_type": "execute_result"
    }
   ],
   "source": [
    "df[\"t_nombre_del_proyecto\"].value_counts()"
   ]
  },
  {
   "cell_type": "markdown",
   "metadata": {
    "ExecuteTime": {
     "end_time": "2021-05-13T20:57:52.721677Z",
     "start_time": "2021-05-13T20:57:52.524389Z"
    },
    "id": "tazBqt9mHaBD"
   },
   "source": [
    "##### Limpieza de t_programa_fondo"
   ]
  },
  {
   "cell_type": "code",
   "execution_count": 259,
   "metadata": {
    "ExecuteTime": {
     "end_time": "2022-04-29T21:47:25.556349Z",
     "start_time": "2022-04-29T21:47:22.251072Z"
    },
    "id": "f1cZStU9HaBD"
   },
   "outputs": [],
   "source": [
    "df[\"t_programa_fondo\"]=df[\"t_programa_fondo\"].map(lambda x:clean_text(x.lower()).strip().replace(\"\\n\",\"\"))"
   ]
  },
  {
   "cell_type": "code",
   "execution_count": 260,
   "metadata": {
    "ExecuteTime": {
     "end_time": "2022-04-29T21:47:25.672887Z",
     "start_time": "2022-04-29T21:47:25.607623Z"
    },
    "id": "5WQ2JmSCHaBE",
    "outputId": "2bee8ab6-a478-4db1-8c5a-d3ee2367e060"
   },
   "outputs": [
    {
     "data": {
      "text/plain": [
       "programa jalisciense de fomento a la propiedad intelectual propin 2018                                                                                                     356813\n",
       "programa para el fomento de recursos humanos de alto nivel becas singularity mexico summit 2018                                                                             69180\n",
       "programa estatal para el desarrollo de la industria del sofware jalisco 2018                                                                                                65526\n",
       "programa de difusion y divulgacion de la ciencia tecnologia e innovacion dyd jalisco 2018                                                                                   61885\n",
       "programa de desarrollo de prototipos 2018                                                                                                                                   58248\n",
       "programa de difusion y divulgacion de la ciencia tecnologia e innovacion para la administracion y otorgamiento de becas para asistir al evento talend land jalisco 2018     18201\n",
       "programa de incorporacion de maestros y doctores en la industria para fomentar la competitividad y la innovacion jalisco 2018                                               10921\n",
       "programa cluster de ciencia tecnologia e innovacion 2018                                                                                                                     3642\n",
       "programa de difusion y divulgacion de impulso a la innovacion en la ninez y juventud jalisco 2018                                                                            3640\n",
       "programa de formacion de desarrollo de competencias para la innovacion tecnologica de maestros y doctores 2018                                                               3639\n",
       "programa de difusion y divulgacion de la innovacion social y tecnologica 2018                                                                                                3638\n",
       "Name: t_programa_fondo, dtype: int64"
      ]
     },
     "execution_count": 260,
     "metadata": {},
     "output_type": "execute_result"
    }
   ],
   "source": [
    "df[\"t_programa_fondo\"].value_counts()"
   ]
  },
  {
   "cell_type": "code",
   "execution_count": 83,
   "metadata": {
    "ExecuteTime": {
     "end_time": "2021-05-13T20:57:55.561515Z",
     "start_time": "2021-05-13T20:57:55.436716Z"
    },
    "id": "hZGhQTluHaBE",
    "outputId": "b25cedfc-b61f-4eb3-b7af-87367cab925a"
   },
   "outputs": [
    {
     "data": {
      "text/html": [
       "<div>\n",
       "<style scoped>\n",
       "    .dataframe tbody tr th:only-of-type {\n",
       "        vertical-align: middle;\n",
       "    }\n",
       "\n",
       "    .dataframe tbody tr th {\n",
       "        vertical-align: top;\n",
       "    }\n",
       "\n",
       "    .dataframe thead th {\n",
       "        text-align: right;\n",
       "    }\n",
       "</style>\n",
       "<table border=\"1\" class=\"dataframe\">\n",
       "  <thead>\n",
       "    <tr style=\"text-align: right;\">\n",
       "      <th></th>\n",
       "      <th>c_edad</th>\n",
       "      <th>c_minutos</th>\n",
       "      <th>c_monto_de_apoyo</th>\n",
       "      <th>c_horas</th>\n",
       "      <th>v_ent_regis</th>\n",
       "      <th>v_mun_regis</th>\n",
       "      <th>v_ent_resid</th>\n",
       "      <th>v_mun_resid</th>\n",
       "      <th>v_ent_ocurr</th>\n",
       "      <th>v_mun_ocurr</th>\n",
       "      <th>v_sexo</th>\n",
       "      <th>v_ocupacion</th>\n",
       "      <th>v_edo_civil</th>\n",
       "      <th>v_lugar_ocur</th>\n",
       "      <th>v_sitio_ocur</th>\n",
       "      <th>v_nacionalid</th>\n",
       "      <th>v_grupo</th>\n",
       "      <th>v_lengua</th>\n",
       "      <th>v_clave</th>\n",
       "      <th>v_escolarida</th>\n",
       "      <th>d_fecha_nac</th>\n",
       "      <th>d_fecha_ocurr</th>\n",
       "      <th>t_programa_fondo</th>\n",
       "      <th>t_nombre_del_proyecto</th>\n",
       "      <th>t_nombre_del_beneficiario</th>\n",
       "      <th>c_salario</th>\n",
       "    </tr>\n",
       "  </thead>\n",
       "  <tbody>\n",
       "    <tr>\n",
       "      <th>0</th>\n",
       "      <td>4069</td>\n",
       "      <td>27</td>\n",
       "      <td>NaN</td>\n",
       "      <td>16</td>\n",
       "      <td>1.0</td>\n",
       "      <td>1</td>\n",
       "      <td>1</td>\n",
       "      <td>1</td>\n",
       "      <td>NaN</td>\n",
       "      <td>1</td>\n",
       "      <td>NaN</td>\n",
       "      <td>11</td>\n",
       "      <td>NaN</td>\n",
       "      <td>88</td>\n",
       "      <td>3</td>\n",
       "      <td>1</td>\n",
       "      <td>7</td>\n",
       "      <td>2.0</td>\n",
       "      <td>6343</td>\n",
       "      <td>1</td>\n",
       "      <td>1946-06-30</td>\n",
       "      <td>2015-05-25</td>\n",
       "      <td>programa jalisciense de fomento a la propiedad...</td>\n",
       "      <td>mx sistema mecatronico para el control de inve...</td>\n",
       "      <td>ricardo mercado cortes</td>\n",
       "      <td>2700</td>\n",
       "    </tr>\n",
       "    <tr>\n",
       "      <th>1</th>\n",
       "      <td>4093</td>\n",
       "      <td>0</td>\n",
       "      <td>31446.48</td>\n",
       "      <td>6</td>\n",
       "      <td>NaN</td>\n",
       "      <td>1</td>\n",
       "      <td>1</td>\n",
       "      <td>1</td>\n",
       "      <td>NaN</td>\n",
       "      <td>1</td>\n",
       "      <td>1</td>\n",
       "      <td>6</td>\n",
       "      <td>NaN</td>\n",
       "      <td>88</td>\n",
       "      <td>11</td>\n",
       "      <td>1</td>\n",
       "      <td>8</td>\n",
       "      <td>NaN</td>\n",
       "      <td>6344</td>\n",
       "      <td>3</td>\n",
       "      <td>1921-08-25</td>\n",
       "      <td>2015-09-26</td>\n",
       "      <td>programa jalisciense de fomento a la propiedad...</td>\n",
       "      <td>pct sistema mecatronico para el control de inv...</td>\n",
       "      <td>ricardo mercado cortes</td>\n",
       "      <td>0</td>\n",
       "    </tr>\n",
       "    <tr>\n",
       "      <th>2</th>\n",
       "      <td>4092</td>\n",
       "      <td>30</td>\n",
       "      <td>65673.63</td>\n",
       "      <td>16</td>\n",
       "      <td>1.0</td>\n",
       "      <td>1</td>\n",
       "      <td>1</td>\n",
       "      <td>1</td>\n",
       "      <td>NaN</td>\n",
       "      <td>1</td>\n",
       "      <td>1</td>\n",
       "      <td>7</td>\n",
       "      <td>NaN</td>\n",
       "      <td>88</td>\n",
       "      <td>11</td>\n",
       "      <td>1</td>\n",
       "      <td>2</td>\n",
       "      <td>NaN</td>\n",
       "      <td>6345</td>\n",
       "      <td>3</td>\n",
       "      <td>1922-06-12</td>\n",
       "      <td>2015-12-14</td>\n",
       "      <td>programa jalisciense de fomento a la propiedad...</td>\n",
       "      <td>mx empaque conico para la conexion de manguera...</td>\n",
       "      <td>corporativo boro s a de c v</td>\n",
       "      <td>3000</td>\n",
       "    </tr>\n",
       "    <tr>\n",
       "      <th>3</th>\n",
       "      <td>4047</td>\n",
       "      <td>58</td>\n",
       "      <td>Sistema Tecnológico de Jalisco, A.C.</td>\n",
       "      <td>3</td>\n",
       "      <td>NaN</td>\n",
       "      <td>1</td>\n",
       "      <td>1</td>\n",
       "      <td>1</td>\n",
       "      <td>NaN</td>\n",
       "      <td>1</td>\n",
       "      <td>Sistema Tecnológico de Jalisco, A.C.</td>\n",
       "      <td>7</td>\n",
       "      <td>NaN</td>\n",
       "      <td>88</td>\n",
       "      <td>9</td>\n",
       "      <td>1</td>\n",
       "      <td>13</td>\n",
       "      <td>1.0</td>\n",
       "      <td>6346</td>\n",
       "      <td>6</td>\n",
       "      <td>1967-08-28</td>\n",
       "      <td>2015-01-03</td>\n",
       "      <td>programa jalisciense de fomento a la propiedad...</td>\n",
       "      <td>mx pasta biodegradable para usos multiples</td>\n",
       "      <td>corporativo boro s a de c v</td>\n",
       "      <td>5800</td>\n",
       "    </tr>\n",
       "    <tr>\n",
       "      <th>4</th>\n",
       "      <td>4040</td>\n",
       "      <td>50</td>\n",
       "      <td>30254.04</td>\n",
       "      <td>6</td>\n",
       "      <td>1.0</td>\n",
       "      <td>1</td>\n",
       "      <td>1</td>\n",
       "      <td>1</td>\n",
       "      <td>NaN</td>\n",
       "      <td>1</td>\n",
       "      <td>2</td>\n",
       "      <td>11</td>\n",
       "      <td>NaN</td>\n",
       "      <td>88</td>\n",
       "      <td>1</td>\n",
       "      <td>1</td>\n",
       "      <td>7</td>\n",
       "      <td>NaN</td>\n",
       "      <td>6364</td>\n",
       "      <td>4</td>\n",
       "      <td>1974-12-17</td>\n",
       "      <td>2015-07-16</td>\n",
       "      <td>programa jalisciense de fomento a la propiedad...</td>\n",
       "      <td>dispositivo personal de comunicacion remota pa...</td>\n",
       "      <td>geraldina vega gamboa</td>\n",
       "      <td>5000</td>\n",
       "    </tr>\n",
       "  </tbody>\n",
       "</table>\n",
       "</div>"
      ],
      "text/plain": [
       "   c_edad  c_minutos                      c_monto_de_apoyo  c_horas  \\\n",
       "0    4069         27                                   NaN       16   \n",
       "1    4093          0                              31446.48        6   \n",
       "2    4092         30                              65673.63       16   \n",
       "3    4047         58  Sistema Tecnológico de Jalisco, A.C.        3   \n",
       "4    4040         50                              30254.04        6   \n",
       "\n",
       "   v_ent_regis  v_mun_regis  v_ent_resid  v_mun_resid  v_ent_ocurr  \\\n",
       "0          1.0            1            1            1          NaN   \n",
       "1          NaN            1            1            1          NaN   \n",
       "2          1.0            1            1            1          NaN   \n",
       "3          NaN            1            1            1          NaN   \n",
       "4          1.0            1            1            1          NaN   \n",
       "\n",
       "   v_mun_ocurr                                v_sexo  v_ocupacion  \\\n",
       "0            1                                   NaN           11   \n",
       "1            1                                     1            6   \n",
       "2            1                                     1            7   \n",
       "3            1  Sistema Tecnológico de Jalisco, A.C.            7   \n",
       "4            1                                     2           11   \n",
       "\n",
       "   v_edo_civil  v_lugar_ocur  v_sitio_ocur  v_nacionalid  v_grupo  v_lengua  \\\n",
       "0          NaN            88             3             1        7       2.0   \n",
       "1          NaN            88            11             1        8       NaN   \n",
       "2          NaN            88            11             1        2       NaN   \n",
       "3          NaN            88             9             1       13       1.0   \n",
       "4          NaN            88             1             1        7       NaN   \n",
       "\n",
       "   v_clave  v_escolarida d_fecha_nac d_fecha_ocurr  \\\n",
       "0     6343             1  1946-06-30    2015-05-25   \n",
       "1     6344             3  1921-08-25    2015-09-26   \n",
       "2     6345             3  1922-06-12    2015-12-14   \n",
       "3     6346             6  1967-08-28    2015-01-03   \n",
       "4     6364             4  1974-12-17    2015-07-16   \n",
       "\n",
       "                                    t_programa_fondo  \\\n",
       "0  programa jalisciense de fomento a la propiedad...   \n",
       "1  programa jalisciense de fomento a la propiedad...   \n",
       "2  programa jalisciense de fomento a la propiedad...   \n",
       "3  programa jalisciense de fomento a la propiedad...   \n",
       "4  programa jalisciense de fomento a la propiedad...   \n",
       "\n",
       "                               t_nombre_del_proyecto  \\\n",
       "0  mx sistema mecatronico para el control de inve...   \n",
       "1  pct sistema mecatronico para el control de inv...   \n",
       "2  mx empaque conico para la conexion de manguera...   \n",
       "3         mx pasta biodegradable para usos multiples   \n",
       "4  dispositivo personal de comunicacion remota pa...   \n",
       "\n",
       "     t_nombre_del_beneficiario  c_salario  \n",
       "0       ricardo mercado cortes       2700  \n",
       "1       ricardo mercado cortes          0  \n",
       "2  corporativo boro s a de c v       3000  \n",
       "3  corporativo boro s a de c v       5800  \n",
       "4        geraldina vega gamboa       5000  "
      ]
     },
     "execution_count": 83,
     "metadata": {},
     "output_type": "execute_result"
    }
   ],
   "source": [
    "df.head()"
   ]
  },
  {
   "cell_type": "code",
   "execution_count": 84,
   "metadata": {
    "ExecuteTime": {
     "end_time": "2021-05-13T20:57:55.645731Z",
     "start_time": "2021-05-13T20:57:55.563436Z"
    },
    "id": "5lQfGHBMHaBF",
    "outputId": "69ee339a-5bbe-4d43-bb61-5cf46c1e9f21"
   },
   "outputs": [
    {
     "data": {
      "text/plain": [
       "(655333, 26)"
      ]
     },
     "execution_count": 84,
     "metadata": {},
     "output_type": "execute_result"
    }
   ],
   "source": [
    "df.shape"
   ]
  },
  {
   "cell_type": "markdown",
   "metadata": {
    "ExecuteTime": {
     "end_time": "2021-05-13T20:57:55.718907Z",
     "start_time": "2021-05-13T20:57:55.650707Z"
    },
    "id": "Ry6S1hvTHaBF"
   },
   "source": [
    "##### Limpieza d_fecha_ocurr"
   ]
  },
  {
   "cell_type": "code",
   "execution_count": 261,
   "metadata": {
    "ExecuteTime": {
     "end_time": "2022-04-29T21:47:26.853920Z",
     "start_time": "2022-04-29T21:47:26.790563Z"
    },
    "id": "HB4j5-hAHaBG",
    "outputId": "5498e990-f65d-4188-f705-f6a2d592585c"
   },
   "outputs": [
    {
     "data": {
      "text/plain": [
       "0        2015-05-25\n",
       "1        2015-09-26\n",
       "2        2015-12-14\n",
       "3        2015-01-03\n",
       "4        2015-07-16\n",
       "            ...    \n",
       "655328   2015-10-28\n",
       "655329   2015-10-02\n",
       "655330   2015-10-06\n",
       "655331   2015-12-08\n",
       "655332   2015-06-04\n",
       "Name: d_fecha_ocurr, Length: 655333, dtype: datetime64[ns]"
      ]
     },
     "execution_count": 261,
     "metadata": {},
     "output_type": "execute_result"
    }
   ],
   "source": [
    "#dayfirst =True\n",
    "#yearfirst=True\n",
    "#format =\n",
    "#Formatos : https://stackabuse.com/how-to-format-dates-in-python/\n",
    "#Formatos : https://rico-schmidt.name/pymotw-3/datetime/\n",
    "pd.to_datetime(df[\"d_fecha_ocurr\"])"
   ]
  },
  {
   "cell_type": "code",
   "execution_count": 262,
   "metadata": {
    "ExecuteTime": {
     "end_time": "2022-04-29T21:47:27.539872Z",
     "start_time": "2022-04-29T21:47:27.534151Z"
    },
    "id": "1Qhj8e_4HaBG",
    "outputId": "92cb5327-f4e4-4553-fb7a-a6db98fa9a29"
   },
   "outputs": [
    {
     "name": "stdout",
     "output_type": "stream",
     "text": [
      "ISO     : 2022-04-29 16:47:27.535309\n",
      "strftime: Fri Apr 29 16:47:27 2022\n",
      "strptime: Fri Apr 29 16:47:27 2022\n"
     ]
    }
   ],
   "source": [
    "#EJEMPLO FORMATOS\n",
    "import datetime\n",
    "#%a - 'Wed'\n",
    "#%b - \"May\" (nombre dle mes abreviado)\n",
    "#%d - '13' (día del mes)\n",
    "\n",
    "format = \"%a %b %d %H:%M:%S %Y\"\n",
    "\n",
    "today = datetime.datetime.today()\n",
    "print('ISO     :', today)\n",
    "\n",
    "s = today.strftime(format)\n",
    "print('strftime:', s)\n",
    "\n",
    "d = datetime.datetime.strptime(s, format)\n",
    "print('strptime:', d.strftime(format))"
   ]
  },
  {
   "cell_type": "code",
   "execution_count": 263,
   "metadata": {
    "ExecuteTime": {
     "end_time": "2022-04-29T21:47:28.723991Z",
     "start_time": "2022-04-29T21:47:28.705392Z"
    },
    "id": "HQsWKO3NHaBH",
    "outputId": "b0d562f5-b8c5-4083-c6d8-9d9aa1837075"
   },
   "outputs": [
    {
     "data": {
      "text/plain": [
       "Timestamp('2015-05-25 13:54:12')"
      ]
     },
     "execution_count": 263,
     "metadata": {},
     "output_type": "execute_result"
    }
   ],
   "source": [
    "pd.to_datetime(\"2015-May-25 13:54:12\",format=\"%Y-%b-%d %H:%M:%S\")"
   ]
  },
  {
   "cell_type": "code",
   "execution_count": 264,
   "metadata": {
    "ExecuteTime": {
     "end_time": "2022-04-29T21:47:29.028179Z",
     "start_time": "2022-04-29T21:47:29.021654Z"
    },
    "id": "zMoz9pjqHaBI",
    "outputId": "933d5d16-1b36-4bd2-ba8f-b51d1326f4c8"
   },
   "outputs": [
    {
     "data": {
      "text/plain": [
       "NaT"
      ]
     },
     "execution_count": 264,
     "metadata": {},
     "output_type": "execute_result"
    }
   ],
   "source": [
    "pd.to_datetime(\"2015-Maay-25 13:54:12\",format=\"%Y-%b-%d %H:%M:%S\",errors=\"coerce\")"
   ]
  },
  {
   "cell_type": "code",
   "execution_count": 265,
   "metadata": {
    "ExecuteTime": {
     "end_time": "2022-04-29T21:47:29.236226Z",
     "start_time": "2022-04-29T21:47:29.232517Z"
    },
    "id": "IwdIu12-HaBI",
    "outputId": "caba5c6a-8df4-4ebf-8ada-db17158493d5"
   },
   "outputs": [
    {
     "data": {
      "text/plain": [
       "'2015-Maay-25 13:54:12'"
      ]
     },
     "execution_count": 265,
     "metadata": {},
     "output_type": "execute_result"
    }
   ],
   "source": [
    "pd.to_datetime(\"2015-Maay-25 13:54:12\",format=\"%Y-%b-%d %H:%M:%S\",errors=\"ignore\")"
   ]
  },
  {
   "cell_type": "code",
   "execution_count": 266,
   "metadata": {
    "ExecuteTime": {
     "end_time": "2022-04-29T21:47:29.448298Z",
     "start_time": "2022-04-29T21:47:29.418712Z"
    }
   },
   "outputs": [
    {
     "data": {
      "text/plain": [
       "2015-09-13    2022\n",
       "2015-08-27    2021\n",
       "2015-02-04    2019\n",
       "2015-07-12    2009\n",
       "2015-04-09    2003\n",
       "              ... \n",
       "2007-02-04       1\n",
       "2007-05-25       1\n",
       "2010-06-11       1\n",
       "2010-10-24       1\n",
       "2005-11-07       1\n",
       "Name: d_fecha_ocurr, Length: 1922, dtype: int64"
      ]
     },
     "execution_count": 266,
     "metadata": {},
     "output_type": "execute_result"
    }
   ],
   "source": [
    "df[\"d_fecha_ocurr\"].value_counts()"
   ]
  },
  {
   "cell_type": "code",
   "execution_count": 267,
   "metadata": {
    "ExecuteTime": {
     "end_time": "2022-04-29T21:47:31.120848Z",
     "start_time": "2022-04-29T21:47:30.953250Z"
    },
    "id": "W6w8F2FxHaBJ"
   },
   "outputs": [],
   "source": [
    "df[\"d_fecha_ocurr\"]=pd.to_datetime(df[\"d_fecha_ocurr\"],format=\"%Y-%m-%d\")"
   ]
  },
  {
   "cell_type": "markdown",
   "metadata": {
    "id": "j0JX8vxHHaBJ"
   },
   "source": [
    "###### OPCION 1"
   ]
  },
  {
   "cell_type": "code",
   "execution_count": 268,
   "metadata": {
    "ExecuteTime": {
     "end_time": "2022-04-29T21:47:34.389963Z",
     "start_time": "2022-04-29T21:47:34.032543Z"
    },
    "id": "sbsL_TBUHaBK",
    "outputId": "a1c6d822-7afa-45e4-8e57-856de27e38bc",
    "scrolled": true
   },
   "outputs": [
    {
     "data": {
      "text/html": [
       "<div>\n",
       "<style scoped>\n",
       "    .dataframe tbody tr th:only-of-type {\n",
       "        vertical-align: middle;\n",
       "    }\n",
       "\n",
       "    .dataframe tbody tr th {\n",
       "        vertical-align: top;\n",
       "    }\n",
       "\n",
       "    .dataframe thead th {\n",
       "        text-align: right;\n",
       "    }\n",
       "</style>\n",
       "<table border=\"1\" class=\"dataframe\">\n",
       "  <thead>\n",
       "    <tr style=\"text-align: right;\">\n",
       "      <th></th>\n",
       "      <th>c_edad</th>\n",
       "      <th>c_minutos</th>\n",
       "      <th>c_monto_de_apoyo</th>\n",
       "      <th>c_horas</th>\n",
       "      <th>v_ent_regis</th>\n",
       "      <th>v_mun_regis</th>\n",
       "      <th>v_ent_resid</th>\n",
       "      <th>v_mun_resid</th>\n",
       "      <th>v_ent_ocurr</th>\n",
       "      <th>v_mun_ocurr</th>\n",
       "      <th>v_sexo</th>\n",
       "      <th>v_ocupacion</th>\n",
       "      <th>v_edo_civil</th>\n",
       "      <th>v_lugar_ocur</th>\n",
       "      <th>v_sitio_ocur</th>\n",
       "      <th>v_nacionalid</th>\n",
       "      <th>v_grupo</th>\n",
       "      <th>v_lengua</th>\n",
       "      <th>v_clave</th>\n",
       "      <th>v_escolarida</th>\n",
       "      <th>d_fecha_nac</th>\n",
       "      <th>d_fecha_ocurr</th>\n",
       "      <th>t_programa_fondo</th>\n",
       "      <th>t_nombre_del_proyecto</th>\n",
       "      <th>t_nombre_del_beneficiario</th>\n",
       "      <th>c_salario</th>\n",
       "      <th>t_nombre_del_beneficiario_lev_dist</th>\n",
       "    </tr>\n",
       "  </thead>\n",
       "  <tbody>\n",
       "    <tr>\n",
       "      <th>345</th>\n",
       "      <td>4061</td>\n",
       "      <td>34</td>\n",
       "      <td>1020000.0</td>\n",
       "      <td>15</td>\n",
       "      <td>1.0</td>\n",
       "      <td>1</td>\n",
       "      <td>1</td>\n",
       "      <td>1</td>\n",
       "      <td>NaN</td>\n",
       "      <td>1</td>\n",
       "      <td>1</td>\n",
       "      <td>11</td>\n",
       "      <td>NaN</td>\n",
       "      <td>88</td>\n",
       "      <td>3</td>\n",
       "      <td>1</td>\n",
       "      <td>4</td>\n",
       "      <td>NaN</td>\n",
       "      <td>6434</td>\n",
       "      <td>3</td>\n",
       "      <td>1953-08-05</td>\n",
       "      <td>2015-05-14</td>\n",
       "      <td>programa estatal para el desarrollo de la indu...</td>\n",
       "      <td>desarrollo e implementacion de un sistema cola...</td>\n",
       "      <td>frg internacional s de r l de c v</td>\n",
       "      <td>3400</td>\n",
       "      <td>[active financial s a de c v, 18]</td>\n",
       "    </tr>\n",
       "    <tr>\n",
       "      <th>468</th>\n",
       "      <td>4090</td>\n",
       "      <td>30</td>\n",
       "      <td>157250.0</td>\n",
       "      <td>20</td>\n",
       "      <td>NaN</td>\n",
       "      <td>1</td>\n",
       "      <td>1</td>\n",
       "      <td>1</td>\n",
       "      <td>NaN</td>\n",
       "      <td>1</td>\n",
       "      <td>2</td>\n",
       "      <td>11</td>\n",
       "      <td>NaN</td>\n",
       "      <td>88</td>\n",
       "      <td>11</td>\n",
       "      <td>1</td>\n",
       "      <td>4</td>\n",
       "      <td>NaN</td>\n",
       "      <td>6731</td>\n",
       "      <td>1</td>\n",
       "      <td>1924-12-13</td>\n",
       "      <td>2015-03-22</td>\n",
       "      <td>programa para el fomento de recursos humanos d...</td>\n",
       "      <td>becas singularity u mexico summit iteso 2018</td>\n",
       "      <td>instituto tecnologico y de estudios superiores...</td>\n",
       "      <td>3000</td>\n",
       "      <td>[instituto tecnologico de estudios superiores ...</td>\n",
       "    </tr>\n",
       "    <tr>\n",
       "      <th>505</th>\n",
       "      <td>4080</td>\n",
       "      <td>0</td>\n",
       "      <td>74000.0</td>\n",
       "      <td>21</td>\n",
       "      <td>1.0</td>\n",
       "      <td>7</td>\n",
       "      <td>1</td>\n",
       "      <td>7</td>\n",
       "      <td>NaN</td>\n",
       "      <td>7</td>\n",
       "      <td>1</td>\n",
       "      <td>6</td>\n",
       "      <td>NaN</td>\n",
       "      <td>88</td>\n",
       "      <td>11</td>\n",
       "      <td>1</td>\n",
       "      <td>2</td>\n",
       "      <td>2.0</td>\n",
       "      <td>6423</td>\n",
       "      <td>3</td>\n",
       "      <td>1934-10-27</td>\n",
       "      <td>2015-12-28</td>\n",
       "      <td>programa de difusion y divulgacion de la cienc...</td>\n",
       "      <td>participacion como expositor en el 41 congreso...</td>\n",
       "      <td>tecnologia y productos biomedicos de occidente...</td>\n",
       "      <td>0</td>\n",
       "      <td>[productos sane de chapala s a de c v, 30]</td>\n",
       "    </tr>\n",
       "    <tr>\n",
       "      <th>520</th>\n",
       "      <td>2001</td>\n",
       "      <td>0</td>\n",
       "      <td>120000.0</td>\n",
       "      <td>2</td>\n",
       "      <td>NaN</td>\n",
       "      <td>8</td>\n",
       "      <td>1</td>\n",
       "      <td>8</td>\n",
       "      <td>NaN</td>\n",
       "      <td>6</td>\n",
       "      <td>2</td>\n",
       "      <td>97</td>\n",
       "      <td>NaN</td>\n",
       "      <td>88</td>\n",
       "      <td>1</td>\n",
       "      <td>1</td>\n",
       "      <td>4</td>\n",
       "      <td>NaN</td>\n",
       "      <td>6790</td>\n",
       "      <td>88</td>\n",
       "      <td>2015-05-05</td>\n",
       "      <td>2015-09-08</td>\n",
       "      <td>programa de incorporacion de maestros y doctor...</td>\n",
       "      <td>incrementar productividad con uso de tecnologi...</td>\n",
       "      <td>omar ricardo fonseca cervantes</td>\n",
       "      <td>0</td>\n",
       "      <td>[ricardo mercado cortes, 16]</td>\n",
       "    </tr>\n",
       "    <tr>\n",
       "      <th>576</th>\n",
       "      <td>4097</td>\n",
       "      <td>0</td>\n",
       "      <td>12254.04</td>\n",
       "      <td>16</td>\n",
       "      <td>NaN</td>\n",
       "      <td>1</td>\n",
       "      <td>1</td>\n",
       "      <td>1</td>\n",
       "      <td>NaN</td>\n",
       "      <td>1</td>\n",
       "      <td>1</td>\n",
       "      <td>9</td>\n",
       "      <td>NaN</td>\n",
       "      <td>88</td>\n",
       "      <td>1</td>\n",
       "      <td>1</td>\n",
       "      <td>3</td>\n",
       "      <td>2.0</td>\n",
       "      <td>6491</td>\n",
       "      <td>3</td>\n",
       "      <td>1917-04-14</td>\n",
       "      <td>2015-02-20</td>\n",
       "      <td>programa jalisciense de fomento a la propiedad...</td>\n",
       "      <td>modelo industrial de una base para mesa</td>\n",
       "      <td>brian alejandro franco ceja</td>\n",
       "      <td>0</td>\n",
       "      <td>[miriam alejandra carlos mancilla, 15]</td>\n",
       "    </tr>\n",
       "    <tr>\n",
       "      <th>...</th>\n",
       "      <td>...</td>\n",
       "      <td>...</td>\n",
       "      <td>...</td>\n",
       "      <td>...</td>\n",
       "      <td>...</td>\n",
       "      <td>...</td>\n",
       "      <td>...</td>\n",
       "      <td>...</td>\n",
       "      <td>...</td>\n",
       "      <td>...</td>\n",
       "      <td>...</td>\n",
       "      <td>...</td>\n",
       "      <td>...</td>\n",
       "      <td>...</td>\n",
       "      <td>...</td>\n",
       "      <td>...</td>\n",
       "      <td>...</td>\n",
       "      <td>...</td>\n",
       "      <td>...</td>\n",
       "      <td>...</td>\n",
       "      <td>...</td>\n",
       "      <td>...</td>\n",
       "      <td>...</td>\n",
       "      <td>...</td>\n",
       "      <td>...</td>\n",
       "      <td>...</td>\n",
       "      <td>...</td>\n",
       "    </tr>\n",
       "    <tr>\n",
       "      <th>655328</th>\n",
       "      <td>4043</td>\n",
       "      <td>20</td>\n",
       "      <td>157140.0</td>\n",
       "      <td>0</td>\n",
       "      <td>32.0</td>\n",
       "      <td>56</td>\n",
       "      <td>32</td>\n",
       "      <td>999</td>\n",
       "      <td>NaN</td>\n",
       "      <td>56</td>\n",
       "      <td>2</td>\n",
       "      <td>11</td>\n",
       "      <td>NaN</td>\n",
       "      <td>88</td>\n",
       "      <td>3</td>\n",
       "      <td>2</td>\n",
       "      <td>8</td>\n",
       "      <td>9.0</td>\n",
       "      <td>6683</td>\n",
       "      <td>4</td>\n",
       "      <td>1972-07-01</td>\n",
       "      <td>2015-10-28</td>\n",
       "      <td>programa de desarrollo de prototipos 2018</td>\n",
       "      <td>dispositivo de prototipo de gravedad cero para...</td>\n",
       "      <td>compania power tools s a de c v</td>\n",
       "      <td>2000</td>\n",
       "      <td>[corporativo boro s a de c v, 14]</td>\n",
       "    </tr>\n",
       "    <tr>\n",
       "      <th>655329</th>\n",
       "      <td>2009</td>\n",
       "      <td>20</td>\n",
       "      <td>410819.0</td>\n",
       "      <td>8</td>\n",
       "      <td>NaN</td>\n",
       "      <td>9</td>\n",
       "      <td>32</td>\n",
       "      <td>9</td>\n",
       "      <td>NaN</td>\n",
       "      <td>9</td>\n",
       "      <td>1</td>\n",
       "      <td>97</td>\n",
       "      <td>NaN</td>\n",
       "      <td>88</td>\n",
       "      <td>11</td>\n",
       "      <td>1</td>\n",
       "      <td>3</td>\n",
       "      <td>NaN</td>\n",
       "      <td>6685</td>\n",
       "      <td>88</td>\n",
       "      <td>2015-09-30</td>\n",
       "      <td>2015-10-02</td>\n",
       "      <td>programa de desarrollo de prototipos 2018</td>\n",
       "      <td>desarrollo tecnologico de un prototipo de bebi...</td>\n",
       "      <td>complejo industrial rm s a de c v</td>\n",
       "      <td>2000</td>\n",
       "      <td>[corporativo boro s a de c v, 16]</td>\n",
       "    </tr>\n",
       "    <tr>\n",
       "      <th>655330</th>\n",
       "      <td>3002</td>\n",
       "      <td>0</td>\n",
       "      <td>500000.0</td>\n",
       "      <td>10</td>\n",
       "      <td>32.0</td>\n",
       "      <td>38</td>\n",
       "      <td>32</td>\n",
       "      <td>38</td>\n",
       "      <td>NaN</td>\n",
       "      <td>38</td>\n",
       "      <td>2</td>\n",
       "      <td>97</td>\n",
       "      <td>NaN</td>\n",
       "      <td>8</td>\n",
       "      <td>11</td>\n",
       "      <td>1</td>\n",
       "      <td>16</td>\n",
       "      <td>NaN</td>\n",
       "      <td>6689</td>\n",
       "      <td>88</td>\n",
       "      <td>2015-10-23</td>\n",
       "      <td>2015-10-06</td>\n",
       "      <td>programa de desarrollo de prototipos 2018</td>\n",
       "      <td>piloto de filtracion tangencial para purificac...</td>\n",
       "      <td>microalgas oleas de mexico s a de c v</td>\n",
       "      <td>0</td>\n",
       "      <td>[oracle de mexico s a de c v, 12]</td>\n",
       "    </tr>\n",
       "    <tr>\n",
       "      <th>655331</th>\n",
       "      <td>4003</td>\n",
       "      <td>10</td>\n",
       "      <td>149000.0</td>\n",
       "      <td>22</td>\n",
       "      <td>NaN</td>\n",
       "      <td>10</td>\n",
       "      <td>32</td>\n",
       "      <td>49</td>\n",
       "      <td>NaN</td>\n",
       "      <td>10</td>\n",
       "      <td>2</td>\n",
       "      <td>97</td>\n",
       "      <td>NaN</td>\n",
       "      <td>88</td>\n",
       "      <td>1</td>\n",
       "      <td>1</td>\n",
       "      <td>9</td>\n",
       "      <td>9.0</td>\n",
       "      <td>6691</td>\n",
       "      <td>99</td>\n",
       "      <td>2012-11-22</td>\n",
       "      <td>2015-12-08</td>\n",
       "      <td>programa de desarrollo de prototipos 2018</td>\n",
       "      <td>maquina tribologica para medir el desgaste en ...</td>\n",
       "      <td>universidad de guadalajara</td>\n",
       "      <td>1000</td>\n",
       "      <td>[universidad tecnologica de jalisco, 17]</td>\n",
       "    </tr>\n",
       "    <tr>\n",
       "      <th>655332</th>\n",
       "      <td>4001</td>\n",
       "      <td>40</td>\n",
       "      <td>150241.0</td>\n",
       "      <td>13</td>\n",
       "      <td>32.0</td>\n",
       "      <td>40</td>\n",
       "      <td>19</td>\n",
       "      <td>6</td>\n",
       "      <td>NaN</td>\n",
       "      <td>7</td>\n",
       "      <td>2</td>\n",
       "      <td>97</td>\n",
       "      <td>NaN</td>\n",
       "      <td>0</td>\n",
       "      <td>10</td>\n",
       "      <td>1</td>\n",
       "      <td>5</td>\n",
       "      <td>NaN</td>\n",
       "      <td>6696</td>\n",
       "      <td>88</td>\n",
       "      <td>2014-10-24</td>\n",
       "      <td>2015-06-04</td>\n",
       "      <td>programa de desarrollo de prototipos 2018</td>\n",
       "      <td>interfaz usb aislada para conexion de instrume...</td>\n",
       "      <td>consire s a de c v</td>\n",
       "      <td>4000</td>\n",
       "      <td>[cclp s a de c v, 6]</td>\n",
       "    </tr>\n",
       "  </tbody>\n",
       "</table>\n",
       "<p>588142 rows × 27 columns</p>\n",
       "</div>"
      ],
      "text/plain": [
       "        c_edad  c_minutos c_monto_de_apoyo  c_horas  v_ent_regis  v_mun_regis  \\\n",
       "345       4061         34        1020000.0       15          1.0            1   \n",
       "468       4090         30         157250.0       20          NaN            1   \n",
       "505       4080          0          74000.0       21          1.0            7   \n",
       "520       2001          0         120000.0        2          NaN            8   \n",
       "576       4097          0         12254.04       16          NaN            1   \n",
       "...        ...        ...              ...      ...          ...          ...   \n",
       "655328    4043         20         157140.0        0         32.0           56   \n",
       "655329    2009         20         410819.0        8          NaN            9   \n",
       "655330    3002          0         500000.0       10         32.0           38   \n",
       "655331    4003         10         149000.0       22          NaN           10   \n",
       "655332    4001         40         150241.0       13         32.0           40   \n",
       "\n",
       "        v_ent_resid  v_mun_resid  v_ent_ocurr  v_mun_ocurr v_sexo  \\\n",
       "345               1            1          NaN            1      1   \n",
       "468               1            1          NaN            1      2   \n",
       "505               1            7          NaN            7      1   \n",
       "520               1            8          NaN            6      2   \n",
       "576               1            1          NaN            1      1   \n",
       "...             ...          ...          ...          ...    ...   \n",
       "655328           32          999          NaN           56      2   \n",
       "655329           32            9          NaN            9      1   \n",
       "655330           32           38          NaN           38      2   \n",
       "655331           32           49          NaN           10      2   \n",
       "655332           19            6          NaN            7      2   \n",
       "\n",
       "        v_ocupacion  v_edo_civil  v_lugar_ocur  v_sitio_ocur  v_nacionalid  \\\n",
       "345              11          NaN            88             3             1   \n",
       "468              11          NaN            88            11             1   \n",
       "505               6          NaN            88            11             1   \n",
       "520              97          NaN            88             1             1   \n",
       "576               9          NaN            88             1             1   \n",
       "...             ...          ...           ...           ...           ...   \n",
       "655328           11          NaN            88             3             2   \n",
       "655329           97          NaN            88            11             1   \n",
       "655330           97          NaN             8            11             1   \n",
       "655331           97          NaN            88             1             1   \n",
       "655332           97          NaN             0            10             1   \n",
       "\n",
       "        v_grupo  v_lengua  v_clave  v_escolarida d_fecha_nac d_fecha_ocurr  \\\n",
       "345           4       NaN     6434             3  1953-08-05    2015-05-14   \n",
       "468           4       NaN     6731             1  1924-12-13    2015-03-22   \n",
       "505           2       2.0     6423             3  1934-10-27    2015-12-28   \n",
       "520           4       NaN     6790            88  2015-05-05    2015-09-08   \n",
       "576           3       2.0     6491             3  1917-04-14    2015-02-20   \n",
       "...         ...       ...      ...           ...         ...           ...   \n",
       "655328        8       9.0     6683             4  1972-07-01    2015-10-28   \n",
       "655329        3       NaN     6685            88  2015-09-30    2015-10-02   \n",
       "655330       16       NaN     6689            88  2015-10-23    2015-10-06   \n",
       "655331        9       9.0     6691            99  2012-11-22    2015-12-08   \n",
       "655332        5       NaN     6696            88  2014-10-24    2015-06-04   \n",
       "\n",
       "                                         t_programa_fondo  \\\n",
       "345     programa estatal para el desarrollo de la indu...   \n",
       "468     programa para el fomento de recursos humanos d...   \n",
       "505     programa de difusion y divulgacion de la cienc...   \n",
       "520     programa de incorporacion de maestros y doctor...   \n",
       "576     programa jalisciense de fomento a la propiedad...   \n",
       "...                                                   ...   \n",
       "655328          programa de desarrollo de prototipos 2018   \n",
       "655329          programa de desarrollo de prototipos 2018   \n",
       "655330          programa de desarrollo de prototipos 2018   \n",
       "655331          programa de desarrollo de prototipos 2018   \n",
       "655332          programa de desarrollo de prototipos 2018   \n",
       "\n",
       "                                    t_nombre_del_proyecto  \\\n",
       "345     desarrollo e implementacion de un sistema cola...   \n",
       "468          becas singularity u mexico summit iteso 2018   \n",
       "505     participacion como expositor en el 41 congreso...   \n",
       "520     incrementar productividad con uso de tecnologi...   \n",
       "576               modelo industrial de una base para mesa   \n",
       "...                                                   ...   \n",
       "655328  dispositivo de prototipo de gravedad cero para...   \n",
       "655329  desarrollo tecnologico de un prototipo de bebi...   \n",
       "655330  piloto de filtracion tangencial para purificac...   \n",
       "655331  maquina tribologica para medir el desgaste en ...   \n",
       "655332  interfaz usb aislada para conexion de instrume...   \n",
       "\n",
       "                                t_nombre_del_beneficiario  c_salario  \\\n",
       "345                     frg internacional s de r l de c v       3400   \n",
       "468     instituto tecnologico y de estudios superiores...       3000   \n",
       "505     tecnologia y productos biomedicos de occidente...          0   \n",
       "520                        omar ricardo fonseca cervantes          0   \n",
       "576                           brian alejandro franco ceja          0   \n",
       "...                                                   ...        ...   \n",
       "655328                    compania power tools s a de c v       2000   \n",
       "655329                  complejo industrial rm s a de c v       2000   \n",
       "655330              microalgas oleas de mexico s a de c v          0   \n",
       "655331                         universidad de guadalajara       1000   \n",
       "655332                                 consire s a de c v       4000   \n",
       "\n",
       "                       t_nombre_del_beneficiario_lev_dist  \n",
       "345                     [active financial s a de c v, 18]  \n",
       "468     [instituto tecnologico de estudios superiores ...  \n",
       "505            [productos sane de chapala s a de c v, 30]  \n",
       "520                          [ricardo mercado cortes, 16]  \n",
       "576                [miriam alejandra carlos mancilla, 15]  \n",
       "...                                                   ...  \n",
       "655328                  [corporativo boro s a de c v, 14]  \n",
       "655329                  [corporativo boro s a de c v, 16]  \n",
       "655330                  [oracle de mexico s a de c v, 12]  \n",
       "655331           [universidad tecnologica de jalisco, 17]  \n",
       "655332                               [cclp s a de c v, 6]  \n",
       "\n",
       "[588142 rows x 27 columns]"
      ]
     },
     "execution_count": 268,
     "metadata": {},
     "output_type": "execute_result"
    }
   ],
   "source": [
    "df[df.duplicated(subset=[\"t_nombre_del_beneficiario\",\"t_nombre_del_proyecto\",\"t_programa_fondo\",\"d_fecha_ocurr\"])]"
   ]
  },
  {
   "cell_type": "code",
   "execution_count": 269,
   "metadata": {
    "ExecuteTime": {
     "end_time": "2022-04-29T21:47:40.389673Z",
     "start_time": "2022-04-29T21:47:40.385335Z"
    }
   },
   "outputs": [
    {
     "data": {
      "text/plain": [
       "(655333, 27)"
      ]
     },
     "execution_count": 269,
     "metadata": {},
     "output_type": "execute_result"
    }
   ],
   "source": [
    "df.shape"
   ]
  },
  {
   "cell_type": "code",
   "execution_count": 94,
   "metadata": {
    "ExecuteTime": {
     "end_time": "2021-05-13T20:58:03.435308Z",
     "start_time": "2021-05-13T20:58:02.990341Z"
    },
    "id": "Q2uJrHdiHaBK",
    "outputId": "01078a81-3da2-498c-a509-86ab17d7fbff",
    "scrolled": true
   },
   "outputs": [
    {
     "data": {
      "text/html": [
       "<div>\n",
       "<style scoped>\n",
       "    .dataframe tbody tr th:only-of-type {\n",
       "        vertical-align: middle;\n",
       "    }\n",
       "\n",
       "    .dataframe tbody tr th {\n",
       "        vertical-align: top;\n",
       "    }\n",
       "\n",
       "    .dataframe thead th {\n",
       "        text-align: right;\n",
       "    }\n",
       "</style>\n",
       "<table border=\"1\" class=\"dataframe\">\n",
       "  <thead>\n",
       "    <tr style=\"text-align: right;\">\n",
       "      <th></th>\n",
       "      <th>c_edad</th>\n",
       "      <th>c_minutos</th>\n",
       "      <th>c_monto_de_apoyo</th>\n",
       "      <th>c_horas</th>\n",
       "      <th>v_ent_regis</th>\n",
       "      <th>v_mun_regis</th>\n",
       "      <th>v_ent_resid</th>\n",
       "      <th>v_mun_resid</th>\n",
       "      <th>v_ent_ocurr</th>\n",
       "      <th>v_mun_ocurr</th>\n",
       "      <th>v_sexo</th>\n",
       "      <th>v_ocupacion</th>\n",
       "      <th>v_edo_civil</th>\n",
       "      <th>v_lugar_ocur</th>\n",
       "      <th>v_sitio_ocur</th>\n",
       "      <th>v_nacionalid</th>\n",
       "      <th>v_grupo</th>\n",
       "      <th>v_lengua</th>\n",
       "      <th>v_clave</th>\n",
       "      <th>v_escolarida</th>\n",
       "      <th>d_fecha_nac</th>\n",
       "      <th>d_fecha_ocurr</th>\n",
       "      <th>t_programa_fondo</th>\n",
       "      <th>t_nombre_del_proyecto</th>\n",
       "      <th>t_nombre_del_beneficiario</th>\n",
       "      <th>c_salario</th>\n",
       "    </tr>\n",
       "  </thead>\n",
       "  <tbody>\n",
       "    <tr>\n",
       "      <th>0</th>\n",
       "      <td>4069</td>\n",
       "      <td>27</td>\n",
       "      <td>NaN</td>\n",
       "      <td>16</td>\n",
       "      <td>1.0</td>\n",
       "      <td>1</td>\n",
       "      <td>1</td>\n",
       "      <td>1</td>\n",
       "      <td>NaN</td>\n",
       "      <td>1</td>\n",
       "      <td>NaN</td>\n",
       "      <td>11</td>\n",
       "      <td>NaN</td>\n",
       "      <td>88</td>\n",
       "      <td>3</td>\n",
       "      <td>1</td>\n",
       "      <td>7</td>\n",
       "      <td>2.0</td>\n",
       "      <td>6343</td>\n",
       "      <td>1</td>\n",
       "      <td>1946-06-30</td>\n",
       "      <td>2015-05-25</td>\n",
       "      <td>programa jalisciense de fomento a la propiedad...</td>\n",
       "      <td>mx sistema mecatronico para el control de inve...</td>\n",
       "      <td>ricardo mercado cortes</td>\n",
       "      <td>2700</td>\n",
       "    </tr>\n",
       "    <tr>\n",
       "      <th>1</th>\n",
       "      <td>4093</td>\n",
       "      <td>0</td>\n",
       "      <td>31446.48</td>\n",
       "      <td>6</td>\n",
       "      <td>NaN</td>\n",
       "      <td>1</td>\n",
       "      <td>1</td>\n",
       "      <td>1</td>\n",
       "      <td>NaN</td>\n",
       "      <td>1</td>\n",
       "      <td>1</td>\n",
       "      <td>6</td>\n",
       "      <td>NaN</td>\n",
       "      <td>88</td>\n",
       "      <td>11</td>\n",
       "      <td>1</td>\n",
       "      <td>8</td>\n",
       "      <td>NaN</td>\n",
       "      <td>6344</td>\n",
       "      <td>3</td>\n",
       "      <td>1921-08-25</td>\n",
       "      <td>2015-09-26</td>\n",
       "      <td>programa jalisciense de fomento a la propiedad...</td>\n",
       "      <td>pct sistema mecatronico para el control de inv...</td>\n",
       "      <td>ricardo mercado cortes</td>\n",
       "      <td>0</td>\n",
       "    </tr>\n",
       "    <tr>\n",
       "      <th>2</th>\n",
       "      <td>4092</td>\n",
       "      <td>30</td>\n",
       "      <td>65673.63</td>\n",
       "      <td>16</td>\n",
       "      <td>1.0</td>\n",
       "      <td>1</td>\n",
       "      <td>1</td>\n",
       "      <td>1</td>\n",
       "      <td>NaN</td>\n",
       "      <td>1</td>\n",
       "      <td>1</td>\n",
       "      <td>7</td>\n",
       "      <td>NaN</td>\n",
       "      <td>88</td>\n",
       "      <td>11</td>\n",
       "      <td>1</td>\n",
       "      <td>2</td>\n",
       "      <td>NaN</td>\n",
       "      <td>6345</td>\n",
       "      <td>3</td>\n",
       "      <td>1922-06-12</td>\n",
       "      <td>2015-12-14</td>\n",
       "      <td>programa jalisciense de fomento a la propiedad...</td>\n",
       "      <td>mx empaque conico para la conexion de manguera...</td>\n",
       "      <td>corporativo boro s a de c v</td>\n",
       "      <td>3000</td>\n",
       "    </tr>\n",
       "    <tr>\n",
       "      <th>3</th>\n",
       "      <td>4047</td>\n",
       "      <td>58</td>\n",
       "      <td>Sistema Tecnológico de Jalisco, A.C.</td>\n",
       "      <td>3</td>\n",
       "      <td>NaN</td>\n",
       "      <td>1</td>\n",
       "      <td>1</td>\n",
       "      <td>1</td>\n",
       "      <td>NaN</td>\n",
       "      <td>1</td>\n",
       "      <td>Sistema Tecnológico de Jalisco, A.C.</td>\n",
       "      <td>7</td>\n",
       "      <td>NaN</td>\n",
       "      <td>88</td>\n",
       "      <td>9</td>\n",
       "      <td>1</td>\n",
       "      <td>13</td>\n",
       "      <td>1.0</td>\n",
       "      <td>6346</td>\n",
       "      <td>6</td>\n",
       "      <td>1967-08-28</td>\n",
       "      <td>2015-01-03</td>\n",
       "      <td>programa jalisciense de fomento a la propiedad...</td>\n",
       "      <td>mx pasta biodegradable para usos multiples</td>\n",
       "      <td>corporativo boro s a de c v</td>\n",
       "      <td>5800</td>\n",
       "    </tr>\n",
       "    <tr>\n",
       "      <th>4</th>\n",
       "      <td>4040</td>\n",
       "      <td>50</td>\n",
       "      <td>30254.04</td>\n",
       "      <td>6</td>\n",
       "      <td>1.0</td>\n",
       "      <td>1</td>\n",
       "      <td>1</td>\n",
       "      <td>1</td>\n",
       "      <td>NaN</td>\n",
       "      <td>1</td>\n",
       "      <td>2</td>\n",
       "      <td>11</td>\n",
       "      <td>NaN</td>\n",
       "      <td>88</td>\n",
       "      <td>1</td>\n",
       "      <td>1</td>\n",
       "      <td>7</td>\n",
       "      <td>NaN</td>\n",
       "      <td>6364</td>\n",
       "      <td>4</td>\n",
       "      <td>1974-12-17</td>\n",
       "      <td>2015-07-16</td>\n",
       "      <td>programa jalisciense de fomento a la propiedad...</td>\n",
       "      <td>dispositivo personal de comunicacion remota pa...</td>\n",
       "      <td>geraldina vega gamboa</td>\n",
       "      <td>5000</td>\n",
       "    </tr>\n",
       "    <tr>\n",
       "      <th>...</th>\n",
       "      <td>...</td>\n",
       "      <td>...</td>\n",
       "      <td>...</td>\n",
       "      <td>...</td>\n",
       "      <td>...</td>\n",
       "      <td>...</td>\n",
       "      <td>...</td>\n",
       "      <td>...</td>\n",
       "      <td>...</td>\n",
       "      <td>...</td>\n",
       "      <td>...</td>\n",
       "      <td>...</td>\n",
       "      <td>...</td>\n",
       "      <td>...</td>\n",
       "      <td>...</td>\n",
       "      <td>...</td>\n",
       "      <td>...</td>\n",
       "      <td>...</td>\n",
       "      <td>...</td>\n",
       "      <td>...</td>\n",
       "      <td>...</td>\n",
       "      <td>...</td>\n",
       "      <td>...</td>\n",
       "      <td>...</td>\n",
       "      <td>...</td>\n",
       "      <td>...</td>\n",
       "    </tr>\n",
       "    <tr>\n",
       "      <th>655275</th>\n",
       "      <td>4049</td>\n",
       "      <td>5</td>\n",
       "      <td>50336.83</td>\n",
       "      <td>14</td>\n",
       "      <td>NaN</td>\n",
       "      <td>23</td>\n",
       "      <td>32</td>\n",
       "      <td>23</td>\n",
       "      <td>NaN</td>\n",
       "      <td>23</td>\n",
       "      <td>1</td>\n",
       "      <td>99</td>\n",
       "      <td>NaN</td>\n",
       "      <td>88</td>\n",
       "      <td>99</td>\n",
       "      <td>1</td>\n",
       "      <td>2</td>\n",
       "      <td>NaN</td>\n",
       "      <td>6540</td>\n",
       "      <td>99</td>\n",
       "      <td>1964-03-29</td>\n",
       "      <td>2013-01-22</td>\n",
       "      <td>programa jalisciense de fomento a la propiedad...</td>\n",
       "      <td>herramental para ensamble de plato y aislador</td>\n",
       "      <td>seerauber automotive de mexico sapi de c v</td>\n",
       "      <td>500</td>\n",
       "    </tr>\n",
       "    <tr>\n",
       "      <th>655277</th>\n",
       "      <td>4998</td>\n",
       "      <td>99</td>\n",
       "      <td>62113.6</td>\n",
       "      <td>99</td>\n",
       "      <td>32.0</td>\n",
       "      <td>38</td>\n",
       "      <td>32</td>\n",
       "      <td>38</td>\n",
       "      <td>NaN</td>\n",
       "      <td>38</td>\n",
       "      <td>1</td>\n",
       "      <td>99</td>\n",
       "      <td>NaN</td>\n",
       "      <td>88</td>\n",
       "      <td>99</td>\n",
       "      <td>1</td>\n",
       "      <td>7</td>\n",
       "      <td>9.0</td>\n",
       "      <td>6542</td>\n",
       "      <td>99</td>\n",
       "      <td>NaN</td>\n",
       "      <td>2005-11-07</td>\n",
       "      <td>programa jalisciense de fomento a la propiedad...</td>\n",
       "      <td>pct herramental para ensamble de plato y aislador</td>\n",
       "      <td>seerauber automotive de mexico sapi de c v</td>\n",
       "      <td>9900</td>\n",
       "    </tr>\n",
       "    <tr>\n",
       "      <th>655284</th>\n",
       "      <td>4089</td>\n",
       "      <td>99</td>\n",
       "      <td>58700.35</td>\n",
       "      <td>99</td>\n",
       "      <td>32.0</td>\n",
       "      <td>49</td>\n",
       "      <td>32</td>\n",
       "      <td>49</td>\n",
       "      <td>NaN</td>\n",
       "      <td>49</td>\n",
       "      <td>2</td>\n",
       "      <td>99</td>\n",
       "      <td>NaN</td>\n",
       "      <td>88</td>\n",
       "      <td>3</td>\n",
       "      <td>1</td>\n",
       "      <td>8</td>\n",
       "      <td>NaN</td>\n",
       "      <td>6554</td>\n",
       "      <td>99</td>\n",
       "      <td>1925-09-05</td>\n",
       "      <td>2014-01-11</td>\n",
       "      <td>programa jalisciense de fomento a la propiedad...</td>\n",
       "      <td>ejercitador reactivo abdominal</td>\n",
       "      <td>active financial sa de cv</td>\n",
       "      <td>9900</td>\n",
       "    </tr>\n",
       "    <tr>\n",
       "      <th>655285</th>\n",
       "      <td>4998</td>\n",
       "      <td>99</td>\n",
       "      <td>58700.35</td>\n",
       "      <td>99</td>\n",
       "      <td>32.0</td>\n",
       "      <td>49</td>\n",
       "      <td>32</td>\n",
       "      <td>49</td>\n",
       "      <td>NaN</td>\n",
       "      <td>49</td>\n",
       "      <td>2</td>\n",
       "      <td>99</td>\n",
       "      <td>NaN</td>\n",
       "      <td>88</td>\n",
       "      <td>99</td>\n",
       "      <td>1</td>\n",
       "      <td>8</td>\n",
       "      <td>9.0</td>\n",
       "      <td>6555</td>\n",
       "      <td>99</td>\n",
       "      <td>NaN</td>\n",
       "      <td>2008-03-22</td>\n",
       "      <td>programa jalisciense de fomento a la propiedad...</td>\n",
       "      <td>proceso de fabricacion de tanques hermeticos p...</td>\n",
       "      <td>active financial sa de cv</td>\n",
       "      <td>9900</td>\n",
       "    </tr>\n",
       "    <tr>\n",
       "      <th>655289</th>\n",
       "      <td>4078</td>\n",
       "      <td>99</td>\n",
       "      <td>49381.31</td>\n",
       "      <td>99</td>\n",
       "      <td>32.0</td>\n",
       "      <td>56</td>\n",
       "      <td>32</td>\n",
       "      <td>56</td>\n",
       "      <td>NaN</td>\n",
       "      <td>56</td>\n",
       "      <td>2</td>\n",
       "      <td>99</td>\n",
       "      <td>NaN</td>\n",
       "      <td>88</td>\n",
       "      <td>99</td>\n",
       "      <td>1</td>\n",
       "      <td>2</td>\n",
       "      <td>NaN</td>\n",
       "      <td>6564</td>\n",
       "      <td>99</td>\n",
       "      <td>1935-12-28</td>\n",
       "      <td>2014-09-21</td>\n",
       "      <td>programa jalisciense de fomento a la propiedad...</td>\n",
       "      <td>equipo para motorizacion de sillas de ruedas c...</td>\n",
       "      <td>erick eduardo guzman quezada</td>\n",
       "      <td>9900</td>\n",
       "    </tr>\n",
       "  </tbody>\n",
       "</table>\n",
       "<p>67191 rows × 26 columns</p>\n",
       "</div>"
      ],
      "text/plain": [
       "        c_edad  c_minutos                      c_monto_de_apoyo  c_horas  \\\n",
       "0         4069         27                                   NaN       16   \n",
       "1         4093          0                              31446.48        6   \n",
       "2         4092         30                              65673.63       16   \n",
       "3         4047         58  Sistema Tecnológico de Jalisco, A.C.        3   \n",
       "4         4040         50                              30254.04        6   \n",
       "...        ...        ...                                   ...      ...   \n",
       "655275    4049          5                              50336.83       14   \n",
       "655277    4998         99                               62113.6       99   \n",
       "655284    4089         99                              58700.35       99   \n",
       "655285    4998         99                              58700.35       99   \n",
       "655289    4078         99                              49381.31       99   \n",
       "\n",
       "        v_ent_regis  v_mun_regis  v_ent_resid  v_mun_resid  v_ent_ocurr  \\\n",
       "0               1.0            1            1            1          NaN   \n",
       "1               NaN            1            1            1          NaN   \n",
       "2               1.0            1            1            1          NaN   \n",
       "3               NaN            1            1            1          NaN   \n",
       "4               1.0            1            1            1          NaN   \n",
       "...             ...          ...          ...          ...          ...   \n",
       "655275          NaN           23           32           23          NaN   \n",
       "655277         32.0           38           32           38          NaN   \n",
       "655284         32.0           49           32           49          NaN   \n",
       "655285         32.0           49           32           49          NaN   \n",
       "655289         32.0           56           32           56          NaN   \n",
       "\n",
       "        v_mun_ocurr                                v_sexo  v_ocupacion  \\\n",
       "0                 1                                   NaN           11   \n",
       "1                 1                                     1            6   \n",
       "2                 1                                     1            7   \n",
       "3                 1  Sistema Tecnológico de Jalisco, A.C.            7   \n",
       "4                 1                                     2           11   \n",
       "...             ...                                   ...          ...   \n",
       "655275           23                                     1           99   \n",
       "655277           38                                     1           99   \n",
       "655284           49                                     2           99   \n",
       "655285           49                                     2           99   \n",
       "655289           56                                     2           99   \n",
       "\n",
       "        v_edo_civil  v_lugar_ocur  v_sitio_ocur  v_nacionalid  v_grupo  \\\n",
       "0               NaN            88             3             1        7   \n",
       "1               NaN            88            11             1        8   \n",
       "2               NaN            88            11             1        2   \n",
       "3               NaN            88             9             1       13   \n",
       "4               NaN            88             1             1        7   \n",
       "...             ...           ...           ...           ...      ...   \n",
       "655275          NaN            88            99             1        2   \n",
       "655277          NaN            88            99             1        7   \n",
       "655284          NaN            88             3             1        8   \n",
       "655285          NaN            88            99             1        8   \n",
       "655289          NaN            88            99             1        2   \n",
       "\n",
       "        v_lengua  v_clave  v_escolarida d_fecha_nac d_fecha_ocurr  \\\n",
       "0            2.0     6343             1  1946-06-30    2015-05-25   \n",
       "1            NaN     6344             3  1921-08-25    2015-09-26   \n",
       "2            NaN     6345             3  1922-06-12    2015-12-14   \n",
       "3            1.0     6346             6  1967-08-28    2015-01-03   \n",
       "4            NaN     6364             4  1974-12-17    2015-07-16   \n",
       "...          ...      ...           ...         ...           ...   \n",
       "655275       NaN     6540            99  1964-03-29    2013-01-22   \n",
       "655277       9.0     6542            99         NaN    2005-11-07   \n",
       "655284       NaN     6554            99  1925-09-05    2014-01-11   \n",
       "655285       9.0     6555            99         NaN    2008-03-22   \n",
       "655289       NaN     6564            99  1935-12-28    2014-09-21   \n",
       "\n",
       "                                         t_programa_fondo  \\\n",
       "0       programa jalisciense de fomento a la propiedad...   \n",
       "1       programa jalisciense de fomento a la propiedad...   \n",
       "2       programa jalisciense de fomento a la propiedad...   \n",
       "3       programa jalisciense de fomento a la propiedad...   \n",
       "4       programa jalisciense de fomento a la propiedad...   \n",
       "...                                                   ...   \n",
       "655275  programa jalisciense de fomento a la propiedad...   \n",
       "655277  programa jalisciense de fomento a la propiedad...   \n",
       "655284  programa jalisciense de fomento a la propiedad...   \n",
       "655285  programa jalisciense de fomento a la propiedad...   \n",
       "655289  programa jalisciense de fomento a la propiedad...   \n",
       "\n",
       "                                    t_nombre_del_proyecto  \\\n",
       "0       mx sistema mecatronico para el control de inve...   \n",
       "1       pct sistema mecatronico para el control de inv...   \n",
       "2       mx empaque conico para la conexion de manguera...   \n",
       "3              mx pasta biodegradable para usos multiples   \n",
       "4       dispositivo personal de comunicacion remota pa...   \n",
       "...                                                   ...   \n",
       "655275      herramental para ensamble de plato y aislador   \n",
       "655277  pct herramental para ensamble de plato y aislador   \n",
       "655284                     ejercitador reactivo abdominal   \n",
       "655285  proceso de fabricacion de tanques hermeticos p...   \n",
       "655289  equipo para motorizacion de sillas de ruedas c...   \n",
       "\n",
       "                         t_nombre_del_beneficiario  c_salario  \n",
       "0                           ricardo mercado cortes       2700  \n",
       "1                           ricardo mercado cortes          0  \n",
       "2                      corporativo boro s a de c v       3000  \n",
       "3                      corporativo boro s a de c v       5800  \n",
       "4                            geraldina vega gamboa       5000  \n",
       "...                                            ...        ...  \n",
       "655275  seerauber automotive de mexico sapi de c v        500  \n",
       "655277  seerauber automotive de mexico sapi de c v       9900  \n",
       "655284                   active financial sa de cv       9900  \n",
       "655285                   active financial sa de cv       9900  \n",
       "655289                erick eduardo guzman quezada       9900  \n",
       "\n",
       "[67191 rows x 26 columns]"
      ]
     },
     "execution_count": 94,
     "metadata": {},
     "output_type": "execute_result"
    }
   ],
   "source": [
    "df.drop_duplicates(subset=[\"t_nombre_del_beneficiario\",\"t_nombre_del_proyecto\",\"t_programa_fondo\",\"d_fecha_ocurr\"],keep=\"first\")\n",
    "#Con el parámetros keep: se puede indicar con que registro de los duplicados nos quedaremos, puede ser el primero o el último\n",
    "#Otra opción puede ser quedarnos al el registro que tenga menos valores ausentes en el resto de variables"
   ]
  },
  {
   "cell_type": "markdown",
   "metadata": {
    "id": "oh891ms7HaBL"
   },
   "source": [
    "###### OPCION 2"
   ]
  },
  {
   "cell_type": "code",
   "execution_count": 270,
   "metadata": {
    "ExecuteTime": {
     "end_time": "2022-04-29T21:48:06.523646Z",
     "start_time": "2022-04-29T21:48:06.520129Z"
    },
    "id": "3xz5V-c4HaBL",
    "outputId": "13be765e-787c-497b-e45a-57c05a8c4831"
   },
   "outputs": [],
   "source": [
    "#EJEMPLO IDXMAX\n",
    "ejemplo = pd.DataFrame({'consumption': [10.51, 103.11, 55.48],\n",
    "                   'co2_emissions': [37.2, 19.66, 1712]},\n",
    "                   index=['Pork', 'Wheat Products', 'Beef'])"
   ]
  },
  {
   "cell_type": "code",
   "execution_count": 271,
   "metadata": {
    "ExecuteTime": {
     "end_time": "2022-04-29T21:48:06.838243Z",
     "start_time": "2022-04-29T21:48:06.832707Z"
    },
    "id": "AaFkKYBJHaBM",
    "outputId": "bb79a99d-0808-4ba6-97b3-d49de771c434"
   },
   "outputs": [
    {
     "data": {
      "text/html": [
       "<div>\n",
       "<style scoped>\n",
       "    .dataframe tbody tr th:only-of-type {\n",
       "        vertical-align: middle;\n",
       "    }\n",
       "\n",
       "    .dataframe tbody tr th {\n",
       "        vertical-align: top;\n",
       "    }\n",
       "\n",
       "    .dataframe thead th {\n",
       "        text-align: right;\n",
       "    }\n",
       "</style>\n",
       "<table border=\"1\" class=\"dataframe\">\n",
       "  <thead>\n",
       "    <tr style=\"text-align: right;\">\n",
       "      <th></th>\n",
       "      <th>consumption</th>\n",
       "      <th>co2_emissions</th>\n",
       "    </tr>\n",
       "  </thead>\n",
       "  <tbody>\n",
       "    <tr>\n",
       "      <th>Pork</th>\n",
       "      <td>10.51</td>\n",
       "      <td>37.20</td>\n",
       "    </tr>\n",
       "    <tr>\n",
       "      <th>Wheat Products</th>\n",
       "      <td>103.11</td>\n",
       "      <td>19.66</td>\n",
       "    </tr>\n",
       "    <tr>\n",
       "      <th>Beef</th>\n",
       "      <td>55.48</td>\n",
       "      <td>1712.00</td>\n",
       "    </tr>\n",
       "  </tbody>\n",
       "</table>\n",
       "</div>"
      ],
      "text/plain": [
       "                consumption  co2_emissions\n",
       "Pork                  10.51          37.20\n",
       "Wheat Products       103.11          19.66\n",
       "Beef                  55.48        1712.00"
      ]
     },
     "execution_count": 271,
     "metadata": {},
     "output_type": "execute_result"
    }
   ],
   "source": [
    "ejemplo"
   ]
  },
  {
   "cell_type": "code",
   "execution_count": 272,
   "metadata": {
    "ExecuteTime": {
     "end_time": "2022-04-29T21:48:08.422267Z",
     "start_time": "2022-04-29T21:48:08.405349Z"
    }
   },
   "outputs": [
    {
     "data": {
      "text/plain": [
       "array(['Wheat Products', 'Beef'], dtype=object)"
      ]
     },
     "execution_count": 272,
     "metadata": {},
     "output_type": "execute_result"
    }
   ],
   "source": [
    "#idxmax te proporciona los indices de los registros que tienen el valor máximo de cada variable\n",
    "ejemplo.idxmax().values"
   ]
  },
  {
   "cell_type": "code",
   "execution_count": 273,
   "metadata": {
    "ExecuteTime": {
     "end_time": "2022-04-29T21:48:08.697224Z",
     "start_time": "2022-04-29T21:48:08.693043Z"
    },
    "id": "bp6X83kQHaBM",
    "outputId": "fb58b949-2551-44ab-cdfe-925f9ef30eb6"
   },
   "outputs": [
    {
     "data": {
      "text/plain": [
       "(655333, 27)"
      ]
     },
     "execution_count": 273,
     "metadata": {},
     "output_type": "execute_result"
    }
   ],
   "source": [
    "df.shape"
   ]
  },
  {
   "cell_type": "code",
   "execution_count": 274,
   "metadata": {
    "ExecuteTime": {
     "end_time": "2022-04-29T21:48:09.122215Z",
     "start_time": "2022-04-29T21:48:08.883711Z"
    },
    "id": "wnEgENvTHaBM",
    "outputId": "375c99c4-863c-4ce1-ba48-c3b16c4f2663"
   },
   "outputs": [
    {
     "data": {
      "text/plain": [
       "0         23\n",
       "1         23\n",
       "2         24\n",
       "3         24\n",
       "4         24\n",
       "          ..\n",
       "655328    25\n",
       "655329    23\n",
       "655330    24\n",
       "655331    24\n",
       "655332    24\n",
       "Length: 655333, dtype: int64"
      ]
     },
     "execution_count": 274,
     "metadata": {},
     "output_type": "execute_result"
    }
   ],
   "source": [
    "df.notnull().sum(1)"
   ]
  },
  {
   "cell_type": "code",
   "execution_count": 275,
   "metadata": {
    "ExecuteTime": {
     "end_time": "2022-04-29T21:48:09.181993Z",
     "start_time": "2022-04-29T21:48:09.177748Z"
    }
   },
   "outputs": [
    {
     "data": {
      "text/plain": [
       "(655333, 27)"
      ]
     },
     "execution_count": 275,
     "metadata": {},
     "output_type": "execute_result"
    }
   ],
   "source": [
    "df.shape"
   ]
  },
  {
   "cell_type": "code",
   "execution_count": 276,
   "metadata": {
    "ExecuteTime": {
     "end_time": "2022-04-29T21:48:09.258128Z",
     "start_time": "2022-04-29T21:48:09.255714Z"
    }
   },
   "outputs": [],
   "source": [
    "df.reset_index(drop=True,inplace=True)"
   ]
  },
  {
   "cell_type": "code",
   "execution_count": 277,
   "metadata": {
    "ExecuteTime": {
     "end_time": "2022-04-29T21:48:09.613512Z",
     "start_time": "2022-04-29T21:48:09.414886Z"
    }
   },
   "outputs": [
    {
     "data": {
      "text/plain": [
       "0         23\n",
       "1         23\n",
       "2         24\n",
       "3         24\n",
       "4         24\n",
       "          ..\n",
       "655328    25\n",
       "655329    23\n",
       "655330    24\n",
       "655331    24\n",
       "655332    24\n",
       "Length: 655333, dtype: int64"
      ]
     },
     "execution_count": 277,
     "metadata": {},
     "output_type": "execute_result"
    }
   ],
   "source": [
    "df.notnull().sum(1)"
   ]
  },
  {
   "cell_type": "code",
   "execution_count": 606,
   "metadata": {
    "scrolled": true
   },
   "outputs": [
    {
     "data": {
      "text/plain": [
       "t_nombre_del_beneficiario   t_nombre_del_proyecto                                                                                                                                                                                                                                t_programa_fondo                                                              d_fecha_ocurr\n",
       "4 0 industrial cluster a c  fortalecimiento de capacidades empresariales para la transicion hacia la industria 4 0 en jalisco                                                                                                                                                    programa estatal para el desarrollo de la industria del sofware jalisco 2018  2006-12-10       524976\n",
       "                                                                                                                                                                                                                                                                                                                                                               2008-02-08       341690\n",
       "                                                                                                                                                                                                                                                                                                                                                               2009-11-18       370292\n",
       "                                                                                                                                                                                                                                                                                                                                                               2012-05-27       267720\n",
       "                                                                                                                                                                                                                                                                                                                                                               2012-06-15       471224\n",
       "                                                                                                                                                                                                                                                                                                                                                                                 ...  \n",
       "unosquare s a de c v        creacion de un centro de desarrollo de aplicaciones de bio informatica para registro analisis interpretacion y almacenamiento de datos de pruebas genomicas el proyecto incluye capacitacion equipamiento habilitacion de espacios y licenciamiento  programa estatal para el desarrollo de la industria del sofware jalisco 2018  2015-12-24       571904\n",
       "                                                                                                                                                                                                                                                                                                                                                               2015-12-25        78614\n",
       "                                                                                                                                                                                                                                                                                                                                                               2015-12-26        92827\n",
       "                                                                                                                                                                                                                                                                                                                                                               2015-12-27       410203\n",
       "                                                                                                                                                                                                                                                                                                                                                               2015-12-28        43704\n",
       "Length: 67094, dtype: int64"
      ]
     },
     "execution_count": 606,
     "metadata": {},
     "output_type": "execute_result"
    }
   ],
   "source": [
    "df.notnull().sum(1).groupby([df[\"t_nombre_del_beneficiario\"],df[\"t_nombre_del_proyecto\"],df[\"t_programa_fondo\"],df[\"d_fecha_ocurr\"]]).idxmax()"
   ]
  },
  {
   "cell_type": "code",
   "execution_count": 103,
   "metadata": {
    "ExecuteTime": {
     "end_time": "2021-05-13T20:58:12.765497Z",
     "start_time": "2021-05-13T20:58:05.910659Z"
    },
    "id": "4TZ_D5CmHaBN",
    "outputId": "d7ba1549-ac65-4f7a-d6d1-6add7b677b96",
    "scrolled": true
   },
   "outputs": [
    {
     "data": {
      "text/plain": [
       "[524976,\n",
       " 341690,\n",
       " 370292,\n",
       " 267720,\n",
       " 471224,\n",
       " 14392,\n",
       " 380531,\n",
       " 504148,\n",
       " 571909,\n",
       " 35443,\n",
       " 140707,\n",
       " 650005,\n",
       " 561310,\n",
       " 201497,\n",
       " 230280,\n",
       " 44967,\n",
       " 521415,\n",
       " 177576,\n",
       " 266280,\n",
       " 395629,\n",
       " 442784,\n",
       " 425328,\n",
       " 457904,\n",
       " 512065,\n",
       " 622115,\n",
       " 363828,\n",
       " 99667,\n",
       " 4132,\n",
       " 35803,\n",
       " 515478,\n",
       " 3774,\n",
       " 360050,\n",
       " 225966,\n",
       " 587746,\n",
       " 359870,\n",
       " 618696,\n",
       " 19612,\n",
       " 44247,\n",
       " 218770,\n",
       " 223090,\n",
       " 221470,\n",
       " 221290,\n",
       " 4852,\n",
       " 219670,\n",
       " 128287,\n",
       " 482383,\n",
       " 367787,\n",
       " 552491,\n",
       " 229740,\n",
       " 44427,\n",
       " 343490,\n",
       " 443684,\n",
       " 380352,\n",
       " 558070,\n",
       " 400848,\n",
       " 503068,\n",
       " 129907,\n",
       " 228661,\n",
       " 284096,\n",
       " 44607,\n",
       " 234060,\n",
       " 232440,\n",
       " 451964,\n",
       " 172025,\n",
       " 211757,\n",
       " 439906,\n",
       " 399948,\n",
       " 147367,\n",
       " 515118,\n",
       " 415068,\n",
       " 241260,\n",
       " 149527,\n",
       " 317571,\n",
       " 563649,\n",
       " 79339,\n",
       " 89772,\n",
       " 399228,\n",
       " 442065,\n",
       " 247020,\n",
       " 197717,\n",
       " 208157,\n",
       " 225249,\n",
       " 320811,\n",
       " 221830,\n",
       " 309473,\n",
       " 168427,\n",
       " 276356,\n",
       " 447104,\n",
       " 564369,\n",
       " 73943,\n",
       " 417228,\n",
       " 545292,\n",
       " 55405,\n",
       " 45505,\n",
       " 79879,\n",
       " 53065,\n",
       " 502708,\n",
       " 300293,\n",
       " 480763,\n",
       " 435768,\n",
       " 114247,\n",
       " 18532,\n",
       " 346910,\n",
       " 176869,\n",
       " 290574,\n",
       " 12232,\n",
       " 537552,\n",
       " 193397,\n",
       " 372621,\n",
       " 127387,\n",
       " 314331,\n",
       " 102367,\n",
       " 576046,\n",
       " 346370,\n",
       " 100747,\n",
       " 131347,\n",
       " 376574,\n",
       " 201317,\n",
       " 419568,\n",
       " 492276,\n",
       " 517278,\n",
       " 302273,\n",
       " 213015,\n",
       " 336290,\n",
       " 243060,\n",
       " 499828,\n",
       " 243600,\n",
       " 210137,\n",
       " 40483,\n",
       " 28612,\n",
       " 62065,\n",
       " 309113,\n",
       " 502528,\n",
       " 136027,\n",
       " 481843,\n",
       " 310373,\n",
       " 354470,\n",
       " 304793,\n",
       " 572089,\n",
       " 59905,\n",
       " 42996,\n",
       " 353210,\n",
       " 405708,\n",
       " 80419,\n",
       " 114067,\n",
       " 143227,\n",
       " 82753,\n",
       " 119827,\n",
       " 63504,\n",
       " 155107,\n",
       " 161227,\n",
       " 444764,\n",
       " 94812,\n",
       " 67104,\n",
       " 181157,\n",
       " 64944,\n",
       " 221110,\n",
       " 125767,\n",
       " 84553,\n",
       " 154747,\n",
       " 42816,\n",
       " 3234,\n",
       " 97869,\n",
       " 66204,\n",
       " 59365,\n",
       " 8812,\n",
       " 305513,\n",
       " 90132,\n",
       " 442964,\n",
       " 48205,\n",
       " 96969,\n",
       " 147007,\n",
       " 252600,\n",
       " 194297,\n",
       " 307853,\n",
       " 218950,\n",
       " 296513,\n",
       " 430008,\n",
       " 135847,\n",
       " 78619,\n",
       " 122707,\n",
       " 23392,\n",
       " 551952,\n",
       " 51805,\n",
       " 542772,\n",
       " 137827,\n",
       " 31492,\n",
       " 288054,\n",
       " 15112,\n",
       " 118567,\n",
       " 174725,\n",
       " 426948,\n",
       " 142327,\n",
       " 7732,\n",
       " 288954,\n",
       " 70884,\n",
       " 214271,\n",
       " 530712,\n",
       " 56305,\n",
       " 199877,\n",
       " 447644,\n",
       " 568324,\n",
       " 154207,\n",
       " 431448,\n",
       " 208337,\n",
       " 132247,\n",
       " 168607,\n",
       " 25192,\n",
       " 61705,\n",
       " 519438,\n",
       " 13672,\n",
       " 286794,\n",
       " 145567,\n",
       " 266100,\n",
       " 308393,\n",
       " 29872,\n",
       " 271138,\n",
       " 142507,\n",
       " 30772,\n",
       " 196637,\n",
       " 593137,\n",
       " 468884,\n",
       " 56845,\n",
       " 95712,\n",
       " 542412,\n",
       " 365088,\n",
       " 388451,\n",
       " 126667,\n",
       " 340250,\n",
       " 222550,\n",
       " 543312,\n",
       " 122167,\n",
       " 171307,\n",
       " 43529,\n",
       " 132427,\n",
       " 539352,\n",
       " 285534,\n",
       " 339710,\n",
       " 26812,\n",
       " 269338,\n",
       " 157627,\n",
       " 404268,\n",
       " 267900,\n",
       " 402468,\n",
       " 650725,\n",
       " 64044,\n",
       " 184217,\n",
       " 88333,\n",
       " 200957,\n",
       " 16552,\n",
       " 285174,\n",
       " 44787,\n",
       " 101107,\n",
       " 246120,\n",
       " 32752,\n",
       " 224530,\n",
       " 137647,\n",
       " 126127,\n",
       " 281036,\n",
       " 210497,\n",
       " 224170,\n",
       " 100027,\n",
       " 39223,\n",
       " 125047,\n",
       " 85633,\n",
       " 69084,\n",
       " 12592,\n",
       " 211217,\n",
       " 344930,\n",
       " 269878,\n",
       " 138367,\n",
       " 377114,\n",
       " 123967,\n",
       " 51085,\n",
       " 281756,\n",
       " 265740,\n",
       " 10432,\n",
       " 83833,\n",
       " 36163,\n",
       " 79519,\n",
       " 170047,\n",
       " 467444,\n",
       " 60085,\n",
       " 256020,\n",
       " 182957,\n",
       " 111187,\n",
       " 49285,\n",
       " 384311,\n",
       " 438827,\n",
       " 65844,\n",
       " 228123,\n",
       " 389531,\n",
       " 54145,\n",
       " 105427,\n",
       " 267000,\n",
       " 108667,\n",
       " 342410,\n",
       " 199337,\n",
       " 386471,\n",
       " 580726,\n",
       " 22312,\n",
       " 307673,\n",
       " 53245,\n",
       " 11512,\n",
       " 71064,\n",
       " 45865,\n",
       " 227763,\n",
       " 315411,\n",
       " 469244,\n",
       " 68364,\n",
       " 118387,\n",
       " 335930,\n",
       " 238560,\n",
       " 40303,\n",
       " 84373,\n",
       " 204737,\n",
       " 89412,\n",
       " 297233,\n",
       " 124867,\n",
       " 532152,\n",
       " 9352,\n",
       " 65304,\n",
       " 307313,\n",
       " 27352,\n",
       " 157087,\n",
       " 270778,\n",
       " 22132,\n",
       " 115147,\n",
       " 116047,\n",
       " 188717,\n",
       " 97329,\n",
       " 84193,\n",
       " 138007,\n",
       " 5212,\n",
       " 114787,\n",
       " 432708,\n",
       " 589366,\n",
       " 523749,\n",
       " 7912,\n",
       " 25012,\n",
       " 121087,\n",
       " 57745,\n",
       " 117667,\n",
       " 140887,\n",
       " 77180,\n",
       " 161047,\n",
       " 66024,\n",
       " 163927,\n",
       " 37423,\n",
       " 270598,\n",
       " 8992,\n",
       " 391331,\n",
       " 111727,\n",
       " 87973,\n",
       " 420108,\n",
       " 81673,\n",
       " 459884,\n",
       " 257460,\n",
       " 36703,\n",
       " 155827,\n",
       " 648925,\n",
       " 622653,\n",
       " 186017,\n",
       " 102007,\n",
       " 391511,\n",
       " 20512,\n",
       " 296693,\n",
       " 146467,\n",
       " 91932,\n",
       " 50725,\n",
       " 322971,\n",
       " 369946,\n",
       " 231540,\n",
       " 46765,\n",
       " 195197,\n",
       " 466544,\n",
       " 35083,\n",
       " 256380,\n",
       " 184397,\n",
       " 344750,\n",
       " 181517,\n",
       " 212655,\n",
       " 99847,\n",
       " 23932,\n",
       " 635251,\n",
       " 2157,\n",
       " 130987,\n",
       " 179717,\n",
       " 206717,\n",
       " 533592,\n",
       " 51985,\n",
       " 78079,\n",
       " 600157,\n",
       " 172205,\n",
       " 207617,\n",
       " 13492,\n",
       " 74300,\n",
       " 84733,\n",
       " 153307,\n",
       " 14032,\n",
       " 196457,\n",
       " 577306,\n",
       " 55585,\n",
       " 541512,\n",
       " 462404,\n",
       " 175804,\n",
       " 366348,\n",
       " 80059,\n",
       " 286254,\n",
       " 429108,\n",
       " 144127,\n",
       " 567066,\n",
       " 6832,\n",
       " 272758,\n",
       " 205817,\n",
       " 512169,\n",
       " 521339,\n",
       " 43460,\n",
       " 521697,\n",
       " 617900,\n",
       " 514682,\n",
       " 649749,\n",
       " 372545,\n",
       " 222114,\n",
       " 108411,\n",
       " 399332,\n",
       " 217074,\n",
       " 223194,\n",
       " 333875,\n",
       " 240464,\n",
       " 558714,\n",
       " 80163,\n",
       " 554935,\n",
       " 524747,\n",
       " 43992,\n",
       " 546296,\n",
       " 498313,\n",
       " 24216,\n",
       " 413372,\n",
       " 408512,\n",
       " 92756,\n",
       " 383155,\n",
       " 176445,\n",
       " 572193,\n",
       " 414272,\n",
       " 107511,\n",
       " 643095,\n",
       " 516302,\n",
       " 225713,\n",
       " 94736,\n",
       " 624197,\n",
       " 281140,\n",
       " 13416,\n",
       " 289238,\n",
       " 372011,\n",
       " 178741,\n",
       " 492200,\n",
       " 563933,\n",
       " 511809,\n",
       " 405092,\n",
       " 246944,\n",
       " 216894,\n",
       " 362673,\n",
       " 1901,\n",
       " 219774,\n",
       " 175548,\n",
       " 411572,\n",
       " 452068,\n",
       " 119391,\n",
       " 430472,\n",
       " 112011,\n",
       " 44531,\n",
       " 237764,\n",
       " 224454,\n",
       " 412112,\n",
       " 397892,\n",
       " 215995,\n",
       " 3518,\n",
       " 439291,\n",
       " 227687,\n",
       " 394294,\n",
       " 98333,\n",
       " 171231,\n",
       " 374160,\n",
       " 174109,\n",
       " 178024,\n",
       " 573093,\n",
       " 240824,\n",
       " 103191,\n",
       " 243164,\n",
       " 363393,\n",
       " 193861,\n",
       " 287078,\n",
       " 409412,\n",
       " 35727,\n",
       " 57669,\n",
       " 81063,\n",
       " 237584,\n",
       " 582090,\n",
       " 9096,\n",
       " 370050,\n",
       " 149451,\n",
       " 40587,\n",
       " 599001,\n",
       " 438391,\n",
       " 108771,\n",
       " 306337,\n",
       " 486266,\n",
       " 89336,\n",
       " 324155,\n",
       " 362853,\n",
       " 255044,\n",
       " 535136,\n",
       " 57489,\n",
       " 9456,\n",
       " 103011,\n",
       " 168711,\n",
       " 18816,\n",
       " 39867,\n",
       " 76024,\n",
       " 8376,\n",
       " 382255,\n",
       " 149631,\n",
       " 398792,\n",
       " 169611,\n",
       " 251984,\n",
       " 208261,\n",
       " 425612,\n",
       " 50469,\n",
       " 61629,\n",
       " 38247,\n",
       " 381715,\n",
       " 469168,\n",
       " 426512,\n",
       " 176973,\n",
       " 106971,\n",
       " 101391,\n",
       " 40767,\n",
       " 200701,\n",
       " 88077,\n",
       " 436052,\n",
       " 17916,\n",
       " 2981,\n",
       " 339814,\n",
       " 137211,\n",
       " 234164,\n",
       " 292477,\n",
       " 120291,\n",
       " 221214,\n",
       " 34827,\n",
       " 508391,\n",
       " 97613,\n",
       " 334774,\n",
       " 321095,\n",
       " 19356,\n",
       " 35187,\n",
       " 19716,\n",
       " 17556,\n",
       " 330815,\n",
       " 221574,\n",
       " 92036,\n",
       " 270522,\n",
       " 89696,\n",
       " 145851,\n",
       " 17736,\n",
       " 140811,\n",
       " 311557,\n",
       " 521877,\n",
       " 305797,\n",
       " 147471,\n",
       " 427232,\n",
       " 45969,\n",
       " 261164,\n",
       " 380096,\n",
       " 25476,\n",
       " 103371,\n",
       " 443968,\n",
       " 212939,\n",
       " 11796,\n",
       " 82497,\n",
       " 496514,\n",
       " 22236,\n",
       " 648669,\n",
       " 176088,\n",
       " 320375,\n",
       " 329015,\n",
       " 117951,\n",
       " 576330,\n",
       " 355294,\n",
       " 25296,\n",
       " 84657,\n",
       " 196741,\n",
       " 95636,\n",
       " 438751,\n",
       " 214555,\n",
       " 200341,\n",
       " 507311,\n",
       " 108951,\n",
       " 130731,\n",
       " 454408,\n",
       " 196921,\n",
       " 364472,\n",
       " 68648,\n",
       " 25656,\n",
       " 177851,\n",
       " 94376,\n",
       " 432632,\n",
       " 27816,\n",
       " 158451,\n",
       " 30336,\n",
       " 285638,\n",
       " 171411,\n",
       " 164571,\n",
       " 415892,\n",
       " 172309,\n",
       " 568248,\n",
       " 236324,\n",
       " 223014,\n",
       " 14136,\n",
       " 424892,\n",
       " 248024,\n",
       " 20976,\n",
       " 3158,\n",
       " 142251,\n",
       " 436771,\n",
       " 189901,\n",
       " 310477,\n",
       " 589830,\n",
       " 391795,\n",
       " 91316,\n",
       " 168351,\n",
       " 7116,\n",
       " 174289,\n",
       " 256304,\n",
       " 318755,\n",
       " 441090,\n",
       " 80523,\n",
       " 284200,\n",
       " 367711,\n",
       " 49029,\n",
       " 622217,\n",
       " 471328,\n",
       " 509290,\n",
       " 185581,\n",
       " 19896,\n",
       " 58929,\n",
       " 133071,\n",
       " 121731,\n",
       " 404192,\n",
       " 434072,\n",
       " 121911,\n",
       " 15036,\n",
       " 130191,\n",
       " 332615,\n",
       " 641,\n",
       " 565371,\n",
       " 253964,\n",
       " 72247,\n",
       " 101,\n",
       " 430652,\n",
       " 349714,\n",
       " 503532,\n",
       " 255224,\n",
       " 43633,\n",
       " 27996,\n",
       " 110031,\n",
       " 207361,\n",
       " 262244,\n",
       " 155931,\n",
       " 606021,\n",
       " 410312,\n",
       " 527400,\n",
       " 644354,\n",
       " 242264,\n",
       " 90776,\n",
       " 636615,\n",
       " 47229,\n",
       " 41127,\n",
       " 555835,\n",
       " 131991,\n",
       " 196561,\n",
       " 201781,\n",
       " 529020,\n",
       " 552235,\n",
       " 68288,\n",
       " 194581,\n",
       " 493279,\n",
       " 540356,\n",
       " 380815,\n",
       " 432812,\n",
       " 153051,\n",
       " 301477,\n",
       " 578850,\n",
       " 9996,\n",
       " 239924,\n",
       " 97253,\n",
       " 290138,\n",
       " 10356,\n",
       " 122991,\n",
       " 179281,\n",
       " 132531,\n",
       " 277900,\n",
       " 266204,\n",
       " 134331,\n",
       " 492560,\n",
       " 101211,\n",
       " 55329,\n",
       " 391255,\n",
       " 47949,\n",
       " 75664,\n",
       " 531716,\n",
       " 359074,\n",
       " 424352,\n",
       " 96893,\n",
       " 578490,\n",
       " 104631,\n",
       " 286898,\n",
       " 36087,\n",
       " 198901,\n",
       " 8196,\n",
       " 34647,\n",
       " 333515,\n",
       " 162951,\n",
       " 272142,\n",
       " 382795,\n",
       " 482487,\n",
       " 495079,\n",
       " 434972,\n",
       " 218334,\n",
       " 599361,\n",
       " 199801,\n",
       " 4776,\n",
       " 482847,\n",
       " 126591,\n",
       " 164391,\n",
       " 199621,\n",
       " 501912,\n",
       " 81957,\n",
       " 185041,\n",
       " 61449,\n",
       " 250184,\n",
       " 27096,\n",
       " 518642,\n",
       " 262964,\n",
       " 81777,\n",
       " 479787,\n",
       " 225353,\n",
       " 159171,\n",
       " 92216,\n",
       " 402572,\n",
       " 235964,\n",
       " 348454,\n",
       " 239744,\n",
       " 538556,\n",
       " 105531,\n",
       " 86457,\n",
       " 396453,\n",
       " 273762,\n",
       " 104091,\n",
       " 33747,\n",
       " 64508,\n",
       " 230204,\n",
       " 246404,\n",
       " 101031,\n",
       " 148011,\n",
       " 176793,\n",
       " 49209,\n",
       " 20436,\n",
       " 191521,\n",
       " 345394,\n",
       " 64868,\n",
       " 261524,\n",
       " 50109,\n",
       " 312995,\n",
       " 78183,\n",
       " 488066,\n",
       " 8916,\n",
       " 295537,\n",
       " 55149,\n",
       " 368430,\n",
       " 169971,\n",
       " 118491,\n",
       " 292297,\n",
       " 511089,\n",
       " 156831,\n",
       " 397353,\n",
       " 52089,\n",
       " 113451,\n",
       " 167091,\n",
       " 37527,\n",
       " 14676,\n",
       " 183061,\n",
       " 28536,\n",
       " 64328,\n",
       " 106611,\n",
       " 338734,\n",
       " 14496,\n",
       " 69908,\n",
       " 167271,\n",
       " 30516,\n",
       " 13776,\n",
       " 436232,\n",
       " 15396,\n",
       " 273582,\n",
       " 265304,\n",
       " 133971,\n",
       " 53169,\n",
       " 237404,\n",
       " 7836,\n",
       " 174649,\n",
       " 84477,\n",
       " 51189,\n",
       " 357454,\n",
       " 191341,\n",
       " 136851,\n",
       " 379196,\n",
       " 434792,\n",
       " 57849,\n",
       " 294997,\n",
       " 65768,\n",
       " 189361,\n",
       " 60549,\n",
       " 12876,\n",
       " 31236,\n",
       " 569877,\n",
       " 521355,\n",
       " 522251,\n",
       " 513621,\n",
       " 506427,\n",
       " 643831,\n",
       " 504628,\n",
       " 629433,\n",
       " 274498,\n",
       " 524760,\n",
       " 572209,\n",
       " 276656,\n",
       " 513798,\n",
       " 588406,\n",
       " 413208,\n",
       " 378494,\n",
       " 240840,\n",
       " 399708,\n",
       " 444164,\n",
       " 175744,\n",
       " 450824,\n",
       " 45805,\n",
       " 568084,\n",
       " 398628,\n",
       " 17752,\n",
       " 365928,\n",
       " 536952,\n",
       " 171427,\n",
       " 572749,\n",
       " 379032,\n",
       " 654976,\n",
       " 563409,\n",
       " 391271,\n",
       " 92412,\n",
       " 627453,\n",
       " 398088,\n",
       " 235440,\n",
       " 3534,\n",
       " 89532,\n",
       " 362689,\n",
       " 219790,\n",
       " 93132,\n",
       " 450284,\n",
       " 574727,\n",
       " 176284,\n",
       " 427068,\n",
       " 36103,\n",
       " 571849,\n",
       " 525441,\n",
       " 411588,\n",
       " 392891,\n",
       " 123187,\n",
       " 573829,\n",
       " 567186,\n",
       " 213675,\n",
       " 13432,\n",
       " 87373,\n",
       " 275218,\n",
       " 561250,\n",
       " 237060,\n",
       " 387131,\n",
       " 240660,\n",
       " 214571,\n",
       " 515238,\n",
       " 217810,\n",
       " 81613,\n",
       " 377414,\n",
       " 217090,\n",
       " 368446,\n",
       " 371847,\n",
       " 220870,\n",
       " 175564,\n",
       " 1917,\n",
       " 394670,\n",
       " 558010,\n",
       " 359810,\n",
       " 177518,\n",
       " 408348,\n",
       " 644909,\n",
       " 119767,\n",
       " 557470,\n",
       " 377054,\n",
       " 247860,\n",
       " 517578,\n",
       " 174485,\n",
       " 515958,\n",
       " 576166,\n",
       " 85753,\n",
       " 400068,\n",
       " 1017,\n",
       " 261900,\n",
       " 110767,\n",
       " 837,\n",
       " 28192,\n",
       " 15772,\n",
       " 200357,\n",
       " 44008,\n",
       " 419148,\n",
       " 456584,\n",
       " 34843,\n",
       " 364488,\n",
       " 185237,\n",
       " 38083,\n",
       " 271258,\n",
       " 329031,\n",
       " 130027,\n",
       " 67224,\n",
       " 47065,\n",
       " 50125,\n",
       " 6412,\n",
       " 55165,\n",
       " 197837,\n",
       " 509486,\n",
       " 27472,\n",
       " 31252,\n",
       " 12352,\n",
       " 577246,\n",
       " 529036,\n",
       " 39883,\n",
       " 10192,\n",
       " 107527,\n",
       " 288174,\n",
       " 142447,\n",
       " 57325,\n",
       " 60925,\n",
       " 92232,\n",
       " 226266,\n",
       " 492216,\n",
       " 605137,\n",
       " 66144,\n",
       " 620795,\n",
       " 153067,\n",
       " 341810,\n",
       " 338570,\n",
       " 104467,\n",
       " 219970,\n",
       " 79459,\n",
       " 174665,\n",
       " 554771,\n",
       " 258840,\n",
       " 364128,\n",
       " 11272,\n",
       " 615216,\n",
       " 343070,\n",
       " 509666,\n",
       " 258480,\n",
       " 205757,\n",
       " 186677,\n",
       " 60565,\n",
       " 243900,\n",
       " 248400,\n",
       " 282056,\n",
       " 538932,\n",
       " 477,\n",
       " 28012,\n",
       " 24952,\n",
       " 95472,\n",
       " 3174,\n",
       " 6232,\n",
       " 510205,\n",
       " 114187,\n",
       " 186497,\n",
       " 377234,\n",
       " 440206,\n",
       " 508766,\n",
       " 97809,\n",
       " 468644,\n",
       " 396649,\n",
       " 239940,\n",
       " 71724,\n",
       " 493115,\n",
       " 425088,\n",
       " 43296,\n",
       " 319311,\n",
       " 69384,\n",
       " 115627,\n",
       " ...]"
      ]
     },
     "execution_count": 103,
     "metadata": {},
     "output_type": "execute_result"
    }
   ],
   "source": [
    "aux=list(df.notnull().sum(1).groupby([df[\"t_nombre_del_beneficiario\"],df[\"t_nombre_del_proyecto\"],df[\"t_programa_fondo\"],df[\"d_fecha_ocurr\"]]).idxmax())\n",
    "aux"
   ]
  },
  {
   "cell_type": "code",
   "execution_count": 276,
   "metadata": {},
   "outputs": [
    {
     "data": {
      "text/plain": [
       "(655333, 26)"
      ]
     },
     "execution_count": 276,
     "metadata": {},
     "output_type": "execute_result"
    }
   ],
   "source": [
    "df.shape"
   ]
  },
  {
   "cell_type": "code",
   "execution_count": 608,
   "metadata": {},
   "outputs": [
    {
     "data": {
      "text/plain": [
       "67094"
      ]
     },
     "execution_count": 608,
     "metadata": {},
     "output_type": "execute_result"
    }
   ],
   "source": [
    "len(aux)"
   ]
  },
  {
   "cell_type": "code",
   "execution_count": 81,
   "metadata": {
    "ExecuteTime": {
     "end_time": "2021-05-13T20:58:19.905373Z",
     "start_time": "2021-05-13T20:58:12.773718Z"
    },
    "id": "IE-eNRi7HaBO",
    "outputId": "790bdd75-1554-45f2-bc31-91102e39591b",
    "scrolled": true
   },
   "outputs": [
    {
     "data": {
      "text/html": [
       "<div>\n",
       "<style scoped>\n",
       "    .dataframe tbody tr th:only-of-type {\n",
       "        vertical-align: middle;\n",
       "    }\n",
       "\n",
       "    .dataframe tbody tr th {\n",
       "        vertical-align: top;\n",
       "    }\n",
       "\n",
       "    .dataframe thead th {\n",
       "        text-align: right;\n",
       "    }\n",
       "</style>\n",
       "<table border=\"1\" class=\"dataframe\">\n",
       "  <thead>\n",
       "    <tr style=\"text-align: right;\">\n",
       "      <th></th>\n",
       "      <th>c_edad</th>\n",
       "      <th>c_minutos</th>\n",
       "      <th>c_monto_de_apoyo</th>\n",
       "      <th>c_horas</th>\n",
       "      <th>v_ent_regis</th>\n",
       "      <th>v_mun_regis</th>\n",
       "      <th>v_ent_resid</th>\n",
       "      <th>v_mun_resid</th>\n",
       "      <th>v_ent_ocurr</th>\n",
       "      <th>v_mun_ocurr</th>\n",
       "      <th>v_sexo</th>\n",
       "      <th>v_ocupacion</th>\n",
       "      <th>v_edo_civil</th>\n",
       "      <th>v_lugar_ocur</th>\n",
       "      <th>v_sitio_ocur</th>\n",
       "      <th>v_nacionalid</th>\n",
       "      <th>v_grupo</th>\n",
       "      <th>v_lengua</th>\n",
       "      <th>v_clave</th>\n",
       "      <th>v_escolarida</th>\n",
       "      <th>d_fecha_nac</th>\n",
       "      <th>d_fecha_ocurr</th>\n",
       "      <th>t_programa_fondo</th>\n",
       "      <th>t_nombre_del_proyecto</th>\n",
       "      <th>t_nombre_del_beneficiario</th>\n",
       "      <th>c_salario</th>\n",
       "    </tr>\n",
       "  </thead>\n",
       "  <tbody>\n",
       "    <tr>\n",
       "      <th>524976</th>\n",
       "      <td>4057</td>\n",
       "      <td>0</td>\n",
       "      <td>3258370.0</td>\n",
       "      <td>0</td>\n",
       "      <td>25.0</td>\n",
       "      <td>1</td>\n",
       "      <td>25</td>\n",
       "      <td>1</td>\n",
       "      <td>NaN</td>\n",
       "      <td>1</td>\n",
       "      <td>1</td>\n",
       "      <td>99</td>\n",
       "      <td>NaN</td>\n",
       "      <td>88</td>\n",
       "      <td>99</td>\n",
       "      <td>1</td>\n",
       "      <td>13</td>\n",
       "      <td>NaN</td>\n",
       "      <td>6821</td>\n",
       "      <td>99</td>\n",
       "      <td>1949-06-14</td>\n",
       "      <td>2006-12-10</td>\n",
       "      <td>programa estatal para el desarrollo de la indu...</td>\n",
       "      <td>fortalecimiento de capacidades empresariales p...</td>\n",
       "      <td>4 0 industrial cluster a c</td>\n",
       "      <td>0</td>\n",
       "    </tr>\n",
       "    <tr>\n",
       "      <th>341690</th>\n",
       "      <td>4045</td>\n",
       "      <td>0</td>\n",
       "      <td>3258370.0</td>\n",
       "      <td>22</td>\n",
       "      <td>15.0</td>\n",
       "      <td>106</td>\n",
       "      <td>15</td>\n",
       "      <td>999</td>\n",
       "      <td>NaN</td>\n",
       "      <td>106</td>\n",
       "      <td>1</td>\n",
       "      <td>99</td>\n",
       "      <td>NaN</td>\n",
       "      <td>4</td>\n",
       "      <td>99</td>\n",
       "      <td>1</td>\n",
       "      <td>27</td>\n",
       "      <td>NaN</td>\n",
       "      <td>6821</td>\n",
       "      <td>99</td>\n",
       "      <td>NaN</td>\n",
       "      <td>2008-02-08</td>\n",
       "      <td>programa estatal para el desarrollo de la indu...</td>\n",
       "      <td>fortalecimiento de capacidades empresariales p...</td>\n",
       "      <td>4 0 industrial cluster a c</td>\n",
       "      <td>0</td>\n",
       "    </tr>\n",
       "    <tr>\n",
       "      <th>370292</th>\n",
       "      <td>4087</td>\n",
       "      <td>30</td>\n",
       "      <td>3258370.0</td>\n",
       "      <td>18</td>\n",
       "      <td>16.0</td>\n",
       "      <td>17</td>\n",
       "      <td>16</td>\n",
       "      <td>17</td>\n",
       "      <td>NaN</td>\n",
       "      <td>17</td>\n",
       "      <td>1</td>\n",
       "      <td>98</td>\n",
       "      <td>NaN</td>\n",
       "      <td>88</td>\n",
       "      <td>3</td>\n",
       "      <td>1</td>\n",
       "      <td>6</td>\n",
       "      <td>9.0</td>\n",
       "      <td>6821</td>\n",
       "      <td>99</td>\n",
       "      <td>1922-08-25</td>\n",
       "      <td>2009-11-18</td>\n",
       "      <td>programa estatal para el desarrollo de la indu...</td>\n",
       "      <td>fortalecimiento de capacidades empresariales p...</td>\n",
       "      <td>4 0 industrial cluster a c</td>\n",
       "      <td>3000</td>\n",
       "    </tr>\n",
       "    <tr>\n",
       "      <th>267720</th>\n",
       "      <td>4082</td>\n",
       "      <td>15</td>\n",
       "      <td>3258370.0</td>\n",
       "      <td>11</td>\n",
       "      <td>14.0</td>\n",
       "      <td>18</td>\n",
       "      <td>16</td>\n",
       "      <td>11</td>\n",
       "      <td>NaN</td>\n",
       "      <td>18</td>\n",
       "      <td>1</td>\n",
       "      <td>11</td>\n",
       "      <td>NaN</td>\n",
       "      <td>88</td>\n",
       "      <td>9</td>\n",
       "      <td>2</td>\n",
       "      <td>11</td>\n",
       "      <td>NaN</td>\n",
       "      <td>6821</td>\n",
       "      <td>3</td>\n",
       "      <td>1930-06-14</td>\n",
       "      <td>2012-05-27</td>\n",
       "      <td>programa estatal para el desarrollo de la indu...</td>\n",
       "      <td>fortalecimiento de capacidades empresariales p...</td>\n",
       "      <td>4 0 industrial cluster a c</td>\n",
       "      <td>1500</td>\n",
       "    </tr>\n",
       "    <tr>\n",
       "      <th>471224</th>\n",
       "      <td>4037</td>\n",
       "      <td>20</td>\n",
       "      <td>3258370.0</td>\n",
       "      <td>9</td>\n",
       "      <td>21.0</td>\n",
       "      <td>90</td>\n",
       "      <td>21</td>\n",
       "      <td>90</td>\n",
       "      <td>NaN</td>\n",
       "      <td>140</td>\n",
       "      <td>1</td>\n",
       "      <td>7</td>\n",
       "      <td>NaN</td>\n",
       "      <td>88</td>\n",
       "      <td>1</td>\n",
       "      <td>1</td>\n",
       "      <td>2</td>\n",
       "      <td>NaN</td>\n",
       "      <td>6821</td>\n",
       "      <td>99</td>\n",
       "      <td>1975-06-21</td>\n",
       "      <td>2012-06-15</td>\n",
       "      <td>programa estatal para el desarrollo de la indu...</td>\n",
       "      <td>fortalecimiento de capacidades empresariales p...</td>\n",
       "      <td>4 0 industrial cluster a c</td>\n",
       "      <td>2000</td>\n",
       "    </tr>\n",
       "    <tr>\n",
       "      <th>...</th>\n",
       "      <td>...</td>\n",
       "      <td>...</td>\n",
       "      <td>...</td>\n",
       "      <td>...</td>\n",
       "      <td>...</td>\n",
       "      <td>...</td>\n",
       "      <td>...</td>\n",
       "      <td>...</td>\n",
       "      <td>...</td>\n",
       "      <td>...</td>\n",
       "      <td>...</td>\n",
       "      <td>...</td>\n",
       "      <td>...</td>\n",
       "      <td>...</td>\n",
       "      <td>...</td>\n",
       "      <td>...</td>\n",
       "      <td>...</td>\n",
       "      <td>...</td>\n",
       "      <td>...</td>\n",
       "      <td>...</td>\n",
       "      <td>...</td>\n",
       "      <td>...</td>\n",
       "      <td>...</td>\n",
       "      <td>...</td>\n",
       "      <td>...</td>\n",
       "      <td>...</td>\n",
       "    </tr>\n",
       "    <tr>\n",
       "      <th>571904</th>\n",
       "      <td>4080</td>\n",
       "      <td>30</td>\n",
       "      <td>2188623.0</td>\n",
       "      <td>13</td>\n",
       "      <td>28.0</td>\n",
       "      <td>33</td>\n",
       "      <td>28</td>\n",
       "      <td>33</td>\n",
       "      <td>NaN</td>\n",
       "      <td>33</td>\n",
       "      <td>2</td>\n",
       "      <td>11</td>\n",
       "      <td>NaN</td>\n",
       "      <td>88</td>\n",
       "      <td>11</td>\n",
       "      <td>1</td>\n",
       "      <td>2</td>\n",
       "      <td>2.0</td>\n",
       "      <td>6765</td>\n",
       "      <td>4</td>\n",
       "      <td>1935-02-19</td>\n",
       "      <td>2015-12-24</td>\n",
       "      <td>programa estatal para el desarrollo de la indu...</td>\n",
       "      <td>creacion de un centro de desarrollo de aplicac...</td>\n",
       "      <td>unosquare s a de c v</td>\n",
       "      <td>3000</td>\n",
       "    </tr>\n",
       "    <tr>\n",
       "      <th>78614</th>\n",
       "      <td>4085</td>\n",
       "      <td>0</td>\n",
       "      <td>2188623.0</td>\n",
       "      <td>7</td>\n",
       "      <td>8.0</td>\n",
       "      <td>19</td>\n",
       "      <td>8</td>\n",
       "      <td>19</td>\n",
       "      <td>NaN</td>\n",
       "      <td>19</td>\n",
       "      <td>1</td>\n",
       "      <td>11</td>\n",
       "      <td>NaN</td>\n",
       "      <td>88</td>\n",
       "      <td>11</td>\n",
       "      <td>1</td>\n",
       "      <td>4</td>\n",
       "      <td>NaN</td>\n",
       "      <td>6765</td>\n",
       "      <td>3</td>\n",
       "      <td>1929-11-15</td>\n",
       "      <td>2015-12-25</td>\n",
       "      <td>programa estatal para el desarrollo de la indu...</td>\n",
       "      <td>creacion de un centro de desarrollo de aplicac...</td>\n",
       "      <td>unosquare s a de c v</td>\n",
       "      <td>0</td>\n",
       "    </tr>\n",
       "    <tr>\n",
       "      <th>92827</th>\n",
       "      <td>4089</td>\n",
       "      <td>20</td>\n",
       "      <td>2188623.0</td>\n",
       "      <td>17</td>\n",
       "      <td>8.0</td>\n",
       "      <td>37</td>\n",
       "      <td>8</td>\n",
       "      <td>37</td>\n",
       "      <td>NaN</td>\n",
       "      <td>37</td>\n",
       "      <td>1</td>\n",
       "      <td>11</td>\n",
       "      <td>NaN</td>\n",
       "      <td>88</td>\n",
       "      <td>1</td>\n",
       "      <td>1</td>\n",
       "      <td>6</td>\n",
       "      <td>2.0</td>\n",
       "      <td>6765</td>\n",
       "      <td>4</td>\n",
       "      <td>1926-10-02</td>\n",
       "      <td>2015-12-26</td>\n",
       "      <td>programa estatal para el desarrollo de la indu...</td>\n",
       "      <td>creacion de un centro de desarrollo de aplicac...</td>\n",
       "      <td>unosquare s a de c v</td>\n",
       "      <td>2000</td>\n",
       "    </tr>\n",
       "    <tr>\n",
       "      <th>410203</th>\n",
       "      <td>4085</td>\n",
       "      <td>0</td>\n",
       "      <td>2188623.0</td>\n",
       "      <td>15</td>\n",
       "      <td>19.0</td>\n",
       "      <td>14</td>\n",
       "      <td>19</td>\n",
       "      <td>13</td>\n",
       "      <td>NaN</td>\n",
       "      <td>13</td>\n",
       "      <td>1</td>\n",
       "      <td>6</td>\n",
       "      <td>NaN</td>\n",
       "      <td>88</td>\n",
       "      <td>11</td>\n",
       "      <td>1</td>\n",
       "      <td>4</td>\n",
       "      <td>9.0</td>\n",
       "      <td>6765</td>\n",
       "      <td>3</td>\n",
       "      <td>1930-06-29</td>\n",
       "      <td>2015-12-27</td>\n",
       "      <td>programa estatal para el desarrollo de la indu...</td>\n",
       "      <td>creacion de un centro de desarrollo de aplicac...</td>\n",
       "      <td>unosquare s a de c v</td>\n",
       "      <td>0</td>\n",
       "    </tr>\n",
       "    <tr>\n",
       "      <th>43704</th>\n",
       "      <td>4061</td>\n",
       "      <td>40</td>\n",
       "      <td>2188623.0</td>\n",
       "      <td>15</td>\n",
       "      <td>5.0</td>\n",
       "      <td>18</td>\n",
       "      <td>5</td>\n",
       "      <td>18</td>\n",
       "      <td>NaN</td>\n",
       "      <td>18</td>\n",
       "      <td>1</td>\n",
       "      <td>11</td>\n",
       "      <td>NaN</td>\n",
       "      <td>88</td>\n",
       "      <td>3</td>\n",
       "      <td>1</td>\n",
       "      <td>10</td>\n",
       "      <td>2.0</td>\n",
       "      <td>6765</td>\n",
       "      <td>9</td>\n",
       "      <td>1953-11-18</td>\n",
       "      <td>2015-12-28</td>\n",
       "      <td>programa estatal para el desarrollo de la indu...</td>\n",
       "      <td>creacion de un centro de desarrollo de aplicac...</td>\n",
       "      <td>unosquare s a de c v</td>\n",
       "      <td>4000</td>\n",
       "    </tr>\n",
       "  </tbody>\n",
       "</table>\n",
       "<p>67094 rows × 26 columns</p>\n",
       "</div>"
      ],
      "text/plain": [
       "        c_edad  c_minutos c_monto_de_apoyo  c_horas  v_ent_regis  v_mun_regis  \\\n",
       "524976    4057          0        3258370.0        0         25.0            1   \n",
       "341690    4045          0        3258370.0       22         15.0          106   \n",
       "370292    4087         30        3258370.0       18         16.0           17   \n",
       "267720    4082         15        3258370.0       11         14.0           18   \n",
       "471224    4037         20        3258370.0        9         21.0           90   \n",
       "...        ...        ...              ...      ...          ...          ...   \n",
       "571904    4080         30        2188623.0       13         28.0           33   \n",
       "78614     4085          0        2188623.0        7          8.0           19   \n",
       "92827     4089         20        2188623.0       17          8.0           37   \n",
       "410203    4085          0        2188623.0       15         19.0           14   \n",
       "43704     4061         40        2188623.0       15          5.0           18   \n",
       "\n",
       "        v_ent_resid  v_mun_resid  v_ent_ocurr  v_mun_ocurr v_sexo  \\\n",
       "524976           25            1          NaN            1      1   \n",
       "341690           15          999          NaN          106      1   \n",
       "370292           16           17          NaN           17      1   \n",
       "267720           16           11          NaN           18      1   \n",
       "471224           21           90          NaN          140      1   \n",
       "...             ...          ...          ...          ...    ...   \n",
       "571904           28           33          NaN           33      2   \n",
       "78614             8           19          NaN           19      1   \n",
       "92827             8           37          NaN           37      1   \n",
       "410203           19           13          NaN           13      1   \n",
       "43704             5           18          NaN           18      1   \n",
       "\n",
       "        v_ocupacion  v_edo_civil  v_lugar_ocur  v_sitio_ocur  v_nacionalid  \\\n",
       "524976           99          NaN            88            99             1   \n",
       "341690           99          NaN             4            99             1   \n",
       "370292           98          NaN            88             3             1   \n",
       "267720           11          NaN            88             9             2   \n",
       "471224            7          NaN            88             1             1   \n",
       "...             ...          ...           ...           ...           ...   \n",
       "571904           11          NaN            88            11             1   \n",
       "78614            11          NaN            88            11             1   \n",
       "92827            11          NaN            88             1             1   \n",
       "410203            6          NaN            88            11             1   \n",
       "43704            11          NaN            88             3             1   \n",
       "\n",
       "        v_grupo  v_lengua  v_clave  v_escolarida d_fecha_nac d_fecha_ocurr  \\\n",
       "524976       13       NaN     6821            99  1949-06-14    2006-12-10   \n",
       "341690       27       NaN     6821            99         NaN    2008-02-08   \n",
       "370292        6       9.0     6821            99  1922-08-25    2009-11-18   \n",
       "267720       11       NaN     6821             3  1930-06-14    2012-05-27   \n",
       "471224        2       NaN     6821            99  1975-06-21    2012-06-15   \n",
       "...         ...       ...      ...           ...         ...           ...   \n",
       "571904        2       2.0     6765             4  1935-02-19    2015-12-24   \n",
       "78614         4       NaN     6765             3  1929-11-15    2015-12-25   \n",
       "92827         6       2.0     6765             4  1926-10-02    2015-12-26   \n",
       "410203        4       9.0     6765             3  1930-06-29    2015-12-27   \n",
       "43704        10       2.0     6765             9  1953-11-18    2015-12-28   \n",
       "\n",
       "                                         t_programa_fondo  \\\n",
       "524976  programa estatal para el desarrollo de la indu...   \n",
       "341690  programa estatal para el desarrollo de la indu...   \n",
       "370292  programa estatal para el desarrollo de la indu...   \n",
       "267720  programa estatal para el desarrollo de la indu...   \n",
       "471224  programa estatal para el desarrollo de la indu...   \n",
       "...                                                   ...   \n",
       "571904  programa estatal para el desarrollo de la indu...   \n",
       "78614   programa estatal para el desarrollo de la indu...   \n",
       "92827   programa estatal para el desarrollo de la indu...   \n",
       "410203  programa estatal para el desarrollo de la indu...   \n",
       "43704   programa estatal para el desarrollo de la indu...   \n",
       "\n",
       "                                    t_nombre_del_proyecto  \\\n",
       "524976  fortalecimiento de capacidades empresariales p...   \n",
       "341690  fortalecimiento de capacidades empresariales p...   \n",
       "370292  fortalecimiento de capacidades empresariales p...   \n",
       "267720  fortalecimiento de capacidades empresariales p...   \n",
       "471224  fortalecimiento de capacidades empresariales p...   \n",
       "...                                                   ...   \n",
       "571904  creacion de un centro de desarrollo de aplicac...   \n",
       "78614   creacion de un centro de desarrollo de aplicac...   \n",
       "92827   creacion de un centro de desarrollo de aplicac...   \n",
       "410203  creacion de un centro de desarrollo de aplicac...   \n",
       "43704   creacion de un centro de desarrollo de aplicac...   \n",
       "\n",
       "         t_nombre_del_beneficiario  c_salario  \n",
       "524976  4 0 industrial cluster a c          0  \n",
       "341690  4 0 industrial cluster a c          0  \n",
       "370292  4 0 industrial cluster a c       3000  \n",
       "267720  4 0 industrial cluster a c       1500  \n",
       "471224  4 0 industrial cluster a c       2000  \n",
       "...                            ...        ...  \n",
       "571904        unosquare s a de c v       3000  \n",
       "78614         unosquare s a de c v          0  \n",
       "92827         unosquare s a de c v       2000  \n",
       "410203        unosquare s a de c v          0  \n",
       "43704         unosquare s a de c v       4000  \n",
       "\n",
       "[67094 rows x 26 columns]"
      ]
     },
     "execution_count": 81,
     "metadata": {},
     "output_type": "execute_result"
    }
   ],
   "source": [
    "df.loc[df.notnull().sum(1).groupby([df[\"t_nombre_del_beneficiario\"],df[\"t_nombre_del_proyecto\"],df[\"t_programa_fondo\"],df[\"d_fecha_ocurr\"]]).idxmax()]"
   ]
  },
  {
   "cell_type": "code",
   "execution_count": 278,
   "metadata": {
    "scrolled": true
   },
   "outputs": [
    {
     "data": {
      "text/html": [
       "<div>\n",
       "<style scoped>\n",
       "    .dataframe tbody tr th:only-of-type {\n",
       "        vertical-align: middle;\n",
       "    }\n",
       "\n",
       "    .dataframe tbody tr th {\n",
       "        vertical-align: top;\n",
       "    }\n",
       "\n",
       "    .dataframe thead th {\n",
       "        text-align: right;\n",
       "    }\n",
       "</style>\n",
       "<table border=\"1\" class=\"dataframe\">\n",
       "  <thead>\n",
       "    <tr style=\"text-align: right;\">\n",
       "      <th></th>\n",
       "      <th>c_edad</th>\n",
       "      <th>c_minutos</th>\n",
       "      <th>c_monto_de_apoyo</th>\n",
       "      <th>c_horas</th>\n",
       "      <th>v_ent_regis</th>\n",
       "      <th>v_mun_regis</th>\n",
       "      <th>v_ent_resid</th>\n",
       "      <th>v_mun_resid</th>\n",
       "      <th>v_ent_ocurr</th>\n",
       "      <th>v_mun_ocurr</th>\n",
       "      <th>v_sexo</th>\n",
       "      <th>v_ocupacion</th>\n",
       "      <th>v_edo_civil</th>\n",
       "      <th>v_lugar_ocur</th>\n",
       "      <th>v_sitio_ocur</th>\n",
       "      <th>v_nacionalid</th>\n",
       "      <th>v_grupo</th>\n",
       "      <th>v_lengua</th>\n",
       "      <th>v_clave</th>\n",
       "      <th>v_escolarida</th>\n",
       "      <th>d_fecha_nac</th>\n",
       "      <th>d_fecha_ocurr</th>\n",
       "      <th>t_programa_fondo</th>\n",
       "      <th>t_nombre_del_proyecto</th>\n",
       "      <th>t_nombre_del_beneficiario</th>\n",
       "      <th>c_salario</th>\n",
       "    </tr>\n",
       "  </thead>\n",
       "  <tbody>\n",
       "    <tr>\n",
       "      <th>524976</th>\n",
       "      <td>4057</td>\n",
       "      <td>0</td>\n",
       "      <td>3258370.0</td>\n",
       "      <td>0</td>\n",
       "      <td>25.0</td>\n",
       "      <td>1</td>\n",
       "      <td>25</td>\n",
       "      <td>1</td>\n",
       "      <td>NaN</td>\n",
       "      <td>1</td>\n",
       "      <td>1</td>\n",
       "      <td>99</td>\n",
       "      <td>NaN</td>\n",
       "      <td>88</td>\n",
       "      <td>99</td>\n",
       "      <td>1</td>\n",
       "      <td>13</td>\n",
       "      <td>NaN</td>\n",
       "      <td>6821</td>\n",
       "      <td>99</td>\n",
       "      <td>1949-06-14</td>\n",
       "      <td>2006-12-10</td>\n",
       "      <td>programa estatal para el desarrollo de la indu...</td>\n",
       "      <td>fortalecimiento de capacidades empresariales p...</td>\n",
       "      <td>4 0 industrial cluster a c</td>\n",
       "      <td>0</td>\n",
       "    </tr>\n",
       "    <tr>\n",
       "      <th>341690</th>\n",
       "      <td>4045</td>\n",
       "      <td>0</td>\n",
       "      <td>3258370.0</td>\n",
       "      <td>22</td>\n",
       "      <td>15.0</td>\n",
       "      <td>106</td>\n",
       "      <td>15</td>\n",
       "      <td>999</td>\n",
       "      <td>NaN</td>\n",
       "      <td>106</td>\n",
       "      <td>1</td>\n",
       "      <td>99</td>\n",
       "      <td>NaN</td>\n",
       "      <td>4</td>\n",
       "      <td>99</td>\n",
       "      <td>1</td>\n",
       "      <td>27</td>\n",
       "      <td>NaN</td>\n",
       "      <td>6821</td>\n",
       "      <td>99</td>\n",
       "      <td>NaN</td>\n",
       "      <td>2008-02-08</td>\n",
       "      <td>programa estatal para el desarrollo de la indu...</td>\n",
       "      <td>fortalecimiento de capacidades empresariales p...</td>\n",
       "      <td>4 0 industrial cluster a c</td>\n",
       "      <td>0</td>\n",
       "    </tr>\n",
       "    <tr>\n",
       "      <th>370292</th>\n",
       "      <td>4087</td>\n",
       "      <td>30</td>\n",
       "      <td>3258370.0</td>\n",
       "      <td>18</td>\n",
       "      <td>16.0</td>\n",
       "      <td>17</td>\n",
       "      <td>16</td>\n",
       "      <td>17</td>\n",
       "      <td>NaN</td>\n",
       "      <td>17</td>\n",
       "      <td>1</td>\n",
       "      <td>98</td>\n",
       "      <td>NaN</td>\n",
       "      <td>88</td>\n",
       "      <td>3</td>\n",
       "      <td>1</td>\n",
       "      <td>6</td>\n",
       "      <td>9.0</td>\n",
       "      <td>6821</td>\n",
       "      <td>99</td>\n",
       "      <td>1922-08-25</td>\n",
       "      <td>2009-11-18</td>\n",
       "      <td>programa estatal para el desarrollo de la indu...</td>\n",
       "      <td>fortalecimiento de capacidades empresariales p...</td>\n",
       "      <td>4 0 industrial cluster a c</td>\n",
       "      <td>3000</td>\n",
       "    </tr>\n",
       "    <tr>\n",
       "      <th>267720</th>\n",
       "      <td>4082</td>\n",
       "      <td>15</td>\n",
       "      <td>3258370.0</td>\n",
       "      <td>11</td>\n",
       "      <td>14.0</td>\n",
       "      <td>18</td>\n",
       "      <td>16</td>\n",
       "      <td>11</td>\n",
       "      <td>NaN</td>\n",
       "      <td>18</td>\n",
       "      <td>1</td>\n",
       "      <td>11</td>\n",
       "      <td>NaN</td>\n",
       "      <td>88</td>\n",
       "      <td>9</td>\n",
       "      <td>2</td>\n",
       "      <td>11</td>\n",
       "      <td>NaN</td>\n",
       "      <td>6821</td>\n",
       "      <td>3</td>\n",
       "      <td>1930-06-14</td>\n",
       "      <td>2012-05-27</td>\n",
       "      <td>programa estatal para el desarrollo de la indu...</td>\n",
       "      <td>fortalecimiento de capacidades empresariales p...</td>\n",
       "      <td>4 0 industrial cluster a c</td>\n",
       "      <td>1500</td>\n",
       "    </tr>\n",
       "    <tr>\n",
       "      <th>471224</th>\n",
       "      <td>4037</td>\n",
       "      <td>20</td>\n",
       "      <td>3258370.0</td>\n",
       "      <td>9</td>\n",
       "      <td>21.0</td>\n",
       "      <td>90</td>\n",
       "      <td>21</td>\n",
       "      <td>90</td>\n",
       "      <td>NaN</td>\n",
       "      <td>140</td>\n",
       "      <td>1</td>\n",
       "      <td>7</td>\n",
       "      <td>NaN</td>\n",
       "      <td>88</td>\n",
       "      <td>1</td>\n",
       "      <td>1</td>\n",
       "      <td>2</td>\n",
       "      <td>NaN</td>\n",
       "      <td>6821</td>\n",
       "      <td>99</td>\n",
       "      <td>1975-06-21</td>\n",
       "      <td>2012-06-15</td>\n",
       "      <td>programa estatal para el desarrollo de la indu...</td>\n",
       "      <td>fortalecimiento de capacidades empresariales p...</td>\n",
       "      <td>4 0 industrial cluster a c</td>\n",
       "      <td>2000</td>\n",
       "    </tr>\n",
       "    <tr>\n",
       "      <th>...</th>\n",
       "      <td>...</td>\n",
       "      <td>...</td>\n",
       "      <td>...</td>\n",
       "      <td>...</td>\n",
       "      <td>...</td>\n",
       "      <td>...</td>\n",
       "      <td>...</td>\n",
       "      <td>...</td>\n",
       "      <td>...</td>\n",
       "      <td>...</td>\n",
       "      <td>...</td>\n",
       "      <td>...</td>\n",
       "      <td>...</td>\n",
       "      <td>...</td>\n",
       "      <td>...</td>\n",
       "      <td>...</td>\n",
       "      <td>...</td>\n",
       "      <td>...</td>\n",
       "      <td>...</td>\n",
       "      <td>...</td>\n",
       "      <td>...</td>\n",
       "      <td>...</td>\n",
       "      <td>...</td>\n",
       "      <td>...</td>\n",
       "      <td>...</td>\n",
       "      <td>...</td>\n",
       "    </tr>\n",
       "    <tr>\n",
       "      <th>571904</th>\n",
       "      <td>4080</td>\n",
       "      <td>30</td>\n",
       "      <td>2188623.0</td>\n",
       "      <td>13</td>\n",
       "      <td>28.0</td>\n",
       "      <td>33</td>\n",
       "      <td>28</td>\n",
       "      <td>33</td>\n",
       "      <td>NaN</td>\n",
       "      <td>33</td>\n",
       "      <td>2</td>\n",
       "      <td>11</td>\n",
       "      <td>NaN</td>\n",
       "      <td>88</td>\n",
       "      <td>11</td>\n",
       "      <td>1</td>\n",
       "      <td>2</td>\n",
       "      <td>2.0</td>\n",
       "      <td>6765</td>\n",
       "      <td>4</td>\n",
       "      <td>1935-02-19</td>\n",
       "      <td>2015-12-24</td>\n",
       "      <td>programa estatal para el desarrollo de la indu...</td>\n",
       "      <td>creacion de un centro de desarrollo de aplicac...</td>\n",
       "      <td>unosquare s a de c v</td>\n",
       "      <td>3000</td>\n",
       "    </tr>\n",
       "    <tr>\n",
       "      <th>78614</th>\n",
       "      <td>4085</td>\n",
       "      <td>0</td>\n",
       "      <td>2188623.0</td>\n",
       "      <td>7</td>\n",
       "      <td>8.0</td>\n",
       "      <td>19</td>\n",
       "      <td>8</td>\n",
       "      <td>19</td>\n",
       "      <td>NaN</td>\n",
       "      <td>19</td>\n",
       "      <td>1</td>\n",
       "      <td>11</td>\n",
       "      <td>NaN</td>\n",
       "      <td>88</td>\n",
       "      <td>11</td>\n",
       "      <td>1</td>\n",
       "      <td>4</td>\n",
       "      <td>NaN</td>\n",
       "      <td>6765</td>\n",
       "      <td>3</td>\n",
       "      <td>1929-11-15</td>\n",
       "      <td>2015-12-25</td>\n",
       "      <td>programa estatal para el desarrollo de la indu...</td>\n",
       "      <td>creacion de un centro de desarrollo de aplicac...</td>\n",
       "      <td>unosquare s a de c v</td>\n",
       "      <td>0</td>\n",
       "    </tr>\n",
       "    <tr>\n",
       "      <th>92827</th>\n",
       "      <td>4089</td>\n",
       "      <td>20</td>\n",
       "      <td>2188623.0</td>\n",
       "      <td>17</td>\n",
       "      <td>8.0</td>\n",
       "      <td>37</td>\n",
       "      <td>8</td>\n",
       "      <td>37</td>\n",
       "      <td>NaN</td>\n",
       "      <td>37</td>\n",
       "      <td>1</td>\n",
       "      <td>11</td>\n",
       "      <td>NaN</td>\n",
       "      <td>88</td>\n",
       "      <td>1</td>\n",
       "      <td>1</td>\n",
       "      <td>6</td>\n",
       "      <td>2.0</td>\n",
       "      <td>6765</td>\n",
       "      <td>4</td>\n",
       "      <td>1926-10-02</td>\n",
       "      <td>2015-12-26</td>\n",
       "      <td>programa estatal para el desarrollo de la indu...</td>\n",
       "      <td>creacion de un centro de desarrollo de aplicac...</td>\n",
       "      <td>unosquare s a de c v</td>\n",
       "      <td>2000</td>\n",
       "    </tr>\n",
       "    <tr>\n",
       "      <th>410203</th>\n",
       "      <td>4085</td>\n",
       "      <td>0</td>\n",
       "      <td>2188623.0</td>\n",
       "      <td>15</td>\n",
       "      <td>19.0</td>\n",
       "      <td>14</td>\n",
       "      <td>19</td>\n",
       "      <td>13</td>\n",
       "      <td>NaN</td>\n",
       "      <td>13</td>\n",
       "      <td>1</td>\n",
       "      <td>6</td>\n",
       "      <td>NaN</td>\n",
       "      <td>88</td>\n",
       "      <td>11</td>\n",
       "      <td>1</td>\n",
       "      <td>4</td>\n",
       "      <td>9.0</td>\n",
       "      <td>6765</td>\n",
       "      <td>3</td>\n",
       "      <td>1930-06-29</td>\n",
       "      <td>2015-12-27</td>\n",
       "      <td>programa estatal para el desarrollo de la indu...</td>\n",
       "      <td>creacion de un centro de desarrollo de aplicac...</td>\n",
       "      <td>unosquare s a de c v</td>\n",
       "      <td>0</td>\n",
       "    </tr>\n",
       "    <tr>\n",
       "      <th>43704</th>\n",
       "      <td>4061</td>\n",
       "      <td>40</td>\n",
       "      <td>2188623.0</td>\n",
       "      <td>15</td>\n",
       "      <td>5.0</td>\n",
       "      <td>18</td>\n",
       "      <td>5</td>\n",
       "      <td>18</td>\n",
       "      <td>NaN</td>\n",
       "      <td>18</td>\n",
       "      <td>1</td>\n",
       "      <td>11</td>\n",
       "      <td>NaN</td>\n",
       "      <td>88</td>\n",
       "      <td>3</td>\n",
       "      <td>1</td>\n",
       "      <td>10</td>\n",
       "      <td>2.0</td>\n",
       "      <td>6765</td>\n",
       "      <td>9</td>\n",
       "      <td>1953-11-18</td>\n",
       "      <td>2015-12-28</td>\n",
       "      <td>programa estatal para el desarrollo de la indu...</td>\n",
       "      <td>creacion de un centro de desarrollo de aplicac...</td>\n",
       "      <td>unosquare s a de c v</td>\n",
       "      <td>4000</td>\n",
       "    </tr>\n",
       "  </tbody>\n",
       "</table>\n",
       "<p>67094 rows × 26 columns</p>\n",
       "</div>"
      ],
      "text/plain": [
       "        c_edad  c_minutos c_monto_de_apoyo  c_horas  v_ent_regis  v_mun_regis  \\\n",
       "524976    4057          0        3258370.0        0         25.0            1   \n",
       "341690    4045          0        3258370.0       22         15.0          106   \n",
       "370292    4087         30        3258370.0       18         16.0           17   \n",
       "267720    4082         15        3258370.0       11         14.0           18   \n",
       "471224    4037         20        3258370.0        9         21.0           90   \n",
       "...        ...        ...              ...      ...          ...          ...   \n",
       "571904    4080         30        2188623.0       13         28.0           33   \n",
       "78614     4085          0        2188623.0        7          8.0           19   \n",
       "92827     4089         20        2188623.0       17          8.0           37   \n",
       "410203    4085          0        2188623.0       15         19.0           14   \n",
       "43704     4061         40        2188623.0       15          5.0           18   \n",
       "\n",
       "        v_ent_resid  v_mun_resid  v_ent_ocurr  v_mun_ocurr v_sexo  \\\n",
       "524976           25            1          NaN            1      1   \n",
       "341690           15          999          NaN          106      1   \n",
       "370292           16           17          NaN           17      1   \n",
       "267720           16           11          NaN           18      1   \n",
       "471224           21           90          NaN          140      1   \n",
       "...             ...          ...          ...          ...    ...   \n",
       "571904           28           33          NaN           33      2   \n",
       "78614             8           19          NaN           19      1   \n",
       "92827             8           37          NaN           37      1   \n",
       "410203           19           13          NaN           13      1   \n",
       "43704             5           18          NaN           18      1   \n",
       "\n",
       "        v_ocupacion  v_edo_civil  v_lugar_ocur  v_sitio_ocur  v_nacionalid  \\\n",
       "524976           99          NaN            88            99             1   \n",
       "341690           99          NaN             4            99             1   \n",
       "370292           98          NaN            88             3             1   \n",
       "267720           11          NaN            88             9             2   \n",
       "471224            7          NaN            88             1             1   \n",
       "...             ...          ...           ...           ...           ...   \n",
       "571904           11          NaN            88            11             1   \n",
       "78614            11          NaN            88            11             1   \n",
       "92827            11          NaN            88             1             1   \n",
       "410203            6          NaN            88            11             1   \n",
       "43704            11          NaN            88             3             1   \n",
       "\n",
       "        v_grupo  v_lengua  v_clave  v_escolarida d_fecha_nac d_fecha_ocurr  \\\n",
       "524976       13       NaN     6821            99  1949-06-14    2006-12-10   \n",
       "341690       27       NaN     6821            99         NaN    2008-02-08   \n",
       "370292        6       9.0     6821            99  1922-08-25    2009-11-18   \n",
       "267720       11       NaN     6821             3  1930-06-14    2012-05-27   \n",
       "471224        2       NaN     6821            99  1975-06-21    2012-06-15   \n",
       "...         ...       ...      ...           ...         ...           ...   \n",
       "571904        2       2.0     6765             4  1935-02-19    2015-12-24   \n",
       "78614         4       NaN     6765             3  1929-11-15    2015-12-25   \n",
       "92827         6       2.0     6765             4  1926-10-02    2015-12-26   \n",
       "410203        4       9.0     6765             3  1930-06-29    2015-12-27   \n",
       "43704        10       2.0     6765             9  1953-11-18    2015-12-28   \n",
       "\n",
       "                                         t_programa_fondo  \\\n",
       "524976  programa estatal para el desarrollo de la indu...   \n",
       "341690  programa estatal para el desarrollo de la indu...   \n",
       "370292  programa estatal para el desarrollo de la indu...   \n",
       "267720  programa estatal para el desarrollo de la indu...   \n",
       "471224  programa estatal para el desarrollo de la indu...   \n",
       "...                                                   ...   \n",
       "571904  programa estatal para el desarrollo de la indu...   \n",
       "78614   programa estatal para el desarrollo de la indu...   \n",
       "92827   programa estatal para el desarrollo de la indu...   \n",
       "410203  programa estatal para el desarrollo de la indu...   \n",
       "43704   programa estatal para el desarrollo de la indu...   \n",
       "\n",
       "                                    t_nombre_del_proyecto  \\\n",
       "524976  fortalecimiento de capacidades empresariales p...   \n",
       "341690  fortalecimiento de capacidades empresariales p...   \n",
       "370292  fortalecimiento de capacidades empresariales p...   \n",
       "267720  fortalecimiento de capacidades empresariales p...   \n",
       "471224  fortalecimiento de capacidades empresariales p...   \n",
       "...                                                   ...   \n",
       "571904  creacion de un centro de desarrollo de aplicac...   \n",
       "78614   creacion de un centro de desarrollo de aplicac...   \n",
       "92827   creacion de un centro de desarrollo de aplicac...   \n",
       "410203  creacion de un centro de desarrollo de aplicac...   \n",
       "43704   creacion de un centro de desarrollo de aplicac...   \n",
       "\n",
       "         t_nombre_del_beneficiario  c_salario  \n",
       "524976  4 0 industrial cluster a c          0  \n",
       "341690  4 0 industrial cluster a c          0  \n",
       "370292  4 0 industrial cluster a c       3000  \n",
       "267720  4 0 industrial cluster a c       1500  \n",
       "471224  4 0 industrial cluster a c       2000  \n",
       "...                            ...        ...  \n",
       "571904        unosquare s a de c v       3000  \n",
       "78614         unosquare s a de c v          0  \n",
       "92827         unosquare s a de c v       2000  \n",
       "410203        unosquare s a de c v          0  \n",
       "43704         unosquare s a de c v       4000  \n",
       "\n",
       "[67094 rows x 26 columns]"
      ]
     },
     "execution_count": 278,
     "metadata": {},
     "output_type": "execute_result"
    }
   ],
   "source": [
    "df.iloc[aux]"
   ]
  },
  {
   "cell_type": "code",
   "execution_count": 82,
   "metadata": {
    "ExecuteTime": {
     "end_time": "2021-05-13T20:58:26.181254Z",
     "start_time": "2021-05-13T20:58:19.907144Z"
    },
    "id": "qokwd20BHaBO"
   },
   "outputs": [],
   "source": [
    "df=df.loc[df.notnull().sum(1).groupby([df[\"t_nombre_del_beneficiario\"],df[\"t_nombre_del_proyecto\"],df[\"t_programa_fondo\"],df[\"d_fecha_ocurr\"]]).idxmax()]"
   ]
  },
  {
   "cell_type": "code",
   "execution_count": 104,
   "metadata": {},
   "outputs": [],
   "source": [
    "df=df.loc[aux]"
   ]
  },
  {
   "cell_type": "code",
   "execution_count": 105,
   "metadata": {
    "ExecuteTime": {
     "end_time": "2021-05-13T20:58:26.186227Z",
     "start_time": "2021-05-13T20:58:26.182502Z"
    },
    "id": "3IcmQeRVHaBP",
    "outputId": "871cd122-6225-4a4d-a046-78f0265efbc8"
   },
   "outputs": [
    {
     "data": {
      "text/plain": [
       "(67094, 26)"
      ]
     },
     "execution_count": 105,
     "metadata": {},
     "output_type": "execute_result"
    }
   ],
   "source": [
    "df.shape"
   ]
  },
  {
   "cell_type": "code",
   "execution_count": 106,
   "metadata": {
    "ExecuteTime": {
     "end_time": "2021-05-13T20:58:26.300571Z",
     "start_time": "2021-05-13T20:58:26.187949Z"
    },
    "id": "u636Jz-0HaBP",
    "scrolled": true
   },
   "outputs": [],
   "source": [
    "df.reset_index(drop=True, inplace=True)"
   ]
  },
  {
   "cell_type": "code",
   "execution_count": 107,
   "metadata": {
    "ExecuteTime": {
     "end_time": "2021-05-13T20:58:26.377958Z",
     "start_time": "2021-05-13T20:58:26.305253Z"
    },
    "id": "98Lks2P7HaBQ"
   },
   "outputs": [],
   "source": [
    "n_duplicados=n_rows-df.shape[0]"
   ]
  },
  {
   "cell_type": "code",
   "execution_count": 108,
   "metadata": {
    "ExecuteTime": {
     "end_time": "2021-05-13T20:58:26.465429Z",
     "start_time": "2021-05-13T20:58:26.382564Z"
    },
    "id": "YuJFQhb_HaBR",
    "outputId": "d4b64f16-f87b-4ef5-e52d-99bf0a0a59d2",
    "scrolled": true
   },
   "outputs": [
    {
     "name": "stdout",
     "output_type": "stream",
     "text": [
      "Porcentaje de duplicados : 0.8976197124855609\n",
      "Número de duplicados : 588247\n"
     ]
    }
   ],
   "source": [
    "print(f\"Porcentaje de duplicados : {n_duplicados/n_rows}\")\n",
    "print(f\"Número de duplicados : {n_duplicados}\")"
   ]
  },
  {
   "cell_type": "code",
   "execution_count": 109,
   "metadata": {},
   "outputs": [
    {
     "data": {
      "text/plain": [
       "(67094, 26)"
      ]
     },
     "execution_count": 109,
     "metadata": {},
     "output_type": "execute_result"
    }
   ],
   "source": [
    "df.shape"
   ]
  },
  {
   "cell_type": "markdown",
   "metadata": {
    "id": "m8QBYPZsHaBS"
   },
   "source": [
    "##  <h1 style=\"color:#b38c6f\"> COMPLETITUD</h1>"
   ]
  },
  {
   "cell_type": "code",
   "execution_count": 110,
   "metadata": {
    "scrolled": false
   },
   "outputs": [
    {
     "data": {
      "text/plain": [
       "c_edad                           0\n",
       "c_minutos                        0\n",
       "c_monto_de_apoyo                 0\n",
       "c_horas                          0\n",
       "v_ent_regis                   4709\n",
       "v_mun_regis                      0\n",
       "v_ent_resid                      0\n",
       "v_mun_resid                      0\n",
       "v_ent_ocurr                  67094\n",
       "v_mun_ocurr                      0\n",
       "v_sexo                           0\n",
       "v_ocupacion                      0\n",
       "v_edo_civil                  67094\n",
       "v_lugar_ocur                     0\n",
       "v_sitio_ocur                     0\n",
       "v_nacionalid                     0\n",
       "v_grupo                          0\n",
       "v_lengua                     17979\n",
       "v_clave                          0\n",
       "v_escolarida                     0\n",
       "d_fecha_nac                   1203\n",
       "d_fecha_ocurr                    0\n",
       "t_programa_fondo                 0\n",
       "t_nombre_del_proyecto            0\n",
       "t_nombre_del_beneficiario        0\n",
       "c_salario                        0\n",
       "dtype: int64"
      ]
     },
     "execution_count": 110,
     "metadata": {},
     "output_type": "execute_result"
    }
   ],
   "source": [
    "df.isnull().sum(axis=0)"
   ]
  },
  {
   "cell_type": "code",
   "execution_count": 278,
   "metadata": {
    "ExecuteTime": {
     "end_time": "2022-04-29T21:48:54.215941Z",
     "start_time": "2022-04-29T21:48:51.828283Z"
    }
   },
   "outputs": [
    {
     "data": {
      "text/plain": [
       "<AxesSubplot:>"
      ]
     },
     "execution_count": 278,
     "metadata": {},
     "output_type": "execute_result"
    },
    {
     "data": {
      "image/png": "[encoded data removed]",
      "text/plain": [
       "<Figure size 1800x720 with 2 Axes>"
      ]
     },
     "metadata": {
      "needs_background": "light"
     },
     "output_type": "display_data"
    }
   ],
   "source": [
    "#pip3 install missingno\n",
    "import missingno as msno\n",
    "msno.matrix(df.iloc[:, :30])"
   ]
  },
  {
   "cell_type": "code",
   "execution_count": 280,
   "metadata": {
    "ExecuteTime": {
     "end_time": "2022-04-29T21:49:43.676703Z",
     "start_time": "2022-04-29T21:49:43.523206Z"
    },
    "id": "EHeLdzYfHaBS"
   },
   "outputs": [],
   "source": [
    "comple=pd.DataFrame(df.isnull().sum())"
   ]
  },
  {
   "cell_type": "code",
   "execution_count": 281,
   "metadata": {
    "ExecuteTime": {
     "end_time": "2022-04-29T21:49:43.886151Z",
     "start_time": "2022-04-29T21:49:43.880108Z"
    },
    "scrolled": true
   },
   "outputs": [
    {
     "data": {
      "text/html": [
       "<div>\n",
       "<style scoped>\n",
       "    .dataframe tbody tr th:only-of-type {\n",
       "        vertical-align: middle;\n",
       "    }\n",
       "\n",
       "    .dataframe tbody tr th {\n",
       "        vertical-align: top;\n",
       "    }\n",
       "\n",
       "    .dataframe thead th {\n",
       "        text-align: right;\n",
       "    }\n",
       "</style>\n",
       "<table border=\"1\" class=\"dataframe\">\n",
       "  <thead>\n",
       "    <tr style=\"text-align: right;\">\n",
       "      <th></th>\n",
       "      <th>0</th>\n",
       "    </tr>\n",
       "  </thead>\n",
       "  <tbody>\n",
       "    <tr>\n",
       "      <th>c_edad</th>\n",
       "      <td>0</td>\n",
       "    </tr>\n",
       "    <tr>\n",
       "      <th>c_minutos</th>\n",
       "      <td>0</td>\n",
       "    </tr>\n",
       "    <tr>\n",
       "      <th>c_monto_de_apoyo</th>\n",
       "      <td>2</td>\n",
       "    </tr>\n",
       "    <tr>\n",
       "      <th>c_horas</th>\n",
       "      <td>0</td>\n",
       "    </tr>\n",
       "    <tr>\n",
       "      <th>v_ent_regis</th>\n",
       "      <td>196392</td>\n",
       "    </tr>\n",
       "    <tr>\n",
       "      <th>v_mun_regis</th>\n",
       "      <td>0</td>\n",
       "    </tr>\n",
       "    <tr>\n",
       "      <th>v_ent_resid</th>\n",
       "      <td>0</td>\n",
       "    </tr>\n",
       "    <tr>\n",
       "      <th>v_mun_resid</th>\n",
       "      <td>0</td>\n",
       "    </tr>\n",
       "    <tr>\n",
       "      <th>v_ent_ocurr</th>\n",
       "      <td>655333</td>\n",
       "    </tr>\n",
       "    <tr>\n",
       "      <th>v_mun_ocurr</th>\n",
       "      <td>0</td>\n",
       "    </tr>\n",
       "    <tr>\n",
       "      <th>v_sexo</th>\n",
       "      <td>2</td>\n",
       "    </tr>\n",
       "    <tr>\n",
       "      <th>v_ocupacion</th>\n",
       "      <td>0</td>\n",
       "    </tr>\n",
       "    <tr>\n",
       "      <th>v_edo_civil</th>\n",
       "      <td>655333</td>\n",
       "    </tr>\n",
       "    <tr>\n",
       "      <th>v_lugar_ocur</th>\n",
       "      <td>0</td>\n",
       "    </tr>\n",
       "    <tr>\n",
       "      <th>v_sitio_ocur</th>\n",
       "      <td>0</td>\n",
       "    </tr>\n",
       "    <tr>\n",
       "      <th>v_nacionalid</th>\n",
       "      <td>0</td>\n",
       "    </tr>\n",
       "    <tr>\n",
       "      <th>v_grupo</th>\n",
       "      <td>0</td>\n",
       "    </tr>\n",
       "    <tr>\n",
       "      <th>v_lengua</th>\n",
       "      <td>504169</td>\n",
       "    </tr>\n",
       "    <tr>\n",
       "      <th>v_clave</th>\n",
       "      <td>0</td>\n",
       "    </tr>\n",
       "    <tr>\n",
       "      <th>v_escolarida</th>\n",
       "      <td>0</td>\n",
       "    </tr>\n",
       "    <tr>\n",
       "      <th>d_fecha_nac</th>\n",
       "      <td>10378</td>\n",
       "    </tr>\n",
       "    <tr>\n",
       "      <th>d_fecha_ocurr</th>\n",
       "      <td>142</td>\n",
       "    </tr>\n",
       "    <tr>\n",
       "      <th>t_programa_fondo</th>\n",
       "      <td>0</td>\n",
       "    </tr>\n",
       "    <tr>\n",
       "      <th>t_nombre_del_proyecto</th>\n",
       "      <td>0</td>\n",
       "    </tr>\n",
       "    <tr>\n",
       "      <th>t_nombre_del_beneficiario</th>\n",
       "      <td>0</td>\n",
       "    </tr>\n",
       "    <tr>\n",
       "      <th>c_salario</th>\n",
       "      <td>0</td>\n",
       "    </tr>\n",
       "  </tbody>\n",
       "</table>\n",
       "</div>"
      ],
      "text/plain": [
       "                                0\n",
       "c_edad                          0\n",
       "c_minutos                       0\n",
       "c_monto_de_apoyo                2\n",
       "c_horas                         0\n",
       "v_ent_regis                196392\n",
       "v_mun_regis                     0\n",
       "v_ent_resid                     0\n",
       "v_mun_resid                     0\n",
       "v_ent_ocurr                655333\n",
       "v_mun_ocurr                     0\n",
       "v_sexo                          2\n",
       "v_ocupacion                     0\n",
       "v_edo_civil                655333\n",
       "v_lugar_ocur                    0\n",
       "v_sitio_ocur                    0\n",
       "v_nacionalid                    0\n",
       "v_grupo                         0\n",
       "v_lengua                   504169\n",
       "v_clave                         0\n",
       "v_escolarida                    0\n",
       "d_fecha_nac                 10378\n",
       "d_fecha_ocurr                 142\n",
       "t_programa_fondo                0\n",
       "t_nombre_del_proyecto           0\n",
       "t_nombre_del_beneficiario       0\n",
       "c_salario                       0"
      ]
     },
     "execution_count": 281,
     "metadata": {},
     "output_type": "execute_result"
    }
   ],
   "source": [
    "comple"
   ]
  },
  {
   "cell_type": "code",
   "execution_count": 282,
   "metadata": {
    "ExecuteTime": {
     "end_time": "2022-04-29T21:49:47.186246Z",
     "start_time": "2022-04-29T21:49:47.180514Z"
    },
    "id": "xCUzCTgTHaBT"
   },
   "outputs": [],
   "source": [
    "comple.reset_index(inplace=True)\n",
    "\n",
    "comple=comple.rename(columns={\"index\":\"columna\",0:\"total\"})\n",
    "\n",
    "comple[\"completitud\"]=(1-comple[\"total\"]/df.shape[0])*100\n",
    "\n",
    "comple=comple.sort_values(by=\"completitud\",ascending=True)\n",
    "\n",
    "comple.reset_index(drop=True,inplace=True)"
   ]
  },
  {
   "cell_type": "code",
   "execution_count": 283,
   "metadata": {
    "ExecuteTime": {
     "end_time": "2022-04-29T21:49:47.482143Z",
     "start_time": "2022-04-29T21:49:47.472978Z"
    },
    "scrolled": true
   },
   "outputs": [
    {
     "data": {
      "text/html": [
       "<div>\n",
       "<style scoped>\n",
       "    .dataframe tbody tr th:only-of-type {\n",
       "        vertical-align: middle;\n",
       "    }\n",
       "\n",
       "    .dataframe tbody tr th {\n",
       "        vertical-align: top;\n",
       "    }\n",
       "\n",
       "    .dataframe thead th {\n",
       "        text-align: right;\n",
       "    }\n",
       "</style>\n",
       "<table border=\"1\" class=\"dataframe\">\n",
       "  <thead>\n",
       "    <tr style=\"text-align: right;\">\n",
       "      <th></th>\n",
       "      <th>columna</th>\n",
       "      <th>total</th>\n",
       "      <th>completitud</th>\n",
       "    </tr>\n",
       "  </thead>\n",
       "  <tbody>\n",
       "    <tr>\n",
       "      <th>0</th>\n",
       "      <td>v_edo_civil</td>\n",
       "      <td>655333</td>\n",
       "      <td>0.000000</td>\n",
       "    </tr>\n",
       "    <tr>\n",
       "      <th>1</th>\n",
       "      <td>v_ent_ocurr</td>\n",
       "      <td>655333</td>\n",
       "      <td>0.000000</td>\n",
       "    </tr>\n",
       "    <tr>\n",
       "      <th>2</th>\n",
       "      <td>v_lengua</td>\n",
       "      <td>504169</td>\n",
       "      <td>23.066746</td>\n",
       "    </tr>\n",
       "    <tr>\n",
       "      <th>3</th>\n",
       "      <td>v_ent_regis</td>\n",
       "      <td>196392</td>\n",
       "      <td>70.031724</td>\n",
       "    </tr>\n",
       "    <tr>\n",
       "      <th>4</th>\n",
       "      <td>d_fecha_nac</td>\n",
       "      <td>10378</td>\n",
       "      <td>98.416378</td>\n",
       "    </tr>\n",
       "    <tr>\n",
       "      <th>5</th>\n",
       "      <td>d_fecha_ocurr</td>\n",
       "      <td>142</td>\n",
       "      <td>99.978332</td>\n",
       "    </tr>\n",
       "    <tr>\n",
       "      <th>6</th>\n",
       "      <td>c_monto_de_apoyo</td>\n",
       "      <td>2</td>\n",
       "      <td>99.999695</td>\n",
       "    </tr>\n",
       "    <tr>\n",
       "      <th>7</th>\n",
       "      <td>v_sexo</td>\n",
       "      <td>2</td>\n",
       "      <td>99.999695</td>\n",
       "    </tr>\n",
       "    <tr>\n",
       "      <th>8</th>\n",
       "      <td>t_nombre_del_proyecto</td>\n",
       "      <td>0</td>\n",
       "      <td>100.000000</td>\n",
       "    </tr>\n",
       "    <tr>\n",
       "      <th>9</th>\n",
       "      <td>t_programa_fondo</td>\n",
       "      <td>0</td>\n",
       "      <td>100.000000</td>\n",
       "    </tr>\n",
       "    <tr>\n",
       "      <th>10</th>\n",
       "      <td>v_escolarida</td>\n",
       "      <td>0</td>\n",
       "      <td>100.000000</td>\n",
       "    </tr>\n",
       "    <tr>\n",
       "      <th>11</th>\n",
       "      <td>v_clave</td>\n",
       "      <td>0</td>\n",
       "      <td>100.000000</td>\n",
       "    </tr>\n",
       "    <tr>\n",
       "      <th>12</th>\n",
       "      <td>v_grupo</td>\n",
       "      <td>0</td>\n",
       "      <td>100.000000</td>\n",
       "    </tr>\n",
       "    <tr>\n",
       "      <th>13</th>\n",
       "      <td>v_nacionalid</td>\n",
       "      <td>0</td>\n",
       "      <td>100.000000</td>\n",
       "    </tr>\n",
       "    <tr>\n",
       "      <th>14</th>\n",
       "      <td>c_edad</td>\n",
       "      <td>0</td>\n",
       "      <td>100.000000</td>\n",
       "    </tr>\n",
       "    <tr>\n",
       "      <th>15</th>\n",
       "      <td>v_lugar_ocur</td>\n",
       "      <td>0</td>\n",
       "      <td>100.000000</td>\n",
       "    </tr>\n",
       "    <tr>\n",
       "      <th>16</th>\n",
       "      <td>t_nombre_del_beneficiario</td>\n",
       "      <td>0</td>\n",
       "      <td>100.000000</td>\n",
       "    </tr>\n",
       "    <tr>\n",
       "      <th>17</th>\n",
       "      <td>v_ocupacion</td>\n",
       "      <td>0</td>\n",
       "      <td>100.000000</td>\n",
       "    </tr>\n",
       "    <tr>\n",
       "      <th>18</th>\n",
       "      <td>v_mun_ocurr</td>\n",
       "      <td>0</td>\n",
       "      <td>100.000000</td>\n",
       "    </tr>\n",
       "    <tr>\n",
       "      <th>19</th>\n",
       "      <td>v_mun_resid</td>\n",
       "      <td>0</td>\n",
       "      <td>100.000000</td>\n",
       "    </tr>\n",
       "    <tr>\n",
       "      <th>20</th>\n",
       "      <td>v_ent_resid</td>\n",
       "      <td>0</td>\n",
       "      <td>100.000000</td>\n",
       "    </tr>\n",
       "    <tr>\n",
       "      <th>21</th>\n",
       "      <td>v_mun_regis</td>\n",
       "      <td>0</td>\n",
       "      <td>100.000000</td>\n",
       "    </tr>\n",
       "    <tr>\n",
       "      <th>22</th>\n",
       "      <td>c_horas</td>\n",
       "      <td>0</td>\n",
       "      <td>100.000000</td>\n",
       "    </tr>\n",
       "    <tr>\n",
       "      <th>23</th>\n",
       "      <td>c_minutos</td>\n",
       "      <td>0</td>\n",
       "      <td>100.000000</td>\n",
       "    </tr>\n",
       "    <tr>\n",
       "      <th>24</th>\n",
       "      <td>v_sitio_ocur</td>\n",
       "      <td>0</td>\n",
       "      <td>100.000000</td>\n",
       "    </tr>\n",
       "    <tr>\n",
       "      <th>25</th>\n",
       "      <td>c_salario</td>\n",
       "      <td>0</td>\n",
       "      <td>100.000000</td>\n",
       "    </tr>\n",
       "  </tbody>\n",
       "</table>\n",
       "</div>"
      ],
      "text/plain": [
       "                      columna   total  completitud\n",
       "0                 v_edo_civil  655333     0.000000\n",
       "1                 v_ent_ocurr  655333     0.000000\n",
       "2                    v_lengua  504169    23.066746\n",
       "3                 v_ent_regis  196392    70.031724\n",
       "4                 d_fecha_nac   10378    98.416378\n",
       "5               d_fecha_ocurr     142    99.978332\n",
       "6            c_monto_de_apoyo       2    99.999695\n",
       "7                      v_sexo       2    99.999695\n",
       "8       t_nombre_del_proyecto       0   100.000000\n",
       "9            t_programa_fondo       0   100.000000\n",
       "10               v_escolarida       0   100.000000\n",
       "11                    v_clave       0   100.000000\n",
       "12                    v_grupo       0   100.000000\n",
       "13               v_nacionalid       0   100.000000\n",
       "14                     c_edad       0   100.000000\n",
       "15               v_lugar_ocur       0   100.000000\n",
       "16  t_nombre_del_beneficiario       0   100.000000\n",
       "17                v_ocupacion       0   100.000000\n",
       "18                v_mun_ocurr       0   100.000000\n",
       "19                v_mun_resid       0   100.000000\n",
       "20                v_ent_resid       0   100.000000\n",
       "21                v_mun_regis       0   100.000000\n",
       "22                    c_horas       0   100.000000\n",
       "23                  c_minutos       0   100.000000\n",
       "24               v_sitio_ocur       0   100.000000\n",
       "25                  c_salario       0   100.000000"
      ]
     },
     "execution_count": 283,
     "metadata": {},
     "output_type": "execute_result"
    }
   ],
   "source": [
    "comple"
   ]
  },
  {
   "cell_type": "code",
   "execution_count": 119,
   "metadata": {
    "ExecuteTime": {
     "end_time": "2021-05-13T20:58:27.123315Z",
     "start_time": "2021-05-13T20:58:27.037608Z"
    },
    "id": "z3L78p5rHaBV"
   },
   "outputs": [],
   "source": [
    "def completitud(df):\n",
    "    comple=pd.DataFrame(df.isnull().sum())\n",
    "    comple.reset_index(inplace=True)\n",
    "    comple=comple.rename(columns={\"index\":\"columna\",0:\"total\"})\n",
    "    comple[\"completitud\"]=(1-comple[\"total\"]/df.shape[0])*100\n",
    "    comple=comple.sort_values(by=\"completitud\",ascending=True)\n",
    "    comple.reset_index(drop=True,inplace=True)\n",
    "    return comple"
   ]
  },
  {
   "cell_type": "code",
   "execution_count": 121,
   "metadata": {},
   "outputs": [
    {
     "data": {
      "text/plain": [
       "2.0    0.762883\n",
       "9.0    0.168849\n",
       "1.0    0.068268\n",
       "Name: v_lengua, dtype: float64"
      ]
     },
     "execution_count": 121,
     "metadata": {},
     "output_type": "execute_result"
    }
   ],
   "source": [
    "df[\"v_lengua\"].value_counts(1)"
   ]
  },
  {
   "cell_type": "code",
   "execution_count": 624,
   "metadata": {
    "ExecuteTime": {
     "end_time": "2021-05-13T20:58:27.784258Z",
     "start_time": "2021-05-13T20:58:27.128561Z"
    },
    "id": "SENXZaQvHaBV",
    "outputId": "1e4fc26a-2587-4030-c040-4c95253d60a8",
    "scrolled": true
   },
   "outputs": [
    {
     "data": {
      "text/html": [
       "<div>\n",
       "<style scoped>\n",
       "    .dataframe tbody tr th:only-of-type {\n",
       "        vertical-align: middle;\n",
       "    }\n",
       "\n",
       "    .dataframe tbody tr th {\n",
       "        vertical-align: top;\n",
       "    }\n",
       "\n",
       "    .dataframe thead th {\n",
       "        text-align: right;\n",
       "    }\n",
       "</style>\n",
       "<table border=\"1\" class=\"dataframe\">\n",
       "  <thead>\n",
       "    <tr style=\"text-align: right;\">\n",
       "      <th></th>\n",
       "      <th>columna</th>\n",
       "      <th>total</th>\n",
       "      <th>completitud</th>\n",
       "    </tr>\n",
       "  </thead>\n",
       "  <tbody>\n",
       "    <tr>\n",
       "      <th>0</th>\n",
       "      <td>v_edo_civil</td>\n",
       "      <td>67094</td>\n",
       "      <td>0.000000</td>\n",
       "    </tr>\n",
       "    <tr>\n",
       "      <th>1</th>\n",
       "      <td>v_ent_ocurr</td>\n",
       "      <td>67094</td>\n",
       "      <td>0.000000</td>\n",
       "    </tr>\n",
       "    <tr>\n",
       "      <th>2</th>\n",
       "      <td>v_lengua</td>\n",
       "      <td>17979</td>\n",
       "      <td>73.203267</td>\n",
       "    </tr>\n",
       "    <tr>\n",
       "      <th>3</th>\n",
       "      <td>v_ent_regis</td>\n",
       "      <td>4709</td>\n",
       "      <td>92.981489</td>\n",
       "    </tr>\n",
       "    <tr>\n",
       "      <th>4</th>\n",
       "      <td>d_fecha_nac</td>\n",
       "      <td>1203</td>\n",
       "      <td>98.206993</td>\n",
       "    </tr>\n",
       "    <tr>\n",
       "      <th>5</th>\n",
       "      <td>t_nombre_del_proyecto</td>\n",
       "      <td>0</td>\n",
       "      <td>100.000000</td>\n",
       "    </tr>\n",
       "    <tr>\n",
       "      <th>6</th>\n",
       "      <td>t_programa_fondo</td>\n",
       "      <td>0</td>\n",
       "      <td>100.000000</td>\n",
       "    </tr>\n",
       "    <tr>\n",
       "      <th>7</th>\n",
       "      <td>d_fecha_ocurr</td>\n",
       "      <td>0</td>\n",
       "      <td>100.000000</td>\n",
       "    </tr>\n",
       "    <tr>\n",
       "      <th>8</th>\n",
       "      <td>v_escolarida</td>\n",
       "      <td>0</td>\n",
       "      <td>100.000000</td>\n",
       "    </tr>\n",
       "    <tr>\n",
       "      <th>9</th>\n",
       "      <td>v_clave</td>\n",
       "      <td>0</td>\n",
       "      <td>100.000000</td>\n",
       "    </tr>\n",
       "    <tr>\n",
       "      <th>10</th>\n",
       "      <td>v_grupo</td>\n",
       "      <td>0</td>\n",
       "      <td>100.000000</td>\n",
       "    </tr>\n",
       "    <tr>\n",
       "      <th>11</th>\n",
       "      <td>v_nacionalid</td>\n",
       "      <td>0</td>\n",
       "      <td>100.000000</td>\n",
       "    </tr>\n",
       "    <tr>\n",
       "      <th>12</th>\n",
       "      <td>v_sitio_ocur</td>\n",
       "      <td>0</td>\n",
       "      <td>100.000000</td>\n",
       "    </tr>\n",
       "    <tr>\n",
       "      <th>13</th>\n",
       "      <td>c_edad</td>\n",
       "      <td>0</td>\n",
       "      <td>100.000000</td>\n",
       "    </tr>\n",
       "    <tr>\n",
       "      <th>14</th>\n",
       "      <td>t_nombre_del_beneficiario</td>\n",
       "      <td>0</td>\n",
       "      <td>100.000000</td>\n",
       "    </tr>\n",
       "    <tr>\n",
       "      <th>15</th>\n",
       "      <td>v_ocupacion</td>\n",
       "      <td>0</td>\n",
       "      <td>100.000000</td>\n",
       "    </tr>\n",
       "    <tr>\n",
       "      <th>16</th>\n",
       "      <td>v_sexo</td>\n",
       "      <td>0</td>\n",
       "      <td>100.000000</td>\n",
       "    </tr>\n",
       "    <tr>\n",
       "      <th>17</th>\n",
       "      <td>v_mun_ocurr</td>\n",
       "      <td>0</td>\n",
       "      <td>100.000000</td>\n",
       "    </tr>\n",
       "    <tr>\n",
       "      <th>18</th>\n",
       "      <td>v_mun_resid</td>\n",
       "      <td>0</td>\n",
       "      <td>100.000000</td>\n",
       "    </tr>\n",
       "    <tr>\n",
       "      <th>19</th>\n",
       "      <td>v_ent_resid</td>\n",
       "      <td>0</td>\n",
       "      <td>100.000000</td>\n",
       "    </tr>\n",
       "    <tr>\n",
       "      <th>20</th>\n",
       "      <td>v_mun_regis</td>\n",
       "      <td>0</td>\n",
       "      <td>100.000000</td>\n",
       "    </tr>\n",
       "    <tr>\n",
       "      <th>21</th>\n",
       "      <td>c_horas</td>\n",
       "      <td>0</td>\n",
       "      <td>100.000000</td>\n",
       "    </tr>\n",
       "    <tr>\n",
       "      <th>22</th>\n",
       "      <td>c_monto_de_apoyo</td>\n",
       "      <td>0</td>\n",
       "      <td>100.000000</td>\n",
       "    </tr>\n",
       "    <tr>\n",
       "      <th>23</th>\n",
       "      <td>c_minutos</td>\n",
       "      <td>0</td>\n",
       "      <td>100.000000</td>\n",
       "    </tr>\n",
       "    <tr>\n",
       "      <th>24</th>\n",
       "      <td>v_lugar_ocur</td>\n",
       "      <td>0</td>\n",
       "      <td>100.000000</td>\n",
       "    </tr>\n",
       "    <tr>\n",
       "      <th>25</th>\n",
       "      <td>c_salario</td>\n",
       "      <td>0</td>\n",
       "      <td>100.000000</td>\n",
       "    </tr>\n",
       "  </tbody>\n",
       "</table>\n",
       "</div>"
      ],
      "text/plain": [
       "                      columna  total  completitud\n",
       "0                 v_edo_civil  67094     0.000000\n",
       "1                 v_ent_ocurr  67094     0.000000\n",
       "2                    v_lengua  17979    73.203267\n",
       "3                 v_ent_regis   4709    92.981489\n",
       "4                 d_fecha_nac   1203    98.206993\n",
       "5       t_nombre_del_proyecto      0   100.000000\n",
       "6            t_programa_fondo      0   100.000000\n",
       "7               d_fecha_ocurr      0   100.000000\n",
       "8                v_escolarida      0   100.000000\n",
       "9                     v_clave      0   100.000000\n",
       "10                    v_grupo      0   100.000000\n",
       "11               v_nacionalid      0   100.000000\n",
       "12               v_sitio_ocur      0   100.000000\n",
       "13                     c_edad      0   100.000000\n",
       "14  t_nombre_del_beneficiario      0   100.000000\n",
       "15                v_ocupacion      0   100.000000\n",
       "16                     v_sexo      0   100.000000\n",
       "17                v_mun_ocurr      0   100.000000\n",
       "18                v_mun_resid      0   100.000000\n",
       "19                v_ent_resid      0   100.000000\n",
       "20                v_mun_regis      0   100.000000\n",
       "21                    c_horas      0   100.000000\n",
       "22           c_monto_de_apoyo      0   100.000000\n",
       "23                  c_minutos      0   100.000000\n",
       "24               v_lugar_ocur      0   100.000000\n",
       "25                  c_salario      0   100.000000"
      ]
     },
     "execution_count": 624,
     "metadata": {},
     "output_type": "execute_result"
    }
   ],
   "source": [
    "#Las variables deben tener arriba de un 80% de completitud para ser admitibles a imputación\n",
    "comple"
   ]
  },
  {
   "cell_type": "code",
   "execution_count": 122,
   "metadata": {
    "ExecuteTime": {
     "end_time": "2021-05-13T20:58:27.940303Z",
     "start_time": "2021-05-13T20:58:27.787434Z"
    },
    "id": "pLbeRblfHaBW"
   },
   "outputs": [],
   "source": [
    "df.drop(columns=[\"v_lengua\",\"v_ent_ocurr\",\"v_ent_ocurr\"],inplace=True)"
   ]
  },
  {
   "cell_type": "code",
   "execution_count": 123,
   "metadata": {
    "ExecuteTime": {
     "end_time": "2021-05-13T20:58:28.014499Z",
     "start_time": "2021-05-13T20:58:27.941861Z"
    },
    "id": "x1w3fSBvHaBW",
    "outputId": "a72cc922-9729-4a23-97a9-518d4c8e0810"
   },
   "outputs": [
    {
     "data": {
      "text/plain": [
       "(67094, 24)"
      ]
     },
     "execution_count": 123,
     "metadata": {},
     "output_type": "execute_result"
    }
   ],
   "source": [
    "df.shape"
   ]
  },
  {
   "cell_type": "markdown",
   "metadata": {
    "id": "O-je8lGrHaBX"
   },
   "source": [
    "##  <h1 style=\"color:#b38c6f\"> PRECISION\\ORDEN</h1>"
   ]
  },
  {
   "cell_type": "markdown",
   "metadata": {},
   "source": [
    "### Variables Unitarias"
   ]
  },
  {
   "cell_type": "markdown",
   "metadata": {},
   "source": [
    "- Las variables que concentran la mayoria de registros en una sola categoria se denominan variables unitarias y son variables que usualemnte no aportan valor"
   ]
  },
  {
   "cell_type": "markdown",
   "metadata": {},
   "source": [
    "**Repetitivo y poco informativo**\n",
    "- REPETITIVO : Una columna puede tener muchas observaciones con el mismo valor. Cuando un porcentaje extremadamente alto de la columna tiene un valor repetitivo, debemos investigar si dicha columna proporciona información valiosa. (Variables UNITARIAS)\n",
    "- IRRELEVANTE : Una vez más, los datos deben proporcionar información valiosa para el proyecto. Si las características no están relacionadas con la pregunta que estamos tratando de resolver, son irrelevantes. Por ejemplo, una función que registre la temperatura en los EE. UU. no proporcionaría información directa sobre los precios de la vivienda en Rusia."
   ]
  },
  {
   "cell_type": "code",
   "execution_count": 319,
   "metadata": {
    "ExecuteTime": {
     "end_time": "2022-04-29T22:06:42.519091Z",
     "start_time": "2022-04-29T22:06:42.516261Z"
    },
    "scrolled": true
   },
   "outputs": [],
   "source": [
    "def unitarias(df,col):\n",
    "    result=pd.DataFrame(df[col].value_counts(1))\n",
    "    if result.shape[0]>0:\n",
    "        if (result[col].values[0]>.91) :\n",
    "            print(f\"{col} -- VARIABLE UNITARIA\")"
   ]
  },
  {
   "cell_type": "code",
   "execution_count": 320,
   "metadata": {
    "ExecuteTime": {
     "end_time": "2022-04-29T22:06:42.859333Z",
     "start_time": "2022-04-29T22:06:42.765882Z"
    }
   },
   "outputs": [
    {
     "name": "stdout",
     "output_type": "stream",
     "text": [
      "v_nacionalid -- VARIABLE UNITARIA\n"
     ]
    }
   ],
   "source": [
    "for col in df.filter(like=\"v_\").columns:\n",
    "    unitarias(df,col)"
   ]
  },
  {
   "cell_type": "code",
   "execution_count": null,
   "metadata": {},
   "outputs": [],
   "source": [
    "df.drop(columns=[\"v_nacionalidad\"],inplace=True)"
   ]
  },
  {
   "cell_type": "markdown",
   "metadata": {
    "id": "v2puip87HaBX"
   },
   "source": [
    "### Categoricas"
   ]
  },
  {
   "cell_type": "code",
   "execution_count": 441,
   "metadata": {},
   "outputs": [
    {
     "data": {
      "text/html": [
       "<div>\n",
       "<style scoped>\n",
       "    .dataframe tbody tr th:only-of-type {\n",
       "        vertical-align: middle;\n",
       "    }\n",
       "\n",
       "    .dataframe tbody tr th {\n",
       "        vertical-align: top;\n",
       "    }\n",
       "\n",
       "    .dataframe thead th {\n",
       "        text-align: right;\n",
       "    }\n",
       "</style>\n",
       "<table border=\"1\" class=\"dataframe\">\n",
       "  <thead>\n",
       "    <tr style=\"text-align: right;\">\n",
       "      <th></th>\n",
       "      <th>CVE</th>\n",
       "      <th>DESCRIP</th>\n",
       "    </tr>\n",
       "  </thead>\n",
       "  <tbody>\n",
       "    <tr>\n",
       "      <th>0</th>\n",
       "      <td>1</td>\n",
       "      <td>Hombres</td>\n",
       "    </tr>\n",
       "    <tr>\n",
       "      <th>1</th>\n",
       "      <td>2</td>\n",
       "      <td>Mujeres</td>\n",
       "    </tr>\n",
       "    <tr>\n",
       "      <th>2</th>\n",
       "      <td>9</td>\n",
       "      <td>Sexo no especificado</td>\n",
       "    </tr>\n",
       "  </tbody>\n",
       "</table>\n",
       "</div>"
      ],
      "text/plain": [
       "   CVE               DESCRIP\n",
       "0    1               Hombres\n",
       "1    2               Mujeres\n",
       "2    9  Sexo no especificado"
      ]
     },
     "execution_count": 441,
     "metadata": {},
     "output_type": "execute_result"
    }
   ],
   "source": [
    "sexo"
   ]
  },
  {
   "cell_type": "code",
   "execution_count": 309,
   "metadata": {
    "ExecuteTime": {
     "end_time": "2022-04-29T21:59:12.766192Z",
     "start_time": "2022-04-29T21:59:12.762130Z"
    }
   },
   "outputs": [],
   "source": [
    "def categoricas(df,col):\n",
    "    result=pd.DataFrame(df[col].value_counts(1))\n",
    "    if result.shape[0]>0:\n",
    "        if (result[col].values[0]>.91) :\n",
    "            print(f\"{col} -- VARIABLE UNITARIA\")\n",
    "        result[col]=result[col].map(lambda x:str(round(x*100,2))+\"%\")\n",
    "        result.reset_index(inplace=True)\n",
    "        result.columns=[col+\"_valores\",\"%_aparicion\"]\n",
    "    return result"
   ]
  },
  {
   "cell_type": "code",
   "execution_count": 310,
   "metadata": {
    "ExecuteTime": {
     "end_time": "2022-04-29T21:59:13.158866Z",
     "start_time": "2022-04-29T21:59:13.001546Z"
    },
    "id": "R9BI9-rIHaBX",
    "outputId": "11b20089-4b25-49bb-e6b2-5ba3cd571266",
    "scrolled": true
   },
   "outputs": [
    {
     "data": {
      "text/html": [
       "<div>\n",
       "<style scoped>\n",
       "    .dataframe tbody tr th:only-of-type {\n",
       "        vertical-align: middle;\n",
       "    }\n",
       "\n",
       "    .dataframe tbody tr th {\n",
       "        vertical-align: top;\n",
       "    }\n",
       "\n",
       "    .dataframe thead th {\n",
       "        text-align: right;\n",
       "    }\n",
       "</style>\n",
       "<table border=\"1\" class=\"dataframe\">\n",
       "  <thead>\n",
       "    <tr style=\"text-align: right;\">\n",
       "      <th></th>\n",
       "      <th>v_ent_regis_valores</th>\n",
       "      <th>%_aparicion</th>\n",
       "    </tr>\n",
       "  </thead>\n",
       "  <tbody>\n",
       "    <tr>\n",
       "      <th>0</th>\n",
       "      <td>9.0</td>\n",
       "      <td>10.82%</td>\n",
       "    </tr>\n",
       "    <tr>\n",
       "      <th>1</th>\n",
       "      <td>15.0</td>\n",
       "      <td>10.47%</td>\n",
       "    </tr>\n",
       "    <tr>\n",
       "      <th>2</th>\n",
       "      <td>30.0</td>\n",
       "      <td>7.84%</td>\n",
       "    </tr>\n",
       "    <tr>\n",
       "      <th>3</th>\n",
       "      <td>14.0</td>\n",
       "      <td>6.7%</td>\n",
       "    </tr>\n",
       "    <tr>\n",
       "      <th>4</th>\n",
       "      <td>21.0</td>\n",
       "      <td>5.25%</td>\n",
       "    </tr>\n",
       "    <tr>\n",
       "      <th>5</th>\n",
       "      <td>11.0</td>\n",
       "      <td>4.61%</td>\n",
       "    </tr>\n",
       "    <tr>\n",
       "      <th>6</th>\n",
       "      <td>7.0</td>\n",
       "      <td>3.97%</td>\n",
       "    </tr>\n",
       "    <tr>\n",
       "      <th>7</th>\n",
       "      <td>19.0</td>\n",
       "      <td>3.91%</td>\n",
       "    </tr>\n",
       "    <tr>\n",
       "      <th>8</th>\n",
       "      <td>16.0</td>\n",
       "      <td>3.77%</td>\n",
       "    </tr>\n",
       "    <tr>\n",
       "      <th>9</th>\n",
       "      <td>20.0</td>\n",
       "      <td>3.64%</td>\n",
       "    </tr>\n",
       "    <tr>\n",
       "      <th>10</th>\n",
       "      <td>8.0</td>\n",
       "      <td>3.41%</td>\n",
       "    </tr>\n",
       "    <tr>\n",
       "      <th>11</th>\n",
       "      <td>12.0</td>\n",
       "      <td>3.09%</td>\n",
       "    </tr>\n",
       "    <tr>\n",
       "      <th>12</th>\n",
       "      <td>28.0</td>\n",
       "      <td>2.9%</td>\n",
       "    </tr>\n",
       "    <tr>\n",
       "      <th>13</th>\n",
       "      <td>2.0</td>\n",
       "      <td>2.67%</td>\n",
       "    </tr>\n",
       "    <tr>\n",
       "      <th>14</th>\n",
       "      <td>26.0</td>\n",
       "      <td>2.53%</td>\n",
       "    </tr>\n",
       "    <tr>\n",
       "      <th>15</th>\n",
       "      <td>5.0</td>\n",
       "      <td>2.45%</td>\n",
       "    </tr>\n",
       "    <tr>\n",
       "      <th>16</th>\n",
       "      <td>25.0</td>\n",
       "      <td>2.33%</td>\n",
       "    </tr>\n",
       "    <tr>\n",
       "      <th>17</th>\n",
       "      <td>13.0</td>\n",
       "      <td>2.18%</td>\n",
       "    </tr>\n",
       "    <tr>\n",
       "      <th>18</th>\n",
       "      <td>24.0</td>\n",
       "      <td>2.17%</td>\n",
       "    </tr>\n",
       "    <tr>\n",
       "      <th>19</th>\n",
       "      <td>31.0</td>\n",
       "      <td>2.09%</td>\n",
       "    </tr>\n",
       "    <tr>\n",
       "      <th>20</th>\n",
       "      <td>27.0</td>\n",
       "      <td>2.02%</td>\n",
       "    </tr>\n",
       "    <tr>\n",
       "      <th>21</th>\n",
       "      <td>17.0</td>\n",
       "      <td>1.7%</td>\n",
       "    </tr>\n",
       "    <tr>\n",
       "      <th>22</th>\n",
       "      <td>22.0</td>\n",
       "      <td>1.42%</td>\n",
       "    </tr>\n",
       "    <tr>\n",
       "      <th>23</th>\n",
       "      <td>32.0</td>\n",
       "      <td>1.34%</td>\n",
       "    </tr>\n",
       "    <tr>\n",
       "      <th>24</th>\n",
       "      <td>10.0</td>\n",
       "      <td>1.31%</td>\n",
       "    </tr>\n",
       "    <tr>\n",
       "      <th>25</th>\n",
       "      <td>18.0</td>\n",
       "      <td>0.9%</td>\n",
       "    </tr>\n",
       "    <tr>\n",
       "      <th>26</th>\n",
       "      <td>29.0</td>\n",
       "      <td>0.89%</td>\n",
       "    </tr>\n",
       "    <tr>\n",
       "      <th>27</th>\n",
       "      <td>1.0</td>\n",
       "      <td>0.88%</td>\n",
       "    </tr>\n",
       "    <tr>\n",
       "      <th>28</th>\n",
       "      <td>23.0</td>\n",
       "      <td>0.85%</td>\n",
       "    </tr>\n",
       "    <tr>\n",
       "      <th>29</th>\n",
       "      <td>6.0</td>\n",
       "      <td>0.7%</td>\n",
       "    </tr>\n",
       "    <tr>\n",
       "      <th>30</th>\n",
       "      <td>4.0</td>\n",
       "      <td>0.68%</td>\n",
       "    </tr>\n",
       "    <tr>\n",
       "      <th>31</th>\n",
       "      <td>3.0</td>\n",
       "      <td>0.47%</td>\n",
       "    </tr>\n",
       "  </tbody>\n",
       "</table>\n",
       "</div>"
      ],
      "text/plain": [
       "    v_ent_regis_valores %_aparicion\n",
       "0                   9.0      10.82%\n",
       "1                  15.0      10.47%\n",
       "2                  30.0       7.84%\n",
       "3                  14.0        6.7%\n",
       "4                  21.0       5.25%\n",
       "5                  11.0       4.61%\n",
       "6                   7.0       3.97%\n",
       "7                  19.0       3.91%\n",
       "8                  16.0       3.77%\n",
       "9                  20.0       3.64%\n",
       "10                  8.0       3.41%\n",
       "11                 12.0       3.09%\n",
       "12                 28.0        2.9%\n",
       "13                  2.0       2.67%\n",
       "14                 26.0       2.53%\n",
       "15                  5.0       2.45%\n",
       "16                 25.0       2.33%\n",
       "17                 13.0       2.18%\n",
       "18                 24.0       2.17%\n",
       "19                 31.0       2.09%\n",
       "20                 27.0       2.02%\n",
       "21                 17.0        1.7%\n",
       "22                 22.0       1.42%\n",
       "23                 32.0       1.34%\n",
       "24                 10.0       1.31%\n",
       "25                 18.0        0.9%\n",
       "26                 29.0       0.89%\n",
       "27                  1.0       0.88%\n",
       "28                 23.0       0.85%\n",
       "29                  6.0        0.7%\n",
       "30                  4.0       0.68%\n",
       "31                  3.0       0.47%"
      ]
     },
     "metadata": {},
     "output_type": "display_data"
    },
    {
     "name": "stdout",
     "output_type": "stream",
     "text": [
      "\n",
      "\n"
     ]
    },
    {
     "data": {
      "text/html": [
       "<div>\n",
       "<style scoped>\n",
       "    .dataframe tbody tr th:only-of-type {\n",
       "        vertical-align: middle;\n",
       "    }\n",
       "\n",
       "    .dataframe tbody tr th {\n",
       "        vertical-align: top;\n",
       "    }\n",
       "\n",
       "    .dataframe thead th {\n",
       "        text-align: right;\n",
       "    }\n",
       "</style>\n",
       "<table border=\"1\" class=\"dataframe\">\n",
       "  <thead>\n",
       "    <tr style=\"text-align: right;\">\n",
       "      <th></th>\n",
       "      <th>v_mun_regis_valores</th>\n",
       "      <th>%_aparicion</th>\n",
       "    </tr>\n",
       "  </thead>\n",
       "  <tbody>\n",
       "    <tr>\n",
       "      <th>0</th>\n",
       "      <td>39</td>\n",
       "      <td>7.19%</td>\n",
       "    </tr>\n",
       "    <tr>\n",
       "      <th>1</th>\n",
       "      <td>15</td>\n",
       "      <td>5.39%</td>\n",
       "    </tr>\n",
       "    <tr>\n",
       "      <th>2</th>\n",
       "      <td>10</td>\n",
       "      <td>3.19%</td>\n",
       "    </tr>\n",
       "    <tr>\n",
       "      <th>3</th>\n",
       "      <td>4</td>\n",
       "      <td>3.02%</td>\n",
       "    </tr>\n",
       "    <tr>\n",
       "      <th>4</th>\n",
       "      <td>1</td>\n",
       "      <td>2.89%</td>\n",
       "    </tr>\n",
       "    <tr>\n",
       "      <th>...</th>\n",
       "      <td>...</td>\n",
       "      <td>...</td>\n",
       "    </tr>\n",
       "    <tr>\n",
       "      <th>551</th>\n",
       "      <td>408</td>\n",
       "      <td>0.0%</td>\n",
       "    </tr>\n",
       "    <tr>\n",
       "      <th>552</th>\n",
       "      <td>374</td>\n",
       "      <td>0.0%</td>\n",
       "    </tr>\n",
       "    <tr>\n",
       "      <th>553</th>\n",
       "      <td>244</td>\n",
       "      <td>0.0%</td>\n",
       "    </tr>\n",
       "    <tr>\n",
       "      <th>554</th>\n",
       "      <td>331</td>\n",
       "      <td>0.0%</td>\n",
       "    </tr>\n",
       "    <tr>\n",
       "      <th>555</th>\n",
       "      <td>399</td>\n",
       "      <td>0.0%</td>\n",
       "    </tr>\n",
       "  </tbody>\n",
       "</table>\n",
       "<p>556 rows × 2 columns</p>\n",
       "</div>"
      ],
      "text/plain": [
       "     v_mun_regis_valores %_aparicion\n",
       "0                     39       7.19%\n",
       "1                     15       5.39%\n",
       "2                     10       3.19%\n",
       "3                      4       3.02%\n",
       "4                      1       2.89%\n",
       "..                   ...         ...\n",
       "551                  408        0.0%\n",
       "552                  374        0.0%\n",
       "553                  244        0.0%\n",
       "554                  331        0.0%\n",
       "555                  399        0.0%\n",
       "\n",
       "[556 rows x 2 columns]"
      ]
     },
     "metadata": {},
     "output_type": "display_data"
    },
    {
     "name": "stdout",
     "output_type": "stream",
     "text": [
      "\n",
      "\n"
     ]
    },
    {
     "data": {
      "text/html": [
       "<div>\n",
       "<style scoped>\n",
       "    .dataframe tbody tr th:only-of-type {\n",
       "        vertical-align: middle;\n",
       "    }\n",
       "\n",
       "    .dataframe tbody tr th {\n",
       "        vertical-align: top;\n",
       "    }\n",
       "\n",
       "    .dataframe thead th {\n",
       "        text-align: right;\n",
       "    }\n",
       "</style>\n",
       "<table border=\"1\" class=\"dataframe\">\n",
       "  <thead>\n",
       "    <tr style=\"text-align: right;\">\n",
       "      <th></th>\n",
       "      <th>v_ent_resid_valores</th>\n",
       "      <th>%_aparicion</th>\n",
       "    </tr>\n",
       "  </thead>\n",
       "  <tbody>\n",
       "    <tr>\n",
       "      <th>0</th>\n",
       "      <td>15</td>\n",
       "      <td>11.87%</td>\n",
       "    </tr>\n",
       "    <tr>\n",
       "      <th>1</th>\n",
       "      <td>9</td>\n",
       "      <td>9.08%</td>\n",
       "    </tr>\n",
       "    <tr>\n",
       "      <th>2</th>\n",
       "      <td>30</td>\n",
       "      <td>7.99%</td>\n",
       "    </tr>\n",
       "    <tr>\n",
       "      <th>3</th>\n",
       "      <td>14</td>\n",
       "      <td>6.58%</td>\n",
       "    </tr>\n",
       "    <tr>\n",
       "      <th>4</th>\n",
       "      <td>21</td>\n",
       "      <td>5.27%</td>\n",
       "    </tr>\n",
       "    <tr>\n",
       "      <th>5</th>\n",
       "      <td>11</td>\n",
       "      <td>4.6%</td>\n",
       "    </tr>\n",
       "    <tr>\n",
       "      <th>6</th>\n",
       "      <td>7</td>\n",
       "      <td>4.05%</td>\n",
       "    </tr>\n",
       "    <tr>\n",
       "      <th>7</th>\n",
       "      <td>16</td>\n",
       "      <td>3.88%</td>\n",
       "    </tr>\n",
       "    <tr>\n",
       "      <th>8</th>\n",
       "      <td>19</td>\n",
       "      <td>3.83%</td>\n",
       "    </tr>\n",
       "    <tr>\n",
       "      <th>9</th>\n",
       "      <td>20</td>\n",
       "      <td>3.71%</td>\n",
       "    </tr>\n",
       "    <tr>\n",
       "      <th>10</th>\n",
       "      <td>8</td>\n",
       "      <td>3.42%</td>\n",
       "    </tr>\n",
       "    <tr>\n",
       "      <th>11</th>\n",
       "      <td>12</td>\n",
       "      <td>3.15%</td>\n",
       "    </tr>\n",
       "    <tr>\n",
       "      <th>12</th>\n",
       "      <td>28</td>\n",
       "      <td>2.85%</td>\n",
       "    </tr>\n",
       "    <tr>\n",
       "      <th>13</th>\n",
       "      <td>2</td>\n",
       "      <td>2.62%</td>\n",
       "    </tr>\n",
       "    <tr>\n",
       "      <th>14</th>\n",
       "      <td>26</td>\n",
       "      <td>2.52%</td>\n",
       "    </tr>\n",
       "    <tr>\n",
       "      <th>15</th>\n",
       "      <td>5</td>\n",
       "      <td>2.46%</td>\n",
       "    </tr>\n",
       "    <tr>\n",
       "      <th>16</th>\n",
       "      <td>25</td>\n",
       "      <td>2.33%</td>\n",
       "    </tr>\n",
       "    <tr>\n",
       "      <th>17</th>\n",
       "      <td>13</td>\n",
       "      <td>2.23%</td>\n",
       "    </tr>\n",
       "    <tr>\n",
       "      <th>18</th>\n",
       "      <td>24</td>\n",
       "      <td>2.16%</td>\n",
       "    </tr>\n",
       "    <tr>\n",
       "      <th>19</th>\n",
       "      <td>31</td>\n",
       "      <td>2.03%</td>\n",
       "    </tr>\n",
       "    <tr>\n",
       "      <th>20</th>\n",
       "      <td>27</td>\n",
       "      <td>1.93%</td>\n",
       "    </tr>\n",
       "    <tr>\n",
       "      <th>21</th>\n",
       "      <td>17</td>\n",
       "      <td>1.71%</td>\n",
       "    </tr>\n",
       "    <tr>\n",
       "      <th>22</th>\n",
       "      <td>22</td>\n",
       "      <td>1.38%</td>\n",
       "    </tr>\n",
       "    <tr>\n",
       "      <th>23</th>\n",
       "      <td>10</td>\n",
       "      <td>1.36%</td>\n",
       "    </tr>\n",
       "    <tr>\n",
       "      <th>24</th>\n",
       "      <td>32</td>\n",
       "      <td>1.34%</td>\n",
       "    </tr>\n",
       "    <tr>\n",
       "      <th>25</th>\n",
       "      <td>18</td>\n",
       "      <td>0.94%</td>\n",
       "    </tr>\n",
       "    <tr>\n",
       "      <th>26</th>\n",
       "      <td>29</td>\n",
       "      <td>0.93%</td>\n",
       "    </tr>\n",
       "    <tr>\n",
       "      <th>27</th>\n",
       "      <td>23</td>\n",
       "      <td>0.87%</td>\n",
       "    </tr>\n",
       "    <tr>\n",
       "      <th>28</th>\n",
       "      <td>1</td>\n",
       "      <td>0.86%</td>\n",
       "    </tr>\n",
       "    <tr>\n",
       "      <th>29</th>\n",
       "      <td>4</td>\n",
       "      <td>0.72%</td>\n",
       "    </tr>\n",
       "    <tr>\n",
       "      <th>30</th>\n",
       "      <td>6</td>\n",
       "      <td>0.67%</td>\n",
       "    </tr>\n",
       "    <tr>\n",
       "      <th>31</th>\n",
       "      <td>3</td>\n",
       "      <td>0.48%</td>\n",
       "    </tr>\n",
       "    <tr>\n",
       "      <th>32</th>\n",
       "      <td>33</td>\n",
       "      <td>0.11%</td>\n",
       "    </tr>\n",
       "    <tr>\n",
       "      <th>33</th>\n",
       "      <td>34</td>\n",
       "      <td>0.03%</td>\n",
       "    </tr>\n",
       "    <tr>\n",
       "      <th>34</th>\n",
       "      <td>35</td>\n",
       "      <td>0.02%</td>\n",
       "    </tr>\n",
       "  </tbody>\n",
       "</table>\n",
       "</div>"
      ],
      "text/plain": [
       "    v_ent_resid_valores %_aparicion\n",
       "0                    15      11.87%\n",
       "1                     9       9.08%\n",
       "2                    30       7.99%\n",
       "3                    14       6.58%\n",
       "4                    21       5.27%\n",
       "5                    11        4.6%\n",
       "6                     7       4.05%\n",
       "7                    16       3.88%\n",
       "8                    19       3.83%\n",
       "9                    20       3.71%\n",
       "10                    8       3.42%\n",
       "11                   12       3.15%\n",
       "12                   28       2.85%\n",
       "13                    2       2.62%\n",
       "14                   26       2.52%\n",
       "15                    5       2.46%\n",
       "16                   25       2.33%\n",
       "17                   13       2.23%\n",
       "18                   24       2.16%\n",
       "19                   31       2.03%\n",
       "20                   27       1.93%\n",
       "21                   17       1.71%\n",
       "22                   22       1.38%\n",
       "23                   10       1.36%\n",
       "24                   32       1.34%\n",
       "25                   18       0.94%\n",
       "26                   29       0.93%\n",
       "27                   23       0.87%\n",
       "28                    1       0.86%\n",
       "29                    4       0.72%\n",
       "30                    6       0.67%\n",
       "31                    3       0.48%\n",
       "32                   33       0.11%\n",
       "33                   34       0.03%\n",
       "34                   35       0.02%"
      ]
     },
     "metadata": {},
     "output_type": "display_data"
    },
    {
     "name": "stdout",
     "output_type": "stream",
     "text": [
      "\n",
      "\n"
     ]
    },
    {
     "data": {
      "text/html": [
       "<div>\n",
       "<style scoped>\n",
       "    .dataframe tbody tr th:only-of-type {\n",
       "        vertical-align: middle;\n",
       "    }\n",
       "\n",
       "    .dataframe tbody tr th {\n",
       "        vertical-align: top;\n",
       "    }\n",
       "\n",
       "    .dataframe thead th {\n",
       "        text-align: right;\n",
       "    }\n",
       "</style>\n",
       "<table border=\"1\" class=\"dataframe\">\n",
       "  <thead>\n",
       "    <tr style=\"text-align: right;\">\n",
       "      <th></th>\n",
       "      <th>v_mun_resid_valores</th>\n",
       "      <th>%_aparicion</th>\n",
       "    </tr>\n",
       "  </thead>\n",
       "  <tbody>\n",
       "    <tr>\n",
       "      <th>0</th>\n",
       "      <td>39</td>\n",
       "      <td>3.79%</td>\n",
       "    </tr>\n",
       "    <tr>\n",
       "      <th>1</th>\n",
       "      <td>7</td>\n",
       "      <td>3.16%</td>\n",
       "    </tr>\n",
       "    <tr>\n",
       "      <th>2</th>\n",
       "      <td>5</td>\n",
       "      <td>3.05%</td>\n",
       "    </tr>\n",
       "    <tr>\n",
       "      <th>3</th>\n",
       "      <td>1</td>\n",
       "      <td>2.96%</td>\n",
       "    </tr>\n",
       "    <tr>\n",
       "      <th>4</th>\n",
       "      <td>2</td>\n",
       "      <td>2.86%</td>\n",
       "    </tr>\n",
       "    <tr>\n",
       "      <th>...</th>\n",
       "      <td>...</td>\n",
       "      <td>...</td>\n",
       "    </tr>\n",
       "    <tr>\n",
       "      <th>564</th>\n",
       "      <td>488</td>\n",
       "      <td>0.0%</td>\n",
       "    </tr>\n",
       "    <tr>\n",
       "      <th>565</th>\n",
       "      <td>341</td>\n",
       "      <td>0.0%</td>\n",
       "    </tr>\n",
       "    <tr>\n",
       "      <th>566</th>\n",
       "      <td>518</td>\n",
       "      <td>0.0%</td>\n",
       "    </tr>\n",
       "    <tr>\n",
       "      <th>567</th>\n",
       "      <td>536</td>\n",
       "      <td>0.0%</td>\n",
       "    </tr>\n",
       "    <tr>\n",
       "      <th>568</th>\n",
       "      <td>267</td>\n",
       "      <td>0.0%</td>\n",
       "    </tr>\n",
       "  </tbody>\n",
       "</table>\n",
       "<p>569 rows × 2 columns</p>\n",
       "</div>"
      ],
      "text/plain": [
       "     v_mun_resid_valores %_aparicion\n",
       "0                     39       3.79%\n",
       "1                      7       3.16%\n",
       "2                      5       3.05%\n",
       "3                      1       2.96%\n",
       "4                      2       2.86%\n",
       "..                   ...         ...\n",
       "564                  488        0.0%\n",
       "565                  341        0.0%\n",
       "566                  518        0.0%\n",
       "567                  536        0.0%\n",
       "568                  267        0.0%\n",
       "\n",
       "[569 rows x 2 columns]"
      ]
     },
     "metadata": {},
     "output_type": "display_data"
    },
    {
     "name": "stdout",
     "output_type": "stream",
     "text": [
      "\n",
      "\n"
     ]
    },
    {
     "data": {
      "text/html": [
       "<div>\n",
       "<style scoped>\n",
       "    .dataframe tbody tr th:only-of-type {\n",
       "        vertical-align: middle;\n",
       "    }\n",
       "\n",
       "    .dataframe tbody tr th {\n",
       "        vertical-align: top;\n",
       "    }\n",
       "\n",
       "    .dataframe thead th {\n",
       "        text-align: right;\n",
       "    }\n",
       "</style>\n",
       "<table border=\"1\" class=\"dataframe\">\n",
       "  <thead>\n",
       "    <tr style=\"text-align: right;\">\n",
       "      <th></th>\n",
       "      <th>v_ent_ocurr</th>\n",
       "    </tr>\n",
       "  </thead>\n",
       "  <tbody>\n",
       "  </tbody>\n",
       "</table>\n",
       "</div>"
      ],
      "text/plain": [
       "Empty DataFrame\n",
       "Columns: [v_ent_ocurr]\n",
       "Index: []"
      ]
     },
     "metadata": {},
     "output_type": "display_data"
    },
    {
     "name": "stdout",
     "output_type": "stream",
     "text": [
      "\n",
      "\n"
     ]
    },
    {
     "data": {
      "text/html": [
       "<div>\n",
       "<style scoped>\n",
       "    .dataframe tbody tr th:only-of-type {\n",
       "        vertical-align: middle;\n",
       "    }\n",
       "\n",
       "    .dataframe tbody tr th {\n",
       "        vertical-align: top;\n",
       "    }\n",
       "\n",
       "    .dataframe thead th {\n",
       "        text-align: right;\n",
       "    }\n",
       "</style>\n",
       "<table border=\"1\" class=\"dataframe\">\n",
       "  <thead>\n",
       "    <tr style=\"text-align: right;\">\n",
       "      <th></th>\n",
       "      <th>v_mun_ocurr_valores</th>\n",
       "      <th>%_aparicion</th>\n",
       "    </tr>\n",
       "  </thead>\n",
       "  <tbody>\n",
       "    <tr>\n",
       "      <th>0</th>\n",
       "      <td>39</td>\n",
       "      <td>5.7%</td>\n",
       "    </tr>\n",
       "    <tr>\n",
       "      <th>1</th>\n",
       "      <td>7</td>\n",
       "      <td>3.41%</td>\n",
       "    </tr>\n",
       "    <tr>\n",
       "      <th>2</th>\n",
       "      <td>5</td>\n",
       "      <td>3.19%</td>\n",
       "    </tr>\n",
       "    <tr>\n",
       "      <th>3</th>\n",
       "      <td>2</td>\n",
       "      <td>3.16%</td>\n",
       "    </tr>\n",
       "    <tr>\n",
       "      <th>4</th>\n",
       "      <td>1</td>\n",
       "      <td>3.07%</td>\n",
       "    </tr>\n",
       "    <tr>\n",
       "      <th>...</th>\n",
       "      <td>...</td>\n",
       "      <td>...</td>\n",
       "    </tr>\n",
       "    <tr>\n",
       "      <th>564</th>\n",
       "      <td>536</td>\n",
       "      <td>0.0%</td>\n",
       "    </tr>\n",
       "    <tr>\n",
       "      <th>565</th>\n",
       "      <td>476</td>\n",
       "      <td>0.0%</td>\n",
       "    </tr>\n",
       "    <tr>\n",
       "      <th>566</th>\n",
       "      <td>341</td>\n",
       "      <td>0.0%</td>\n",
       "    </tr>\n",
       "    <tr>\n",
       "      <th>567</th>\n",
       "      <td>328</td>\n",
       "      <td>0.0%</td>\n",
       "    </tr>\n",
       "    <tr>\n",
       "      <th>568</th>\n",
       "      <td>408</td>\n",
       "      <td>0.0%</td>\n",
       "    </tr>\n",
       "  </tbody>\n",
       "</table>\n",
       "<p>569 rows × 2 columns</p>\n",
       "</div>"
      ],
      "text/plain": [
       "     v_mun_ocurr_valores %_aparicion\n",
       "0                     39        5.7%\n",
       "1                      7       3.41%\n",
       "2                      5       3.19%\n",
       "3                      2       3.16%\n",
       "4                      1       3.07%\n",
       "..                   ...         ...\n",
       "564                  536        0.0%\n",
       "565                  476        0.0%\n",
       "566                  341        0.0%\n",
       "567                  328        0.0%\n",
       "568                  408        0.0%\n",
       "\n",
       "[569 rows x 2 columns]"
      ]
     },
     "metadata": {},
     "output_type": "display_data"
    },
    {
     "name": "stdout",
     "output_type": "stream",
     "text": [
      "\n",
      "\n"
     ]
    },
    {
     "data": {
      "text/html": [
       "<div>\n",
       "<style scoped>\n",
       "    .dataframe tbody tr th:only-of-type {\n",
       "        vertical-align: middle;\n",
       "    }\n",
       "\n",
       "    .dataframe tbody tr th {\n",
       "        vertical-align: top;\n",
       "    }\n",
       "\n",
       "    .dataframe thead th {\n",
       "        text-align: right;\n",
       "    }\n",
       "</style>\n",
       "<table border=\"1\" class=\"dataframe\">\n",
       "  <thead>\n",
       "    <tr style=\"text-align: right;\">\n",
       "      <th></th>\n",
       "      <th>v_sexo_valores</th>\n",
       "      <th>%_aparicion</th>\n",
       "    </tr>\n",
       "  </thead>\n",
       "  <tbody>\n",
       "    <tr>\n",
       "      <th>0</th>\n",
       "      <td>1</td>\n",
       "      <td>46.96%</td>\n",
       "    </tr>\n",
       "    <tr>\n",
       "      <th>1</th>\n",
       "      <td>2</td>\n",
       "      <td>38.01%</td>\n",
       "    </tr>\n",
       "    <tr>\n",
       "      <th>2</th>\n",
       "      <td>1</td>\n",
       "      <td>8.52%</td>\n",
       "    </tr>\n",
       "    <tr>\n",
       "      <th>3</th>\n",
       "      <td>2</td>\n",
       "      <td>6.47%</td>\n",
       "    </tr>\n",
       "    <tr>\n",
       "      <th>4</th>\n",
       "      <td>9</td>\n",
       "      <td>0.04%</td>\n",
       "    </tr>\n",
       "    <tr>\n",
       "      <th>5</th>\n",
       "      <td>9</td>\n",
       "      <td>0.01%</td>\n",
       "    </tr>\n",
       "    <tr>\n",
       "      <th>6</th>\n",
       "      <td>Sistema Tecnológico de Jalisco, A.C.</td>\n",
       "      <td>0.0%</td>\n",
       "    </tr>\n",
       "    <tr>\n",
       "      <th>7</th>\n",
       "      <td>MARICELA  LOPEZ CEPEDA\\n</td>\n",
       "      <td>0.0%</td>\n",
       "    </tr>\n",
       "    <tr>\n",
       "      <th>8</th>\n",
       "      <td>Molina Pasquel Y Henriquez</td>\n",
       "      <td>0.0%</td>\n",
       "    </tr>\n",
       "    <tr>\n",
       "      <th>9</th>\n",
       "      <td>SFERP S.C.</td>\n",
       "      <td>0.0%</td>\n",
       "    </tr>\n",
       "  </tbody>\n",
       "</table>\n",
       "</div>"
      ],
      "text/plain": [
       "                         v_sexo_valores %_aparicion\n",
       "0                                     1      46.96%\n",
       "1                                     2      38.01%\n",
       "2                                     1       8.52%\n",
       "3                                     2       6.47%\n",
       "4                                     9       0.04%\n",
       "5                                     9       0.01%\n",
       "6  Sistema Tecnológico de Jalisco, A.C.        0.0%\n",
       "7              MARICELA  LOPEZ CEPEDA\\n        0.0%\n",
       "8            Molina Pasquel Y Henriquez        0.0%\n",
       "9                            SFERP S.C.        0.0%"
      ]
     },
     "metadata": {},
     "output_type": "display_data"
    },
    {
     "name": "stdout",
     "output_type": "stream",
     "text": [
      "\n",
      "\n"
     ]
    },
    {
     "data": {
      "text/html": [
       "<div>\n",
       "<style scoped>\n",
       "    .dataframe tbody tr th:only-of-type {\n",
       "        vertical-align: middle;\n",
       "    }\n",
       "\n",
       "    .dataframe tbody tr th {\n",
       "        vertical-align: top;\n",
       "    }\n",
       "\n",
       "    .dataframe thead th {\n",
       "        text-align: right;\n",
       "    }\n",
       "</style>\n",
       "<table border=\"1\" class=\"dataframe\">\n",
       "  <thead>\n",
       "    <tr style=\"text-align: right;\">\n",
       "      <th></th>\n",
       "      <th>v_ocupacion_valores</th>\n",
       "      <th>%_aparicion</th>\n",
       "    </tr>\n",
       "  </thead>\n",
       "  <tbody>\n",
       "    <tr>\n",
       "      <th>0</th>\n",
       "      <td>11</td>\n",
       "      <td>53.08%</td>\n",
       "    </tr>\n",
       "    <tr>\n",
       "      <th>1</th>\n",
       "      <td>6</td>\n",
       "      <td>11.37%</td>\n",
       "    </tr>\n",
       "    <tr>\n",
       "      <th>2</th>\n",
       "      <td>7</td>\n",
       "      <td>6.02%</td>\n",
       "    </tr>\n",
       "    <tr>\n",
       "      <th>3</th>\n",
       "      <td>4</td>\n",
       "      <td>4.98%</td>\n",
       "    </tr>\n",
       "    <tr>\n",
       "      <th>4</th>\n",
       "      <td>97</td>\n",
       "      <td>4.74%</td>\n",
       "    </tr>\n",
       "    <tr>\n",
       "      <th>5</th>\n",
       "      <td>2</td>\n",
       "      <td>4.18%</td>\n",
       "    </tr>\n",
       "    <tr>\n",
       "      <th>6</th>\n",
       "      <td>98</td>\n",
       "      <td>4.14%</td>\n",
       "    </tr>\n",
       "    <tr>\n",
       "      <th>7</th>\n",
       "      <td>99</td>\n",
       "      <td>4.11%</td>\n",
       "    </tr>\n",
       "    <tr>\n",
       "      <th>8</th>\n",
       "      <td>9</td>\n",
       "      <td>2.84%</td>\n",
       "    </tr>\n",
       "    <tr>\n",
       "      <th>9</th>\n",
       "      <td>8</td>\n",
       "      <td>2.19%</td>\n",
       "    </tr>\n",
       "    <tr>\n",
       "      <th>10</th>\n",
       "      <td>5</td>\n",
       "      <td>1.44%</td>\n",
       "    </tr>\n",
       "    <tr>\n",
       "      <th>11</th>\n",
       "      <td>3</td>\n",
       "      <td>0.53%</td>\n",
       "    </tr>\n",
       "    <tr>\n",
       "      <th>12</th>\n",
       "      <td>1</td>\n",
       "      <td>0.35%</td>\n",
       "    </tr>\n",
       "    <tr>\n",
       "      <th>13</th>\n",
       "      <td>10</td>\n",
       "      <td>0.03%</td>\n",
       "    </tr>\n",
       "  </tbody>\n",
       "</table>\n",
       "</div>"
      ],
      "text/plain": [
       "    v_ocupacion_valores %_aparicion\n",
       "0                    11      53.08%\n",
       "1                     6      11.37%\n",
       "2                     7       6.02%\n",
       "3                     4       4.98%\n",
       "4                    97       4.74%\n",
       "5                     2       4.18%\n",
       "6                    98       4.14%\n",
       "7                    99       4.11%\n",
       "8                     9       2.84%\n",
       "9                     8       2.19%\n",
       "10                    5       1.44%\n",
       "11                    3       0.53%\n",
       "12                    1       0.35%\n",
       "13                   10       0.03%"
      ]
     },
     "metadata": {},
     "output_type": "display_data"
    },
    {
     "name": "stdout",
     "output_type": "stream",
     "text": [
      "\n",
      "\n"
     ]
    },
    {
     "data": {
      "text/html": [
       "<div>\n",
       "<style scoped>\n",
       "    .dataframe tbody tr th:only-of-type {\n",
       "        vertical-align: middle;\n",
       "    }\n",
       "\n",
       "    .dataframe tbody tr th {\n",
       "        vertical-align: top;\n",
       "    }\n",
       "\n",
       "    .dataframe thead th {\n",
       "        text-align: right;\n",
       "    }\n",
       "</style>\n",
       "<table border=\"1\" class=\"dataframe\">\n",
       "  <thead>\n",
       "    <tr style=\"text-align: right;\">\n",
       "      <th></th>\n",
       "      <th>v_edo_civil</th>\n",
       "    </tr>\n",
       "  </thead>\n",
       "  <tbody>\n",
       "  </tbody>\n",
       "</table>\n",
       "</div>"
      ],
      "text/plain": [
       "Empty DataFrame\n",
       "Columns: [v_edo_civil]\n",
       "Index: []"
      ]
     },
     "metadata": {},
     "output_type": "display_data"
    },
    {
     "name": "stdout",
     "output_type": "stream",
     "text": [
      "\n",
      "\n"
     ]
    },
    {
     "data": {
      "text/html": [
       "<div>\n",
       "<style scoped>\n",
       "    .dataframe tbody tr th:only-of-type {\n",
       "        vertical-align: middle;\n",
       "    }\n",
       "\n",
       "    .dataframe tbody tr th {\n",
       "        vertical-align: top;\n",
       "    }\n",
       "\n",
       "    .dataframe thead th {\n",
       "        text-align: right;\n",
       "    }\n",
       "</style>\n",
       "<table border=\"1\" class=\"dataframe\">\n",
       "  <thead>\n",
       "    <tr style=\"text-align: right;\">\n",
       "      <th></th>\n",
       "      <th>v_lugar_ocur_valores</th>\n",
       "      <th>%_aparicion</th>\n",
       "    </tr>\n",
       "  </thead>\n",
       "  <tbody>\n",
       "    <tr>\n",
       "      <th>0</th>\n",
       "      <td>88</td>\n",
       "      <td>89.54%</td>\n",
       "    </tr>\n",
       "    <tr>\n",
       "      <th>1</th>\n",
       "      <td>4</td>\n",
       "      <td>4.88%</td>\n",
       "    </tr>\n",
       "    <tr>\n",
       "      <th>2</th>\n",
       "      <td>0</td>\n",
       "      <td>2.11%</td>\n",
       "    </tr>\n",
       "    <tr>\n",
       "      <th>3</th>\n",
       "      <td>9</td>\n",
       "      <td>1.85%</td>\n",
       "    </tr>\n",
       "    <tr>\n",
       "      <th>4</th>\n",
       "      <td>8</td>\n",
       "      <td>0.98%</td>\n",
       "    </tr>\n",
       "    <tr>\n",
       "      <th>5</th>\n",
       "      <td>7</td>\n",
       "      <td>0.29%</td>\n",
       "    </tr>\n",
       "    <tr>\n",
       "      <th>6</th>\n",
       "      <td>5</td>\n",
       "      <td>0.13%</td>\n",
       "    </tr>\n",
       "    <tr>\n",
       "      <th>7</th>\n",
       "      <td>6</td>\n",
       "      <td>0.1%</td>\n",
       "    </tr>\n",
       "    <tr>\n",
       "      <th>8</th>\n",
       "      <td>1</td>\n",
       "      <td>0.04%</td>\n",
       "    </tr>\n",
       "    <tr>\n",
       "      <th>9</th>\n",
       "      <td>2</td>\n",
       "      <td>0.04%</td>\n",
       "    </tr>\n",
       "    <tr>\n",
       "      <th>10</th>\n",
       "      <td>3</td>\n",
       "      <td>0.04%</td>\n",
       "    </tr>\n",
       "  </tbody>\n",
       "</table>\n",
       "</div>"
      ],
      "text/plain": [
       "    v_lugar_ocur_valores %_aparicion\n",
       "0                     88      89.54%\n",
       "1                      4       4.88%\n",
       "2                      0       2.11%\n",
       "3                      9       1.85%\n",
       "4                      8       0.98%\n",
       "5                      7       0.29%\n",
       "6                      5       0.13%\n",
       "7                      6        0.1%\n",
       "8                      1       0.04%\n",
       "9                      2       0.04%\n",
       "10                     3       0.04%"
      ]
     },
     "metadata": {},
     "output_type": "display_data"
    },
    {
     "name": "stdout",
     "output_type": "stream",
     "text": [
      "\n",
      "\n"
     ]
    },
    {
     "data": {
      "text/html": [
       "<div>\n",
       "<style scoped>\n",
       "    .dataframe tbody tr th:only-of-type {\n",
       "        vertical-align: middle;\n",
       "    }\n",
       "\n",
       "    .dataframe tbody tr th {\n",
       "        vertical-align: top;\n",
       "    }\n",
       "\n",
       "    .dataframe thead th {\n",
       "        text-align: right;\n",
       "    }\n",
       "</style>\n",
       "<table border=\"1\" class=\"dataframe\">\n",
       "  <thead>\n",
       "    <tr style=\"text-align: right;\">\n",
       "      <th></th>\n",
       "      <th>v_sitio_ocur_valores</th>\n",
       "      <th>%_aparicion</th>\n",
       "    </tr>\n",
       "  </thead>\n",
       "  <tbody>\n",
       "    <tr>\n",
       "      <th>0</th>\n",
       "      <td>11</td>\n",
       "      <td>44.53%</td>\n",
       "    </tr>\n",
       "    <tr>\n",
       "      <th>1</th>\n",
       "      <td>3</td>\n",
       "      <td>18.69%</td>\n",
       "    </tr>\n",
       "    <tr>\n",
       "      <th>2</th>\n",
       "      <td>1</td>\n",
       "      <td>14.44%</td>\n",
       "    </tr>\n",
       "    <tr>\n",
       "      <th>3</th>\n",
       "      <td>9</td>\n",
       "      <td>4.34%</td>\n",
       "    </tr>\n",
       "    <tr>\n",
       "      <th>4</th>\n",
       "      <td>10</td>\n",
       "      <td>4.27%</td>\n",
       "    </tr>\n",
       "    <tr>\n",
       "      <th>5</th>\n",
       "      <td>4</td>\n",
       "      <td>3.77%</td>\n",
       "    </tr>\n",
       "    <tr>\n",
       "      <th>6</th>\n",
       "      <td>12</td>\n",
       "      <td>3.56%</td>\n",
       "    </tr>\n",
       "    <tr>\n",
       "      <th>7</th>\n",
       "      <td>8</td>\n",
       "      <td>2.82%</td>\n",
       "    </tr>\n",
       "    <tr>\n",
       "      <th>8</th>\n",
       "      <td>99</td>\n",
       "      <td>2.01%</td>\n",
       "    </tr>\n",
       "    <tr>\n",
       "      <th>9</th>\n",
       "      <td>2</td>\n",
       "      <td>0.71%</td>\n",
       "    </tr>\n",
       "    <tr>\n",
       "      <th>10</th>\n",
       "      <td>5</td>\n",
       "      <td>0.4%</td>\n",
       "    </tr>\n",
       "    <tr>\n",
       "      <th>11</th>\n",
       "      <td>6</td>\n",
       "      <td>0.33%</td>\n",
       "    </tr>\n",
       "    <tr>\n",
       "      <th>12</th>\n",
       "      <td>7</td>\n",
       "      <td>0.12%</td>\n",
       "    </tr>\n",
       "  </tbody>\n",
       "</table>\n",
       "</div>"
      ],
      "text/plain": [
       "    v_sitio_ocur_valores %_aparicion\n",
       "0                     11      44.53%\n",
       "1                      3      18.69%\n",
       "2                      1      14.44%\n",
       "3                      9       4.34%\n",
       "4                     10       4.27%\n",
       "5                      4       3.77%\n",
       "6                     12       3.56%\n",
       "7                      8       2.82%\n",
       "8                     99       2.01%\n",
       "9                      2       0.71%\n",
       "10                     5        0.4%\n",
       "11                     6       0.33%\n",
       "12                     7       0.12%"
      ]
     },
     "metadata": {},
     "output_type": "display_data"
    },
    {
     "name": "stdout",
     "output_type": "stream",
     "text": [
      "\n",
      "\n",
      "v_nacionalid -- VARIABLE UNITARIA\n"
     ]
    },
    {
     "data": {
      "text/html": [
       "<div>\n",
       "<style scoped>\n",
       "    .dataframe tbody tr th:only-of-type {\n",
       "        vertical-align: middle;\n",
       "    }\n",
       "\n",
       "    .dataframe tbody tr th {\n",
       "        vertical-align: top;\n",
       "    }\n",
       "\n",
       "    .dataframe thead th {\n",
       "        text-align: right;\n",
       "    }\n",
       "</style>\n",
       "<table border=\"1\" class=\"dataframe\">\n",
       "  <thead>\n",
       "    <tr style=\"text-align: right;\">\n",
       "      <th></th>\n",
       "      <th>v_nacionalid_valores</th>\n",
       "      <th>%_aparicion</th>\n",
       "    </tr>\n",
       "  </thead>\n",
       "  <tbody>\n",
       "    <tr>\n",
       "      <th>0</th>\n",
       "      <td>1</td>\n",
       "      <td>99.41%</td>\n",
       "    </tr>\n",
       "    <tr>\n",
       "      <th>1</th>\n",
       "      <td>2</td>\n",
       "      <td>0.59%</td>\n",
       "    </tr>\n",
       "  </tbody>\n",
       "</table>\n",
       "</div>"
      ],
      "text/plain": [
       "   v_nacionalid_valores %_aparicion\n",
       "0                     1      99.41%\n",
       "1                     2       0.59%"
      ]
     },
     "metadata": {},
     "output_type": "display_data"
    },
    {
     "name": "stdout",
     "output_type": "stream",
     "text": [
      "\n",
      "\n"
     ]
    },
    {
     "data": {
      "text/html": [
       "<div>\n",
       "<style scoped>\n",
       "    .dataframe tbody tr th:only-of-type {\n",
       "        vertical-align: middle;\n",
       "    }\n",
       "\n",
       "    .dataframe tbody tr th {\n",
       "        vertical-align: top;\n",
       "    }\n",
       "\n",
       "    .dataframe thead th {\n",
       "        text-align: right;\n",
       "    }\n",
       "</style>\n",
       "<table border=\"1\" class=\"dataframe\">\n",
       "  <thead>\n",
       "    <tr style=\"text-align: right;\">\n",
       "      <th></th>\n",
       "      <th>v_grupo_valores</th>\n",
       "      <th>%_aparicion</th>\n",
       "    </tr>\n",
       "  </thead>\n",
       "  <tbody>\n",
       "    <tr>\n",
       "      <th>0</th>\n",
       "      <td>2</td>\n",
       "      <td>24.26%</td>\n",
       "    </tr>\n",
       "    <tr>\n",
       "      <th>1</th>\n",
       "      <td>4</td>\n",
       "      <td>16.0%</td>\n",
       "    </tr>\n",
       "    <tr>\n",
       "      <th>2</th>\n",
       "      <td>8</td>\n",
       "      <td>9.49%</td>\n",
       "    </tr>\n",
       "    <tr>\n",
       "      <th>3</th>\n",
       "      <td>3</td>\n",
       "      <td>8.82%</td>\n",
       "    </tr>\n",
       "    <tr>\n",
       "      <th>4</th>\n",
       "      <td>7</td>\n",
       "      <td>7.67%</td>\n",
       "    </tr>\n",
       "    <tr>\n",
       "      <th>5</th>\n",
       "      <td>5</td>\n",
       "      <td>6.88%</td>\n",
       "    </tr>\n",
       "    <tr>\n",
       "      <th>6</th>\n",
       "      <td>6</td>\n",
       "      <td>4.94%</td>\n",
       "    </tr>\n",
       "    <tr>\n",
       "      <th>7</th>\n",
       "      <td>9</td>\n",
       "      <td>3.54%</td>\n",
       "    </tr>\n",
       "    <tr>\n",
       "      <th>8</th>\n",
       "      <td>27</td>\n",
       "      <td>3.17%</td>\n",
       "    </tr>\n",
       "    <tr>\n",
       "      <th>9</th>\n",
       "      <td>1</td>\n",
       "      <td>2.83%</td>\n",
       "    </tr>\n",
       "    <tr>\n",
       "      <th>10</th>\n",
       "      <td>10</td>\n",
       "      <td>2.27%</td>\n",
       "    </tr>\n",
       "    <tr>\n",
       "      <th>11</th>\n",
       "      <td>13</td>\n",
       "      <td>2.26%</td>\n",
       "    </tr>\n",
       "    <tr>\n",
       "      <th>12</th>\n",
       "      <td>14</td>\n",
       "      <td>1.51%</td>\n",
       "    </tr>\n",
       "    <tr>\n",
       "      <th>13</th>\n",
       "      <td>25</td>\n",
       "      <td>1.17%</td>\n",
       "    </tr>\n",
       "    <tr>\n",
       "      <th>14</th>\n",
       "      <td>26</td>\n",
       "      <td>0.98%</td>\n",
       "    </tr>\n",
       "    <tr>\n",
       "      <th>15</th>\n",
       "      <td>11</td>\n",
       "      <td>0.87%</td>\n",
       "    </tr>\n",
       "    <tr>\n",
       "      <th>16</th>\n",
       "      <td>18</td>\n",
       "      <td>0.84%</td>\n",
       "    </tr>\n",
       "    <tr>\n",
       "      <th>17</th>\n",
       "      <td>28</td>\n",
       "      <td>0.62%</td>\n",
       "    </tr>\n",
       "    <tr>\n",
       "      <th>18</th>\n",
       "      <td>17</td>\n",
       "      <td>0.59%</td>\n",
       "    </tr>\n",
       "    <tr>\n",
       "      <th>19</th>\n",
       "      <td>12</td>\n",
       "      <td>0.35%</td>\n",
       "    </tr>\n",
       "    <tr>\n",
       "      <th>20</th>\n",
       "      <td>16</td>\n",
       "      <td>0.33%</td>\n",
       "    </tr>\n",
       "    <tr>\n",
       "      <th>21</th>\n",
       "      <td>23</td>\n",
       "      <td>0.19%</td>\n",
       "    </tr>\n",
       "    <tr>\n",
       "      <th>22</th>\n",
       "      <td>19</td>\n",
       "      <td>0.13%</td>\n",
       "    </tr>\n",
       "    <tr>\n",
       "      <th>23</th>\n",
       "      <td>34</td>\n",
       "      <td>0.08%</td>\n",
       "    </tr>\n",
       "    <tr>\n",
       "      <th>24</th>\n",
       "      <td>15</td>\n",
       "      <td>0.04%</td>\n",
       "    </tr>\n",
       "    <tr>\n",
       "      <th>25</th>\n",
       "      <td>22</td>\n",
       "      <td>0.04%</td>\n",
       "    </tr>\n",
       "    <tr>\n",
       "      <th>26</th>\n",
       "      <td>33</td>\n",
       "      <td>0.04%</td>\n",
       "    </tr>\n",
       "    <tr>\n",
       "      <th>27</th>\n",
       "      <td>21</td>\n",
       "      <td>0.04%</td>\n",
       "    </tr>\n",
       "    <tr>\n",
       "      <th>28</th>\n",
       "      <td>30</td>\n",
       "      <td>0.02%</td>\n",
       "    </tr>\n",
       "    <tr>\n",
       "      <th>29</th>\n",
       "      <td>29</td>\n",
       "      <td>0.01%</td>\n",
       "    </tr>\n",
       "    <tr>\n",
       "      <th>30</th>\n",
       "      <td>20</td>\n",
       "      <td>0.0%</td>\n",
       "    </tr>\n",
       "    <tr>\n",
       "      <th>31</th>\n",
       "      <td>31</td>\n",
       "      <td>0.0%</td>\n",
       "    </tr>\n",
       "    <tr>\n",
       "      <th>32</th>\n",
       "      <td>32</td>\n",
       "      <td>0.0%</td>\n",
       "    </tr>\n",
       "    <tr>\n",
       "      <th>33</th>\n",
       "      <td>24</td>\n",
       "      <td>0.0%</td>\n",
       "    </tr>\n",
       "  </tbody>\n",
       "</table>\n",
       "</div>"
      ],
      "text/plain": [
       "    v_grupo_valores %_aparicion\n",
       "0                 2      24.26%\n",
       "1                 4       16.0%\n",
       "2                 8       9.49%\n",
       "3                 3       8.82%\n",
       "4                 7       7.67%\n",
       "5                 5       6.88%\n",
       "6                 6       4.94%\n",
       "7                 9       3.54%\n",
       "8                27       3.17%\n",
       "9                 1       2.83%\n",
       "10               10       2.27%\n",
       "11               13       2.26%\n",
       "12               14       1.51%\n",
       "13               25       1.17%\n",
       "14               26       0.98%\n",
       "15               11       0.87%\n",
       "16               18       0.84%\n",
       "17               28       0.62%\n",
       "18               17       0.59%\n",
       "19               12       0.35%\n",
       "20               16       0.33%\n",
       "21               23       0.19%\n",
       "22               19       0.13%\n",
       "23               34       0.08%\n",
       "24               15       0.04%\n",
       "25               22       0.04%\n",
       "26               33       0.04%\n",
       "27               21       0.04%\n",
       "28               30       0.02%\n",
       "29               29       0.01%\n",
       "30               20        0.0%\n",
       "31               31        0.0%\n",
       "32               32        0.0%\n",
       "33               24        0.0%"
      ]
     },
     "metadata": {},
     "output_type": "display_data"
    },
    {
     "name": "stdout",
     "output_type": "stream",
     "text": [
      "\n",
      "\n"
     ]
    },
    {
     "data": {
      "text/html": [
       "<div>\n",
       "<style scoped>\n",
       "    .dataframe tbody tr th:only-of-type {\n",
       "        vertical-align: middle;\n",
       "    }\n",
       "\n",
       "    .dataframe tbody tr th {\n",
       "        vertical-align: top;\n",
       "    }\n",
       "\n",
       "    .dataframe thead th {\n",
       "        text-align: right;\n",
       "    }\n",
       "</style>\n",
       "<table border=\"1\" class=\"dataframe\">\n",
       "  <thead>\n",
       "    <tr style=\"text-align: right;\">\n",
       "      <th></th>\n",
       "      <th>v_lengua_valores</th>\n",
       "      <th>%_aparicion</th>\n",
       "    </tr>\n",
       "  </thead>\n",
       "  <tbody>\n",
       "    <tr>\n",
       "      <th>0</th>\n",
       "      <td>2.0</td>\n",
       "      <td>74.89%</td>\n",
       "    </tr>\n",
       "    <tr>\n",
       "      <th>1</th>\n",
       "      <td>9.0</td>\n",
       "      <td>17.07%</td>\n",
       "    </tr>\n",
       "    <tr>\n",
       "      <th>2</th>\n",
       "      <td>1.0</td>\n",
       "      <td>8.04%</td>\n",
       "    </tr>\n",
       "  </tbody>\n",
       "</table>\n",
       "</div>"
      ],
      "text/plain": [
       "   v_lengua_valores %_aparicion\n",
       "0               2.0      74.89%\n",
       "1               9.0      17.07%\n",
       "2               1.0       8.04%"
      ]
     },
     "metadata": {},
     "output_type": "display_data"
    },
    {
     "name": "stdout",
     "output_type": "stream",
     "text": [
      "\n",
      "\n"
     ]
    },
    {
     "data": {
      "text/html": [
       "<div>\n",
       "<style scoped>\n",
       "    .dataframe tbody tr th:only-of-type {\n",
       "        vertical-align: middle;\n",
       "    }\n",
       "\n",
       "    .dataframe tbody tr th {\n",
       "        vertical-align: top;\n",
       "    }\n",
       "\n",
       "    .dataframe thead th {\n",
       "        text-align: right;\n",
       "    }\n",
       "</style>\n",
       "<table border=\"1\" class=\"dataframe\">\n",
       "  <thead>\n",
       "    <tr style=\"text-align: right;\">\n",
       "      <th></th>\n",
       "      <th>v_clave_valores</th>\n",
       "      <th>%_aparicion</th>\n",
       "    </tr>\n",
       "  </thead>\n",
       "  <tbody>\n",
       "    <tr>\n",
       "      <th>0</th>\n",
       "      <td>6465</td>\n",
       "      <td>0.56%</td>\n",
       "    </tr>\n",
       "    <tr>\n",
       "      <th>1</th>\n",
       "      <td>6561</td>\n",
       "      <td>0.56%</td>\n",
       "    </tr>\n",
       "    <tr>\n",
       "      <th>2</th>\n",
       "      <td>6749</td>\n",
       "      <td>0.56%</td>\n",
       "    </tr>\n",
       "    <tr>\n",
       "      <th>3</th>\n",
       "      <td>6467</td>\n",
       "      <td>0.56%</td>\n",
       "    </tr>\n",
       "    <tr>\n",
       "      <th>4</th>\n",
       "      <td>6479</td>\n",
       "      <td>0.56%</td>\n",
       "    </tr>\n",
       "    <tr>\n",
       "      <th>...</th>\n",
       "      <td>...</td>\n",
       "      <td>...</td>\n",
       "    </tr>\n",
       "    <tr>\n",
       "      <th>175</th>\n",
       "      <td>6417</td>\n",
       "      <td>0.56%</td>\n",
       "    </tr>\n",
       "    <tr>\n",
       "      <th>176</th>\n",
       "      <td>6469</td>\n",
       "      <td>0.56%</td>\n",
       "    </tr>\n",
       "    <tr>\n",
       "      <th>177</th>\n",
       "      <td>6697</td>\n",
       "      <td>0.55%</td>\n",
       "    </tr>\n",
       "    <tr>\n",
       "      <th>178</th>\n",
       "      <td>6487</td>\n",
       "      <td>0.55%</td>\n",
       "    </tr>\n",
       "    <tr>\n",
       "      <th>179</th>\n",
       "      <td>6493</td>\n",
       "      <td>0.55%</td>\n",
       "    </tr>\n",
       "  </tbody>\n",
       "</table>\n",
       "<p>180 rows × 2 columns</p>\n",
       "</div>"
      ],
      "text/plain": [
       "     v_clave_valores %_aparicion\n",
       "0               6465       0.56%\n",
       "1               6561       0.56%\n",
       "2               6749       0.56%\n",
       "3               6467       0.56%\n",
       "4               6479       0.56%\n",
       "..               ...         ...\n",
       "175             6417       0.56%\n",
       "176             6469       0.56%\n",
       "177             6697       0.55%\n",
       "178             6487       0.55%\n",
       "179             6493       0.55%\n",
       "\n",
       "[180 rows x 2 columns]"
      ]
     },
     "metadata": {},
     "output_type": "display_data"
    },
    {
     "name": "stdout",
     "output_type": "stream",
     "text": [
      "\n",
      "\n"
     ]
    },
    {
     "data": {
      "text/html": [
       "<div>\n",
       "<style scoped>\n",
       "    .dataframe tbody tr th:only-of-type {\n",
       "        vertical-align: middle;\n",
       "    }\n",
       "\n",
       "    .dataframe tbody tr th {\n",
       "        vertical-align: top;\n",
       "    }\n",
       "\n",
       "    .dataframe thead th {\n",
       "        text-align: right;\n",
       "    }\n",
       "</style>\n",
       "<table border=\"1\" class=\"dataframe\">\n",
       "  <thead>\n",
       "    <tr style=\"text-align: right;\">\n",
       "      <th></th>\n",
       "      <th>v_escolarida_valores</th>\n",
       "      <th>%_aparicion</th>\n",
       "    </tr>\n",
       "  </thead>\n",
       "  <tbody>\n",
       "    <tr>\n",
       "      <th>0</th>\n",
       "      <td>3</td>\n",
       "      <td>26.7%</td>\n",
       "    </tr>\n",
       "    <tr>\n",
       "      <th>1</th>\n",
       "      <td>1</td>\n",
       "      <td>19.83%</td>\n",
       "    </tr>\n",
       "    <tr>\n",
       "      <th>2</th>\n",
       "      <td>4</td>\n",
       "      <td>18.62%</td>\n",
       "    </tr>\n",
       "    <tr>\n",
       "      <th>3</th>\n",
       "      <td>6</td>\n",
       "      <td>9.27%</td>\n",
       "    </tr>\n",
       "    <tr>\n",
       "      <th>4</th>\n",
       "      <td>9</td>\n",
       "      <td>6.52%</td>\n",
       "    </tr>\n",
       "    <tr>\n",
       "      <th>5</th>\n",
       "      <td>8</td>\n",
       "      <td>5.19%</td>\n",
       "    </tr>\n",
       "    <tr>\n",
       "      <th>6</th>\n",
       "      <td>88</td>\n",
       "      <td>4.52%</td>\n",
       "    </tr>\n",
       "    <tr>\n",
       "      <th>7</th>\n",
       "      <td>99</td>\n",
       "      <td>4.35%</td>\n",
       "    </tr>\n",
       "    <tr>\n",
       "      <th>8</th>\n",
       "      <td>5</td>\n",
       "      <td>2.61%</td>\n",
       "    </tr>\n",
       "    <tr>\n",
       "      <th>9</th>\n",
       "      <td>7</td>\n",
       "      <td>1.84%</td>\n",
       "    </tr>\n",
       "    <tr>\n",
       "      <th>10</th>\n",
       "      <td>10</td>\n",
       "      <td>0.39%</td>\n",
       "    </tr>\n",
       "    <tr>\n",
       "      <th>11</th>\n",
       "      <td>2</td>\n",
       "      <td>0.17%</td>\n",
       "    </tr>\n",
       "  </tbody>\n",
       "</table>\n",
       "</div>"
      ],
      "text/plain": [
       "    v_escolarida_valores %_aparicion\n",
       "0                      3       26.7%\n",
       "1                      1      19.83%\n",
       "2                      4      18.62%\n",
       "3                      6       9.27%\n",
       "4                      9       6.52%\n",
       "5                      8       5.19%\n",
       "6                     88       4.52%\n",
       "7                     99       4.35%\n",
       "8                      5       2.61%\n",
       "9                      7       1.84%\n",
       "10                    10       0.39%\n",
       "11                     2       0.17%"
      ]
     },
     "metadata": {},
     "output_type": "display_data"
    },
    {
     "name": "stdout",
     "output_type": "stream",
     "text": [
      "\n",
      "\n"
     ]
    }
   ],
   "source": [
    "for col in df.filter(like=\"v_\").columns:\n",
    "    display(categoricas(df,col))\n",
    "    print(\"\\n\")"
   ]
  },
  {
   "cell_type": "markdown",
   "metadata": {
    "id": "pso-IGVxHaBY"
   },
   "source": [
    "#### PRECISON/ORDEN SEXO"
   ]
  },
  {
   "cell_type": "code",
   "execution_count": 124,
   "metadata": {},
   "outputs": [
    {
     "data": {
      "text/html": [
       "<div>\n",
       "<style scoped>\n",
       "    .dataframe tbody tr th:only-of-type {\n",
       "        vertical-align: middle;\n",
       "    }\n",
       "\n",
       "    .dataframe tbody tr th {\n",
       "        vertical-align: top;\n",
       "    }\n",
       "\n",
       "    .dataframe thead th {\n",
       "        text-align: right;\n",
       "    }\n",
       "</style>\n",
       "<table border=\"1\" class=\"dataframe\">\n",
       "  <thead>\n",
       "    <tr style=\"text-align: right;\">\n",
       "      <th></th>\n",
       "      <th>CVE</th>\n",
       "      <th>DESCRIP</th>\n",
       "    </tr>\n",
       "  </thead>\n",
       "  <tbody>\n",
       "    <tr>\n",
       "      <th>0</th>\n",
       "      <td>1</td>\n",
       "      <td>Hombres</td>\n",
       "    </tr>\n",
       "    <tr>\n",
       "      <th>1</th>\n",
       "      <td>2</td>\n",
       "      <td>Mujeres</td>\n",
       "    </tr>\n",
       "    <tr>\n",
       "      <th>2</th>\n",
       "      <td>9</td>\n",
       "      <td>Sexo no especificado</td>\n",
       "    </tr>\n",
       "  </tbody>\n",
       "</table>\n",
       "</div>"
      ],
      "text/plain": [
       "   CVE               DESCRIP\n",
       "0    1               Hombres\n",
       "1    2               Mujeres\n",
       "2    9  Sexo no especificado"
      ]
     },
     "execution_count": 124,
     "metadata": {},
     "output_type": "execute_result"
    }
   ],
   "source": [
    "sexo"
   ]
  },
  {
   "cell_type": "code",
   "execution_count": 125,
   "metadata": {},
   "outputs": [
    {
     "data": {
      "text/plain": [
       "1                                       28152\n",
       "2                                       22927\n",
       "1                                        9092\n",
       "2                                        6884\n",
       "9                                          23\n",
       "9                                          12\n",
       "Sistema Tecnológico de Jalisco, A.C.        1\n",
       "SFERP S.C.                                  1\n",
       "Molina Pasquel Y Henriquez                  1\n",
       "MARICELA  LOPEZ CEPEDA\\n                    1\n",
       "Name: v_sexo, dtype: int64"
      ]
     },
     "execution_count": 125,
     "metadata": {},
     "output_type": "execute_result"
    }
   ],
   "source": [
    "df[\"v_sexo\"].value_counts()"
   ]
  },
  {
   "cell_type": "code",
   "execution_count": 126,
   "metadata": {
    "ExecuteTime": {
     "end_time": "2021-05-13T20:58:28.201784Z",
     "start_time": "2021-05-13T20:58:28.175994Z"
    },
    "id": "xrwT8Sk4HaBY",
    "outputId": "f9607d1c-950a-4c4d-84d6-072f103535aa"
   },
   "outputs": [
    {
     "data": {
      "text/plain": [
       "1                                       0.419590\n",
       "2                                       0.341715\n",
       "1                                       0.135511\n",
       "2                                       0.102602\n",
       "9                                       0.000343\n",
       "9                                       0.000179\n",
       "Sistema Tecnológico de Jalisco, A.C.    0.000015\n",
       "SFERP S.C.                              0.000015\n",
       "Molina Pasquel Y Henriquez              0.000015\n",
       "MARICELA  LOPEZ CEPEDA\\n                0.000015\n",
       "Name: v_sexo, dtype: float64"
      ]
     },
     "execution_count": 126,
     "metadata": {},
     "output_type": "execute_result"
    }
   ],
   "source": [
    "df[\"v_sexo\"].value_counts(1)"
   ]
  },
  {
   "cell_type": "code",
   "execution_count": 127,
   "metadata": {
    "ExecuteTime": {
     "end_time": "2021-05-13T20:58:28.331973Z",
     "start_time": "2021-05-13T20:58:28.204070Z"
    },
    "id": "9z5rAa4uHaBZ",
    "outputId": "89e6b732-0c18-4f59-e2b0-cf84b4cb435b",
    "scrolled": true
   },
   "outputs": [
    {
     "data": {
      "text/plain": [
       "5.96178495841655e-05"
      ]
     },
     "execution_count": 127,
     "metadata": {},
     "output_type": "execute_result"
    }
   ],
   "source": [
    "df[\"v_sexo\"].value_counts(1)[-4:].sum()"
   ]
  },
  {
   "cell_type": "code",
   "execution_count": 128,
   "metadata": {},
   "outputs": [
    {
     "data": {
      "text/plain": [
       "False"
      ]
     },
     "execution_count": 128,
     "metadata": {},
     "output_type": "execute_result"
    }
   ],
   "source": [
    "\"eee3\".isdigit()"
   ]
  },
  {
   "cell_type": "code",
   "execution_count": 129,
   "metadata": {},
   "outputs": [
    {
     "data": {
      "text/plain": [
       "1    28152\n",
       "2    22927\n",
       "1     9092\n",
       "2     6884\n",
       "9       23\n",
       "9       12\n",
       "Name: v_sexo, dtype: int64"
      ]
     },
     "execution_count": 129,
     "metadata": {},
     "output_type": "execute_result"
    }
   ],
   "source": [
    "df[df[\"v_sexo\"].map(lambda x:str(x).isdigit())][\"v_sexo\"].value_counts()"
   ]
  },
  {
   "cell_type": "code",
   "execution_count": 130,
   "metadata": {
    "ExecuteTime": {
     "end_time": "2021-05-13T20:58:28.466227Z",
     "start_time": "2021-05-13T20:58:28.336815Z"
    },
    "id": "I_AyQIBeHaBa",
    "outputId": "ce940b22-fc6e-44f3-8b95-d57d1ca88f36"
   },
   "outputs": [
    {
     "data": {
      "text/plain": [
       "Sistema Tecnológico de Jalisco, A.C.    1\n",
       "SFERP S.C.                              1\n",
       "Molina Pasquel Y Henriquez              1\n",
       "MARICELA  LOPEZ CEPEDA\\n                1\n",
       "Name: v_sexo, dtype: int64"
      ]
     },
     "execution_count": 130,
     "metadata": {},
     "output_type": "execute_result"
    }
   ],
   "source": [
    "df[~df[\"v_sexo\"].map(lambda x:str(x).isdigit())][\"v_sexo\"].value_counts()"
   ]
  },
  {
   "cell_type": "code",
   "execution_count": 131,
   "metadata": {
    "ExecuteTime": {
     "end_time": "2021-05-13T20:58:28.592027Z",
     "start_time": "2021-05-13T20:58:28.467772Z"
    },
    "id": "tZM2W2EpHaBa",
    "outputId": "11580259-30b6-4524-de51-1dd62b803442"
   },
   "outputs": [
    {
     "data": {
      "text/plain": [
       "Index([1, 2, '1', '2', 9, '9'], dtype='object')"
      ]
     },
     "execution_count": 131,
     "metadata": {},
     "output_type": "execute_result"
    }
   ],
   "source": [
    "df[df[\"v_sexo\"].map(lambda x:str(x).isdigit())][\"v_sexo\"].value_counts().index"
   ]
  },
  {
   "cell_type": "code",
   "execution_count": 460,
   "metadata": {
    "ExecuteTime": {
     "end_time": "2021-05-13T20:58:28.664867Z",
     "start_time": "2021-05-13T20:58:28.593349Z"
    },
    "id": "Q_KEwa2NHaBb",
    "outputId": "533c46fd-c369-4627-ea91-90a17fed950d"
   },
   "outputs": [
    {
     "data": {
      "text/plain": [
       "(67094, 24)"
      ]
     },
     "execution_count": 460,
     "metadata": {},
     "output_type": "execute_result"
    }
   ],
   "source": [
    "df.shape"
   ]
  },
  {
   "cell_type": "markdown",
   "metadata": {
    "id": "raJ5hjMRHaBc"
   },
   "source": [
    "**Dos opciones:**\n",
    "- Convertirlos a Nan\n",
    "- Eliminarlos de la tabla"
   ]
  },
  {
   "cell_type": "markdown",
   "metadata": {
    "ExecuteTime": {
     "end_time": "2021-05-13T19:34:54.420816Z",
     "start_time": "2021-05-13T19:34:54.379214Z"
    },
    "id": "uUX2F4uqHaBd"
   },
   "source": [
    "df=df[df[\"v_sexo\"].map(lambda x:str(x).isdigit())]\n",
    "df.reset_index(drop=True,inplace=True)"
   ]
  },
  {
   "cell_type": "code",
   "execution_count": 462,
   "metadata": {
    "ExecuteTime": {
     "end_time": "2021-05-13T20:58:28.808846Z",
     "start_time": "2021-05-13T20:58:28.666475Z"
    },
    "id": "ZqRycdweHaBd",
    "outputId": "31b40a33-9031-4db4-a464-c2aca0549337"
   },
   "outputs": [
    {
     "data": {
      "text/plain": [
       "1.0    37244\n",
       "2.0    29811\n",
       "9.0       35\n",
       "Name: v_sexo, dtype: int64"
      ]
     },
     "execution_count": 462,
     "metadata": {},
     "output_type": "execute_result"
    }
   ],
   "source": [
    "df[\"v_sexo\"].map(lambda x:int(x) if str(x).isdigit() else np.nan).value_counts()"
   ]
  },
  {
   "cell_type": "code",
   "execution_count": 132,
   "metadata": {
    "ExecuteTime": {
     "end_time": "2021-05-13T20:58:28.920963Z",
     "start_time": "2021-05-13T20:58:28.811005Z"
    },
    "id": "k-i4GDXhHaBe"
   },
   "outputs": [],
   "source": [
    "df[\"v_sexo\"]=df[\"v_sexo\"].map(lambda x:int(x) if str(x).isdigit() else np.nan)"
   ]
  },
  {
   "cell_type": "code",
   "execution_count": 133,
   "metadata": {
    "ExecuteTime": {
     "end_time": "2021-05-13T20:58:29.096880Z",
     "start_time": "2021-05-13T20:58:28.922512Z"
    },
    "id": "LATUtwcZHaBf",
    "outputId": "7ed1b106-5c4a-4c24-cfa5-087858b06433"
   },
   "outputs": [
    {
     "data": {
      "text/html": [
       "<div>\n",
       "<style scoped>\n",
       "    .dataframe tbody tr th:only-of-type {\n",
       "        vertical-align: middle;\n",
       "    }\n",
       "\n",
       "    .dataframe tbody tr th {\n",
       "        vertical-align: top;\n",
       "    }\n",
       "\n",
       "    .dataframe thead th {\n",
       "        text-align: right;\n",
       "    }\n",
       "</style>\n",
       "<table border=\"1\" class=\"dataframe\">\n",
       "  <thead>\n",
       "    <tr style=\"text-align: right;\">\n",
       "      <th></th>\n",
       "      <th>columna</th>\n",
       "      <th>total</th>\n",
       "      <th>completitud</th>\n",
       "    </tr>\n",
       "  </thead>\n",
       "  <tbody>\n",
       "    <tr>\n",
       "      <th>0</th>\n",
       "      <td>v_edo_civil</td>\n",
       "      <td>67094</td>\n",
       "      <td>0.000000</td>\n",
       "    </tr>\n",
       "    <tr>\n",
       "      <th>1</th>\n",
       "      <td>v_ent_regis</td>\n",
       "      <td>4709</td>\n",
       "      <td>92.981489</td>\n",
       "    </tr>\n",
       "    <tr>\n",
       "      <th>2</th>\n",
       "      <td>d_fecha_nac</td>\n",
       "      <td>1203</td>\n",
       "      <td>98.206993</td>\n",
       "    </tr>\n",
       "    <tr>\n",
       "      <th>3</th>\n",
       "      <td>v_sexo</td>\n",
       "      <td>4</td>\n",
       "      <td>99.994038</td>\n",
       "    </tr>\n",
       "    <tr>\n",
       "      <th>4</th>\n",
       "      <td>t_nombre_del_proyecto</td>\n",
       "      <td>0</td>\n",
       "      <td>100.000000</td>\n",
       "    </tr>\n",
       "    <tr>\n",
       "      <th>5</th>\n",
       "      <td>t_programa_fondo</td>\n",
       "      <td>0</td>\n",
       "      <td>100.000000</td>\n",
       "    </tr>\n",
       "    <tr>\n",
       "      <th>6</th>\n",
       "      <td>d_fecha_ocurr</td>\n",
       "      <td>0</td>\n",
       "      <td>100.000000</td>\n",
       "    </tr>\n",
       "    <tr>\n",
       "      <th>7</th>\n",
       "      <td>v_escolarida</td>\n",
       "      <td>0</td>\n",
       "      <td>100.000000</td>\n",
       "    </tr>\n",
       "    <tr>\n",
       "      <th>8</th>\n",
       "      <td>v_clave</td>\n",
       "      <td>0</td>\n",
       "      <td>100.000000</td>\n",
       "    </tr>\n",
       "    <tr>\n",
       "      <th>9</th>\n",
       "      <td>v_grupo</td>\n",
       "      <td>0</td>\n",
       "      <td>100.000000</td>\n",
       "    </tr>\n",
       "    <tr>\n",
       "      <th>10</th>\n",
       "      <td>v_nacionalid</td>\n",
       "      <td>0</td>\n",
       "      <td>100.000000</td>\n",
       "    </tr>\n",
       "    <tr>\n",
       "      <th>11</th>\n",
       "      <td>v_sitio_ocur</td>\n",
       "      <td>0</td>\n",
       "      <td>100.000000</td>\n",
       "    </tr>\n",
       "    <tr>\n",
       "      <th>12</th>\n",
       "      <td>c_edad</td>\n",
       "      <td>0</td>\n",
       "      <td>100.000000</td>\n",
       "    </tr>\n",
       "    <tr>\n",
       "      <th>13</th>\n",
       "      <td>t_nombre_del_beneficiario</td>\n",
       "      <td>0</td>\n",
       "      <td>100.000000</td>\n",
       "    </tr>\n",
       "    <tr>\n",
       "      <th>14</th>\n",
       "      <td>v_ocupacion</td>\n",
       "      <td>0</td>\n",
       "      <td>100.000000</td>\n",
       "    </tr>\n",
       "    <tr>\n",
       "      <th>15</th>\n",
       "      <td>v_mun_ocurr</td>\n",
       "      <td>0</td>\n",
       "      <td>100.000000</td>\n",
       "    </tr>\n",
       "    <tr>\n",
       "      <th>16</th>\n",
       "      <td>v_mun_resid</td>\n",
       "      <td>0</td>\n",
       "      <td>100.000000</td>\n",
       "    </tr>\n",
       "    <tr>\n",
       "      <th>17</th>\n",
       "      <td>v_ent_resid</td>\n",
       "      <td>0</td>\n",
       "      <td>100.000000</td>\n",
       "    </tr>\n",
       "    <tr>\n",
       "      <th>18</th>\n",
       "      <td>v_mun_regis</td>\n",
       "      <td>0</td>\n",
       "      <td>100.000000</td>\n",
       "    </tr>\n",
       "    <tr>\n",
       "      <th>19</th>\n",
       "      <td>c_horas</td>\n",
       "      <td>0</td>\n",
       "      <td>100.000000</td>\n",
       "    </tr>\n",
       "    <tr>\n",
       "      <th>20</th>\n",
       "      <td>c_monto_de_apoyo</td>\n",
       "      <td>0</td>\n",
       "      <td>100.000000</td>\n",
       "    </tr>\n",
       "    <tr>\n",
       "      <th>21</th>\n",
       "      <td>c_minutos</td>\n",
       "      <td>0</td>\n",
       "      <td>100.000000</td>\n",
       "    </tr>\n",
       "    <tr>\n",
       "      <th>22</th>\n",
       "      <td>v_lugar_ocur</td>\n",
       "      <td>0</td>\n",
       "      <td>100.000000</td>\n",
       "    </tr>\n",
       "    <tr>\n",
       "      <th>23</th>\n",
       "      <td>c_salario</td>\n",
       "      <td>0</td>\n",
       "      <td>100.000000</td>\n",
       "    </tr>\n",
       "  </tbody>\n",
       "</table>\n",
       "</div>"
      ],
      "text/plain": [
       "                      columna  total  completitud\n",
       "0                 v_edo_civil  67094     0.000000\n",
       "1                 v_ent_regis   4709    92.981489\n",
       "2                 d_fecha_nac   1203    98.206993\n",
       "3                      v_sexo      4    99.994038\n",
       "4       t_nombre_del_proyecto      0   100.000000\n",
       "5            t_programa_fondo      0   100.000000\n",
       "6               d_fecha_ocurr      0   100.000000\n",
       "7                v_escolarida      0   100.000000\n",
       "8                     v_clave      0   100.000000\n",
       "9                     v_grupo      0   100.000000\n",
       "10               v_nacionalid      0   100.000000\n",
       "11               v_sitio_ocur      0   100.000000\n",
       "12                     c_edad      0   100.000000\n",
       "13  t_nombre_del_beneficiario      0   100.000000\n",
       "14                v_ocupacion      0   100.000000\n",
       "15                v_mun_ocurr      0   100.000000\n",
       "16                v_mun_resid      0   100.000000\n",
       "17                v_ent_resid      0   100.000000\n",
       "18                v_mun_regis      0   100.000000\n",
       "19                    c_horas      0   100.000000\n",
       "20           c_monto_de_apoyo      0   100.000000\n",
       "21                  c_minutos      0   100.000000\n",
       "22               v_lugar_ocur      0   100.000000\n",
       "23                  c_salario      0   100.000000"
      ]
     },
     "execution_count": 133,
     "metadata": {},
     "output_type": "execute_result"
    }
   ],
   "source": [
    "completitud(df)"
   ]
  },
  {
   "cell_type": "code",
   "execution_count": 134,
   "metadata": {
    "ExecuteTime": {
     "end_time": "2021-05-13T20:58:29.186168Z",
     "start_time": "2021-05-13T20:58:29.099263Z"
    },
    "id": "0RQD7GpPHaBg",
    "outputId": "b6cd3309-5a16-453b-d650-7b0c55c78362"
   },
   "outputs": [
    {
     "data": {
      "text/plain": [
       "dtype('float64')"
      ]
     },
     "execution_count": 134,
     "metadata": {},
     "output_type": "execute_result"
    }
   ],
   "source": [
    "df[\"v_sexo\"].dtype"
   ]
  },
  {
   "cell_type": "code",
   "execution_count": 135,
   "metadata": {
    "ExecuteTime": {
     "end_time": "2021-05-13T20:58:29.637823Z",
     "start_time": "2021-05-13T20:58:29.191179Z"
    },
    "id": "j4K7Q4xGHaBg",
    "outputId": "ac5358cd-2b4e-4cff-fc5a-64ceeb65c23d"
   },
   "outputs": [
    {
     "data": {
      "text/plain": [
       "1.0    0.555135\n",
       "2.0    0.444343\n",
       "9.0    0.000522\n",
       "Name: v_sexo, dtype: float64"
      ]
     },
     "execution_count": 135,
     "metadata": {},
     "output_type": "execute_result"
    }
   ],
   "source": [
    "df[\"v_sexo\"].value_counts(1)"
   ]
  },
  {
   "cell_type": "code",
   "execution_count": 136,
   "metadata": {
    "ExecuteTime": {
     "end_time": "2021-05-13T20:58:29.735706Z",
     "start_time": "2021-05-13T20:58:29.639783Z"
    },
    "id": "Q0RZeJMcHaBh",
    "outputId": "e180e01e-e596-4c00-e020-078002efeb06"
   },
   "outputs": [
    {
     "data": {
      "text/plain": [
       "dtype('int64')"
      ]
     },
     "execution_count": 136,
     "metadata": {},
     "output_type": "execute_result"
    }
   ],
   "source": [
    "sexo[\"CVE\"].dtype"
   ]
  },
  {
   "cell_type": "code",
   "execution_count": 137,
   "metadata": {
    "ExecuteTime": {
     "end_time": "2021-05-13T20:58:29.831066Z",
     "start_time": "2021-05-13T20:58:29.738100Z"
    },
    "id": "xWF0cKaoHaBi",
    "outputId": "9ca8835f-61d5-4ba7-e0a0-aa7ece10de91"
   },
   "outputs": [
    {
     "data": {
      "text/html": [
       "<div>\n",
       "<style scoped>\n",
       "    .dataframe tbody tr th:only-of-type {\n",
       "        vertical-align: middle;\n",
       "    }\n",
       "\n",
       "    .dataframe tbody tr th {\n",
       "        vertical-align: top;\n",
       "    }\n",
       "\n",
       "    .dataframe thead th {\n",
       "        text-align: right;\n",
       "    }\n",
       "</style>\n",
       "<table border=\"1\" class=\"dataframe\">\n",
       "  <thead>\n",
       "    <tr style=\"text-align: right;\">\n",
       "      <th></th>\n",
       "      <th>CVE</th>\n",
       "      <th>DESCRIP</th>\n",
       "    </tr>\n",
       "  </thead>\n",
       "  <tbody>\n",
       "    <tr>\n",
       "      <th>0</th>\n",
       "      <td>1</td>\n",
       "      <td>Hombres</td>\n",
       "    </tr>\n",
       "    <tr>\n",
       "      <th>1</th>\n",
       "      <td>2</td>\n",
       "      <td>Mujeres</td>\n",
       "    </tr>\n",
       "    <tr>\n",
       "      <th>2</th>\n",
       "      <td>9</td>\n",
       "      <td>Sexo no especificado</td>\n",
       "    </tr>\n",
       "  </tbody>\n",
       "</table>\n",
       "</div>"
      ],
      "text/plain": [
       "   CVE               DESCRIP\n",
       "0    1               Hombres\n",
       "1    2               Mujeres\n",
       "2    9  Sexo no especificado"
      ]
     },
     "execution_count": 137,
     "metadata": {},
     "output_type": "execute_result"
    }
   ],
   "source": [
    "sexo.head()"
   ]
  },
  {
   "cell_type": "code",
   "execution_count": 138,
   "metadata": {
    "ExecuteTime": {
     "end_time": "2021-05-13T20:58:30.007218Z",
     "start_time": "2021-05-13T20:58:29.834119Z"
    },
    "id": "z5boqvDOHaBj"
   },
   "outputs": [],
   "source": [
    "df=df.merge(sexo,right_on=\"CVE\",left_on=\"v_sexo\",how=\"left\")"
   ]
  },
  {
   "cell_type": "code",
   "execution_count": 139,
   "metadata": {
    "ExecuteTime": {
     "end_time": "2021-05-13T20:58:30.106752Z",
     "start_time": "2021-05-13T20:58:30.008991Z"
    },
    "id": "Tp2iWWy9HaBj"
   },
   "outputs": [],
   "source": [
    "df.drop(columns=[\"v_sexo\",\"CVE\"],inplace=True)\n",
    "df.rename(columns={\"DESCRIP\":\"v_sexo\"},inplace=True)"
   ]
  },
  {
   "cell_type": "code",
   "execution_count": 140,
   "metadata": {
    "ExecuteTime": {
     "end_time": "2021-05-13T20:58:30.177865Z",
     "start_time": "2021-05-13T20:58:30.108204Z"
    },
    "id": "e0fdjuzYHaBk",
    "outputId": "202a5443-443c-4237-e457-253974306126"
   },
   "outputs": [
    {
     "data": {
      "text/plain": [
       "Hombres                 37244\n",
       "Mujeres                 29811\n",
       "Sexo no especificado       35\n",
       "Name: v_sexo, dtype: int64"
      ]
     },
     "execution_count": 140,
     "metadata": {},
     "output_type": "execute_result"
    }
   ],
   "source": [
    "df[\"v_sexo\"].value_counts()"
   ]
  },
  {
   "cell_type": "code",
   "execution_count": 141,
   "metadata": {
    "ExecuteTime": {
     "end_time": "2021-05-13T20:58:30.291611Z",
     "start_time": "2021-05-13T20:58:30.180009Z"
    },
    "id": "oLX2gcQmHaBk",
    "scrolled": true
   },
   "outputs": [],
   "source": [
    "#modificamos \"Sexo no especificado\" por np.nan\n",
    "df[\"v_sexo\"]=df[\"v_sexo\"].replace({\"Sexo no especificado\":np.nan})"
   ]
  },
  {
   "cell_type": "code",
   "execution_count": 142,
   "metadata": {
    "ExecuteTime": {
     "end_time": "2021-05-13T20:58:30.394973Z",
     "start_time": "2021-05-13T20:58:30.296245Z"
    },
    "id": "x5KbTSYPHaBl",
    "outputId": "68ce03c3-fc3a-422e-d78c-48e0540a67b8"
   },
   "outputs": [
    {
     "data": {
      "text/plain": [
       "Hombres    37244\n",
       "Mujeres    29811\n",
       "Name: v_sexo, dtype: int64"
      ]
     },
     "execution_count": 142,
     "metadata": {},
     "output_type": "execute_result"
    }
   ],
   "source": [
    "df[\"v_sexo\"].value_counts()"
   ]
  },
  {
   "cell_type": "code",
   "execution_count": 143,
   "metadata": {
    "scrolled": true
   },
   "outputs": [
    {
     "data": {
      "text/html": [
       "<div>\n",
       "<style scoped>\n",
       "    .dataframe tbody tr th:only-of-type {\n",
       "        vertical-align: middle;\n",
       "    }\n",
       "\n",
       "    .dataframe tbody tr th {\n",
       "        vertical-align: top;\n",
       "    }\n",
       "\n",
       "    .dataframe thead th {\n",
       "        text-align: right;\n",
       "    }\n",
       "</style>\n",
       "<table border=\"1\" class=\"dataframe\">\n",
       "  <thead>\n",
       "    <tr style=\"text-align: right;\">\n",
       "      <th></th>\n",
       "      <th>columna</th>\n",
       "      <th>total</th>\n",
       "      <th>completitud</th>\n",
       "    </tr>\n",
       "  </thead>\n",
       "  <tbody>\n",
       "    <tr>\n",
       "      <th>0</th>\n",
       "      <td>v_edo_civil</td>\n",
       "      <td>67094</td>\n",
       "      <td>0.000000</td>\n",
       "    </tr>\n",
       "    <tr>\n",
       "      <th>1</th>\n",
       "      <td>v_ent_regis</td>\n",
       "      <td>4709</td>\n",
       "      <td>92.981489</td>\n",
       "    </tr>\n",
       "    <tr>\n",
       "      <th>2</th>\n",
       "      <td>d_fecha_nac</td>\n",
       "      <td>1203</td>\n",
       "      <td>98.206993</td>\n",
       "    </tr>\n",
       "    <tr>\n",
       "      <th>3</th>\n",
       "      <td>v_sexo</td>\n",
       "      <td>39</td>\n",
       "      <td>99.941873</td>\n",
       "    </tr>\n",
       "    <tr>\n",
       "      <th>4</th>\n",
       "      <td>t_nombre_del_beneficiario</td>\n",
       "      <td>0</td>\n",
       "      <td>100.000000</td>\n",
       "    </tr>\n",
       "    <tr>\n",
       "      <th>5</th>\n",
       "      <td>t_nombre_del_proyecto</td>\n",
       "      <td>0</td>\n",
       "      <td>100.000000</td>\n",
       "    </tr>\n",
       "    <tr>\n",
       "      <th>6</th>\n",
       "      <td>t_programa_fondo</td>\n",
       "      <td>0</td>\n",
       "      <td>100.000000</td>\n",
       "    </tr>\n",
       "    <tr>\n",
       "      <th>7</th>\n",
       "      <td>d_fecha_ocurr</td>\n",
       "      <td>0</td>\n",
       "      <td>100.000000</td>\n",
       "    </tr>\n",
       "    <tr>\n",
       "      <th>8</th>\n",
       "      <td>v_escolarida</td>\n",
       "      <td>0</td>\n",
       "      <td>100.000000</td>\n",
       "    </tr>\n",
       "    <tr>\n",
       "      <th>9</th>\n",
       "      <td>v_clave</td>\n",
       "      <td>0</td>\n",
       "      <td>100.000000</td>\n",
       "    </tr>\n",
       "    <tr>\n",
       "      <th>10</th>\n",
       "      <td>v_grupo</td>\n",
       "      <td>0</td>\n",
       "      <td>100.000000</td>\n",
       "    </tr>\n",
       "    <tr>\n",
       "      <th>11</th>\n",
       "      <td>v_nacionalid</td>\n",
       "      <td>0</td>\n",
       "      <td>100.000000</td>\n",
       "    </tr>\n",
       "    <tr>\n",
       "      <th>12</th>\n",
       "      <td>c_edad</td>\n",
       "      <td>0</td>\n",
       "      <td>100.000000</td>\n",
       "    </tr>\n",
       "    <tr>\n",
       "      <th>13</th>\n",
       "      <td>c_salario</td>\n",
       "      <td>0</td>\n",
       "      <td>100.000000</td>\n",
       "    </tr>\n",
       "    <tr>\n",
       "      <th>14</th>\n",
       "      <td>v_ocupacion</td>\n",
       "      <td>0</td>\n",
       "      <td>100.000000</td>\n",
       "    </tr>\n",
       "    <tr>\n",
       "      <th>15</th>\n",
       "      <td>v_mun_ocurr</td>\n",
       "      <td>0</td>\n",
       "      <td>100.000000</td>\n",
       "    </tr>\n",
       "    <tr>\n",
       "      <th>16</th>\n",
       "      <td>v_mun_resid</td>\n",
       "      <td>0</td>\n",
       "      <td>100.000000</td>\n",
       "    </tr>\n",
       "    <tr>\n",
       "      <th>17</th>\n",
       "      <td>v_ent_resid</td>\n",
       "      <td>0</td>\n",
       "      <td>100.000000</td>\n",
       "    </tr>\n",
       "    <tr>\n",
       "      <th>18</th>\n",
       "      <td>v_mun_regis</td>\n",
       "      <td>0</td>\n",
       "      <td>100.000000</td>\n",
       "    </tr>\n",
       "    <tr>\n",
       "      <th>19</th>\n",
       "      <td>c_horas</td>\n",
       "      <td>0</td>\n",
       "      <td>100.000000</td>\n",
       "    </tr>\n",
       "    <tr>\n",
       "      <th>20</th>\n",
       "      <td>c_monto_de_apoyo</td>\n",
       "      <td>0</td>\n",
       "      <td>100.000000</td>\n",
       "    </tr>\n",
       "    <tr>\n",
       "      <th>21</th>\n",
       "      <td>c_minutos</td>\n",
       "      <td>0</td>\n",
       "      <td>100.000000</td>\n",
       "    </tr>\n",
       "    <tr>\n",
       "      <th>22</th>\n",
       "      <td>v_sitio_ocur</td>\n",
       "      <td>0</td>\n",
       "      <td>100.000000</td>\n",
       "    </tr>\n",
       "    <tr>\n",
       "      <th>23</th>\n",
       "      <td>v_lugar_ocur</td>\n",
       "      <td>0</td>\n",
       "      <td>100.000000</td>\n",
       "    </tr>\n",
       "  </tbody>\n",
       "</table>\n",
       "</div>"
      ],
      "text/plain": [
       "                      columna  total  completitud\n",
       "0                 v_edo_civil  67094     0.000000\n",
       "1                 v_ent_regis   4709    92.981489\n",
       "2                 d_fecha_nac   1203    98.206993\n",
       "3                      v_sexo     39    99.941873\n",
       "4   t_nombre_del_beneficiario      0   100.000000\n",
       "5       t_nombre_del_proyecto      0   100.000000\n",
       "6            t_programa_fondo      0   100.000000\n",
       "7               d_fecha_ocurr      0   100.000000\n",
       "8                v_escolarida      0   100.000000\n",
       "9                     v_clave      0   100.000000\n",
       "10                    v_grupo      0   100.000000\n",
       "11               v_nacionalid      0   100.000000\n",
       "12                     c_edad      0   100.000000\n",
       "13                  c_salario      0   100.000000\n",
       "14                v_ocupacion      0   100.000000\n",
       "15                v_mun_ocurr      0   100.000000\n",
       "16                v_mun_resid      0   100.000000\n",
       "17                v_ent_resid      0   100.000000\n",
       "18                v_mun_regis      0   100.000000\n",
       "19                    c_horas      0   100.000000\n",
       "20           c_monto_de_apoyo      0   100.000000\n",
       "21                  c_minutos      0   100.000000\n",
       "22               v_sitio_ocur      0   100.000000\n",
       "23               v_lugar_ocur      0   100.000000"
      ]
     },
     "execution_count": 143,
     "metadata": {},
     "output_type": "execute_result"
    }
   ],
   "source": [
    "completitud(df)"
   ]
  },
  {
   "cell_type": "markdown",
   "metadata": {
    "id": "uIlBFL4iHaBl"
   },
   "source": [
    "#### PRECISION/ORDEN OCUPACION"
   ]
  },
  {
   "cell_type": "code",
   "execution_count": 144,
   "metadata": {
    "ExecuteTime": {
     "end_time": "2021-05-13T20:58:30.518870Z",
     "start_time": "2021-05-13T20:58:30.398831Z"
    },
    "id": "dyE2AWeoHaBm",
    "outputId": "0497ceaa-93b7-4b02-cec7-f61d980f3815"
   },
   "outputs": [
    {
     "data": {
      "text/plain": [
       "dtype('int64')"
      ]
     },
     "execution_count": 144,
     "metadata": {},
     "output_type": "execute_result"
    }
   ],
   "source": [
    "df[\"v_ocupacion\"].dtype"
   ]
  },
  {
   "cell_type": "code",
   "execution_count": 145,
   "metadata": {
    "ExecuteTime": {
     "end_time": "2021-05-13T20:58:30.725566Z",
     "start_time": "2021-05-13T20:58:30.522665Z"
    },
    "id": "dcudWUHJHaBm"
   },
   "outputs": [],
   "source": [
    "df=df.merge(ocupacion,right_on=\"CVE\",left_on=\"v_ocupacion\",how=\"left\")"
   ]
  },
  {
   "cell_type": "code",
   "execution_count": 146,
   "metadata": {
    "ExecuteTime": {
     "end_time": "2021-05-13T20:58:30.786048Z",
     "start_time": "2021-05-13T20:58:30.726745Z"
    },
    "id": "51HBJ5jUHaBm"
   },
   "outputs": [],
   "source": [
    "df.drop(columns=[\"v_ocupacion\",\"CVE\"],inplace=True)\n",
    "df.rename(columns={\"DESCRIP\":\"v_ocupacion\"},inplace=True)"
   ]
  },
  {
   "cell_type": "code",
   "execution_count": 147,
   "metadata": {
    "ExecuteTime": {
     "end_time": "2021-05-13T20:58:30.929500Z",
     "start_time": "2021-05-13T20:58:30.787283Z"
    },
    "id": "2FsGlKG7HaBn",
    "outputId": "f319a044-d7dd-4331-f922-5a7bd7d134e9",
    "scrolled": true
   },
   "outputs": [
    {
     "data": {
      "text/plain": [
       "No trabaja                                                                                  35531\n",
       "Trabajadores en actividades agrícolas, ganaderas, forestales, caza y pesca                   7223\n",
       "Trabajadores artesanales                                                                     3843\n",
       "Ocupación no especificada                                                                    3616\n",
       "Comerciantes, empleados en ventas y agentes de ventas                                        3275\n",
       "No aplica a menores de 5 años                                                                2847\n",
       "Profesionistas y técnicos                                                                    2840\n",
       "Ocupaciones insuficientemente especificadas                                                  2770\n",
       "Trabajadores en actividades elementales y de apoyo                                           2051\n",
       "Operadores de maquinaria industrial, ensambladores, choferes y conductores de transporte     1465\n",
       "Trabajadores en servicios personales y vigilancia                                             995\n",
       "Trabajadores auxiliares en actividades administrativas                                        354\n",
       "Funcionarios, directores y jefes                                                              257\n",
       "Busca trabajo                                                                                  27\n",
       "Name: v_ocupacion, dtype: int64"
      ]
     },
     "execution_count": 147,
     "metadata": {},
     "output_type": "execute_result"
    }
   ],
   "source": [
    "df[\"v_ocupacion\"].value_counts()"
   ]
  },
  {
   "cell_type": "code",
   "execution_count": 148,
   "metadata": {
    "ExecuteTime": {
     "end_time": "2021-05-13T20:58:31.199935Z",
     "start_time": "2021-05-13T20:58:30.932567Z"
    },
    "id": "n8ePgHX8HaBo"
   },
   "outputs": [],
   "source": [
    "df[\"v_ocupacion\"]=df[\"v_ocupacion\"].map(clean_text)"
   ]
  },
  {
   "cell_type": "code",
   "execution_count": 150,
   "metadata": {
    "ExecuteTime": {
     "end_time": "2021-05-13T20:58:31.215541Z",
     "start_time": "2021-05-13T20:58:31.201526Z"
    },
    "id": "E04XW4lbHaBo",
    "outputId": "0cbf21dc-6407-47cf-cddb-412dde9de18e",
    "scrolled": true
   },
   "outputs": [
    {
     "data": {
      "text/plain": [
       "14"
      ]
     },
     "execution_count": 150,
     "metadata": {},
     "output_type": "execute_result"
    }
   ],
   "source": [
    "len(df[\"v_ocupacion\"].value_counts(1).index)"
   ]
  },
  {
   "cell_type": "code",
   "execution_count": 151,
   "metadata": {
    "scrolled": true
   },
   "outputs": [
    {
     "data": {
      "text/plain": [
       "no trabaja                                                                                0.529570\n",
       "trabajadores en actividades agricolas ganaderas forestales caza y pesca                   0.107655\n",
       "trabajadores artesanales                                                                  0.057278\n",
       "ocupacion no especificada                                                                 0.053895\n",
       "comerciantes empleados en ventas y agentes de ventas                                      0.048812\n",
       "no aplica a menores de 5 anos                                                             0.042433\n",
       "profesionistas y tecnicos                                                                 0.042329\n",
       "ocupaciones insuficientemente especificadas                                               0.041285\n",
       "trabajadores en actividades elementales y de apoyo                                        0.030569\n",
       "operadores de maquinaria industrial ensambladores choferes y conductores de transporte    0.021835\n",
       "trabajadores en servicios personales y vigilancia                                         0.014830\n",
       "trabajadores auxiliares en actividades administrativas                                    0.005276\n",
       "funcionarios directores y jefes                                                           0.003830\n",
       "busca trabajo                                                                             0.000402\n",
       "Name: v_ocupacion, dtype: float64"
      ]
     },
     "execution_count": 151,
     "metadata": {},
     "output_type": "execute_result"
    }
   ],
   "source": [
    "df[\"v_ocupacion\"].value_counts(1)"
   ]
  },
  {
   "cell_type": "markdown",
   "metadata": {
    "id": "a6KT2KTWHaBp"
   },
   "source": [
    "**NORMALIZACION DE CATEGORIAS**"
   ]
  },
  {
   "cell_type": "code",
   "execution_count": 152,
   "metadata": {
    "ExecuteTime": {
     "end_time": "2021-05-13T20:58:31.358448Z",
     "start_time": "2021-05-13T20:58:31.217021Z"
    },
    "id": "SOVkin3YHaBp",
    "outputId": "2a3f791a-4d58-4200-9910-9a2873416f0f"
   },
   "outputs": [
    {
     "data": {
      "text/plain": [
       "0.02433898709273556"
      ]
     },
     "execution_count": 152,
     "metadata": {},
     "output_type": "execute_result"
    }
   ],
   "source": [
    "df[\"v_ocupacion\"].value_counts(1)[-4:].sum()"
   ]
  },
  {
   "cell_type": "code",
   "execution_count": 154,
   "metadata": {
    "ExecuteTime": {
     "end_time": "2021-05-13T20:58:31.505000Z",
     "start_time": "2021-05-13T20:58:31.361233Z"
    },
    "id": "RWIevEhQHaBq",
    "outputId": "a5b56662-ac5e-4d5e-8910-61b0a50609a7"
   },
   "outputs": [
    {
     "data": {
      "text/plain": [
       "0.009509047008674398"
      ]
     },
     "execution_count": 154,
     "metadata": {},
     "output_type": "execute_result"
    }
   ],
   "source": [
    "df[\"v_ocupacion\"].value_counts(1)[-3:].sum()"
   ]
  },
  {
   "cell_type": "code",
   "execution_count": 159,
   "metadata": {},
   "outputs": [
    {
     "data": {
      "text/plain": [
       "['operadores de maquinaria industrial ensambladores choferes y conductores de transporte',\n",
       " 'trabajadores en servicios personales y vigilancia',\n",
       " 'otro']"
      ]
     },
     "execution_count": 159,
     "metadata": {},
     "output_type": "execute_result"
    }
   ],
   "source": [
    "list(df[\"v_ocupacion\"].value_counts(1)[-3:].index)"
   ]
  },
  {
   "cell_type": "code",
   "execution_count": 162,
   "metadata": {},
   "outputs": [
    {
     "data": {
      "text/plain": [
       "{'operadores de maquinaria industrial ensambladores choferes y conductores de transporte': 'otro',\n",
       " 'trabajadores en servicios personales y vigilancia': 'otro',\n",
       " 'otro': 'otro'}"
      ]
     },
     "execution_count": 162,
     "metadata": {},
     "output_type": "execute_result"
    }
   ],
   "source": [
    "dict(zip(list(df[\"v_ocupacion\"].value_counts(1)[-3:].index),[\"otro\"]*3))"
   ]
  },
  {
   "cell_type": "code",
   "execution_count": 156,
   "metadata": {
    "ExecuteTime": {
     "end_time": "2021-05-13T20:58:31.652935Z",
     "start_time": "2021-05-13T20:58:31.507893Z"
    },
    "id": "UzkI0GiRHaBq"
   },
   "outputs": [],
   "source": [
    "dictio_ocupaciones=dict(zip(list(df[\"v_ocupacion\"].value_counts(1)[-3:].index),[\"otro\"]*3))"
   ]
  },
  {
   "cell_type": "code",
   "execution_count": 157,
   "metadata": {
    "ExecuteTime": {
     "end_time": "2021-05-13T20:58:31.816042Z",
     "start_time": "2021-05-13T20:58:31.655952Z"
    },
    "id": "xfW4QZ_MHaBr",
    "outputId": "7cfa87a8-9a51-490b-dd82-1e684e3cba43",
    "scrolled": true
   },
   "outputs": [
    {
     "data": {
      "text/plain": [
       "no trabaja                                                                                0.529570\n",
       "trabajadores en actividades agricolas ganaderas forestales caza y pesca                   0.107655\n",
       "trabajadores artesanales                                                                  0.057278\n",
       "ocupacion no especificada                                                                 0.053895\n",
       "comerciantes empleados en ventas y agentes de ventas                                      0.048812\n",
       "no aplica a menores de 5 anos                                                             0.042433\n",
       "profesionistas y tecnicos                                                                 0.042329\n",
       "ocupaciones insuficientemente especificadas                                               0.041285\n",
       "trabajadores en actividades elementales y de apoyo                                        0.030569\n",
       "operadores de maquinaria industrial ensambladores choferes y conductores de transporte    0.021835\n",
       "trabajadores en servicios personales y vigilancia                                         0.014830\n",
       "otro                                                                                      0.009509\n",
       "Name: v_ocupacion, dtype: float64"
      ]
     },
     "execution_count": 157,
     "metadata": {},
     "output_type": "execute_result"
    }
   ],
   "source": [
    "df[\"v_ocupacion\"].replace(dictio_ocupaciones).value_counts(1)"
   ]
  },
  {
   "cell_type": "code",
   "execution_count": 158,
   "metadata": {
    "ExecuteTime": {
     "end_time": "2021-05-13T20:58:31.926379Z",
     "start_time": "2021-05-13T20:58:31.818101Z"
    },
    "id": "6wTyLhewHaBr"
   },
   "outputs": [],
   "source": [
    "df[\"v_ocupacion\"]=df[\"v_ocupacion\"].replace(dictio_ocupaciones)"
   ]
  },
  {
   "cell_type": "markdown",
   "metadata": {
    "id": "ckjkKBsrHaBs"
   },
   "source": [
    "#### ESCOLARIDAD"
   ]
  },
  {
   "cell_type": "code",
   "execution_count": 166,
   "metadata": {
    "ExecuteTime": {
     "end_time": "2021-05-13T20:58:32.028060Z",
     "start_time": "2021-05-13T20:58:31.928144Z"
    },
    "id": "tqa6sxfNHaBs",
    "outputId": "6f97c285-30a9-40fc-8a63-b6056ccc8e0c"
   },
   "outputs": [
    {
     "data": {
      "text/plain": [
       "3     17260\n",
       "1     12871\n",
       "4     12861\n",
       "6      6355\n",
       "9      4301\n",
       "99     3850\n",
       "8      3441\n",
       "88     2723\n",
       "5      1819\n",
       "7      1258\n",
       "10      256\n",
       "2        99\n",
       "Name: v_escolarida, dtype: int64"
      ]
     },
     "execution_count": 166,
     "metadata": {},
     "output_type": "execute_result"
    }
   ],
   "source": [
    "df[\"v_escolarida\"].value_counts()"
   ]
  },
  {
   "cell_type": "code",
   "execution_count": 167,
   "metadata": {
    "ExecuteTime": {
     "end_time": "2021-05-13T20:58:32.134137Z",
     "start_time": "2021-05-13T20:58:32.034393Z"
    },
    "id": "gQjmlyMPHaBt",
    "outputId": "118d4f2e-ebc5-49e9-b087-c70d9cc877f5"
   },
   "outputs": [
    {
     "data": {
      "text/plain": [
       "dtype('int64')"
      ]
     },
     "execution_count": 167,
     "metadata": {},
     "output_type": "execute_result"
    }
   ],
   "source": [
    "df[\"v_escolarida\"].dtype"
   ]
  },
  {
   "cell_type": "code",
   "execution_count": 168,
   "metadata": {
    "ExecuteTime": {
     "end_time": "2021-05-13T20:58:32.249013Z",
     "start_time": "2021-05-13T20:58:32.137852Z"
    },
    "id": "Eg_H8udpHaBv",
    "outputId": "3328430d-efed-4cb7-ca23-33402850d99b"
   },
   "outputs": [
    {
     "data": {
      "text/plain": [
       "dtype('int64')"
      ]
     },
     "execution_count": 168,
     "metadata": {},
     "output_type": "execute_result"
    }
   ],
   "source": [
    "escolaridad[\"CVE\"].dtype"
   ]
  },
  {
   "cell_type": "code",
   "execution_count": 169,
   "metadata": {
    "ExecuteTime": {
     "end_time": "2021-05-13T20:58:33.292334Z",
     "start_time": "2021-05-13T20:58:32.254699Z"
    },
    "id": "-QdfeHZ4HaBv"
   },
   "outputs": [],
   "source": [
    "df=df.merge(escolaridad,right_on=\"CVE\",left_on=\"v_escolarida\",how=\"left\")"
   ]
  },
  {
   "cell_type": "code",
   "execution_count": 170,
   "metadata": {
    "ExecuteTime": {
     "end_time": "2021-05-13T20:58:33.689333Z",
     "start_time": "2021-05-13T20:58:33.293903Z"
    },
    "id": "p_zzHl8xHaBw"
   },
   "outputs": [],
   "source": [
    "df.drop(columns=[\"v_escolarida\",\"CVE\"],inplace=True)\n",
    "df.rename(columns={\"DESCRIP\":\"v_escolarida\"},inplace=True)"
   ]
  },
  {
   "cell_type": "code",
   "execution_count": 171,
   "metadata": {
    "ExecuteTime": {
     "end_time": "2021-05-13T20:58:34.167934Z",
     "start_time": "2021-05-13T20:58:33.690936Z"
    },
    "collapsed": true,
    "id": "-kwIU1PTHaBw",
    "outputId": "3dadaaab-8858-4a28-bbe1-35ea9d536b04"
   },
   "outputs": [
    {
     "data": {
      "text/html": [
       "<div>\n",
       "<style scoped>\n",
       "    .dataframe tbody tr th:only-of-type {\n",
       "        vertical-align: middle;\n",
       "    }\n",
       "\n",
       "    .dataframe tbody tr th {\n",
       "        vertical-align: top;\n",
       "    }\n",
       "\n",
       "    .dataframe thead th {\n",
       "        text-align: right;\n",
       "    }\n",
       "</style>\n",
       "<table border=\"1\" class=\"dataframe\">\n",
       "  <thead>\n",
       "    <tr style=\"text-align: right;\">\n",
       "      <th></th>\n",
       "      <th>c_edad</th>\n",
       "      <th>c_minutos</th>\n",
       "      <th>c_monto_de_apoyo</th>\n",
       "      <th>c_horas</th>\n",
       "      <th>v_ent_regis</th>\n",
       "      <th>v_mun_regis</th>\n",
       "      <th>v_ent_resid</th>\n",
       "      <th>v_mun_resid</th>\n",
       "      <th>v_mun_ocurr</th>\n",
       "      <th>v_edo_civil</th>\n",
       "      <th>v_lugar_ocur</th>\n",
       "      <th>v_sitio_ocur</th>\n",
       "      <th>v_nacionalid</th>\n",
       "      <th>v_grupo</th>\n",
       "      <th>v_clave</th>\n",
       "      <th>d_fecha_nac</th>\n",
       "      <th>d_fecha_ocurr</th>\n",
       "      <th>t_programa_fondo</th>\n",
       "      <th>t_nombre_del_proyecto</th>\n",
       "      <th>t_nombre_del_beneficiario</th>\n",
       "      <th>c_salario</th>\n",
       "      <th>v_sexo</th>\n",
       "      <th>v_ocupacion</th>\n",
       "      <th>v_escolarida</th>\n",
       "    </tr>\n",
       "  </thead>\n",
       "  <tbody>\n",
       "    <tr>\n",
       "      <th>0</th>\n",
       "      <td>4057</td>\n",
       "      <td>0</td>\n",
       "      <td>3258370.0</td>\n",
       "      <td>0</td>\n",
       "      <td>25.0</td>\n",
       "      <td>1</td>\n",
       "      <td>25</td>\n",
       "      <td>1</td>\n",
       "      <td>1</td>\n",
       "      <td>NaN</td>\n",
       "      <td>88</td>\n",
       "      <td>99</td>\n",
       "      <td>1</td>\n",
       "      <td>13</td>\n",
       "      <td>6821</td>\n",
       "      <td>1949-06-14</td>\n",
       "      <td>2006-12-10</td>\n",
       "      <td>programa estatal para el desarrollo de la indu...</td>\n",
       "      <td>fortalecimiento de capacidades empresariales p...</td>\n",
       "      <td>4 0 industrial cluster a c</td>\n",
       "      <td>0</td>\n",
       "      <td>Hombres</td>\n",
       "      <td>ocupacion no especificada</td>\n",
       "      <td>No especificado</td>\n",
       "    </tr>\n",
       "    <tr>\n",
       "      <th>1</th>\n",
       "      <td>4045</td>\n",
       "      <td>0</td>\n",
       "      <td>3258370.0</td>\n",
       "      <td>22</td>\n",
       "      <td>15.0</td>\n",
       "      <td>106</td>\n",
       "      <td>15</td>\n",
       "      <td>999</td>\n",
       "      <td>106</td>\n",
       "      <td>NaN</td>\n",
       "      <td>4</td>\n",
       "      <td>99</td>\n",
       "      <td>1</td>\n",
       "      <td>27</td>\n",
       "      <td>6821</td>\n",
       "      <td>NaN</td>\n",
       "      <td>2008-02-08</td>\n",
       "      <td>programa estatal para el desarrollo de la indu...</td>\n",
       "      <td>fortalecimiento de capacidades empresariales p...</td>\n",
       "      <td>4 0 industrial cluster a c</td>\n",
       "      <td>0</td>\n",
       "      <td>Hombres</td>\n",
       "      <td>ocupacion no especificada</td>\n",
       "      <td>No especificado</td>\n",
       "    </tr>\n",
       "    <tr>\n",
       "      <th>2</th>\n",
       "      <td>4087</td>\n",
       "      <td>30</td>\n",
       "      <td>3258370.0</td>\n",
       "      <td>18</td>\n",
       "      <td>16.0</td>\n",
       "      <td>17</td>\n",
       "      <td>16</td>\n",
       "      <td>17</td>\n",
       "      <td>17</td>\n",
       "      <td>NaN</td>\n",
       "      <td>88</td>\n",
       "      <td>3</td>\n",
       "      <td>1</td>\n",
       "      <td>6</td>\n",
       "      <td>6821</td>\n",
       "      <td>1922-08-25</td>\n",
       "      <td>2009-11-18</td>\n",
       "      <td>programa estatal para el desarrollo de la indu...</td>\n",
       "      <td>fortalecimiento de capacidades empresariales p...</td>\n",
       "      <td>4 0 industrial cluster a c</td>\n",
       "      <td>3000</td>\n",
       "      <td>Hombres</td>\n",
       "      <td>ocupaciones insuficientemente especificadas</td>\n",
       "      <td>No especificado</td>\n",
       "    </tr>\n",
       "    <tr>\n",
       "      <th>3</th>\n",
       "      <td>4082</td>\n",
       "      <td>15</td>\n",
       "      <td>3258370.0</td>\n",
       "      <td>11</td>\n",
       "      <td>14.0</td>\n",
       "      <td>18</td>\n",
       "      <td>16</td>\n",
       "      <td>11</td>\n",
       "      <td>18</td>\n",
       "      <td>NaN</td>\n",
       "      <td>88</td>\n",
       "      <td>9</td>\n",
       "      <td>2</td>\n",
       "      <td>11</td>\n",
       "      <td>6821</td>\n",
       "      <td>1930-06-14</td>\n",
       "      <td>2012-05-27</td>\n",
       "      <td>programa estatal para el desarrollo de la indu...</td>\n",
       "      <td>fortalecimiento de capacidades empresariales p...</td>\n",
       "      <td>4 0 industrial cluster a c</td>\n",
       "      <td>1500</td>\n",
       "      <td>Hombres</td>\n",
       "      <td>no trabaja</td>\n",
       "      <td>Primaria incompleta</td>\n",
       "    </tr>\n",
       "    <tr>\n",
       "      <th>4</th>\n",
       "      <td>4037</td>\n",
       "      <td>20</td>\n",
       "      <td>3258370.0</td>\n",
       "      <td>9</td>\n",
       "      <td>21.0</td>\n",
       "      <td>90</td>\n",
       "      <td>21</td>\n",
       "      <td>90</td>\n",
       "      <td>140</td>\n",
       "      <td>NaN</td>\n",
       "      <td>88</td>\n",
       "      <td>1</td>\n",
       "      <td>1</td>\n",
       "      <td>2</td>\n",
       "      <td>6821</td>\n",
       "      <td>1975-06-21</td>\n",
       "      <td>2012-06-15</td>\n",
       "      <td>programa estatal para el desarrollo de la indu...</td>\n",
       "      <td>fortalecimiento de capacidades empresariales p...</td>\n",
       "      <td>4 0 industrial cluster a c</td>\n",
       "      <td>2000</td>\n",
       "      <td>Hombres</td>\n",
       "      <td>trabajadores artesanales</td>\n",
       "      <td>No especificado</td>\n",
       "    </tr>\n",
       "    <tr>\n",
       "      <th>...</th>\n",
       "      <td>...</td>\n",
       "      <td>...</td>\n",
       "      <td>...</td>\n",
       "      <td>...</td>\n",
       "      <td>...</td>\n",
       "      <td>...</td>\n",
       "      <td>...</td>\n",
       "      <td>...</td>\n",
       "      <td>...</td>\n",
       "      <td>...</td>\n",
       "      <td>...</td>\n",
       "      <td>...</td>\n",
       "      <td>...</td>\n",
       "      <td>...</td>\n",
       "      <td>...</td>\n",
       "      <td>...</td>\n",
       "      <td>...</td>\n",
       "      <td>...</td>\n",
       "      <td>...</td>\n",
       "      <td>...</td>\n",
       "      <td>...</td>\n",
       "      <td>...</td>\n",
       "      <td>...</td>\n",
       "      <td>...</td>\n",
       "    </tr>\n",
       "    <tr>\n",
       "      <th>67089</th>\n",
       "      <td>4080</td>\n",
       "      <td>30</td>\n",
       "      <td>2188623.0</td>\n",
       "      <td>13</td>\n",
       "      <td>28.0</td>\n",
       "      <td>33</td>\n",
       "      <td>28</td>\n",
       "      <td>33</td>\n",
       "      <td>33</td>\n",
       "      <td>NaN</td>\n",
       "      <td>88</td>\n",
       "      <td>11</td>\n",
       "      <td>1</td>\n",
       "      <td>2</td>\n",
       "      <td>6765</td>\n",
       "      <td>1935-02-19</td>\n",
       "      <td>2015-12-24</td>\n",
       "      <td>programa estatal para el desarrollo de la indu...</td>\n",
       "      <td>creacion de un centro de desarrollo de aplicac...</td>\n",
       "      <td>unosquare s a de c v</td>\n",
       "      <td>3000</td>\n",
       "      <td>Mujeres</td>\n",
       "      <td>no trabaja</td>\n",
       "      <td>Primaria completa</td>\n",
       "    </tr>\n",
       "    <tr>\n",
       "      <th>67090</th>\n",
       "      <td>4085</td>\n",
       "      <td>0</td>\n",
       "      <td>2188623.0</td>\n",
       "      <td>7</td>\n",
       "      <td>8.0</td>\n",
       "      <td>19</td>\n",
       "      <td>8</td>\n",
       "      <td>19</td>\n",
       "      <td>19</td>\n",
       "      <td>NaN</td>\n",
       "      <td>88</td>\n",
       "      <td>11</td>\n",
       "      <td>1</td>\n",
       "      <td>4</td>\n",
       "      <td>6765</td>\n",
       "      <td>1929-11-15</td>\n",
       "      <td>2015-12-25</td>\n",
       "      <td>programa estatal para el desarrollo de la indu...</td>\n",
       "      <td>creacion de un centro de desarrollo de aplicac...</td>\n",
       "      <td>unosquare s a de c v</td>\n",
       "      <td>0</td>\n",
       "      <td>Hombres</td>\n",
       "      <td>no trabaja</td>\n",
       "      <td>Primaria incompleta</td>\n",
       "    </tr>\n",
       "    <tr>\n",
       "      <th>67091</th>\n",
       "      <td>4089</td>\n",
       "      <td>20</td>\n",
       "      <td>2188623.0</td>\n",
       "      <td>17</td>\n",
       "      <td>8.0</td>\n",
       "      <td>37</td>\n",
       "      <td>8</td>\n",
       "      <td>37</td>\n",
       "      <td>37</td>\n",
       "      <td>NaN</td>\n",
       "      <td>88</td>\n",
       "      <td>1</td>\n",
       "      <td>1</td>\n",
       "      <td>6</td>\n",
       "      <td>6765</td>\n",
       "      <td>1926-10-02</td>\n",
       "      <td>2015-12-26</td>\n",
       "      <td>programa estatal para el desarrollo de la indu...</td>\n",
       "      <td>creacion de un centro de desarrollo de aplicac...</td>\n",
       "      <td>unosquare s a de c v</td>\n",
       "      <td>2000</td>\n",
       "      <td>Hombres</td>\n",
       "      <td>no trabaja</td>\n",
       "      <td>Primaria completa</td>\n",
       "    </tr>\n",
       "    <tr>\n",
       "      <th>67092</th>\n",
       "      <td>4085</td>\n",
       "      <td>0</td>\n",
       "      <td>2188623.0</td>\n",
       "      <td>15</td>\n",
       "      <td>19.0</td>\n",
       "      <td>14</td>\n",
       "      <td>19</td>\n",
       "      <td>13</td>\n",
       "      <td>13</td>\n",
       "      <td>NaN</td>\n",
       "      <td>88</td>\n",
       "      <td>11</td>\n",
       "      <td>1</td>\n",
       "      <td>4</td>\n",
       "      <td>6765</td>\n",
       "      <td>1930-06-29</td>\n",
       "      <td>2015-12-27</td>\n",
       "      <td>programa estatal para el desarrollo de la indu...</td>\n",
       "      <td>creacion de un centro de desarrollo de aplicac...</td>\n",
       "      <td>unosquare s a de c v</td>\n",
       "      <td>0</td>\n",
       "      <td>Hombres</td>\n",
       "      <td>trabajadores en actividades agricolas ganadera...</td>\n",
       "      <td>Primaria incompleta</td>\n",
       "    </tr>\n",
       "    <tr>\n",
       "      <th>67093</th>\n",
       "      <td>4061</td>\n",
       "      <td>40</td>\n",
       "      <td>2188623.0</td>\n",
       "      <td>15</td>\n",
       "      <td>5.0</td>\n",
       "      <td>18</td>\n",
       "      <td>5</td>\n",
       "      <td>18</td>\n",
       "      <td>18</td>\n",
       "      <td>NaN</td>\n",
       "      <td>88</td>\n",
       "      <td>3</td>\n",
       "      <td>1</td>\n",
       "      <td>10</td>\n",
       "      <td>6765</td>\n",
       "      <td>1953-11-18</td>\n",
       "      <td>2015-12-28</td>\n",
       "      <td>programa estatal para el desarrollo de la indu...</td>\n",
       "      <td>creacion de un centro de desarrollo de aplicac...</td>\n",
       "      <td>unosquare s a de c v</td>\n",
       "      <td>4000</td>\n",
       "      <td>Hombres</td>\n",
       "      <td>no trabaja</td>\n",
       "      <td>Profesional</td>\n",
       "    </tr>\n",
       "  </tbody>\n",
       "</table>\n",
       "<p>67094 rows × 24 columns</p>\n",
       "</div>"
      ],
      "text/plain": [
       "       c_edad  c_minutos c_monto_de_apoyo  c_horas  v_ent_regis  v_mun_regis  \\\n",
       "0        4057          0        3258370.0        0         25.0            1   \n",
       "1        4045          0        3258370.0       22         15.0          106   \n",
       "2        4087         30        3258370.0       18         16.0           17   \n",
       "3        4082         15        3258370.0       11         14.0           18   \n",
       "4        4037         20        3258370.0        9         21.0           90   \n",
       "...       ...        ...              ...      ...          ...          ...   \n",
       "67089    4080         30        2188623.0       13         28.0           33   \n",
       "67090    4085          0        2188623.0        7          8.0           19   \n",
       "67091    4089         20        2188623.0       17          8.0           37   \n",
       "67092    4085          0        2188623.0       15         19.0           14   \n",
       "67093    4061         40        2188623.0       15          5.0           18   \n",
       "\n",
       "       v_ent_resid  v_mun_resid  v_mun_ocurr  v_edo_civil  v_lugar_ocur  \\\n",
       "0               25            1            1          NaN            88   \n",
       "1               15          999          106          NaN             4   \n",
       "2               16           17           17          NaN            88   \n",
       "3               16           11           18          NaN            88   \n",
       "4               21           90          140          NaN            88   \n",
       "...            ...          ...          ...          ...           ...   \n",
       "67089           28           33           33          NaN            88   \n",
       "67090            8           19           19          NaN            88   \n",
       "67091            8           37           37          NaN            88   \n",
       "67092           19           13           13          NaN            88   \n",
       "67093            5           18           18          NaN            88   \n",
       "\n",
       "       v_sitio_ocur  v_nacionalid  v_grupo  v_clave d_fecha_nac d_fecha_ocurr  \\\n",
       "0                99             1       13     6821  1949-06-14    2006-12-10   \n",
       "1                99             1       27     6821         NaN    2008-02-08   \n",
       "2                 3             1        6     6821  1922-08-25    2009-11-18   \n",
       "3                 9             2       11     6821  1930-06-14    2012-05-27   \n",
       "4                 1             1        2     6821  1975-06-21    2012-06-15   \n",
       "...             ...           ...      ...      ...         ...           ...   \n",
       "67089            11             1        2     6765  1935-02-19    2015-12-24   \n",
       "67090            11             1        4     6765  1929-11-15    2015-12-25   \n",
       "67091             1             1        6     6765  1926-10-02    2015-12-26   \n",
       "67092            11             1        4     6765  1930-06-29    2015-12-27   \n",
       "67093             3             1       10     6765  1953-11-18    2015-12-28   \n",
       "\n",
       "                                        t_programa_fondo  \\\n",
       "0      programa estatal para el desarrollo de la indu...   \n",
       "1      programa estatal para el desarrollo de la indu...   \n",
       "2      programa estatal para el desarrollo de la indu...   \n",
       "3      programa estatal para el desarrollo de la indu...   \n",
       "4      programa estatal para el desarrollo de la indu...   \n",
       "...                                                  ...   \n",
       "67089  programa estatal para el desarrollo de la indu...   \n",
       "67090  programa estatal para el desarrollo de la indu...   \n",
       "67091  programa estatal para el desarrollo de la indu...   \n",
       "67092  programa estatal para el desarrollo de la indu...   \n",
       "67093  programa estatal para el desarrollo de la indu...   \n",
       "\n",
       "                                   t_nombre_del_proyecto  \\\n",
       "0      fortalecimiento de capacidades empresariales p...   \n",
       "1      fortalecimiento de capacidades empresariales p...   \n",
       "2      fortalecimiento de capacidades empresariales p...   \n",
       "3      fortalecimiento de capacidades empresariales p...   \n",
       "4      fortalecimiento de capacidades empresariales p...   \n",
       "...                                                  ...   \n",
       "67089  creacion de un centro de desarrollo de aplicac...   \n",
       "67090  creacion de un centro de desarrollo de aplicac...   \n",
       "67091  creacion de un centro de desarrollo de aplicac...   \n",
       "67092  creacion de un centro de desarrollo de aplicac...   \n",
       "67093  creacion de un centro de desarrollo de aplicac...   \n",
       "\n",
       "        t_nombre_del_beneficiario  c_salario   v_sexo  \\\n",
       "0      4 0 industrial cluster a c          0  Hombres   \n",
       "1      4 0 industrial cluster a c          0  Hombres   \n",
       "2      4 0 industrial cluster a c       3000  Hombres   \n",
       "3      4 0 industrial cluster a c       1500  Hombres   \n",
       "4      4 0 industrial cluster a c       2000  Hombres   \n",
       "...                           ...        ...      ...   \n",
       "67089        unosquare s a de c v       3000  Mujeres   \n",
       "67090        unosquare s a de c v          0  Hombres   \n",
       "67091        unosquare s a de c v       2000  Hombres   \n",
       "67092        unosquare s a de c v          0  Hombres   \n",
       "67093        unosquare s a de c v       4000  Hombres   \n",
       "\n",
       "                                             v_ocupacion         v_escolarida  \n",
       "0                              ocupacion no especificada      No especificado  \n",
       "1                              ocupacion no especificada      No especificado  \n",
       "2            ocupaciones insuficientemente especificadas      No especificado  \n",
       "3                                             no trabaja  Primaria incompleta  \n",
       "4                               trabajadores artesanales      No especificado  \n",
       "...                                                  ...                  ...  \n",
       "67089                                         no trabaja    Primaria completa  \n",
       "67090                                         no trabaja  Primaria incompleta  \n",
       "67091                                         no trabaja    Primaria completa  \n",
       "67092  trabajadores en actividades agricolas ganadera...  Primaria incompleta  \n",
       "67093                                         no trabaja          Profesional  \n",
       "\n",
       "[67094 rows x 24 columns]"
      ]
     },
     "execution_count": 171,
     "metadata": {},
     "output_type": "execute_result"
    }
   ],
   "source": [
    "df"
   ]
  },
  {
   "cell_type": "code",
   "execution_count": 172,
   "metadata": {
    "ExecuteTime": {
     "end_time": "2021-05-13T20:58:35.027264Z",
     "start_time": "2021-05-13T20:58:34.169524Z"
    },
    "id": "BQRCDGaJHaBx",
    "outputId": "2a716e24-8464-4a97-8835-7700b76def53",
    "scrolled": true
   },
   "outputs": [
    {
     "data": {
      "text/plain": [
       "Primaria incompleta                       0.257251\n",
       "Sin escolaridad                           0.191835\n",
       "Primaria completa                         0.191686\n",
       "Secundaria completa                       0.094718\n",
       "Profesional                               0.064104\n",
       "No especificado                           0.057382\n",
       "Bachillerato o Preparatoria completo      0.051286\n",
       "No aplica a menores de 3 años             0.040585\n",
       "Secundaria incompleta                     0.027111\n",
       "Bachillerato o Preparatoria incompleto    0.018750\n",
       "Posgrado                                  0.003816\n",
       "Preescolar                                0.001476\n",
       "Name: v_escolarida, dtype: float64"
      ]
     },
     "execution_count": 172,
     "metadata": {},
     "output_type": "execute_result"
    }
   ],
   "source": [
    "df[\"v_escolarida\"].value_counts(1)"
   ]
  },
  {
   "cell_type": "code",
   "execution_count": 173,
   "metadata": {
    "ExecuteTime": {
     "end_time": "2021-05-13T20:58:35.484051Z",
     "start_time": "2021-05-13T20:58:35.033145Z"
    },
    "id": "OdyQwScWHaBy"
   },
   "outputs": [],
   "source": [
    "#Modificamos \"No especificado\" a np.nan"
   ]
  },
  {
   "cell_type": "code",
   "execution_count": 174,
   "metadata": {
    "ExecuteTime": {
     "end_time": "2021-05-13T20:58:35.852233Z",
     "start_time": "2021-05-13T20:58:35.489372Z"
    },
    "id": "M_A1z1vHHaBy",
    "outputId": "d366409f-09bd-42b1-d98c-90d142054028"
   },
   "outputs": [
    {
     "data": {
      "text/plain": [
       "Primaria incompleta                       0.272911\n",
       "Sin escolaridad                           0.203513\n",
       "Primaria completa                         0.203355\n",
       "Secundaria completa                       0.100484\n",
       "Profesional                               0.068006\n",
       "Bachillerato o Preparatoria completo      0.054408\n",
       "No aplica a menores de 3 años             0.043055\n",
       "Secundaria incompleta                     0.028762\n",
       "Bachillerato o Preparatoria incompleto    0.019891\n",
       "Posgrado                                  0.004048\n",
       "Preescolar                                0.001565\n",
       "Name: v_escolarida, dtype: float64"
      ]
     },
     "execution_count": 174,
     "metadata": {},
     "output_type": "execute_result"
    }
   ],
   "source": [
    "df[\"v_escolarida\"].replace({\"No especificado\":np.nan}).value_counts(1)"
   ]
  },
  {
   "cell_type": "code",
   "execution_count": 175,
   "metadata": {
    "ExecuteTime": {
     "end_time": "2021-05-13T20:58:35.945585Z",
     "start_time": "2021-05-13T20:58:35.854406Z"
    },
    "id": "HZD9ExvsHaBz"
   },
   "outputs": [],
   "source": [
    "df[\"v_escolarida\"]=df[\"v_escolarida\"].replace({\"No especificado\":np.nan})"
   ]
  },
  {
   "cell_type": "code",
   "execution_count": 176,
   "metadata": {
    "ExecuteTime": {
     "end_time": "2021-05-13T20:58:36.132887Z",
     "start_time": "2021-05-13T20:58:35.950030Z"
    },
    "id": "OmqdOT1lHaBz",
    "outputId": "433c6c84-83e8-4118-abb0-b5ecc21a0278"
   },
   "outputs": [
    {
     "data": {
      "text/plain": [
       "Primaria incompleta                       0.272911\n",
       "Sin escolaridad                           0.203513\n",
       "Primaria completa                         0.203355\n",
       "Secundaria completa                       0.100484\n",
       "Profesional                               0.068006\n",
       "Bachillerato o Preparatoria completo      0.054408\n",
       "No aplica a menores de 3 años             0.043055\n",
       "Secundaria incompleta                     0.028762\n",
       "Bachillerato o Preparatoria incompleto    0.019891\n",
       "Posgrado                                  0.004048\n",
       "Preescolar                                0.001565\n",
       "Name: v_escolarida, dtype: float64"
      ]
     },
     "execution_count": 176,
     "metadata": {},
     "output_type": "execute_result"
    }
   ],
   "source": [
    "df[\"v_escolarida\"].value_counts(1)"
   ]
  },
  {
   "cell_type": "code",
   "execution_count": 177,
   "metadata": {
    "ExecuteTime": {
     "end_time": "2021-05-13T20:58:36.931514Z",
     "start_time": "2021-05-13T20:58:36.136760Z"
    },
    "id": "_EkQaFMXHaBz"
   },
   "outputs": [],
   "source": [
    "dictio_escolaridad={\"Posgrado\":\"Profesional\",\"Primaria incompleta\":\"Primaria\",\"Primaria completa\":\"Primaria\",\n",
    "                   \"Secundaria incompleta\":\"Secundaria\",\"Secundaria completa\":\"Secundaria\",\n",
    "                   \"Bachillerato o Preparatoria incompleto\":\"Bachillerato o Preparatoria\",\"Bachillerato o Preparatoria completo\":\"Bachillerato o Preparatoria\",\n",
    "                   }"
   ]
  },
  {
   "cell_type": "code",
   "execution_count": 179,
   "metadata": {
    "ExecuteTime": {
     "end_time": "2021-05-13T20:58:37.950813Z",
     "start_time": "2021-05-13T20:58:36.936381Z"
    },
    "id": "dk9M8BLLHaB0",
    "outputId": "447f5dca-f484-4403-8f90-1423928b62f5"
   },
   "outputs": [
    {
     "data": {
      "text/plain": [
       "Primaria                         0.476267\n",
       "Sin escolaridad                  0.203513\n",
       "Secundaria                       0.129245\n",
       "Bachillerato o Preparatoria      0.074300\n",
       "Profesional                      0.072054\n",
       "No aplica a menores de 3 años    0.043055\n",
       "Preescolar                       0.001565\n",
       "Name: v_escolarida, dtype: float64"
      ]
     },
     "execution_count": 179,
     "metadata": {},
     "output_type": "execute_result"
    }
   ],
   "source": [
    "df[\"v_escolarida\"].replace(dictio_escolaridad).value_counts(1)"
   ]
  },
  {
   "cell_type": "code",
   "execution_count": 180,
   "metadata": {
    "ExecuteTime": {
     "end_time": "2021-05-13T20:58:38.473742Z",
     "start_time": "2021-05-13T20:58:37.952250Z"
    },
    "id": "1I027AlYHaB1"
   },
   "outputs": [],
   "source": [
    "df[\"v_escolarida\"]=df[\"v_escolarida\"].replace(dictio_escolaridad)"
   ]
  },
  {
   "cell_type": "markdown",
   "metadata": {
    "id": "EZaVKF6OHaB1"
   },
   "source": [
    "### Continuas"
   ]
  },
  {
   "cell_type": "code",
   "execution_count": 181,
   "metadata": {
    "ExecuteTime": {
     "end_time": "2021-05-13T20:58:39.429198Z",
     "start_time": "2021-05-13T20:58:38.989876Z"
    },
    "id": "6toUVvmIHaB2",
    "outputId": "bf549a1b-f9ee-4812-8fdc-798426c95830"
   },
   "outputs": [
    {
     "data": {
      "text/html": [
       "<div>\n",
       "<style scoped>\n",
       "    .dataframe tbody tr th:only-of-type {\n",
       "        vertical-align: middle;\n",
       "    }\n",
       "\n",
       "    .dataframe tbody tr th {\n",
       "        vertical-align: top;\n",
       "    }\n",
       "\n",
       "    .dataframe thead th {\n",
       "        text-align: right;\n",
       "    }\n",
       "</style>\n",
       "<table border=\"1\" class=\"dataframe\">\n",
       "  <thead>\n",
       "    <tr style=\"text-align: right;\">\n",
       "      <th></th>\n",
       "      <th>c_edad</th>\n",
       "      <th>c_minutos</th>\n",
       "      <th>c_horas</th>\n",
       "      <th>c_salario</th>\n",
       "    </tr>\n",
       "  </thead>\n",
       "  <tbody>\n",
       "    <tr>\n",
       "      <th>count</th>\n",
       "      <td>67094.000000</td>\n",
       "      <td>67094.000000</td>\n",
       "      <td>67094.000000</td>\n",
       "      <td>67094.000000</td>\n",
       "    </tr>\n",
       "    <tr>\n",
       "      <th>mean</th>\n",
       "      <td>4004.905938</td>\n",
       "      <td>21.688392</td>\n",
       "      <td>12.695636</td>\n",
       "      <td>2136.830417</td>\n",
       "    </tr>\n",
       "    <tr>\n",
       "      <th>std</th>\n",
       "      <td>380.211589</td>\n",
       "      <td>19.484495</td>\n",
       "      <td>11.217706</td>\n",
       "      <td>1983.501166</td>\n",
       "    </tr>\n",
       "    <tr>\n",
       "      <th>min</th>\n",
       "      <td>1001.000000</td>\n",
       "      <td>0.000000</td>\n",
       "      <td>0.000000</td>\n",
       "      <td>-9900.000000</td>\n",
       "    </tr>\n",
       "    <tr>\n",
       "      <th>25%</th>\n",
       "      <td>4051.000000</td>\n",
       "      <td>0.000000</td>\n",
       "      <td>6.000000</td>\n",
       "      <td>0.000000</td>\n",
       "    </tr>\n",
       "    <tr>\n",
       "      <th>50%</th>\n",
       "      <td>4069.000000</td>\n",
       "      <td>20.000000</td>\n",
       "      <td>12.000000</td>\n",
       "      <td>2000.000000</td>\n",
       "    </tr>\n",
       "    <tr>\n",
       "      <th>75%</th>\n",
       "      <td>4081.000000</td>\n",
       "      <td>35.000000</td>\n",
       "      <td>18.000000</td>\n",
       "      <td>3400.000000</td>\n",
       "    </tr>\n",
       "    <tr>\n",
       "      <th>max</th>\n",
       "      <td>4998.000000</td>\n",
       "      <td>99.000000</td>\n",
       "      <td>99.000000</td>\n",
       "      <td>9900.000000</td>\n",
       "    </tr>\n",
       "  </tbody>\n",
       "</table>\n",
       "</div>"
      ],
      "text/plain": [
       "             c_edad     c_minutos       c_horas     c_salario\n",
       "count  67094.000000  67094.000000  67094.000000  67094.000000\n",
       "mean    4004.905938     21.688392     12.695636   2136.830417\n",
       "std      380.211589     19.484495     11.217706   1983.501166\n",
       "min     1001.000000      0.000000      0.000000  -9900.000000\n",
       "25%     4051.000000      0.000000      6.000000      0.000000\n",
       "50%     4069.000000     20.000000     12.000000   2000.000000\n",
       "75%     4081.000000     35.000000     18.000000   3400.000000\n",
       "max     4998.000000     99.000000     99.000000   9900.000000"
      ]
     },
     "execution_count": 181,
     "metadata": {},
     "output_type": "execute_result"
    }
   ],
   "source": [
    "df.filter(like=\"c_\").describe()"
   ]
  },
  {
   "cell_type": "code",
   "execution_count": 182,
   "metadata": {
    "ExecuteTime": {
     "end_time": "2021-05-13T20:58:39.473420Z",
     "start_time": "2021-05-13T20:58:39.430597Z"
    },
    "id": "LBeewLHhHaB3"
   },
   "outputs": [],
   "source": [
    "df[\"c_minutos\"]=df[\"c_minutos\"].astype(float)"
   ]
  },
  {
   "cell_type": "code",
   "execution_count": 183,
   "metadata": {
    "ExecuteTime": {
     "end_time": "2021-05-13T20:58:39.559665Z",
     "start_time": "2021-05-13T20:58:39.478192Z"
    },
    "id": "UgEuLTTUHaB7"
   },
   "outputs": [],
   "source": [
    "df[\"c_horas\"]=df[\"c_horas\"].astype(float)"
   ]
  },
  {
   "cell_type": "markdown",
   "metadata": {
    "id": "3fl5aq2nHaB8"
   },
   "source": [
    "##  <h1 style=\"color:#b38c6f\"> CONSISTENCIA</h1>"
   ]
  },
  {
   "cell_type": "markdown",
   "metadata": {},
   "source": [
    "#### SALARIO"
   ]
  },
  {
   "cell_type": "code",
   "execution_count": 184,
   "metadata": {
    "ExecuteTime": {
     "end_time": "2021-05-13T20:58:40.473668Z",
     "start_time": "2021-05-13T20:58:39.562275Z"
    },
    "id": "x5FGZVLsHaB8",
    "outputId": "58c9f4f5-294e-4b26-f711-722749c6be1b",
    "scrolled": true
   },
   "outputs": [
    {
     "data": {
      "text/html": [
       "<div>\n",
       "<style scoped>\n",
       "    .dataframe tbody tr th:only-of-type {\n",
       "        vertical-align: middle;\n",
       "    }\n",
       "\n",
       "    .dataframe tbody tr th {\n",
       "        vertical-align: top;\n",
       "    }\n",
       "\n",
       "    .dataframe thead th {\n",
       "        text-align: right;\n",
       "    }\n",
       "</style>\n",
       "<table border=\"1\" class=\"dataframe\">\n",
       "  <thead>\n",
       "    <tr style=\"text-align: right;\">\n",
       "      <th></th>\n",
       "      <th>c_edad</th>\n",
       "      <th>c_minutos</th>\n",
       "      <th>c_monto_de_apoyo</th>\n",
       "      <th>c_horas</th>\n",
       "      <th>v_ent_regis</th>\n",
       "      <th>v_mun_regis</th>\n",
       "      <th>v_ent_resid</th>\n",
       "      <th>v_mun_resid</th>\n",
       "      <th>v_mun_ocurr</th>\n",
       "      <th>v_edo_civil</th>\n",
       "      <th>v_lugar_ocur</th>\n",
       "      <th>v_sitio_ocur</th>\n",
       "      <th>v_nacionalid</th>\n",
       "      <th>v_grupo</th>\n",
       "      <th>v_clave</th>\n",
       "      <th>d_fecha_nac</th>\n",
       "      <th>d_fecha_ocurr</th>\n",
       "      <th>t_programa_fondo</th>\n",
       "      <th>t_nombre_del_proyecto</th>\n",
       "      <th>t_nombre_del_beneficiario</th>\n",
       "      <th>c_salario</th>\n",
       "      <th>v_sexo</th>\n",
       "      <th>v_ocupacion</th>\n",
       "      <th>v_escolarida</th>\n",
       "    </tr>\n",
       "  </thead>\n",
       "  <tbody>\n",
       "    <tr>\n",
       "      <th>44</th>\n",
       "      <td>4053</td>\n",
       "      <td>50.0</td>\n",
       "      <td>3258370.0</td>\n",
       "      <td>19.0</td>\n",
       "      <td>9.0</td>\n",
       "      <td>15</td>\n",
       "      <td>15</td>\n",
       "      <td>58</td>\n",
       "      <td>15</td>\n",
       "      <td>NaN</td>\n",
       "      <td>88</td>\n",
       "      <td>1</td>\n",
       "      <td>1</td>\n",
       "      <td>3</td>\n",
       "      <td>6821</td>\n",
       "      <td>1961-07-02</td>\n",
       "      <td>2014-06-06</td>\n",
       "      <td>programa estatal para el desarrollo de la indu...</td>\n",
       "      <td>fortalecimiento de capacidades empresariales p...</td>\n",
       "      <td>4 0 industrial cluster a c</td>\n",
       "      <td>-5000</td>\n",
       "      <td>Mujeres</td>\n",
       "      <td>no trabaja</td>\n",
       "      <td>Primaria</td>\n",
       "    </tr>\n",
       "    <tr>\n",
       "      <th>752</th>\n",
       "      <td>4082</td>\n",
       "      <td>40.0</td>\n",
       "      <td>534650.0</td>\n",
       "      <td>18.0</td>\n",
       "      <td>13.0</td>\n",
       "      <td>28</td>\n",
       "      <td>13</td>\n",
       "      <td>28</td>\n",
       "      <td>28</td>\n",
       "      <td>NaN</td>\n",
       "      <td>88</td>\n",
       "      <td>11</td>\n",
       "      <td>1</td>\n",
       "      <td>5</td>\n",
       "      <td>6836</td>\n",
       "      <td>1933-06-01</td>\n",
       "      <td>2015-10-13</td>\n",
       "      <td>programa para el fomento de recursos humanos d...</td>\n",
       "      <td>becas singularity u mexico summit 4 0 industri...</td>\n",
       "      <td>4 0 industrial cluster ac</td>\n",
       "      <td>-4000</td>\n",
       "      <td>Mujeres</td>\n",
       "      <td>no trabaja</td>\n",
       "      <td>Sin escolaridad</td>\n",
       "    </tr>\n",
       "    <tr>\n",
       "      <th>1063</th>\n",
       "      <td>4054</td>\n",
       "      <td>50.0</td>\n",
       "      <td>2642237.0</td>\n",
       "      <td>17.0</td>\n",
       "      <td>4.0</td>\n",
       "      <td>3</td>\n",
       "      <td>4</td>\n",
       "      <td>3</td>\n",
       "      <td>2</td>\n",
       "      <td>NaN</td>\n",
       "      <td>88</td>\n",
       "      <td>4</td>\n",
       "      <td>1</td>\n",
       "      <td>2</td>\n",
       "      <td>6837</td>\n",
       "      <td>1960-12-03</td>\n",
       "      <td>2015-06-14</td>\n",
       "      <td>programa cluster de ciencia tecnologia e innov...</td>\n",
       "      <td>participacion de la industria mexicana del clu...</td>\n",
       "      <td>4 0 industrial cluster ac</td>\n",
       "      <td>-5000</td>\n",
       "      <td>Mujeres</td>\n",
       "      <td>no trabaja</td>\n",
       "      <td>Primaria</td>\n",
       "    </tr>\n",
       "    <tr>\n",
       "      <th>1123</th>\n",
       "      <td>4050</td>\n",
       "      <td>30.0</td>\n",
       "      <td>2642237.0</td>\n",
       "      <td>22.0</td>\n",
       "      <td>9.0</td>\n",
       "      <td>5</td>\n",
       "      <td>9</td>\n",
       "      <td>5</td>\n",
       "      <td>5</td>\n",
       "      <td>NaN</td>\n",
       "      <td>88</td>\n",
       "      <td>11</td>\n",
       "      <td>1</td>\n",
       "      <td>4</td>\n",
       "      <td>6837</td>\n",
       "      <td>1964-03-12</td>\n",
       "      <td>2015-08-18</td>\n",
       "      <td>programa cluster de ciencia tecnologia e innov...</td>\n",
       "      <td>participacion de la industria mexicana del clu...</td>\n",
       "      <td>4 0 industrial cluster ac</td>\n",
       "      <td>-3000</td>\n",
       "      <td>Hombres</td>\n",
       "      <td>no trabaja</td>\n",
       "      <td>Secundaria</td>\n",
       "    </tr>\n",
       "    <tr>\n",
       "      <th>1719</th>\n",
       "      <td>4065</td>\n",
       "      <td>99.0</td>\n",
       "      <td>295448.0</td>\n",
       "      <td>99.0</td>\n",
       "      <td>19.0</td>\n",
       "      <td>39</td>\n",
       "      <td>19</td>\n",
       "      <td>39</td>\n",
       "      <td>39</td>\n",
       "      <td>NaN</td>\n",
       "      <td>88</td>\n",
       "      <td>3</td>\n",
       "      <td>1</td>\n",
       "      <td>2</td>\n",
       "      <td>6708</td>\n",
       "      <td>1949-06-04</td>\n",
       "      <td>2014-08-15</td>\n",
       "      <td>programa de desarrollo de prototipos 2018</td>\n",
       "      <td>active financial s a de c v y un prototipo de ...</td>\n",
       "      <td>active financial s a de c v</td>\n",
       "      <td>-9900</td>\n",
       "      <td>Hombres</td>\n",
       "      <td>no trabaja</td>\n",
       "      <td>Primaria</td>\n",
       "    </tr>\n",
       "    <tr>\n",
       "      <th>...</th>\n",
       "      <td>...</td>\n",
       "      <td>...</td>\n",
       "      <td>...</td>\n",
       "      <td>...</td>\n",
       "      <td>...</td>\n",
       "      <td>...</td>\n",
       "      <td>...</td>\n",
       "      <td>...</td>\n",
       "      <td>...</td>\n",
       "      <td>...</td>\n",
       "      <td>...</td>\n",
       "      <td>...</td>\n",
       "      <td>...</td>\n",
       "      <td>...</td>\n",
       "      <td>...</td>\n",
       "      <td>...</td>\n",
       "      <td>...</td>\n",
       "      <td>...</td>\n",
       "      <td>...</td>\n",
       "      <td>...</td>\n",
       "      <td>...</td>\n",
       "      <td>...</td>\n",
       "      <td>...</td>\n",
       "      <td>...</td>\n",
       "    </tr>\n",
       "    <tr>\n",
       "      <th>66396</th>\n",
       "      <td>4029</td>\n",
       "      <td>50.0</td>\n",
       "      <td>472500.0</td>\n",
       "      <td>23.0</td>\n",
       "      <td>10.0</td>\n",
       "      <td>5</td>\n",
       "      <td>10</td>\n",
       "      <td>1</td>\n",
       "      <td>5</td>\n",
       "      <td>NaN</td>\n",
       "      <td>4</td>\n",
       "      <td>1</td>\n",
       "      <td>1</td>\n",
       "      <td>9</td>\n",
       "      <td>6353</td>\n",
       "      <td>1986-03-27</td>\n",
       "      <td>2015-02-18</td>\n",
       "      <td>programa de difusion y divulgacion de la cienc...</td>\n",
       "      <td>participacion de comunidad estudiantil y docen...</td>\n",
       "      <td>universidad tecnologica de jalisco</td>\n",
       "      <td>-5000</td>\n",
       "      <td>Hombres</td>\n",
       "      <td>comerciantes empleados en ventas y agentes de ...</td>\n",
       "      <td>Bachillerato o Preparatoria</td>\n",
       "    </tr>\n",
       "    <tr>\n",
       "      <th>66502</th>\n",
       "      <td>4052</td>\n",
       "      <td>55.0</td>\n",
       "      <td>472500.0</td>\n",
       "      <td>3.0</td>\n",
       "      <td>30.0</td>\n",
       "      <td>132</td>\n",
       "      <td>30</td>\n",
       "      <td>132</td>\n",
       "      <td>132</td>\n",
       "      <td>NaN</td>\n",
       "      <td>88</td>\n",
       "      <td>11</td>\n",
       "      <td>1</td>\n",
       "      <td>8</td>\n",
       "      <td>6353</td>\n",
       "      <td>1963-07-22</td>\n",
       "      <td>2015-06-12</td>\n",
       "      <td>programa de difusion y divulgacion de la cienc...</td>\n",
       "      <td>participacion de comunidad estudiantil y docen...</td>\n",
       "      <td>universidad tecnologica de jalisco</td>\n",
       "      <td>-5500</td>\n",
       "      <td>Hombres</td>\n",
       "      <td>trabajadores en actividades agricolas ganadera...</td>\n",
       "      <td>Primaria</td>\n",
       "    </tr>\n",
       "    <tr>\n",
       "      <th>66505</th>\n",
       "      <td>4090</td>\n",
       "      <td>30.0</td>\n",
       "      <td>472500.0</td>\n",
       "      <td>7.0</td>\n",
       "      <td>14.0</td>\n",
       "      <td>39</td>\n",
       "      <td>14</td>\n",
       "      <td>101</td>\n",
       "      <td>39</td>\n",
       "      <td>NaN</td>\n",
       "      <td>88</td>\n",
       "      <td>3</td>\n",
       "      <td>1</td>\n",
       "      <td>5</td>\n",
       "      <td>6353</td>\n",
       "      <td>1924-09-09</td>\n",
       "      <td>2015-06-15</td>\n",
       "      <td>programa de difusion y divulgacion de la cienc...</td>\n",
       "      <td>participacion de comunidad estudiantil y docen...</td>\n",
       "      <td>universidad tecnologica de jalisco</td>\n",
       "      <td>-3000</td>\n",
       "      <td>Hombres</td>\n",
       "      <td>no trabaja</td>\n",
       "      <td>Primaria</td>\n",
       "    </tr>\n",
       "    <tr>\n",
       "      <th>66538</th>\n",
       "      <td>4061</td>\n",
       "      <td>15.0</td>\n",
       "      <td>472500.0</td>\n",
       "      <td>1.0</td>\n",
       "      <td>9.0</td>\n",
       "      <td>7</td>\n",
       "      <td>9</td>\n",
       "      <td>7</td>\n",
       "      <td>7</td>\n",
       "      <td>NaN</td>\n",
       "      <td>88</td>\n",
       "      <td>8</td>\n",
       "      <td>1</td>\n",
       "      <td>6</td>\n",
       "      <td>6353</td>\n",
       "      <td>1954-01-30</td>\n",
       "      <td>2015-07-20</td>\n",
       "      <td>programa de difusion y divulgacion de la cienc...</td>\n",
       "      <td>participacion de comunidad estudiantil y docen...</td>\n",
       "      <td>universidad tecnologica de jalisco</td>\n",
       "      <td>-1500</td>\n",
       "      <td>Hombres</td>\n",
       "      <td>trabajadores artesanales</td>\n",
       "      <td>Primaria</td>\n",
       "    </tr>\n",
       "    <tr>\n",
       "      <th>66634</th>\n",
       "      <td>4068</td>\n",
       "      <td>20.0</td>\n",
       "      <td>472500.0</td>\n",
       "      <td>8.0</td>\n",
       "      <td>2.0</td>\n",
       "      <td>4</td>\n",
       "      <td>2</td>\n",
       "      <td>4</td>\n",
       "      <td>4</td>\n",
       "      <td>NaN</td>\n",
       "      <td>88</td>\n",
       "      <td>3</td>\n",
       "      <td>1</td>\n",
       "      <td>8</td>\n",
       "      <td>6353</td>\n",
       "      <td>1946-05-13</td>\n",
       "      <td>2015-11-04</td>\n",
       "      <td>programa de difusion y divulgacion de la cienc...</td>\n",
       "      <td>participacion de comunidad estudiantil y docen...</td>\n",
       "      <td>universidad tecnologica de jalisco</td>\n",
       "      <td>-2000</td>\n",
       "      <td>Hombres</td>\n",
       "      <td>comerciantes empleados en ventas y agentes de ...</td>\n",
       "      <td>Profesional</td>\n",
       "    </tr>\n",
       "  </tbody>\n",
       "</table>\n",
       "<p>354 rows × 24 columns</p>\n",
       "</div>"
      ],
      "text/plain": [
       "       c_edad  c_minutos c_monto_de_apoyo  c_horas  v_ent_regis  v_mun_regis  \\\n",
       "44       4053       50.0        3258370.0     19.0          9.0           15   \n",
       "752      4082       40.0         534650.0     18.0         13.0           28   \n",
       "1063     4054       50.0        2642237.0     17.0          4.0            3   \n",
       "1123     4050       30.0        2642237.0     22.0          9.0            5   \n",
       "1719     4065       99.0         295448.0     99.0         19.0           39   \n",
       "...       ...        ...              ...      ...          ...          ...   \n",
       "66396    4029       50.0         472500.0     23.0         10.0            5   \n",
       "66502    4052       55.0         472500.0      3.0         30.0          132   \n",
       "66505    4090       30.0         472500.0      7.0         14.0           39   \n",
       "66538    4061       15.0         472500.0      1.0          9.0            7   \n",
       "66634    4068       20.0         472500.0      8.0          2.0            4   \n",
       "\n",
       "       v_ent_resid  v_mun_resid  v_mun_ocurr  v_edo_civil  v_lugar_ocur  \\\n",
       "44              15           58           15          NaN            88   \n",
       "752             13           28           28          NaN            88   \n",
       "1063             4            3            2          NaN            88   \n",
       "1123             9            5            5          NaN            88   \n",
       "1719            19           39           39          NaN            88   \n",
       "...            ...          ...          ...          ...           ...   \n",
       "66396           10            1            5          NaN             4   \n",
       "66502           30          132          132          NaN            88   \n",
       "66505           14          101           39          NaN            88   \n",
       "66538            9            7            7          NaN            88   \n",
       "66634            2            4            4          NaN            88   \n",
       "\n",
       "       v_sitio_ocur  v_nacionalid  v_grupo  v_clave d_fecha_nac d_fecha_ocurr  \\\n",
       "44                1             1        3     6821  1961-07-02    2014-06-06   \n",
       "752              11             1        5     6836  1933-06-01    2015-10-13   \n",
       "1063              4             1        2     6837  1960-12-03    2015-06-14   \n",
       "1123             11             1        4     6837  1964-03-12    2015-08-18   \n",
       "1719              3             1        2     6708  1949-06-04    2014-08-15   \n",
       "...             ...           ...      ...      ...         ...           ...   \n",
       "66396             1             1        9     6353  1986-03-27    2015-02-18   \n",
       "66502            11             1        8     6353  1963-07-22    2015-06-12   \n",
       "66505             3             1        5     6353  1924-09-09    2015-06-15   \n",
       "66538             8             1        6     6353  1954-01-30    2015-07-20   \n",
       "66634             3             1        8     6353  1946-05-13    2015-11-04   \n",
       "\n",
       "                                        t_programa_fondo  \\\n",
       "44     programa estatal para el desarrollo de la indu...   \n",
       "752    programa para el fomento de recursos humanos d...   \n",
       "1063   programa cluster de ciencia tecnologia e innov...   \n",
       "1123   programa cluster de ciencia tecnologia e innov...   \n",
       "1719           programa de desarrollo de prototipos 2018   \n",
       "...                                                  ...   \n",
       "66396  programa de difusion y divulgacion de la cienc...   \n",
       "66502  programa de difusion y divulgacion de la cienc...   \n",
       "66505  programa de difusion y divulgacion de la cienc...   \n",
       "66538  programa de difusion y divulgacion de la cienc...   \n",
       "66634  programa de difusion y divulgacion de la cienc...   \n",
       "\n",
       "                                   t_nombre_del_proyecto  \\\n",
       "44     fortalecimiento de capacidades empresariales p...   \n",
       "752    becas singularity u mexico summit 4 0 industri...   \n",
       "1063   participacion de la industria mexicana del clu...   \n",
       "1123   participacion de la industria mexicana del clu...   \n",
       "1719   active financial s a de c v y un prototipo de ...   \n",
       "...                                                  ...   \n",
       "66396  participacion de comunidad estudiantil y docen...   \n",
       "66502  participacion de comunidad estudiantil y docen...   \n",
       "66505  participacion de comunidad estudiantil y docen...   \n",
       "66538  participacion de comunidad estudiantil y docen...   \n",
       "66634  participacion de comunidad estudiantil y docen...   \n",
       "\n",
       "                t_nombre_del_beneficiario  c_salario   v_sexo  \\\n",
       "44             4 0 industrial cluster a c      -5000  Mujeres   \n",
       "752             4 0 industrial cluster ac      -4000  Mujeres   \n",
       "1063            4 0 industrial cluster ac      -5000  Mujeres   \n",
       "1123            4 0 industrial cluster ac      -3000  Hombres   \n",
       "1719          active financial s a de c v      -9900  Hombres   \n",
       "...                                   ...        ...      ...   \n",
       "66396  universidad tecnologica de jalisco      -5000  Hombres   \n",
       "66502  universidad tecnologica de jalisco      -5500  Hombres   \n",
       "66505  universidad tecnologica de jalisco      -3000  Hombres   \n",
       "66538  universidad tecnologica de jalisco      -1500  Hombres   \n",
       "66634  universidad tecnologica de jalisco      -2000  Hombres   \n",
       "\n",
       "                                             v_ocupacion  \\\n",
       "44                                            no trabaja   \n",
       "752                                           no trabaja   \n",
       "1063                                          no trabaja   \n",
       "1123                                          no trabaja   \n",
       "1719                                          no trabaja   \n",
       "...                                                  ...   \n",
       "66396  comerciantes empleados en ventas y agentes de ...   \n",
       "66502  trabajadores en actividades agricolas ganadera...   \n",
       "66505                                         no trabaja   \n",
       "66538                           trabajadores artesanales   \n",
       "66634  comerciantes empleados en ventas y agentes de ...   \n",
       "\n",
       "                      v_escolarida  \n",
       "44                        Primaria  \n",
       "752                Sin escolaridad  \n",
       "1063                      Primaria  \n",
       "1123                    Secundaria  \n",
       "1719                      Primaria  \n",
       "...                            ...  \n",
       "66396  Bachillerato o Preparatoria  \n",
       "66502                     Primaria  \n",
       "66505                     Primaria  \n",
       "66538                     Primaria  \n",
       "66634                  Profesional  \n",
       "\n",
       "[354 rows x 24 columns]"
      ]
     },
     "execution_count": 184,
     "metadata": {},
     "output_type": "execute_result"
    }
   ],
   "source": [
    "#Verificamos si existe información no consistente\n",
    "df[df[\"c_salario\"].map(lambda x:x<0)]"
   ]
  },
  {
   "cell_type": "code",
   "execution_count": 186,
   "metadata": {
    "ExecuteTime": {
     "end_time": "2021-05-13T20:58:40.669757Z",
     "start_time": "2021-05-13T20:58:40.475528Z"
    },
    "id": "5GWyKRbQHaB9",
    "outputId": "fb63a620-83bf-4a1d-e6c4-ff9077824c56",
    "scrolled": true
   },
   "outputs": [
    {
     "data": {
      "text/plain": [
       "0.005276179688198646"
      ]
     },
     "execution_count": 186,
     "metadata": {},
     "output_type": "execute_result"
    }
   ],
   "source": [
    "df[df[\"c_salario\"].map(lambda x:x<0)].shape[0]/df.shape[0]"
   ]
  },
  {
   "cell_type": "code",
   "execution_count": 187,
   "metadata": {
    "ExecuteTime": {
     "end_time": "2021-05-13T20:58:40.789503Z",
     "start_time": "2021-05-13T20:58:40.672161Z"
    },
    "id": "U42LFIEDHaB-"
   },
   "outputs": [],
   "source": [
    "df=df[~df[\"c_salario\"].map(lambda x:x<0)]"
   ]
  },
  {
   "cell_type": "code",
   "execution_count": 188,
   "metadata": {
    "ExecuteTime": {
     "end_time": "2021-05-13T20:58:41.258621Z",
     "start_time": "2021-05-13T20:58:40.790930Z"
    },
    "id": "KMaQPSVOHaB_"
   },
   "outputs": [],
   "source": [
    "df.reset_index(drop=True,inplace=True)"
   ]
  },
  {
   "cell_type": "code",
   "execution_count": 189,
   "metadata": {
    "ExecuteTime": {
     "end_time": "2021-05-13T20:58:41.486187Z",
     "start_time": "2021-05-13T20:58:41.264224Z"
    },
    "id": "RFCkJAv1HaCA",
    "outputId": "75b3f0f8-9a2e-4919-ac62-e35615369437"
   },
   "outputs": [
    {
     "name": "stderr",
     "output_type": "stream",
     "text": [
      "/tmp/ipykernel_135491/4124217729.py:1: SettingWithCopyWarning: \n",
      "A value is trying to be set on a copy of a slice from a DataFrame.\n",
      "Try using .loc[row_indexer,col_indexer] = value instead\n",
      "\n",
      "See the caveats in the documentation: https://pandas.pydata.org/pandas-docs/stable/user_guide/indexing.html#returning-a-view-versus-a-copy\n",
      "  df[\"c_salario\"]=df[\"c_salario\"].astype(float)\n"
     ]
    }
   ],
   "source": [
    "df[\"c_salario\"]=df[\"c_salario\"].astype(float)"
   ]
  },
  {
   "cell_type": "code",
   "execution_count": 190,
   "metadata": {
    "ExecuteTime": {
     "end_time": "2021-05-13T20:58:41.574729Z",
     "start_time": "2021-05-13T20:58:41.492235Z"
    },
    "id": "TRwRcY28HaCA",
    "outputId": "b9bf7390-bf16-4514-948f-49189a4453f7",
    "scrolled": true
   },
   "outputs": [
    {
     "data": {
      "text/plain": [
       "count    66740.000000\n",
       "mean      2164.253821\n",
       "std       1948.994535\n",
       "min          0.000000\n",
       "25%          0.000000\n",
       "50%       2000.000000\n",
       "75%       3400.000000\n",
       "max       9900.000000\n",
       "Name: c_salario, dtype: float64"
      ]
     },
     "execution_count": 190,
     "metadata": {},
     "output_type": "execute_result"
    }
   ],
   "source": [
    "df[\"c_salario\"].describe()"
   ]
  },
  {
   "cell_type": "markdown",
   "metadata": {
    "id": "wp0EdpyCHaCB"
   },
   "source": [
    "#### EDAD"
   ]
  },
  {
   "cell_type": "code",
   "execution_count": 191,
   "metadata": {
    "ExecuteTime": {
     "end_time": "2021-05-13T20:58:41.678253Z",
     "start_time": "2021-05-13T20:58:41.576295Z"
    },
    "id": "HLFd9zI0HaCC",
    "outputId": "7ac8f6ca-7888-4030-e611-7ad3f622274b"
   },
   "outputs": [
    {
     "data": {
      "text/plain": [
       "0        4057\n",
       "1        4045\n",
       "2        4087\n",
       "3        4082\n",
       "4        4037\n",
       "         ... \n",
       "66735    4080\n",
       "66736    4085\n",
       "66737    4089\n",
       "66738    4085\n",
       "66739    4061\n",
       "Name: c_edad, Length: 66740, dtype: int64"
      ]
     },
     "execution_count": 191,
     "metadata": {},
     "output_type": "execute_result"
    }
   ],
   "source": [
    "df[\"c_edad\"]"
   ]
  },
  {
   "cell_type": "code",
   "execution_count": 193,
   "metadata": {
    "scrolled": true
   },
   "outputs": [
    {
     "data": {
      "text/html": [
       "<div>\n",
       "<style scoped>\n",
       "    .dataframe tbody tr th:only-of-type {\n",
       "        vertical-align: middle;\n",
       "    }\n",
       "\n",
       "    .dataframe tbody tr th {\n",
       "        vertical-align: top;\n",
       "    }\n",
       "\n",
       "    .dataframe thead th {\n",
       "        text-align: right;\n",
       "    }\n",
       "</style>\n",
       "<table border=\"1\" class=\"dataframe\">\n",
       "  <thead>\n",
       "    <tr style=\"text-align: right;\">\n",
       "      <th></th>\n",
       "      <th>CVE</th>\n",
       "      <th>DESCRIP</th>\n",
       "    </tr>\n",
       "  </thead>\n",
       "  <tbody>\n",
       "    <tr>\n",
       "      <th>0</th>\n",
       "      <td>1001</td>\n",
       "      <td>Una hora</td>\n",
       "    </tr>\n",
       "    <tr>\n",
       "      <th>1</th>\n",
       "      <td>1002</td>\n",
       "      <td>Dos horas</td>\n",
       "    </tr>\n",
       "    <tr>\n",
       "      <th>2</th>\n",
       "      <td>1003</td>\n",
       "      <td>Tres horas</td>\n",
       "    </tr>\n",
       "    <tr>\n",
       "      <th>3</th>\n",
       "      <td>1004</td>\n",
       "      <td>Cuatro horas</td>\n",
       "    </tr>\n",
       "    <tr>\n",
       "      <th>4</th>\n",
       "      <td>1005</td>\n",
       "      <td>Cinco horas</td>\n",
       "    </tr>\n",
       "    <tr>\n",
       "      <th>...</th>\n",
       "      <td>...</td>\n",
       "      <td>...</td>\n",
       "    </tr>\n",
       "    <tr>\n",
       "      <th>183</th>\n",
       "      <td>4117</td>\n",
       "      <td>Ciento diecisiete años</td>\n",
       "    </tr>\n",
       "    <tr>\n",
       "      <th>184</th>\n",
       "      <td>4118</td>\n",
       "      <td>Ciento dieciocho años</td>\n",
       "    </tr>\n",
       "    <tr>\n",
       "      <th>185</th>\n",
       "      <td>4119</td>\n",
       "      <td>Ciento diecinueve años</td>\n",
       "    </tr>\n",
       "    <tr>\n",
       "      <th>186</th>\n",
       "      <td>4120</td>\n",
       "      <td>Ciento veinte años</td>\n",
       "    </tr>\n",
       "    <tr>\n",
       "      <th>187</th>\n",
       "      <td>4998</td>\n",
       "      <td>Edad en años no especificada</td>\n",
       "    </tr>\n",
       "  </tbody>\n",
       "</table>\n",
       "<p>188 rows × 2 columns</p>\n",
       "</div>"
      ],
      "text/plain": [
       "      CVE                          DESCRIP\n",
       "0    1001  Una hora                       \n",
       "1    1002  Dos horas                      \n",
       "2    1003  Tres horas                     \n",
       "3    1004  Cuatro horas                   \n",
       "4    1005  Cinco horas                    \n",
       "..    ...                              ...\n",
       "183  4117  Ciento diecisiete años         \n",
       "184  4118  Ciento dieciocho años          \n",
       "185  4119  Ciento diecinueve años         \n",
       "186  4120  Ciento veinte años             \n",
       "187  4998  Edad en años no especificada   \n",
       "\n",
       "[188 rows x 2 columns]"
      ]
     },
     "execution_count": 193,
     "metadata": {},
     "output_type": "execute_result"
    }
   ],
   "source": [
    "edad"
   ]
  },
  {
   "cell_type": "code",
   "execution_count": 195,
   "metadata": {
    "ExecuteTime": {
     "end_time": "2021-05-13T20:58:41.799709Z",
     "start_time": "2021-05-13T20:58:41.683476Z"
    },
    "id": "6Q9_AMTWHaCD",
    "outputId": "1c6044ed-2388-4db7-a66f-399b44b14c1d"
   },
   "outputs": [
    {
     "data": {
      "text/html": [
       "<div>\n",
       "<style scoped>\n",
       "    .dataframe tbody tr th:only-of-type {\n",
       "        vertical-align: middle;\n",
       "    }\n",
       "\n",
       "    .dataframe tbody tr th {\n",
       "        vertical-align: top;\n",
       "    }\n",
       "\n",
       "    .dataframe thead th {\n",
       "        text-align: right;\n",
       "    }\n",
       "</style>\n",
       "<table border=\"1\" class=\"dataframe\">\n",
       "  <thead>\n",
       "    <tr style=\"text-align: right;\">\n",
       "      <th></th>\n",
       "      <th>CVE</th>\n",
       "      <th>DESCRIP</th>\n",
       "    </tr>\n",
       "  </thead>\n",
       "  <tbody>\n",
       "    <tr>\n",
       "      <th>67</th>\n",
       "      <td>4001</td>\n",
       "      <td>Un año</td>\n",
       "    </tr>\n",
       "    <tr>\n",
       "      <th>68</th>\n",
       "      <td>4002</td>\n",
       "      <td>Dos años</td>\n",
       "    </tr>\n",
       "    <tr>\n",
       "      <th>69</th>\n",
       "      <td>4003</td>\n",
       "      <td>Tres años</td>\n",
       "    </tr>\n",
       "    <tr>\n",
       "      <th>70</th>\n",
       "      <td>4004</td>\n",
       "      <td>Cuatro años</td>\n",
       "    </tr>\n",
       "    <tr>\n",
       "      <th>71</th>\n",
       "      <td>4005</td>\n",
       "      <td>Cinco años</td>\n",
       "    </tr>\n",
       "    <tr>\n",
       "      <th>...</th>\n",
       "      <td>...</td>\n",
       "      <td>...</td>\n",
       "    </tr>\n",
       "    <tr>\n",
       "      <th>183</th>\n",
       "      <td>4117</td>\n",
       "      <td>Ciento diecisiete años</td>\n",
       "    </tr>\n",
       "    <tr>\n",
       "      <th>184</th>\n",
       "      <td>4118</td>\n",
       "      <td>Ciento dieciocho años</td>\n",
       "    </tr>\n",
       "    <tr>\n",
       "      <th>185</th>\n",
       "      <td>4119</td>\n",
       "      <td>Ciento diecinueve años</td>\n",
       "    </tr>\n",
       "    <tr>\n",
       "      <th>186</th>\n",
       "      <td>4120</td>\n",
       "      <td>Ciento veinte años</td>\n",
       "    </tr>\n",
       "    <tr>\n",
       "      <th>187</th>\n",
       "      <td>4998</td>\n",
       "      <td>Edad en años no especificada</td>\n",
       "    </tr>\n",
       "  </tbody>\n",
       "</table>\n",
       "<p>121 rows × 2 columns</p>\n",
       "</div>"
      ],
      "text/plain": [
       "      CVE                          DESCRIP\n",
       "67   4001  Un año                         \n",
       "68   4002  Dos años                       \n",
       "69   4003  Tres años                      \n",
       "70   4004  Cuatro años                    \n",
       "71   4005  Cinco años                     \n",
       "..    ...                              ...\n",
       "183  4117  Ciento diecisiete años         \n",
       "184  4118  Ciento dieciocho años          \n",
       "185  4119  Ciento diecinueve años         \n",
       "186  4120  Ciento veinte años             \n",
       "187  4998  Edad en años no especificada   \n",
       "\n",
       "[121 rows x 2 columns]"
      ]
     },
     "execution_count": 195,
     "metadata": {},
     "output_type": "execute_result"
    }
   ],
   "source": [
    "edad[edad[\"CVE\"].map(lambda x:str(x).startswith(\"4\"))]"
   ]
  },
  {
   "cell_type": "code",
   "execution_count": 202,
   "metadata": {},
   "outputs": [
    {
     "data": {
      "text/html": [
       "<div>\n",
       "<style scoped>\n",
       "    .dataframe tbody tr th:only-of-type {\n",
       "        vertical-align: middle;\n",
       "    }\n",
       "\n",
       "    .dataframe tbody tr th {\n",
       "        vertical-align: top;\n",
       "    }\n",
       "\n",
       "    .dataframe thead th {\n",
       "        text-align: right;\n",
       "    }\n",
       "</style>\n",
       "<table border=\"1\" class=\"dataframe\">\n",
       "  <thead>\n",
       "    <tr style=\"text-align: right;\">\n",
       "      <th></th>\n",
       "      <th>c_edad</th>\n",
       "      <th>c_minutos</th>\n",
       "      <th>c_monto_de_apoyo</th>\n",
       "      <th>c_horas</th>\n",
       "      <th>v_ent_regis</th>\n",
       "      <th>v_mun_regis</th>\n",
       "      <th>v_ent_resid</th>\n",
       "      <th>v_mun_resid</th>\n",
       "      <th>v_mun_ocurr</th>\n",
       "      <th>v_edo_civil</th>\n",
       "      <th>v_lugar_ocur</th>\n",
       "      <th>v_sitio_ocur</th>\n",
       "      <th>v_nacionalid</th>\n",
       "      <th>v_grupo</th>\n",
       "      <th>v_clave</th>\n",
       "      <th>d_fecha_nac</th>\n",
       "      <th>d_fecha_ocurr</th>\n",
       "      <th>t_programa_fondo</th>\n",
       "      <th>t_nombre_del_proyecto</th>\n",
       "      <th>t_nombre_del_beneficiario</th>\n",
       "      <th>c_salario</th>\n",
       "      <th>v_sexo</th>\n",
       "      <th>v_ocupacion</th>\n",
       "      <th>v_escolarida</th>\n",
       "    </tr>\n",
       "  </thead>\n",
       "  <tbody>\n",
       "  </tbody>\n",
       "</table>\n",
       "</div>"
      ],
      "text/plain": [
       "Empty DataFrame\n",
       "Columns: [c_edad, c_minutos, c_monto_de_apoyo, c_horas, v_ent_regis, v_mun_regis, v_ent_resid, v_mun_resid, v_mun_ocurr, v_edo_civil, v_lugar_ocur, v_sitio_ocur, v_nacionalid, v_grupo, v_clave, d_fecha_nac, d_fecha_ocurr, t_programa_fondo, t_nombre_del_proyecto, t_nombre_del_beneficiario, c_salario, v_sexo, v_ocupacion, v_escolarida]\n",
       "Index: []"
      ]
     },
     "execution_count": 202,
     "metadata": {},
     "output_type": "execute_result"
    }
   ],
   "source": [
    "df[~df[\"c_edad\"].map(lambda x:str(x).startswith(\"4\"))]"
   ]
  },
  {
   "cell_type": "code",
   "execution_count": 196,
   "metadata": {
    "ExecuteTime": {
     "end_time": "2021-05-13T20:58:41.925664Z",
     "start_time": "2021-05-13T20:58:41.804652Z"
    },
    "id": "HBEqhG3-HaCE",
    "outputId": "0cd1068a-8ddb-41ef-8357-4d1e21444bb4",
    "scrolled": true
   },
   "outputs": [
    {
     "data": {
      "text/plain": [
       "0.035016481869943064"
      ]
     },
     "execution_count": 196,
     "metadata": {},
     "output_type": "execute_result"
    }
   ],
   "source": [
    "df[~df[\"c_edad\"].map(lambda x:str(x).startswith(\"4\"))].shape[0]/df.shape[0]"
   ]
  },
  {
   "cell_type": "code",
   "execution_count": 197,
   "metadata": {
    "ExecuteTime": {
     "end_time": "2021-05-13T20:58:42.079571Z",
     "start_time": "2021-05-13T20:58:41.927550Z"
    },
    "id": "DJ6W1mdbHaCE",
    "scrolled": true
   },
   "outputs": [],
   "source": [
    "df=df[df[\"c_edad\"].map(lambda x:str(x).startswith(\"4\"))]\n",
    "df.reset_index(drop=True,inplace=True)"
   ]
  },
  {
   "cell_type": "code",
   "execution_count": 207,
   "metadata": {
    "ExecuteTime": {
     "end_time": "2021-05-13T20:58:42.221320Z",
     "start_time": "2021-05-13T20:58:42.081337Z"
    },
    "id": "oK88ubEOHaCF",
    "scrolled": true
   },
   "outputs": [],
   "source": [
    "df[\"c_edad\"]=df[\"c_edad\"].astype(str).str[-3:].astype(int)"
   ]
  },
  {
   "cell_type": "code",
   "execution_count": 204,
   "metadata": {},
   "outputs": [
    {
     "data": {
      "text/plain": [
       "4084    1565\n",
       "4079    1512\n",
       "4078    1450\n",
       "4085    1410\n",
       "4080    1410\n",
       "        ... \n",
       "4112       3\n",
       "4114       3\n",
       "4115       1\n",
       "4117       1\n",
       "4113       1\n",
       "Name: c_edad, Length: 117, dtype: int64"
      ]
     },
     "execution_count": 204,
     "metadata": {},
     "output_type": "execute_result"
    }
   ],
   "source": [
    "df[\"c_edad\"].value_counts()"
   ]
  },
  {
   "cell_type": "code",
   "execution_count": 155,
   "metadata": {
    "ExecuteTime": {
     "end_time": "2021-05-13T20:58:42.345643Z",
     "start_time": "2021-05-13T20:58:42.223129Z"
    },
    "id": "OGZ0_YYsHaCF",
    "outputId": "74c41e3c-fa45-41a0-fd41-0891506426fd"
   },
   "outputs": [
    {
     "data": {
      "text/html": [
       "<div>\n",
       "<style scoped>\n",
       "    .dataframe tbody tr th:only-of-type {\n",
       "        vertical-align: middle;\n",
       "    }\n",
       "\n",
       "    .dataframe tbody tr th {\n",
       "        vertical-align: top;\n",
       "    }\n",
       "\n",
       "    .dataframe thead th {\n",
       "        text-align: right;\n",
       "    }\n",
       "</style>\n",
       "<table border=\"1\" class=\"dataframe\">\n",
       "  <thead>\n",
       "    <tr style=\"text-align: right;\">\n",
       "      <th></th>\n",
       "      <th>c_edad</th>\n",
       "      <th>c_minutos</th>\n",
       "      <th>c_monto_de_apoyo</th>\n",
       "      <th>c_horas</th>\n",
       "      <th>v_ent_regis</th>\n",
       "      <th>v_mun_regis</th>\n",
       "      <th>v_ent_resid</th>\n",
       "      <th>v_mun_resid</th>\n",
       "      <th>v_mun_ocurr</th>\n",
       "      <th>v_edo_civil</th>\n",
       "      <th>v_lugar_ocur</th>\n",
       "      <th>v_sitio_ocur</th>\n",
       "      <th>v_nacionalid</th>\n",
       "      <th>v_grupo</th>\n",
       "      <th>v_clave</th>\n",
       "      <th>d_fecha_nac</th>\n",
       "      <th>d_fecha_ocurr</th>\n",
       "      <th>t_programa_fondo</th>\n",
       "      <th>t_nombre_del_proyecto</th>\n",
       "      <th>t_nombre_del_beneficiario</th>\n",
       "      <th>c_salario</th>\n",
       "      <th>v_sexo</th>\n",
       "      <th>v_ocupacion</th>\n",
       "      <th>v_escolarida</th>\n",
       "    </tr>\n",
       "  </thead>\n",
       "  <tbody>\n",
       "    <tr>\n",
       "      <th>0</th>\n",
       "      <td>57</td>\n",
       "      <td>0.0</td>\n",
       "      <td>3258370.0</td>\n",
       "      <td>0.0</td>\n",
       "      <td>25.0</td>\n",
       "      <td>1</td>\n",
       "      <td>25</td>\n",
       "      <td>1</td>\n",
       "      <td>1</td>\n",
       "      <td>NaN</td>\n",
       "      <td>88</td>\n",
       "      <td>99</td>\n",
       "      <td>1</td>\n",
       "      <td>13</td>\n",
       "      <td>6821</td>\n",
       "      <td>1949-06-14</td>\n",
       "      <td>2006-12-10</td>\n",
       "      <td>programa estatal para el desarrollo de la indu...</td>\n",
       "      <td>fortalecimiento de capacidades empresariales p...</td>\n",
       "      <td>4 0 industrial cluster a c</td>\n",
       "      <td>0.0</td>\n",
       "      <td>Hombres</td>\n",
       "      <td>ocupacion no especificada</td>\n",
       "      <td>NaN</td>\n",
       "    </tr>\n",
       "    <tr>\n",
       "      <th>1</th>\n",
       "      <td>45</td>\n",
       "      <td>0.0</td>\n",
       "      <td>3258370.0</td>\n",
       "      <td>22.0</td>\n",
       "      <td>15.0</td>\n",
       "      <td>106</td>\n",
       "      <td>15</td>\n",
       "      <td>999</td>\n",
       "      <td>106</td>\n",
       "      <td>NaN</td>\n",
       "      <td>4</td>\n",
       "      <td>99</td>\n",
       "      <td>1</td>\n",
       "      <td>27</td>\n",
       "      <td>6821</td>\n",
       "      <td>NaN</td>\n",
       "      <td>2008-02-08</td>\n",
       "      <td>programa estatal para el desarrollo de la indu...</td>\n",
       "      <td>fortalecimiento de capacidades empresariales p...</td>\n",
       "      <td>4 0 industrial cluster a c</td>\n",
       "      <td>0.0</td>\n",
       "      <td>Hombres</td>\n",
       "      <td>ocupacion no especificada</td>\n",
       "      <td>NaN</td>\n",
       "    </tr>\n",
       "    <tr>\n",
       "      <th>2</th>\n",
       "      <td>87</td>\n",
       "      <td>30.0</td>\n",
       "      <td>3258370.0</td>\n",
       "      <td>18.0</td>\n",
       "      <td>16.0</td>\n",
       "      <td>17</td>\n",
       "      <td>16</td>\n",
       "      <td>17</td>\n",
       "      <td>17</td>\n",
       "      <td>NaN</td>\n",
       "      <td>88</td>\n",
       "      <td>3</td>\n",
       "      <td>1</td>\n",
       "      <td>6</td>\n",
       "      <td>6821</td>\n",
       "      <td>1922-08-25</td>\n",
       "      <td>2009-11-18</td>\n",
       "      <td>programa estatal para el desarrollo de la indu...</td>\n",
       "      <td>fortalecimiento de capacidades empresariales p...</td>\n",
       "      <td>4 0 industrial cluster a c</td>\n",
       "      <td>3000.0</td>\n",
       "      <td>Hombres</td>\n",
       "      <td>ocupaciones insuficientemente especificadas</td>\n",
       "      <td>NaN</td>\n",
       "    </tr>\n",
       "    <tr>\n",
       "      <th>3</th>\n",
       "      <td>82</td>\n",
       "      <td>15.0</td>\n",
       "      <td>3258370.0</td>\n",
       "      <td>11.0</td>\n",
       "      <td>14.0</td>\n",
       "      <td>18</td>\n",
       "      <td>16</td>\n",
       "      <td>11</td>\n",
       "      <td>18</td>\n",
       "      <td>NaN</td>\n",
       "      <td>88</td>\n",
       "      <td>9</td>\n",
       "      <td>2</td>\n",
       "      <td>11</td>\n",
       "      <td>6821</td>\n",
       "      <td>1930-06-14</td>\n",
       "      <td>2012-05-27</td>\n",
       "      <td>programa estatal para el desarrollo de la indu...</td>\n",
       "      <td>fortalecimiento de capacidades empresariales p...</td>\n",
       "      <td>4 0 industrial cluster a c</td>\n",
       "      <td>1500.0</td>\n",
       "      <td>Hombres</td>\n",
       "      <td>no trabaja</td>\n",
       "      <td>Primaria</td>\n",
       "    </tr>\n",
       "    <tr>\n",
       "      <th>4</th>\n",
       "      <td>37</td>\n",
       "      <td>20.0</td>\n",
       "      <td>3258370.0</td>\n",
       "      <td>9.0</td>\n",
       "      <td>21.0</td>\n",
       "      <td>90</td>\n",
       "      <td>21</td>\n",
       "      <td>90</td>\n",
       "      <td>140</td>\n",
       "      <td>NaN</td>\n",
       "      <td>88</td>\n",
       "      <td>1</td>\n",
       "      <td>1</td>\n",
       "      <td>2</td>\n",
       "      <td>6821</td>\n",
       "      <td>1975-06-21</td>\n",
       "      <td>2012-06-15</td>\n",
       "      <td>programa estatal para el desarrollo de la indu...</td>\n",
       "      <td>fortalecimiento de capacidades empresariales p...</td>\n",
       "      <td>4 0 industrial cluster a c</td>\n",
       "      <td>2000.0</td>\n",
       "      <td>Hombres</td>\n",
       "      <td>trabajadores artesanales</td>\n",
       "      <td>NaN</td>\n",
       "    </tr>\n",
       "  </tbody>\n",
       "</table>\n",
       "</div>"
      ],
      "text/plain": [
       "   c_edad  c_minutos c_monto_de_apoyo  c_horas  v_ent_regis  v_mun_regis  \\\n",
       "0      57        0.0        3258370.0      0.0         25.0            1   \n",
       "1      45        0.0        3258370.0     22.0         15.0          106   \n",
       "2      87       30.0        3258370.0     18.0         16.0           17   \n",
       "3      82       15.0        3258370.0     11.0         14.0           18   \n",
       "4      37       20.0        3258370.0      9.0         21.0           90   \n",
       "\n",
       "   v_ent_resid  v_mun_resid  v_mun_ocurr  v_edo_civil  v_lugar_ocur  \\\n",
       "0           25            1            1          NaN            88   \n",
       "1           15          999          106          NaN             4   \n",
       "2           16           17           17          NaN            88   \n",
       "3           16           11           18          NaN            88   \n",
       "4           21           90          140          NaN            88   \n",
       "\n",
       "   v_sitio_ocur  v_nacionalid  v_grupo  v_clave d_fecha_nac d_fecha_ocurr  \\\n",
       "0            99             1       13     6821  1949-06-14    2006-12-10   \n",
       "1            99             1       27     6821         NaN    2008-02-08   \n",
       "2             3             1        6     6821  1922-08-25    2009-11-18   \n",
       "3             9             2       11     6821  1930-06-14    2012-05-27   \n",
       "4             1             1        2     6821  1975-06-21    2012-06-15   \n",
       "\n",
       "                                    t_programa_fondo  \\\n",
       "0  programa estatal para el desarrollo de la indu...   \n",
       "1  programa estatal para el desarrollo de la indu...   \n",
       "2  programa estatal para el desarrollo de la indu...   \n",
       "3  programa estatal para el desarrollo de la indu...   \n",
       "4  programa estatal para el desarrollo de la indu...   \n",
       "\n",
       "                               t_nombre_del_proyecto  \\\n",
       "0  fortalecimiento de capacidades empresariales p...   \n",
       "1  fortalecimiento de capacidades empresariales p...   \n",
       "2  fortalecimiento de capacidades empresariales p...   \n",
       "3  fortalecimiento de capacidades empresariales p...   \n",
       "4  fortalecimiento de capacidades empresariales p...   \n",
       "\n",
       "    t_nombre_del_beneficiario  c_salario   v_sexo  \\\n",
       "0  4 0 industrial cluster a c        0.0  Hombres   \n",
       "1  4 0 industrial cluster a c        0.0  Hombres   \n",
       "2  4 0 industrial cluster a c     3000.0  Hombres   \n",
       "3  4 0 industrial cluster a c     1500.0  Hombres   \n",
       "4  4 0 industrial cluster a c     2000.0  Hombres   \n",
       "\n",
       "                                   v_ocupacion v_escolarida  \n",
       "0                    ocupacion no especificada          NaN  \n",
       "1                    ocupacion no especificada          NaN  \n",
       "2  ocupaciones insuficientemente especificadas          NaN  \n",
       "3                                   no trabaja     Primaria  \n",
       "4                     trabajadores artesanales          NaN  "
      ]
     },
     "execution_count": 155,
     "metadata": {},
     "output_type": "execute_result"
    }
   ],
   "source": [
    "df.head()"
   ]
  },
  {
   "cell_type": "code",
   "execution_count": 209,
   "metadata": {},
   "outputs": [
    {
     "data": {
      "text/html": [
       "<div>\n",
       "<style scoped>\n",
       "    .dataframe tbody tr th:only-of-type {\n",
       "        vertical-align: middle;\n",
       "    }\n",
       "\n",
       "    .dataframe tbody tr th {\n",
       "        vertical-align: top;\n",
       "    }\n",
       "\n",
       "    .dataframe thead th {\n",
       "        text-align: right;\n",
       "    }\n",
       "</style>\n",
       "<table border=\"1\" class=\"dataframe\">\n",
       "  <thead>\n",
       "    <tr style=\"text-align: right;\">\n",
       "      <th></th>\n",
       "      <th>CVE</th>\n",
       "      <th>DESCRIP</th>\n",
       "    </tr>\n",
       "  </thead>\n",
       "  <tbody>\n",
       "    <tr>\n",
       "      <th>0</th>\n",
       "      <td>1001</td>\n",
       "      <td>Una hora</td>\n",
       "    </tr>\n",
       "    <tr>\n",
       "      <th>1</th>\n",
       "      <td>1002</td>\n",
       "      <td>Dos horas</td>\n",
       "    </tr>\n",
       "    <tr>\n",
       "      <th>2</th>\n",
       "      <td>1003</td>\n",
       "      <td>Tres horas</td>\n",
       "    </tr>\n",
       "    <tr>\n",
       "      <th>3</th>\n",
       "      <td>1004</td>\n",
       "      <td>Cuatro horas</td>\n",
       "    </tr>\n",
       "    <tr>\n",
       "      <th>4</th>\n",
       "      <td>1005</td>\n",
       "      <td>Cinco horas</td>\n",
       "    </tr>\n",
       "    <tr>\n",
       "      <th>...</th>\n",
       "      <td>...</td>\n",
       "      <td>...</td>\n",
       "    </tr>\n",
       "    <tr>\n",
       "      <th>183</th>\n",
       "      <td>4117</td>\n",
       "      <td>Ciento diecisiete años</td>\n",
       "    </tr>\n",
       "    <tr>\n",
       "      <th>184</th>\n",
       "      <td>4118</td>\n",
       "      <td>Ciento dieciocho años</td>\n",
       "    </tr>\n",
       "    <tr>\n",
       "      <th>185</th>\n",
       "      <td>4119</td>\n",
       "      <td>Ciento diecinueve años</td>\n",
       "    </tr>\n",
       "    <tr>\n",
       "      <th>186</th>\n",
       "      <td>4120</td>\n",
       "      <td>Ciento veinte años</td>\n",
       "    </tr>\n",
       "    <tr>\n",
       "      <th>187</th>\n",
       "      <td>4998</td>\n",
       "      <td>Edad en años no especificada</td>\n",
       "    </tr>\n",
       "  </tbody>\n",
       "</table>\n",
       "<p>188 rows × 2 columns</p>\n",
       "</div>"
      ],
      "text/plain": [
       "      CVE                          DESCRIP\n",
       "0    1001  Una hora                       \n",
       "1    1002  Dos horas                      \n",
       "2    1003  Tres horas                     \n",
       "3    1004  Cuatro horas                   \n",
       "4    1005  Cinco horas                    \n",
       "..    ...                              ...\n",
       "183  4117  Ciento diecisiete años         \n",
       "184  4118  Ciento dieciocho años          \n",
       "185  4119  Ciento diecinueve años         \n",
       "186  4120  Ciento veinte años             \n",
       "187  4998  Edad en años no especificada   \n",
       "\n",
       "[188 rows x 2 columns]"
      ]
     },
     "execution_count": 209,
     "metadata": {},
     "output_type": "execute_result"
    }
   ],
   "source": [
    "edad"
   ]
  },
  {
   "cell_type": "code",
   "execution_count": 210,
   "metadata": {},
   "outputs": [
    {
     "data": {
      "text/html": [
       "<div>\n",
       "<style scoped>\n",
       "    .dataframe tbody tr th:only-of-type {\n",
       "        vertical-align: middle;\n",
       "    }\n",
       "\n",
       "    .dataframe tbody tr th {\n",
       "        vertical-align: top;\n",
       "    }\n",
       "\n",
       "    .dataframe thead th {\n",
       "        text-align: right;\n",
       "    }\n",
       "</style>\n",
       "<table border=\"1\" class=\"dataframe\">\n",
       "  <thead>\n",
       "    <tr style=\"text-align: right;\">\n",
       "      <th></th>\n",
       "      <th>c_edad</th>\n",
       "      <th>c_minutos</th>\n",
       "      <th>c_monto_de_apoyo</th>\n",
       "      <th>c_horas</th>\n",
       "      <th>v_ent_regis</th>\n",
       "      <th>v_mun_regis</th>\n",
       "      <th>v_ent_resid</th>\n",
       "      <th>v_mun_resid</th>\n",
       "      <th>v_mun_ocurr</th>\n",
       "      <th>v_edo_civil</th>\n",
       "      <th>v_lugar_ocur</th>\n",
       "      <th>v_sitio_ocur</th>\n",
       "      <th>v_nacionalid</th>\n",
       "      <th>v_grupo</th>\n",
       "      <th>v_clave</th>\n",
       "      <th>d_fecha_nac</th>\n",
       "      <th>d_fecha_ocurr</th>\n",
       "      <th>t_programa_fondo</th>\n",
       "      <th>t_nombre_del_proyecto</th>\n",
       "      <th>t_nombre_del_beneficiario</th>\n",
       "      <th>c_salario</th>\n",
       "      <th>v_sexo</th>\n",
       "      <th>v_ocupacion</th>\n",
       "      <th>v_escolarida</th>\n",
       "    </tr>\n",
       "  </thead>\n",
       "  <tbody>\n",
       "  </tbody>\n",
       "</table>\n",
       "</div>"
      ],
      "text/plain": [
       "Empty DataFrame\n",
       "Columns: [c_edad, c_minutos, c_monto_de_apoyo, c_horas, v_ent_regis, v_mun_regis, v_ent_resid, v_mun_resid, v_mun_ocurr, v_edo_civil, v_lugar_ocur, v_sitio_ocur, v_nacionalid, v_grupo, v_clave, d_fecha_nac, d_fecha_ocurr, t_programa_fondo, t_nombre_del_proyecto, t_nombre_del_beneficiario, c_salario, v_sexo, v_ocupacion, v_escolarida]\n",
       "Index: []"
      ]
     },
     "execution_count": 210,
     "metadata": {},
     "output_type": "execute_result"
    }
   ],
   "source": [
    "df[df[\"c_edad\"]==129]"
   ]
  },
  {
   "cell_type": "code",
   "execution_count": 214,
   "metadata": {},
   "outputs": [
    {
     "data": {
      "text/plain": [
       "84     1565\n",
       "79     1512\n",
       "78     1450\n",
       "80     1410\n",
       "85     1410\n",
       "       ... \n",
       "112       3\n",
       "114       3\n",
       "113       1\n",
       "115       1\n",
       "117       1\n",
       "Name: c_edad, Length: 117, dtype: int64"
      ]
     },
     "execution_count": 214,
     "metadata": {},
     "output_type": "execute_result"
    }
   ],
   "source": [
    "df[\"c_edad\"].sort_values(ascending=False).value_counts()"
   ]
  },
  {
   "cell_type": "code",
   "execution_count": 215,
   "metadata": {
    "scrolled": true
   },
   "outputs": [
    {
     "data": {
      "text/html": [
       "<div>\n",
       "<style scoped>\n",
       "    .dataframe tbody tr th:only-of-type {\n",
       "        vertical-align: middle;\n",
       "    }\n",
       "\n",
       "    .dataframe tbody tr th {\n",
       "        vertical-align: top;\n",
       "    }\n",
       "\n",
       "    .dataframe thead th {\n",
       "        text-align: right;\n",
       "    }\n",
       "</style>\n",
       "<table border=\"1\" class=\"dataframe\">\n",
       "  <thead>\n",
       "    <tr style=\"text-align: right;\">\n",
       "      <th></th>\n",
       "      <th>CVE</th>\n",
       "      <th>DESCRIP</th>\n",
       "    </tr>\n",
       "  </thead>\n",
       "  <tbody>\n",
       "    <tr>\n",
       "      <th>0</th>\n",
       "      <td>1001</td>\n",
       "      <td>Una hora</td>\n",
       "    </tr>\n",
       "    <tr>\n",
       "      <th>1</th>\n",
       "      <td>1002</td>\n",
       "      <td>Dos horas</td>\n",
       "    </tr>\n",
       "    <tr>\n",
       "      <th>2</th>\n",
       "      <td>1003</td>\n",
       "      <td>Tres horas</td>\n",
       "    </tr>\n",
       "    <tr>\n",
       "      <th>3</th>\n",
       "      <td>1004</td>\n",
       "      <td>Cuatro horas</td>\n",
       "    </tr>\n",
       "    <tr>\n",
       "      <th>4</th>\n",
       "      <td>1005</td>\n",
       "      <td>Cinco horas</td>\n",
       "    </tr>\n",
       "    <tr>\n",
       "      <th>...</th>\n",
       "      <td>...</td>\n",
       "      <td>...</td>\n",
       "    </tr>\n",
       "    <tr>\n",
       "      <th>183</th>\n",
       "      <td>4117</td>\n",
       "      <td>Ciento diecisiete años</td>\n",
       "    </tr>\n",
       "    <tr>\n",
       "      <th>184</th>\n",
       "      <td>4118</td>\n",
       "      <td>Ciento dieciocho años</td>\n",
       "    </tr>\n",
       "    <tr>\n",
       "      <th>185</th>\n",
       "      <td>4119</td>\n",
       "      <td>Ciento diecinueve años</td>\n",
       "    </tr>\n",
       "    <tr>\n",
       "      <th>186</th>\n",
       "      <td>4120</td>\n",
       "      <td>Ciento veinte años</td>\n",
       "    </tr>\n",
       "    <tr>\n",
       "      <th>187</th>\n",
       "      <td>4998</td>\n",
       "      <td>Edad en años no especificada</td>\n",
       "    </tr>\n",
       "  </tbody>\n",
       "</table>\n",
       "<p>188 rows × 2 columns</p>\n",
       "</div>"
      ],
      "text/plain": [
       "      CVE                          DESCRIP\n",
       "0    1001  Una hora                       \n",
       "1    1002  Dos horas                      \n",
       "2    1003  Tres horas                     \n",
       "3    1004  Cuatro horas                   \n",
       "4    1005  Cinco horas                    \n",
       "..    ...                              ...\n",
       "183  4117  Ciento diecisiete años         \n",
       "184  4118  Ciento dieciocho años          \n",
       "185  4119  Ciento diecinueve años         \n",
       "186  4120  Ciento veinte años             \n",
       "187  4998  Edad en años no especificada   \n",
       "\n",
       "[188 rows x 2 columns]"
      ]
     },
     "execution_count": 215,
     "metadata": {},
     "output_type": "execute_result"
    }
   ],
   "source": [
    "edad"
   ]
  },
  {
   "cell_type": "code",
   "execution_count": 208,
   "metadata": {
    "ExecuteTime": {
     "end_time": "2021-05-13T20:58:42.469025Z",
     "start_time": "2021-05-13T20:58:42.347861Z"
    },
    "id": "HmlxYIXWHaCG",
    "outputId": "96564896-3060-48da-9f94-b6bf5bd83462"
   },
   "outputs": [
    {
     "data": {
      "text/plain": [
       "count    64403.000000\n",
       "mean        71.293402\n",
       "std         74.404620\n",
       "min          1.000000\n",
       "50%         70.000000\n",
       "93%         91.000000\n",
       "95%         93.000000\n",
       "97%         95.000000\n",
       "98%         97.000000\n",
       "99%        101.000000\n",
       "max        998.000000\n",
       "Name: c_edad, dtype: float64"
      ]
     },
     "execution_count": 208,
     "metadata": {},
     "output_type": "execute_result"
    }
   ],
   "source": [
    "df[\"c_edad\"].describe(percentiles=[.93,.95,.97,.98,.99])"
   ]
  },
  {
   "cell_type": "markdown",
   "metadata": {
    "ExecuteTime": {
     "end_time": "2021-01-16T07:14:17.220305Z",
     "start_time": "2021-01-16T07:14:17.095070Z"
    },
    "id": "weYYo5PrHaCH"
   },
   "source": [
    "DOS OPCIONES , DEJARLAS Y TAL VEZ SE DETECTARAN EN LA SECCION DE OUTLIERS O SI SON POCOS REGISTRON REMPLAZAMOS POR NAN Y LAS ELIMINAMOS"
   ]
  },
  {
   "cell_type": "code",
   "execution_count": 216,
   "metadata": {
    "ExecuteTime": {
     "end_time": "2021-05-13T20:58:42.670133Z",
     "start_time": "2021-05-13T20:58:42.473748Z"
    },
    "id": "YDjY1lTbHaCI"
   },
   "outputs": [],
   "source": [
    "df[\"c_edad\"]=df[\"c_edad\"].map(lambda x:x if x!=998 else np.nan)"
   ]
  },
  {
   "cell_type": "code",
   "execution_count": 220,
   "metadata": {},
   "outputs": [
    {
     "data": {
      "text/plain": [
       "0.012980761765756254"
      ]
     },
     "execution_count": 220,
     "metadata": {},
     "output_type": "execute_result"
    }
   ],
   "source": [
    "df[df[\"c_edad\"]>97].shape[0]/df.shape[0]"
   ]
  },
  {
   "cell_type": "code",
   "execution_count": 221,
   "metadata": {
    "ExecuteTime": {
     "end_time": "2021-05-13T20:58:42.730991Z",
     "start_time": "2021-05-13T20:58:42.671693Z"
    },
    "id": "E5QR3kP_HaCJ",
    "outputId": "1f47a3b0-365f-476d-8567-2fd3d0718635"
   },
   "outputs": [
    {
     "data": {
      "text/plain": [
       "count    64022.000000\n",
       "mean        65.778498\n",
       "std         20.683343\n",
       "min          1.000000\n",
       "25%         54.000000\n",
       "50%         70.000000\n",
       "75%         82.000000\n",
       "max        117.000000\n",
       "Name: c_edad, dtype: float64"
      ]
     },
     "execution_count": 221,
     "metadata": {},
     "output_type": "execute_result"
    }
   ],
   "source": [
    "df[\"c_edad\"].describe()"
   ]
  },
  {
   "cell_type": "code",
   "execution_count": 159,
   "metadata": {
    "ExecuteTime": {
     "end_time": "2021-05-13T20:58:42.888100Z",
     "start_time": "2021-05-13T20:58:42.732779Z"
    },
    "id": "v6BMiPhEHaCK"
   },
   "outputs": [],
   "source": [
    "df=df[df[\"c_edad\"]<98]"
   ]
  },
  {
   "cell_type": "markdown",
   "metadata": {
    "id": "W_8r8GrcHaCL"
   },
   "source": [
    "#### MONTO APOYO"
   ]
  },
  {
   "cell_type": "code",
   "execution_count": 222,
   "metadata": {
    "ExecuteTime": {
     "end_time": "2021-05-13T20:58:42.993053Z",
     "start_time": "2021-05-13T20:58:42.889893Z"
    },
    "id": "fTMyDvqNHaCL",
    "outputId": "454f2938-8f15-41b8-babd-0b117eca796c"
   },
   "outputs": [
    {
     "data": {
      "text/plain": [
       "(64403, 24)"
      ]
     },
     "execution_count": 222,
     "metadata": {},
     "output_type": "execute_result"
    }
   ],
   "source": [
    "df.shape"
   ]
  },
  {
   "cell_type": "code",
   "execution_count": 226,
   "metadata": {},
   "outputs": [
    {
     "data": {
      "text/html": [
       "<div>\n",
       "<style scoped>\n",
       "    .dataframe tbody tr th:only-of-type {\n",
       "        vertical-align: middle;\n",
       "    }\n",
       "\n",
       "    .dataframe tbody tr th {\n",
       "        vertical-align: top;\n",
       "    }\n",
       "\n",
       "    .dataframe thead th {\n",
       "        text-align: right;\n",
       "    }\n",
       "</style>\n",
       "<table border=\"1\" class=\"dataframe\">\n",
       "  <thead>\n",
       "    <tr style=\"text-align: right;\">\n",
       "      <th></th>\n",
       "      <th>c_edad</th>\n",
       "      <th>c_minutos</th>\n",
       "      <th>c_horas</th>\n",
       "      <th>c_salario</th>\n",
       "    </tr>\n",
       "  </thead>\n",
       "  <tbody>\n",
       "    <tr>\n",
       "      <th>count</th>\n",
       "      <td>64022.000000</td>\n",
       "      <td>64403.000000</td>\n",
       "      <td>64403.000000</td>\n",
       "      <td>64403.000000</td>\n",
       "    </tr>\n",
       "    <tr>\n",
       "      <th>mean</th>\n",
       "      <td>65.778498</td>\n",
       "      <td>21.550922</td>\n",
       "      <td>12.721333</td>\n",
       "      <td>2155.092154</td>\n",
       "    </tr>\n",
       "    <tr>\n",
       "      <th>std</th>\n",
       "      <td>20.683343</td>\n",
       "      <td>19.503853</td>\n",
       "      <td>11.246208</td>\n",
       "      <td>1950.385252</td>\n",
       "    </tr>\n",
       "    <tr>\n",
       "      <th>min</th>\n",
       "      <td>1.000000</td>\n",
       "      <td>0.000000</td>\n",
       "      <td>0.000000</td>\n",
       "      <td>0.000000</td>\n",
       "    </tr>\n",
       "    <tr>\n",
       "      <th>25%</th>\n",
       "      <td>54.000000</td>\n",
       "      <td>0.000000</td>\n",
       "      <td>6.000000</td>\n",
       "      <td>0.000000</td>\n",
       "    </tr>\n",
       "    <tr>\n",
       "      <th>50%</th>\n",
       "      <td>70.000000</td>\n",
       "      <td>20.000000</td>\n",
       "      <td>12.000000</td>\n",
       "      <td>2000.000000</td>\n",
       "    </tr>\n",
       "    <tr>\n",
       "      <th>75%</th>\n",
       "      <td>82.000000</td>\n",
       "      <td>33.000000</td>\n",
       "      <td>18.000000</td>\n",
       "      <td>3300.000000</td>\n",
       "    </tr>\n",
       "    <tr>\n",
       "      <th>max</th>\n",
       "      <td>117.000000</td>\n",
       "      <td>99.000000</td>\n",
       "      <td>99.000000</td>\n",
       "      <td>9900.000000</td>\n",
       "    </tr>\n",
       "  </tbody>\n",
       "</table>\n",
       "</div>"
      ],
      "text/plain": [
       "             c_edad     c_minutos       c_horas     c_salario\n",
       "count  64022.000000  64403.000000  64403.000000  64403.000000\n",
       "mean      65.778498     21.550922     12.721333   2155.092154\n",
       "std       20.683343     19.503853     11.246208   1950.385252\n",
       "min        1.000000      0.000000      0.000000      0.000000\n",
       "25%       54.000000      0.000000      6.000000      0.000000\n",
       "50%       70.000000     20.000000     12.000000   2000.000000\n",
       "75%       82.000000     33.000000     18.000000   3300.000000\n",
       "max      117.000000     99.000000     99.000000   9900.000000"
      ]
     },
     "execution_count": 226,
     "metadata": {},
     "output_type": "execute_result"
    }
   ],
   "source": [
    "df.filter(like=\"c_\").describe()"
   ]
  },
  {
   "cell_type": "code",
   "execution_count": 224,
   "metadata": {
    "scrolled": true
   },
   "outputs": [
    {
     "data": {
      "text/plain": [
       "12254.04                                5729\n",
       "31450.0                                 3308\n",
       "50336.83                                3296\n",
       "30884.1                                 2427\n",
       "12254.04                                2079\n",
       "                                        ... \n",
       "SFERP S.C.                                 1\n",
       "MARICELA  LOPEZ CEPEDA\\n                   1\n",
       "-1570                                      1\n",
       "Sistema Tecnológico de Jalisco, A.C.       1\n",
       "Molina Pasquel Y Henriquez                 1\n",
       "Name: c_monto_de_apoyo, Length: 175, dtype: int64"
      ]
     },
     "execution_count": 224,
     "metadata": {},
     "output_type": "execute_result"
    }
   ],
   "source": [
    "df[\"c_monto_de_apoyo\"].value_counts()"
   ]
  },
  {
   "cell_type": "code",
   "execution_count": 240,
   "metadata": {
    "ExecuteTime": {
     "end_time": "2021-05-13T20:58:43.547056Z",
     "start_time": "2021-05-13T20:58:42.999759Z"
    },
    "id": "iyP6IRGLHaCM",
    "outputId": "4dc01352-3e08-46e4-8192-d6c5a90da165",
    "scrolled": false
   },
   "outputs": [
    {
     "data": {
      "text/html": [
       "<div>\n",
       "<style scoped>\n",
       "    .dataframe tbody tr th:only-of-type {\n",
       "        vertical-align: middle;\n",
       "    }\n",
       "\n",
       "    .dataframe tbody tr th {\n",
       "        vertical-align: top;\n",
       "    }\n",
       "\n",
       "    .dataframe thead th {\n",
       "        text-align: right;\n",
       "    }\n",
       "</style>\n",
       "<table border=\"1\" class=\"dataframe\">\n",
       "  <thead>\n",
       "    <tr style=\"text-align: right;\">\n",
       "      <th></th>\n",
       "      <th>c_edad</th>\n",
       "      <th>c_minutos</th>\n",
       "      <th>c_monto_de_apoyo</th>\n",
       "      <th>c_horas</th>\n",
       "      <th>v_ent_regis</th>\n",
       "      <th>v_mun_regis</th>\n",
       "      <th>v_ent_resid</th>\n",
       "      <th>v_mun_resid</th>\n",
       "      <th>v_mun_ocurr</th>\n",
       "      <th>v_edo_civil</th>\n",
       "      <th>v_lugar_ocur</th>\n",
       "      <th>v_sitio_ocur</th>\n",
       "      <th>v_nacionalid</th>\n",
       "      <th>v_grupo</th>\n",
       "      <th>v_clave</th>\n",
       "      <th>d_fecha_nac</th>\n",
       "      <th>d_fecha_ocurr</th>\n",
       "      <th>t_programa_fondo</th>\n",
       "      <th>t_nombre_del_proyecto</th>\n",
       "      <th>t_nombre_del_beneficiario</th>\n",
       "      <th>c_salario</th>\n",
       "      <th>v_sexo</th>\n",
       "      <th>v_ocupacion</th>\n",
       "      <th>v_escolarida</th>\n",
       "    </tr>\n",
       "  </thead>\n",
       "  <tbody>\n",
       "    <tr>\n",
       "      <th>18487</th>\n",
       "      <td>40.0</td>\n",
       "      <td>5.0</td>\n",
       "      <td>NaN</td>\n",
       "      <td>2.0</td>\n",
       "      <td>2.0</td>\n",
       "      <td>4</td>\n",
       "      <td>2</td>\n",
       "      <td>4</td>\n",
       "      <td>4</td>\n",
       "      <td>NaN</td>\n",
       "      <td>9</td>\n",
       "      <td>99</td>\n",
       "      <td>1</td>\n",
       "      <td>27</td>\n",
       "      <td>6747</td>\n",
       "      <td>NaN</td>\n",
       "      <td>2014-06-07</td>\n",
       "      <td>programa para el fomento de recursos humanos d...</td>\n",
       "      <td>solicitud de beca para asistencia al evento si...</td>\n",
       "      <td>eduardo jacobo arroyo</td>\n",
       "      <td>500.0</td>\n",
       "      <td>NaN</td>\n",
       "      <td>ocupaciones insuficientemente especificadas</td>\n",
       "      <td>NaN</td>\n",
       "    </tr>\n",
       "    <tr>\n",
       "      <th>25156</th>\n",
       "      <td>18.0</td>\n",
       "      <td>40.0</td>\n",
       "      <td>NaN</td>\n",
       "      <td>19.0</td>\n",
       "      <td>1.0</td>\n",
       "      <td>5</td>\n",
       "      <td>1</td>\n",
       "      <td>5</td>\n",
       "      <td>1</td>\n",
       "      <td>NaN</td>\n",
       "      <td>88</td>\n",
       "      <td>3</td>\n",
       "      <td>1</td>\n",
       "      <td>1</td>\n",
       "      <td>6522</td>\n",
       "      <td>1997-09-13</td>\n",
       "      <td>2015-11-02</td>\n",
       "      <td>programa jalisciense de fomento a la propiedad...</td>\n",
       "      <td>chumacera carcasa con toma de fuerza para moto...</td>\n",
       "      <td>francisco xavier valdes simancas</td>\n",
       "      <td>4000.0</td>\n",
       "      <td>NaN</td>\n",
       "      <td>ocupacion no especificada</td>\n",
       "      <td>Sin escolaridad</td>\n",
       "    </tr>\n",
       "    <tr>\n",
       "      <th>30737</th>\n",
       "      <td>38.0</td>\n",
       "      <td>15.0</td>\n",
       "      <td>NaN</td>\n",
       "      <td>1.0</td>\n",
       "      <td>7.0</td>\n",
       "      <td>65</td>\n",
       "      <td>7</td>\n",
       "      <td>65</td>\n",
       "      <td>65</td>\n",
       "      <td>NaN</td>\n",
       "      <td>88</td>\n",
       "      <td>11</td>\n",
       "      <td>2</td>\n",
       "      <td>7</td>\n",
       "      <td>6453</td>\n",
       "      <td>1977-03-12</td>\n",
       "      <td>2015-12-22</td>\n",
       "      <td>programa jalisciense de fomento a la propiedad...</td>\n",
       "      <td>pct sistema de ensamble para muebles y estruct...</td>\n",
       "      <td>humberto gonzalez calleja</td>\n",
       "      <td>1500.0</td>\n",
       "      <td>NaN</td>\n",
       "      <td>no trabaja</td>\n",
       "      <td>Primaria</td>\n",
       "    </tr>\n",
       "    <tr>\n",
       "      <th>41410</th>\n",
       "      <td>54.0</td>\n",
       "      <td>20.0</td>\n",
       "      <td>NaN</td>\n",
       "      <td>9.0</td>\n",
       "      <td>1.0</td>\n",
       "      <td>7</td>\n",
       "      <td>1</td>\n",
       "      <td>7</td>\n",
       "      <td>7</td>\n",
       "      <td>NaN</td>\n",
       "      <td>88</td>\n",
       "      <td>11</td>\n",
       "      <td>1</td>\n",
       "      <td>10</td>\n",
       "      <td>6475</td>\n",
       "      <td>1961-08-26</td>\n",
       "      <td>2015-02-15</td>\n",
       "      <td>programa jalisciense de fomento a la propiedad...</td>\n",
       "      <td>mx metodo para la deshidratacion de sustancias...</td>\n",
       "      <td>katia saucedo fernandez</td>\n",
       "      <td>2000.0</td>\n",
       "      <td>NaN</td>\n",
       "      <td>trabajadores artesanales</td>\n",
       "      <td>Primaria</td>\n",
       "    </tr>\n",
       "  </tbody>\n",
       "</table>\n",
       "</div>"
      ],
      "text/plain": [
       "       c_edad  c_minutos c_monto_de_apoyo  c_horas  v_ent_regis  v_mun_regis  \\\n",
       "18487    40.0        5.0              NaN      2.0          2.0            4   \n",
       "25156    18.0       40.0              NaN     19.0          1.0            5   \n",
       "30737    38.0       15.0              NaN      1.0          7.0           65   \n",
       "41410    54.0       20.0              NaN      9.0          1.0            7   \n",
       "\n",
       "       v_ent_resid  v_mun_resid  v_mun_ocurr  v_edo_civil  v_lugar_ocur  \\\n",
       "18487            2            4            4          NaN             9   \n",
       "25156            1            5            1          NaN            88   \n",
       "30737            7           65           65          NaN            88   \n",
       "41410            1            7            7          NaN            88   \n",
       "\n",
       "       v_sitio_ocur  v_nacionalid  v_grupo  v_clave d_fecha_nac d_fecha_ocurr  \\\n",
       "18487            99             1       27     6747         NaN    2014-06-07   \n",
       "25156             3             1        1     6522  1997-09-13    2015-11-02   \n",
       "30737            11             2        7     6453  1977-03-12    2015-12-22   \n",
       "41410            11             1       10     6475  1961-08-26    2015-02-15   \n",
       "\n",
       "                                        t_programa_fondo  \\\n",
       "18487  programa para el fomento de recursos humanos d...   \n",
       "25156  programa jalisciense de fomento a la propiedad...   \n",
       "30737  programa jalisciense de fomento a la propiedad...   \n",
       "41410  programa jalisciense de fomento a la propiedad...   \n",
       "\n",
       "                                   t_nombre_del_proyecto  \\\n",
       "18487  solicitud de beca para asistencia al evento si...   \n",
       "25156  chumacera carcasa con toma de fuerza para moto...   \n",
       "30737  pct sistema de ensamble para muebles y estruct...   \n",
       "41410  mx metodo para la deshidratacion de sustancias...   \n",
       "\n",
       "              t_nombre_del_beneficiario  c_salario v_sexo  \\\n",
       "18487             eduardo jacobo arroyo      500.0    NaN   \n",
       "25156  francisco xavier valdes simancas     4000.0    NaN   \n",
       "30737         humberto gonzalez calleja     1500.0    NaN   \n",
       "41410           katia saucedo fernandez     2000.0    NaN   \n",
       "\n",
       "                                       v_ocupacion     v_escolarida  \n",
       "18487  ocupaciones insuficientemente especificadas              NaN  \n",
       "25156                    ocupacion no especificada  Sin escolaridad  \n",
       "30737                                   no trabaja         Primaria  \n",
       "41410                     trabajadores artesanales         Primaria  "
      ]
     },
     "execution_count": 240,
     "metadata": {},
     "output_type": "execute_result"
    }
   ],
   "source": [
    "df[df[\"c_monto_de_apoyo\"].map(lambda x:any([str(y).isalpha() for y in str(x)]))]"
   ]
  },
  {
   "cell_type": "code",
   "execution_count": 228,
   "metadata": {
    "ExecuteTime": {
     "end_time": "2021-05-13T20:58:43.614403Z",
     "start_time": "2021-05-13T20:58:43.548892Z"
    },
    "id": "wOlwSIxHHaCM",
    "outputId": "aa470b59-d1d3-46bd-f77f-ba36b1209df6",
    "scrolled": true
   },
   "outputs": [
    {
     "data": {
      "text/html": [
       "<div>\n",
       "<style scoped>\n",
       "    .dataframe tbody tr th:only-of-type {\n",
       "        vertical-align: middle;\n",
       "    }\n",
       "\n",
       "    .dataframe tbody tr th {\n",
       "        vertical-align: top;\n",
       "    }\n",
       "\n",
       "    .dataframe thead th {\n",
       "        text-align: right;\n",
       "    }\n",
       "</style>\n",
       "<table border=\"1\" class=\"dataframe\">\n",
       "  <thead>\n",
       "    <tr style=\"text-align: right;\">\n",
       "      <th></th>\n",
       "      <th>columna</th>\n",
       "      <th>total</th>\n",
       "      <th>completitud</th>\n",
       "    </tr>\n",
       "  </thead>\n",
       "  <tbody>\n",
       "    <tr>\n",
       "      <th>0</th>\n",
       "      <td>v_edo_civil</td>\n",
       "      <td>64403</td>\n",
       "      <td>0.000000</td>\n",
       "    </tr>\n",
       "    <tr>\n",
       "      <th>1</th>\n",
       "      <td>v_ent_regis</td>\n",
       "      <td>4629</td>\n",
       "      <td>92.812447</td>\n",
       "    </tr>\n",
       "    <tr>\n",
       "      <th>2</th>\n",
       "      <td>v_escolarida</td>\n",
       "      <td>3834</td>\n",
       "      <td>94.046861</td>\n",
       "    </tr>\n",
       "    <tr>\n",
       "      <th>3</th>\n",
       "      <td>d_fecha_nac</td>\n",
       "      <td>1194</td>\n",
       "      <td>98.146049</td>\n",
       "    </tr>\n",
       "    <tr>\n",
       "      <th>4</th>\n",
       "      <td>c_edad</td>\n",
       "      <td>381</td>\n",
       "      <td>99.408413</td>\n",
       "    </tr>\n",
       "    <tr>\n",
       "      <th>5</th>\n",
       "      <td>v_sexo</td>\n",
       "      <td>19</td>\n",
       "      <td>99.970498</td>\n",
       "    </tr>\n",
       "    <tr>\n",
       "      <th>6</th>\n",
       "      <td>v_mun_regis</td>\n",
       "      <td>0</td>\n",
       "      <td>100.000000</td>\n",
       "    </tr>\n",
       "    <tr>\n",
       "      <th>7</th>\n",
       "      <td>c_salario</td>\n",
       "      <td>0</td>\n",
       "      <td>100.000000</td>\n",
       "    </tr>\n",
       "    <tr>\n",
       "      <th>8</th>\n",
       "      <td>t_nombre_del_beneficiario</td>\n",
       "      <td>0</td>\n",
       "      <td>100.000000</td>\n",
       "    </tr>\n",
       "    <tr>\n",
       "      <th>9</th>\n",
       "      <td>t_nombre_del_proyecto</td>\n",
       "      <td>0</td>\n",
       "      <td>100.000000</td>\n",
       "    </tr>\n",
       "    <tr>\n",
       "      <th>10</th>\n",
       "      <td>t_programa_fondo</td>\n",
       "      <td>0</td>\n",
       "      <td>100.000000</td>\n",
       "    </tr>\n",
       "    <tr>\n",
       "      <th>11</th>\n",
       "      <td>d_fecha_ocurr</td>\n",
       "      <td>0</td>\n",
       "      <td>100.000000</td>\n",
       "    </tr>\n",
       "    <tr>\n",
       "      <th>12</th>\n",
       "      <td>c_minutos</td>\n",
       "      <td>0</td>\n",
       "      <td>100.000000</td>\n",
       "    </tr>\n",
       "    <tr>\n",
       "      <th>13</th>\n",
       "      <td>c_horas</td>\n",
       "      <td>0</td>\n",
       "      <td>100.000000</td>\n",
       "    </tr>\n",
       "    <tr>\n",
       "      <th>14</th>\n",
       "      <td>v_clave</td>\n",
       "      <td>0</td>\n",
       "      <td>100.000000</td>\n",
       "    </tr>\n",
       "    <tr>\n",
       "      <th>15</th>\n",
       "      <td>v_nacionalid</td>\n",
       "      <td>0</td>\n",
       "      <td>100.000000</td>\n",
       "    </tr>\n",
       "    <tr>\n",
       "      <th>16</th>\n",
       "      <td>v_ocupacion</td>\n",
       "      <td>0</td>\n",
       "      <td>100.000000</td>\n",
       "    </tr>\n",
       "    <tr>\n",
       "      <th>17</th>\n",
       "      <td>v_lugar_ocur</td>\n",
       "      <td>0</td>\n",
       "      <td>100.000000</td>\n",
       "    </tr>\n",
       "    <tr>\n",
       "      <th>18</th>\n",
       "      <td>c_monto_de_apoyo</td>\n",
       "      <td>0</td>\n",
       "      <td>100.000000</td>\n",
       "    </tr>\n",
       "    <tr>\n",
       "      <th>19</th>\n",
       "      <td>v_mun_ocurr</td>\n",
       "      <td>0</td>\n",
       "      <td>100.000000</td>\n",
       "    </tr>\n",
       "    <tr>\n",
       "      <th>20</th>\n",
       "      <td>v_mun_resid</td>\n",
       "      <td>0</td>\n",
       "      <td>100.000000</td>\n",
       "    </tr>\n",
       "    <tr>\n",
       "      <th>21</th>\n",
       "      <td>v_ent_resid</td>\n",
       "      <td>0</td>\n",
       "      <td>100.000000</td>\n",
       "    </tr>\n",
       "    <tr>\n",
       "      <th>22</th>\n",
       "      <td>v_grupo</td>\n",
       "      <td>0</td>\n",
       "      <td>100.000000</td>\n",
       "    </tr>\n",
       "    <tr>\n",
       "      <th>23</th>\n",
       "      <td>v_sitio_ocur</td>\n",
       "      <td>0</td>\n",
       "      <td>100.000000</td>\n",
       "    </tr>\n",
       "  </tbody>\n",
       "</table>\n",
       "</div>"
      ],
      "text/plain": [
       "                      columna  total  completitud\n",
       "0                 v_edo_civil  64403     0.000000\n",
       "1                 v_ent_regis   4629    92.812447\n",
       "2                v_escolarida   3834    94.046861\n",
       "3                 d_fecha_nac   1194    98.146049\n",
       "4                      c_edad    381    99.408413\n",
       "5                      v_sexo     19    99.970498\n",
       "6                 v_mun_regis      0   100.000000\n",
       "7                   c_salario      0   100.000000\n",
       "8   t_nombre_del_beneficiario      0   100.000000\n",
       "9       t_nombre_del_proyecto      0   100.000000\n",
       "10           t_programa_fondo      0   100.000000\n",
       "11              d_fecha_ocurr      0   100.000000\n",
       "12                  c_minutos      0   100.000000\n",
       "13                    c_horas      0   100.000000\n",
       "14                    v_clave      0   100.000000\n",
       "15               v_nacionalid      0   100.000000\n",
       "16                v_ocupacion      0   100.000000\n",
       "17               v_lugar_ocur      0   100.000000\n",
       "18           c_monto_de_apoyo      0   100.000000\n",
       "19                v_mun_ocurr      0   100.000000\n",
       "20                v_mun_resid      0   100.000000\n",
       "21                v_ent_resid      0   100.000000\n",
       "22                    v_grupo      0   100.000000\n",
       "23               v_sitio_ocur      0   100.000000"
      ]
     },
     "execution_count": 228,
     "metadata": {},
     "output_type": "execute_result"
    }
   ],
   "source": [
    "completitud(df)"
   ]
  },
  {
   "cell_type": "code",
   "execution_count": 229,
   "metadata": {
    "ExecuteTime": {
     "end_time": "2021-05-13T20:58:43.857662Z",
     "start_time": "2021-05-13T20:58:43.616241Z"
    },
    "id": "_mODa6E1HaCN"
   },
   "outputs": [],
   "source": [
    "df[\"c_monto_de_apoyo\"]=df[\"c_monto_de_apoyo\"].map(lambda x:np.nan if any([str(y).isalpha() for y in str(x)]) else x)"
   ]
  },
  {
   "cell_type": "code",
   "execution_count": 241,
   "metadata": {
    "ExecuteTime": {
     "end_time": "2021-05-13T20:58:43.910517Z",
     "start_time": "2021-05-13T20:58:43.859072Z"
    },
    "id": "wZ2WUfO1HaCN",
    "outputId": "2815fab9-71c8-43f1-ef9a-de821efa4e74",
    "scrolled": true
   },
   "outputs": [
    {
     "data": {
      "text/html": [
       "<div>\n",
       "<style scoped>\n",
       "    .dataframe tbody tr th:only-of-type {\n",
       "        vertical-align: middle;\n",
       "    }\n",
       "\n",
       "    .dataframe tbody tr th {\n",
       "        vertical-align: top;\n",
       "    }\n",
       "\n",
       "    .dataframe thead th {\n",
       "        text-align: right;\n",
       "    }\n",
       "</style>\n",
       "<table border=\"1\" class=\"dataframe\">\n",
       "  <thead>\n",
       "    <tr style=\"text-align: right;\">\n",
       "      <th></th>\n",
       "      <th>columna</th>\n",
       "      <th>total</th>\n",
       "      <th>completitud</th>\n",
       "    </tr>\n",
       "  </thead>\n",
       "  <tbody>\n",
       "    <tr>\n",
       "      <th>0</th>\n",
       "      <td>v_edo_civil</td>\n",
       "      <td>64403</td>\n",
       "      <td>0.000000</td>\n",
       "    </tr>\n",
       "    <tr>\n",
       "      <th>1</th>\n",
       "      <td>v_ent_regis</td>\n",
       "      <td>4629</td>\n",
       "      <td>92.812447</td>\n",
       "    </tr>\n",
       "    <tr>\n",
       "      <th>2</th>\n",
       "      <td>v_escolarida</td>\n",
       "      <td>3834</td>\n",
       "      <td>94.046861</td>\n",
       "    </tr>\n",
       "    <tr>\n",
       "      <th>3</th>\n",
       "      <td>d_fecha_nac</td>\n",
       "      <td>1194</td>\n",
       "      <td>98.146049</td>\n",
       "    </tr>\n",
       "    <tr>\n",
       "      <th>4</th>\n",
       "      <td>c_edad</td>\n",
       "      <td>381</td>\n",
       "      <td>99.408413</td>\n",
       "    </tr>\n",
       "    <tr>\n",
       "      <th>5</th>\n",
       "      <td>v_sexo</td>\n",
       "      <td>19</td>\n",
       "      <td>99.970498</td>\n",
       "    </tr>\n",
       "    <tr>\n",
       "      <th>6</th>\n",
       "      <td>c_monto_de_apoyo</td>\n",
       "      <td>4</td>\n",
       "      <td>99.993789</td>\n",
       "    </tr>\n",
       "    <tr>\n",
       "      <th>7</th>\n",
       "      <td>v_mun_regis</td>\n",
       "      <td>0</td>\n",
       "      <td>100.000000</td>\n",
       "    </tr>\n",
       "    <tr>\n",
       "      <th>8</th>\n",
       "      <td>c_salario</td>\n",
       "      <td>0</td>\n",
       "      <td>100.000000</td>\n",
       "    </tr>\n",
       "    <tr>\n",
       "      <th>9</th>\n",
       "      <td>t_nombre_del_beneficiario</td>\n",
       "      <td>0</td>\n",
       "      <td>100.000000</td>\n",
       "    </tr>\n",
       "    <tr>\n",
       "      <th>10</th>\n",
       "      <td>t_nombre_del_proyecto</td>\n",
       "      <td>0</td>\n",
       "      <td>100.000000</td>\n",
       "    </tr>\n",
       "    <tr>\n",
       "      <th>11</th>\n",
       "      <td>t_programa_fondo</td>\n",
       "      <td>0</td>\n",
       "      <td>100.000000</td>\n",
       "    </tr>\n",
       "    <tr>\n",
       "      <th>12</th>\n",
       "      <td>d_fecha_ocurr</td>\n",
       "      <td>0</td>\n",
       "      <td>100.000000</td>\n",
       "    </tr>\n",
       "    <tr>\n",
       "      <th>13</th>\n",
       "      <td>c_minutos</td>\n",
       "      <td>0</td>\n",
       "      <td>100.000000</td>\n",
       "    </tr>\n",
       "    <tr>\n",
       "      <th>14</th>\n",
       "      <td>v_clave</td>\n",
       "      <td>0</td>\n",
       "      <td>100.000000</td>\n",
       "    </tr>\n",
       "    <tr>\n",
       "      <th>15</th>\n",
       "      <td>v_grupo</td>\n",
       "      <td>0</td>\n",
       "      <td>100.000000</td>\n",
       "    </tr>\n",
       "    <tr>\n",
       "      <th>16</th>\n",
       "      <td>v_nacionalid</td>\n",
       "      <td>0</td>\n",
       "      <td>100.000000</td>\n",
       "    </tr>\n",
       "    <tr>\n",
       "      <th>17</th>\n",
       "      <td>v_ocupacion</td>\n",
       "      <td>0</td>\n",
       "      <td>100.000000</td>\n",
       "    </tr>\n",
       "    <tr>\n",
       "      <th>18</th>\n",
       "      <td>v_lugar_ocur</td>\n",
       "      <td>0</td>\n",
       "      <td>100.000000</td>\n",
       "    </tr>\n",
       "    <tr>\n",
       "      <th>19</th>\n",
       "      <td>v_mun_ocurr</td>\n",
       "      <td>0</td>\n",
       "      <td>100.000000</td>\n",
       "    </tr>\n",
       "    <tr>\n",
       "      <th>20</th>\n",
       "      <td>v_mun_resid</td>\n",
       "      <td>0</td>\n",
       "      <td>100.000000</td>\n",
       "    </tr>\n",
       "    <tr>\n",
       "      <th>21</th>\n",
       "      <td>v_ent_resid</td>\n",
       "      <td>0</td>\n",
       "      <td>100.000000</td>\n",
       "    </tr>\n",
       "    <tr>\n",
       "      <th>22</th>\n",
       "      <td>c_horas</td>\n",
       "      <td>0</td>\n",
       "      <td>100.000000</td>\n",
       "    </tr>\n",
       "    <tr>\n",
       "      <th>23</th>\n",
       "      <td>v_sitio_ocur</td>\n",
       "      <td>0</td>\n",
       "      <td>100.000000</td>\n",
       "    </tr>\n",
       "  </tbody>\n",
       "</table>\n",
       "</div>"
      ],
      "text/plain": [
       "                      columna  total  completitud\n",
       "0                 v_edo_civil  64403     0.000000\n",
       "1                 v_ent_regis   4629    92.812447\n",
       "2                v_escolarida   3834    94.046861\n",
       "3                 d_fecha_nac   1194    98.146049\n",
       "4                      c_edad    381    99.408413\n",
       "5                      v_sexo     19    99.970498\n",
       "6            c_monto_de_apoyo      4    99.993789\n",
       "7                 v_mun_regis      0   100.000000\n",
       "8                   c_salario      0   100.000000\n",
       "9   t_nombre_del_beneficiario      0   100.000000\n",
       "10      t_nombre_del_proyecto      0   100.000000\n",
       "11           t_programa_fondo      0   100.000000\n",
       "12              d_fecha_ocurr      0   100.000000\n",
       "13                  c_minutos      0   100.000000\n",
       "14                    v_clave      0   100.000000\n",
       "15                    v_grupo      0   100.000000\n",
       "16               v_nacionalid      0   100.000000\n",
       "17                v_ocupacion      0   100.000000\n",
       "18               v_lugar_ocur      0   100.000000\n",
       "19                v_mun_ocurr      0   100.000000\n",
       "20                v_mun_resid      0   100.000000\n",
       "21                v_ent_resid      0   100.000000\n",
       "22                    c_horas      0   100.000000\n",
       "23               v_sitio_ocur      0   100.000000"
      ]
     },
     "execution_count": 241,
     "metadata": {},
     "output_type": "execute_result"
    }
   ],
   "source": [
    "completitud(df)"
   ]
  },
  {
   "cell_type": "code",
   "execution_count": 243,
   "metadata": {
    "ExecuteTime": {
     "end_time": "2021-05-13T20:58:43.987833Z",
     "start_time": "2021-05-13T20:58:43.912007Z"
    },
    "id": "7WDL0d3qHaCO",
    "outputId": "2b860bce-9ab3-42b1-edcf-4f1e7ca40d96",
    "scrolled": true
   },
   "outputs": [
    {
     "data": {
      "text/plain": [
       "count    6.439900e+04\n",
       "mean     2.979713e+05\n",
       "std      6.915934e+05\n",
       "min     -1.570000e+03\n",
       "25%      3.088410e+04\n",
       "50%      5.033683e+04\n",
       "75%      1.502410e+05\n",
       "max      5.000000e+06\n",
       "Name: c_monto_de_apoyo, dtype: float64"
      ]
     },
     "execution_count": 243,
     "metadata": {},
     "output_type": "execute_result"
    }
   ],
   "source": [
    "df[\"c_monto_de_apoyo\"].astype(float).describe()"
   ]
  },
  {
   "cell_type": "code",
   "execution_count": 244,
   "metadata": {
    "ExecuteTime": {
     "end_time": "2021-05-13T20:58:44.119619Z",
     "start_time": "2021-05-13T20:58:43.989947Z"
    },
    "id": "haEG4gIwHaCO"
   },
   "outputs": [],
   "source": [
    "df[\"c_monto_de_apoyo\"]=df[\"c_monto_de_apoyo\"].astype(float)"
   ]
  },
  {
   "cell_type": "code",
   "execution_count": 245,
   "metadata": {
    "ExecuteTime": {
     "end_time": "2021-05-13T20:58:44.269035Z",
     "start_time": "2021-05-13T20:58:44.122345Z"
    },
    "id": "FBmITt_fHaCP",
    "outputId": "5ff32a5c-2fda-4f73-bad0-d99c00ff0985"
   },
   "outputs": [
    {
     "data": {
      "text/html": [
       "<div>\n",
       "<style scoped>\n",
       "    .dataframe tbody tr th:only-of-type {\n",
       "        vertical-align: middle;\n",
       "    }\n",
       "\n",
       "    .dataframe tbody tr th {\n",
       "        vertical-align: top;\n",
       "    }\n",
       "\n",
       "    .dataframe thead th {\n",
       "        text-align: right;\n",
       "    }\n",
       "</style>\n",
       "<table border=\"1\" class=\"dataframe\">\n",
       "  <thead>\n",
       "    <tr style=\"text-align: right;\">\n",
       "      <th></th>\n",
       "      <th>c_edad</th>\n",
       "      <th>c_minutos</th>\n",
       "      <th>c_monto_de_apoyo</th>\n",
       "      <th>c_horas</th>\n",
       "      <th>v_ent_regis</th>\n",
       "      <th>v_mun_regis</th>\n",
       "      <th>v_ent_resid</th>\n",
       "      <th>v_mun_resid</th>\n",
       "      <th>v_mun_ocurr</th>\n",
       "      <th>v_edo_civil</th>\n",
       "      <th>v_lugar_ocur</th>\n",
       "      <th>v_sitio_ocur</th>\n",
       "      <th>v_nacionalid</th>\n",
       "      <th>v_grupo</th>\n",
       "      <th>v_clave</th>\n",
       "      <th>d_fecha_nac</th>\n",
       "      <th>d_fecha_ocurr</th>\n",
       "      <th>t_programa_fondo</th>\n",
       "      <th>t_nombre_del_proyecto</th>\n",
       "      <th>t_nombre_del_beneficiario</th>\n",
       "      <th>c_salario</th>\n",
       "      <th>v_sexo</th>\n",
       "      <th>v_ocupacion</th>\n",
       "      <th>v_escolarida</th>\n",
       "    </tr>\n",
       "  </thead>\n",
       "  <tbody>\n",
       "    <tr>\n",
       "      <th>58166</th>\n",
       "      <td>89.0</td>\n",
       "      <td>30.0</td>\n",
       "      <td>-1570.0</td>\n",
       "      <td>15.0</td>\n",
       "      <td>1.0</td>\n",
       "      <td>1</td>\n",
       "      <td>1</td>\n",
       "      <td>1</td>\n",
       "      <td>1</td>\n",
       "      <td>NaN</td>\n",
       "      <td>88</td>\n",
       "      <td>11</td>\n",
       "      <td>1</td>\n",
       "      <td>5</td>\n",
       "      <td>6367</td>\n",
       "      <td>1926-05-04</td>\n",
       "      <td>2015-12-26</td>\n",
       "      <td>programa jalisciense de fomento a la propiedad...</td>\n",
       "      <td>mx sistema diferencial que controla la traccio...</td>\n",
       "      <td>servando soto velasco</td>\n",
       "      <td>3000.0</td>\n",
       "      <td>Hombres</td>\n",
       "      <td>no trabaja</td>\n",
       "      <td>Sin escolaridad</td>\n",
       "    </tr>\n",
       "  </tbody>\n",
       "</table>\n",
       "</div>"
      ],
      "text/plain": [
       "       c_edad  c_minutos  c_monto_de_apoyo  c_horas  v_ent_regis  v_mun_regis  \\\n",
       "58166    89.0       30.0           -1570.0     15.0          1.0            1   \n",
       "\n",
       "       v_ent_resid  v_mun_resid  v_mun_ocurr  v_edo_civil  v_lugar_ocur  \\\n",
       "58166            1            1            1          NaN            88   \n",
       "\n",
       "       v_sitio_ocur  v_nacionalid  v_grupo  v_clave d_fecha_nac d_fecha_ocurr  \\\n",
       "58166            11             1        5     6367  1926-05-04    2015-12-26   \n",
       "\n",
       "                                        t_programa_fondo  \\\n",
       "58166  programa jalisciense de fomento a la propiedad...   \n",
       "\n",
       "                                   t_nombre_del_proyecto  \\\n",
       "58166  mx sistema diferencial que controla la traccio...   \n",
       "\n",
       "      t_nombre_del_beneficiario  c_salario   v_sexo v_ocupacion  \\\n",
       "58166     servando soto velasco     3000.0  Hombres  no trabaja   \n",
       "\n",
       "          v_escolarida  \n",
       "58166  Sin escolaridad  "
      ]
     },
     "execution_count": 245,
     "metadata": {},
     "output_type": "execute_result"
    }
   ],
   "source": [
    "df[df[\"c_monto_de_apoyo\"].map(lambda x:x<0)]"
   ]
  },
  {
   "cell_type": "code",
   "execution_count": 246,
   "metadata": {
    "ExecuteTime": {
     "end_time": "2021-05-13T20:58:44.438011Z",
     "start_time": "2021-05-13T20:58:44.270537Z"
    },
    "id": "cLiB75RXHaCQ"
   },
   "outputs": [],
   "source": [
    "df=df[~df[\"c_monto_de_apoyo\"].map(lambda x:x<0)].reset_index(drop=True)"
   ]
  },
  {
   "cell_type": "code",
   "execution_count": 247,
   "metadata": {
    "ExecuteTime": {
     "end_time": "2021-05-13T20:58:44.521699Z",
     "start_time": "2021-05-13T20:58:44.439512Z"
    },
    "id": "hH4dkLvgHaCQ",
    "outputId": "751372d1-d959-4334-e002-576db4fccf58",
    "scrolled": true
   },
   "outputs": [
    {
     "data": {
      "text/html": [
       "<div>\n",
       "<style scoped>\n",
       "    .dataframe tbody tr th:only-of-type {\n",
       "        vertical-align: middle;\n",
       "    }\n",
       "\n",
       "    .dataframe tbody tr th {\n",
       "        vertical-align: top;\n",
       "    }\n",
       "\n",
       "    .dataframe thead th {\n",
       "        text-align: right;\n",
       "    }\n",
       "</style>\n",
       "<table border=\"1\" class=\"dataframe\">\n",
       "  <thead>\n",
       "    <tr style=\"text-align: right;\">\n",
       "      <th></th>\n",
       "      <th>c_edad</th>\n",
       "      <th>c_minutos</th>\n",
       "      <th>c_monto_de_apoyo</th>\n",
       "      <th>c_horas</th>\n",
       "      <th>v_ent_regis</th>\n",
       "      <th>v_mun_regis</th>\n",
       "      <th>v_ent_resid</th>\n",
       "      <th>v_mun_resid</th>\n",
       "      <th>v_mun_ocurr</th>\n",
       "      <th>v_edo_civil</th>\n",
       "      <th>v_lugar_ocur</th>\n",
       "      <th>v_sitio_ocur</th>\n",
       "      <th>v_nacionalid</th>\n",
       "      <th>v_grupo</th>\n",
       "      <th>v_clave</th>\n",
       "      <th>d_fecha_nac</th>\n",
       "      <th>d_fecha_ocurr</th>\n",
       "      <th>t_programa_fondo</th>\n",
       "      <th>t_nombre_del_proyecto</th>\n",
       "      <th>t_nombre_del_beneficiario</th>\n",
       "      <th>c_salario</th>\n",
       "      <th>v_sexo</th>\n",
       "      <th>v_ocupacion</th>\n",
       "      <th>v_escolarida</th>\n",
       "    </tr>\n",
       "  </thead>\n",
       "  <tbody>\n",
       "  </tbody>\n",
       "</table>\n",
       "</div>"
      ],
      "text/plain": [
       "Empty DataFrame\n",
       "Columns: [c_edad, c_minutos, c_monto_de_apoyo, c_horas, v_ent_regis, v_mun_regis, v_ent_resid, v_mun_resid, v_mun_ocurr, v_edo_civil, v_lugar_ocur, v_sitio_ocur, v_nacionalid, v_grupo, v_clave, d_fecha_nac, d_fecha_ocurr, t_programa_fondo, t_nombre_del_proyecto, t_nombre_del_beneficiario, c_salario, v_sexo, v_ocupacion, v_escolarida]\n",
       "Index: []"
      ]
     },
     "execution_count": 247,
     "metadata": {},
     "output_type": "execute_result"
    }
   ],
   "source": [
    "df[df[\"c_monto_de_apoyo\"].map(lambda x:x<0)]"
   ]
  },
  {
   "cell_type": "markdown",
   "metadata": {
    "id": "UyyKxCfbHaCV"
   },
   "source": [
    "#### HORAS"
   ]
  },
  {
   "cell_type": "code",
   "execution_count": 248,
   "metadata": {
    "ExecuteTime": {
     "end_time": "2021-05-13T20:58:44.625483Z",
     "start_time": "2021-05-13T20:58:44.523168Z"
    },
    "id": "Y6m955k4HaCV"
   },
   "outputs": [],
   "source": [
    "## Consistencia"
   ]
  },
  {
   "cell_type": "code",
   "execution_count": 249,
   "metadata": {
    "ExecuteTime": {
     "end_time": "2021-05-13T20:58:44.787695Z",
     "start_time": "2021-05-13T20:58:44.630803Z"
    },
    "id": "yqv1TGB1HaCW",
    "outputId": "1d893c42-dfee-4692-91e7-9d4356c80124"
   },
   "outputs": [
    {
     "data": {
      "text/plain": [
       "count    64402.000000\n",
       "mean        12.721297\n",
       "std         11.246291\n",
       "min          0.000000\n",
       "10%          2.000000\n",
       "20%          5.000000\n",
       "30%          7.000000\n",
       "40%         10.000000\n",
       "50%         12.000000\n",
       "60%         14.000000\n",
       "70%         17.000000\n",
       "80%         19.000000\n",
       "90%         21.000000\n",
       "100%        99.000000\n",
       "max         99.000000\n",
       "Name: c_horas, dtype: float64"
      ]
     },
     "execution_count": 249,
     "metadata": {},
     "output_type": "execute_result"
    }
   ],
   "source": [
    "df[\"c_horas\"].describe(percentiles=np.arange(0.1,1.1,.1))"
   ]
  },
  {
   "cell_type": "code",
   "execution_count": 250,
   "metadata": {
    "ExecuteTime": {
     "end_time": "2021-05-13T20:58:44.876072Z",
     "start_time": "2021-05-13T20:58:44.791049Z"
    },
    "id": "oDQjCEuEHaCX",
    "outputId": "a082d76e-298c-4c49-a479-26fd23edac8d",
    "scrolled": true
   },
   "outputs": [
    {
     "data": {
      "text/plain": [
       "0.010822645259463992"
      ]
     },
     "execution_count": 250,
     "metadata": {},
     "output_type": "execute_result"
    }
   ],
   "source": [
    "df[df[\"c_horas\"]>24].shape[0]/df.shape[0]"
   ]
  },
  {
   "cell_type": "code",
   "execution_count": 251,
   "metadata": {},
   "outputs": [
    {
     "data": {
      "text/plain": [
       "(64402, 24)"
      ]
     },
     "execution_count": 251,
     "metadata": {},
     "output_type": "execute_result"
    }
   ],
   "source": [
    "df.shape"
   ]
  },
  {
   "cell_type": "code",
   "execution_count": 252,
   "metadata": {
    "ExecuteTime": {
     "end_time": "2021-05-13T20:58:45.374138Z",
     "start_time": "2021-05-13T20:58:45.110446Z"
    },
    "id": "2_4oaa_uHaCY"
   },
   "outputs": [],
   "source": [
    "df=df[df[\"c_horas\"]<=24]\n",
    "df.reset_index(drop=True,inplace=True)"
   ]
  },
  {
   "cell_type": "markdown",
   "metadata": {
    "id": "9_Coj3PsHaCZ"
   },
   "source": [
    "#### MINUTOS"
   ]
  },
  {
   "cell_type": "code",
   "execution_count": 253,
   "metadata": {
    "ExecuteTime": {
     "end_time": "2021-05-13T20:58:45.603586Z",
     "start_time": "2021-05-13T20:58:45.376472Z"
    },
    "id": "1_pZCaEFHaCZ",
    "outputId": "d95e5570-c4d6-405e-f12b-1f94737f9ff1"
   },
   "outputs": [
    {
     "data": {
      "text/plain": [
       "count    63705.000000\n",
       "mean        20.703414\n",
       "std         17.838707\n",
       "min          0.000000\n",
       "25%          0.000000\n",
       "50%         20.000000\n",
       "75%         30.000000\n",
       "max         59.000000\n",
       "Name: c_minutos, dtype: float64"
      ]
     },
     "execution_count": 253,
     "metadata": {},
     "output_type": "execute_result"
    }
   ],
   "source": [
    "df[\"c_minutos\"].describe()"
   ]
  },
  {
   "cell_type": "code",
   "execution_count": 254,
   "metadata": {
    "ExecuteTime": {
     "end_time": "2021-05-13T20:58:45.767592Z",
     "start_time": "2021-05-13T20:58:45.608885Z"
    },
    "id": "5oji-8TqHaCa",
    "outputId": "aa0d4524-d06d-4153-be57-5bb96febdd21",
    "scrolled": true
   },
   "outputs": [
    {
     "data": {
      "text/html": [
       "<div>\n",
       "<style scoped>\n",
       "    .dataframe tbody tr th:only-of-type {\n",
       "        vertical-align: middle;\n",
       "    }\n",
       "\n",
       "    .dataframe tbody tr th {\n",
       "        vertical-align: top;\n",
       "    }\n",
       "\n",
       "    .dataframe thead th {\n",
       "        text-align: right;\n",
       "    }\n",
       "</style>\n",
       "<table border=\"1\" class=\"dataframe\">\n",
       "  <thead>\n",
       "    <tr style=\"text-align: right;\">\n",
       "      <th></th>\n",
       "      <th>columna</th>\n",
       "      <th>total</th>\n",
       "      <th>completitud</th>\n",
       "    </tr>\n",
       "  </thead>\n",
       "  <tbody>\n",
       "    <tr>\n",
       "      <th>0</th>\n",
       "      <td>v_edo_civil</td>\n",
       "      <td>63705</td>\n",
       "      <td>0.000000</td>\n",
       "    </tr>\n",
       "    <tr>\n",
       "      <th>1</th>\n",
       "      <td>v_ent_regis</td>\n",
       "      <td>4505</td>\n",
       "      <td>92.928342</td>\n",
       "    </tr>\n",
       "    <tr>\n",
       "      <th>2</th>\n",
       "      <td>v_escolarida</td>\n",
       "      <td>3604</td>\n",
       "      <td>94.342673</td>\n",
       "    </tr>\n",
       "    <tr>\n",
       "      <th>3</th>\n",
       "      <td>d_fecha_nac</td>\n",
       "      <td>1045</td>\n",
       "      <td>98.359626</td>\n",
       "    </tr>\n",
       "    <tr>\n",
       "      <th>4</th>\n",
       "      <td>c_edad</td>\n",
       "      <td>320</td>\n",
       "      <td>99.497685</td>\n",
       "    </tr>\n",
       "    <tr>\n",
       "      <th>5</th>\n",
       "      <td>v_sexo</td>\n",
       "      <td>18</td>\n",
       "      <td>99.971745</td>\n",
       "    </tr>\n",
       "    <tr>\n",
       "      <th>6</th>\n",
       "      <td>c_monto_de_apoyo</td>\n",
       "      <td>4</td>\n",
       "      <td>99.993721</td>\n",
       "    </tr>\n",
       "    <tr>\n",
       "      <th>7</th>\n",
       "      <td>v_mun_regis</td>\n",
       "      <td>0</td>\n",
       "      <td>100.000000</td>\n",
       "    </tr>\n",
       "    <tr>\n",
       "      <th>8</th>\n",
       "      <td>c_salario</td>\n",
       "      <td>0</td>\n",
       "      <td>100.000000</td>\n",
       "    </tr>\n",
       "    <tr>\n",
       "      <th>9</th>\n",
       "      <td>t_nombre_del_beneficiario</td>\n",
       "      <td>0</td>\n",
       "      <td>100.000000</td>\n",
       "    </tr>\n",
       "    <tr>\n",
       "      <th>10</th>\n",
       "      <td>t_nombre_del_proyecto</td>\n",
       "      <td>0</td>\n",
       "      <td>100.000000</td>\n",
       "    </tr>\n",
       "    <tr>\n",
       "      <th>11</th>\n",
       "      <td>t_programa_fondo</td>\n",
       "      <td>0</td>\n",
       "      <td>100.000000</td>\n",
       "    </tr>\n",
       "    <tr>\n",
       "      <th>12</th>\n",
       "      <td>d_fecha_ocurr</td>\n",
       "      <td>0</td>\n",
       "      <td>100.000000</td>\n",
       "    </tr>\n",
       "    <tr>\n",
       "      <th>13</th>\n",
       "      <td>c_minutos</td>\n",
       "      <td>0</td>\n",
       "      <td>100.000000</td>\n",
       "    </tr>\n",
       "    <tr>\n",
       "      <th>14</th>\n",
       "      <td>v_clave</td>\n",
       "      <td>0</td>\n",
       "      <td>100.000000</td>\n",
       "    </tr>\n",
       "    <tr>\n",
       "      <th>15</th>\n",
       "      <td>v_grupo</td>\n",
       "      <td>0</td>\n",
       "      <td>100.000000</td>\n",
       "    </tr>\n",
       "    <tr>\n",
       "      <th>16</th>\n",
       "      <td>v_nacionalid</td>\n",
       "      <td>0</td>\n",
       "      <td>100.000000</td>\n",
       "    </tr>\n",
       "    <tr>\n",
       "      <th>17</th>\n",
       "      <td>v_ocupacion</td>\n",
       "      <td>0</td>\n",
       "      <td>100.000000</td>\n",
       "    </tr>\n",
       "    <tr>\n",
       "      <th>18</th>\n",
       "      <td>v_lugar_ocur</td>\n",
       "      <td>0</td>\n",
       "      <td>100.000000</td>\n",
       "    </tr>\n",
       "    <tr>\n",
       "      <th>19</th>\n",
       "      <td>v_mun_ocurr</td>\n",
       "      <td>0</td>\n",
       "      <td>100.000000</td>\n",
       "    </tr>\n",
       "    <tr>\n",
       "      <th>20</th>\n",
       "      <td>v_mun_resid</td>\n",
       "      <td>0</td>\n",
       "      <td>100.000000</td>\n",
       "    </tr>\n",
       "    <tr>\n",
       "      <th>21</th>\n",
       "      <td>v_ent_resid</td>\n",
       "      <td>0</td>\n",
       "      <td>100.000000</td>\n",
       "    </tr>\n",
       "    <tr>\n",
       "      <th>22</th>\n",
       "      <td>c_horas</td>\n",
       "      <td>0</td>\n",
       "      <td>100.000000</td>\n",
       "    </tr>\n",
       "    <tr>\n",
       "      <th>23</th>\n",
       "      <td>v_sitio_ocur</td>\n",
       "      <td>0</td>\n",
       "      <td>100.000000</td>\n",
       "    </tr>\n",
       "  </tbody>\n",
       "</table>\n",
       "</div>"
      ],
      "text/plain": [
       "                      columna  total  completitud\n",
       "0                 v_edo_civil  63705     0.000000\n",
       "1                 v_ent_regis   4505    92.928342\n",
       "2                v_escolarida   3604    94.342673\n",
       "3                 d_fecha_nac   1045    98.359626\n",
       "4                      c_edad    320    99.497685\n",
       "5                      v_sexo     18    99.971745\n",
       "6            c_monto_de_apoyo      4    99.993721\n",
       "7                 v_mun_regis      0   100.000000\n",
       "8                   c_salario      0   100.000000\n",
       "9   t_nombre_del_beneficiario      0   100.000000\n",
       "10      t_nombre_del_proyecto      0   100.000000\n",
       "11           t_programa_fondo      0   100.000000\n",
       "12              d_fecha_ocurr      0   100.000000\n",
       "13                  c_minutos      0   100.000000\n",
       "14                    v_clave      0   100.000000\n",
       "15                    v_grupo      0   100.000000\n",
       "16               v_nacionalid      0   100.000000\n",
       "17                v_ocupacion      0   100.000000\n",
       "18               v_lugar_ocur      0   100.000000\n",
       "19                v_mun_ocurr      0   100.000000\n",
       "20                v_mun_resid      0   100.000000\n",
       "21                v_ent_resid      0   100.000000\n",
       "22                    c_horas      0   100.000000\n",
       "23               v_sitio_ocur      0   100.000000"
      ]
     },
     "execution_count": 254,
     "metadata": {},
     "output_type": "execute_result"
    }
   ],
   "source": [
    "completitud(df)"
   ]
  },
  {
   "cell_type": "markdown",
   "metadata": {
    "id": "j0jj0v7oHaCb"
   },
   "source": [
    "#### FECHAS"
   ]
  },
  {
   "cell_type": "code",
   "execution_count": 255,
   "metadata": {
    "ExecuteTime": {
     "end_time": "2021-05-13T20:58:45.859124Z",
     "start_time": "2021-05-13T20:58:45.769400Z"
    },
    "id": "J2VR6Ge5HaCb",
    "outputId": "1d1850c8-6c2b-4952-a8b0-4f5bcd6cdc92",
    "scrolled": true
   },
   "outputs": [],
   "source": [
    "df[\"d_fecha_nac\"]=pd.to_datetime(df[\"d_fecha_nac\"])"
   ]
  },
  {
   "cell_type": "code",
   "execution_count": 256,
   "metadata": {
    "ExecuteTime": {
     "end_time": "2021-05-13T20:58:46.015036Z",
     "start_time": "2021-05-13T20:58:45.860743Z"
    },
    "id": "qZFqqNIxHaCc",
    "outputId": "99ae5056-66ba-446f-a66a-dd997d238ff5"
   },
   "outputs": [],
   "source": [
    "df[\"d_fecha_ocurr\"]=pd.to_datetime(df[\"d_fecha_ocurr\"])"
   ]
  },
  {
   "cell_type": "code",
   "execution_count": 257,
   "metadata": {
    "ExecuteTime": {
     "end_time": "2021-05-13T20:58:46.491206Z",
     "start_time": "2021-05-13T20:58:46.017077Z"
    },
    "id": "F8Ra4IHLHaCd",
    "outputId": "ce8c5daa-3024-453b-dde4-164187324634"
   },
   "outputs": [
    {
     "data": {
      "text/html": [
       "<div>\n",
       "<style scoped>\n",
       "    .dataframe tbody tr th:only-of-type {\n",
       "        vertical-align: middle;\n",
       "    }\n",
       "\n",
       "    .dataframe tbody tr th {\n",
       "        vertical-align: top;\n",
       "    }\n",
       "\n",
       "    .dataframe thead th {\n",
       "        text-align: right;\n",
       "    }\n",
       "</style>\n",
       "<table border=\"1\" class=\"dataframe\">\n",
       "  <thead>\n",
       "    <tr style=\"text-align: right;\">\n",
       "      <th></th>\n",
       "      <th>d_fecha_nac</th>\n",
       "      <th>d_fecha_ocurr</th>\n",
       "    </tr>\n",
       "  </thead>\n",
       "  <tbody>\n",
       "    <tr>\n",
       "      <th>0</th>\n",
       "      <td>1949-06-14</td>\n",
       "      <td>2006-12-10</td>\n",
       "    </tr>\n",
       "    <tr>\n",
       "      <th>1</th>\n",
       "      <td>NaT</td>\n",
       "      <td>2008-02-08</td>\n",
       "    </tr>\n",
       "    <tr>\n",
       "      <th>2</th>\n",
       "      <td>1922-08-25</td>\n",
       "      <td>2009-11-18</td>\n",
       "    </tr>\n",
       "    <tr>\n",
       "      <th>3</th>\n",
       "      <td>1930-06-14</td>\n",
       "      <td>2012-05-27</td>\n",
       "    </tr>\n",
       "    <tr>\n",
       "      <th>4</th>\n",
       "      <td>1975-06-21</td>\n",
       "      <td>2012-06-15</td>\n",
       "    </tr>\n",
       "    <tr>\n",
       "      <th>...</th>\n",
       "      <td>...</td>\n",
       "      <td>...</td>\n",
       "    </tr>\n",
       "    <tr>\n",
       "      <th>63700</th>\n",
       "      <td>1935-02-19</td>\n",
       "      <td>2015-12-24</td>\n",
       "    </tr>\n",
       "    <tr>\n",
       "      <th>63701</th>\n",
       "      <td>1929-11-15</td>\n",
       "      <td>2015-12-25</td>\n",
       "    </tr>\n",
       "    <tr>\n",
       "      <th>63702</th>\n",
       "      <td>1926-10-02</td>\n",
       "      <td>2015-12-26</td>\n",
       "    </tr>\n",
       "    <tr>\n",
       "      <th>63703</th>\n",
       "      <td>1930-06-29</td>\n",
       "      <td>2015-12-27</td>\n",
       "    </tr>\n",
       "    <tr>\n",
       "      <th>63704</th>\n",
       "      <td>1953-11-18</td>\n",
       "      <td>2015-12-28</td>\n",
       "    </tr>\n",
       "  </tbody>\n",
       "</table>\n",
       "<p>63705 rows × 2 columns</p>\n",
       "</div>"
      ],
      "text/plain": [
       "      d_fecha_nac d_fecha_ocurr\n",
       "0      1949-06-14    2006-12-10\n",
       "1             NaT    2008-02-08\n",
       "2      1922-08-25    2009-11-18\n",
       "3      1930-06-14    2012-05-27\n",
       "4      1975-06-21    2012-06-15\n",
       "...           ...           ...\n",
       "63700  1935-02-19    2015-12-24\n",
       "63701  1929-11-15    2015-12-25\n",
       "63702  1926-10-02    2015-12-26\n",
       "63703  1930-06-29    2015-12-27\n",
       "63704  1953-11-18    2015-12-28\n",
       "\n",
       "[63705 rows x 2 columns]"
      ]
     },
     "execution_count": 257,
     "metadata": {},
     "output_type": "execute_result"
    }
   ],
   "source": [
    "df.filter(like=\"d_\")"
   ]
  },
  {
   "cell_type": "markdown",
   "metadata": {
    "id": "XupDEJmjHaCd"
   },
   "source": [
    "CONSINTENCIA INTEGRIDAD FECHA"
   ]
  },
  {
   "cell_type": "code",
   "execution_count": 180,
   "metadata": {
    "ExecuteTime": {
     "end_time": "2021-05-13T20:58:46.638250Z",
     "start_time": "2021-05-13T20:58:46.492570Z"
    },
    "id": "n_cr7yL9HaCe",
    "outputId": "afef6647-19ee-435b-fa8d-a95a222f9ce4"
   },
   "outputs": [
    {
     "data": {
      "text/html": [
       "<div>\n",
       "<style scoped>\n",
       "    .dataframe tbody tr th:only-of-type {\n",
       "        vertical-align: middle;\n",
       "    }\n",
       "\n",
       "    .dataframe tbody tr th {\n",
       "        vertical-align: top;\n",
       "    }\n",
       "\n",
       "    .dataframe thead th {\n",
       "        text-align: right;\n",
       "    }\n",
       "</style>\n",
       "<table border=\"1\" class=\"dataframe\">\n",
       "  <thead>\n",
       "    <tr style=\"text-align: right;\">\n",
       "      <th></th>\n",
       "      <th>c_edad</th>\n",
       "      <th>c_minutos</th>\n",
       "      <th>c_monto_de_apoyo</th>\n",
       "      <th>c_horas</th>\n",
       "      <th>v_ent_regis</th>\n",
       "      <th>v_mun_regis</th>\n",
       "      <th>v_ent_resid</th>\n",
       "      <th>v_mun_resid</th>\n",
       "      <th>v_mun_ocurr</th>\n",
       "      <th>v_edo_civil</th>\n",
       "      <th>v_lugar_ocur</th>\n",
       "      <th>v_sitio_ocur</th>\n",
       "      <th>v_nacionalid</th>\n",
       "      <th>v_grupo</th>\n",
       "      <th>v_clave</th>\n",
       "      <th>d_fecha_nac</th>\n",
       "      <th>d_fecha_ocurr</th>\n",
       "      <th>t_programa_fondo</th>\n",
       "      <th>t_nombre_del_proyecto</th>\n",
       "      <th>t_nombre_del_beneficiario</th>\n",
       "      <th>c_salario</th>\n",
       "      <th>v_sexo</th>\n",
       "      <th>v_ocupacion</th>\n",
       "      <th>v_escolarida</th>\n",
       "    </tr>\n",
       "  </thead>\n",
       "  <tbody>\n",
       "  </tbody>\n",
       "</table>\n",
       "</div>"
      ],
      "text/plain": [
       "Empty DataFrame\n",
       "Columns: [c_edad, c_minutos, c_monto_de_apoyo, c_horas, v_ent_regis, v_mun_regis, v_ent_resid, v_mun_resid, v_mun_ocurr, v_edo_civil, v_lugar_ocur, v_sitio_ocur, v_nacionalid, v_grupo, v_clave, d_fecha_nac, d_fecha_ocurr, t_programa_fondo, t_nombre_del_proyecto, t_nombre_del_beneficiario, c_salario, v_sexo, v_ocupacion, v_escolarida]\n",
       "Index: []"
      ]
     },
     "execution_count": 180,
     "metadata": {},
     "output_type": "execute_result"
    }
   ],
   "source": [
    "#revisamos si hay casos donde la fecha de nacimiento es mayor a la fecha de ocurrencia\n",
    "df[df[\"d_fecha_nac\"]>df[\"d_fecha_ocurr\"]]"
   ]
  },
  {
   "cell_type": "code",
   "execution_count": 181,
   "metadata": {
    "ExecuteTime": {
     "end_time": "2021-05-13T20:58:46.740847Z",
     "start_time": "2021-05-13T20:58:46.642148Z"
    },
    "id": "FHlqfTijHaCe",
    "outputId": "4397a4dd-01c6-49ec-ea7a-0d1d404c6ff9"
   },
   "outputs": [
    {
     "data": {
      "text/plain": [
       "0.0"
      ]
     },
     "execution_count": 181,
     "metadata": {},
     "output_type": "execute_result"
    }
   ],
   "source": [
    "df[df[\"d_fecha_nac\"]>df[\"d_fecha_ocurr\"]].shape[0]/df.shape[0]"
   ]
  },
  {
   "cell_type": "markdown",
   "metadata": {
    "id": "xluEj8iIHaCf"
   },
   "source": [
    "### ANALISIS"
   ]
  },
  {
   "cell_type": "code",
   "execution_count": 182,
   "metadata": {
    "ExecuteTime": {
     "end_time": "2021-05-13T20:58:46.933766Z",
     "start_time": "2021-05-13T20:58:46.745639Z"
    },
    "id": "wWn8cjh-HaCg",
    "outputId": "e607c7f5-1614-4b91-e8db-1187062cb580",
    "scrolled": true
   },
   "outputs": [
    {
     "data": {
      "text/html": [
       "<div>\n",
       "<style scoped>\n",
       "    .dataframe tbody tr th:only-of-type {\n",
       "        vertical-align: middle;\n",
       "    }\n",
       "\n",
       "    .dataframe tbody tr th {\n",
       "        vertical-align: top;\n",
       "    }\n",
       "\n",
       "    .dataframe thead tr th {\n",
       "        text-align: left;\n",
       "    }\n",
       "\n",
       "    .dataframe thead tr:last-of-type th {\n",
       "        text-align: right;\n",
       "    }\n",
       "</style>\n",
       "<table border=\"1\" class=\"dataframe\">\n",
       "  <thead>\n",
       "    <tr>\n",
       "      <th></th>\n",
       "      <th colspan=\"2\" halign=\"left\">c_edad</th>\n",
       "    </tr>\n",
       "    <tr>\n",
       "      <th></th>\n",
       "      <th>mean</th>\n",
       "      <th>count</th>\n",
       "    </tr>\n",
       "    <tr>\n",
       "      <th>v_ocupacion</th>\n",
       "      <th></th>\n",
       "      <th></th>\n",
       "    </tr>\n",
       "  </thead>\n",
       "  <tbody>\n",
       "    <tr>\n",
       "      <th>comerciantes empleados en ventas y agentes de ventas</th>\n",
       "      <td>61.765777</td>\n",
       "      <td>3185</td>\n",
       "    </tr>\n",
       "    <tr>\n",
       "      <th>no aplica a menores de 5 anos</th>\n",
       "      <td>1.846626</td>\n",
       "      <td>489</td>\n",
       "    </tr>\n",
       "    <tr>\n",
       "      <th>no trabaja</th>\n",
       "      <td>70.012690</td>\n",
       "      <td>34595</td>\n",
       "    </tr>\n",
       "    <tr>\n",
       "      <th>ocupacion no especificada</th>\n",
       "      <td>60.592140</td>\n",
       "      <td>3028</td>\n",
       "    </tr>\n",
       "    <tr>\n",
       "      <th>ocupaciones insuficientemente especificadas</th>\n",
       "      <td>48.688476</td>\n",
       "      <td>2690</td>\n",
       "    </tr>\n",
       "    <tr>\n",
       "      <th>operadores de maquinaria industrial ensambladores choferes y conductores de transporte</th>\n",
       "      <td>53.739554</td>\n",
       "      <td>1436</td>\n",
       "    </tr>\n",
       "    <tr>\n",
       "      <th>otro</th>\n",
       "      <td>56.588517</td>\n",
       "      <td>627</td>\n",
       "    </tr>\n",
       "    <tr>\n",
       "      <th>profesionistas y tecnicos</th>\n",
       "      <td>59.171768</td>\n",
       "      <td>2777</td>\n",
       "    </tr>\n",
       "    <tr>\n",
       "      <th>trabajadores artesanales</th>\n",
       "      <td>58.744811</td>\n",
       "      <td>3758</td>\n",
       "    </tr>\n",
       "    <tr>\n",
       "      <th>trabajadores en actividades agricolas ganaderas forestales caza y pesca</th>\n",
       "      <td>69.982619</td>\n",
       "      <td>7019</td>\n",
       "    </tr>\n",
       "    <tr>\n",
       "      <th>trabajadores en actividades elementales y de apoyo</th>\n",
       "      <td>60.239678</td>\n",
       "      <td>1986</td>\n",
       "    </tr>\n",
       "    <tr>\n",
       "      <th>trabajadores en servicios personales y vigilancia</th>\n",
       "      <td>55.681205</td>\n",
       "      <td>963</td>\n",
       "    </tr>\n",
       "  </tbody>\n",
       "</table>\n",
       "</div>"
      ],
      "text/plain": [
       "                                                       c_edad       \n",
       "                                                         mean  count\n",
       "v_ocupacion                                                         \n",
       "comerciantes empleados en ventas y agentes de v...  61.765777   3185\n",
       "no aplica a menores de 5 anos                        1.846626    489\n",
       "no trabaja                                          70.012690  34595\n",
       "ocupacion no especificada                           60.592140   3028\n",
       "ocupaciones insuficientemente especificadas         48.688476   2690\n",
       "operadores de maquinaria industrial ensamblador...  53.739554   1436\n",
       "otro                                                56.588517    627\n",
       "profesionistas y tecnicos                           59.171768   2777\n",
       "trabajadores artesanales                            58.744811   3758\n",
       "trabajadores en actividades agricolas ganaderas...  69.982619   7019\n",
       "trabajadores en actividades elementales y de apoyo  60.239678   1986\n",
       "trabajadores en servicios personales y vigilancia   55.681205    963"
      ]
     },
     "execution_count": 182,
     "metadata": {},
     "output_type": "execute_result"
    }
   ],
   "source": [
    "df[[\"v_ocupacion\", \"c_edad\"]].groupby([\"v_ocupacion\"]).agg([\"mean\", \"count\"])"
   ]
  },
  {
   "cell_type": "code",
   "execution_count": 183,
   "metadata": {
    "ExecuteTime": {
     "end_time": "2021-05-13T20:58:47.131263Z",
     "start_time": "2021-05-13T20:58:46.935936Z"
    },
    "id": "9mzoygVqHaCi",
    "outputId": "71fb7ba9-b7a0-43b8-9047-0b1fa7ee9c77",
    "scrolled": true
   },
   "outputs": [
    {
     "data": {
      "text/html": [
       "<div>\n",
       "<style scoped>\n",
       "    .dataframe tbody tr th:only-of-type {\n",
       "        vertical-align: middle;\n",
       "    }\n",
       "\n",
       "    .dataframe tbody tr th {\n",
       "        vertical-align: top;\n",
       "    }\n",
       "\n",
       "    .dataframe thead tr th {\n",
       "        text-align: left;\n",
       "    }\n",
       "\n",
       "    .dataframe thead tr:last-of-type th {\n",
       "        text-align: right;\n",
       "    }\n",
       "</style>\n",
       "<table border=\"1\" class=\"dataframe\">\n",
       "  <thead>\n",
       "    <tr>\n",
       "      <th></th>\n",
       "      <th></th>\n",
       "      <th colspan=\"4\" halign=\"left\">c_edad</th>\n",
       "    </tr>\n",
       "    <tr>\n",
       "      <th></th>\n",
       "      <th></th>\n",
       "      <th>mean</th>\n",
       "      <th>min</th>\n",
       "      <th>max</th>\n",
       "      <th>count</th>\n",
       "    </tr>\n",
       "    <tr>\n",
       "      <th>v_escolarida</th>\n",
       "      <th>v_sexo</th>\n",
       "      <th></th>\n",
       "      <th></th>\n",
       "      <th></th>\n",
       "      <th></th>\n",
       "    </tr>\n",
       "  </thead>\n",
       "  <tbody>\n",
       "    <tr>\n",
       "      <th rowspan=\"2\" valign=\"top\">Bachillerato o Preparatoria</th>\n",
       "      <th>Hombres</th>\n",
       "      <td>50.308430</td>\n",
       "      <td>15.0</td>\n",
       "      <td>97.0</td>\n",
       "      <td>2918</td>\n",
       "    </tr>\n",
       "    <tr>\n",
       "      <th>Mujeres</th>\n",
       "      <td>56.642644</td>\n",
       "      <td>15.0</td>\n",
       "      <td>97.0</td>\n",
       "      <td>1679</td>\n",
       "    </tr>\n",
       "    <tr>\n",
       "      <th rowspan=\"2\" valign=\"top\">No aplica a menores de 3 años</th>\n",
       "      <th>Hombres</th>\n",
       "      <td>1.319048</td>\n",
       "      <td>1.0</td>\n",
       "      <td>2.0</td>\n",
       "      <td>210</td>\n",
       "    </tr>\n",
       "    <tr>\n",
       "      <th>Mujeres</th>\n",
       "      <td>1.301282</td>\n",
       "      <td>1.0</td>\n",
       "      <td>2.0</td>\n",
       "      <td>156</td>\n",
       "    </tr>\n",
       "    <tr>\n",
       "      <th rowspan=\"2\" valign=\"top\">Preescolar</th>\n",
       "      <th>Hombres</th>\n",
       "      <td>27.519231</td>\n",
       "      <td>3.0</td>\n",
       "      <td>97.0</td>\n",
       "      <td>52</td>\n",
       "    </tr>\n",
       "    <tr>\n",
       "      <th>Mujeres</th>\n",
       "      <td>23.717391</td>\n",
       "      <td>3.0</td>\n",
       "      <td>92.0</td>\n",
       "      <td>46</td>\n",
       "    </tr>\n",
       "    <tr>\n",
       "      <th rowspan=\"2\" valign=\"top\">Primaria</th>\n",
       "      <th>Hombres</th>\n",
       "      <td>67.164677</td>\n",
       "      <td>6.0</td>\n",
       "      <td>97.0</td>\n",
       "      <td>15831</td>\n",
       "    </tr>\n",
       "    <tr>\n",
       "      <th>Mujeres</th>\n",
       "      <td>71.380316</td>\n",
       "      <td>6.0</td>\n",
       "      <td>97.0</td>\n",
       "      <td>13615</td>\n",
       "    </tr>\n",
       "    <tr>\n",
       "      <th rowspan=\"2\" valign=\"top\">Profesional</th>\n",
       "      <th>Hombres</th>\n",
       "      <td>61.778300</td>\n",
       "      <td>18.0</td>\n",
       "      <td>97.0</td>\n",
       "      <td>2977</td>\n",
       "    </tr>\n",
       "    <tr>\n",
       "      <th>Mujeres</th>\n",
       "      <td>62.407432</td>\n",
       "      <td>18.0</td>\n",
       "      <td>97.0</td>\n",
       "      <td>1480</td>\n",
       "    </tr>\n",
       "    <tr>\n",
       "      <th rowspan=\"2\" valign=\"top\">Secundaria</th>\n",
       "      <th>Hombres</th>\n",
       "      <td>49.048337</td>\n",
       "      <td>12.0</td>\n",
       "      <td>96.0</td>\n",
       "      <td>5172</td>\n",
       "    </tr>\n",
       "    <tr>\n",
       "      <th>Mujeres</th>\n",
       "      <td>57.324402</td>\n",
       "      <td>12.0</td>\n",
       "      <td>97.0</td>\n",
       "      <td>2799</td>\n",
       "    </tr>\n",
       "    <tr>\n",
       "      <th rowspan=\"2\" valign=\"top\">Sin escolaridad</th>\n",
       "      <th>Hombres</th>\n",
       "      <td>73.029498</td>\n",
       "      <td>3.0</td>\n",
       "      <td>97.0</td>\n",
       "      <td>5458</td>\n",
       "    </tr>\n",
       "    <tr>\n",
       "      <th>Mujeres</th>\n",
       "      <td>76.047550</td>\n",
       "      <td>3.0</td>\n",
       "      <td>97.0</td>\n",
       "      <td>6919</td>\n",
       "    </tr>\n",
       "  </tbody>\n",
       "</table>\n",
       "</div>"
      ],
      "text/plain": [
       "                                          c_edad                   \n",
       "                                            mean   min   max  count\n",
       "v_escolarida                  v_sexo                               \n",
       "Bachillerato o Preparatoria   Hombres  50.308430  15.0  97.0   2918\n",
       "                              Mujeres  56.642644  15.0  97.0   1679\n",
       "No aplica a menores de 3 años Hombres   1.319048   1.0   2.0    210\n",
       "                              Mujeres   1.301282   1.0   2.0    156\n",
       "Preescolar                    Hombres  27.519231   3.0  97.0     52\n",
       "                              Mujeres  23.717391   3.0  92.0     46\n",
       "Primaria                      Hombres  67.164677   6.0  97.0  15831\n",
       "                              Mujeres  71.380316   6.0  97.0  13615\n",
       "Profesional                   Hombres  61.778300  18.0  97.0   2977\n",
       "                              Mujeres  62.407432  18.0  97.0   1480\n",
       "Secundaria                    Hombres  49.048337  12.0  96.0   5172\n",
       "                              Mujeres  57.324402  12.0  97.0   2799\n",
       "Sin escolaridad               Hombres  73.029498   3.0  97.0   5458\n",
       "                              Mujeres  76.047550   3.0  97.0   6919"
      ]
     },
     "execution_count": 183,
     "metadata": {},
     "output_type": "execute_result"
    }
   ],
   "source": [
    "df[[\"c_edad\", \"v_escolarida\", \"v_sexo\"]].groupby([\"v_escolarida\", \"v_sexo\"]).agg([\"mean\", \"min\", \"max\", \"count\"])"
   ]
  },
  {
   "cell_type": "code",
   "execution_count": 258,
   "metadata": {
    "ExecuteTime": {
     "end_time": "2021-05-13T20:59:10.883842Z",
     "start_time": "2021-05-13T20:59:10.880521Z"
    },
    "id": "qMCPPSPwHaCi",
    "outputId": "9e10bd92-5688-42e5-d4dc-46553dbc74f9"
   },
   "outputs": [
    {
     "data": {
      "text/plain": [
       "(63705, 24)"
      ]
     },
     "execution_count": 258,
     "metadata": {},
     "output_type": "execute_result"
    }
   ],
   "source": [
    "df.shape"
   ]
  },
  {
   "cell_type": "code",
   "execution_count": 261,
   "metadata": {
    "ExecuteTime": {
     "end_time": "2021-05-13T20:59:13.750012Z",
     "start_time": "2021-05-13T20:59:13.746836Z"
    },
    "id": "fPt7U6ZlHaCj",
    "outputId": "263de5d1-91b1-45c6-f614-fc87a9279947"
   },
   "outputs": [],
   "source": [
    "n_rows=64332"
   ]
  },
  {
   "cell_type": "code",
   "execution_count": null,
   "metadata": {
    "id": "Oi9uKfaKHaCk"
   },
   "outputs": [],
   "source": []
  }
 ],
 "metadata": {
  "colab": {
   "name": "Calidad de datos.ipynb",
   "provenance": []
  },
  "kernelspec": {
   "display_name": "dss",
   "language": "python",
   "name": "dss"
  },
  "language_info": {
   "codemirror_mode": {
    "name": "ipython",
    "version": 3
   },
   "file_extension": ".py",
   "mimetype": "text/x-python",
   "name": "python",
   "nbconvert_exporter": "python",
   "pygments_lexer": "ipython3",
   "version": "3.8.10"
  },
  "latex_envs": {
   "LaTeX_envs_menu_present": true,
   "autoclose": false,
   "autocomplete": true,
   "bibliofile": "biblio.bib",
   "cite_by": "apalike",
   "current_citInitial": 1,
   "eqLabelWithNumbers": true,
   "eqNumInitial": 1,
   "hotkeys": {
    "equation": "Ctrl-E",
    "itemize": "Ctrl-I"
   },
   "labels_anchors": false,
   "latex_user_defs": false,
   "report_style_numbering": false,
   "user_envs_cfg": false
  },
  "varInspector": {
   "cols": {
    "lenName": 16,
    "lenType": 16,
    "lenVar": 40
   },
   "kernels_config": {
    "python": {
     "delete_cmd_postfix": "",
     "delete_cmd_prefix": "del ",
     "library": "var_list.py",
     "varRefreshCmd": "print(var_dic_list())"
    },
    "r": {
     "delete_cmd_postfix": ") ",
     "delete_cmd_prefix": "rm(",
     "library": "var_list.r",
     "varRefreshCmd": "cat(var_dic_list()) "
    }
   },
   "types_to_exclude": [
    "module",
    "function",
    "builtin_function_or_method",
    "instance",
    "_Feature"
   ],
   "window_display": false
  }
 },
 "nbformat": 4,
 "nbformat_minor": 1
}
