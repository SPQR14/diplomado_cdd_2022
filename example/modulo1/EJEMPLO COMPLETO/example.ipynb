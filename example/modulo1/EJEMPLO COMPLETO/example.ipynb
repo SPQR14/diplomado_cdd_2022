{
 "cells": [
  {
   "cell_type": "markdown",
   "id": "armed-revelation",
   "metadata": {},
   "source": [
    "\n",
    "**DataSet**:  DataScientist.csv  \n",
    "    https://www.kaggle.com/andrewmvd/data-scientist-jobs  \n"
   ]
  },
  {
   "cell_type": "code",
   "execution_count": 13,
   "id": "rational-harvey",
   "metadata": {
    "ExecuteTime": {
     "end_time": "2022-06-11T01:26:42.441787Z",
     "start_time": "2022-06-11T01:26:41.759172Z"
    }
   },
   "outputs": [
    {
     "data": {
      "text/html": [
       "        <script type=\"text/javascript\">\n",
       "        window.PlotlyConfig = {MathJaxConfig: 'local'};\n",
       "        if (window.MathJax) {MathJax.Hub.Config({SVG: {font: \"STIX-Web\"}});}\n",
       "        if (typeof require !== 'undefined') {\n",
       "        require.undef(\"plotly\");\n",
       "        requirejs.config({\n",
       "            paths: {\n",
       "                'plotly': ['https://cdn.plot.ly/plotly-2.2.0.min']\n",
       "            }\n",
       "        });\n",
       "        require(['plotly'], function(Plotly) {\n",
       "            window._Plotly = Plotly;\n",
       "        });\n",
       "        }\n",
       "        </script>\n",
       "        "
      ]
     },
     "metadata": {},
     "output_type": "display_data"
    }
   ],
   "source": [
    "#bibliotecas\n",
    "import sys\n",
    "import warnings\n",
    "import pathlib\n",
    "from termcolor import colored\n",
    "#bibliotecas para manejo de datos\n",
    "import pandas as pd\n",
    "import numpy as np\n",
    "from scipy import stats\n",
    "import re\n",
    "import unicodedata\n",
    "import nltk\n",
    "import unicodedata\n",
    "from random import sample\n",
    "from textblob import TextBlob\n",
    "from sklearn.feature_extraction.text import CountVectorizer\n",
    "from sklearn.impute import SimpleImputer\n",
    "from category_encoders import TargetEncoder\n",
    "from unidecode import unidecode\n",
    "from nltk.corpus import stopwords\n",
    "from nltk import FreqDist\n",
    "from statsmodels.stats.outliers_influence import variance_inflation_factor\n",
    "#bibliotecas para graficar\n",
    "import plotly\n",
    "import plotly.graph_objects as go\n",
    "import plotly.express as px\n",
    "import cufflinks as cf\n",
    "import stylecloud\n",
    "from PIL import Image\n",
    "from plotly.offline import plot,iplot\n",
    "pd.options.plotting.backend = \"plotly\"\n",
    "cf.go_offline()\n",
    "pd.set_option(\"display.max_columns\",200)"
   ]
  },
  {
   "cell_type": "markdown",
   "id": "dabf6319",
   "metadata": {},
   "source": [
    "## LIBRERIA"
   ]
  },
  {
   "cell_type": "markdown",
   "id": "japanese-independence",
   "metadata": {},
   "source": [
    "### Importación de módulo personal"
   ]
  },
  {
   "cell_type": "code",
   "execution_count": 27,
   "id": "valuable-stress",
   "metadata": {
    "ExecuteTime": {
     "end_time": "2022-06-11T01:27:03.084261Z",
     "start_time": "2022-06-11T01:27:03.080993Z"
    }
   },
   "outputs": [],
   "source": [
    "sys.path.append(  pathlib.Path().parent.absolute()  )\n",
    "#Importando módulo con funciones a utilizar\n",
    "# from library import *"
   ]
  },
  {
   "cell_type": "markdown",
   "id": "electrical-world",
   "metadata": {},
   "source": [
    "### Campos de información"
   ]
  },
  {
   "cell_type": "markdown",
   "id": "promising-dodge",
   "metadata": {},
   "source": [
    "**Job Title**: Nombre de la oferta de trabajo.  \n",
    "**Salary Estimate**: Rango del salario estimado por el portal Glassdoor, en miles de dólares representado en la notación K.  \n",
    "**Job Description**: Descripción de distintos rubros de la empresa, puesto y solicitud.  \n",
    "**Rating**: Calificación por parte de usuarios de la empresa en cuestion. El valor se encuentra entre 1.0 y 5.0, redondeado con un decimal.  \n",
    "**Company Name**: Nombre de la compañía que ofrece la oferta de trabajo.  \n",
    "**Location**: Ciudad donde se ubica el trabajo ofertado, junto con el estado o país al que pertenece.  \n",
    "**Headquarters**: Ciudad y estado/país donde se ubica la sede de la empresa.  \n",
    "**Size**: Divide a las empresas según su número de empleados en rangos\n",
    "específicos.  \n",
    "**Founded**: Año de fundación de la empresa.  \n",
    "**Type of Ownership**: Tipo de compañía según razón social o identidad.  \n",
    "**Industry**: Tipo de compañía según idustria en la que trabaja.  \n",
    "**Sector**: Sector en la que la compañía ofrece sus bienes o servicios.  \n",
    "**Revenue**: Utilidades de la compañía en dolares al año.  \n",
    "**Competitors**: Principal compañía competidora de la compañía que ofrece la oferta de trabajo.\n",
    "**Easy Apply**: Etiqueta que indica si la aplicación por el puesto es sencilla.  \n",
    "**Salary Minimum**: Rango inferior del estimado del salario. Extraido de Salary Estimate.  \n",
    "**Salary Maximum**: Rango superior del estimado del salario. Extraido de Salary Estimate.\n",
    "\n"
   ]
  },
  {
   "cell_type": "markdown",
   "id": "patent-impossible",
   "metadata": {},
   "source": [
    "### Importación del dataset"
   ]
  },
  {
   "cell_type": "markdown",
   "id": "concerned-disease",
   "metadata": {},
   "source": [
    "* Como valores ausentes, contamos con registros de tipo -1 o 'Unknown / Non-Applicable'.  \n",
    "* De la variable de Salary Estimate extraemos salary minimum y salary maximum desde la importación de los datos por la importancia de dicha información."
   ]
  },
  {
   "cell_type": "code",
   "execution_count": null,
   "id": "21d95794",
   "metadata": {},
   "outputs": [],
   "source": []
  },
  {
   "cell_type": "code",
   "execution_count": 28,
   "id": "oriented-outreach",
   "metadata": {
    "ExecuteTime": {
     "end_time": "2022-06-11T01:27:05.090104Z",
     "start_time": "2022-06-11T01:27:04.849452Z"
    }
   },
   "outputs": [
    {
     "data": {
      "text/html": [
       "<div>\n",
       "<style scoped>\n",
       "    .dataframe tbody tr th:only-of-type {\n",
       "        vertical-align: middle;\n",
       "    }\n",
       "\n",
       "    .dataframe tbody tr th {\n",
       "        vertical-align: top;\n",
       "    }\n",
       "\n",
       "    .dataframe thead th {\n",
       "        text-align: right;\n",
       "    }\n",
       "</style>\n",
       "<table border=\"1\" class=\"dataframe\">\n",
       "  <thead>\n",
       "    <tr style=\"text-align: right;\">\n",
       "      <th></th>\n",
       "      <th>job_title</th>\n",
       "      <th>salary_estimate</th>\n",
       "      <th>job_description</th>\n",
       "      <th>rating</th>\n",
       "      <th>company_name</th>\n",
       "      <th>location</th>\n",
       "      <th>headquarters</th>\n",
       "      <th>size</th>\n",
       "      <th>founded</th>\n",
       "      <th>type_of_ownership</th>\n",
       "      <th>industry</th>\n",
       "      <th>sector</th>\n",
       "      <th>revenue</th>\n",
       "      <th>competitors</th>\n",
       "      <th>easy_apply</th>\n",
       "      <th>salary_minimum</th>\n",
       "      <th>salary_maximum</th>\n",
       "      <th>salary_estimate_source</th>\n",
       "    </tr>\n",
       "  </thead>\n",
       "  <tbody>\n",
       "    <tr>\n",
       "      <th>0</th>\n",
       "      <td>Senior Data Scientist</td>\n",
       "      <td>$111K-$181K (Glassdoor est.)</td>\n",
       "      <td>ABOUT HOPPER\\n\\nAt Hopper, we’re on a mission ...</td>\n",
       "      <td>3.5</td>\n",
       "      <td>Hopper\\n3.5</td>\n",
       "      <td>New York, NY</td>\n",
       "      <td>Montreal, Canada</td>\n",
       "      <td>501 to 1000 employees</td>\n",
       "      <td>2007.0</td>\n",
       "      <td>Company - Private</td>\n",
       "      <td>Travel Agencies</td>\n",
       "      <td>Travel &amp; Tourism</td>\n",
       "      <td>NaN</td>\n",
       "      <td>NaN</td>\n",
       "      <td>NaN</td>\n",
       "      <td>$111K</td>\n",
       "      <td>$181K</td>\n",
       "      <td>(Glassdoor est.)</td>\n",
       "    </tr>\n",
       "    <tr>\n",
       "      <th>1</th>\n",
       "      <td>Data Scientist, Product Analytics</td>\n",
       "      <td>$111K-$181K (Glassdoor est.)</td>\n",
       "      <td>At Noom, we use scientifically proven methods ...</td>\n",
       "      <td>4.5</td>\n",
       "      <td>Noom US\\n4.5</td>\n",
       "      <td>New York, NY</td>\n",
       "      <td>New York, NY</td>\n",
       "      <td>1001 to 5000 employees</td>\n",
       "      <td>2008.0</td>\n",
       "      <td>Company - Private</td>\n",
       "      <td>Health, Beauty, &amp; Fitness</td>\n",
       "      <td>Consumer Services</td>\n",
       "      <td>NaN</td>\n",
       "      <td>NaN</td>\n",
       "      <td>NaN</td>\n",
       "      <td>$111K</td>\n",
       "      <td>$181K</td>\n",
       "      <td>(Glassdoor est.)</td>\n",
       "    </tr>\n",
       "    <tr>\n",
       "      <th>2</th>\n",
       "      <td>Data Science Manager</td>\n",
       "      <td>$111K-$181K (Glassdoor est.)</td>\n",
       "      <td>Decode_M\\n\\nhttps://www.decode-m.com/\\n\\nData ...</td>\n",
       "      <td>NaN</td>\n",
       "      <td>Decode_M</td>\n",
       "      <td>New York, NY</td>\n",
       "      <td>New York, NY</td>\n",
       "      <td>1 to 50 employees</td>\n",
       "      <td>NaN</td>\n",
       "      <td>Unknown</td>\n",
       "      <td>NaN</td>\n",
       "      <td>NaN</td>\n",
       "      <td>NaN</td>\n",
       "      <td>NaN</td>\n",
       "      <td>True</td>\n",
       "      <td>$111K</td>\n",
       "      <td>$181K</td>\n",
       "      <td>(Glassdoor est.)</td>\n",
       "    </tr>\n",
       "    <tr>\n",
       "      <th>3</th>\n",
       "      <td>Data Analyst</td>\n",
       "      <td>$111K-$181K (Glassdoor est.)</td>\n",
       "      <td>Sapphire Digital seeks a dynamic and driven mi...</td>\n",
       "      <td>3.4</td>\n",
       "      <td>Sapphire Digital\\n3.4</td>\n",
       "      <td>Lyndhurst, NJ</td>\n",
       "      <td>Lyndhurst, NJ</td>\n",
       "      <td>201 to 500 employees</td>\n",
       "      <td>2019.0</td>\n",
       "      <td>Company - Private</td>\n",
       "      <td>Internet</td>\n",
       "      <td>Information Technology</td>\n",
       "      <td>NaN</td>\n",
       "      <td>Zocdoc, Healthgrades</td>\n",
       "      <td>NaN</td>\n",
       "      <td>$111K</td>\n",
       "      <td>$181K</td>\n",
       "      <td>(Glassdoor est.)</td>\n",
       "    </tr>\n",
       "    <tr>\n",
       "      <th>4</th>\n",
       "      <td>Director, Data Science</td>\n",
       "      <td>$111K-$181K (Glassdoor est.)</td>\n",
       "      <td>Director, Data Science - (200537)\\nDescription...</td>\n",
       "      <td>3.4</td>\n",
       "      <td>United Entertainment Group\\n3.4</td>\n",
       "      <td>New York, NY</td>\n",
       "      <td>New York, NY</td>\n",
       "      <td>51 to 200 employees</td>\n",
       "      <td>2007.0</td>\n",
       "      <td>Company - Private</td>\n",
       "      <td>Advertising &amp; Marketing</td>\n",
       "      <td>Business Services</td>\n",
       "      <td>NaN</td>\n",
       "      <td>BBDO, Grey Group, Droga5</td>\n",
       "      <td>NaN</td>\n",
       "      <td>$111K</td>\n",
       "      <td>$181K</td>\n",
       "      <td>(Glassdoor est.)</td>\n",
       "    </tr>\n",
       "  </tbody>\n",
       "</table>\n",
       "</div>"
      ],
      "text/plain": [
       "                           job_title               salary_estimate  \\\n",
       "0              Senior Data Scientist  $111K-$181K (Glassdoor est.)   \n",
       "1  Data Scientist, Product Analytics  $111K-$181K (Glassdoor est.)   \n",
       "2               Data Science Manager  $111K-$181K (Glassdoor est.)   \n",
       "3                       Data Analyst  $111K-$181K (Glassdoor est.)   \n",
       "4             Director, Data Science  $111K-$181K (Glassdoor est.)   \n",
       "\n",
       "                                     job_description  rating  \\\n",
       "0  ABOUT HOPPER\\n\\nAt Hopper, we’re on a mission ...     3.5   \n",
       "1  At Noom, we use scientifically proven methods ...     4.5   \n",
       "2  Decode_M\\n\\nhttps://www.decode-m.com/\\n\\nData ...     NaN   \n",
       "3  Sapphire Digital seeks a dynamic and driven mi...     3.4   \n",
       "4  Director, Data Science - (200537)\\nDescription...     3.4   \n",
       "\n",
       "                      company_name       location      headquarters  \\\n",
       "0                      Hopper\\n3.5   New York, NY  Montreal, Canada   \n",
       "1                     Noom US\\n4.5   New York, NY      New York, NY   \n",
       "2                         Decode_M   New York, NY      New York, NY   \n",
       "3            Sapphire Digital\\n3.4  Lyndhurst, NJ     Lyndhurst, NJ   \n",
       "4  United Entertainment Group\\n3.4   New York, NY      New York, NY   \n",
       "\n",
       "                     size  founded  type_of_ownership  \\\n",
       "0   501 to 1000 employees   2007.0  Company - Private   \n",
       "1  1001 to 5000 employees   2008.0  Company - Private   \n",
       "2       1 to 50 employees      NaN            Unknown   \n",
       "3    201 to 500 employees   2019.0  Company - Private   \n",
       "4     51 to 200 employees   2007.0  Company - Private   \n",
       "\n",
       "                    industry                  sector revenue  \\\n",
       "0            Travel Agencies        Travel & Tourism     NaN   \n",
       "1  Health, Beauty, & Fitness       Consumer Services     NaN   \n",
       "2                        NaN                     NaN     NaN   \n",
       "3                   Internet  Information Technology     NaN   \n",
       "4    Advertising & Marketing       Business Services     NaN   \n",
       "\n",
       "                competitors easy_apply salary_minimum salary_maximum  \\\n",
       "0                       NaN        NaN          $111K          $181K   \n",
       "1                       NaN        NaN          $111K          $181K   \n",
       "2                       NaN       True          $111K          $181K   \n",
       "3      Zocdoc, Healthgrades        NaN          $111K          $181K   \n",
       "4  BBDO, Grey Group, Droga5        NaN          $111K          $181K   \n",
       "\n",
       "  salary_estimate_source  \n",
       "0       (Glassdoor est.)  \n",
       "1       (Glassdoor est.)  \n",
       "2       (Glassdoor est.)  \n",
       "3       (Glassdoor est.)  \n",
       "4       (Glassdoor est.)  "
      ]
     },
     "execution_count": 28,
     "metadata": {},
     "output_type": "execute_result"
    }
   ],
   "source": [
    "#Importando dataset\n",
    "#   Valores nulos son -1 en esta tabla\n",
    "df = pd.read_csv(\"DataScientist.csv\",na_values=[-1,'-1','Unknown / Non-Applicable'])\n",
    "#Eliminando columnas de indice\n",
    "df = df.drop(df.columns[:2], axis=1)\n",
    "#Cambiando espacios en nombres de columnas por '_'\n",
    "# Pasando a minusculas\n",
    "df.columns = df.columns.str.replace(' ','_').map(str.lower)\n",
    "#Separando salary_estimate\n",
    "df[['salary_minimum','salary_maximum']] = df['salary_estimate'].str.split('-', expand=True)\n",
    "df[['salary_maximum','salary_estimate_source']] = df['salary_maximum'].str.split(' ',1,expand=True)\n",
    "df.head()"
   ]
  },
  {
   "cell_type": "code",
   "execution_count": 29,
   "id": "comic-bishop",
   "metadata": {
    "ExecuteTime": {
     "end_time": "2022-06-11T01:27:05.150118Z",
     "start_time": "2022-06-11T01:27:05.141369Z"
    }
   },
   "outputs": [
    {
     "data": {
      "text/plain": [
       "Index(['Data Scientist', 'Data Engineer', 'Data Analyst',\n",
       "       'Senior Data Scientist', 'Senior Data Analyst',\n",
       "       'Machine Learning Engineer', 'Big Data Engineer',\n",
       "       'Business Intelligence Analyst', 'Senior Data Engineer',\n",
       "       'Sr. Data Scientist',\n",
       "       ...\n",
       "       'Senior Data Engineer - Apps Systems Engineer 5',\n",
       "       'Big Data Engineer II', 'Information Security Data Analyst',\n",
       "       'Sr Data Engineer (memSql)', 'Data Architect - Azure',\n",
       "       'Phoenix Data Science Tutor Jobs', 'Civil Engineer/GIS Data Analyst',\n",
       "       'Principal Device Modeling Engineer', 'SQL/SAS Data Analyst',\n",
       "       'Patient Safety Physician or Safety Scientist - UK, Europe or the US'],\n",
       "      dtype='object', length=2079)"
      ]
     },
     "execution_count": 29,
     "metadata": {},
     "output_type": "execute_result"
    }
   ],
   "source": [
    "df[\"job_title\"].value_counts().index"
   ]
  },
  {
   "cell_type": "markdown",
   "id": "atmospheric-redhead",
   "metadata": {},
   "source": [
    "# Etiquetado variables"
   ]
  },
  {
   "cell_type": "code",
   "execution_count": 30,
   "id": "banned-tackle",
   "metadata": {
    "ExecuteTime": {
     "end_time": "2022-06-11T01:27:05.391216Z",
     "start_time": "2022-06-11T01:27:05.387220Z"
    }
   },
   "outputs": [],
   "source": [
    "#Defininiendo generador para tener facil acceso al nombre de las \n",
    "# columnas con cada invocación.\n",
    "gen_columns = (col for col in df.columns)"
   ]
  },
  {
   "cell_type": "code",
   "execution_count": 31,
   "id": "organizational-contract",
   "metadata": {
    "ExecuteTime": {
     "end_time": "2022-06-11T01:27:05.554483Z",
     "start_time": "2022-06-11T01:27:05.541973Z"
    }
   },
   "outputs": [
    {
     "name": "stdout",
     "output_type": "stream",
     "text": [
      "job_title\n",
      "<class 'str'>\n",
      "HEAD\n",
      " 0                Senior Data Scientist\n",
      "1    Data Scientist, Product Analytics\n",
      "2                 Data Science Manager\n",
      "3                         Data Analyst\n",
      "4               Director, Data Science\n",
      "Name: job_title, dtype: object\n"
     ]
    },
    {
     "data": {
      "text/plain": [
       "Data Scientist                                                         274\n",
       "Data Engineer                                                          260\n",
       "Data Analyst                                                           246\n",
       "Senior Data Scientist                                                   91\n",
       "Senior Data Analyst                                                     47\n",
       "                                                                      ... \n",
       "Phoenix Data Science Tutor Jobs                                          1\n",
       "Civil Engineer/GIS Data Analyst                                          1\n",
       "Principal Device Modeling Engineer                                       1\n",
       "SQL/SAS Data Analyst                                                     1\n",
       "Patient Safety Physician or Safety Scientist - UK, Europe or the US      1\n",
       "Name: job_title, Length: 2079, dtype: int64"
      ]
     },
     "execution_count": 31,
     "metadata": {},
     "output_type": "execute_result"
    }
   ],
   "source": [
    "#Revisando tipo de dato y ejemplos de cada columna para decidir \n",
    "# su etiqueta.\n",
    "col = next(gen_columns)\n",
    "print(col)\n",
    "print(type(df[col][0]))\n",
    "print('HEAD\\n',df[col].head())\n",
    "df[col].value_counts()"
   ]
  },
  {
   "cell_type": "code",
   "execution_count": 32,
   "id": "cubic-chrome",
   "metadata": {
    "ExecuteTime": {
     "end_time": "2022-06-11T01:27:05.736401Z",
     "start_time": "2022-06-11T01:27:05.720932Z"
    }
   },
   "outputs": [
    {
     "ename": "NameError",
     "evalue": "name 'label_columns' is not defined",
     "output_type": "error",
     "traceback": [
      "\u001b[0;31m---------------------------------------------------------------------------\u001b[0m",
      "\u001b[0;31mNameError\u001b[0m                                 Traceback (most recent call last)",
      "\u001b[0;32m<ipython-input-32-47ecfdcf5705>\u001b[0m in \u001b[0;36m<module>\u001b[0;34m\u001b[0m\n\u001b[1;32m     10\u001b[0m \u001b[0;34m\u001b[0m\u001b[0m\n\u001b[1;32m     11\u001b[0m \u001b[0;31m#Etiquetando columnas\u001b[0m\u001b[0;34m\u001b[0m\u001b[0;34m\u001b[0m\u001b[0;34m\u001b[0m\u001b[0m\n\u001b[0;32m---> 12\u001b[0;31m \u001b[0mdf\u001b[0m \u001b[0;34m=\u001b[0m \u001b[0mlabel_columns\u001b[0m\u001b[0;34m(\u001b[0m\u001b[0mdf\u001b[0m\u001b[0;34m,\u001b[0m\u001b[0mc_feats\u001b[0m\u001b[0;34m,\u001b[0m\u001b[0;34m\"c_\"\u001b[0m\u001b[0;34m)\u001b[0m\u001b[0;34m\u001b[0m\u001b[0;34m\u001b[0m\u001b[0m\n\u001b[0m\u001b[1;32m     13\u001b[0m \u001b[0mdf\u001b[0m \u001b[0;34m=\u001b[0m \u001b[0mlabel_columns\u001b[0m\u001b[0;34m(\u001b[0m\u001b[0mdf\u001b[0m\u001b[0;34m,\u001b[0m\u001b[0mv_feats\u001b[0m\u001b[0;34m,\u001b[0m\u001b[0;34m\"v_\"\u001b[0m\u001b[0;34m)\u001b[0m\u001b[0;34m\u001b[0m\u001b[0;34m\u001b[0m\u001b[0m\n\u001b[1;32m     14\u001b[0m \u001b[0mdf\u001b[0m \u001b[0;34m=\u001b[0m \u001b[0mlabel_columns\u001b[0m\u001b[0;34m(\u001b[0m\u001b[0mdf\u001b[0m\u001b[0;34m,\u001b[0m\u001b[0mt_feats\u001b[0m\u001b[0;34m,\u001b[0m\u001b[0;34m\"t_\"\u001b[0m\u001b[0;34m)\u001b[0m\u001b[0;34m\u001b[0m\u001b[0;34m\u001b[0m\u001b[0m\n",
      "\u001b[0;31mNameError\u001b[0m: name 'label_columns' is not defined"
     ]
    }
   ],
   "source": [
    "#Definiendo tipo de las columnas.\n",
    " #continuas\n",
    "c_feats = ['salary_minimum','salary_maximum']\n",
    " #discretas\n",
    "v_feats = ['job_title','rating','location','headquarters','size','founded','type_of_ownership','industry','sector','revenue','competitors','easy_apply','salary_estimate_source','salary_estimate']\n",
    " #fehcas\n",
    "d_feats = []\n",
    " #texto\n",
    "t_feats = ['job_description','company_name']\n",
    "\n",
    "#Etiquetando columnas\n",
    "df = label_columns(df,c_feats,\"c_\")\n",
    "df = label_columns(df,v_feats,\"v_\")\n",
    "df = label_columns(df,t_feats,\"t_\")\n",
    "df = label_columns(df,d_feats,\"d_\")"
   ]
  },
  {
   "cell_type": "markdown",
   "id": "potential-eating",
   "metadata": {},
   "source": [
    "# Duplicados"
   ]
  },
  {
   "cell_type": "code",
   "execution_count": 33,
   "id": "ca12c9ed",
   "metadata": {
    "ExecuteTime": {
     "end_time": "2022-06-11T01:27:06.151507Z",
     "start_time": "2022-06-11T01:27:06.103074Z"
    }
   },
   "outputs": [
    {
     "data": {
      "text/html": [
       "<div>\n",
       "<style scoped>\n",
       "    .dataframe tbody tr th:only-of-type {\n",
       "        vertical-align: middle;\n",
       "    }\n",
       "\n",
       "    .dataframe tbody tr th {\n",
       "        vertical-align: top;\n",
       "    }\n",
       "\n",
       "    .dataframe thead th {\n",
       "        text-align: right;\n",
       "    }\n",
       "</style>\n",
       "<table border=\"1\" class=\"dataframe\">\n",
       "  <thead>\n",
       "    <tr style=\"text-align: right;\">\n",
       "      <th></th>\n",
       "      <th>job_title</th>\n",
       "      <th>salary_estimate</th>\n",
       "      <th>job_description</th>\n",
       "      <th>rating</th>\n",
       "      <th>company_name</th>\n",
       "      <th>location</th>\n",
       "      <th>headquarters</th>\n",
       "      <th>size</th>\n",
       "      <th>founded</th>\n",
       "      <th>type_of_ownership</th>\n",
       "      <th>industry</th>\n",
       "      <th>sector</th>\n",
       "      <th>revenue</th>\n",
       "      <th>competitors</th>\n",
       "      <th>easy_apply</th>\n",
       "      <th>salary_minimum</th>\n",
       "      <th>salary_maximum</th>\n",
       "      <th>salary_estimate_source</th>\n",
       "    </tr>\n",
       "  </thead>\n",
       "  <tbody>\n",
       "    <tr>\n",
       "      <th>0</th>\n",
       "      <td>Senior Data Scientist</td>\n",
       "      <td>$111K-$181K (Glassdoor est.)</td>\n",
       "      <td>ABOUT HOPPER\\n\\nAt Hopper, we’re on a mission ...</td>\n",
       "      <td>3.5</td>\n",
       "      <td>Hopper\\n3.5</td>\n",
       "      <td>New York, NY</td>\n",
       "      <td>Montreal, Canada</td>\n",
       "      <td>501 to 1000 employees</td>\n",
       "      <td>2007.0</td>\n",
       "      <td>Company - Private</td>\n",
       "      <td>Travel Agencies</td>\n",
       "      <td>Travel &amp; Tourism</td>\n",
       "      <td>NaN</td>\n",
       "      <td>NaN</td>\n",
       "      <td>NaN</td>\n",
       "      <td>$111K</td>\n",
       "      <td>$181K</td>\n",
       "      <td>(Glassdoor est.)</td>\n",
       "    </tr>\n",
       "    <tr>\n",
       "      <th>1</th>\n",
       "      <td>Data Scientist, Product Analytics</td>\n",
       "      <td>$111K-$181K (Glassdoor est.)</td>\n",
       "      <td>At Noom, we use scientifically proven methods ...</td>\n",
       "      <td>4.5</td>\n",
       "      <td>Noom US\\n4.5</td>\n",
       "      <td>New York, NY</td>\n",
       "      <td>New York, NY</td>\n",
       "      <td>1001 to 5000 employees</td>\n",
       "      <td>2008.0</td>\n",
       "      <td>Company - Private</td>\n",
       "      <td>Health, Beauty, &amp; Fitness</td>\n",
       "      <td>Consumer Services</td>\n",
       "      <td>NaN</td>\n",
       "      <td>NaN</td>\n",
       "      <td>NaN</td>\n",
       "      <td>$111K</td>\n",
       "      <td>$181K</td>\n",
       "      <td>(Glassdoor est.)</td>\n",
       "    </tr>\n",
       "    <tr>\n",
       "      <th>2</th>\n",
       "      <td>Data Science Manager</td>\n",
       "      <td>$111K-$181K (Glassdoor est.)</td>\n",
       "      <td>Decode_M\\n\\nhttps://www.decode-m.com/\\n\\nData ...</td>\n",
       "      <td>NaN</td>\n",
       "      <td>Decode_M</td>\n",
       "      <td>New York, NY</td>\n",
       "      <td>New York, NY</td>\n",
       "      <td>1 to 50 employees</td>\n",
       "      <td>NaN</td>\n",
       "      <td>Unknown</td>\n",
       "      <td>NaN</td>\n",
       "      <td>NaN</td>\n",
       "      <td>NaN</td>\n",
       "      <td>NaN</td>\n",
       "      <td>True</td>\n",
       "      <td>$111K</td>\n",
       "      <td>$181K</td>\n",
       "      <td>(Glassdoor est.)</td>\n",
       "    </tr>\n",
       "    <tr>\n",
       "      <th>3</th>\n",
       "      <td>Data Analyst</td>\n",
       "      <td>$111K-$181K (Glassdoor est.)</td>\n",
       "      <td>Sapphire Digital seeks a dynamic and driven mi...</td>\n",
       "      <td>3.4</td>\n",
       "      <td>Sapphire Digital\\n3.4</td>\n",
       "      <td>Lyndhurst, NJ</td>\n",
       "      <td>Lyndhurst, NJ</td>\n",
       "      <td>201 to 500 employees</td>\n",
       "      <td>2019.0</td>\n",
       "      <td>Company - Private</td>\n",
       "      <td>Internet</td>\n",
       "      <td>Information Technology</td>\n",
       "      <td>NaN</td>\n",
       "      <td>Zocdoc, Healthgrades</td>\n",
       "      <td>NaN</td>\n",
       "      <td>$111K</td>\n",
       "      <td>$181K</td>\n",
       "      <td>(Glassdoor est.)</td>\n",
       "    </tr>\n",
       "    <tr>\n",
       "      <th>4</th>\n",
       "      <td>Director, Data Science</td>\n",
       "      <td>$111K-$181K (Glassdoor est.)</td>\n",
       "      <td>Director, Data Science - (200537)\\nDescription...</td>\n",
       "      <td>3.4</td>\n",
       "      <td>United Entertainment Group\\n3.4</td>\n",
       "      <td>New York, NY</td>\n",
       "      <td>New York, NY</td>\n",
       "      <td>51 to 200 employees</td>\n",
       "      <td>2007.0</td>\n",
       "      <td>Company - Private</td>\n",
       "      <td>Advertising &amp; Marketing</td>\n",
       "      <td>Business Services</td>\n",
       "      <td>NaN</td>\n",
       "      <td>BBDO, Grey Group, Droga5</td>\n",
       "      <td>NaN</td>\n",
       "      <td>$111K</td>\n",
       "      <td>$181K</td>\n",
       "      <td>(Glassdoor est.)</td>\n",
       "    </tr>\n",
       "    <tr>\n",
       "      <th>...</th>\n",
       "      <td>...</td>\n",
       "      <td>...</td>\n",
       "      <td>...</td>\n",
       "      <td>...</td>\n",
       "      <td>...</td>\n",
       "      <td>...</td>\n",
       "      <td>...</td>\n",
       "      <td>...</td>\n",
       "      <td>...</td>\n",
       "      <td>...</td>\n",
       "      <td>...</td>\n",
       "      <td>...</td>\n",
       "      <td>...</td>\n",
       "      <td>...</td>\n",
       "      <td>...</td>\n",
       "      <td>...</td>\n",
       "      <td>...</td>\n",
       "      <td>...</td>\n",
       "    </tr>\n",
       "    <tr>\n",
       "      <th>3904</th>\n",
       "      <td>AWS Data Engineer</td>\n",
       "      <td>$55K-$112K (Glassdoor est.)</td>\n",
       "      <td>About Us\\n\\nTachyon Technologies is a Digital ...</td>\n",
       "      <td>4.4</td>\n",
       "      <td>Tachyon Technologies\\n4.4</td>\n",
       "      <td>Dublin, OH</td>\n",
       "      <td>Irving, TX</td>\n",
       "      <td>201 to 500 employees</td>\n",
       "      <td>2011.0</td>\n",
       "      <td>Company - Private</td>\n",
       "      <td>IT Services</td>\n",
       "      <td>Information Technology</td>\n",
       "      <td>$10 to $25 million (USD)</td>\n",
       "      <td>NaN</td>\n",
       "      <td>NaN</td>\n",
       "      <td>$55K</td>\n",
       "      <td>$112K</td>\n",
       "      <td>(Glassdoor est.)</td>\n",
       "    </tr>\n",
       "    <tr>\n",
       "      <th>3905</th>\n",
       "      <td>Data Analyst â Junior</td>\n",
       "      <td>$55K-$112K (Glassdoor est.)</td>\n",
       "      <td>Job description\\nInterpret data, analyze resul...</td>\n",
       "      <td>5.0</td>\n",
       "      <td>Staffigo Technical Services, LLC\\n5.0</td>\n",
       "      <td>Columbus, OH</td>\n",
       "      <td>Woodridge, IL</td>\n",
       "      <td>51 to 200 employees</td>\n",
       "      <td>2008.0</td>\n",
       "      <td>Company - Private</td>\n",
       "      <td>IT Services</td>\n",
       "      <td>Information Technology</td>\n",
       "      <td>$50 to $100 million (USD)</td>\n",
       "      <td>NaN</td>\n",
       "      <td>NaN</td>\n",
       "      <td>$55K</td>\n",
       "      <td>$112K</td>\n",
       "      <td>(Glassdoor est.)</td>\n",
       "    </tr>\n",
       "    <tr>\n",
       "      <th>3906</th>\n",
       "      <td>Security Analytics Data Engineer</td>\n",
       "      <td>$55K-$112K (Glassdoor est.)</td>\n",
       "      <td>Job DescriptionThe Security Analytics Data Eng...</td>\n",
       "      <td>3.8</td>\n",
       "      <td>PDS Tech, Inc.\\n3.8</td>\n",
       "      <td>Dublin, OH</td>\n",
       "      <td>Irving, TX</td>\n",
       "      <td>5001 to 10000 employees</td>\n",
       "      <td>1977.0</td>\n",
       "      <td>Company - Private</td>\n",
       "      <td>Staffing &amp; Outsourcing</td>\n",
       "      <td>Business Services</td>\n",
       "      <td>$100 to $500 million (USD)</td>\n",
       "      <td>NaN</td>\n",
       "      <td>NaN</td>\n",
       "      <td>$55K</td>\n",
       "      <td>$112K</td>\n",
       "      <td>(Glassdoor est.)</td>\n",
       "    </tr>\n",
       "    <tr>\n",
       "      <th>3907</th>\n",
       "      <td>Security Analytics Data Engineer</td>\n",
       "      <td>$55K-$112K (Glassdoor est.)</td>\n",
       "      <td>The Security Analytics Data Engineer will inte...</td>\n",
       "      <td>4.0</td>\n",
       "      <td>Data Resource Technologies\\n4.0</td>\n",
       "      <td>Dublin, OH</td>\n",
       "      <td>Omaha, NE</td>\n",
       "      <td>1 to 50 employees</td>\n",
       "      <td>NaN</td>\n",
       "      <td>Company - Private</td>\n",
       "      <td>Accounting</td>\n",
       "      <td>Accounting &amp; Legal</td>\n",
       "      <td>Less than $1 million (USD)</td>\n",
       "      <td>NaN</td>\n",
       "      <td>NaN</td>\n",
       "      <td>$55K</td>\n",
       "      <td>$112K</td>\n",
       "      <td>(Glassdoor est.)</td>\n",
       "    </tr>\n",
       "    <tr>\n",
       "      <th>3908</th>\n",
       "      <td>Patient Safety Physician or Safety Scientist -...</td>\n",
       "      <td>$55K-$112K (Glassdoor est.)</td>\n",
       "      <td>Help us transform patients' lives.\\nAt UCB, we...</td>\n",
       "      <td>3.7</td>\n",
       "      <td>UCB\\n3.7</td>\n",
       "      <td>Slough, OH</td>\n",
       "      <td>Brussel, Belgium</td>\n",
       "      <td>5001 to 10000 employees</td>\n",
       "      <td>NaN</td>\n",
       "      <td>Company - Public</td>\n",
       "      <td>Biotech &amp; Pharmaceuticals</td>\n",
       "      <td>Biotech &amp; Pharmaceuticals</td>\n",
       "      <td>$2 to $5 billion (USD)</td>\n",
       "      <td>AbbVie</td>\n",
       "      <td>NaN</td>\n",
       "      <td>$55K</td>\n",
       "      <td>$112K</td>\n",
       "      <td>(Glassdoor est.)</td>\n",
       "    </tr>\n",
       "  </tbody>\n",
       "</table>\n",
       "<p>3909 rows × 18 columns</p>\n",
       "</div>"
      ],
      "text/plain": [
       "                                              job_title  \\\n",
       "0                                 Senior Data Scientist   \n",
       "1                     Data Scientist, Product Analytics   \n",
       "2                                  Data Science Manager   \n",
       "3                                          Data Analyst   \n",
       "4                                Director, Data Science   \n",
       "...                                                 ...   \n",
       "3904                                  AWS Data Engineer   \n",
       "3905                              Data Analyst â Junior   \n",
       "3906                   Security Analytics Data Engineer   \n",
       "3907                   Security Analytics Data Engineer   \n",
       "3908  Patient Safety Physician or Safety Scientist -...   \n",
       "\n",
       "                   salary_estimate  \\\n",
       "0     $111K-$181K (Glassdoor est.)   \n",
       "1     $111K-$181K (Glassdoor est.)   \n",
       "2     $111K-$181K (Glassdoor est.)   \n",
       "3     $111K-$181K (Glassdoor est.)   \n",
       "4     $111K-$181K (Glassdoor est.)   \n",
       "...                            ...   \n",
       "3904   $55K-$112K (Glassdoor est.)   \n",
       "3905   $55K-$112K (Glassdoor est.)   \n",
       "3906   $55K-$112K (Glassdoor est.)   \n",
       "3907   $55K-$112K (Glassdoor est.)   \n",
       "3908   $55K-$112K (Glassdoor est.)   \n",
       "\n",
       "                                        job_description  rating  \\\n",
       "0     ABOUT HOPPER\\n\\nAt Hopper, we’re on a mission ...     3.5   \n",
       "1     At Noom, we use scientifically proven methods ...     4.5   \n",
       "2     Decode_M\\n\\nhttps://www.decode-m.com/\\n\\nData ...     NaN   \n",
       "3     Sapphire Digital seeks a dynamic and driven mi...     3.4   \n",
       "4     Director, Data Science - (200537)\\nDescription...     3.4   \n",
       "...                                                 ...     ...   \n",
       "3904  About Us\\n\\nTachyon Technologies is a Digital ...     4.4   \n",
       "3905  Job description\\nInterpret data, analyze resul...     5.0   \n",
       "3906  Job DescriptionThe Security Analytics Data Eng...     3.8   \n",
       "3907  The Security Analytics Data Engineer will inte...     4.0   \n",
       "3908  Help us transform patients' lives.\\nAt UCB, we...     3.7   \n",
       "\n",
       "                               company_name       location      headquarters  \\\n",
       "0                               Hopper\\n3.5   New York, NY  Montreal, Canada   \n",
       "1                              Noom US\\n4.5   New York, NY      New York, NY   \n",
       "2                                  Decode_M   New York, NY      New York, NY   \n",
       "3                     Sapphire Digital\\n3.4  Lyndhurst, NJ     Lyndhurst, NJ   \n",
       "4           United Entertainment Group\\n3.4   New York, NY      New York, NY   \n",
       "...                                     ...            ...               ...   \n",
       "3904              Tachyon Technologies\\n4.4     Dublin, OH        Irving, TX   \n",
       "3905  Staffigo Technical Services, LLC\\n5.0   Columbus, OH     Woodridge, IL   \n",
       "3906                    PDS Tech, Inc.\\n3.8     Dublin, OH        Irving, TX   \n",
       "3907        Data Resource Technologies\\n4.0     Dublin, OH         Omaha, NE   \n",
       "3908                               UCB\\n3.7     Slough, OH  Brussel, Belgium   \n",
       "\n",
       "                         size  founded  type_of_ownership  \\\n",
       "0       501 to 1000 employees   2007.0  Company - Private   \n",
       "1      1001 to 5000 employees   2008.0  Company - Private   \n",
       "2           1 to 50 employees      NaN            Unknown   \n",
       "3        201 to 500 employees   2019.0  Company - Private   \n",
       "4         51 to 200 employees   2007.0  Company - Private   \n",
       "...                       ...      ...                ...   \n",
       "3904     201 to 500 employees   2011.0  Company - Private   \n",
       "3905      51 to 200 employees   2008.0  Company - Private   \n",
       "3906  5001 to 10000 employees   1977.0  Company - Private   \n",
       "3907        1 to 50 employees      NaN  Company - Private   \n",
       "3908  5001 to 10000 employees      NaN   Company - Public   \n",
       "\n",
       "                       industry                     sector  \\\n",
       "0               Travel Agencies           Travel & Tourism   \n",
       "1     Health, Beauty, & Fitness          Consumer Services   \n",
       "2                           NaN                        NaN   \n",
       "3                      Internet     Information Technology   \n",
       "4       Advertising & Marketing          Business Services   \n",
       "...                         ...                        ...   \n",
       "3904                IT Services     Information Technology   \n",
       "3905                IT Services     Information Technology   \n",
       "3906     Staffing & Outsourcing          Business Services   \n",
       "3907                 Accounting         Accounting & Legal   \n",
       "3908  Biotech & Pharmaceuticals  Biotech & Pharmaceuticals   \n",
       "\n",
       "                         revenue               competitors easy_apply  \\\n",
       "0                            NaN                       NaN        NaN   \n",
       "1                            NaN                       NaN        NaN   \n",
       "2                            NaN                       NaN       True   \n",
       "3                            NaN      Zocdoc, Healthgrades        NaN   \n",
       "4                            NaN  BBDO, Grey Group, Droga5        NaN   \n",
       "...                          ...                       ...        ...   \n",
       "3904    $10 to $25 million (USD)                       NaN        NaN   \n",
       "3905   $50 to $100 million (USD)                       NaN        NaN   \n",
       "3906  $100 to $500 million (USD)                       NaN        NaN   \n",
       "3907  Less than $1 million (USD)                       NaN        NaN   \n",
       "3908      $2 to $5 billion (USD)                    AbbVie        NaN   \n",
       "\n",
       "     salary_minimum salary_maximum salary_estimate_source  \n",
       "0             $111K          $181K       (Glassdoor est.)  \n",
       "1             $111K          $181K       (Glassdoor est.)  \n",
       "2             $111K          $181K       (Glassdoor est.)  \n",
       "3             $111K          $181K       (Glassdoor est.)  \n",
       "4             $111K          $181K       (Glassdoor est.)  \n",
       "...             ...            ...                    ...  \n",
       "3904           $55K          $112K       (Glassdoor est.)  \n",
       "3905           $55K          $112K       (Glassdoor est.)  \n",
       "3906           $55K          $112K       (Glassdoor est.)  \n",
       "3907           $55K          $112K       (Glassdoor est.)  \n",
       "3908           $55K          $112K       (Glassdoor est.)  \n",
       "\n",
       "[3909 rows x 18 columns]"
      ]
     },
     "execution_count": 33,
     "metadata": {},
     "output_type": "execute_result"
    }
   ],
   "source": [
    "df"
   ]
  },
  {
   "cell_type": "code",
   "execution_count": 34,
   "id": "actual-occupation",
   "metadata": {
    "ExecuteTime": {
     "end_time": "2022-06-11T01:27:06.314873Z",
     "start_time": "2022-06-11T01:27:06.265875Z"
    }
   },
   "outputs": [
    {
     "data": {
      "text/plain": [
       "0"
      ]
     },
     "execution_count": 34,
     "metadata": {},
     "output_type": "execute_result"
    }
   ],
   "source": [
    "#Numero de duplicados\n",
    "df.duplicated().sum()"
   ]
  },
  {
   "cell_type": "markdown",
   "id": "familiar-annotation",
   "metadata": {},
   "source": [
    "No hay duplicados de facil identidicación en el dataframe."
   ]
  },
  {
   "cell_type": "markdown",
   "id": "honest-moderator",
   "metadata": {},
   "source": [
    "# Completitud"
   ]
  },
  {
   "cell_type": "code",
   "execution_count": 40,
   "id": "e7aac97a",
   "metadata": {
    "ExecuteTime": {
     "end_time": "2022-06-11T01:27:45.078736Z",
     "start_time": "2022-06-11T01:27:45.030498Z"
    }
   },
   "outputs": [
    {
     "ename": "KeyError",
     "evalue": "'v_competitors'",
     "output_type": "error",
     "traceback": [
      "\u001b[0;31m---------------------------------------------------------------------------\u001b[0m",
      "\u001b[0;31mKeyError\u001b[0m                                  Traceback (most recent call last)",
      "\u001b[0;32m~/anaconda3/envs/dss/lib/python3.8/site-packages/pandas/core/indexes/base.py\u001b[0m in \u001b[0;36mget_loc\u001b[0;34m(self, key, method, tolerance)\u001b[0m\n\u001b[1;32m   3360\u001b[0m             \u001b[0;32mtry\u001b[0m\u001b[0;34m:\u001b[0m\u001b[0;34m\u001b[0m\u001b[0;34m\u001b[0m\u001b[0m\n\u001b[0;32m-> 3361\u001b[0;31m                 \u001b[0;32mreturn\u001b[0m \u001b[0mself\u001b[0m\u001b[0;34m.\u001b[0m\u001b[0m_engine\u001b[0m\u001b[0;34m.\u001b[0m\u001b[0mget_loc\u001b[0m\u001b[0;34m(\u001b[0m\u001b[0mcasted_key\u001b[0m\u001b[0;34m)\u001b[0m\u001b[0;34m\u001b[0m\u001b[0;34m\u001b[0m\u001b[0m\n\u001b[0m\u001b[1;32m   3362\u001b[0m             \u001b[0;32mexcept\u001b[0m \u001b[0mKeyError\u001b[0m \u001b[0;32mas\u001b[0m \u001b[0merr\u001b[0m\u001b[0;34m:\u001b[0m\u001b[0;34m\u001b[0m\u001b[0;34m\u001b[0m\u001b[0m\n",
      "\u001b[0;32m~/anaconda3/envs/dss/lib/python3.8/site-packages/pandas/_libs/index.pyx\u001b[0m in \u001b[0;36mpandas._libs.index.IndexEngine.get_loc\u001b[0;34m()\u001b[0m\n",
      "\u001b[0;32m~/anaconda3/envs/dss/lib/python3.8/site-packages/pandas/_libs/index.pyx\u001b[0m in \u001b[0;36mpandas._libs.index.IndexEngine.get_loc\u001b[0;34m()\u001b[0m\n",
      "\u001b[0;32mpandas/_libs/hashtable_class_helper.pxi\u001b[0m in \u001b[0;36mpandas._libs.hashtable.PyObjectHashTable.get_item\u001b[0;34m()\u001b[0m\n",
      "\u001b[0;32mpandas/_libs/hashtable_class_helper.pxi\u001b[0m in \u001b[0;36mpandas._libs.hashtable.PyObjectHashTable.get_item\u001b[0;34m()\u001b[0m\n",
      "\u001b[0;31mKeyError\u001b[0m: 'v_competitors'",
      "\nThe above exception was the direct cause of the following exception:\n",
      "\u001b[0;31mKeyError\u001b[0m                                  Traceback (most recent call last)",
      "\u001b[0;32m<ipython-input-40-f8953ee4196c>\u001b[0m in \u001b[0;36m<module>\u001b[0;34m\u001b[0m\n\u001b[0;32m----> 1\u001b[0;31m \u001b[0mdf\u001b[0m\u001b[0;34m[\u001b[0m\u001b[0;34m\"v_competitors\"\u001b[0m\u001b[0;34m]\u001b[0m\u001b[0;34m.\u001b[0m\u001b[0mvalue_counts\u001b[0m\u001b[0;34m(\u001b[0m\u001b[0;34m)\u001b[0m\u001b[0;34m.\u001b[0m\u001b[0mindex\u001b[0m\u001b[0;34m\u001b[0m\u001b[0;34m\u001b[0m\u001b[0m\n\u001b[0m",
      "\u001b[0;32m~/anaconda3/envs/dss/lib/python3.8/site-packages/pandas/core/frame.py\u001b[0m in \u001b[0;36m__getitem__\u001b[0;34m(self, key)\u001b[0m\n\u001b[1;32m   3453\u001b[0m             \u001b[0;32mif\u001b[0m \u001b[0mself\u001b[0m\u001b[0;34m.\u001b[0m\u001b[0mcolumns\u001b[0m\u001b[0;34m.\u001b[0m\u001b[0mnlevels\u001b[0m \u001b[0;34m>\u001b[0m \u001b[0;36m1\u001b[0m\u001b[0;34m:\u001b[0m\u001b[0;34m\u001b[0m\u001b[0;34m\u001b[0m\u001b[0m\n\u001b[1;32m   3454\u001b[0m                 \u001b[0;32mreturn\u001b[0m \u001b[0mself\u001b[0m\u001b[0;34m.\u001b[0m\u001b[0m_getitem_multilevel\u001b[0m\u001b[0;34m(\u001b[0m\u001b[0mkey\u001b[0m\u001b[0;34m)\u001b[0m\u001b[0;34m\u001b[0m\u001b[0;34m\u001b[0m\u001b[0m\n\u001b[0;32m-> 3455\u001b[0;31m             \u001b[0mindexer\u001b[0m \u001b[0;34m=\u001b[0m \u001b[0mself\u001b[0m\u001b[0;34m.\u001b[0m\u001b[0mcolumns\u001b[0m\u001b[0;34m.\u001b[0m\u001b[0mget_loc\u001b[0m\u001b[0;34m(\u001b[0m\u001b[0mkey\u001b[0m\u001b[0;34m)\u001b[0m\u001b[0;34m\u001b[0m\u001b[0;34m\u001b[0m\u001b[0m\n\u001b[0m\u001b[1;32m   3456\u001b[0m             \u001b[0;32mif\u001b[0m \u001b[0mis_integer\u001b[0m\u001b[0;34m(\u001b[0m\u001b[0mindexer\u001b[0m\u001b[0;34m)\u001b[0m\u001b[0;34m:\u001b[0m\u001b[0;34m\u001b[0m\u001b[0;34m\u001b[0m\u001b[0m\n\u001b[1;32m   3457\u001b[0m                 \u001b[0mindexer\u001b[0m \u001b[0;34m=\u001b[0m \u001b[0;34m[\u001b[0m\u001b[0mindexer\u001b[0m\u001b[0;34m]\u001b[0m\u001b[0;34m\u001b[0m\u001b[0;34m\u001b[0m\u001b[0m\n",
      "\u001b[0;32m~/anaconda3/envs/dss/lib/python3.8/site-packages/pandas/core/indexes/base.py\u001b[0m in \u001b[0;36mget_loc\u001b[0;34m(self, key, method, tolerance)\u001b[0m\n\u001b[1;32m   3361\u001b[0m                 \u001b[0;32mreturn\u001b[0m \u001b[0mself\u001b[0m\u001b[0;34m.\u001b[0m\u001b[0m_engine\u001b[0m\u001b[0;34m.\u001b[0m\u001b[0mget_loc\u001b[0m\u001b[0;34m(\u001b[0m\u001b[0mcasted_key\u001b[0m\u001b[0;34m)\u001b[0m\u001b[0;34m\u001b[0m\u001b[0;34m\u001b[0m\u001b[0m\n\u001b[1;32m   3362\u001b[0m             \u001b[0;32mexcept\u001b[0m \u001b[0mKeyError\u001b[0m \u001b[0;32mas\u001b[0m \u001b[0merr\u001b[0m\u001b[0;34m:\u001b[0m\u001b[0;34m\u001b[0m\u001b[0;34m\u001b[0m\u001b[0m\n\u001b[0;32m-> 3363\u001b[0;31m                 \u001b[0;32mraise\u001b[0m \u001b[0mKeyError\u001b[0m\u001b[0;34m(\u001b[0m\u001b[0mkey\u001b[0m\u001b[0;34m)\u001b[0m \u001b[0;32mfrom\u001b[0m \u001b[0merr\u001b[0m\u001b[0;34m\u001b[0m\u001b[0;34m\u001b[0m\u001b[0m\n\u001b[0m\u001b[1;32m   3364\u001b[0m \u001b[0;34m\u001b[0m\u001b[0m\n\u001b[1;32m   3365\u001b[0m         \u001b[0;32mif\u001b[0m \u001b[0mis_scalar\u001b[0m\u001b[0;34m(\u001b[0m\u001b[0mkey\u001b[0m\u001b[0;34m)\u001b[0m \u001b[0;32mand\u001b[0m \u001b[0misna\u001b[0m\u001b[0;34m(\u001b[0m\u001b[0mkey\u001b[0m\u001b[0;34m)\u001b[0m \u001b[0;32mand\u001b[0m \u001b[0;32mnot\u001b[0m \u001b[0mself\u001b[0m\u001b[0;34m.\u001b[0m\u001b[0mhasnans\u001b[0m\u001b[0;34m:\u001b[0m\u001b[0;34m\u001b[0m\u001b[0;34m\u001b[0m\u001b[0m\n",
      "\u001b[0;31mKeyError\u001b[0m: 'v_competitors'"
     ]
    }
   ],
   "source": [
    "df[\"v_competitors\"].value_counts().index"
   ]
  },
  {
   "cell_type": "code",
   "execution_count": 36,
   "id": "47cc8b0f",
   "metadata": {
    "ExecuteTime": {
     "end_time": "2022-06-11T01:27:07.200637Z",
     "start_time": "2022-06-11T01:27:07.134045Z"
    }
   },
   "outputs": [
    {
     "ename": "KeyError",
     "evalue": "'v_revenue'",
     "output_type": "error",
     "traceback": [
      "\u001b[0;31m---------------------------------------------------------------------------\u001b[0m",
      "\u001b[0;31mKeyError\u001b[0m                                  Traceback (most recent call last)",
      "\u001b[0;32m~/anaconda3/envs/dss/lib/python3.8/site-packages/pandas/core/indexes/base.py\u001b[0m in \u001b[0;36mget_loc\u001b[0;34m(self, key, method, tolerance)\u001b[0m\n\u001b[1;32m   3360\u001b[0m             \u001b[0;32mtry\u001b[0m\u001b[0;34m:\u001b[0m\u001b[0;34m\u001b[0m\u001b[0;34m\u001b[0m\u001b[0m\n\u001b[0;32m-> 3361\u001b[0;31m                 \u001b[0;32mreturn\u001b[0m \u001b[0mself\u001b[0m\u001b[0;34m.\u001b[0m\u001b[0m_engine\u001b[0m\u001b[0;34m.\u001b[0m\u001b[0mget_loc\u001b[0m\u001b[0;34m(\u001b[0m\u001b[0mcasted_key\u001b[0m\u001b[0;34m)\u001b[0m\u001b[0;34m\u001b[0m\u001b[0;34m\u001b[0m\u001b[0m\n\u001b[0m\u001b[1;32m   3362\u001b[0m             \u001b[0;32mexcept\u001b[0m \u001b[0mKeyError\u001b[0m \u001b[0;32mas\u001b[0m \u001b[0merr\u001b[0m\u001b[0;34m:\u001b[0m\u001b[0;34m\u001b[0m\u001b[0;34m\u001b[0m\u001b[0m\n",
      "\u001b[0;32m~/anaconda3/envs/dss/lib/python3.8/site-packages/pandas/_libs/index.pyx\u001b[0m in \u001b[0;36mpandas._libs.index.IndexEngine.get_loc\u001b[0;34m()\u001b[0m\n",
      "\u001b[0;32m~/anaconda3/envs/dss/lib/python3.8/site-packages/pandas/_libs/index.pyx\u001b[0m in \u001b[0;36mpandas._libs.index.IndexEngine.get_loc\u001b[0;34m()\u001b[0m\n",
      "\u001b[0;32mpandas/_libs/hashtable_class_helper.pxi\u001b[0m in \u001b[0;36mpandas._libs.hashtable.PyObjectHashTable.get_item\u001b[0;34m()\u001b[0m\n",
      "\u001b[0;32mpandas/_libs/hashtable_class_helper.pxi\u001b[0m in \u001b[0;36mpandas._libs.hashtable.PyObjectHashTable.get_item\u001b[0;34m()\u001b[0m\n",
      "\u001b[0;31mKeyError\u001b[0m: 'v_revenue'",
      "\nThe above exception was the direct cause of the following exception:\n",
      "\u001b[0;31mKeyError\u001b[0m                                  Traceback (most recent call last)",
      "\u001b[0;32m<ipython-input-36-4791328cb32c>\u001b[0m in \u001b[0;36m<module>\u001b[0;34m\u001b[0m\n\u001b[0;32m----> 1\u001b[0;31m \u001b[0mdf\u001b[0m\u001b[0;34m[\u001b[0m\u001b[0;34m\"v_revenue\"\u001b[0m\u001b[0;34m]\u001b[0m\u001b[0;34m.\u001b[0m\u001b[0mvalue_counts\u001b[0m\u001b[0;34m(\u001b[0m\u001b[0;34m)\u001b[0m\u001b[0;34m\u001b[0m\u001b[0;34m\u001b[0m\u001b[0m\n\u001b[0m",
      "\u001b[0;32m~/anaconda3/envs/dss/lib/python3.8/site-packages/pandas/core/frame.py\u001b[0m in \u001b[0;36m__getitem__\u001b[0;34m(self, key)\u001b[0m\n\u001b[1;32m   3453\u001b[0m             \u001b[0;32mif\u001b[0m \u001b[0mself\u001b[0m\u001b[0;34m.\u001b[0m\u001b[0mcolumns\u001b[0m\u001b[0;34m.\u001b[0m\u001b[0mnlevels\u001b[0m \u001b[0;34m>\u001b[0m \u001b[0;36m1\u001b[0m\u001b[0;34m:\u001b[0m\u001b[0;34m\u001b[0m\u001b[0;34m\u001b[0m\u001b[0m\n\u001b[1;32m   3454\u001b[0m                 \u001b[0;32mreturn\u001b[0m \u001b[0mself\u001b[0m\u001b[0;34m.\u001b[0m\u001b[0m_getitem_multilevel\u001b[0m\u001b[0;34m(\u001b[0m\u001b[0mkey\u001b[0m\u001b[0;34m)\u001b[0m\u001b[0;34m\u001b[0m\u001b[0;34m\u001b[0m\u001b[0m\n\u001b[0;32m-> 3455\u001b[0;31m             \u001b[0mindexer\u001b[0m \u001b[0;34m=\u001b[0m \u001b[0mself\u001b[0m\u001b[0;34m.\u001b[0m\u001b[0mcolumns\u001b[0m\u001b[0;34m.\u001b[0m\u001b[0mget_loc\u001b[0m\u001b[0;34m(\u001b[0m\u001b[0mkey\u001b[0m\u001b[0;34m)\u001b[0m\u001b[0;34m\u001b[0m\u001b[0;34m\u001b[0m\u001b[0m\n\u001b[0m\u001b[1;32m   3456\u001b[0m             \u001b[0;32mif\u001b[0m \u001b[0mis_integer\u001b[0m\u001b[0;34m(\u001b[0m\u001b[0mindexer\u001b[0m\u001b[0;34m)\u001b[0m\u001b[0;34m:\u001b[0m\u001b[0;34m\u001b[0m\u001b[0;34m\u001b[0m\u001b[0m\n\u001b[1;32m   3457\u001b[0m                 \u001b[0mindexer\u001b[0m \u001b[0;34m=\u001b[0m \u001b[0;34m[\u001b[0m\u001b[0mindexer\u001b[0m\u001b[0;34m]\u001b[0m\u001b[0;34m\u001b[0m\u001b[0;34m\u001b[0m\u001b[0m\n",
      "\u001b[0;32m~/anaconda3/envs/dss/lib/python3.8/site-packages/pandas/core/indexes/base.py\u001b[0m in \u001b[0;36mget_loc\u001b[0;34m(self, key, method, tolerance)\u001b[0m\n\u001b[1;32m   3361\u001b[0m                 \u001b[0;32mreturn\u001b[0m \u001b[0mself\u001b[0m\u001b[0;34m.\u001b[0m\u001b[0m_engine\u001b[0m\u001b[0;34m.\u001b[0m\u001b[0mget_loc\u001b[0m\u001b[0;34m(\u001b[0m\u001b[0mcasted_key\u001b[0m\u001b[0;34m)\u001b[0m\u001b[0;34m\u001b[0m\u001b[0;34m\u001b[0m\u001b[0m\n\u001b[1;32m   3362\u001b[0m             \u001b[0;32mexcept\u001b[0m \u001b[0mKeyError\u001b[0m \u001b[0;32mas\u001b[0m \u001b[0merr\u001b[0m\u001b[0;34m:\u001b[0m\u001b[0;34m\u001b[0m\u001b[0;34m\u001b[0m\u001b[0m\n\u001b[0;32m-> 3363\u001b[0;31m                 \u001b[0;32mraise\u001b[0m \u001b[0mKeyError\u001b[0m\u001b[0;34m(\u001b[0m\u001b[0mkey\u001b[0m\u001b[0;34m)\u001b[0m \u001b[0;32mfrom\u001b[0m \u001b[0merr\u001b[0m\u001b[0;34m\u001b[0m\u001b[0;34m\u001b[0m\u001b[0m\n\u001b[0m\u001b[1;32m   3364\u001b[0m \u001b[0;34m\u001b[0m\u001b[0m\n\u001b[1;32m   3365\u001b[0m         \u001b[0;32mif\u001b[0m \u001b[0mis_scalar\u001b[0m\u001b[0;34m(\u001b[0m\u001b[0mkey\u001b[0m\u001b[0;34m)\u001b[0m \u001b[0;32mand\u001b[0m \u001b[0misna\u001b[0m\u001b[0;34m(\u001b[0m\u001b[0mkey\u001b[0m\u001b[0;34m)\u001b[0m \u001b[0;32mand\u001b[0m \u001b[0;32mnot\u001b[0m \u001b[0mself\u001b[0m\u001b[0;34m.\u001b[0m\u001b[0mhasnans\u001b[0m\u001b[0;34m:\u001b[0m\u001b[0;34m\u001b[0m\u001b[0;34m\u001b[0m\u001b[0m\n",
      "\u001b[0;31mKeyError\u001b[0m: 'v_revenue'"
     ]
    }
   ],
   "source": [
    "df[\"v_revenue\"].value_counts()"
   ]
  },
  {
   "cell_type": "code",
   "execution_count": 37,
   "id": "9a77fa60",
   "metadata": {
    "ExecuteTime": {
     "end_time": "2022-06-11T01:27:07.425413Z",
     "start_time": "2022-06-11T01:27:07.378516Z"
    }
   },
   "outputs": [
    {
     "ename": "KeyError",
     "evalue": "'t_company_name'",
     "output_type": "error",
     "traceback": [
      "\u001b[0;31m---------------------------------------------------------------------------\u001b[0m",
      "\u001b[0;31mKeyError\u001b[0m                                  Traceback (most recent call last)",
      "\u001b[0;32m~/anaconda3/envs/dss/lib/python3.8/site-packages/pandas/core/indexes/base.py\u001b[0m in \u001b[0;36mget_loc\u001b[0;34m(self, key, method, tolerance)\u001b[0m\n\u001b[1;32m   3360\u001b[0m             \u001b[0;32mtry\u001b[0m\u001b[0;34m:\u001b[0m\u001b[0;34m\u001b[0m\u001b[0;34m\u001b[0m\u001b[0m\n\u001b[0;32m-> 3361\u001b[0;31m                 \u001b[0;32mreturn\u001b[0m \u001b[0mself\u001b[0m\u001b[0;34m.\u001b[0m\u001b[0m_engine\u001b[0m\u001b[0;34m.\u001b[0m\u001b[0mget_loc\u001b[0m\u001b[0;34m(\u001b[0m\u001b[0mcasted_key\u001b[0m\u001b[0;34m)\u001b[0m\u001b[0;34m\u001b[0m\u001b[0;34m\u001b[0m\u001b[0m\n\u001b[0m\u001b[1;32m   3362\u001b[0m             \u001b[0;32mexcept\u001b[0m \u001b[0mKeyError\u001b[0m \u001b[0;32mas\u001b[0m \u001b[0merr\u001b[0m\u001b[0;34m:\u001b[0m\u001b[0;34m\u001b[0m\u001b[0;34m\u001b[0m\u001b[0m\n",
      "\u001b[0;32m~/anaconda3/envs/dss/lib/python3.8/site-packages/pandas/_libs/index.pyx\u001b[0m in \u001b[0;36mpandas._libs.index.IndexEngine.get_loc\u001b[0;34m()\u001b[0m\n",
      "\u001b[0;32m~/anaconda3/envs/dss/lib/python3.8/site-packages/pandas/_libs/index.pyx\u001b[0m in \u001b[0;36mpandas._libs.index.IndexEngine.get_loc\u001b[0;34m()\u001b[0m\n",
      "\u001b[0;32mpandas/_libs/hashtable_class_helper.pxi\u001b[0m in \u001b[0;36mpandas._libs.hashtable.PyObjectHashTable.get_item\u001b[0;34m()\u001b[0m\n",
      "\u001b[0;32mpandas/_libs/hashtable_class_helper.pxi\u001b[0m in \u001b[0;36mpandas._libs.hashtable.PyObjectHashTable.get_item\u001b[0;34m()\u001b[0m\n",
      "\u001b[0;31mKeyError\u001b[0m: 't_company_name'",
      "\nThe above exception was the direct cause of the following exception:\n",
      "\u001b[0;31mKeyError\u001b[0m                                  Traceback (most recent call last)",
      "\u001b[0;32m<ipython-input-37-9d93cba3cda6>\u001b[0m in \u001b[0;36m<module>\u001b[0;34m\u001b[0m\n\u001b[0;32m----> 1\u001b[0;31m \u001b[0mdf\u001b[0m\u001b[0;34m[\u001b[0m\u001b[0;34m\"t_company_name\"\u001b[0m\u001b[0;34m]\u001b[0m\u001b[0;34m.\u001b[0m\u001b[0mvalue_counts\u001b[0m\u001b[0;34m(\u001b[0m\u001b[0;34m)\u001b[0m\u001b[0;34m\u001b[0m\u001b[0;34m\u001b[0m\u001b[0m\n\u001b[0m",
      "\u001b[0;32m~/anaconda3/envs/dss/lib/python3.8/site-packages/pandas/core/frame.py\u001b[0m in \u001b[0;36m__getitem__\u001b[0;34m(self, key)\u001b[0m\n\u001b[1;32m   3453\u001b[0m             \u001b[0;32mif\u001b[0m \u001b[0mself\u001b[0m\u001b[0;34m.\u001b[0m\u001b[0mcolumns\u001b[0m\u001b[0;34m.\u001b[0m\u001b[0mnlevels\u001b[0m \u001b[0;34m>\u001b[0m \u001b[0;36m1\u001b[0m\u001b[0;34m:\u001b[0m\u001b[0;34m\u001b[0m\u001b[0;34m\u001b[0m\u001b[0m\n\u001b[1;32m   3454\u001b[0m                 \u001b[0;32mreturn\u001b[0m \u001b[0mself\u001b[0m\u001b[0;34m.\u001b[0m\u001b[0m_getitem_multilevel\u001b[0m\u001b[0;34m(\u001b[0m\u001b[0mkey\u001b[0m\u001b[0;34m)\u001b[0m\u001b[0;34m\u001b[0m\u001b[0;34m\u001b[0m\u001b[0m\n\u001b[0;32m-> 3455\u001b[0;31m             \u001b[0mindexer\u001b[0m \u001b[0;34m=\u001b[0m \u001b[0mself\u001b[0m\u001b[0;34m.\u001b[0m\u001b[0mcolumns\u001b[0m\u001b[0;34m.\u001b[0m\u001b[0mget_loc\u001b[0m\u001b[0;34m(\u001b[0m\u001b[0mkey\u001b[0m\u001b[0;34m)\u001b[0m\u001b[0;34m\u001b[0m\u001b[0;34m\u001b[0m\u001b[0m\n\u001b[0m\u001b[1;32m   3456\u001b[0m             \u001b[0;32mif\u001b[0m \u001b[0mis_integer\u001b[0m\u001b[0;34m(\u001b[0m\u001b[0mindexer\u001b[0m\u001b[0;34m)\u001b[0m\u001b[0;34m:\u001b[0m\u001b[0;34m\u001b[0m\u001b[0;34m\u001b[0m\u001b[0m\n\u001b[1;32m   3457\u001b[0m                 \u001b[0mindexer\u001b[0m \u001b[0;34m=\u001b[0m \u001b[0;34m[\u001b[0m\u001b[0mindexer\u001b[0m\u001b[0;34m]\u001b[0m\u001b[0;34m\u001b[0m\u001b[0;34m\u001b[0m\u001b[0m\n",
      "\u001b[0;32m~/anaconda3/envs/dss/lib/python3.8/site-packages/pandas/core/indexes/base.py\u001b[0m in \u001b[0;36mget_loc\u001b[0;34m(self, key, method, tolerance)\u001b[0m\n\u001b[1;32m   3361\u001b[0m                 \u001b[0;32mreturn\u001b[0m \u001b[0mself\u001b[0m\u001b[0;34m.\u001b[0m\u001b[0m_engine\u001b[0m\u001b[0;34m.\u001b[0m\u001b[0mget_loc\u001b[0m\u001b[0;34m(\u001b[0m\u001b[0mcasted_key\u001b[0m\u001b[0;34m)\u001b[0m\u001b[0;34m\u001b[0m\u001b[0;34m\u001b[0m\u001b[0m\n\u001b[1;32m   3362\u001b[0m             \u001b[0;32mexcept\u001b[0m \u001b[0mKeyError\u001b[0m \u001b[0;32mas\u001b[0m \u001b[0merr\u001b[0m\u001b[0;34m:\u001b[0m\u001b[0;34m\u001b[0m\u001b[0;34m\u001b[0m\u001b[0m\n\u001b[0;32m-> 3363\u001b[0;31m                 \u001b[0;32mraise\u001b[0m \u001b[0mKeyError\u001b[0m\u001b[0;34m(\u001b[0m\u001b[0mkey\u001b[0m\u001b[0;34m)\u001b[0m \u001b[0;32mfrom\u001b[0m \u001b[0merr\u001b[0m\u001b[0;34m\u001b[0m\u001b[0;34m\u001b[0m\u001b[0m\n\u001b[0m\u001b[1;32m   3364\u001b[0m \u001b[0;34m\u001b[0m\u001b[0m\n\u001b[1;32m   3365\u001b[0m         \u001b[0;32mif\u001b[0m \u001b[0mis_scalar\u001b[0m\u001b[0;34m(\u001b[0m\u001b[0mkey\u001b[0m\u001b[0;34m)\u001b[0m \u001b[0;32mand\u001b[0m \u001b[0misna\u001b[0m\u001b[0;34m(\u001b[0m\u001b[0mkey\u001b[0m\u001b[0;34m)\u001b[0m \u001b[0;32mand\u001b[0m \u001b[0;32mnot\u001b[0m \u001b[0mself\u001b[0m\u001b[0;34m.\u001b[0m\u001b[0mhasnans\u001b[0m\u001b[0;34m:\u001b[0m\u001b[0;34m\u001b[0m\u001b[0;34m\u001b[0m\u001b[0m\n",
      "\u001b[0;31mKeyError\u001b[0m: 't_company_name'"
     ]
    }
   ],
   "source": [
    "df[\"t_company_name\"].value_counts()"
   ]
  },
  {
   "cell_type": "code",
   "execution_count": 38,
   "id": "a2954128",
   "metadata": {
    "ExecuteTime": {
     "end_time": "2022-06-11T01:27:07.624483Z",
     "start_time": "2022-06-11T01:27:07.575191Z"
    },
    "scrolled": true
   },
   "outputs": [
    {
     "ename": "KeyError",
     "evalue": "'v_sector'",
     "output_type": "error",
     "traceback": [
      "\u001b[0;31m---------------------------------------------------------------------------\u001b[0m",
      "\u001b[0;31mKeyError\u001b[0m                                  Traceback (most recent call last)",
      "\u001b[0;32m~/anaconda3/envs/dss/lib/python3.8/site-packages/pandas/core/indexes/base.py\u001b[0m in \u001b[0;36mget_loc\u001b[0;34m(self, key, method, tolerance)\u001b[0m\n\u001b[1;32m   3360\u001b[0m             \u001b[0;32mtry\u001b[0m\u001b[0;34m:\u001b[0m\u001b[0;34m\u001b[0m\u001b[0;34m\u001b[0m\u001b[0m\n\u001b[0;32m-> 3361\u001b[0;31m                 \u001b[0;32mreturn\u001b[0m \u001b[0mself\u001b[0m\u001b[0;34m.\u001b[0m\u001b[0m_engine\u001b[0m\u001b[0;34m.\u001b[0m\u001b[0mget_loc\u001b[0m\u001b[0;34m(\u001b[0m\u001b[0mcasted_key\u001b[0m\u001b[0;34m)\u001b[0m\u001b[0;34m\u001b[0m\u001b[0;34m\u001b[0m\u001b[0m\n\u001b[0m\u001b[1;32m   3362\u001b[0m             \u001b[0;32mexcept\u001b[0m \u001b[0mKeyError\u001b[0m \u001b[0;32mas\u001b[0m \u001b[0merr\u001b[0m\u001b[0;34m:\u001b[0m\u001b[0;34m\u001b[0m\u001b[0;34m\u001b[0m\u001b[0m\n",
      "\u001b[0;32m~/anaconda3/envs/dss/lib/python3.8/site-packages/pandas/_libs/index.pyx\u001b[0m in \u001b[0;36mpandas._libs.index.IndexEngine.get_loc\u001b[0;34m()\u001b[0m\n",
      "\u001b[0;32m~/anaconda3/envs/dss/lib/python3.8/site-packages/pandas/_libs/index.pyx\u001b[0m in \u001b[0;36mpandas._libs.index.IndexEngine.get_loc\u001b[0;34m()\u001b[0m\n",
      "\u001b[0;32mpandas/_libs/hashtable_class_helper.pxi\u001b[0m in \u001b[0;36mpandas._libs.hashtable.PyObjectHashTable.get_item\u001b[0;34m()\u001b[0m\n",
      "\u001b[0;32mpandas/_libs/hashtable_class_helper.pxi\u001b[0m in \u001b[0;36mpandas._libs.hashtable.PyObjectHashTable.get_item\u001b[0;34m()\u001b[0m\n",
      "\u001b[0;31mKeyError\u001b[0m: 'v_sector'",
      "\nThe above exception was the direct cause of the following exception:\n",
      "\u001b[0;31mKeyError\u001b[0m                                  Traceback (most recent call last)",
      "\u001b[0;32m<ipython-input-38-570ec9318fec>\u001b[0m in \u001b[0;36m<module>\u001b[0;34m\u001b[0m\n\u001b[0;32m----> 1\u001b[0;31m \u001b[0mdf\u001b[0m\u001b[0;34m[\u001b[0m\u001b[0;34m\"v_sector\"\u001b[0m\u001b[0;34m]\u001b[0m\u001b[0;34m.\u001b[0m\u001b[0mvalue_counts\u001b[0m\u001b[0;34m(\u001b[0m\u001b[0;34m)\u001b[0m\u001b[0;34m\u001b[0m\u001b[0;34m\u001b[0m\u001b[0m\n\u001b[0m",
      "\u001b[0;32m~/anaconda3/envs/dss/lib/python3.8/site-packages/pandas/core/frame.py\u001b[0m in \u001b[0;36m__getitem__\u001b[0;34m(self, key)\u001b[0m\n\u001b[1;32m   3453\u001b[0m             \u001b[0;32mif\u001b[0m \u001b[0mself\u001b[0m\u001b[0;34m.\u001b[0m\u001b[0mcolumns\u001b[0m\u001b[0;34m.\u001b[0m\u001b[0mnlevels\u001b[0m \u001b[0;34m>\u001b[0m \u001b[0;36m1\u001b[0m\u001b[0;34m:\u001b[0m\u001b[0;34m\u001b[0m\u001b[0;34m\u001b[0m\u001b[0m\n\u001b[1;32m   3454\u001b[0m                 \u001b[0;32mreturn\u001b[0m \u001b[0mself\u001b[0m\u001b[0;34m.\u001b[0m\u001b[0m_getitem_multilevel\u001b[0m\u001b[0;34m(\u001b[0m\u001b[0mkey\u001b[0m\u001b[0;34m)\u001b[0m\u001b[0;34m\u001b[0m\u001b[0;34m\u001b[0m\u001b[0m\n\u001b[0;32m-> 3455\u001b[0;31m             \u001b[0mindexer\u001b[0m \u001b[0;34m=\u001b[0m \u001b[0mself\u001b[0m\u001b[0;34m.\u001b[0m\u001b[0mcolumns\u001b[0m\u001b[0;34m.\u001b[0m\u001b[0mget_loc\u001b[0m\u001b[0;34m(\u001b[0m\u001b[0mkey\u001b[0m\u001b[0;34m)\u001b[0m\u001b[0;34m\u001b[0m\u001b[0;34m\u001b[0m\u001b[0m\n\u001b[0m\u001b[1;32m   3456\u001b[0m             \u001b[0;32mif\u001b[0m \u001b[0mis_integer\u001b[0m\u001b[0;34m(\u001b[0m\u001b[0mindexer\u001b[0m\u001b[0;34m)\u001b[0m\u001b[0;34m:\u001b[0m\u001b[0;34m\u001b[0m\u001b[0;34m\u001b[0m\u001b[0m\n\u001b[1;32m   3457\u001b[0m                 \u001b[0mindexer\u001b[0m \u001b[0;34m=\u001b[0m \u001b[0;34m[\u001b[0m\u001b[0mindexer\u001b[0m\u001b[0;34m]\u001b[0m\u001b[0;34m\u001b[0m\u001b[0;34m\u001b[0m\u001b[0m\n",
      "\u001b[0;32m~/anaconda3/envs/dss/lib/python3.8/site-packages/pandas/core/indexes/base.py\u001b[0m in \u001b[0;36mget_loc\u001b[0;34m(self, key, method, tolerance)\u001b[0m\n\u001b[1;32m   3361\u001b[0m                 \u001b[0;32mreturn\u001b[0m \u001b[0mself\u001b[0m\u001b[0;34m.\u001b[0m\u001b[0m_engine\u001b[0m\u001b[0;34m.\u001b[0m\u001b[0mget_loc\u001b[0m\u001b[0;34m(\u001b[0m\u001b[0mcasted_key\u001b[0m\u001b[0;34m)\u001b[0m\u001b[0;34m\u001b[0m\u001b[0;34m\u001b[0m\u001b[0m\n\u001b[1;32m   3362\u001b[0m             \u001b[0;32mexcept\u001b[0m \u001b[0mKeyError\u001b[0m \u001b[0;32mas\u001b[0m \u001b[0merr\u001b[0m\u001b[0;34m:\u001b[0m\u001b[0;34m\u001b[0m\u001b[0;34m\u001b[0m\u001b[0m\n\u001b[0;32m-> 3363\u001b[0;31m                 \u001b[0;32mraise\u001b[0m \u001b[0mKeyError\u001b[0m\u001b[0;34m(\u001b[0m\u001b[0mkey\u001b[0m\u001b[0;34m)\u001b[0m \u001b[0;32mfrom\u001b[0m \u001b[0merr\u001b[0m\u001b[0;34m\u001b[0m\u001b[0;34m\u001b[0m\u001b[0m\n\u001b[0m\u001b[1;32m   3364\u001b[0m \u001b[0;34m\u001b[0m\u001b[0m\n\u001b[1;32m   3365\u001b[0m         \u001b[0;32mif\u001b[0m \u001b[0mis_scalar\u001b[0m\u001b[0;34m(\u001b[0m\u001b[0mkey\u001b[0m\u001b[0;34m)\u001b[0m \u001b[0;32mand\u001b[0m \u001b[0misna\u001b[0m\u001b[0;34m(\u001b[0m\u001b[0mkey\u001b[0m\u001b[0;34m)\u001b[0m \u001b[0;32mand\u001b[0m \u001b[0;32mnot\u001b[0m \u001b[0mself\u001b[0m\u001b[0;34m.\u001b[0m\u001b[0mhasnans\u001b[0m\u001b[0;34m:\u001b[0m\u001b[0;34m\u001b[0m\u001b[0;34m\u001b[0m\u001b[0m\n",
      "\u001b[0;31mKeyError\u001b[0m: 'v_sector'"
     ]
    }
   ],
   "source": [
    "df[\"v_sector\"].value_counts()"
   ]
  },
  {
   "cell_type": "code",
   "execution_count": 39,
   "id": "abdbc992",
   "metadata": {
    "ExecuteTime": {
     "end_time": "2022-06-11T01:27:07.816582Z",
     "start_time": "2022-06-11T01:27:07.760887Z"
    }
   },
   "outputs": [
    {
     "ename": "KeyError",
     "evalue": "'v_revenue'",
     "output_type": "error",
     "traceback": [
      "\u001b[0;31m---------------------------------------------------------------------------\u001b[0m",
      "\u001b[0;31mKeyError\u001b[0m                                  Traceback (most recent call last)",
      "\u001b[0;32m~/anaconda3/envs/dss/lib/python3.8/site-packages/pandas/core/indexes/base.py\u001b[0m in \u001b[0;36mget_loc\u001b[0;34m(self, key, method, tolerance)\u001b[0m\n\u001b[1;32m   3360\u001b[0m             \u001b[0;32mtry\u001b[0m\u001b[0;34m:\u001b[0m\u001b[0;34m\u001b[0m\u001b[0;34m\u001b[0m\u001b[0m\n\u001b[0;32m-> 3361\u001b[0;31m                 \u001b[0;32mreturn\u001b[0m \u001b[0mself\u001b[0m\u001b[0;34m.\u001b[0m\u001b[0m_engine\u001b[0m\u001b[0;34m.\u001b[0m\u001b[0mget_loc\u001b[0m\u001b[0;34m(\u001b[0m\u001b[0mcasted_key\u001b[0m\u001b[0;34m)\u001b[0m\u001b[0;34m\u001b[0m\u001b[0;34m\u001b[0m\u001b[0m\n\u001b[0m\u001b[1;32m   3362\u001b[0m             \u001b[0;32mexcept\u001b[0m \u001b[0mKeyError\u001b[0m \u001b[0;32mas\u001b[0m \u001b[0merr\u001b[0m\u001b[0;34m:\u001b[0m\u001b[0;34m\u001b[0m\u001b[0;34m\u001b[0m\u001b[0m\n",
      "\u001b[0;32m~/anaconda3/envs/dss/lib/python3.8/site-packages/pandas/_libs/index.pyx\u001b[0m in \u001b[0;36mpandas._libs.index.IndexEngine.get_loc\u001b[0;34m()\u001b[0m\n",
      "\u001b[0;32m~/anaconda3/envs/dss/lib/python3.8/site-packages/pandas/_libs/index.pyx\u001b[0m in \u001b[0;36mpandas._libs.index.IndexEngine.get_loc\u001b[0;34m()\u001b[0m\n",
      "\u001b[0;32mpandas/_libs/hashtable_class_helper.pxi\u001b[0m in \u001b[0;36mpandas._libs.hashtable.PyObjectHashTable.get_item\u001b[0;34m()\u001b[0m\n",
      "\u001b[0;32mpandas/_libs/hashtable_class_helper.pxi\u001b[0m in \u001b[0;36mpandas._libs.hashtable.PyObjectHashTable.get_item\u001b[0;34m()\u001b[0m\n",
      "\u001b[0;31mKeyError\u001b[0m: 'v_revenue'",
      "\nThe above exception was the direct cause of the following exception:\n",
      "\u001b[0;31mKeyError\u001b[0m                                  Traceback (most recent call last)",
      "\u001b[0;32m<ipython-input-39-a28f0041d1c1>\u001b[0m in \u001b[0;36m<module>\u001b[0;34m\u001b[0m\n\u001b[0;32m----> 1\u001b[0;31m \u001b[0mdf\u001b[0m\u001b[0;34m[\u001b[0m\u001b[0mdf\u001b[0m\u001b[0;34m[\u001b[0m\u001b[0;34m\"v_revenue\"\u001b[0m\u001b[0;34m]\u001b[0m\u001b[0;34m==\u001b[0m\u001b[0;34m\"$10+ billion (USD)\"\u001b[0m\u001b[0;34m]\u001b[0m\u001b[0;34m[\u001b[0m\u001b[0;34m\"t_company_name\"\u001b[0m\u001b[0;34m]\u001b[0m\u001b[0;34m.\u001b[0m\u001b[0mvalue_counts\u001b[0m\u001b[0;34m(\u001b[0m\u001b[0;34m)\u001b[0m\u001b[0;34m.\u001b[0m\u001b[0mindex\u001b[0m\u001b[0;34m\u001b[0m\u001b[0;34m\u001b[0m\u001b[0m\n\u001b[0m",
      "\u001b[0;32m~/anaconda3/envs/dss/lib/python3.8/site-packages/pandas/core/frame.py\u001b[0m in \u001b[0;36m__getitem__\u001b[0;34m(self, key)\u001b[0m\n\u001b[1;32m   3453\u001b[0m             \u001b[0;32mif\u001b[0m \u001b[0mself\u001b[0m\u001b[0;34m.\u001b[0m\u001b[0mcolumns\u001b[0m\u001b[0;34m.\u001b[0m\u001b[0mnlevels\u001b[0m \u001b[0;34m>\u001b[0m \u001b[0;36m1\u001b[0m\u001b[0;34m:\u001b[0m\u001b[0;34m\u001b[0m\u001b[0;34m\u001b[0m\u001b[0m\n\u001b[1;32m   3454\u001b[0m                 \u001b[0;32mreturn\u001b[0m \u001b[0mself\u001b[0m\u001b[0;34m.\u001b[0m\u001b[0m_getitem_multilevel\u001b[0m\u001b[0;34m(\u001b[0m\u001b[0mkey\u001b[0m\u001b[0;34m)\u001b[0m\u001b[0;34m\u001b[0m\u001b[0;34m\u001b[0m\u001b[0m\n\u001b[0;32m-> 3455\u001b[0;31m             \u001b[0mindexer\u001b[0m \u001b[0;34m=\u001b[0m \u001b[0mself\u001b[0m\u001b[0;34m.\u001b[0m\u001b[0mcolumns\u001b[0m\u001b[0;34m.\u001b[0m\u001b[0mget_loc\u001b[0m\u001b[0;34m(\u001b[0m\u001b[0mkey\u001b[0m\u001b[0;34m)\u001b[0m\u001b[0;34m\u001b[0m\u001b[0;34m\u001b[0m\u001b[0m\n\u001b[0m\u001b[1;32m   3456\u001b[0m             \u001b[0;32mif\u001b[0m \u001b[0mis_integer\u001b[0m\u001b[0;34m(\u001b[0m\u001b[0mindexer\u001b[0m\u001b[0;34m)\u001b[0m\u001b[0;34m:\u001b[0m\u001b[0;34m\u001b[0m\u001b[0;34m\u001b[0m\u001b[0m\n\u001b[1;32m   3457\u001b[0m                 \u001b[0mindexer\u001b[0m \u001b[0;34m=\u001b[0m \u001b[0;34m[\u001b[0m\u001b[0mindexer\u001b[0m\u001b[0;34m]\u001b[0m\u001b[0;34m\u001b[0m\u001b[0;34m\u001b[0m\u001b[0m\n",
      "\u001b[0;32m~/anaconda3/envs/dss/lib/python3.8/site-packages/pandas/core/indexes/base.py\u001b[0m in \u001b[0;36mget_loc\u001b[0;34m(self, key, method, tolerance)\u001b[0m\n\u001b[1;32m   3361\u001b[0m                 \u001b[0;32mreturn\u001b[0m \u001b[0mself\u001b[0m\u001b[0;34m.\u001b[0m\u001b[0m_engine\u001b[0m\u001b[0;34m.\u001b[0m\u001b[0mget_loc\u001b[0m\u001b[0;34m(\u001b[0m\u001b[0mcasted_key\u001b[0m\u001b[0;34m)\u001b[0m\u001b[0;34m\u001b[0m\u001b[0;34m\u001b[0m\u001b[0m\n\u001b[1;32m   3362\u001b[0m             \u001b[0;32mexcept\u001b[0m \u001b[0mKeyError\u001b[0m \u001b[0;32mas\u001b[0m \u001b[0merr\u001b[0m\u001b[0;34m:\u001b[0m\u001b[0;34m\u001b[0m\u001b[0;34m\u001b[0m\u001b[0m\n\u001b[0;32m-> 3363\u001b[0;31m                 \u001b[0;32mraise\u001b[0m \u001b[0mKeyError\u001b[0m\u001b[0;34m(\u001b[0m\u001b[0mkey\u001b[0m\u001b[0;34m)\u001b[0m \u001b[0;32mfrom\u001b[0m \u001b[0merr\u001b[0m\u001b[0;34m\u001b[0m\u001b[0;34m\u001b[0m\u001b[0m\n\u001b[0m\u001b[1;32m   3364\u001b[0m \u001b[0;34m\u001b[0m\u001b[0m\n\u001b[1;32m   3365\u001b[0m         \u001b[0;32mif\u001b[0m \u001b[0mis_scalar\u001b[0m\u001b[0;34m(\u001b[0m\u001b[0mkey\u001b[0m\u001b[0;34m)\u001b[0m \u001b[0;32mand\u001b[0m \u001b[0misna\u001b[0m\u001b[0;34m(\u001b[0m\u001b[0mkey\u001b[0m\u001b[0;34m)\u001b[0m \u001b[0;32mand\u001b[0m \u001b[0;32mnot\u001b[0m \u001b[0mself\u001b[0m\u001b[0;34m.\u001b[0m\u001b[0mhasnans\u001b[0m\u001b[0;34m:\u001b[0m\u001b[0;34m\u001b[0m\u001b[0;34m\u001b[0m\u001b[0m\n",
      "\u001b[0;31mKeyError\u001b[0m: 'v_revenue'"
     ]
    }
   ],
   "source": [
    "df[df[\"v_revenue\"]==\"$10+ billion (USD)\"][\"t_company_name\"].value_counts().index"
   ]
  },
  {
   "cell_type": "code",
   "execution_count": null,
   "id": "spatial-fight",
   "metadata": {
    "ExecuteTime": {
     "end_time": "2022-06-11T01:26:42.530238Z",
     "start_time": "2022-06-11T01:26:42.116Z"
    }
   },
   "outputs": [],
   "source": [
    "completitud(df)"
   ]
  },
  {
   "cell_type": "code",
   "execution_count": null,
   "id": "coordinate-passage",
   "metadata": {
    "ExecuteTime": {
     "end_time": "2022-06-11T01:26:42.531269Z",
     "start_time": "2022-06-11T01:26:42.118Z"
    }
   },
   "outputs": [],
   "source": [
    "# eliminando columnas con menos de 80% de completitud\n",
    "df=df.drop(columns=['v_easy_apply','v_competitors','v_founded','v_revenue'])"
   ]
  },
  {
   "cell_type": "markdown",
   "id": "bound-relative",
   "metadata": {},
   "source": [
    "# Limpieza de texto"
   ]
  },
  {
   "cell_type": "code",
   "execution_count": null,
   "id": "demographic-making",
   "metadata": {
    "ExecuteTime": {
     "end_time": "2022-06-11T01:26:42.533176Z",
     "start_time": "2022-06-11T01:26:42.148Z"
    }
   },
   "outputs": [],
   "source": [
    "# Limpiando todas las variables que consistan en texto\n",
    "df['v_job_title'] = df[\"v_job_title\"].map(lambda x:clean_text(x.lower(), pattern=\"[^a-zA-Z ]\",replace=\"\"))\n",
    "df['v_location'] = df[\"v_location\"].map(lambda x:clean_text(x.lower(), pattern=\"[^a-zA-Z, ]\",replace=\"\"))\n",
    "df[\"v_headquarters\"] = df[\"v_headquarters\"].map(lambda x:clean_text(x.lower(), pattern=\"[^a-zA-Z, ]\",replace=\"\"),na_action='ignore')\n",
    "df['v_industry'] = df['v_industry'].map(lambda x:clean_text(x.lower(), pattern=\"[^a-zA-Z ]\",replace=\"\"),na_action='ignore')\n",
    "df['v_sector'] = df['v_sector'].map(lambda x:clean_text(x.lower(), pattern=\"[^a-zA-Z ]\",replace=\"\"),na_action='ignore')\n",
    "df['v_type_of_ownership'] = df['v_type_of_ownership'].map(lambda x:clean_text(x.lower(), pattern=\"[^a-zA-Z-/ ]\",replace=\"\"),na_action='ignore')\n",
    "df['v_size'] = df['v_size'].map(lambda x:clean_text(x.lower(), pattern=\"[^a-zA-Z0-9 ]\",replace=\"\"),na_action='ignore')\n",
    "df['t_company_name'] = df['t_company_name'].map(lambda x:clean_text(x.lower(), pattern=\"[^a-zA-Z- ]\",replace=\"\"))\n",
    "df['t_job_description'] = df['t_job_description'].map(lambda x:clean_text(x.lower(), pattern=\"[^a-zA-Z ]\",replace=\"\"))"
   ]
  },
  {
   "cell_type": "markdown",
   "id": "french-february",
   "metadata": {},
   "source": [
    "# Consistencia"
   ]
  },
  {
   "cell_type": "markdown",
   "id": "boxed-martin",
   "metadata": {},
   "source": [
    "**c_salary_minimum & c_salary_maximum**"
   ]
  },
  {
   "cell_type": "code",
   "execution_count": null,
   "id": "korean-alarm",
   "metadata": {
    "ExecuteTime": {
     "end_time": "2022-06-11T01:26:42.534268Z",
     "start_time": "2022-06-11T01:26:42.204Z"
    }
   },
   "outputs": [],
   "source": [
    "## Se transforma el salario a flotante\n",
    "df['c_salary_minimum'] = df['c_salary_minimum'].map(transform_salary)    \n",
    "df['c_salary_maximum'] = df['c_salary_maximum'].map(transform_salary)    "
   ]
  },
  {
   "cell_type": "code",
   "execution_count": null,
   "id": "likely-intranet",
   "metadata": {
    "ExecuteTime": {
     "end_time": "2022-06-11T01:26:42.535418Z",
     "start_time": "2022-06-11T01:26:42.207Z"
    }
   },
   "outputs": [],
   "source": [
    "#Creando columna con media del salario mínimo y máximo por su \n",
    "#   importancia para el EDA\n",
    "# Dicha columna es nuestro objetivo a modelar\n",
    "df['c_salary_mean'] = df[['c_salary_minimum','c_salary_maximum']].mean(axis=1)\n",
    "df[['c_salary_minimum','c_salary_maximum','c_salary_mean']].head()"
   ]
  },
  {
   "cell_type": "code",
   "execution_count": null,
   "id": "ca8a7e7f",
   "metadata": {
    "ExecuteTime": {
     "end_time": "2022-06-11T01:26:42.536676Z",
     "start_time": "2022-06-11T01:26:42.210Z"
    }
   },
   "outputs": [],
   "source": [
    "df['c_salary_mean'].describe(percentiles=np.arange(0.1,1,.1))"
   ]
  },
  {
   "cell_type": "code",
   "execution_count": null,
   "id": "inner-vietnam",
   "metadata": {
    "ExecuteTime": {
     "end_time": "2022-06-11T01:26:42.538242Z",
     "start_time": "2022-06-11T01:26:42.213Z"
    }
   },
   "outputs": [],
   "source": [
    "#Asegurandonos que todos lo valores sobrepasen el salario minimo estadounidense\n",
    "#Considerando salario minimo = $7.5/h\n",
    "#   trabajo de medio tiempo = 4h/dia\n",
    "#   calendario laboral estadounidense en 2019 = 261 dias\n",
    "salario_minimo = 7.25*4*261\n",
    "print(df['c_salary_minimum'][df['c_salary_minimum']<salario_minimo])\n",
    "print(df['c_salary_maximum'][df['c_salary_maximum']<salario_minimo])"
   ]
  },
  {
   "cell_type": "code",
   "execution_count": null,
   "id": "interior-certification",
   "metadata": {
    "ExecuteTime": {
     "end_time": "2022-06-11T01:26:42.539604Z",
     "start_time": "2022-06-11T01:26:42.216Z"
    }
   },
   "outputs": [],
   "source": [
    "#No hay ninguna oferta por debajo del salario mínimo."
   ]
  },
  {
   "cell_type": "code",
   "execution_count": null,
   "id": "southeast-recording",
   "metadata": {
    "ExecuteTime": {
     "end_time": "2022-06-11T01:26:42.540845Z",
     "start_time": "2022-06-11T01:26:42.219Z"
    }
   },
   "outputs": [],
   "source": [
    "#Asegurandonos que salary_maximum es mayor a salary_minimum\n",
    "df[df['c_salary_minimum']>df['c_salary_maximum']]"
   ]
  },
  {
   "cell_type": "markdown",
   "id": "sophisticated-truth",
   "metadata": {},
   "source": [
    "**v_rating**"
   ]
  },
  {
   "cell_type": "code",
   "execution_count": null,
   "id": "functioning-server",
   "metadata": {
    "ExecuteTime": {
     "end_time": "2022-06-11T01:26:42.542283Z",
     "start_time": "2022-06-11T01:26:42.247Z"
    }
   },
   "outputs": [],
   "source": [
    "#Transformando a numero\n",
    "pd.to_numeric(df['v_rating'])\n",
    "#Verificando valores entre 1 a 5 \n",
    "df['v_rating'].describe()"
   ]
  },
  {
   "cell_type": "markdown",
   "id": "perfect-wheel",
   "metadata": {},
   "source": [
    "# Normalizacion"
   ]
  },
  {
   "cell_type": "markdown",
   "id": "competent-naples",
   "metadata": {},
   "source": [
    "### Normalizando v_job_title"
   ]
  },
  {
   "cell_type": "code",
   "execution_count": null,
   "id": "boring-logic",
   "metadata": {
    "ExecuteTime": {
     "end_time": "2022-06-11T01:26:42.543536Z",
     "start_time": "2022-06-11T01:26:42.303Z"
    }
   },
   "outputs": [],
   "source": [
    "df['v_job_title'].value_counts(1)"
   ]
  },
  {
   "cell_type": "markdown",
   "id": "indie-hawaii",
   "metadata": {},
   "source": [
    "**Normalizando de tal forma que las únicas categorías sean:**  \n",
    "- data scientist: cualquier titulo que contanga ambas palabras  \n",
    "- data analyst: cualquier titulo que contanga ambas palabras  \n",
    "- data engineer: cualquier titulo que contanga ambas palabras  \n",
    "- specific discipline scientist: cualquier titulo que contanga la palabra scientist en él, sin contener la palabra data.  \n",
    "- machine learning professional: cualquier titulo que contanga las palabras machine learning.  \n",
    "- businesss intelligence analyst: cualquier empleo que contenga las palabras business intelligence.  \n",
    "- analyst of other nature: cualquier empleo que contenga la palabra analyst sin, sin contener las palabras data o business.\n",
    "- highly specific: todos los títulos con una sola ocurrencia que no fueron agrupados en las anteriores categorías.\n",
    "- others: categorías restantes que en conjunto, siguen consistiendo en la categoría de menor frecuencia."
   ]
  },
  {
   "cell_type": "code",
   "execution_count": null,
   "id": "c128ffd3",
   "metadata": {},
   "outputs": [],
   "source": []
  },
  {
   "cell_type": "code",
   "execution_count": null,
   "id": "naked-auditor",
   "metadata": {
    "ExecuteTime": {
     "end_time": "2022-06-11T01:26:42.545057Z",
     "start_time": "2022-06-11T01:26:42.338Z"
    }
   },
   "outputs": [],
   "source": [
    "df[\"v_job_title\"] = df[\"v_job_title\"].str.replace(r'(^.*data.*scien.*$)', 'data scientist')\n",
    "df[\"v_job_title\"] = df[\"v_job_title\"].str.replace(r'(^.*data.*engin.*$)', 'data engineer')\n",
    "df[\"v_job_title\"] = df[\"v_job_title\"].str.replace(r'(^.*data.*anal.*$)', 'data analyst')\n",
    "df[\"v_job_title\"] = df[\"v_job_title\"].str.replace(r'(^.*machine.*learning.*$)', 'machine learning professional')\n",
    "df[\"v_job_title\"] = df[\"v_job_title\"].str.replace(r'(^.*business.* anal.*$)', 'business intelligence analyst')\n",
    "df[\"v_job_title\"] = df[\"v_job_title\"].str.replace(r'(^((?!data).)*scientist.*$)', 'specific discipline scientist')\n",
    "df[\"v_job_title\"] = df[\"v_job_title\"].str.replace(r'(^((?!(data)|(business)).)*anal.*$)', 'analyst of other nature')\n",
    "df[\"v_job_title\"] = df[\"v_job_title\"].str.replace(r'(^.*data.*architect.*$)', 'data architect')\n",
    "df[\"v_job_title\"] = df[\"v_job_title\"].str.replace(r'(^.*cybersecurity.*$)', 'cybersecurity applied to data science')\n",
    "\n",
    "#Separando a los trabajos que no pudieron ser agrupados en las categorias de arriba\n",
    "# y que tinen una sola ocurrencia\n",
    "counts = pd.DataFrame(df[\"v_job_title\"].value_counts())\n",
    "one_occurrence = counts[counts['v_job_title']==1].index\n",
    "dictio = dict(zip(one_occurrence,[\"highly specific\"]*len(one_occurrence)))\n",
    "df[\"v_job_title\"] = df[\"v_job_title\"].replace(dictio)\n",
    "\n",
    "#Separando categorias menored en otros\n",
    "dictio = dict(zip(list(df[\"v_job_title\"].value_counts().index.tolist()[-9:]),[\"others\"]*(9)))\n",
    "df[\"v_job_title\"] = df[\"v_job_title\"].replace(dictio)"
   ]
  },
  {
   "cell_type": "code",
   "execution_count": null,
   "id": "varied-hours",
   "metadata": {
    "ExecuteTime": {
     "end_time": "2022-06-11T01:26:42.546439Z",
     "start_time": "2022-06-11T01:26:42.342Z"
    }
   },
   "outputs": [],
   "source": [
    "df['v_job_title'].value_counts(1)"
   ]
  },
  {
   "cell_type": "markdown",
   "id": "interior-journalist",
   "metadata": {},
   "source": [
    "### Normalizando location"
   ]
  },
  {
   "cell_type": "code",
   "execution_count": null,
   "id": "informal-purple",
   "metadata": {
    "ExecuteTime": {
     "end_time": "2022-06-11T01:26:42.547652Z",
     "start_time": "2022-06-11T01:26:42.375Z"
    }
   },
   "outputs": [],
   "source": [
    "df['v_location'].value_counts(1)"
   ]
  },
  {
   "cell_type": "code",
   "execution_count": null,
   "id": "tested-roots",
   "metadata": {
    "ExecuteTime": {
     "end_time": "2022-06-11T01:26:42.548988Z",
     "start_time": "2022-06-11T01:26:42.378Z"
    }
   },
   "outputs": [],
   "source": [
    "#Crearemos una columna para ciudad y estado a partir de la locacion\n",
    "# De esta forma, es más sencillo agrupar location por estado y hacer EDA.\n",
    "df[['v_city','v_state']] = df['v_location'].str.split(', ', expand=True)\n",
    "#Eliminamos v_location\n",
    "df = df.drop(columns='v_location')\n",
    "df[['v_city','v_state']]"
   ]
  },
  {
   "cell_type": "markdown",
   "id": "cordless-doctor",
   "metadata": {},
   "source": [
    "### Normalizando v_industry"
   ]
  },
  {
   "cell_type": "code",
   "execution_count": null,
   "id": "changed-alexandria",
   "metadata": {
    "ExecuteTime": {
     "end_time": "2022-06-11T01:26:42.550242Z",
     "start_time": "2022-06-11T01:26:42.406Z"
    }
   },
   "outputs": [],
   "source": [
    "df['v_industry'].value_counts()"
   ]
  },
  {
   "cell_type": "code",
   "execution_count": null,
   "id": "differential-generation",
   "metadata": {
    "ExecuteTime": {
     "end_time": "2022-06-11T01:26:42.551677Z",
     "start_time": "2022-06-11T01:26:42.409Z"
    }
   },
   "outputs": [],
   "source": [
    "#Agrupamos los que tienen 3 o menos ocurrencias en la categoria others\n",
    "counts = pd.DataFrame(df[\"v_industry\"].value_counts())\n",
    "low_occurrence = counts[counts['v_industry']<=4].index\n",
    "dictio = dict(zip(low_occurrence,[\"others\"]*len(low_occurrence)))\n",
    "df[\"v_industry\"] = df[\"v_industry\"].replace(dictio)"
   ]
  },
  {
   "cell_type": "code",
   "execution_count": null,
   "id": "sustainable-trial",
   "metadata": {
    "ExecuteTime": {
     "end_time": "2022-06-11T01:26:42.552938Z",
     "start_time": "2022-06-11T01:26:42.413Z"
    }
   },
   "outputs": [],
   "source": [
    "print(f\"no de categorias: {len(df['v_industry'].value_counts())}\")\n",
    "df[\"v_industry\"].value_counts()"
   ]
  },
  {
   "cell_type": "markdown",
   "id": "liquid-medication",
   "metadata": {},
   "source": [
    "### Normalizando Headquarters"
   ]
  },
  {
   "cell_type": "code",
   "execution_count": null,
   "id": "organic-passport",
   "metadata": {
    "ExecuteTime": {
     "end_time": "2022-06-11T01:26:42.554174Z",
     "start_time": "2022-06-11T01:26:42.444Z"
    }
   },
   "outputs": [],
   "source": [
    "df[\"v_headquarters\"].value_counts()"
   ]
  },
  {
   "cell_type": "code",
   "execution_count": null,
   "id": "joined-nightmare",
   "metadata": {
    "ExecuteTime": {
     "end_time": "2022-06-11T01:26:42.555566Z",
     "start_time": "2022-06-11T01:26:42.448Z"
    }
   },
   "outputs": [],
   "source": [
    "#Crearemos una columna para ciudad y estado de los headquarters\n",
    "df[['v_headquarters_city','v_headquarters_state']] = df['v_headquarters'].str.split(', ',1,expand=True)\n",
    "#Eliminamos v_lheadquarters\n",
    "df = df.drop(columns='v_headquarters')\n",
    "df[['v_headquarters_city','v_headquarters_state']]"
   ]
  },
  {
   "cell_type": "code",
   "execution_count": null,
   "id": "verbal-medicaid",
   "metadata": {
    "ExecuteTime": {
     "end_time": "2022-06-11T01:26:42.556855Z",
     "start_time": "2022-06-11T01:26:42.452Z"
    },
    "scrolled": true
   },
   "outputs": [],
   "source": [
    "#Notamos que hay registros que son de otros paises,\n",
    "# por lo que creamos la categoria 'another country'\n",
    "paises = list(filter(lambda text:len(text)>2,df['v_headquarters_state'].dropna()))\n",
    "paises = dict(zip(paises,['foreign country']*len(paises)))\n",
    "df['v_headquarters_state']=df['v_headquarters_state'].replace(paises)\n",
    "df['v_headquarters_state'].value_counts()"
   ]
  },
  {
   "cell_type": "markdown",
   "id": "indian-symphony",
   "metadata": {},
   "source": [
    "### Normalizando v_type_ownership"
   ]
  },
  {
   "cell_type": "code",
   "execution_count": null,
   "id": "expressed-atlanta",
   "metadata": {
    "ExecuteTime": {
     "end_time": "2022-06-11T01:26:42.558177Z",
     "start_time": "2022-06-11T01:26:42.481Z"
    }
   },
   "outputs": [],
   "source": [
    "df['v_type_of_ownership'].value_counts()"
   ]
  },
  {
   "cell_type": "code",
   "execution_count": null,
   "id": "valid-chick",
   "metadata": {
    "ExecuteTime": {
     "end_time": "2022-06-11T01:26:42.559695Z",
     "start_time": "2022-06-11T01:26:42.484Z"
    }
   },
   "outputs": [],
   "source": [
    "#Reemplazamos franchise por other organization\n",
    "df['v_type_of_ownership']=df['v_type_of_ownership'].replace({'franchise':'other organization'})"
   ]
  },
  {
   "cell_type": "code",
   "execution_count": null,
   "id": "52629e0f",
   "metadata": {
    "ExecuteTime": {
     "end_time": "2022-06-11T01:26:42.561578Z",
     "start_time": "2022-06-11T01:26:42.487Z"
    }
   },
   "outputs": [],
   "source": [
    "#Reemplazamos franchise por other organization\n",
    "df['v_type_of_ownership'].value_counts()"
   ]
  },
  {
   "cell_type": "markdown",
   "id": "insured-swimming",
   "metadata": {},
   "source": [
    "**Revisando dataset nuevamente**"
   ]
  },
  {
   "cell_type": "code",
   "execution_count": 15,
   "id": "improving-victor",
   "metadata": {
    "ExecuteTime": {
     "end_time": "2022-06-11T01:26:42.678700Z",
     "start_time": "2022-06-11T01:26:42.663642Z"
    }
   },
   "outputs": [
    {
     "ename": "NameError",
     "evalue": "name 'df' is not defined",
     "output_type": "error",
     "traceback": [
      "\u001b[0;31m---------------------------------------------------------------------------\u001b[0m",
      "\u001b[0;31mNameError\u001b[0m                                 Traceback (most recent call last)",
      "\u001b[0;32m<ipython-input-15-c42a15b2c7cf>\u001b[0m in \u001b[0;36m<module>\u001b[0;34m\u001b[0m\n\u001b[0;32m----> 1\u001b[0;31m \u001b[0mdf\u001b[0m\u001b[0;34m.\u001b[0m\u001b[0mhead\u001b[0m\u001b[0;34m(\u001b[0m\u001b[0;34m)\u001b[0m\u001b[0;34m\u001b[0m\u001b[0;34m\u001b[0m\u001b[0m\n\u001b[0m",
      "\u001b[0;31mNameError\u001b[0m: name 'df' is not defined"
     ]
    }
   ],
   "source": [
    "df.head()"
   ]
  },
  {
   "cell_type": "code",
   "execution_count": null,
   "id": "passing-arena",
   "metadata": {
    "ExecuteTime": {
     "end_time": "2022-06-11T01:26:42.682505Z",
     "start_time": "2022-06-11T01:26:42.517Z"
    }
   },
   "outputs": [],
   "source": [
    "df.dtypes"
   ]
  },
  {
   "cell_type": "code",
   "execution_count": null,
   "id": "promotional-karaoke",
   "metadata": {
    "ExecuteTime": {
     "end_time": "2022-06-11T01:26:42.684397Z",
     "start_time": "2022-06-11T01:26:42.521Z"
    }
   },
   "outputs": [],
   "source": [
    "df.describe()"
   ]
  },
  {
   "cell_type": "markdown",
   "id": "roman-vegetation",
   "metadata": {},
   "source": [
    "# Analisis Exploratorio de Datos "
   ]
  },
  {
   "cell_type": "markdown",
   "id": "subjective-tuition",
   "metadata": {},
   "source": [
    "### Distribución de puestos ofertados"
   ]
  },
  {
   "cell_type": "code",
   "execution_count": null,
   "id": "intelligent-commerce",
   "metadata": {
    "ExecuteTime": {
     "end_time": "2022-06-11T01:26:42.686088Z",
     "start_time": "2022-06-11T01:26:42.591Z"
    }
   },
   "outputs": [],
   "source": [
    "my_bar_count(df,'v_job_title','Puestos ofertados','','cantidad')"
   ]
  },
  {
   "cell_type": "code",
   "execution_count": null,
   "id": "developing-buddy",
   "metadata": {
    "ExecuteTime": {
     "end_time": "2022-06-11T01:26:42.687278Z",
     "start_time": "2022-06-11T01:26:42.595Z"
    }
   },
   "outputs": [],
   "source": [
    "my_pie_count(df,'v_job_title','Puestos ofertados')"
   ]
  },
  {
   "cell_type": "markdown",
   "id": "sunset-killer",
   "metadata": {},
   "source": [
    "### Distribución de la media de la estimación de salarios."
   ]
  },
  {
   "cell_type": "code",
   "execution_count": null,
   "id": "psychological-yesterday",
   "metadata": {
    "ExecuteTime": {
     "end_time": "2022-06-11T01:26:42.688796Z",
     "start_time": "2022-06-11T01:26:42.622Z"
    },
    "scrolled": false
   },
   "outputs": [],
   "source": [
    "fig_salary_1 = my_histogram(df,'c_salary_mean',50,x_title='salario')\n",
    "fig_salary_1.show()"
   ]
  },
  {
   "cell_type": "markdown",
   "id": "banner-injury",
   "metadata": {},
   "source": [
    "### Distribución de salarios de los principales 3 títulos"
   ]
  },
  {
   "cell_type": "code",
   "execution_count": null,
   "id": "hired-difference",
   "metadata": {
    "ExecuteTime": {
     "end_time": "2022-06-11T01:26:42.690352Z",
     "start_time": "2022-06-11T01:26:42.651Z"
    }
   },
   "outputs": [],
   "source": [
    "data_jobs = ['data scientist','data engineer','data analyst']\n",
    "aux = df[df['v_job_title'].isin(data_jobs)]\n",
    "my_box(aux,'v_job_title','c_salary_mean','Distribucion del salario de principales 3 puestos',x_title='puesto',y_title='salario')"
   ]
  },
  {
   "cell_type": "code",
   "execution_count": null,
   "id": "civil-genealogy",
   "metadata": {
    "ExecuteTime": {
     "end_time": "2022-06-11T01:26:42.692059Z",
     "start_time": "2022-06-11T01:26:42.656Z"
    }
   },
   "outputs": [],
   "source": [
    "data_jobs = ['data scientist','data engineer','data analyst']\n",
    "aux = df[df['v_job_title'].isin(data_jobs)]\n",
    "fig_salary_2 = px.histogram(aux, x=\"c_salary_mean\", color=\"v_job_title\",marginal='box',\n",
    "                  color_discrete_sequence=['#6faa9f','#344647','#779a7c'], \n",
    "                  )\n",
    "fig_salary_2.update_layout(title_text='Distribución del salario de distintas ramas <br> de la ciencia de datos',\n",
    "                  title_font_size=16,\n",
    "                  title_font_color=\"#002020\",\n",
    "                  xaxis_title_text='saladio medio',\n",
    "                  yaxis_title='conteo',\n",
    "                  plot_bgcolor=\"rgb(208,208,2084)\",\n",
    "                  font=dict(\n",
    "                     family=\"Courier New, monospace\",size=13)\n",
    "    )\n",
    "fig_salary_2.show()"
   ]
  },
  {
   "cell_type": "markdown",
   "id": "persistent-fraud",
   "metadata": {},
   "source": [
    "### Principales sectores involucrados en las ofertas de trabajo"
   ]
  },
  {
   "cell_type": "code",
   "execution_count": 16,
   "id": "advised-progress",
   "metadata": {
    "ExecuteTime": {
     "end_time": "2022-06-11T01:26:42.809837Z",
     "start_time": "2022-06-11T01:26:42.794697Z"
    }
   },
   "outputs": [
    {
     "ename": "NameError",
     "evalue": "name 'my_bar_count' is not defined",
     "output_type": "error",
     "traceback": [
      "\u001b[0;31m---------------------------------------------------------------------------\u001b[0m",
      "\u001b[0;31mNameError\u001b[0m                                 Traceback (most recent call last)",
      "\u001b[0;32m<ipython-input-16-f168739cc4df>\u001b[0m in \u001b[0;36m<module>\u001b[0;34m\u001b[0m\n\u001b[0;32m----> 1\u001b[0;31m \u001b[0mmy_bar_count\u001b[0m\u001b[0;34m(\u001b[0m\u001b[0mdf\u001b[0m\u001b[0;34m,\u001b[0m\u001b[0;34m'v_sector'\u001b[0m\u001b[0;34m,\u001b[0m\u001b[0;34m'Distribución de sectores involucrados'\u001b[0m\u001b[0;34m,\u001b[0m\u001b[0;34m'sectores'\u001b[0m\u001b[0;34m,\u001b[0m\u001b[0;34m'cantidad'\u001b[0m\u001b[0;34m)\u001b[0m\u001b[0;34m\u001b[0m\u001b[0;34m\u001b[0m\u001b[0m\n\u001b[0m",
      "\u001b[0;31mNameError\u001b[0m: name 'my_bar_count' is not defined"
     ]
    }
   ],
   "source": [
    "my_bar_count(df,'v_sector','Distribución de sectores involucrados','sectores','cantidad')"
   ]
  },
  {
   "cell_type": "code",
   "execution_count": null,
   "id": "standard-titanium",
   "metadata": {
    "ExecuteTime": {
     "end_time": "2022-06-11T01:26:42.812116Z",
     "start_time": "2022-06-11T01:26:42.703Z"
    }
   },
   "outputs": [],
   "source": [
    "my_pie_count(df,'v_sector','Distribución de sectores involucrados')"
   ]
  },
  {
   "cell_type": "markdown",
   "id": "broken-bearing",
   "metadata": {},
   "source": [
    "### Distribución del tamaño de las compañías ofertando empleo"
   ]
  },
  {
   "cell_type": "code",
   "execution_count": null,
   "id": "threaded-plant",
   "metadata": {
    "ExecuteTime": {
     "end_time": "2022-06-11T01:26:42.813239Z",
     "start_time": "2022-06-11T01:26:42.734Z"
    }
   },
   "outputs": [],
   "source": [
    "my_bar_count(df,'v_size','Distribución del tamaño de las compañías','tamaño','cantidad')"
   ]
  },
  {
   "cell_type": "code",
   "execution_count": null,
   "id": "dangerous-kidney",
   "metadata": {
    "ExecuteTime": {
     "end_time": "2022-06-11T01:26:42.815221Z",
     "start_time": "2022-06-11T01:26:42.737Z"
    }
   },
   "outputs": [],
   "source": [
    "my_pie_count(df,'v_size','Distribución del tamaño de las compañías')"
   ]
  },
  {
   "cell_type": "markdown",
   "id": "asian-loading",
   "metadata": {},
   "source": [
    "### Distribución del tipo de dueños"
   ]
  },
  {
   "cell_type": "code",
   "execution_count": null,
   "id": "given-shipping",
   "metadata": {
    "ExecuteTime": {
     "end_time": "2022-06-11T01:26:42.817214Z",
     "start_time": "2022-06-11T01:26:42.764Z"
    }
   },
   "outputs": [],
   "source": [
    "my_bar_count(df,'v_type_of_ownership','Tipo de compañía','tipo','cantidad')"
   ]
  },
  {
   "cell_type": "code",
   "execution_count": null,
   "id": "correct-discussion",
   "metadata": {
    "ExecuteTime": {
     "end_time": "2022-06-11T01:26:42.819033Z",
     "start_time": "2022-06-11T01:26:42.767Z"
    }
   },
   "outputs": [],
   "source": [
    "my_pie_count(df,'v_type_of_ownership','Tipo de compañía')"
   ]
  },
  {
   "cell_type": "markdown",
   "id": "republican-wings",
   "metadata": {},
   "source": [
    "### Estados que ofrecen trabajo"
   ]
  },
  {
   "cell_type": "code",
   "execution_count": null,
   "id": "molecular-uganda",
   "metadata": {
    "ExecuteTime": {
     "end_time": "2022-06-11T01:26:42.821234Z",
     "start_time": "2022-06-11T01:26:42.796Z"
    }
   },
   "outputs": [],
   "source": [
    "my_bar_count(df,'v_state','Estados que ofrecen trabajo','estado','cantidad')"
   ]
  },
  {
   "cell_type": "code",
   "execution_count": 17,
   "id": "choice-lebanon",
   "metadata": {
    "ExecuteTime": {
     "end_time": "2022-06-11T01:26:42.944078Z",
     "start_time": "2022-06-11T01:26:42.925595Z"
    }
   },
   "outputs": [
    {
     "ename": "NameError",
     "evalue": "name 'my_pie_count' is not defined",
     "output_type": "error",
     "traceback": [
      "\u001b[0;31m---------------------------------------------------------------------------\u001b[0m",
      "\u001b[0;31mNameError\u001b[0m                                 Traceback (most recent call last)",
      "\u001b[0;32m<ipython-input-17-6b36ae3fca9a>\u001b[0m in \u001b[0;36m<module>\u001b[0;34m\u001b[0m\n\u001b[0;32m----> 1\u001b[0;31m \u001b[0mmy_pie_count\u001b[0m\u001b[0;34m(\u001b[0m\u001b[0mdf\u001b[0m\u001b[0;34m,\u001b[0m\u001b[0;34m'v_state'\u001b[0m\u001b[0;34m,\u001b[0m\u001b[0;34m'Estados que ofrecen trabajo'\u001b[0m\u001b[0;34m)\u001b[0m\u001b[0;34m\u001b[0m\u001b[0;34m\u001b[0m\u001b[0m\n\u001b[0m",
      "\u001b[0;31mNameError\u001b[0m: name 'my_pie_count' is not defined"
     ]
    }
   ],
   "source": [
    "my_pie_count(df,'v_state','Estados que ofrecen trabajo')"
   ]
  },
  {
   "cell_type": "markdown",
   "id": "powerful-belle",
   "metadata": {},
   "source": [
    "### Las 10 ciudades con más ofertas "
   ]
  },
  {
   "cell_type": "code",
   "execution_count": null,
   "id": "coordinated-small",
   "metadata": {
    "ExecuteTime": {
     "end_time": "2022-06-11T01:26:42.946053Z",
     "start_time": "2022-06-11T01:26:42.840Z"
    }
   },
   "outputs": [],
   "source": [
    "fig = my_bar_count(df,'v_city')\n",
    "fig.update_layout(title_text='Las 10 ciudades con más ofertas de trabajo',\n",
    "                  title_font_size=16,\n",
    "                  xaxis_title_text='ciudad',\n",
    "                  xaxis=dict(range=[0,11]),\n",
    "                  yaxis_title='conteo',\n",
    "                 font=dict(\n",
    "                     family=\"Courier New, monospace\",size=13)\n",
    "                 )\n",
    "fig.show()"
   ]
  },
  {
   "cell_type": "markdown",
   "id": "magnetic-turtle",
   "metadata": {},
   "source": [
    "### Distribución de la ubicación de la sede de las compañías"
   ]
  },
  {
   "cell_type": "code",
   "execution_count": null,
   "id": "rocky-ireland",
   "metadata": {
    "ExecuteTime": {
     "end_time": "2022-06-11T01:26:42.947432Z",
     "start_time": "2022-06-11T01:26:42.870Z"
    }
   },
   "outputs": [],
   "source": [
    "fig = my_bar_count(df,'v_headquarters_city')\n",
    "fig.update_layout(title_text='Las 10 ciudades con más sedes de empresas ofertando',\n",
    "                  title_font_size=16,\n",
    "                  xaxis_title_text='ciudad',\n",
    "                  xaxis=dict(range=[0,11]),\n",
    "                  yaxis_title='conteo',\n",
    "                 font=dict(\n",
    "                     family=\"Courier New, monospace\",size=13)\n",
    "                 )\n",
    "fig.show()"
   ]
  },
  {
   "cell_type": "code",
   "execution_count": null,
   "id": "latter-spare",
   "metadata": {
    "ExecuteTime": {
     "end_time": "2022-06-11T01:26:42.949196Z",
     "start_time": "2022-06-11T01:26:42.873Z"
    }
   },
   "outputs": [],
   "source": [
    "fig = my_bar_count(df,'v_headquarters_state')\n",
    "fig.update_layout(title_text='Los 10 estados con más sedes de empresas ofertando',\n",
    "                  title_font_size=16,\n",
    "                  xaxis_title_text='Estado',\n",
    "                  xaxis=dict(range=[0,11]),\n",
    "                  yaxis_title='conteo',\n",
    "                 font=dict(\n",
    "                     family=\"Courier New, monospace\",size=13)\n",
    "                 )\n",
    "fig.show()"
   ]
  },
  {
   "cell_type": "markdown",
   "id": "unlimited-sodium",
   "metadata": {},
   "source": [
    "### Distribución de la calificación de las empresas"
   ]
  },
  {
   "cell_type": "code",
   "execution_count": null,
   "id": "recovered-reliance",
   "metadata": {
    "ExecuteTime": {
     "end_time": "2022-06-11T01:26:42.950372Z",
     "start_time": "2022-06-11T01:26:42.904Z"
    }
   },
   "outputs": [],
   "source": [
    "fig = my_histogram(df,'v_rating',5,'Calificación de las empresas','calificación','conteo')\n",
    "fig.update_traces(xbins=dict(\n",
    "        start=1.0,\n",
    "        end=5.0,\n",
    "        size=0.5\n",
    "    ))\n",
    "\n",
    "fig.show()"
   ]
  },
  {
   "cell_type": "markdown",
   "id": "celtic-dialogue",
   "metadata": {},
   "source": [
    "### Palabras más mencionadas en la descripción del trabajo"
   ]
  },
  {
   "cell_type": "code",
   "execution_count": null,
   "id": "banned-porcelain",
   "metadata": {
    "ExecuteTime": {
     "end_time": "2022-06-11T01:26:42.951855Z",
     "start_time": "2022-06-11T01:26:42.933Z"
    }
   },
   "outputs": [],
   "source": [
    "def text_clean(text, pattern=\"[^a-zA-Z0-9 ]\"):\n",
    "    text_clean = unicodedata.normalize('NFD', text).encode('ascii', 'ignore')\n",
    "    text_clean= re.sub(pattern, \" \", text_clean.decode(\"utf-8\"), flags=re.UNICODE)\n",
    "    text_clean = u' '.join(text_clean.lower().split())\n",
    "    return text_clean"
   ]
  },
  {
   "cell_type": "code",
   "execution_count": null,
   "id": "divided-strike",
   "metadata": {
    "ExecuteTime": {
     "end_time": "2022-06-11T01:26:42.956097Z",
     "start_time": "2022-06-11T01:26:42.936Z"
    }
   },
   "outputs": [],
   "source": [
    "corpus = \" \".join(df['t_job_description'])"
   ]
  },
  {
   "cell_type": "code",
   "execution_count": null,
   "id": "broadband-dubai",
   "metadata": {
    "ExecuteTime": {
     "end_time": "2022-06-11T01:26:42.957964Z",
     "start_time": "2022-06-11T01:26:42.939Z"
    }
   },
   "outputs": [],
   "source": [
    "lista_stopwords = stopwords.words(\"english\")\n",
    "texto_clean=text_clean(\" \".join(sample(corpus.split(),10000)))\n",
    "fdist=FreqDist(texto_clean.split())\n",
    "hapaxes=fdist.hapaxes()"
   ]
  },
  {
   "cell_type": "code",
   "execution_count": 18,
   "id": "searching-queen",
   "metadata": {
    "ExecuteTime": {
     "end_time": "2022-06-11T01:26:43.076918Z",
     "start_time": "2022-06-11T01:26:43.060433Z"
    }
   },
   "outputs": [
    {
     "ename": "NameError",
     "evalue": "name 'texto_clean' is not defined",
     "output_type": "error",
     "traceback": [
      "\u001b[0;31m---------------------------------------------------------------------------\u001b[0m",
      "\u001b[0;31mNameError\u001b[0m                                 Traceback (most recent call last)",
      "\u001b[0;32m<ipython-input-18-bb70421e68c2>\u001b[0m in \u001b[0;36m<module>\u001b[0;34m\u001b[0m\n\u001b[0;32m----> 1\u001b[0;31m \u001b[0mtexto_clean\u001b[0m\u001b[0;34m=\u001b[0m\u001b[0;34m\" \"\u001b[0m\u001b[0;34m.\u001b[0m\u001b[0mjoin\u001b[0m\u001b[0;34m(\u001b[0m\u001b[0mlist\u001b[0m\u001b[0;34m(\u001b[0m\u001b[0mfilter\u001b[0m\u001b[0;34m(\u001b[0m\u001b[0;32mlambda\u001b[0m \u001b[0mx\u001b[0m\u001b[0;34m:\u001b[0m\u001b[0mx\u001b[0m \u001b[0;32mnot\u001b[0m \u001b[0;32min\u001b[0m \u001b[0mlista_stopwords\u001b[0m\u001b[0;34m,\u001b[0m\u001b[0mtexto_clean\u001b[0m\u001b[0;34m.\u001b[0m\u001b[0msplit\u001b[0m\u001b[0;34m(\u001b[0m\u001b[0;34m)\u001b[0m\u001b[0;34m)\u001b[0m\u001b[0;34m)\u001b[0m\u001b[0;34m)\u001b[0m\u001b[0;34m\u001b[0m\u001b[0;34m\u001b[0m\u001b[0m\n\u001b[0m",
      "\u001b[0;31mNameError\u001b[0m: name 'texto_clean' is not defined"
     ]
    }
   ],
   "source": [
    "texto_clean=\" \".join(list(filter(lambda x:x not in lista_stopwords,texto_clean.split())))"
   ]
  },
  {
   "cell_type": "code",
   "execution_count": null,
   "id": "revised-montreal",
   "metadata": {
    "ExecuteTime": {
     "end_time": "2022-06-11T01:26:43.079342Z",
     "start_time": "2022-06-11T01:26:42.948Z"
    }
   },
   "outputs": [],
   "source": [
    "texto_clean=\" \".join(list(filter(lambda x:x not in hapaxes,texto_clean.split())))\n",
    "fdist=FreqDist(texto_clean.split())"
   ]
  },
  {
   "cell_type": "code",
   "execution_count": null,
   "id": "blond-uruguay",
   "metadata": {
    "ExecuteTime": {
     "end_time": "2022-06-11T01:26:43.080459Z",
     "start_time": "2022-06-11T01:26:42.952Z"
    }
   },
   "outputs": [],
   "source": [
    " with open(\"texto-graf.txt\",\"w\") as f:\n",
    "        f.write(texto_clean)\n",
    "path_texto=\"texto-graf.txt\"\n",
    "path_imagen=\"texto-graf.png\"\n",
    "\n",
    "stylecloud.gen_stylecloud(file_path = path_texto,output_name=path_imagen,icon_name=\"fas fa-address-book\",\n",
    "                          palette='colorbrewer.diverging.Spectral_11',background_color='black',gradient='horizontal')\n",
    "\n",
    "Image.open(path_imagen)"
   ]
  },
  {
   "cell_type": "markdown",
   "id": "finite-memory",
   "metadata": {},
   "source": [
    "### Empresas más comunes"
   ]
  },
  {
   "cell_type": "code",
   "execution_count": null,
   "id": "conditional-purchase",
   "metadata": {
    "ExecuteTime": {
     "end_time": "2022-06-11T01:26:43.081534Z",
     "start_time": "2022-06-11T01:26:42.986Z"
    }
   },
   "outputs": [],
   "source": [
    "corpus = \" \".join(df['t_company_name'])"
   ]
  },
  {
   "cell_type": "code",
   "execution_count": null,
   "id": "martial-sponsorship",
   "metadata": {
    "ExecuteTime": {
     "end_time": "2022-06-11T01:26:43.082501Z",
     "start_time": "2022-06-11T01:26:42.990Z"
    }
   },
   "outputs": [],
   "source": [
    "lista_stopwords = stopwords.words(\"english\")\n",
    "texto_clean=text_clean(\" \".join(corpus.split()))\n",
    "fdist=FreqDist(texto_clean.split())\n",
    "hapaxes=fdist.hapaxes()+['inc','corporation','group','llc']\n",
    "texto_clean=\" \".join(list(filter(lambda x:x not in lista_stopwords,texto_clean.split())))\n",
    "texto_clean=\" \".join(list(filter(lambda x:x not in hapaxes,texto_clean.split())))\n",
    "fdist=FreqDist(texto_clean.split())"
   ]
  },
  {
   "cell_type": "code",
   "execution_count": null,
   "id": "spoken-coffee",
   "metadata": {
    "ExecuteTime": {
     "end_time": "2022-06-11T01:26:43.083460Z",
     "start_time": "2022-06-11T01:26:42.992Z"
    }
   },
   "outputs": [],
   "source": [
    " with open(\"texto-graf.txt\",\"w\") as f:\n",
    "        f.write(texto_clean)\n",
    "path_texto=\"texto-graf.txt\"\n",
    "path_imagen=\"texto-graf.png\"\n",
    "\n",
    "stylecloud.gen_stylecloud(file_path = path_texto,output_name=path_imagen,icon_name=\"fas fa-book-reader\",\n",
    "                          palette='colorbrewer.diverging.Spectral_11',background_color='black',gradient='horizontal')\n",
    "\n",
    "Image.open(path_imagen)"
   ]
  },
  {
   "cell_type": "markdown",
   "id": "smoking-copying",
   "metadata": {},
   "source": [
    "### Correlación entre raiting y salario medio"
   ]
  },
  {
   "cell_type": "code",
   "execution_count": null,
   "id": "ranging-paradise",
   "metadata": {
    "ExecuteTime": {
     "end_time": "2022-06-11T01:26:43.084338Z",
     "start_time": "2022-06-11T01:26:43.024Z"
    }
   },
   "outputs": [],
   "source": [
    "df[[\"v_rating\",\"c_salary_mean\"]].corr().iplot(kind=\"heatmap\",colorscale='spectral')"
   ]
  },
  {
   "cell_type": "markdown",
   "id": "reliable-allergy",
   "metadata": {},
   "source": [
    "# Outliers"
   ]
  },
  {
   "cell_type": "code",
   "execution_count": null,
   "id": "enhanced-murray",
   "metadata": {
    "ExecuteTime": {
     "end_time": "2022-06-11T01:26:43.085602Z",
     "start_time": "2022-06-11T01:26:43.060Z"
    }
   },
   "outputs": [],
   "source": [
    "#Bucando outliers\n",
    "feats=list(df.filter(like=\"c_\").columns)\n",
    "outliers=OUTLIERS(df,feats)\n",
    "outliers"
   ]
  },
  {
   "cell_type": "code",
   "execution_count": null,
   "id": "numeric-decline",
   "metadata": {
    "ExecuteTime": {
     "end_time": "2022-06-11T01:26:43.086838Z",
     "start_time": "2022-06-11T01:26:43.064Z"
    }
   },
   "outputs": [],
   "source": [
    "#Separandolos\n",
    "indices=list(outliers[outliers[\"features\"]==\"c_salary_mean\"][\"indices\"].values)[0]\n",
    "aux=df[~df.index.isin(indices)]"
   ]
  },
  {
   "cell_type": "code",
   "execution_count": null,
   "id": "attached-longer",
   "metadata": {
    "ExecuteTime": {
     "end_time": "2022-06-11T01:26:43.088360Z",
     "start_time": "2022-06-11T01:26:43.067Z"
    }
   },
   "outputs": [],
   "source": [
    "#Comparando\n",
    "#Distribución con outliers\n",
    "df['c_salary_mean'].iplot(kind='box')"
   ]
  },
  {
   "cell_type": "code",
   "execution_count": null,
   "id": "timely-programming",
   "metadata": {
    "ExecuteTime": {
     "end_time": "2022-06-11T01:26:43.089662Z",
     "start_time": "2022-06-11T01:26:43.073Z"
    }
   },
   "outputs": [],
   "source": [
    "#Distribución sin outliers\n",
    "aux['c_salary_mean'].iplot(kind='box')"
   ]
  },
  {
   "cell_type": "markdown",
   "id": "conscious-george",
   "metadata": {},
   "source": [
    "El porcentaje de outliers es tan pequeño que no se nota.relevante\n",
    "Sin embargo, por ser las ofertas mejor pagadas, su inclusión en el modelo podría resultar relevante."
   ]
  },
  {
   "cell_type": "code",
   "execution_count": 19,
   "id": "norwegian-miracle",
   "metadata": {
    "ExecuteTime": {
     "end_time": "2022-06-11T01:26:43.204798Z",
     "start_time": "2022-06-11T01:26:43.191975Z"
    },
    "scrolled": true
   },
   "outputs": [
    {
     "ename": "NameError",
     "evalue": "name 'df' is not defined",
     "output_type": "error",
     "traceback": [
      "\u001b[0;31m---------------------------------------------------------------------------\u001b[0m",
      "\u001b[0;31mNameError\u001b[0m                                 Traceback (most recent call last)",
      "\u001b[0;32m<ipython-input-19-bee6099e7f89>\u001b[0m in \u001b[0;36m<module>\u001b[0;34m\u001b[0m\n\u001b[1;32m      1\u001b[0m \u001b[0;31m#Observamos los valores outliers\u001b[0m\u001b[0;34m\u001b[0m\u001b[0;34m\u001b[0m\u001b[0;34m\u001b[0m\u001b[0m\n\u001b[0;32m----> 2\u001b[0;31m \u001b[0mdf\u001b[0m\u001b[0;34m.\u001b[0m\u001b[0miloc\u001b[0m\u001b[0;34m[\u001b[0m\u001b[0mindices\u001b[0m\u001b[0;34m]\u001b[0m\u001b[0;34m[\u001b[0m\u001b[0;34m'c_salary_mean'\u001b[0m\u001b[0;34m]\u001b[0m\u001b[0;34m\u001b[0m\u001b[0;34m\u001b[0m\u001b[0m\n\u001b[0m",
      "\u001b[0;31mNameError\u001b[0m: name 'df' is not defined"
     ]
    }
   ],
   "source": [
    "#Observamos los valores outliers\n",
    "df.iloc[indices]['c_salary_mean']"
   ]
  },
  {
   "cell_type": "code",
   "execution_count": null,
   "id": "royal-offense",
   "metadata": {
    "ExecuteTime": {
     "end_time": "2022-06-11T01:26:43.206803Z",
     "start_time": "2022-06-11T01:26:43.111Z"
    }
   },
   "outputs": [],
   "source": [
    "#Observando la diferencia entre los valores outliers y el valor del\n",
    "#   tercer cuartil más 1.5 veces el rango intercuartílico. (Q3+1.5IQR)\n",
    "q1 = df['c_salary_mean'].quantile(0.25)\n",
    "q3 = df['c_salary_mean'].quantile(0.75)\n",
    "diff = 225000.0 - (q3+1.5*(q3-q1))\n",
    "diff"
   ]
  },
  {
   "cell_type": "code",
   "execution_count": null,
   "id": "northern-accuracy",
   "metadata": {
    "ExecuteTime": {
     "end_time": "2022-06-11T01:26:43.208154Z",
     "start_time": "2022-06-11T01:26:43.113Z"
    }
   },
   "outputs": [],
   "source": [
    "#La diferencia es tan sólo del 1.85% de la media del salario\n",
    "2000.0/df['c_salary_mean'].mean()*100"
   ]
  },
  {
   "cell_type": "code",
   "execution_count": null,
   "id": "hazardous-journalism",
   "metadata": {
    "ExecuteTime": {
     "end_time": "2022-06-11T01:26:43.209229Z",
     "start_time": "2022-06-11T01:26:43.116Z"
    }
   },
   "outputs": [],
   "source": [
    "#visulizando a los outliers\n",
    "fig = my_bar_count(df,'c_salary_mean','Distribución del salario','salario','conteo')\n",
    "fig.add_vline(x=(q3+1.5*(q3-q1)),\n",
    "             line_dash='dot',\n",
    "             annotation_text='Q3+1.5IQR',\n",
    "             annotation_position='top right')\n",
    "fig.show()"
   ]
  },
  {
   "cell_type": "markdown",
   "id": "coastal-crisis",
   "metadata": {},
   "source": [
    "Los valores outliers son de gran interés, pues representan las ofertas de empleo con mejor paga y además sobrepasan el límite permitido por una cantidad pequeña, por lo que se decide conservar dichos outliers."
   ]
  },
  {
   "cell_type": "markdown",
   "id": "handmade-bicycle",
   "metadata": {},
   "source": [
    "# Valores Ausentes"
   ]
  },
  {
   "cell_type": "markdown",
   "id": "incorporate-contract",
   "metadata": {},
   "source": [
    "### valores unarios"
   ]
  },
  {
   "cell_type": "code",
   "execution_count": null,
   "id": "earlier-prime",
   "metadata": {
    "ExecuteTime": {
     "end_time": "2022-06-11T01:26:43.210523Z",
     "start_time": "2022-06-11T01:26:43.198Z"
    }
   },
   "outputs": [],
   "source": [
    "#Eliminando la coumna de v_salary_estimate_source porque todos los \n",
    "#   datos provinen de glassdoor\n",
    "df = df.drop(columns='v_salary_estimate_source')"
   ]
  },
  {
   "cell_type": "code",
   "execution_count": 20,
   "id": "promotional-rocket",
   "metadata": {
    "ExecuteTime": {
     "end_time": "2022-06-11T01:26:43.326282Z",
     "start_time": "2022-06-11T01:26:43.312906Z"
    }
   },
   "outputs": [
    {
     "ename": "NameError",
     "evalue": "name 'df' is not defined",
     "output_type": "error",
     "traceback": [
      "\u001b[0;31m---------------------------------------------------------------------------\u001b[0m",
      "\u001b[0;31mNameError\u001b[0m                                 Traceback (most recent call last)",
      "\u001b[0;32m<ipython-input-20-70d3739dd570>\u001b[0m in \u001b[0;36m<module>\u001b[0;34m\u001b[0m\n\u001b[1;32m      1\u001b[0m \u001b[0;32mfrom\u001b[0m \u001b[0msklearn\u001b[0m\u001b[0;34m.\u001b[0m\u001b[0mmodel_selection\u001b[0m \u001b[0;32mimport\u001b[0m \u001b[0mtrain_test_split\u001b[0m\u001b[0;34m\u001b[0m\u001b[0;34m\u001b[0m\u001b[0m\n\u001b[0;32m----> 2\u001b[0;31m \u001b[0mX_train\u001b[0m\u001b[0;34m,\u001b[0m\u001b[0mX_test\u001b[0m\u001b[0;34m=\u001b[0m\u001b[0mtrain_test_split\u001b[0m\u001b[0;34m(\u001b[0m\u001b[0mdf\u001b[0m\u001b[0;34m,\u001b[0m\u001b[0mtest_size\u001b[0m\u001b[0;34m=\u001b[0m\u001b[0;36m.2\u001b[0m\u001b[0;34m,\u001b[0m\u001b[0mrandom_state\u001b[0m\u001b[0;34m=\u001b[0m\u001b[0;36m0\u001b[0m\u001b[0;34m)\u001b[0m\u001b[0;34m\u001b[0m\u001b[0;34m\u001b[0m\u001b[0m\n\u001b[0m",
      "\u001b[0;31mNameError\u001b[0m: name 'df' is not defined"
     ]
    }
   ],
   "source": [
    "from sklearn.model_selection import train_test_split\n",
    "X_train,X_test=train_test_split(df,test_size=.2,random_state=0)"
   ]
  },
  {
   "cell_type": "code",
   "execution_count": null,
   "id": "dangerous-lyric",
   "metadata": {
    "ExecuteTime": {
     "end_time": "2022-06-11T01:26:43.328534Z",
     "start_time": "2022-06-11T01:26:43.207Z"
    }
   },
   "outputs": [],
   "source": [
    "miss = completitud(X_train)\n",
    "miss"
   ]
  },
  {
   "cell_type": "markdown",
   "id": "announced-patrol",
   "metadata": {},
   "source": [
    "**v_type_of_ownership**"
   ]
  },
  {
   "cell_type": "code",
   "execution_count": null,
   "id": "roman-scheme",
   "metadata": {
    "ExecuteTime": {
     "end_time": "2022-06-11T01:26:43.330112Z",
     "start_time": "2022-06-11T01:26:43.236Z"
    }
   },
   "outputs": [],
   "source": [
    "#Se imputa la moda\n",
    "X_train['v_type_of_ownership'],X_test['v_type_of_ownership'] = imputar_moda(df,'v_type_of_ownership',X_train,X_test)"
   ]
  },
  {
   "cell_type": "code",
   "execution_count": null,
   "id": "2010bbc1",
   "metadata": {
    "ExecuteTime": {
     "end_time": "2022-06-11T01:26:43.331078Z",
     "start_time": "2022-06-11T01:26:43.239Z"
    }
   },
   "outputs": [],
   "source": [
    "X_train['v_type_of_ownership'].value_counts()"
   ]
  },
  {
   "cell_type": "markdown",
   "id": "advance-chapel",
   "metadata": {},
   "source": [
    "**v_size**"
   ]
  },
  {
   "cell_type": "code",
   "execution_count": null,
   "id": "portuguese-portsmouth",
   "metadata": {
    "ExecuteTime": {
     "end_time": "2022-06-11T01:26:43.332057Z",
     "start_time": "2022-06-11T01:26:43.275Z"
    }
   },
   "outputs": [],
   "source": [
    "#No se puede imputar usando la moda\n",
    "X_train['v_size'],X_test['v_size'] = imputar_moda(df,'v_size',X_train,X_test)"
   ]
  },
  {
   "cell_type": "markdown",
   "id": "arranged-colony",
   "metadata": {},
   "source": [
    "**v_headquarters_city**"
   ]
  },
  {
   "cell_type": "code",
   "execution_count": null,
   "id": "affiliated-overhead",
   "metadata": {
    "ExecuteTime": {
     "end_time": "2022-06-11T01:26:43.332803Z",
     "start_time": "2022-06-11T01:26:43.300Z"
    }
   },
   "outputs": [],
   "source": [
    "#Se imputa la moda\n",
    "X_train['v_headquarters_city'],X_test['v_headquarters_city'] = imputar_moda(df,'v_headquarters_city',X_train,X_test)"
   ]
  },
  {
   "cell_type": "markdown",
   "id": "chief-oregon",
   "metadata": {},
   "source": [
    "**v_headquarters_state**"
   ]
  },
  {
   "cell_type": "code",
   "execution_count": 21,
   "id": "looking-copyright",
   "metadata": {
    "ExecuteTime": {
     "end_time": "2022-06-11T01:26:43.448674Z",
     "start_time": "2022-06-11T01:26:43.435478Z"
    }
   },
   "outputs": [
    {
     "ename": "NameError",
     "evalue": "name 'imputar_moda' is not defined",
     "output_type": "error",
     "traceback": [
      "\u001b[0;31m---------------------------------------------------------------------------\u001b[0m",
      "\u001b[0;31mNameError\u001b[0m                                 Traceback (most recent call last)",
      "\u001b[0;32m<ipython-input-21-c81e97fa7a1a>\u001b[0m in \u001b[0;36m<module>\u001b[0;34m\u001b[0m\n\u001b[1;32m      1\u001b[0m \u001b[0;31m#Se imputa la moda\u001b[0m\u001b[0;34m\u001b[0m\u001b[0;34m\u001b[0m\u001b[0;34m\u001b[0m\u001b[0m\n\u001b[0;32m----> 2\u001b[0;31m \u001b[0mX_train\u001b[0m\u001b[0;34m[\u001b[0m\u001b[0;34m'v_headquarters_state'\u001b[0m\u001b[0;34m]\u001b[0m\u001b[0;34m,\u001b[0m\u001b[0mX_test\u001b[0m\u001b[0;34m[\u001b[0m\u001b[0;34m'v_headquarters_state'\u001b[0m\u001b[0;34m]\u001b[0m \u001b[0;34m=\u001b[0m \u001b[0mimputar_moda\u001b[0m\u001b[0;34m(\u001b[0m\u001b[0mdf\u001b[0m\u001b[0;34m,\u001b[0m\u001b[0;34m'v_headquarters_state'\u001b[0m\u001b[0;34m,\u001b[0m\u001b[0mX_train\u001b[0m\u001b[0;34m,\u001b[0m\u001b[0mX_test\u001b[0m\u001b[0;34m)\u001b[0m\u001b[0;34m\u001b[0m\u001b[0;34m\u001b[0m\u001b[0m\n\u001b[0m",
      "\u001b[0;31mNameError\u001b[0m: name 'imputar_moda' is not defined"
     ]
    }
   ],
   "source": [
    "#Se imputa la moda\n",
    "X_train['v_headquarters_state'],X_test['v_headquarters_state'] = imputar_moda(df,'v_headquarters_state',X_train,X_test)"
   ]
  },
  {
   "cell_type": "markdown",
   "id": "dangerous-pharmacology",
   "metadata": {},
   "source": [
    "**v_rating**"
   ]
  },
  {
   "cell_type": "code",
   "execution_count": null,
   "id": "functional-release",
   "metadata": {
    "ExecuteTime": {
     "end_time": "2022-06-11T01:26:43.452739Z",
     "start_time": "2022-06-11T01:26:43.368Z"
    }
   },
   "outputs": [],
   "source": [
    "#No se puede imputar usando la moda\n",
    "X_train['v_rating'],X_test['v_rating'] = imputar_moda(df,'v_rating',X_train,X_test)"
   ]
  },
  {
   "cell_type": "code",
   "execution_count": null,
   "id": "contrary-calvin",
   "metadata": {
    "ExecuteTime": {
     "end_time": "2022-06-11T01:26:43.453771Z",
     "start_time": "2022-06-11T01:26:43.371Z"
    }
   },
   "outputs": [],
   "source": [
    "#Imputamos como continua\n",
    "imputar_continua(df,'v_rating')"
   ]
  },
  {
   "cell_type": "code",
   "execution_count": null,
   "id": "chubby-procedure",
   "metadata": {
    "ExecuteTime": {
     "end_time": "2022-06-11T01:26:43.455643Z",
     "start_time": "2022-06-11T01:26:43.374Z"
    }
   },
   "outputs": [],
   "source": [
    "imp = SimpleImputer(missing_values=np.nan,strategy=\"median\")\n",
    "imp.fit(X_train[['v_rating']])\n",
    "X_train[['v_rating']]=imp.transform(X_train[['v_rating']])\n",
    "X_test[['v_rating']]=imp.transform(X_test[['v_rating']])"
   ]
  },
  {
   "cell_type": "markdown",
   "id": "experienced-railway",
   "metadata": {},
   "source": [
    "**v_industry**"
   ]
  },
  {
   "cell_type": "code",
   "execution_count": null,
   "id": "agricultural-moscow",
   "metadata": {
    "ExecuteTime": {
     "end_time": "2022-06-11T01:26:43.457744Z",
     "start_time": "2022-06-11T01:26:43.399Z"
    }
   },
   "outputs": [],
   "source": [
    "X_train['v_industry'],X_test['v_industry'] = imputar_moda(df,'v_industry',X_train,X_test)"
   ]
  },
  {
   "cell_type": "code",
   "execution_count": null,
   "id": "municipal-birth",
   "metadata": {
    "ExecuteTime": {
     "end_time": "2022-06-11T01:26:43.459544Z",
     "start_time": "2022-06-11T01:26:43.402Z"
    }
   },
   "outputs": [],
   "source": [
    "X_train['v_sector'],X_test['v_sector'] = imputar_moda(df,'v_sector',X_train,X_test)"
   ]
  },
  {
   "cell_type": "markdown",
   "id": "conventional-bridges",
   "metadata": {},
   "source": [
    "**A pesar de que unas variables no pasaron la prueba de chi cuadrada, se les imputa la moda, pues no podemos dejar dichos valores vacíos**"
   ]
  },
  {
   "cell_type": "code",
   "execution_count": null,
   "id": "suspended-pathology",
   "metadata": {
    "ExecuteTime": {
     "end_time": "2022-06-11T01:26:43.461540Z",
     "start_time": "2022-06-11T01:26:43.428Z"
    }
   },
   "outputs": [],
   "source": [
    "print(X_train['v_size'].mode())\n",
    "print(X_train['v_industry'].mode())\n",
    "print(X_train['v_sector'].mode())"
   ]
  },
  {
   "cell_type": "code",
   "execution_count": null,
   "id": "heated-feeling",
   "metadata": {
    "ExecuteTime": {
     "end_time": "2022-06-11T01:26:43.463693Z",
     "start_time": "2022-06-11T01:26:43.431Z"
    }
   },
   "outputs": [],
   "source": [
    "X_train['v_size']=X_train['v_size'].fillna('10000 employees')\n",
    "X_test['v_size']=X_test['v_size'].fillna('10000 employees')\n",
    "X_train['v_industry']=X_train['v_industry'].fillna('it services')\n",
    "X_test['v_industry']=X_test['v_industry'].fillna('it services')\n",
    "X_train['v_sector']=X_train['v_sector'].fillna('information technology')\n",
    "X_test['v_sector']=X_test['v_sector'].fillna('information technology')"
   ]
  },
  {
   "cell_type": "code",
   "execution_count": null,
   "id": "neutral-judge",
   "metadata": {
    "ExecuteTime": {
     "end_time": "2022-06-11T01:26:43.466045Z",
     "start_time": "2022-06-11T01:26:43.434Z"
    }
   },
   "outputs": [],
   "source": [
    "completitud(X_train)"
   ]
  },
  {
   "cell_type": "markdown",
   "id": "injured-american",
   "metadata": {},
   "source": [
    "# Ingeniería de variables"
   ]
  },
  {
   "cell_type": "markdown",
   "id": "judicial-disclaimer",
   "metadata": {},
   "source": [
    "**Debido a su importancia para agrupamiento y para el EDA, se crearon las siquientes columnas en secciones anteriores**  \n",
    "- c_salary_mean  \n",
    "- v_city, v_state  \n",
    "- v_headquarters_city, v_headquarters_state"
   ]
  },
  {
   "cell_type": "code",
   "execution_count": 22,
   "id": "classical-quebec",
   "metadata": {
    "ExecuteTime": {
     "end_time": "2022-06-11T01:26:43.588158Z",
     "start_time": "2022-06-11T01:26:43.570365Z"
    }
   },
   "outputs": [
    {
     "ename": "NameError",
     "evalue": "name 'X_train' is not defined",
     "output_type": "error",
     "traceback": [
      "\u001b[0;31m---------------------------------------------------------------------------\u001b[0m",
      "\u001b[0;31mNameError\u001b[0m                                 Traceback (most recent call last)",
      "\u001b[0;32m<ipython-input-22-05e7e719e0be>\u001b[0m in \u001b[0;36m<module>\u001b[0;34m\u001b[0m\n\u001b[1;32m      1\u001b[0m \u001b[0;31m#Se revisa dimensión del df antes de la ingeniería de variables\u001b[0m\u001b[0;34m\u001b[0m\u001b[0;34m\u001b[0m\u001b[0;34m\u001b[0m\u001b[0m\n\u001b[0;32m----> 2\u001b[0;31m \u001b[0mprint\u001b[0m\u001b[0;34m(\u001b[0m\u001b[0mX_train\u001b[0m\u001b[0;34m.\u001b[0m\u001b[0mshape\u001b[0m\u001b[0;34m)\u001b[0m\u001b[0;34m\u001b[0m\u001b[0;34m\u001b[0m\u001b[0m\n\u001b[0m\u001b[1;32m      3\u001b[0m \u001b[0mX_test\u001b[0m\u001b[0;34m.\u001b[0m\u001b[0mshape\u001b[0m\u001b[0;34m\u001b[0m\u001b[0;34m\u001b[0m\u001b[0m\n",
      "\u001b[0;31mNameError\u001b[0m: name 'X_train' is not defined"
     ]
    }
   ],
   "source": [
    "#Se revisa dimensión del df antes de la ingeniería de variables\n",
    "print(X_train.shape)\n",
    "X_test.shape"
   ]
  },
  {
   "cell_type": "markdown",
   "id": "monetary-orange",
   "metadata": {},
   "source": [
    "**Creamos la variable dummy v_big_city para indicar si la ciudad de la oferta está dentro de las 20 más grandes de EUA**"
   ]
  },
  {
   "cell_type": "code",
   "execution_count": null,
   "id": "supported-content",
   "metadata": {
    "ExecuteTime": {
     "end_time": "2022-06-11T01:26:43.591310Z",
     "start_time": "2022-06-11T01:26:43.531Z"
    }
   },
   "outputs": [],
   "source": [
    "#Creamos una variable dummy para indicar si la ciudad está dentro de \n",
    "# las 20 ciudades mas pobladas de EUA\n",
    "top_20_city = list(map(lambda city:city.lower(),\n",
    "                ['New York','Los Angeles','Chicago','Houston','Phoenix',\n",
    "                 'Philadelphia[','San Antonio','San Diego','Dallas','San Jose',\n",
    "                 'Austin','Jacksonville','Fort Worth','Columbus','Charlotte',\n",
    "                 'San Francisco','Indianapolis','Seattle','Denver','Washington']))\n",
    "\n",
    "df['v_big_city'] = df['v_city'].isin(top_20_city).astype(int)\n",
    "df['v_big_city'].value_counts()"
   ]
  },
  {
   "cell_type": "markdown",
   "id": "affected-effectiveness",
   "metadata": {},
   "source": [
    "## Categóricas"
   ]
  },
  {
   "cell_type": "markdown",
   "id": "killing-customer",
   "metadata": {},
   "source": [
    "### One-Hot encoding / Dummies"
   ]
  },
  {
   "cell_type": "code",
   "execution_count": 23,
   "id": "inner-sacramento",
   "metadata": {
    "ExecuteTime": {
     "end_time": "2022-06-11T01:26:43.711550Z",
     "start_time": "2022-06-11T01:26:43.694176Z"
    }
   },
   "outputs": [
    {
     "ename": "NameError",
     "evalue": "name 'X_train' is not defined",
     "output_type": "error",
     "traceback": [
      "\u001b[0;31m---------------------------------------------------------------------------\u001b[0m",
      "\u001b[0;31mNameError\u001b[0m                                 Traceback (most recent call last)",
      "\u001b[0;32m<ipython-input-23-53f4e39d07ec>\u001b[0m in \u001b[0;36m<module>\u001b[0;34m\u001b[0m\n\u001b[1;32m      1\u001b[0m \u001b[0mfeats\u001b[0m \u001b[0;34m=\u001b[0m \u001b[0;34m[\u001b[0m\u001b[0;34m'v_job_title'\u001b[0m\u001b[0;34m,\u001b[0m\u001b[0;34m'v_sector'\u001b[0m\u001b[0;34m,\u001b[0m\u001b[0;34m'v_size'\u001b[0m\u001b[0;34m,\u001b[0m\u001b[0;34m'v_state'\u001b[0m\u001b[0;34m,\u001b[0m\u001b[0;34m'v_type_of_ownership'\u001b[0m\u001b[0;34m]\u001b[0m\u001b[0;34m\u001b[0m\u001b[0;34m\u001b[0m\u001b[0m\n\u001b[1;32m      2\u001b[0m \u001b[0;32mfor\u001b[0m \u001b[0mcol\u001b[0m \u001b[0;32min\u001b[0m \u001b[0mfeats\u001b[0m\u001b[0;34m:\u001b[0m\u001b[0;34m\u001b[0m\u001b[0;34m\u001b[0m\u001b[0m\n\u001b[0;32m----> 3\u001b[0;31m     \u001b[0mX_train\u001b[0m\u001b[0;34m=\u001b[0m\u001b[0mpd\u001b[0m\u001b[0;34m.\u001b[0m\u001b[0mget_dummies\u001b[0m\u001b[0;34m(\u001b[0m\u001b[0mX_train\u001b[0m\u001b[0;34m,\u001b[0m\u001b[0mcolumns\u001b[0m\u001b[0;34m=\u001b[0m\u001b[0;34m[\u001b[0m\u001b[0mcol\u001b[0m\u001b[0;34m]\u001b[0m\u001b[0;34m,\u001b[0m\u001b[0mprefix\u001b[0m\u001b[0;34m=\u001b[0m\u001b[0mcol\u001b[0m\u001b[0;34m)\u001b[0m\u001b[0;34m\u001b[0m\u001b[0;34m\u001b[0m\u001b[0m\n\u001b[0m\u001b[1;32m      4\u001b[0m     \u001b[0mX_test\u001b[0m\u001b[0;34m=\u001b[0m\u001b[0mpd\u001b[0m\u001b[0;34m.\u001b[0m\u001b[0mget_dummies\u001b[0m\u001b[0;34m(\u001b[0m\u001b[0mX_test\u001b[0m\u001b[0;34m,\u001b[0m\u001b[0mcolumns\u001b[0m\u001b[0;34m=\u001b[0m\u001b[0;34m[\u001b[0m\u001b[0mcol\u001b[0m\u001b[0;34m]\u001b[0m\u001b[0;34m,\u001b[0m\u001b[0mprefix\u001b[0m\u001b[0;34m=\u001b[0m\u001b[0mcol\u001b[0m\u001b[0;34m)\u001b[0m\u001b[0;34m\u001b[0m\u001b[0;34m\u001b[0m\u001b[0m\n\u001b[1;32m      5\u001b[0m \u001b[0mX_train\u001b[0m\u001b[0;34m.\u001b[0m\u001b[0mhead\u001b[0m\u001b[0;34m(\u001b[0m\u001b[0;36m1\u001b[0m\u001b[0;34m)\u001b[0m\u001b[0;34m\u001b[0m\u001b[0;34m\u001b[0m\u001b[0m\n",
      "\u001b[0;31mNameError\u001b[0m: name 'X_train' is not defined"
     ]
    }
   ],
   "source": [
    "feats = ['v_job_title','v_sector','v_size','v_state','v_type_of_ownership']\n",
    "for col in feats:\n",
    "    X_train=pd.get_dummies(X_train,columns=[col],prefix=col)\n",
    "    X_test=pd.get_dummies(X_test,columns=[col],prefix=col)\n",
    "X_train.head(1)"
   ]
  },
  {
   "cell_type": "code",
   "execution_count": null,
   "id": "interesting-beverage",
   "metadata": {
    "ExecuteTime": {
     "end_time": "2022-06-11T01:26:43.714486Z",
     "start_time": "2022-06-11T01:26:43.593Z"
    }
   },
   "outputs": [],
   "source": [
    "#Añadimos columnas que no estan presentes entre los sets.\n",
    "miss_cols_test = set(X_train.columns)-set(X_test.columns)\n",
    "for col in miss_cols_test:\n",
    "    X_test[col]=0\n",
    "#Asegurando mismo orden de columnas\n",
    "X_test =X_test[X_train.columns]"
   ]
  },
  {
   "cell_type": "markdown",
   "id": "higher-python",
   "metadata": {},
   "source": [
    "### Target encoding"
   ]
  },
  {
   "cell_type": "code",
   "execution_count": null,
   "id": "baee4d4d",
   "metadata": {
    "ExecuteTime": {
     "end_time": "2022-06-11T01:26:43.715874Z",
     "start_time": "2022-06-11T01:26:43.623Z"
    },
    "scrolled": true
   },
   "outputs": [],
   "source": [
    "X_train[\"c_salary_mean\"].value_counts()"
   ]
  },
  {
   "cell_type": "code",
   "execution_count": null,
   "id": "multiple-factor",
   "metadata": {
    "ExecuteTime": {
     "end_time": "2022-06-11T01:26:43.716963Z",
     "start_time": "2022-06-11T01:26:43.625Z"
    }
   },
   "outputs": [],
   "source": [
    "#Codificamos dependiendo la relación entre la categoría y el objetivo\n",
    "encoder = TargetEncoder()"
   ]
  },
  {
   "cell_type": "markdown",
   "id": "1ec9197c",
   "metadata": {},
   "source": [
    "- Para el caso del objetivo categórico: las características se reemplazan con una combinación de probabilidad posterior del objetivo dado un valor categórico particular y la probabilidad previa del objetivo sobre todos los datos de entrenamiento.\n",
    "\n",
    "- Para el caso del objetivo continuo: las características se reemplazan con una combinación del valor esperado del objetivo dado un valor categórico particular y el valor esperado del objetivo sobre todos los datos de entrenamiento."
   ]
  },
  {
   "cell_type": "code",
   "execution_count": null,
   "id": "charming-giving",
   "metadata": {
    "ExecuteTime": {
     "end_time": "2022-06-11T01:26:43.718042Z",
     "start_time": "2022-06-11T01:26:43.655Z"
    }
   },
   "outputs": [],
   "source": [
    "encoder.fit(X_train[['v_industry','v_city','v_headquarters_city','v_headquarters_state']],X_train['c_salary_mean'])"
   ]
  },
  {
   "cell_type": "code",
   "execution_count": null,
   "id": "ceramic-banner",
   "metadata": {
    "ExecuteTime": {
     "end_time": "2022-06-11T01:26:43.719179Z",
     "start_time": "2022-06-11T01:26:43.659Z"
    }
   },
   "outputs": [],
   "source": [
    "X_train[['v_industry','v_city','v_headquarters_city','v_headquarters_state']] = encoder.transform(X_train[['v_industry','v_city','v_headquarters_city','v_headquarters_state']])\n",
    "X_test[['v_industry','v_city','v_headquarters_city','v_headquarters_state']] = encoder.transform(X_test[['v_industry','v_city','v_headquarters_city','v_headquarters_state']])"
   ]
  },
  {
   "cell_type": "code",
   "execution_count": null,
   "id": "presidential-maryland",
   "metadata": {
    "ExecuteTime": {
     "end_time": "2022-06-11T01:26:43.720129Z",
     "start_time": "2022-06-11T01:26:43.661Z"
    }
   },
   "outputs": [],
   "source": [
    "X_train.head(2)"
   ]
  },
  {
   "cell_type": "markdown",
   "id": "considerable-comparative",
   "metadata": {},
   "source": [
    "## Texto // Count Vectorizer"
   ]
  },
  {
   "cell_type": "markdown",
   "id": "proof-mounting",
   "metadata": {},
   "source": [
    "**t_job_description**"
   ]
  },
  {
   "cell_type": "code",
   "execution_count": 24,
   "id": "returning-group",
   "metadata": {
    "ExecuteTime": {
     "end_time": "2022-06-11T01:26:43.846389Z",
     "start_time": "2022-06-11T01:26:43.822313Z"
    }
   },
   "outputs": [
    {
     "ename": "NameError",
     "evalue": "name 'X_train' is not defined",
     "output_type": "error",
     "traceback": [
      "\u001b[0;31m---------------------------------------------------------------------------\u001b[0m",
      "\u001b[0;31mNameError\u001b[0m                                 Traceback (most recent call last)",
      "\u001b[0;32m<ipython-input-24-043cec166cad>\u001b[0m in \u001b[0;36m<module>\u001b[0;34m\u001b[0m\n\u001b[1;32m      1\u001b[0m \u001b[0;31m#Eliminando stop words\u001b[0m\u001b[0;34m\u001b[0m\u001b[0;34m\u001b[0m\u001b[0;34m\u001b[0m\u001b[0m\n\u001b[1;32m      2\u001b[0m \u001b[0mstop_words\u001b[0m \u001b[0;34m=\u001b[0m \u001b[0mstopwords\u001b[0m\u001b[0;34m.\u001b[0m\u001b[0mwords\u001b[0m\u001b[0;34m(\u001b[0m\u001b[0;34m\"english\"\u001b[0m\u001b[0;34m)\u001b[0m\u001b[0;34m\u001b[0m\u001b[0;34m\u001b[0m\u001b[0m\n\u001b[0;32m----> 3\u001b[0;31m \u001b[0mX_train\u001b[0m\u001b[0;34m[\u001b[0m\u001b[0;34m\"t_job_description\"\u001b[0m\u001b[0;34m]\u001b[0m\u001b[0;34m=\u001b[0m\u001b[0mX_train\u001b[0m\u001b[0;34m[\u001b[0m\u001b[0;34m\"t_job_description\"\u001b[0m\u001b[0;34m]\u001b[0m\u001b[0;34m.\u001b[0m\u001b[0mmap\u001b[0m\u001b[0;34m(\u001b[0m\u001b[0;32mlambda\u001b[0m \u001b[0mtext\u001b[0m\u001b[0;34m:\u001b[0m\u001b[0;34m\" \"\u001b[0m\u001b[0;34m.\u001b[0m\u001b[0mjoin\u001b[0m\u001b[0;34m(\u001b[0m\u001b[0;34m[\u001b[0m\u001b[0mx\u001b[0m \u001b[0;32mfor\u001b[0m \u001b[0mx\u001b[0m \u001b[0;32min\u001b[0m \u001b[0mtext\u001b[0m\u001b[0;34m.\u001b[0m\u001b[0msplit\u001b[0m\u001b[0;34m(\u001b[0m\u001b[0;34m\" \"\u001b[0m\u001b[0;34m)\u001b[0m \u001b[0;32mif\u001b[0m \u001b[0mx\u001b[0m \u001b[0;32mnot\u001b[0m \u001b[0;32min\u001b[0m \u001b[0mstop_words\u001b[0m\u001b[0;34m]\u001b[0m\u001b[0;34m)\u001b[0m\u001b[0;34m)\u001b[0m\u001b[0;34m\u001b[0m\u001b[0;34m\u001b[0m\u001b[0m\n\u001b[0m\u001b[1;32m      4\u001b[0m \u001b[0mX_test\u001b[0m\u001b[0;34m[\u001b[0m\u001b[0;34m\"t_job_description\"\u001b[0m\u001b[0;34m]\u001b[0m\u001b[0;34m=\u001b[0m\u001b[0mX_test\u001b[0m\u001b[0;34m[\u001b[0m\u001b[0;34m\"t_job_description\"\u001b[0m\u001b[0;34m]\u001b[0m\u001b[0;34m.\u001b[0m\u001b[0mmap\u001b[0m\u001b[0;34m(\u001b[0m\u001b[0;32mlambda\u001b[0m \u001b[0mtext\u001b[0m\u001b[0;34m:\u001b[0m\u001b[0;34m\" \"\u001b[0m\u001b[0;34m.\u001b[0m\u001b[0mjoin\u001b[0m\u001b[0;34m(\u001b[0m\u001b[0;34m[\u001b[0m\u001b[0mx\u001b[0m \u001b[0;32mfor\u001b[0m \u001b[0mx\u001b[0m \u001b[0;32min\u001b[0m \u001b[0mtext\u001b[0m\u001b[0;34m.\u001b[0m\u001b[0msplit\u001b[0m\u001b[0;34m(\u001b[0m\u001b[0;34m\" \"\u001b[0m\u001b[0;34m)\u001b[0m \u001b[0;32mif\u001b[0m \u001b[0mx\u001b[0m \u001b[0;32mnot\u001b[0m \u001b[0;32min\u001b[0m \u001b[0mstop_words\u001b[0m\u001b[0;34m]\u001b[0m\u001b[0;34m)\u001b[0m\u001b[0;34m)\u001b[0m\u001b[0;34m\u001b[0m\u001b[0;34m\u001b[0m\u001b[0m\n",
      "\u001b[0;31mNameError\u001b[0m: name 'X_train' is not defined"
     ]
    }
   ],
   "source": [
    "#Eliminando stop words\n",
    "stop_words = stopwords.words(\"english\")\n",
    "X_train[\"t_job_description\"]=X_train[\"t_job_description\"].map(lambda text:\" \".join([x for x in text.split(\" \") if x not in stop_words]))\n",
    "X_test[\"t_job_description\"]=X_test[\"t_job_description\"].map(lambda text:\" \".join([x for x in text.split(\" \") if x not in stop_words]))"
   ]
  },
  {
   "cell_type": "code",
   "execution_count": null,
   "id": "painted-floor",
   "metadata": {
    "ExecuteTime": {
     "end_time": "2022-06-11T01:26:43.848553Z",
     "start_time": "2022-06-11T01:26:43.731Z"
    }
   },
   "outputs": [],
   "source": [
    "corpus_jd = \" \".join(df['t_job_description'].values)"
   ]
  },
  {
   "cell_type": "code",
   "execution_count": null,
   "id": "nominated-dominican",
   "metadata": {
    "ExecuteTime": {
     "end_time": "2022-06-11T01:26:43.850075Z",
     "start_time": "2022-06-11T01:26:43.734Z"
    }
   },
   "outputs": [],
   "source": [
    "# La eliminación de apaches es prácticamente imposible, \n",
    "#   pues la lista es enorme, el tiempo de ejecución se extiende demasiado\n",
    "fdist=FreqDist(corpus_jd.split())\n",
    "hapaxes=fdist.hapaxes()\n",
    "len(hapaxes)"
   ]
  },
  {
   "cell_type": "markdown",
   "id": "seven-doctor",
   "metadata": {},
   "source": [
    "No se eliminan hapaxes, pues después de todo, la vectorización se hace sólo para palabras con más del 15% de ocurrencias."
   ]
  },
  {
   "cell_type": "code",
   "execution_count": null,
   "id": "whole-pendant",
   "metadata": {
    "ExecuteTime": {
     "end_time": "2022-06-11T01:26:43.851328Z",
     "start_time": "2022-06-11T01:26:43.761Z"
    }
   },
   "outputs": [],
   "source": [
    "#Tokenizando\n",
    "X_train[\"t_job_description\"]=X_train[\"t_job_description\"].map(lambda x:x.split())\n",
    "X_test[\"t_job_description\"]=X_test[\"t_job_description\"].map(lambda x:x.split())"
   ]
  },
  {
   "cell_type": "code",
   "execution_count": null,
   "id": "macro-feedback",
   "metadata": {
    "ExecuteTime": {
     "end_time": "2022-06-11T01:26:43.852884Z",
     "start_time": "2022-06-11T01:26:43.764Z"
    }
   },
   "outputs": [],
   "source": [
    "#Lematizando\n",
    "#nltk.download('wordnet')\n",
    "lem = nltk.stem.wordnet.WordNetLemmatizer()\n",
    "X_train[\"t_job_description\"]=X_train[\"t_job_description\"].map(lambda text:[lem.lemmatize(word) for word in text])\n",
    "X_test[\"t_job_description\"]=X_test[\"t_job_description\"].map(lambda text:[lem.lemmatize(word) for word in text])"
   ]
  },
  {
   "cell_type": "code",
   "execution_count": null,
   "id": "advised-reggae",
   "metadata": {
    "ExecuteTime": {
     "end_time": "2022-06-11T01:26:43.854932Z",
     "start_time": "2022-06-11T01:26:43.766Z"
    }
   },
   "outputs": [],
   "source": [
    "#El modelo para vectorizar sólo usa palabras con 15% o más de frecuencia\n",
    "vect = CountVectorizer(analyzer= 'word', min_df=0.15)\n",
    "X_train[\"t_job_description\"]=X_train[\"t_job_description\"].map(lambda list:' '.join(word for word in list))\n",
    "X_test[\"t_job_description\"]=X_test[\"t_job_description\"].map(lambda list:' '.join(word for word in list))\n",
    "#Entrenando al modelo\n",
    "vect.fit(X_train['t_job_description'])\n",
    "#Ajustando ambos sets\n",
    "array_train = vect.transform(X_train['t_job_description'])\n",
    "array_test = vect.transform(X_test['t_job_description'])"
   ]
  },
  {
   "cell_type": "code",
   "execution_count": null,
   "id": "reasonable-venue",
   "metadata": {
    "ExecuteTime": {
     "end_time": "2022-06-11T01:26:43.856624Z",
     "start_time": "2022-06-11T01:26:43.770Z"
    }
   },
   "outputs": [],
   "source": [
    "#Incorporando al dataframe\n",
    "aux_train=pd.DataFrame(array_train.toarray(),columns=vect.get_feature_names())\n",
    "aux_test=pd.DataFrame(array_test.toarray(),columns=vect.get_feature_names())\n",
    "X_train = X_train.reset_index()\n",
    "X_test = X_test.reset_index()\n",
    "X_train = pd.concat([X_train,aux_train],axis=1)\n",
    "X_test = pd.concat([X_test,aux_test],axis=1)\n",
    "X_train = X_train.set_index('index').sort_index()\n",
    "X_test = X_test.set_index('index').sort_index()"
   ]
  },
  {
   "cell_type": "code",
   "execution_count": null,
   "id": "b000b2c3",
   "metadata": {
    "ExecuteTime": {
     "end_time": "2022-06-11T01:26:43.858468Z",
     "start_time": "2022-06-11T01:26:43.772Z"
    },
    "scrolled": true
   },
   "outputs": [],
   "source": [
    "X_train"
   ]
  },
  {
   "cell_type": "markdown",
   "id": "marked-swedish",
   "metadata": {},
   "source": [
    "**t_company_name**"
   ]
  },
  {
   "cell_type": "code",
   "execution_count": null,
   "id": "pending-windsor",
   "metadata": {
    "ExecuteTime": {
     "end_time": "2022-06-11T01:26:43.860632Z",
     "start_time": "2022-06-11T01:26:43.799Z"
    }
   },
   "outputs": [],
   "source": [
    "#Eliminando stop words\n",
    "stop_words = stopwords.words(\"english\")\n",
    "X_train['t_company_name']=X_train[\"t_company_name\"].map(lambda text:\" \".join([x for x in text.split(\" \") if x not in stop_words]))\n",
    "X_test['t_company_name']=X_test[\"t_company_name\"].map(lambda text:\" \".join([x for x in text.split(\" \") if x not in stop_words]))"
   ]
  },
  {
   "cell_type": "code",
   "execution_count": null,
   "id": "continent-worthy",
   "metadata": {
    "ExecuteTime": {
     "end_time": "2022-06-11T01:26:43.862291Z",
     "start_time": "2022-06-11T01:26:43.802Z"
    }
   },
   "outputs": [],
   "source": [
    "corpus_jd = \" \".join(df['t_company_name'].values)"
   ]
  },
  {
   "cell_type": "code",
   "execution_count": null,
   "id": "valued-contamination",
   "metadata": {
    "ExecuteTime": {
     "end_time": "2022-06-11T01:26:43.863889Z",
     "start_time": "2022-06-11T01:26:43.805Z"
    }
   },
   "outputs": [],
   "source": [
    "#Eliminando hapaxes\n",
    "fdist=FreqDist(corpus_jd.split())\n",
    "hapaxes=fdist.hapaxes()\n",
    "X_train[\"t_company_name\"]=X_train[\"t_company_name\"].map(lambda text:\" \".join([x for x in text.split(\" \") if x not in hapaxes]))\n",
    "X_test[\"t_company_name\"]=X_test[\"t_company_name\"].map(lambda text:\" \".join([x for x in text.split(\" \") if x not in hapaxes]))"
   ]
  },
  {
   "cell_type": "code",
   "execution_count": null,
   "id": "finite-canadian",
   "metadata": {
    "ExecuteTime": {
     "end_time": "2022-06-11T01:26:43.865528Z",
     "start_time": "2022-06-11T01:26:43.808Z"
    }
   },
   "outputs": [],
   "source": [
    "#Tokenizando\n",
    "X_train[\"t_company_name\"]=X_train[\"t_company_name\"].map(lambda x:x.split())\n",
    "X_test[\"t_company_name\"]=X_test[\"t_company_name\"].map(lambda x:x.split())"
   ]
  },
  {
   "cell_type": "code",
   "execution_count": null,
   "id": "excellent-madagascar",
   "metadata": {
    "ExecuteTime": {
     "end_time": "2022-06-11T01:26:43.867564Z",
     "start_time": "2022-06-11T01:26:43.810Z"
    }
   },
   "outputs": [],
   "source": [
    "#Lematizando\n",
    "#nltk.download('wordnet')\n",
    "lem = nltk.stem.wordnet.WordNetLemmatizer()\n",
    "X_train[\"t_company_name\"]=X_train[\"t_company_name\"].map(lambda text:[lem.lemmatize(word) for word in text])\n",
    "X_test[\"t_company_name\"]=X_test[\"t_company_name\"].map(lambda text:[lem.lemmatize(word) for word in text])"
   ]
  },
  {
   "cell_type": "code",
   "execution_count": null,
   "id": "demonstrated-courtesy",
   "metadata": {
    "ExecuteTime": {
     "end_time": "2022-06-11T01:26:43.869404Z",
     "start_time": "2022-06-11T01:26:43.814Z"
    }
   },
   "outputs": [],
   "source": [
    "#El modelo vectoriza sólo palabras que se repiten 5%\n",
    "vect = CountVectorizer(analyzer= 'word', min_df=0.05)\n",
    "X_train[\"t_company_name\"]=X_train[\"t_company_name\"].map(lambda list:' '.join(word for word in list))\n",
    "X_test[\"t_company_name\"]=X_test[\"t_company_name\"].map(lambda list:' '.join(word for word in list))\n",
    "#Entrenando\n",
    "vect.fit(X_train[\"t_company_name\"])\n",
    "#Ajustando\n",
    "array_train = vect.transform(X_train[\"t_company_name\"])\n",
    "array_test = vect.transform(X_test[\"t_company_name\"])"
   ]
  },
  {
   "cell_type": "code",
   "execution_count": null,
   "id": "excited-dividend",
   "metadata": {
    "ExecuteTime": {
     "end_time": "2022-06-11T01:26:43.871299Z",
     "start_time": "2022-06-11T01:26:43.816Z"
    }
   },
   "outputs": [],
   "source": [
    "aux_train=pd.DataFrame(array_train.toarray(),columns=vect.get_feature_names())\n",
    "aux_test=pd.DataFrame(array_test.toarray(),columns=vect.get_feature_names())"
   ]
  },
  {
   "cell_type": "code",
   "execution_count": null,
   "id": "stable-proposition",
   "metadata": {
    "ExecuteTime": {
     "end_time": "2022-06-11T01:26:43.873126Z",
     "start_time": "2022-06-11T01:26:43.819Z"
    }
   },
   "outputs": [],
   "source": [
    "X_train = X_train.reset_index()\n",
    "X_test = X_test.reset_index()\n",
    "X_train = pd.concat([X_train,aux_train],axis=1)\n",
    "X_test = pd.concat([X_test,aux_test],axis=1)\n",
    "X_train = X_train.set_index('index').sort_index()\n",
    "X_test = X_test.set_index('index').sort_index()"
   ]
  },
  {
   "cell_type": "code",
   "execution_count": null,
   "id": "specialized-heavy",
   "metadata": {
    "ExecuteTime": {
     "end_time": "2022-06-11T01:26:43.874726Z",
     "start_time": "2022-06-11T01:26:43.821Z"
    }
   },
   "outputs": [],
   "source": [
    "# Se revisan dimensiones del df\n",
    "print(X_train.shape)\n",
    "X_test.shape"
   ]
  },
  {
   "cell_type": "code",
   "execution_count": null,
   "id": "33fb909d",
   "metadata": {
    "ExecuteTime": {
     "end_time": "2022-06-11T01:26:43.876393Z",
     "start_time": "2022-06-11T01:26:43.825Z"
    },
    "scrolled": true
   },
   "outputs": [],
   "source": [
    "vect.get_feature_names()"
   ]
  },
  {
   "cell_type": "markdown",
   "id": "impressed-harbor",
   "metadata": {},
   "source": [
    "# Reducción de variables"
   ]
  },
  {
   "cell_type": "markdown",
   "id": "incident-peoples",
   "metadata": {},
   "source": [
    "Ya que nuestra variable objetivo proviene del promedio de c_salary_minimum y c_salary_maximum, eliminaremos estas mismas.\n",
    "Así mismo, borramos las variables de texto que ya se vectorizaron"
   ]
  },
  {
   "cell_type": "code",
   "execution_count": 25,
   "id": "included-blackjack",
   "metadata": {
    "ExecuteTime": {
     "end_time": "2022-06-11T01:26:43.996488Z",
     "start_time": "2022-06-11T01:26:43.979379Z"
    }
   },
   "outputs": [
    {
     "ename": "NameError",
     "evalue": "name 'X_train' is not defined",
     "output_type": "error",
     "traceback": [
      "\u001b[0;31m---------------------------------------------------------------------------\u001b[0m",
      "\u001b[0;31mNameError\u001b[0m                                 Traceback (most recent call last)",
      "\u001b[0;32m<ipython-input-25-97c777a2d747>\u001b[0m in \u001b[0;36m<module>\u001b[0;34m\u001b[0m\n\u001b[0;32m----> 1\u001b[0;31m \u001b[0mX_train\u001b[0m \u001b[0;34m=\u001b[0m \u001b[0mX_train\u001b[0m\u001b[0;34m.\u001b[0m\u001b[0mdrop\u001b[0m\u001b[0;34m(\u001b[0m\u001b[0mcolumns\u001b[0m\u001b[0;34m=\u001b[0m\u001b[0;34m[\u001b[0m\u001b[0;34m'c_salary_minimum'\u001b[0m\u001b[0;34m,\u001b[0m\u001b[0;34m'c_salary_maximum'\u001b[0m\u001b[0;34m,\u001b[0m\u001b[0;34m'v_salary_estimate'\u001b[0m\u001b[0;34m,\u001b[0m\u001b[0;34m't_job_description'\u001b[0m\u001b[0;34m,\u001b[0m\u001b[0;34m't_company_name'\u001b[0m\u001b[0;34m]\u001b[0m\u001b[0;34m)\u001b[0m\u001b[0;34m\u001b[0m\u001b[0;34m\u001b[0m\u001b[0m\n\u001b[0m\u001b[1;32m      2\u001b[0m \u001b[0mX_test\u001b[0m \u001b[0;34m=\u001b[0m \u001b[0mX_test\u001b[0m\u001b[0;34m.\u001b[0m\u001b[0mdrop\u001b[0m\u001b[0;34m(\u001b[0m\u001b[0mcolumns\u001b[0m\u001b[0;34m=\u001b[0m\u001b[0;34m[\u001b[0m\u001b[0;34m'c_salary_minimum'\u001b[0m\u001b[0;34m,\u001b[0m\u001b[0;34m'c_salary_maximum'\u001b[0m\u001b[0;34m,\u001b[0m\u001b[0;34m'v_salary_estimate'\u001b[0m\u001b[0;34m,\u001b[0m\u001b[0;34m't_job_description'\u001b[0m\u001b[0;34m,\u001b[0m\u001b[0;34m't_company_name'\u001b[0m\u001b[0;34m]\u001b[0m\u001b[0;34m)\u001b[0m\u001b[0;34m\u001b[0m\u001b[0;34m\u001b[0m\u001b[0m\n",
      "\u001b[0;31mNameError\u001b[0m: name 'X_train' is not defined"
     ]
    }
   ],
   "source": [
    "X_train = X_train.drop(columns=['c_salary_minimum','c_salary_maximum','v_salary_estimate','t_job_description','t_company_name'])\n",
    "X_test = X_test.drop(columns=['c_salary_minimum','c_salary_maximum','v_salary_estimate','t_job_description','t_company_name'])"
   ]
  },
  {
   "cell_type": "markdown",
   "id": "equivalent-converter",
   "metadata": {},
   "source": [
    "### Filtro de alta correlación"
   ]
  },
  {
   "cell_type": "code",
   "execution_count": null,
   "id": "1eb2182c",
   "metadata": {
    "ExecuteTime": {
     "end_time": "2022-06-11T01:26:43.998339Z",
     "start_time": "2022-06-11T01:26:43.920Z"
    },
    "scrolled": true
   },
   "outputs": [],
   "source": [
    "X_train.columns"
   ]
  },
  {
   "cell_type": "code",
   "execution_count": null,
   "id": "a0b7a52a",
   "metadata": {
    "ExecuteTime": {
     "end_time": "2022-06-11T01:26:43.999067Z",
     "start_time": "2022-06-11T01:26:43.923Z"
    }
   },
   "outputs": [],
   "source": [
    "X_train.describe()"
   ]
  },
  {
   "cell_type": "code",
   "execution_count": null,
   "id": "agreed-eclipse",
   "metadata": {
    "ExecuteTime": {
     "end_time": "2022-06-11T01:26:43.999684Z",
     "start_time": "2022-06-11T01:26:43.926Z"
    }
   },
   "outputs": [],
   "source": [
    "correlacion = abs(X_train[['v_rating', 'v_industry', 'c_salary_mean', 'v_city',\n",
    "       'v_headquarters_city', 'v_headquarters_state']].corr(method=\"spearman\"))"
   ]
  },
  {
   "cell_type": "code",
   "execution_count": null,
   "id": "classical-colorado",
   "metadata": {
    "ExecuteTime": {
     "end_time": "2022-06-11T01:26:44.000338Z",
     "start_time": "2022-06-11T01:26:43.929Z"
    }
   },
   "outputs": [],
   "source": [
    "correlacion.iplot(kind=\"heatmap\",colorscale=\"orrd\",title=\"Matriz de Correlación\")"
   ]
  },
  {
   "cell_type": "code",
   "execution_count": null,
   "id": "impossible-precipitation",
   "metadata": {
    "ExecuteTime": {
     "end_time": "2022-06-11T01:26:44.001088Z",
     "start_time": "2022-06-11T01:26:43.931Z"
    }
   },
   "outputs": [],
   "source": [
    "for col in correlacion.columns:\n",
    "    aux = correlacion[[col]][correlacion[[col]]>0.7].dropna()\n",
    "    if len(aux)>1:\n",
    "        display(aux)"
   ]
  },
  {
   "cell_type": "code",
   "execution_count": null,
   "id": "western-republic",
   "metadata": {
    "ExecuteTime": {
     "end_time": "2022-06-11T01:26:44.001915Z",
     "start_time": "2022-06-11T01:26:43.935Z"
    }
   },
   "outputs": [],
   "source": [
    "col_drop = ['v_headquarters_city','v_sector_education','v_sector_government']"
   ]
  },
  {
   "cell_type": "markdown",
   "id": "thermal-dollar",
   "metadata": {},
   "source": [
    "### Correlación con objetivo"
   ]
  },
  {
   "cell_type": "code",
   "execution_count": null,
   "id": "academic-dollar",
   "metadata": {
    "ExecuteTime": {
     "end_time": "2022-06-11T01:26:44.003313Z",
     "start_time": "2022-06-11T01:26:43.964Z"
    }
   },
   "outputs": [],
   "source": [
    "correlacion=abs(X_train[['v_rating', 'v_industry', 'c_salary_mean', 'v_city',\n",
    "       'v_headquarters_city', 'v_headquarters_state']].corr(method='spearman'))\n",
    "low_corr = correlacion[correlacion[\"c_salary_mean\"]<0.1][['c_salary_mean']].sort_values(by=\"c_salary_mean\")\n",
    "low_corr"
   ]
  },
  {
   "cell_type": "code",
   "execution_count": null,
   "id": "hydraulic-perfume",
   "metadata": {
    "ExecuteTime": {
     "end_time": "2022-06-11T01:26:44.005208Z",
     "start_time": "2022-06-11T01:26:43.967Z"
    }
   },
   "outputs": [],
   "source": [
    "#Eliminando columnas con correlacion menor a 0.1 con el objetivo\n",
    "X_train = X_train.drop(columns=low_corr.index)\n",
    "X_test = X_test.drop(columns=low_corr.index)"
   ]
  },
  {
   "cell_type": "markdown",
   "id": "distributed-puzzle",
   "metadata": {},
   "source": [
    "### Multicolinealidad"
   ]
  },
  {
   "cell_type": "code",
   "execution_count": null,
   "id": "047e8382",
   "metadata": {},
   "outputs": [],
   "source": []
  },
  {
   "cell_type": "code",
   "execution_count": 26,
   "id": "refined-harvey",
   "metadata": {
    "ExecuteTime": {
     "end_time": "2022-06-11T01:26:44.124109Z",
     "start_time": "2022-06-11T01:26:44.109257Z"
    }
   },
   "outputs": [
    {
     "ename": "NameError",
     "evalue": "name 'calc_vif' is not defined",
     "output_type": "error",
     "traceback": [
      "\u001b[0;31m---------------------------------------------------------------------------\u001b[0m",
      "\u001b[0;31mNameError\u001b[0m                                 Traceback (most recent call last)",
      "\u001b[0;32m<ipython-input-26-f8e11f43c44f>\u001b[0m in \u001b[0;36m<module>\u001b[0;34m\u001b[0m\n\u001b[0;32m----> 1\u001b[0;31m \u001b[0mhigh_vif\u001b[0m \u001b[0;34m=\u001b[0m \u001b[0mcalc_vif\u001b[0m\u001b[0;34m(\u001b[0m\u001b[0mX_train\u001b[0m\u001b[0;34m.\u001b[0m\u001b[0mdrop\u001b[0m\u001b[0;34m(\u001b[0m\u001b[0mcolumns\u001b[0m\u001b[0;34m=\u001b[0m\u001b[0;34m'c_salary_mean'\u001b[0m\u001b[0;34m)\u001b[0m\u001b[0;34m)\u001b[0m\u001b[0;34m\u001b[0m\u001b[0;34m\u001b[0m\u001b[0m\n\u001b[0m\u001b[1;32m      2\u001b[0m \u001b[0mhigh_vif\u001b[0m \u001b[0;34m=\u001b[0m \u001b[0mhigh_vif\u001b[0m\u001b[0;34m[\u001b[0m\u001b[0mhigh_vif\u001b[0m\u001b[0;34m[\u001b[0m\u001b[0;34m'VIF'\u001b[0m\u001b[0;34m]\u001b[0m\u001b[0;34m>\u001b[0m\u001b[0;36m10\u001b[0m\u001b[0;34m]\u001b[0m\u001b[0;34m\u001b[0m\u001b[0;34m\u001b[0m\u001b[0m\n\u001b[1;32m      3\u001b[0m \u001b[0mhigh_vif\u001b[0m\u001b[0;34m\u001b[0m\u001b[0;34m\u001b[0m\u001b[0m\n",
      "\u001b[0;31mNameError\u001b[0m: name 'calc_vif' is not defined"
     ]
    }
   ],
   "source": [
    "high_vif = calc_vif(X_train.drop(columns='c_salary_mean'))\n",
    "high_vif = high_vif[high_vif['VIF']>10]\n",
    "high_vif"
   ]
  },
  {
   "cell_type": "code",
   "execution_count": null,
   "id": "premium-survival",
   "metadata": {
    "ExecuteTime": {
     "end_time": "2022-06-11T01:26:44.126787Z",
     "start_time": "2022-06-11T01:26:44.001Z"
    }
   },
   "outputs": [],
   "source": [
    "#Eliminamos variables con VIF mayor a 10\n",
    "X_train = X_train.drop(columns=high_vif['variables'].values)\n",
    "X_test = X_test.drop(columns=high_vif['variables'].values)"
   ]
  },
  {
   "cell_type": "markdown",
   "id": "further-music",
   "metadata": {},
   "source": [
    "# Tabla Final"
   ]
  },
  {
   "cell_type": "code",
   "execution_count": null,
   "id": "junior-requirement",
   "metadata": {
    "ExecuteTime": {
     "end_time": "2022-06-11T01:26:44.128077Z",
     "start_time": "2022-06-11T01:26:44.034Z"
    }
   },
   "outputs": [],
   "source": [
    "#Renombrando al objetivo\n",
    "X_train = X_train.rename(columns={'c_salary_mean':'tgt_salary_mean'})\n",
    "X_test = X_test.rename(columns={'c_salary_mean':'tgt_salary_mean'})"
   ]
  },
  {
   "cell_type": "code",
   "execution_count": null,
   "id": "julian-layout",
   "metadata": {
    "ExecuteTime": {
     "end_time": "2022-06-11T01:26:44.129076Z",
     "start_time": "2022-06-11T01:26:44.037Z"
    }
   },
   "outputs": [],
   "source": [
    "X_train"
   ]
  },
  {
   "cell_type": "code",
   "execution_count": null,
   "id": "87fc00d8",
   "metadata": {
    "ExecuteTime": {
     "end_time": "2022-06-11T01:26:44.130498Z",
     "start_time": "2022-06-11T01:26:44.040Z"
    }
   },
   "outputs": [],
   "source": [
    "X_train.describe()"
   ]
  },
  {
   "cell_type": "code",
   "execution_count": null,
   "id": "flying-minute",
   "metadata": {
    "ExecuteTime": {
     "end_time": "2022-06-11T01:26:44.131719Z",
     "start_time": "2022-06-11T01:26:44.043Z"
    },
    "scrolled": true
   },
   "outputs": [],
   "source": [
    "X_test"
   ]
  },
  {
   "cell_type": "code",
   "execution_count": null,
   "id": "marine-combination",
   "metadata": {},
   "outputs": [],
   "source": []
  },
  {
   "cell_type": "code",
   "execution_count": null,
   "id": "2d895375",
   "metadata": {},
   "outputs": [],
   "source": []
  }
 ],
 "metadata": {
  "hide_input": false,
  "kernelspec": {
   "display_name": "dss",
   "language": "python",
   "name": "dss"
  },
  "language_info": {
   "codemirror_mode": {
    "name": "ipython",
    "version": 3
   },
   "file_extension": ".py",
   "mimetype": "text/x-python",
   "name": "python",
   "nbconvert_exporter": "python",
   "pygments_lexer": "ipython3",
   "version": "3.8.10"
  },
  "latex_envs": {
   "LaTeX_envs_menu_present": true,
   "autoclose": false,
   "autocomplete": true,
   "bibliofile": "biblio.bib",
   "cite_by": "apalike",
   "current_citInitial": 1,
   "eqLabelWithNumbers": true,
   "eqNumInitial": 1,
   "hotkeys": {
    "equation": "Ctrl-E",
    "itemize": "Ctrl-I"
   },
   "labels_anchors": false,
   "latex_user_defs": false,
   "report_style_numbering": false,
   "user_envs_cfg": false
  },
  "varInspector": {
   "cols": {
    "lenName": 16,
    "lenType": 16,
    "lenVar": 40
   },
   "kernels_config": {
    "python": {
     "delete_cmd_postfix": "",
     "delete_cmd_prefix": "del ",
     "library": "var_list.py",
     "varRefreshCmd": "print(var_dic_list())"
    },
    "r": {
     "delete_cmd_postfix": ") ",
     "delete_cmd_prefix": "rm(",
     "library": "var_list.r",
     "varRefreshCmd": "cat(var_dic_list()) "
    }
   },
   "types_to_exclude": [
    "module",
    "function",
    "builtin_function_or_method",
    "instance",
    "_Feature"
   ],
   "window_display": true
  }
 },
 "nbformat": 4,
 "nbformat_minor": 5
}
