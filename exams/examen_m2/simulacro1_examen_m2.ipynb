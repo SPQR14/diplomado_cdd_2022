{
 "cells": [
  {
   "cell_type": "markdown",
   "metadata": {},
   "source": [
    "# Simulacro de examen M2"
   ]
  },
  {
   "cell_type": "code",
   "execution_count": 1,
   "metadata": {},
   "outputs": [],
   "source": [
    "import pandas as pd\n",
    "import numpy as np\n",
    "import missingno as msno\n",
    "import seaborn as sns\n",
    "from matplotlib import pyplot as plt\n",
    "from scipy import stats\n",
    "from statsmodels.formula.api import ols\n",
    "import plotly.express as px"
   ]
  },
  {
   "cell_type": "code",
   "execution_count": 2,
   "metadata": {},
   "outputs": [],
   "source": [
    "pd.set_option(\"display.max_columns\",200)\n",
    "pd.set_option(\"display.max_rows\",100)\n",
    "%matplotlib inline"
   ]
  },
  {
   "cell_type": "code",
   "execution_count": 3,
   "metadata": {},
   "outputs": [],
   "source": [
    "import sys\n",
    "sys.path.insert(1, '../../usr_lib/')\n",
    "import utilities"
   ]
  },
  {
   "cell_type": "code",
   "execution_count": 4,
   "metadata": {},
   "outputs": [],
   "source": [
    "df = pd.read_csv('../../data/modulo2/examen/churn-bigml-80 - churn-bigml-80.csv', sep=',', encoding='utf8')"
   ]
  },
  {
   "cell_type": "code",
   "execution_count": 5,
   "metadata": {},
   "outputs": [
    {
     "name": "stdout",
     "output_type": "stream",
     "text": [
      "<class 'pandas.core.frame.DataFrame'>\n",
      "RangeIndex: 2666 entries, 0 to 2665\n",
      "Data columns (total 20 columns):\n",
      " #   Column                  Non-Null Count  Dtype  \n",
      "---  ------                  --------------  -----  \n",
      " 0   State                   2666 non-null   object \n",
      " 1   Account length          2666 non-null   int64  \n",
      " 2   Area code               2666 non-null   int64  \n",
      " 3   International plan      2666 non-null   object \n",
      " 4   Voice mail plan         2666 non-null   object \n",
      " 5   Number vmail messages   2666 non-null   int64  \n",
      " 6   Total day minutes       2666 non-null   float64\n",
      " 7   Total day calls         2666 non-null   int64  \n",
      " 8   Total day charge        2666 non-null   float64\n",
      " 9   Total eve minutes       2666 non-null   float64\n",
      " 10  Total eve calls         2666 non-null   int64  \n",
      " 11  Total eve charge        2666 non-null   float64\n",
      " 12  Total night minutes     2666 non-null   float64\n",
      " 13  Total night calls       2666 non-null   int64  \n",
      " 14  Total night charge      2666 non-null   float64\n",
      " 15  Total intl minutes      2666 non-null   float64\n",
      " 16  Total intl calls        2666 non-null   int64  \n",
      " 17  Total intl charge       2666 non-null   float64\n",
      " 18  Customer service calls  2666 non-null   int64  \n",
      " 19  Churn                   2666 non-null   bool   \n",
      "dtypes: bool(1), float64(8), int64(8), object(3)\n",
      "memory usage: 398.5+ KB\n"
     ]
    }
   ],
   "source": [
    "df.info()"
   ]
  },
  {
   "cell_type": "code",
   "execution_count": 6,
   "metadata": {},
   "outputs": [
    {
     "data": {
      "text/html": [
       "<div>\n",
       "<style scoped>\n",
       "    .dataframe tbody tr th:only-of-type {\n",
       "        vertical-align: middle;\n",
       "    }\n",
       "\n",
       "    .dataframe tbody tr th {\n",
       "        vertical-align: top;\n",
       "    }\n",
       "\n",
       "    .dataframe thead th {\n",
       "        text-align: right;\n",
       "    }\n",
       "</style>\n",
       "<table border=\"1\" class=\"dataframe\">\n",
       "  <thead>\n",
       "    <tr style=\"text-align: right;\">\n",
       "      <th></th>\n",
       "      <th>State</th>\n",
       "      <th>Account length</th>\n",
       "      <th>Area code</th>\n",
       "      <th>International plan</th>\n",
       "      <th>Voice mail plan</th>\n",
       "      <th>Number vmail messages</th>\n",
       "      <th>Total day minutes</th>\n",
       "      <th>Total day calls</th>\n",
       "      <th>Total day charge</th>\n",
       "      <th>Total eve minutes</th>\n",
       "      <th>Total eve calls</th>\n",
       "      <th>Total eve charge</th>\n",
       "      <th>Total night minutes</th>\n",
       "      <th>Total night calls</th>\n",
       "      <th>Total night charge</th>\n",
       "      <th>Total intl minutes</th>\n",
       "      <th>Total intl calls</th>\n",
       "      <th>Total intl charge</th>\n",
       "      <th>Customer service calls</th>\n",
       "      <th>Churn</th>\n",
       "    </tr>\n",
       "  </thead>\n",
       "  <tbody>\n",
       "    <tr>\n",
       "      <th>0</th>\n",
       "      <td>KS</td>\n",
       "      <td>128</td>\n",
       "      <td>415</td>\n",
       "      <td>No</td>\n",
       "      <td>Yes</td>\n",
       "      <td>25</td>\n",
       "      <td>265.1</td>\n",
       "      <td>110</td>\n",
       "      <td>45.07</td>\n",
       "      <td>197.4</td>\n",
       "      <td>99</td>\n",
       "      <td>16.78</td>\n",
       "      <td>244.7</td>\n",
       "      <td>91</td>\n",
       "      <td>11.01</td>\n",
       "      <td>10.0</td>\n",
       "      <td>3</td>\n",
       "      <td>2.70</td>\n",
       "      <td>1</td>\n",
       "      <td>False</td>\n",
       "    </tr>\n",
       "    <tr>\n",
       "      <th>1</th>\n",
       "      <td>OH</td>\n",
       "      <td>107</td>\n",
       "      <td>415</td>\n",
       "      <td>No</td>\n",
       "      <td>Yes</td>\n",
       "      <td>26</td>\n",
       "      <td>161.6</td>\n",
       "      <td>123</td>\n",
       "      <td>27.47</td>\n",
       "      <td>195.5</td>\n",
       "      <td>103</td>\n",
       "      <td>16.62</td>\n",
       "      <td>254.4</td>\n",
       "      <td>103</td>\n",
       "      <td>11.45</td>\n",
       "      <td>13.7</td>\n",
       "      <td>3</td>\n",
       "      <td>3.70</td>\n",
       "      <td>1</td>\n",
       "      <td>False</td>\n",
       "    </tr>\n",
       "    <tr>\n",
       "      <th>2</th>\n",
       "      <td>NJ</td>\n",
       "      <td>137</td>\n",
       "      <td>415</td>\n",
       "      <td>No</td>\n",
       "      <td>No</td>\n",
       "      <td>0</td>\n",
       "      <td>243.4</td>\n",
       "      <td>114</td>\n",
       "      <td>41.38</td>\n",
       "      <td>121.2</td>\n",
       "      <td>110</td>\n",
       "      <td>10.30</td>\n",
       "      <td>162.6</td>\n",
       "      <td>104</td>\n",
       "      <td>7.32</td>\n",
       "      <td>12.2</td>\n",
       "      <td>5</td>\n",
       "      <td>3.29</td>\n",
       "      <td>0</td>\n",
       "      <td>False</td>\n",
       "    </tr>\n",
       "    <tr>\n",
       "      <th>3</th>\n",
       "      <td>OH</td>\n",
       "      <td>84</td>\n",
       "      <td>408</td>\n",
       "      <td>Yes</td>\n",
       "      <td>No</td>\n",
       "      <td>0</td>\n",
       "      <td>299.4</td>\n",
       "      <td>71</td>\n",
       "      <td>50.90</td>\n",
       "      <td>61.9</td>\n",
       "      <td>88</td>\n",
       "      <td>5.26</td>\n",
       "      <td>196.9</td>\n",
       "      <td>89</td>\n",
       "      <td>8.86</td>\n",
       "      <td>6.6</td>\n",
       "      <td>7</td>\n",
       "      <td>1.78</td>\n",
       "      <td>2</td>\n",
       "      <td>False</td>\n",
       "    </tr>\n",
       "    <tr>\n",
       "      <th>4</th>\n",
       "      <td>OK</td>\n",
       "      <td>75</td>\n",
       "      <td>415</td>\n",
       "      <td>Yes</td>\n",
       "      <td>No</td>\n",
       "      <td>0</td>\n",
       "      <td>166.7</td>\n",
       "      <td>113</td>\n",
       "      <td>28.34</td>\n",
       "      <td>148.3</td>\n",
       "      <td>122</td>\n",
       "      <td>12.61</td>\n",
       "      <td>186.9</td>\n",
       "      <td>121</td>\n",
       "      <td>8.41</td>\n",
       "      <td>10.1</td>\n",
       "      <td>3</td>\n",
       "      <td>2.73</td>\n",
       "      <td>3</td>\n",
       "      <td>False</td>\n",
       "    </tr>\n",
       "  </tbody>\n",
       "</table>\n",
       "</div>"
      ],
      "text/plain": [
       "  State  Account length  Area code International plan Voice mail plan  \\\n",
       "0    KS             128        415                 No             Yes   \n",
       "1    OH             107        415                 No             Yes   \n",
       "2    NJ             137        415                 No              No   \n",
       "3    OH              84        408                Yes              No   \n",
       "4    OK              75        415                Yes              No   \n",
       "\n",
       "   Number vmail messages  Total day minutes  Total day calls  \\\n",
       "0                     25              265.1              110   \n",
       "1                     26              161.6              123   \n",
       "2                      0              243.4              114   \n",
       "3                      0              299.4               71   \n",
       "4                      0              166.7              113   \n",
       "\n",
       "   Total day charge  Total eve minutes  Total eve calls  Total eve charge  \\\n",
       "0             45.07              197.4               99             16.78   \n",
       "1             27.47              195.5              103             16.62   \n",
       "2             41.38              121.2              110             10.30   \n",
       "3             50.90               61.9               88              5.26   \n",
       "4             28.34              148.3              122             12.61   \n",
       "\n",
       "   Total night minutes  Total night calls  Total night charge  \\\n",
       "0                244.7                 91               11.01   \n",
       "1                254.4                103               11.45   \n",
       "2                162.6                104                7.32   \n",
       "3                196.9                 89                8.86   \n",
       "4                186.9                121                8.41   \n",
       "\n",
       "   Total intl minutes  Total intl calls  Total intl charge  \\\n",
       "0                10.0                 3               2.70   \n",
       "1                13.7                 3               3.70   \n",
       "2                12.2                 5               3.29   \n",
       "3                 6.6                 7               1.78   \n",
       "4                10.1                 3               2.73   \n",
       "\n",
       "   Customer service calls  Churn  \n",
       "0                       1  False  \n",
       "1                       1  False  \n",
       "2                       0  False  \n",
       "3                       2  False  \n",
       "4                       3  False  "
      ]
     },
     "execution_count": 6,
     "metadata": {},
     "output_type": "execute_result"
    }
   ],
   "source": [
    "df.head(5)"
   ]
  },
  {
   "cell_type": "code",
   "execution_count": 7,
   "metadata": {},
   "outputs": [
    {
     "data": {
      "text/plain": [
       "Index(['State', 'Account length', 'Area code', 'International plan',\n",
       "       'Voice mail plan', 'Number vmail messages', 'Total day minutes',\n",
       "       'Total day calls', 'Total day charge', 'Total eve minutes',\n",
       "       'Total eve calls', 'Total eve charge', 'Total night minutes',\n",
       "       'Total night calls', 'Total night charge', 'Total intl minutes',\n",
       "       'Total intl calls', 'Total intl charge', 'Customer service calls',\n",
       "       'Churn'],\n",
       "      dtype='object')"
      ]
     },
     "execution_count": 7,
     "metadata": {},
     "output_type": "execute_result"
    }
   ],
   "source": [
    "df.columns"
   ]
  },
  {
   "cell_type": "code",
   "execution_count": 8,
   "metadata": {},
   "outputs": [],
   "source": [
    "vars_c = ['Number vmail messages', 'Total day minutes', 'Total day calls', 'Total day charge', 'Total eve minutes',\n",
    "       'Total eve calls', 'Total eve charge', 'Total night minutes',\n",
    "       'Total night calls', 'Total night charge', 'Total intl minutes',\n",
    "       'Total intl calls', 'Total intl charge',  'Customer service calls']\n",
    "vars_v = ['Account length', 'International plan', 'Voice mail plan']\n",
    "vars_g = ['State', 'Area code']"
   ]
  },
  {
   "cell_type": "code",
   "execution_count": 9,
   "metadata": {},
   "outputs": [],
   "source": [
    "\n",
    "df = utilities.rename_variables(df, vars_c, 'c_')\n",
    "df = utilities.rename_variables(df, vars_v, 'v_')\n",
    "df = utilities.rename_variables(df, vars_g, 'g_')"
   ]
  },
  {
   "cell_type": "code",
   "execution_count": 10,
   "metadata": {},
   "outputs": [
    {
     "data": {
      "text/html": [
       "<div>\n",
       "<style scoped>\n",
       "    .dataframe tbody tr th:only-of-type {\n",
       "        vertical-align: middle;\n",
       "    }\n",
       "\n",
       "    .dataframe tbody tr th {\n",
       "        vertical-align: top;\n",
       "    }\n",
       "\n",
       "    .dataframe thead th {\n",
       "        text-align: right;\n",
       "    }\n",
       "</style>\n",
       "<table border=\"1\" class=\"dataframe\">\n",
       "  <thead>\n",
       "    <tr style=\"text-align: right;\">\n",
       "      <th></th>\n",
       "      <th>g_state</th>\n",
       "      <th>v_account length</th>\n",
       "      <th>g_area code</th>\n",
       "      <th>v_international plan</th>\n",
       "      <th>v_voice mail plan</th>\n",
       "      <th>c_number vmail messages</th>\n",
       "      <th>c_total day minutes</th>\n",
       "      <th>c_total day calls</th>\n",
       "      <th>c_total day charge</th>\n",
       "      <th>c_total eve minutes</th>\n",
       "      <th>c_total eve calls</th>\n",
       "      <th>c_total eve charge</th>\n",
       "      <th>c_total night minutes</th>\n",
       "      <th>c_total night calls</th>\n",
       "      <th>c_total night charge</th>\n",
       "      <th>c_total intl minutes</th>\n",
       "      <th>c_total intl calls</th>\n",
       "      <th>c_total intl charge</th>\n",
       "      <th>c_customer service calls</th>\n",
       "      <th>Churn</th>\n",
       "    </tr>\n",
       "  </thead>\n",
       "  <tbody>\n",
       "    <tr>\n",
       "      <th>0</th>\n",
       "      <td>KS</td>\n",
       "      <td>128</td>\n",
       "      <td>415</td>\n",
       "      <td>No</td>\n",
       "      <td>Yes</td>\n",
       "      <td>25</td>\n",
       "      <td>265.1</td>\n",
       "      <td>110</td>\n",
       "      <td>45.07</td>\n",
       "      <td>197.4</td>\n",
       "      <td>99</td>\n",
       "      <td>16.78</td>\n",
       "      <td>244.7</td>\n",
       "      <td>91</td>\n",
       "      <td>11.01</td>\n",
       "      <td>10.0</td>\n",
       "      <td>3</td>\n",
       "      <td>2.70</td>\n",
       "      <td>1</td>\n",
       "      <td>False</td>\n",
       "    </tr>\n",
       "    <tr>\n",
       "      <th>1</th>\n",
       "      <td>OH</td>\n",
       "      <td>107</td>\n",
       "      <td>415</td>\n",
       "      <td>No</td>\n",
       "      <td>Yes</td>\n",
       "      <td>26</td>\n",
       "      <td>161.6</td>\n",
       "      <td>123</td>\n",
       "      <td>27.47</td>\n",
       "      <td>195.5</td>\n",
       "      <td>103</td>\n",
       "      <td>16.62</td>\n",
       "      <td>254.4</td>\n",
       "      <td>103</td>\n",
       "      <td>11.45</td>\n",
       "      <td>13.7</td>\n",
       "      <td>3</td>\n",
       "      <td>3.70</td>\n",
       "      <td>1</td>\n",
       "      <td>False</td>\n",
       "    </tr>\n",
       "    <tr>\n",
       "      <th>2</th>\n",
       "      <td>NJ</td>\n",
       "      <td>137</td>\n",
       "      <td>415</td>\n",
       "      <td>No</td>\n",
       "      <td>No</td>\n",
       "      <td>0</td>\n",
       "      <td>243.4</td>\n",
       "      <td>114</td>\n",
       "      <td>41.38</td>\n",
       "      <td>121.2</td>\n",
       "      <td>110</td>\n",
       "      <td>10.30</td>\n",
       "      <td>162.6</td>\n",
       "      <td>104</td>\n",
       "      <td>7.32</td>\n",
       "      <td>12.2</td>\n",
       "      <td>5</td>\n",
       "      <td>3.29</td>\n",
       "      <td>0</td>\n",
       "      <td>False</td>\n",
       "    </tr>\n",
       "    <tr>\n",
       "      <th>3</th>\n",
       "      <td>OH</td>\n",
       "      <td>84</td>\n",
       "      <td>408</td>\n",
       "      <td>Yes</td>\n",
       "      <td>No</td>\n",
       "      <td>0</td>\n",
       "      <td>299.4</td>\n",
       "      <td>71</td>\n",
       "      <td>50.90</td>\n",
       "      <td>61.9</td>\n",
       "      <td>88</td>\n",
       "      <td>5.26</td>\n",
       "      <td>196.9</td>\n",
       "      <td>89</td>\n",
       "      <td>8.86</td>\n",
       "      <td>6.6</td>\n",
       "      <td>7</td>\n",
       "      <td>1.78</td>\n",
       "      <td>2</td>\n",
       "      <td>False</td>\n",
       "    </tr>\n",
       "    <tr>\n",
       "      <th>4</th>\n",
       "      <td>OK</td>\n",
       "      <td>75</td>\n",
       "      <td>415</td>\n",
       "      <td>Yes</td>\n",
       "      <td>No</td>\n",
       "      <td>0</td>\n",
       "      <td>166.7</td>\n",
       "      <td>113</td>\n",
       "      <td>28.34</td>\n",
       "      <td>148.3</td>\n",
       "      <td>122</td>\n",
       "      <td>12.61</td>\n",
       "      <td>186.9</td>\n",
       "      <td>121</td>\n",
       "      <td>8.41</td>\n",
       "      <td>10.1</td>\n",
       "      <td>3</td>\n",
       "      <td>2.73</td>\n",
       "      <td>3</td>\n",
       "      <td>False</td>\n",
       "    </tr>\n",
       "  </tbody>\n",
       "</table>\n",
       "</div>"
      ],
      "text/plain": [
       "  g_state  v_account length  g_area code v_international plan  \\\n",
       "0      KS               128          415                   No   \n",
       "1      OH               107          415                   No   \n",
       "2      NJ               137          415                   No   \n",
       "3      OH                84          408                  Yes   \n",
       "4      OK                75          415                  Yes   \n",
       "\n",
       "  v_voice mail plan  c_number vmail messages  c_total day minutes  \\\n",
       "0               Yes                       25                265.1   \n",
       "1               Yes                       26                161.6   \n",
       "2                No                        0                243.4   \n",
       "3                No                        0                299.4   \n",
       "4                No                        0                166.7   \n",
       "\n",
       "   c_total day calls  c_total day charge  c_total eve minutes  \\\n",
       "0                110               45.07                197.4   \n",
       "1                123               27.47                195.5   \n",
       "2                114               41.38                121.2   \n",
       "3                 71               50.90                 61.9   \n",
       "4                113               28.34                148.3   \n",
       "\n",
       "   c_total eve calls  c_total eve charge  c_total night minutes  \\\n",
       "0                 99               16.78                  244.7   \n",
       "1                103               16.62                  254.4   \n",
       "2                110               10.30                  162.6   \n",
       "3                 88                5.26                  196.9   \n",
       "4                122               12.61                  186.9   \n",
       "\n",
       "   c_total night calls  c_total night charge  c_total intl minutes  \\\n",
       "0                   91                 11.01                  10.0   \n",
       "1                  103                 11.45                  13.7   \n",
       "2                  104                  7.32                  12.2   \n",
       "3                   89                  8.86                   6.6   \n",
       "4                  121                  8.41                  10.1   \n",
       "\n",
       "   c_total intl calls  c_total intl charge  c_customer service calls  Churn  \n",
       "0                   3                 2.70                         1  False  \n",
       "1                   3                 3.70                         1  False  \n",
       "2                   5                 3.29                         0  False  \n",
       "3                   7                 1.78                         2  False  \n",
       "4                   3                 2.73                         3  False  "
      ]
     },
     "execution_count": 10,
     "metadata": {},
     "output_type": "execute_result"
    }
   ],
   "source": [
    "df.head(5)"
   ]
  },
  {
   "cell_type": "code",
   "execution_count": 11,
   "metadata": {},
   "outputs": [
    {
     "data": {
      "text/plain": [
       "<AxesSubplot:>"
      ]
     },
     "execution_count": 11,
     "metadata": {},
     "output_type": "execute_result"
    },
    {
     "data": {
      "image/png": "[encoded data removed]",
      "text/plain": [
       "<Figure size 1800x720 with 3 Axes>"
      ]
     },
     "metadata": {
      "needs_background": "light"
     },
     "output_type": "display_data"
    }
   ],
   "source": [
    "msno.bar(df)"
   ]
  },
  {
   "cell_type": "code",
   "execution_count": 12,
   "metadata": {},
   "outputs": [
    {
     "data": {
      "text/html": [
       "<div>\n",
       "<style scoped>\n",
       "    .dataframe tbody tr th:only-of-type {\n",
       "        vertical-align: middle;\n",
       "    }\n",
       "\n",
       "    .dataframe tbody tr th {\n",
       "        vertical-align: top;\n",
       "    }\n",
       "\n",
       "    .dataframe thead th {\n",
       "        text-align: right;\n",
       "    }\n",
       "</style>\n",
       "<table border=\"1\" class=\"dataframe\">\n",
       "  <thead>\n",
       "    <tr style=\"text-align: right;\">\n",
       "      <th></th>\n",
       "      <th>c_number vmail messages</th>\n",
       "      <th>c_total day minutes</th>\n",
       "      <th>c_total day calls</th>\n",
       "      <th>c_total day charge</th>\n",
       "      <th>c_total eve minutes</th>\n",
       "      <th>c_total eve calls</th>\n",
       "      <th>c_total eve charge</th>\n",
       "      <th>c_total night minutes</th>\n",
       "      <th>c_total night calls</th>\n",
       "      <th>c_total night charge</th>\n",
       "      <th>c_total intl minutes</th>\n",
       "      <th>c_total intl calls</th>\n",
       "      <th>c_total intl charge</th>\n",
       "      <th>c_customer service calls</th>\n",
       "    </tr>\n",
       "  </thead>\n",
       "  <tbody>\n",
       "    <tr>\n",
       "      <th>count</th>\n",
       "      <td>2666.000000</td>\n",
       "      <td>2666.00000</td>\n",
       "      <td>2666.000000</td>\n",
       "      <td>2666.000000</td>\n",
       "      <td>2666.000000</td>\n",
       "      <td>2666.000000</td>\n",
       "      <td>2666.000000</td>\n",
       "      <td>2666.000000</td>\n",
       "      <td>2666.000000</td>\n",
       "      <td>2666.000000</td>\n",
       "      <td>2666.000000</td>\n",
       "      <td>2666.000000</td>\n",
       "      <td>2666.000000</td>\n",
       "      <td>2666.000000</td>\n",
       "    </tr>\n",
       "    <tr>\n",
       "      <th>mean</th>\n",
       "      <td>8.021755</td>\n",
       "      <td>179.48162</td>\n",
       "      <td>100.310203</td>\n",
       "      <td>30.512404</td>\n",
       "      <td>200.386159</td>\n",
       "      <td>100.023631</td>\n",
       "      <td>17.033072</td>\n",
       "      <td>201.168942</td>\n",
       "      <td>100.106152</td>\n",
       "      <td>9.052689</td>\n",
       "      <td>10.237022</td>\n",
       "      <td>4.467367</td>\n",
       "      <td>2.764490</td>\n",
       "      <td>1.562641</td>\n",
       "    </tr>\n",
       "    <tr>\n",
       "      <th>std</th>\n",
       "      <td>13.612277</td>\n",
       "      <td>54.21035</td>\n",
       "      <td>19.988162</td>\n",
       "      <td>9.215733</td>\n",
       "      <td>50.951515</td>\n",
       "      <td>20.161445</td>\n",
       "      <td>4.330864</td>\n",
       "      <td>50.780323</td>\n",
       "      <td>19.418459</td>\n",
       "      <td>2.285120</td>\n",
       "      <td>2.788349</td>\n",
       "      <td>2.456195</td>\n",
       "      <td>0.752812</td>\n",
       "      <td>1.311236</td>\n",
       "    </tr>\n",
       "    <tr>\n",
       "      <th>min</th>\n",
       "      <td>0.000000</td>\n",
       "      <td>0.00000</td>\n",
       "      <td>0.000000</td>\n",
       "      <td>0.000000</td>\n",
       "      <td>0.000000</td>\n",
       "      <td>0.000000</td>\n",
       "      <td>0.000000</td>\n",
       "      <td>43.700000</td>\n",
       "      <td>33.000000</td>\n",
       "      <td>1.970000</td>\n",
       "      <td>0.000000</td>\n",
       "      <td>0.000000</td>\n",
       "      <td>0.000000</td>\n",
       "      <td>0.000000</td>\n",
       "    </tr>\n",
       "    <tr>\n",
       "      <th>10%</th>\n",
       "      <td>0.000000</td>\n",
       "      <td>110.40000</td>\n",
       "      <td>74.500000</td>\n",
       "      <td>18.770000</td>\n",
       "      <td>135.950000</td>\n",
       "      <td>74.000000</td>\n",
       "      <td>11.555000</td>\n",
       "      <td>136.550000</td>\n",
       "      <td>75.000000</td>\n",
       "      <td>6.145000</td>\n",
       "      <td>6.700000</td>\n",
       "      <td>2.000000</td>\n",
       "      <td>1.810000</td>\n",
       "      <td>0.000000</td>\n",
       "    </tr>\n",
       "    <tr>\n",
       "      <th>20%</th>\n",
       "      <td>0.000000</td>\n",
       "      <td>134.30000</td>\n",
       "      <td>84.000000</td>\n",
       "      <td>22.830000</td>\n",
       "      <td>157.000000</td>\n",
       "      <td>83.000000</td>\n",
       "      <td>13.350000</td>\n",
       "      <td>158.700000</td>\n",
       "      <td>83.000000</td>\n",
       "      <td>7.140000</td>\n",
       "      <td>8.000000</td>\n",
       "      <td>3.000000</td>\n",
       "      <td>2.160000</td>\n",
       "      <td>0.000000</td>\n",
       "    </tr>\n",
       "    <tr>\n",
       "      <th>30%</th>\n",
       "      <td>0.000000</td>\n",
       "      <td>150.60000</td>\n",
       "      <td>90.000000</td>\n",
       "      <td>25.600000</td>\n",
       "      <td>171.600000</td>\n",
       "      <td>89.000000</td>\n",
       "      <td>14.585000</td>\n",
       "      <td>174.000000</td>\n",
       "      <td>90.000000</td>\n",
       "      <td>7.830000</td>\n",
       "      <td>8.900000</td>\n",
       "      <td>3.000000</td>\n",
       "      <td>2.400000</td>\n",
       "      <td>1.000000</td>\n",
       "    </tr>\n",
       "    <tr>\n",
       "      <th>40%</th>\n",
       "      <td>0.000000</td>\n",
       "      <td>165.80000</td>\n",
       "      <td>96.000000</td>\n",
       "      <td>28.190000</td>\n",
       "      <td>187.100000</td>\n",
       "      <td>95.000000</td>\n",
       "      <td>15.900000</td>\n",
       "      <td>188.200000</td>\n",
       "      <td>95.000000</td>\n",
       "      <td>8.470000</td>\n",
       "      <td>9.600000</td>\n",
       "      <td>3.000000</td>\n",
       "      <td>2.590000</td>\n",
       "      <td>1.000000</td>\n",
       "    </tr>\n",
       "    <tr>\n",
       "      <th>50%</th>\n",
       "      <td>0.000000</td>\n",
       "      <td>179.95000</td>\n",
       "      <td>101.000000</td>\n",
       "      <td>30.590000</td>\n",
       "      <td>200.900000</td>\n",
       "      <td>100.000000</td>\n",
       "      <td>17.080000</td>\n",
       "      <td>201.150000</td>\n",
       "      <td>100.000000</td>\n",
       "      <td>9.050000</td>\n",
       "      <td>10.200000</td>\n",
       "      <td>4.000000</td>\n",
       "      <td>2.750000</td>\n",
       "      <td>1.000000</td>\n",
       "    </tr>\n",
       "    <tr>\n",
       "      <th>60%</th>\n",
       "      <td>0.000000</td>\n",
       "      <td>194.30000</td>\n",
       "      <td>106.000000</td>\n",
       "      <td>33.030000</td>\n",
       "      <td>213.100000</td>\n",
       "      <td>105.000000</td>\n",
       "      <td>18.110000</td>\n",
       "      <td>214.200000</td>\n",
       "      <td>105.000000</td>\n",
       "      <td>9.640000</td>\n",
       "      <td>11.000000</td>\n",
       "      <td>5.000000</td>\n",
       "      <td>2.970000</td>\n",
       "      <td>2.000000</td>\n",
       "    </tr>\n",
       "    <tr>\n",
       "      <th>70%</th>\n",
       "      <td>0.000000</td>\n",
       "      <td>207.70000</td>\n",
       "      <td>111.000000</td>\n",
       "      <td>35.310000</td>\n",
       "      <td>226.700000</td>\n",
       "      <td>111.000000</td>\n",
       "      <td>19.270000</td>\n",
       "      <td>227.800000</td>\n",
       "      <td>110.000000</td>\n",
       "      <td>10.250000</td>\n",
       "      <td>11.700000</td>\n",
       "      <td>5.000000</td>\n",
       "      <td>3.160000</td>\n",
       "      <td>2.000000</td>\n",
       "    </tr>\n",
       "    <tr>\n",
       "      <th>80%</th>\n",
       "      <td>25.000000</td>\n",
       "      <td>223.50000</td>\n",
       "      <td>117.000000</td>\n",
       "      <td>38.000000</td>\n",
       "      <td>244.000000</td>\n",
       "      <td>117.000000</td>\n",
       "      <td>20.740000</td>\n",
       "      <td>244.300000</td>\n",
       "      <td>117.000000</td>\n",
       "      <td>10.990000</td>\n",
       "      <td>12.600000</td>\n",
       "      <td>6.000000</td>\n",
       "      <td>3.400000</td>\n",
       "      <td>3.000000</td>\n",
       "    </tr>\n",
       "    <tr>\n",
       "      <th>90%</th>\n",
       "      <td>32.000000</td>\n",
       "      <td>248.85000</td>\n",
       "      <td>125.000000</td>\n",
       "      <td>42.305000</td>\n",
       "      <td>265.800000</td>\n",
       "      <td>125.000000</td>\n",
       "      <td>22.590000</td>\n",
       "      <td>264.750000</td>\n",
       "      <td>124.000000</td>\n",
       "      <td>11.915000</td>\n",
       "      <td>13.700000</td>\n",
       "      <td>8.000000</td>\n",
       "      <td>3.700000</td>\n",
       "      <td>3.000000</td>\n",
       "    </tr>\n",
       "    <tr>\n",
       "      <th>100%</th>\n",
       "      <td>50.000000</td>\n",
       "      <td>350.80000</td>\n",
       "      <td>160.000000</td>\n",
       "      <td>59.640000</td>\n",
       "      <td>363.700000</td>\n",
       "      <td>170.000000</td>\n",
       "      <td>30.910000</td>\n",
       "      <td>395.000000</td>\n",
       "      <td>166.000000</td>\n",
       "      <td>17.770000</td>\n",
       "      <td>20.000000</td>\n",
       "      <td>20.000000</td>\n",
       "      <td>5.400000</td>\n",
       "      <td>9.000000</td>\n",
       "    </tr>\n",
       "    <tr>\n",
       "      <th>max</th>\n",
       "      <td>50.000000</td>\n",
       "      <td>350.80000</td>\n",
       "      <td>160.000000</td>\n",
       "      <td>59.640000</td>\n",
       "      <td>363.700000</td>\n",
       "      <td>170.000000</td>\n",
       "      <td>30.910000</td>\n",
       "      <td>395.000000</td>\n",
       "      <td>166.000000</td>\n",
       "      <td>17.770000</td>\n",
       "      <td>20.000000</td>\n",
       "      <td>20.000000</td>\n",
       "      <td>5.400000</td>\n",
       "      <td>9.000000</td>\n",
       "    </tr>\n",
       "  </tbody>\n",
       "</table>\n",
       "</div>"
      ],
      "text/plain": [
       "       c_number vmail messages  c_total day minutes  c_total day calls  \\\n",
       "count              2666.000000           2666.00000        2666.000000   \n",
       "mean                  8.021755            179.48162         100.310203   \n",
       "std                  13.612277             54.21035          19.988162   \n",
       "min                   0.000000              0.00000           0.000000   \n",
       "10%                   0.000000            110.40000          74.500000   \n",
       "20%                   0.000000            134.30000          84.000000   \n",
       "30%                   0.000000            150.60000          90.000000   \n",
       "40%                   0.000000            165.80000          96.000000   \n",
       "50%                   0.000000            179.95000         101.000000   \n",
       "60%                   0.000000            194.30000         106.000000   \n",
       "70%                   0.000000            207.70000         111.000000   \n",
       "80%                  25.000000            223.50000         117.000000   \n",
       "90%                  32.000000            248.85000         125.000000   \n",
       "100%                 50.000000            350.80000         160.000000   \n",
       "max                  50.000000            350.80000         160.000000   \n",
       "\n",
       "       c_total day charge  c_total eve minutes  c_total eve calls  \\\n",
       "count         2666.000000          2666.000000        2666.000000   \n",
       "mean            30.512404           200.386159         100.023631   \n",
       "std              9.215733            50.951515          20.161445   \n",
       "min              0.000000             0.000000           0.000000   \n",
       "10%             18.770000           135.950000          74.000000   \n",
       "20%             22.830000           157.000000          83.000000   \n",
       "30%             25.600000           171.600000          89.000000   \n",
       "40%             28.190000           187.100000          95.000000   \n",
       "50%             30.590000           200.900000         100.000000   \n",
       "60%             33.030000           213.100000         105.000000   \n",
       "70%             35.310000           226.700000         111.000000   \n",
       "80%             38.000000           244.000000         117.000000   \n",
       "90%             42.305000           265.800000         125.000000   \n",
       "100%            59.640000           363.700000         170.000000   \n",
       "max             59.640000           363.700000         170.000000   \n",
       "\n",
       "       c_total eve charge  c_total night minutes  c_total night calls  \\\n",
       "count         2666.000000            2666.000000          2666.000000   \n",
       "mean            17.033072             201.168942           100.106152   \n",
       "std              4.330864              50.780323            19.418459   \n",
       "min              0.000000              43.700000            33.000000   \n",
       "10%             11.555000             136.550000            75.000000   \n",
       "20%             13.350000             158.700000            83.000000   \n",
       "30%             14.585000             174.000000            90.000000   \n",
       "40%             15.900000             188.200000            95.000000   \n",
       "50%             17.080000             201.150000           100.000000   \n",
       "60%             18.110000             214.200000           105.000000   \n",
       "70%             19.270000             227.800000           110.000000   \n",
       "80%             20.740000             244.300000           117.000000   \n",
       "90%             22.590000             264.750000           124.000000   \n",
       "100%            30.910000             395.000000           166.000000   \n",
       "max             30.910000             395.000000           166.000000   \n",
       "\n",
       "       c_total night charge  c_total intl minutes  c_total intl calls  \\\n",
       "count           2666.000000           2666.000000         2666.000000   \n",
       "mean               9.052689             10.237022            4.467367   \n",
       "std                2.285120              2.788349            2.456195   \n",
       "min                1.970000              0.000000            0.000000   \n",
       "10%                6.145000              6.700000            2.000000   \n",
       "20%                7.140000              8.000000            3.000000   \n",
       "30%                7.830000              8.900000            3.000000   \n",
       "40%                8.470000              9.600000            3.000000   \n",
       "50%                9.050000             10.200000            4.000000   \n",
       "60%                9.640000             11.000000            5.000000   \n",
       "70%               10.250000             11.700000            5.000000   \n",
       "80%               10.990000             12.600000            6.000000   \n",
       "90%               11.915000             13.700000            8.000000   \n",
       "100%              17.770000             20.000000           20.000000   \n",
       "max               17.770000             20.000000           20.000000   \n",
       "\n",
       "       c_total intl charge  c_customer service calls  \n",
       "count          2666.000000               2666.000000  \n",
       "mean              2.764490                  1.562641  \n",
       "std               0.752812                  1.311236  \n",
       "min               0.000000                  0.000000  \n",
       "10%               1.810000                  0.000000  \n",
       "20%               2.160000                  0.000000  \n",
       "30%               2.400000                  1.000000  \n",
       "40%               2.590000                  1.000000  \n",
       "50%               2.750000                  1.000000  \n",
       "60%               2.970000                  2.000000  \n",
       "70%               3.160000                  2.000000  \n",
       "80%               3.400000                  3.000000  \n",
       "90%               3.700000                  3.000000  \n",
       "100%              5.400000                  9.000000  \n",
       "max               5.400000                  9.000000  "
      ]
     },
     "execution_count": 12,
     "metadata": {},
     "output_type": "execute_result"
    }
   ],
   "source": [
    "df[list(df.filter(like='c_'))].describe(percentiles = [i/10 for i in range(1, 11)])"
   ]
  },
  {
   "cell_type": "code",
   "execution_count": 13,
   "metadata": {},
   "outputs": [
    {
     "data": {
      "text/html": [
       "<div>\n",
       "<style scoped>\n",
       "    .dataframe tbody tr th:only-of-type {\n",
       "        vertical-align: middle;\n",
       "    }\n",
       "\n",
       "    .dataframe tbody tr th {\n",
       "        vertical-align: top;\n",
       "    }\n",
       "\n",
       "    .dataframe thead th {\n",
       "        text-align: right;\n",
       "    }\n",
       "</style>\n",
       "<table border=\"1\" class=\"dataframe\">\n",
       "  <thead>\n",
       "    <tr style=\"text-align: right;\">\n",
       "      <th></th>\n",
       "      <th>c_number vmail messages</th>\n",
       "      <th>c_total day minutes</th>\n",
       "      <th>c_total day calls</th>\n",
       "      <th>c_total day charge</th>\n",
       "      <th>c_total eve minutes</th>\n",
       "      <th>c_total eve calls</th>\n",
       "      <th>c_total eve charge</th>\n",
       "      <th>c_total night minutes</th>\n",
       "      <th>c_total night calls</th>\n",
       "      <th>c_total night charge</th>\n",
       "      <th>c_total intl minutes</th>\n",
       "      <th>c_total intl calls</th>\n",
       "      <th>c_total intl charge</th>\n",
       "      <th>c_customer service calls</th>\n",
       "    </tr>\n",
       "  </thead>\n",
       "  <tbody>\n",
       "    <tr>\n",
       "      <th>count</th>\n",
       "      <td>2666.000000</td>\n",
       "      <td>2666.00000</td>\n",
       "      <td>2666.000000</td>\n",
       "      <td>2666.000000</td>\n",
       "      <td>2666.000000</td>\n",
       "      <td>2666.000000</td>\n",
       "      <td>2666.000000</td>\n",
       "      <td>2666.000000</td>\n",
       "      <td>2666.000000</td>\n",
       "      <td>2666.000000</td>\n",
       "      <td>2666.000000</td>\n",
       "      <td>2666.000000</td>\n",
       "      <td>2666.000000</td>\n",
       "      <td>2666.000000</td>\n",
       "    </tr>\n",
       "    <tr>\n",
       "      <th>mean</th>\n",
       "      <td>8.021755</td>\n",
       "      <td>179.48162</td>\n",
       "      <td>100.310203</td>\n",
       "      <td>30.512404</td>\n",
       "      <td>200.386159</td>\n",
       "      <td>100.023631</td>\n",
       "      <td>17.033072</td>\n",
       "      <td>201.168942</td>\n",
       "      <td>100.106152</td>\n",
       "      <td>9.052689</td>\n",
       "      <td>10.237022</td>\n",
       "      <td>4.467367</td>\n",
       "      <td>2.764490</td>\n",
       "      <td>1.562641</td>\n",
       "    </tr>\n",
       "    <tr>\n",
       "      <th>std</th>\n",
       "      <td>13.612277</td>\n",
       "      <td>54.21035</td>\n",
       "      <td>19.988162</td>\n",
       "      <td>9.215733</td>\n",
       "      <td>50.951515</td>\n",
       "      <td>20.161445</td>\n",
       "      <td>4.330864</td>\n",
       "      <td>50.780323</td>\n",
       "      <td>19.418459</td>\n",
       "      <td>2.285120</td>\n",
       "      <td>2.788349</td>\n",
       "      <td>2.456195</td>\n",
       "      <td>0.752812</td>\n",
       "      <td>1.311236</td>\n",
       "    </tr>\n",
       "    <tr>\n",
       "      <th>min</th>\n",
       "      <td>0.000000</td>\n",
       "      <td>0.00000</td>\n",
       "      <td>0.000000</td>\n",
       "      <td>0.000000</td>\n",
       "      <td>0.000000</td>\n",
       "      <td>0.000000</td>\n",
       "      <td>0.000000</td>\n",
       "      <td>43.700000</td>\n",
       "      <td>33.000000</td>\n",
       "      <td>1.970000</td>\n",
       "      <td>0.000000</td>\n",
       "      <td>0.000000</td>\n",
       "      <td>0.000000</td>\n",
       "      <td>0.000000</td>\n",
       "    </tr>\n",
       "    <tr>\n",
       "      <th>25%</th>\n",
       "      <td>0.000000</td>\n",
       "      <td>143.40000</td>\n",
       "      <td>87.000000</td>\n",
       "      <td>24.380000</td>\n",
       "      <td>165.300000</td>\n",
       "      <td>87.000000</td>\n",
       "      <td>14.050000</td>\n",
       "      <td>166.925000</td>\n",
       "      <td>87.000000</td>\n",
       "      <td>7.512500</td>\n",
       "      <td>8.500000</td>\n",
       "      <td>3.000000</td>\n",
       "      <td>2.300000</td>\n",
       "      <td>1.000000</td>\n",
       "    </tr>\n",
       "    <tr>\n",
       "      <th>50%</th>\n",
       "      <td>0.000000</td>\n",
       "      <td>179.95000</td>\n",
       "      <td>101.000000</td>\n",
       "      <td>30.590000</td>\n",
       "      <td>200.900000</td>\n",
       "      <td>100.000000</td>\n",
       "      <td>17.080000</td>\n",
       "      <td>201.150000</td>\n",
       "      <td>100.000000</td>\n",
       "      <td>9.050000</td>\n",
       "      <td>10.200000</td>\n",
       "      <td>4.000000</td>\n",
       "      <td>2.750000</td>\n",
       "      <td>1.000000</td>\n",
       "    </tr>\n",
       "    <tr>\n",
       "      <th>75%</th>\n",
       "      <td>19.000000</td>\n",
       "      <td>215.90000</td>\n",
       "      <td>114.000000</td>\n",
       "      <td>36.700000</td>\n",
       "      <td>235.100000</td>\n",
       "      <td>114.000000</td>\n",
       "      <td>19.980000</td>\n",
       "      <td>236.475000</td>\n",
       "      <td>113.000000</td>\n",
       "      <td>10.640000</td>\n",
       "      <td>12.100000</td>\n",
       "      <td>6.000000</td>\n",
       "      <td>3.270000</td>\n",
       "      <td>2.000000</td>\n",
       "    </tr>\n",
       "    <tr>\n",
       "      <th>max</th>\n",
       "      <td>50.000000</td>\n",
       "      <td>350.80000</td>\n",
       "      <td>160.000000</td>\n",
       "      <td>59.640000</td>\n",
       "      <td>363.700000</td>\n",
       "      <td>170.000000</td>\n",
       "      <td>30.910000</td>\n",
       "      <td>395.000000</td>\n",
       "      <td>166.000000</td>\n",
       "      <td>17.770000</td>\n",
       "      <td>20.000000</td>\n",
       "      <td>20.000000</td>\n",
       "      <td>5.400000</td>\n",
       "      <td>9.000000</td>\n",
       "    </tr>\n",
       "  </tbody>\n",
       "</table>\n",
       "</div>"
      ],
      "text/plain": [
       "       c_number vmail messages  c_total day minutes  c_total day calls  \\\n",
       "count              2666.000000           2666.00000        2666.000000   \n",
       "mean                  8.021755            179.48162         100.310203   \n",
       "std                  13.612277             54.21035          19.988162   \n",
       "min                   0.000000              0.00000           0.000000   \n",
       "25%                   0.000000            143.40000          87.000000   \n",
       "50%                   0.000000            179.95000         101.000000   \n",
       "75%                  19.000000            215.90000         114.000000   \n",
       "max                  50.000000            350.80000         160.000000   \n",
       "\n",
       "       c_total day charge  c_total eve minutes  c_total eve calls  \\\n",
       "count         2666.000000          2666.000000        2666.000000   \n",
       "mean            30.512404           200.386159         100.023631   \n",
       "std              9.215733            50.951515          20.161445   \n",
       "min              0.000000             0.000000           0.000000   \n",
       "25%             24.380000           165.300000          87.000000   \n",
       "50%             30.590000           200.900000         100.000000   \n",
       "75%             36.700000           235.100000         114.000000   \n",
       "max             59.640000           363.700000         170.000000   \n",
       "\n",
       "       c_total eve charge  c_total night minutes  c_total night calls  \\\n",
       "count         2666.000000            2666.000000          2666.000000   \n",
       "mean            17.033072             201.168942           100.106152   \n",
       "std              4.330864              50.780323            19.418459   \n",
       "min              0.000000              43.700000            33.000000   \n",
       "25%             14.050000             166.925000            87.000000   \n",
       "50%             17.080000             201.150000           100.000000   \n",
       "75%             19.980000             236.475000           113.000000   \n",
       "max             30.910000             395.000000           166.000000   \n",
       "\n",
       "       c_total night charge  c_total intl minutes  c_total intl calls  \\\n",
       "count           2666.000000           2666.000000         2666.000000   \n",
       "mean               9.052689             10.237022            4.467367   \n",
       "std                2.285120              2.788349            2.456195   \n",
       "min                1.970000              0.000000            0.000000   \n",
       "25%                7.512500              8.500000            3.000000   \n",
       "50%                9.050000             10.200000            4.000000   \n",
       "75%               10.640000             12.100000            6.000000   \n",
       "max               17.770000             20.000000           20.000000   \n",
       "\n",
       "       c_total intl charge  c_customer service calls  \n",
       "count          2666.000000               2666.000000  \n",
       "mean              2.764490                  1.562641  \n",
       "std               0.752812                  1.311236  \n",
       "min               0.000000                  0.000000  \n",
       "25%               2.300000                  1.000000  \n",
       "50%               2.750000                  1.000000  \n",
       "75%               3.270000                  2.000000  \n",
       "max               5.400000                  9.000000  "
      ]
     },
     "execution_count": 13,
     "metadata": {},
     "output_type": "execute_result"
    }
   ],
   "source": [
    "df[list(df.filter(like='c_'))].describe()"
   ]
  },
  {
   "cell_type": "code",
   "execution_count": 14,
   "metadata": {},
   "outputs": [
    {
     "data": {
      "text/plain": [
       "array([0.1, 0.2, 0.3, 0.4, 0.5, 0.6, 0.7, 0.8, 0.9, 1. ])"
      ]
     },
     "execution_count": 14,
     "metadata": {},
     "output_type": "execute_result"
    }
   ],
   "source": [
    "np.arange(1, 11)/10"
   ]
  },
  {
   "cell_type": "code",
   "execution_count": 15,
   "metadata": {},
   "outputs": [],
   "source": [
    "corr = df[list(df.filter(like= 'c_'))].corr()"
   ]
  },
  {
   "cell_type": "code",
   "execution_count": 16,
   "metadata": {},
   "outputs": [
    {
     "data": {
      "text/html": [
       "<div>\n",
       "<style scoped>\n",
       "    .dataframe tbody tr th:only-of-type {\n",
       "        vertical-align: middle;\n",
       "    }\n",
       "\n",
       "    .dataframe tbody tr th {\n",
       "        vertical-align: top;\n",
       "    }\n",
       "\n",
       "    .dataframe thead th {\n",
       "        text-align: right;\n",
       "    }\n",
       "</style>\n",
       "<table border=\"1\" class=\"dataframe\">\n",
       "  <thead>\n",
       "    <tr style=\"text-align: right;\">\n",
       "      <th></th>\n",
       "      <th>c_number vmail messages</th>\n",
       "      <th>c_total day minutes</th>\n",
       "      <th>c_total day calls</th>\n",
       "      <th>c_total day charge</th>\n",
       "      <th>c_total eve minutes</th>\n",
       "      <th>c_total eve calls</th>\n",
       "      <th>c_total eve charge</th>\n",
       "      <th>c_total night minutes</th>\n",
       "      <th>c_total night calls</th>\n",
       "      <th>c_total night charge</th>\n",
       "      <th>c_total intl minutes</th>\n",
       "      <th>c_total intl calls</th>\n",
       "      <th>c_total intl charge</th>\n",
       "      <th>c_customer service calls</th>\n",
       "    </tr>\n",
       "  </thead>\n",
       "  <tbody>\n",
       "    <tr>\n",
       "      <th>c_number vmail messages</th>\n",
       "      <td>1.000000</td>\n",
       "      <td>0.019027</td>\n",
       "      <td>-0.009622</td>\n",
       "      <td>0.019027</td>\n",
       "      <td>0.011401</td>\n",
       "      <td>0.005131</td>\n",
       "      <td>0.011418</td>\n",
       "      <td>-0.000224</td>\n",
       "      <td>0.008124</td>\n",
       "      <td>-0.000229</td>\n",
       "      <td>-0.004156</td>\n",
       "      <td>0.027013</td>\n",
       "      <td>-0.004136</td>\n",
       "      <td>-0.018787</td>\n",
       "    </tr>\n",
       "    <tr>\n",
       "      <th>c_total day minutes</th>\n",
       "      <td>0.019027</td>\n",
       "      <td>1.000000</td>\n",
       "      <td>0.016780</td>\n",
       "      <td>1.000000</td>\n",
       "      <td>0.003999</td>\n",
       "      <td>0.009059</td>\n",
       "      <td>0.003992</td>\n",
       "      <td>0.013491</td>\n",
       "      <td>0.015054</td>\n",
       "      <td>0.013464</td>\n",
       "      <td>-0.011042</td>\n",
       "      <td>0.005687</td>\n",
       "      <td>-0.010934</td>\n",
       "      <td>-0.024543</td>\n",
       "    </tr>\n",
       "    <tr>\n",
       "      <th>c_total day calls</th>\n",
       "      <td>-0.009622</td>\n",
       "      <td>0.016780</td>\n",
       "      <td>1.000000</td>\n",
       "      <td>0.016787</td>\n",
       "      <td>-0.026003</td>\n",
       "      <td>0.006473</td>\n",
       "      <td>-0.026006</td>\n",
       "      <td>0.008986</td>\n",
       "      <td>-0.016776</td>\n",
       "      <td>0.008972</td>\n",
       "      <td>0.031036</td>\n",
       "      <td>0.006928</td>\n",
       "      <td>0.031133</td>\n",
       "      <td>-0.011945</td>\n",
       "    </tr>\n",
       "    <tr>\n",
       "      <th>c_total day charge</th>\n",
       "      <td>0.019027</td>\n",
       "      <td>1.000000</td>\n",
       "      <td>0.016787</td>\n",
       "      <td>1.000000</td>\n",
       "      <td>0.004008</td>\n",
       "      <td>0.009056</td>\n",
       "      <td>0.004002</td>\n",
       "      <td>0.013495</td>\n",
       "      <td>0.015057</td>\n",
       "      <td>0.013468</td>\n",
       "      <td>-0.011046</td>\n",
       "      <td>0.005688</td>\n",
       "      <td>-0.010938</td>\n",
       "      <td>-0.024548</td>\n",
       "    </tr>\n",
       "    <tr>\n",
       "      <th>c_total eve minutes</th>\n",
       "      <td>0.011401</td>\n",
       "      <td>0.003999</td>\n",
       "      <td>-0.026003</td>\n",
       "      <td>0.004008</td>\n",
       "      <td>1.000000</td>\n",
       "      <td>-0.007654</td>\n",
       "      <td>1.000000</td>\n",
       "      <td>-0.013414</td>\n",
       "      <td>0.009017</td>\n",
       "      <td>-0.013450</td>\n",
       "      <td>-0.006915</td>\n",
       "      <td>0.002160</td>\n",
       "      <td>-0.006947</td>\n",
       "      <td>-0.013192</td>\n",
       "    </tr>\n",
       "    <tr>\n",
       "      <th>c_total eve calls</th>\n",
       "      <td>0.005131</td>\n",
       "      <td>0.009059</td>\n",
       "      <td>0.006473</td>\n",
       "      <td>0.009056</td>\n",
       "      <td>-0.007654</td>\n",
       "      <td>1.000000</td>\n",
       "      <td>-0.007642</td>\n",
       "      <td>-0.000175</td>\n",
       "      <td>0.000797</td>\n",
       "      <td>-0.000135</td>\n",
       "      <td>0.011012</td>\n",
       "      <td>0.003710</td>\n",
       "      <td>0.011000</td>\n",
       "      <td>0.001058</td>\n",
       "    </tr>\n",
       "    <tr>\n",
       "      <th>c_total eve charge</th>\n",
       "      <td>0.011418</td>\n",
       "      <td>0.003992</td>\n",
       "      <td>-0.026006</td>\n",
       "      <td>0.004002</td>\n",
       "      <td>1.000000</td>\n",
       "      <td>-0.007642</td>\n",
       "      <td>1.000000</td>\n",
       "      <td>-0.013428</td>\n",
       "      <td>0.009030</td>\n",
       "      <td>-0.013464</td>\n",
       "      <td>-0.006923</td>\n",
       "      <td>0.002169</td>\n",
       "      <td>-0.006955</td>\n",
       "      <td>-0.013196</td>\n",
       "    </tr>\n",
       "    <tr>\n",
       "      <th>c_total night minutes</th>\n",
       "      <td>-0.000224</td>\n",
       "      <td>0.013491</td>\n",
       "      <td>0.008986</td>\n",
       "      <td>0.013495</td>\n",
       "      <td>-0.013414</td>\n",
       "      <td>-0.000175</td>\n",
       "      <td>-0.013428</td>\n",
       "      <td>1.000000</td>\n",
       "      <td>0.012736</td>\n",
       "      <td>0.999999</td>\n",
       "      <td>-0.008607</td>\n",
       "      <td>-0.001110</td>\n",
       "      <td>-0.008510</td>\n",
       "      <td>0.005236</td>\n",
       "    </tr>\n",
       "    <tr>\n",
       "      <th>c_total night calls</th>\n",
       "      <td>0.008124</td>\n",
       "      <td>0.015054</td>\n",
       "      <td>-0.016776</td>\n",
       "      <td>0.015057</td>\n",
       "      <td>0.009017</td>\n",
       "      <td>0.000797</td>\n",
       "      <td>0.009030</td>\n",
       "      <td>0.012736</td>\n",
       "      <td>1.000000</td>\n",
       "      <td>0.012720</td>\n",
       "      <td>-0.023447</td>\n",
       "      <td>0.019367</td>\n",
       "      <td>-0.023434</td>\n",
       "      <td>-0.005677</td>\n",
       "    </tr>\n",
       "    <tr>\n",
       "      <th>c_total night charge</th>\n",
       "      <td>-0.000229</td>\n",
       "      <td>0.013464</td>\n",
       "      <td>0.008972</td>\n",
       "      <td>0.013468</td>\n",
       "      <td>-0.013450</td>\n",
       "      <td>-0.000135</td>\n",
       "      <td>-0.013464</td>\n",
       "      <td>0.999999</td>\n",
       "      <td>0.012720</td>\n",
       "      <td>1.000000</td>\n",
       "      <td>-0.008615</td>\n",
       "      <td>-0.001099</td>\n",
       "      <td>-0.008517</td>\n",
       "      <td>0.005257</td>\n",
       "    </tr>\n",
       "    <tr>\n",
       "      <th>c_total intl minutes</th>\n",
       "      <td>-0.004156</td>\n",
       "      <td>-0.011042</td>\n",
       "      <td>0.031036</td>\n",
       "      <td>-0.011046</td>\n",
       "      <td>-0.006915</td>\n",
       "      <td>0.011012</td>\n",
       "      <td>-0.006923</td>\n",
       "      <td>-0.008607</td>\n",
       "      <td>-0.023447</td>\n",
       "      <td>-0.008615</td>\n",
       "      <td>1.000000</td>\n",
       "      <td>0.037315</td>\n",
       "      <td>0.999993</td>\n",
       "      <td>-0.002826</td>\n",
       "    </tr>\n",
       "    <tr>\n",
       "      <th>c_total intl calls</th>\n",
       "      <td>0.027013</td>\n",
       "      <td>0.005687</td>\n",
       "      <td>0.006928</td>\n",
       "      <td>0.005688</td>\n",
       "      <td>0.002160</td>\n",
       "      <td>0.003710</td>\n",
       "      <td>0.002169</td>\n",
       "      <td>-0.001110</td>\n",
       "      <td>0.019367</td>\n",
       "      <td>-0.001099</td>\n",
       "      <td>0.037315</td>\n",
       "      <td>1.000000</td>\n",
       "      <td>0.037363</td>\n",
       "      <td>-0.022143</td>\n",
       "    </tr>\n",
       "    <tr>\n",
       "      <th>c_total intl charge</th>\n",
       "      <td>-0.004136</td>\n",
       "      <td>-0.010934</td>\n",
       "      <td>0.031133</td>\n",
       "      <td>-0.010938</td>\n",
       "      <td>-0.006947</td>\n",
       "      <td>0.011000</td>\n",
       "      <td>-0.006955</td>\n",
       "      <td>-0.008510</td>\n",
       "      <td>-0.023434</td>\n",
       "      <td>-0.008517</td>\n",
       "      <td>0.999993</td>\n",
       "      <td>0.037363</td>\n",
       "      <td>1.000000</td>\n",
       "      <td>-0.002895</td>\n",
       "    </tr>\n",
       "    <tr>\n",
       "      <th>c_customer service calls</th>\n",
       "      <td>-0.018787</td>\n",
       "      <td>-0.024543</td>\n",
       "      <td>-0.011945</td>\n",
       "      <td>-0.024548</td>\n",
       "      <td>-0.013192</td>\n",
       "      <td>0.001058</td>\n",
       "      <td>-0.013196</td>\n",
       "      <td>0.005236</td>\n",
       "      <td>-0.005677</td>\n",
       "      <td>0.005257</td>\n",
       "      <td>-0.002826</td>\n",
       "      <td>-0.022143</td>\n",
       "      <td>-0.002895</td>\n",
       "      <td>1.000000</td>\n",
       "    </tr>\n",
       "  </tbody>\n",
       "</table>\n",
       "</div>"
      ],
      "text/plain": [
       "                          c_number vmail messages  c_total day minutes  \\\n",
       "c_number vmail messages                  1.000000             0.019027   \n",
       "c_total day minutes                      0.019027             1.000000   \n",
       "c_total day calls                       -0.009622             0.016780   \n",
       "c_total day charge                       0.019027             1.000000   \n",
       "c_total eve minutes                      0.011401             0.003999   \n",
       "c_total eve calls                        0.005131             0.009059   \n",
       "c_total eve charge                       0.011418             0.003992   \n",
       "c_total night minutes                   -0.000224             0.013491   \n",
       "c_total night calls                      0.008124             0.015054   \n",
       "c_total night charge                    -0.000229             0.013464   \n",
       "c_total intl minutes                    -0.004156            -0.011042   \n",
       "c_total intl calls                       0.027013             0.005687   \n",
       "c_total intl charge                     -0.004136            -0.010934   \n",
       "c_customer service calls                -0.018787            -0.024543   \n",
       "\n",
       "                          c_total day calls  c_total day charge  \\\n",
       "c_number vmail messages           -0.009622            0.019027   \n",
       "c_total day minutes                0.016780            1.000000   \n",
       "c_total day calls                  1.000000            0.016787   \n",
       "c_total day charge                 0.016787            1.000000   \n",
       "c_total eve minutes               -0.026003            0.004008   \n",
       "c_total eve calls                  0.006473            0.009056   \n",
       "c_total eve charge                -0.026006            0.004002   \n",
       "c_total night minutes              0.008986            0.013495   \n",
       "c_total night calls               -0.016776            0.015057   \n",
       "c_total night charge               0.008972            0.013468   \n",
       "c_total intl minutes               0.031036           -0.011046   \n",
       "c_total intl calls                 0.006928            0.005688   \n",
       "c_total intl charge                0.031133           -0.010938   \n",
       "c_customer service calls          -0.011945           -0.024548   \n",
       "\n",
       "                          c_total eve minutes  c_total eve calls  \\\n",
       "c_number vmail messages              0.011401           0.005131   \n",
       "c_total day minutes                  0.003999           0.009059   \n",
       "c_total day calls                   -0.026003           0.006473   \n",
       "c_total day charge                   0.004008           0.009056   \n",
       "c_total eve minutes                  1.000000          -0.007654   \n",
       "c_total eve calls                   -0.007654           1.000000   \n",
       "c_total eve charge                   1.000000          -0.007642   \n",
       "c_total night minutes               -0.013414          -0.000175   \n",
       "c_total night calls                  0.009017           0.000797   \n",
       "c_total night charge                -0.013450          -0.000135   \n",
       "c_total intl minutes                -0.006915           0.011012   \n",
       "c_total intl calls                   0.002160           0.003710   \n",
       "c_total intl charge                 -0.006947           0.011000   \n",
       "c_customer service calls            -0.013192           0.001058   \n",
       "\n",
       "                          c_total eve charge  c_total night minutes  \\\n",
       "c_number vmail messages             0.011418              -0.000224   \n",
       "c_total day minutes                 0.003992               0.013491   \n",
       "c_total day calls                  -0.026006               0.008986   \n",
       "c_total day charge                  0.004002               0.013495   \n",
       "c_total eve minutes                 1.000000              -0.013414   \n",
       "c_total eve calls                  -0.007642              -0.000175   \n",
       "c_total eve charge                  1.000000              -0.013428   \n",
       "c_total night minutes              -0.013428               1.000000   \n",
       "c_total night calls                 0.009030               0.012736   \n",
       "c_total night charge               -0.013464               0.999999   \n",
       "c_total intl minutes               -0.006923              -0.008607   \n",
       "c_total intl calls                  0.002169              -0.001110   \n",
       "c_total intl charge                -0.006955              -0.008510   \n",
       "c_customer service calls           -0.013196               0.005236   \n",
       "\n",
       "                          c_total night calls  c_total night charge  \\\n",
       "c_number vmail messages              0.008124             -0.000229   \n",
       "c_total day minutes                  0.015054              0.013464   \n",
       "c_total day calls                   -0.016776              0.008972   \n",
       "c_total day charge                   0.015057              0.013468   \n",
       "c_total eve minutes                  0.009017             -0.013450   \n",
       "c_total eve calls                    0.000797             -0.000135   \n",
       "c_total eve charge                   0.009030             -0.013464   \n",
       "c_total night minutes                0.012736              0.999999   \n",
       "c_total night calls                  1.000000              0.012720   \n",
       "c_total night charge                 0.012720              1.000000   \n",
       "c_total intl minutes                -0.023447             -0.008615   \n",
       "c_total intl calls                   0.019367             -0.001099   \n",
       "c_total intl charge                 -0.023434             -0.008517   \n",
       "c_customer service calls            -0.005677              0.005257   \n",
       "\n",
       "                          c_total intl minutes  c_total intl calls  \\\n",
       "c_number vmail messages              -0.004156            0.027013   \n",
       "c_total day minutes                  -0.011042            0.005687   \n",
       "c_total day calls                     0.031036            0.006928   \n",
       "c_total day charge                   -0.011046            0.005688   \n",
       "c_total eve minutes                  -0.006915            0.002160   \n",
       "c_total eve calls                     0.011012            0.003710   \n",
       "c_total eve charge                   -0.006923            0.002169   \n",
       "c_total night minutes                -0.008607           -0.001110   \n",
       "c_total night calls                  -0.023447            0.019367   \n",
       "c_total night charge                 -0.008615           -0.001099   \n",
       "c_total intl minutes                  1.000000            0.037315   \n",
       "c_total intl calls                    0.037315            1.000000   \n",
       "c_total intl charge                   0.999993            0.037363   \n",
       "c_customer service calls             -0.002826           -0.022143   \n",
       "\n",
       "                          c_total intl charge  c_customer service calls  \n",
       "c_number vmail messages             -0.004136                 -0.018787  \n",
       "c_total day minutes                 -0.010934                 -0.024543  \n",
       "c_total day calls                    0.031133                 -0.011945  \n",
       "c_total day charge                  -0.010938                 -0.024548  \n",
       "c_total eve minutes                 -0.006947                 -0.013192  \n",
       "c_total eve calls                    0.011000                  0.001058  \n",
       "c_total eve charge                  -0.006955                 -0.013196  \n",
       "c_total night minutes               -0.008510                  0.005236  \n",
       "c_total night calls                 -0.023434                 -0.005677  \n",
       "c_total night charge                -0.008517                  0.005257  \n",
       "c_total intl minutes                 0.999993                 -0.002826  \n",
       "c_total intl calls                   0.037363                 -0.022143  \n",
       "c_total intl charge                  1.000000                 -0.002895  \n",
       "c_customer service calls            -0.002895                  1.000000  "
      ]
     },
     "execution_count": 16,
     "metadata": {},
     "output_type": "execute_result"
    }
   ],
   "source": [
    "corr"
   ]
  },
  {
   "cell_type": "code",
   "execution_count": 17,
   "metadata": {},
   "outputs": [
    {
     "data": {
      "text/plain": [
       "<AxesSubplot:>"
      ]
     },
     "execution_count": 17,
     "metadata": {},
     "output_type": "execute_result"
    },
    {
     "data": {
      "image/png": "[encoded data removed]",
      "text/plain": [
       "<Figure size 432x288 with 2 Axes>"
      ]
     },
     "metadata": {
      "needs_background": "light"
     },
     "output_type": "display_data"
    }
   ],
   "source": [
    "sns.heatmap(corr, cmap='Blues')"
   ]
  },
  {
   "cell_type": "code",
   "execution_count": 25,
   "metadata": {},
   "outputs": [
    {
     "data": {
      "application/vnd.plotly.v1+json": {
       "config": {
        "plotlyServerURL": "https://plot.ly"
       },
       "data": [
        {
         "coloraxis": "coloraxis",
         "hovertemplate": "x: %{x}<br>y: %{y}<br>color: %{z}<extra></extra>",
         "name": "0",
         "type": "heatmap",
         "x": [
          "c_number vmail messages",
          "c_total day minutes",
          "c_total day calls",
          "c_total day charge",
          "c_total eve minutes",
          "c_total eve calls",
          "c_total eve charge",
          "c_total night minutes",
          "c_total night calls",
          "c_total night charge",
          "c_total intl minutes",
          "c_total intl calls",
          "c_total intl charge",
          "c_customer service calls"
         ],
         "xaxis": "x",
         "y": [
          "c_number vmail messages",
          "c_total day minutes",
          "c_total day calls",
          "c_total day charge",
          "c_total eve minutes",
          "c_total eve calls",
          "c_total eve charge",
          "c_total night minutes",
          "c_total night calls",
          "c_total night charge",
          "c_total intl minutes",
          "c_total intl calls",
          "c_total intl charge",
          "c_customer service calls"
         ],
         "yaxis": "y",
         "z": [
          [
           1,
           0.019027035647115238,
           -0.009622044311372898,
           0.019027447550585178,
           0.011401065774615063,
           0.005130811123996555,
           0.011418223414327147,
           -0.00022392319236608842,
           0.008123984820219855,
           -0.00022903204812466365,
           -0.004155594529084882,
           0.027012570668817622,
           -0.004135564646980192,
           -0.01878669991900207
          ],
          [
           0.019027035647115238,
           1,
           0.016780301131925506,
           0.9999999517969833,
           0.003998626727632559,
           0.009059029139331794,
           0.0039924780264050126,
           0.013490952953805821,
           0.015053775262846788,
           0.013463791421849823,
           -0.011041972919924347,
           0.005686664387537978,
           -0.010934027052115628,
           -0.024543145302899565
          ],
          [
           -0.009622044311372898,
           0.016780301131925506,
           1,
           0.016786840889641875,
           -0.026002555703066227,
           0.006472679746911599,
           -0.026005640870291932,
           0.008985908153417304,
           -0.016775845339004735,
           0.008972337853179888,
           0.031035828250343914,
           0.0069283365270609455,
           0.03113345647846503,
           -0.011944648459920701
          ],
          [
           0.019027447550585178,
           0.9999999517969833,
           0.016786840889641875,
           1,
           0.004008331305860201,
           0.009056437354945074,
           0.0040021854364031256,
           0.013494931117666486,
           0.015057285467027106,
           0.013467758848716248,
           -0.011046118348640036,
           0.0056881895529008065,
           -0.010938194116395062,
           -0.024547884091802752
          ],
          [
           0.011401065774615063,
           0.003998626727632559,
           -0.026002555703066227,
           0.004008331305860201,
           1,
           -0.007653798732660353,
           0.9999997811579284,
           -0.01341407444742079,
           0.009017392908584483,
           -0.01344961947802864,
           -0.006914655799005867,
           0.002160451249662262,
           -0.0069474872013288265,
           -0.013192225526349917
          ],
          [
           0.005130811123996555,
           0.009059029139331794,
           0.006472679746911599,
           0.009056437354945074,
           -0.007653798732660353,
           1,
           -0.00764188057250932,
           -0.00017517095584811983,
           0.000796765760209184,
           -0.00013495217026166455,
           0.011011762647215964,
           0.003709544472862686,
           0.010999766367231338,
           0.0010582034845460673
          ],
          [
           0.011418223414327147,
           0.0039924780264050126,
           -0.026005640870291932,
           0.0040021854364031256,
           0.9999997811579284,
           -0.00764188057250932,
           1,
           -0.013428025696677785,
           0.009029774461994558,
           -0.013463569742150593,
           -0.006922572463877849,
           0.0021694842986443724,
           -0.00695543402791851,
           -0.013196019832038445
          ],
          [
           -0.00022392319236608842,
           0.013490952953805821,
           0.008985908153417304,
           0.013494931117666486,
           -0.01341407444742079,
           -0.00017517095584811983,
           -0.013428025696677785,
           1,
           0.012736100224890474,
           0.9999992251810571,
           -0.008607444297757533,
           -0.0011101284909692795,
           -0.008509762427770773,
           0.005236360039798313
          ],
          [
           0.008123984820219855,
           0.015053775262846788,
           -0.016775845339004735,
           0.015057285467027106,
           0.009017392908584483,
           0.000796765760209184,
           0.009029774461994558,
           0.012736100224890474,
           1,
           0.012719750886302892,
           -0.023447221288533906,
           0.01936718679032744,
           -0.023434382911767058,
           -0.005677070850265248
          ],
          [
           -0.00022903204812466365,
           0.013463791421849823,
           0.008972337853179888,
           0.013467758848716248,
           -0.01344961947802864,
           -0.00013495217026166455,
           -0.013463569742150593,
           0.9999992251810571,
           0.012719750886302892,
           1,
           -0.008614677355891533,
           -0.0010991571931982989,
           -0.008517008996082556,
           0.005256694679572975
          ],
          [
           -0.004155594529084882,
           -0.011041972919924347,
           0.031035828250343914,
           -0.011046118348640036,
           -0.006914655799005867,
           0.011011762647215964,
           -0.006922572463877849,
           -0.008607444297757533,
           -0.023447221288533906,
           -0.008614677355891533,
           1,
           0.03731515208449885,
           0.9999926544112409,
           -0.0028256780996679
          ],
          [
           0.027012570668817622,
           0.005686664387537978,
           0.0069283365270609455,
           0.0056881895529008065,
           0.002160451249662262,
           0.003709544472862686,
           0.0021694842986443724,
           -0.0011101284909692795,
           0.01936718679032744,
           -0.0010991571931982989,
           0.03731515208449885,
           1,
           0.037363196944112026,
           -0.022142550830356916
          ],
          [
           -0.004135564646980192,
           -0.010934027052115628,
           0.03113345647846503,
           -0.010938194116395062,
           -0.0069474872013288265,
           0.010999766367231338,
           -0.00695543402791851,
           -0.008509762427770773,
           -0.023434382911767058,
           -0.008517008996082556,
           0.9999926544112409,
           0.037363196944112026,
           1,
           -0.002894639177964867
          ],
          [
           -0.01878669991900207,
           -0.024543145302899565,
           -0.011944648459920701,
           -0.024547884091802752,
           -0.013192225526349917,
           0.0010582034845460673,
           -0.013196019832038445,
           0.005236360039798313,
           -0.005677070850265248,
           0.005256694679572975,
           -0.0028256780996679,
           -0.022142550830356916,
           -0.002894639177964867,
           1
          ]
         ]
        }
       ],
       "layout": {
        "coloraxis": {
         "colorscale": [
          [
           0,
           "#0d0887"
          ],
          [
           0.1111111111111111,
           "#46039f"
          ],
          [
           0.2222222222222222,
           "#7201a8"
          ],
          [
           0.3333333333333333,
           "#9c179e"
          ],
          [
           0.4444444444444444,
           "#bd3786"
          ],
          [
           0.5555555555555556,
           "#d8576b"
          ],
          [
           0.6666666666666666,
           "#ed7953"
          ],
          [
           0.7777777777777778,
           "#fb9f3a"
          ],
          [
           0.8888888888888888,
           "#fdca26"
          ],
          [
           1,
           "#f0f921"
          ]
         ]
        },
        "margin": {
         "t": 60
        },
        "template": {
         "data": {
          "bar": [
           {
            "error_x": {
             "color": "#2a3f5f"
            },
            "error_y": {
             "color": "#2a3f5f"
            },
            "marker": {
             "line": {
              "color": "#E5ECF6",
              "width": 0.5
             },
             "pattern": {
              "fillmode": "overlay",
              "size": 10,
              "solidity": 0.2
             }
            },
            "type": "bar"
           }
          ],
          "barpolar": [
           {
            "marker": {
             "line": {
              "color": "#E5ECF6",
              "width": 0.5
             },
             "pattern": {
              "fillmode": "overlay",
              "size": 10,
              "solidity": 0.2
             }
            },
            "type": "barpolar"
           }
          ],
          "carpet": [
           {
            "aaxis": {
             "endlinecolor": "#2a3f5f",
             "gridcolor": "white",
             "linecolor": "white",
             "minorgridcolor": "white",
             "startlinecolor": "#2a3f5f"
            },
            "baxis": {
             "endlinecolor": "#2a3f5f",
             "gridcolor": "white",
             "linecolor": "white",
             "minorgridcolor": "white",
             "startlinecolor": "#2a3f5f"
            },
            "type": "carpet"
           }
          ],
          "choropleth": [
           {
            "colorbar": {
             "outlinewidth": 0,
             "ticks": ""
            },
            "type": "choropleth"
           }
          ],
          "contour": [
           {
            "colorbar": {
             "outlinewidth": 0,
             "ticks": ""
            },
            "colorscale": [
             [
              0,
              "#0d0887"
             ],
             [
              0.1111111111111111,
              "#46039f"
             ],
             [
              0.2222222222222222,
              "#7201a8"
             ],
             [
              0.3333333333333333,
              "#9c179e"
             ],
             [
              0.4444444444444444,
              "#bd3786"
             ],
             [
              0.5555555555555556,
              "#d8576b"
             ],
             [
              0.6666666666666666,
              "#ed7953"
             ],
             [
              0.7777777777777778,
              "#fb9f3a"
             ],
             [
              0.8888888888888888,
              "#fdca26"
             ],
             [
              1,
              "#f0f921"
             ]
            ],
            "type": "contour"
           }
          ],
          "contourcarpet": [
           {
            "colorbar": {
             "outlinewidth": 0,
             "ticks": ""
            },
            "type": "contourcarpet"
           }
          ],
          "heatmap": [
           {
            "colorbar": {
             "outlinewidth": 0,
             "ticks": ""
            },
            "colorscale": [
             [
              0,
              "#0d0887"
             ],
             [
              0.1111111111111111,
              "#46039f"
             ],
             [
              0.2222222222222222,
              "#7201a8"
             ],
             [
              0.3333333333333333,
              "#9c179e"
             ],
             [
              0.4444444444444444,
              "#bd3786"
             ],
             [
              0.5555555555555556,
              "#d8576b"
             ],
             [
              0.6666666666666666,
              "#ed7953"
             ],
             [
              0.7777777777777778,
              "#fb9f3a"
             ],
             [
              0.8888888888888888,
              "#fdca26"
             ],
             [
              1,
              "#f0f921"
             ]
            ],
            "type": "heatmap"
           }
          ],
          "heatmapgl": [
           {
            "colorbar": {
             "outlinewidth": 0,
             "ticks": ""
            },
            "colorscale": [
             [
              0,
              "#0d0887"
             ],
             [
              0.1111111111111111,
              "#46039f"
             ],
             [
              0.2222222222222222,
              "#7201a8"
             ],
             [
              0.3333333333333333,
              "#9c179e"
             ],
             [
              0.4444444444444444,
              "#bd3786"
             ],
             [
              0.5555555555555556,
              "#d8576b"
             ],
             [
              0.6666666666666666,
              "#ed7953"
             ],
             [
              0.7777777777777778,
              "#fb9f3a"
             ],
             [
              0.8888888888888888,
              "#fdca26"
             ],
             [
              1,
              "#f0f921"
             ]
            ],
            "type": "heatmapgl"
           }
          ],
          "histogram": [
           {
            "marker": {
             "pattern": {
              "fillmode": "overlay",
              "size": 10,
              "solidity": 0.2
             }
            },
            "type": "histogram"
           }
          ],
          "histogram2d": [
           {
            "colorbar": {
             "outlinewidth": 0,
             "ticks": ""
            },
            "colorscale": [
             [
              0,
              "#0d0887"
             ],
             [
              0.1111111111111111,
              "#46039f"
             ],
             [
              0.2222222222222222,
              "#7201a8"
             ],
             [
              0.3333333333333333,
              "#9c179e"
             ],
             [
              0.4444444444444444,
              "#bd3786"
             ],
             [
              0.5555555555555556,
              "#d8576b"
             ],
             [
              0.6666666666666666,
              "#ed7953"
             ],
             [
              0.7777777777777778,
              "#fb9f3a"
             ],
             [
              0.8888888888888888,
              "#fdca26"
             ],
             [
              1,
              "#f0f921"
             ]
            ],
            "type": "histogram2d"
           }
          ],
          "histogram2dcontour": [
           {
            "colorbar": {
             "outlinewidth": 0,
             "ticks": ""
            },
            "colorscale": [
             [
              0,
              "#0d0887"
             ],
             [
              0.1111111111111111,
              "#46039f"
             ],
             [
              0.2222222222222222,
              "#7201a8"
             ],
             [
              0.3333333333333333,
              "#9c179e"
             ],
             [
              0.4444444444444444,
              "#bd3786"
             ],
             [
              0.5555555555555556,
              "#d8576b"
             ],
             [
              0.6666666666666666,
              "#ed7953"
             ],
             [
              0.7777777777777778,
              "#fb9f3a"
             ],
             [
              0.8888888888888888,
              "#fdca26"
             ],
             [
              1,
              "#f0f921"
             ]
            ],
            "type": "histogram2dcontour"
           }
          ],
          "mesh3d": [
           {
            "colorbar": {
             "outlinewidth": 0,
             "ticks": ""
            },
            "type": "mesh3d"
           }
          ],
          "parcoords": [
           {
            "line": {
             "colorbar": {
              "outlinewidth": 0,
              "ticks": ""
             }
            },
            "type": "parcoords"
           }
          ],
          "pie": [
           {
            "automargin": true,
            "type": "pie"
           }
          ],
          "scatter": [
           {
            "fillpattern": {
             "fillmode": "overlay",
             "size": 10,
             "solidity": 0.2
            },
            "type": "scatter"
           }
          ],
          "scatter3d": [
           {
            "line": {
             "colorbar": {
              "outlinewidth": 0,
              "ticks": ""
             }
            },
            "marker": {
             "colorbar": {
              "outlinewidth": 0,
              "ticks": ""
             }
            },
            "type": "scatter3d"
           }
          ],
          "scattercarpet": [
           {
            "marker": {
             "colorbar": {
              "outlinewidth": 0,
              "ticks": ""
             }
            },
            "type": "scattercarpet"
           }
          ],
          "scattergeo": [
           {
            "marker": {
             "colorbar": {
              "outlinewidth": 0,
              "ticks": ""
             }
            },
            "type": "scattergeo"
           }
          ],
          "scattergl": [
           {
            "marker": {
             "colorbar": {
              "outlinewidth": 0,
              "ticks": ""
             }
            },
            "type": "scattergl"
           }
          ],
          "scattermapbox": [
           {
            "marker": {
             "colorbar": {
              "outlinewidth": 0,
              "ticks": ""
             }
            },
            "type": "scattermapbox"
           }
          ],
          "scatterpolar": [
           {
            "marker": {
             "colorbar": {
              "outlinewidth": 0,
              "ticks": ""
             }
            },
            "type": "scatterpolar"
           }
          ],
          "scatterpolargl": [
           {
            "marker": {
             "colorbar": {
              "outlinewidth": 0,
              "ticks": ""
             }
            },
            "type": "scatterpolargl"
           }
          ],
          "scatterternary": [
           {
            "marker": {
             "colorbar": {
              "outlinewidth": 0,
              "ticks": ""
             }
            },
            "type": "scatterternary"
           }
          ],
          "surface": [
           {
            "colorbar": {
             "outlinewidth": 0,
             "ticks": ""
            },
            "colorscale": [
             [
              0,
              "#0d0887"
             ],
             [
              0.1111111111111111,
              "#46039f"
             ],
             [
              0.2222222222222222,
              "#7201a8"
             ],
             [
              0.3333333333333333,
              "#9c179e"
             ],
             [
              0.4444444444444444,
              "#bd3786"
             ],
             [
              0.5555555555555556,
              "#d8576b"
             ],
             [
              0.6666666666666666,
              "#ed7953"
             ],
             [
              0.7777777777777778,
              "#fb9f3a"
             ],
             [
              0.8888888888888888,
              "#fdca26"
             ],
             [
              1,
              "#f0f921"
             ]
            ],
            "type": "surface"
           }
          ],
          "table": [
           {
            "cells": {
             "fill": {
              "color": "#EBF0F8"
             },
             "line": {
              "color": "white"
             }
            },
            "header": {
             "fill": {
              "color": "#C8D4E3"
             },
             "line": {
              "color": "white"
             }
            },
            "type": "table"
           }
          ]
         },
         "layout": {
          "annotationdefaults": {
           "arrowcolor": "#2a3f5f",
           "arrowhead": 0,
           "arrowwidth": 1
          },
          "autotypenumbers": "strict",
          "coloraxis": {
           "colorbar": {
            "outlinewidth": 0,
            "ticks": ""
           }
          },
          "colorscale": {
           "diverging": [
            [
             0,
             "#8e0152"
            ],
            [
             0.1,
             "#c51b7d"
            ],
            [
             0.2,
             "#de77ae"
            ],
            [
             0.3,
             "#f1b6da"
            ],
            [
             0.4,
             "#fde0ef"
            ],
            [
             0.5,
             "#f7f7f7"
            ],
            [
             0.6,
             "#e6f5d0"
            ],
            [
             0.7,
             "#b8e186"
            ],
            [
             0.8,
             "#7fbc41"
            ],
            [
             0.9,
             "#4d9221"
            ],
            [
             1,
             "#276419"
            ]
           ],
           "sequential": [
            [
             0,
             "#0d0887"
            ],
            [
             0.1111111111111111,
             "#46039f"
            ],
            [
             0.2222222222222222,
             "#7201a8"
            ],
            [
             0.3333333333333333,
             "#9c179e"
            ],
            [
             0.4444444444444444,
             "#bd3786"
            ],
            [
             0.5555555555555556,
             "#d8576b"
            ],
            [
             0.6666666666666666,
             "#ed7953"
            ],
            [
             0.7777777777777778,
             "#fb9f3a"
            ],
            [
             0.8888888888888888,
             "#fdca26"
            ],
            [
             1,
             "#f0f921"
            ]
           ],
           "sequentialminus": [
            [
             0,
             "#0d0887"
            ],
            [
             0.1111111111111111,
             "#46039f"
            ],
            [
             0.2222222222222222,
             "#7201a8"
            ],
            [
             0.3333333333333333,
             "#9c179e"
            ],
            [
             0.4444444444444444,
             "#bd3786"
            ],
            [
             0.5555555555555556,
             "#d8576b"
            ],
            [
             0.6666666666666666,
             "#ed7953"
            ],
            [
             0.7777777777777778,
             "#fb9f3a"
            ],
            [
             0.8888888888888888,
             "#fdca26"
            ],
            [
             1,
             "#f0f921"
            ]
           ]
          },
          "colorway": [
           "#636efa",
           "#EF553B",
           "#00cc96",
           "#ab63fa",
           "#FFA15A",
           "#19d3f3",
           "#FF6692",
           "#B6E880",
           "#FF97FF",
           "#FECB52"
          ],
          "font": {
           "color": "#2a3f5f"
          },
          "geo": {
           "bgcolor": "white",
           "lakecolor": "white",
           "landcolor": "#E5ECF6",
           "showlakes": true,
           "showland": true,
           "subunitcolor": "white"
          },
          "hoverlabel": {
           "align": "left"
          },
          "hovermode": "closest",
          "mapbox": {
           "style": "light"
          },
          "paper_bgcolor": "white",
          "plot_bgcolor": "#E5ECF6",
          "polar": {
           "angularaxis": {
            "gridcolor": "white",
            "linecolor": "white",
            "ticks": ""
           },
           "bgcolor": "#E5ECF6",
           "radialaxis": {
            "gridcolor": "white",
            "linecolor": "white",
            "ticks": ""
           }
          },
          "scene": {
           "xaxis": {
            "backgroundcolor": "#E5ECF6",
            "gridcolor": "white",
            "gridwidth": 2,
            "linecolor": "white",
            "showbackground": true,
            "ticks": "",
            "zerolinecolor": "white"
           },
           "yaxis": {
            "backgroundcolor": "#E5ECF6",
            "gridcolor": "white",
            "gridwidth": 2,
            "linecolor": "white",
            "showbackground": true,
            "ticks": "",
            "zerolinecolor": "white"
           },
           "zaxis": {
            "backgroundcolor": "#E5ECF6",
            "gridcolor": "white",
            "gridwidth": 2,
            "linecolor": "white",
            "showbackground": true,
            "ticks": "",
            "zerolinecolor": "white"
           }
          },
          "shapedefaults": {
           "line": {
            "color": "#2a3f5f"
           }
          },
          "ternary": {
           "aaxis": {
            "gridcolor": "white",
            "linecolor": "white",
            "ticks": ""
           },
           "baxis": {
            "gridcolor": "white",
            "linecolor": "white",
            "ticks": ""
           },
           "bgcolor": "#E5ECF6",
           "caxis": {
            "gridcolor": "white",
            "linecolor": "white",
            "ticks": ""
           }
          },
          "title": {
           "x": 0.05
          },
          "xaxis": {
           "automargin": true,
           "gridcolor": "white",
           "linecolor": "white",
           "ticks": "",
           "title": {
            "standoff": 15
           },
           "zerolinecolor": "white",
           "zerolinewidth": 2
          },
          "yaxis": {
           "automargin": true,
           "gridcolor": "white",
           "linecolor": "white",
           "ticks": "",
           "title": {
            "standoff": 15
           },
           "zerolinecolor": "white",
           "zerolinewidth": 2
          }
         }
        },
        "xaxis": {
         "anchor": "y",
         "constrain": "domain",
         "domain": [
          0,
          1
         ],
         "scaleanchor": "y"
        },
        "yaxis": {
         "anchor": "x",
         "autorange": "reversed",
         "constrain": "domain",
         "domain": [
          0,
          1
         ]
        }
       }
      }
     },
     "metadata": {},
     "output_type": "display_data"
    }
   ],
   "source": [
    "fig = px.imshow(corr)\n",
    "fig.show()\n",
    "fig.write_html(\"image.html\")"
   ]
  },
  {
   "cell_type": "markdown",
   "metadata": {},
   "source": [
    "# Pipeline de Regresión\n",
    "Objetivos:\n",
    "* Predecir el cargo total del usuarip tomando en cuenta que se deben eliminar las variables sobre predictoras"
   ]
  },
  {
   "cell_type": "code",
   "execution_count": 20,
   "metadata": {},
   "outputs": [
    {
     "data": {
      "text/html": [
       "<div>\n",
       "<style scoped>\n",
       "    .dataframe tbody tr th:only-of-type {\n",
       "        vertical-align: middle;\n",
       "    }\n",
       "\n",
       "    .dataframe tbody tr th {\n",
       "        vertical-align: top;\n",
       "    }\n",
       "\n",
       "    .dataframe thead th {\n",
       "        text-align: right;\n",
       "    }\n",
       "</style>\n",
       "<table border=\"1\" class=\"dataframe\">\n",
       "  <thead>\n",
       "    <tr style=\"text-align: right;\">\n",
       "      <th></th>\n",
       "      <th>g_state</th>\n",
       "      <th>v_account length</th>\n",
       "      <th>g_area code</th>\n",
       "      <th>v_international plan</th>\n",
       "      <th>v_voice mail plan</th>\n",
       "      <th>c_number vmail messages</th>\n",
       "      <th>c_total day minutes</th>\n",
       "      <th>c_total day calls</th>\n",
       "      <th>c_total day charge</th>\n",
       "      <th>c_total eve minutes</th>\n",
       "      <th>c_total eve calls</th>\n",
       "      <th>c_total eve charge</th>\n",
       "      <th>c_total night minutes</th>\n",
       "      <th>c_total night calls</th>\n",
       "      <th>c_total night charge</th>\n",
       "      <th>c_total intl minutes</th>\n",
       "      <th>c_total intl calls</th>\n",
       "      <th>c_total intl charge</th>\n",
       "      <th>c_customer service calls</th>\n",
       "      <th>Churn</th>\n",
       "    </tr>\n",
       "  </thead>\n",
       "  <tbody>\n",
       "    <tr>\n",
       "      <th>0</th>\n",
       "      <td>KS</td>\n",
       "      <td>128</td>\n",
       "      <td>415</td>\n",
       "      <td>No</td>\n",
       "      <td>Yes</td>\n",
       "      <td>25</td>\n",
       "      <td>265.1</td>\n",
       "      <td>110</td>\n",
       "      <td>45.07</td>\n",
       "      <td>197.4</td>\n",
       "      <td>99</td>\n",
       "      <td>16.78</td>\n",
       "      <td>244.7</td>\n",
       "      <td>91</td>\n",
       "      <td>11.01</td>\n",
       "      <td>10.0</td>\n",
       "      <td>3</td>\n",
       "      <td>2.70</td>\n",
       "      <td>1</td>\n",
       "      <td>False</td>\n",
       "    </tr>\n",
       "    <tr>\n",
       "      <th>1</th>\n",
       "      <td>OH</td>\n",
       "      <td>107</td>\n",
       "      <td>415</td>\n",
       "      <td>No</td>\n",
       "      <td>Yes</td>\n",
       "      <td>26</td>\n",
       "      <td>161.6</td>\n",
       "      <td>123</td>\n",
       "      <td>27.47</td>\n",
       "      <td>195.5</td>\n",
       "      <td>103</td>\n",
       "      <td>16.62</td>\n",
       "      <td>254.4</td>\n",
       "      <td>103</td>\n",
       "      <td>11.45</td>\n",
       "      <td>13.7</td>\n",
       "      <td>3</td>\n",
       "      <td>3.70</td>\n",
       "      <td>1</td>\n",
       "      <td>False</td>\n",
       "    </tr>\n",
       "    <tr>\n",
       "      <th>2</th>\n",
       "      <td>NJ</td>\n",
       "      <td>137</td>\n",
       "      <td>415</td>\n",
       "      <td>No</td>\n",
       "      <td>No</td>\n",
       "      <td>0</td>\n",
       "      <td>243.4</td>\n",
       "      <td>114</td>\n",
       "      <td>41.38</td>\n",
       "      <td>121.2</td>\n",
       "      <td>110</td>\n",
       "      <td>10.30</td>\n",
       "      <td>162.6</td>\n",
       "      <td>104</td>\n",
       "      <td>7.32</td>\n",
       "      <td>12.2</td>\n",
       "      <td>5</td>\n",
       "      <td>3.29</td>\n",
       "      <td>0</td>\n",
       "      <td>False</td>\n",
       "    </tr>\n",
       "    <tr>\n",
       "      <th>3</th>\n",
       "      <td>OH</td>\n",
       "      <td>84</td>\n",
       "      <td>408</td>\n",
       "      <td>Yes</td>\n",
       "      <td>No</td>\n",
       "      <td>0</td>\n",
       "      <td>299.4</td>\n",
       "      <td>71</td>\n",
       "      <td>50.90</td>\n",
       "      <td>61.9</td>\n",
       "      <td>88</td>\n",
       "      <td>5.26</td>\n",
       "      <td>196.9</td>\n",
       "      <td>89</td>\n",
       "      <td>8.86</td>\n",
       "      <td>6.6</td>\n",
       "      <td>7</td>\n",
       "      <td>1.78</td>\n",
       "      <td>2</td>\n",
       "      <td>False</td>\n",
       "    </tr>\n",
       "    <tr>\n",
       "      <th>4</th>\n",
       "      <td>OK</td>\n",
       "      <td>75</td>\n",
       "      <td>415</td>\n",
       "      <td>Yes</td>\n",
       "      <td>No</td>\n",
       "      <td>0</td>\n",
       "      <td>166.7</td>\n",
       "      <td>113</td>\n",
       "      <td>28.34</td>\n",
       "      <td>148.3</td>\n",
       "      <td>122</td>\n",
       "      <td>12.61</td>\n",
       "      <td>186.9</td>\n",
       "      <td>121</td>\n",
       "      <td>8.41</td>\n",
       "      <td>10.1</td>\n",
       "      <td>3</td>\n",
       "      <td>2.73</td>\n",
       "      <td>3</td>\n",
       "      <td>False</td>\n",
       "    </tr>\n",
       "  </tbody>\n",
       "</table>\n",
       "</div>"
      ],
      "text/plain": [
       "  g_state  v_account length  g_area code v_international plan  \\\n",
       "0      KS               128          415                   No   \n",
       "1      OH               107          415                   No   \n",
       "2      NJ               137          415                   No   \n",
       "3      OH                84          408                  Yes   \n",
       "4      OK                75          415                  Yes   \n",
       "\n",
       "  v_voice mail plan  c_number vmail messages  c_total day minutes  \\\n",
       "0               Yes                       25                265.1   \n",
       "1               Yes                       26                161.6   \n",
       "2                No                        0                243.4   \n",
       "3                No                        0                299.4   \n",
       "4                No                        0                166.7   \n",
       "\n",
       "   c_total day calls  c_total day charge  c_total eve minutes  \\\n",
       "0                110               45.07                197.4   \n",
       "1                123               27.47                195.5   \n",
       "2                114               41.38                121.2   \n",
       "3                 71               50.90                 61.9   \n",
       "4                113               28.34                148.3   \n",
       "\n",
       "   c_total eve calls  c_total eve charge  c_total night minutes  \\\n",
       "0                 99               16.78                  244.7   \n",
       "1                103               16.62                  254.4   \n",
       "2                110               10.30                  162.6   \n",
       "3                 88                5.26                  196.9   \n",
       "4                122               12.61                  186.9   \n",
       "\n",
       "   c_total night calls  c_total night charge  c_total intl minutes  \\\n",
       "0                   91                 11.01                  10.0   \n",
       "1                  103                 11.45                  13.7   \n",
       "2                  104                  7.32                  12.2   \n",
       "3                   89                  8.86                   6.6   \n",
       "4                  121                  8.41                  10.1   \n",
       "\n",
       "   c_total intl calls  c_total intl charge  c_customer service calls  Churn  \n",
       "0                   3                 2.70                         1  False  \n",
       "1                   3                 3.70                         1  False  \n",
       "2                   5                 3.29                         0  False  \n",
       "3                   7                 1.78                         2  False  \n",
       "4                   3                 2.73                         3  False  "
      ]
     },
     "execution_count": 20,
     "metadata": {},
     "output_type": "execute_result"
    }
   ],
   "source": [
    "df.head(5)"
   ]
  },
  {
   "cell_type": "code",
   "execution_count": 31,
   "metadata": {},
   "outputs": [
    {
     "data": {
      "text/plain": [
       "['c_total day minutes',\n",
       " 'c_total day calls',\n",
       " 'c_total day charge',\n",
       " 'c_total eve minutes',\n",
       " 'c_total eve calls',\n",
       " 'c_total eve charge',\n",
       " 'c_total night minutes',\n",
       " 'c_total night calls',\n",
       " 'c_total night charge',\n",
       " 'c_total intl minutes',\n",
       " 'c_total intl calls']"
      ]
     },
     "execution_count": 31,
     "metadata": {},
     "output_type": "execute_result"
    }
   ],
   "source": [
    "# target = c_total intl charge\n",
    "variables = list(df.filter(like='c_total'))\n",
    "variables.pop(variables.index('c_total intl charge'))\n",
    "variables"
   ]
  },
  {
   "cell_type": "code",
   "execution_count": null,
   "metadata": {},
   "outputs": [],
   "source": []
  },
  {
   "cell_type": "code",
   "execution_count": null,
   "metadata": {},
   "outputs": [],
   "source": []
  },
  {
   "cell_type": "markdown",
   "metadata": {},
   "source": [
    "# Pipeline de clasificación\n",
    "Objetivos:\n",
    "*  Utilizar las variables necesarias para predecir si el cliente tiene o no contratado el servicio de buzón de voz (de igual forma, hay una variable sobrepredictiva que no deberá entrar al modelo).\n"
   ]
  }
 ],
 "metadata": {
  "interpreter": {
   "hash": "e42634819b8c191a5d07eaf23810ff32516dd8d3875f28ec3e488928fbd3c187"
  },
  "kernelspec": {
   "display_name": "Python 3.9.7 ('base')",
   "language": "python",
   "name": "python3"
  },
  "language_info": {
   "codemirror_mode": {
    "name": "ipython",
    "version": 3
   },
   "file_extension": ".py",
   "mimetype": "text/x-python",
   "name": "python",
   "nbconvert_exporter": "python",
   "pygments_lexer": "ipython3",
   "version": "3.9.7"
  },
  "orig_nbformat": 4,
  "vscode": {
   "interpreter": {
    "hash": "6833b3556e9f219de74e77b1bcd6bb6116d8db57b405927afc38b4936e200710"
   }
  }
 },
 "nbformat": 4,
 "nbformat_minor": 2
}
