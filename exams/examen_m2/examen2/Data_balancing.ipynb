{
 "cells": [
  {
   "cell_type": "code",
   "execution_count": 50,
   "id": "160644fb",
   "metadata": {
    "ExecuteTime": {
     "end_time": "2022-08-05T04:13:52.773074Z",
     "start_time": "2022-08-05T04:13:52.762099Z"
    }
   },
   "outputs": [],
   "source": [
    "import findspark\n",
    "findspark.init()\n",
    "\n",
    "import pandas as pd\n",
    "import pyspark\n",
    "from pyspark.sql import SparkSession\n",
    "from pyspark.sql.functions import col, explode, array, lit, monotonically_increasing_id \n",
    "\n",
    "spark = SparkSession.builder.master(\"local[8]\").appName(\"Examen_2_M2_DCDD\").getOrCreate()\n",
    "\n",
    "sc = spark.sparkContext\n",
    "\n",
    "import pandas as pd\n",
    "pd.set_option(\"display.max_columns\",200)"
   ]
  },
  {
   "cell_type": "code",
   "execution_count": 2,
   "id": "2f9a01fc",
   "metadata": {
    "ExecuteTime": {
     "end_time": "2022-08-05T04:05:43.611073Z",
     "start_time": "2022-08-05T04:05:43.597104Z"
    }
   },
   "outputs": [
    {
     "data": {
      "text/html": [
       "\n",
       "        <div>\n",
       "            <p><b>SparkContext</b></p>\n",
       "\n",
       "            <p><a href=\"http://SQPR14-Linux:4040\">Spark UI</a></p>\n",
       "\n",
       "            <dl>\n",
       "              <dt>Version</dt>\n",
       "                <dd><code>v3.1.2</code></dd>\n",
       "              <dt>Master</dt>\n",
       "                <dd><code>local[8]</code></dd>\n",
       "              <dt>AppName</dt>\n",
       "                <dd><code>Examen_2_M2_DCDD</code></dd>\n",
       "            </dl>\n",
       "        </div>\n",
       "        "
      ],
      "text/plain": [
       "<SparkContext master=local[8] appName=Examen_2_M2_DCDD>"
      ]
     },
     "execution_count": 2,
     "metadata": {},
     "output_type": "execute_result"
    }
   ],
   "source": [
    "sc"
   ]
  },
  {
   "cell_type": "code",
   "execution_count": 3,
   "id": "bc920db5",
   "metadata": {
    "ExecuteTime": {
     "end_time": "2022-08-05T04:05:43.625114Z",
     "start_time": "2022-08-05T04:05:43.616170Z"
    }
   },
   "outputs": [
    {
     "data": {
      "text/html": [
       "\n",
       "            <div>\n",
       "                <p><b>SparkSession - in-memory</b></p>\n",
       "                \n",
       "        <div>\n",
       "            <p><b>SparkContext</b></p>\n",
       "\n",
       "            <p><a href=\"http://SQPR14-Linux:4040\">Spark UI</a></p>\n",
       "\n",
       "            <dl>\n",
       "              <dt>Version</dt>\n",
       "                <dd><code>v3.1.2</code></dd>\n",
       "              <dt>Master</dt>\n",
       "                <dd><code>local[8]</code></dd>\n",
       "              <dt>AppName</dt>\n",
       "                <dd><code>Examen_2_M2_DCDD</code></dd>\n",
       "            </dl>\n",
       "        </div>\n",
       "        \n",
       "            </div>\n",
       "        "
      ],
      "text/plain": [
       "<pyspark.sql.session.SparkSession at 0x7f8eaff89b80>"
      ]
     },
     "execution_count": 3,
     "metadata": {},
     "output_type": "execute_result"
    }
   ],
   "source": [
    "spark"
   ]
  },
  {
   "cell_type": "code",
   "execution_count": 4,
   "id": "fafd6335",
   "metadata": {
    "ExecuteTime": {
     "end_time": "2022-08-05T04:05:43.634499Z",
     "start_time": "2022-08-05T04:05:43.627001Z"
    }
   },
   "outputs": [
    {
     "data": {
      "text/plain": [
       "['Credit Cards Transactions.zip',\n",
       " 'credit_card_transactions-ibm_v2.csv',\n",
       " 'sd254_cards.csv',\n",
       " 'sd254_users.csv',\n",
       " 'User0_credit_card_transactions.csv',\n",
       " 'balanced_tx.csv']"
      ]
     },
     "execution_count": 4,
     "metadata": {},
     "output_type": "execute_result"
    }
   ],
   "source": [
    "import os\n",
    "path = '../../../data/modulo2/examen/dataexam2/'\n",
    "os.listdir(path)"
   ]
  },
  {
   "cell_type": "code",
   "execution_count": 5,
   "id": "8f131244",
   "metadata": {
    "ExecuteTime": {
     "end_time": "2022-08-05T04:05:48.422222Z",
     "start_time": "2022-08-05T04:05:43.637147Z"
    }
   },
   "outputs": [
    {
     "name": "stderr",
     "output_type": "stream",
     "text": [
      "\r",
      "[Stage 0:>                                                          (0 + 1) / 1]\r",
      "\r",
      "                                                                                \r"
     ]
    }
   ],
   "source": [
    "#clients = spark.read.csv(path + 'sd254_users.csv')\n",
    "clients = spark.read.format('csv').option('header','true').load(path + 'sd254_users.csv')"
   ]
  },
  {
   "cell_type": "code",
   "execution_count": 6,
   "id": "3443ea53",
   "metadata": {
    "ExecuteTime": {
     "end_time": "2022-08-05T04:05:50.865851Z",
     "start_time": "2022-08-05T04:05:48.423650Z"
    }
   },
   "outputs": [
    {
     "name": "stderr",
     "output_type": "stream",
     "text": [
      "                                                                                \r"
     ]
    },
    {
     "data": {
      "text/plain": [
       "DataFrame[summary: string, id: string, Person: string, Current Age: string, Retirement Age: string, Birth Year: string, Birth Month: string, Gender: string, Address: string, Apartment: string, City: string, State: string, Zipcode: string, Latitude: string, Longitude: string, Per Capita Income - Zipcode: string, Yearly Income - Person: string, Total Debt: string, FICO Score: string, Num Credit Cards: string]"
      ]
     },
     "execution_count": 6,
     "metadata": {},
     "output_type": "execute_result"
    }
   ],
   "source": [
    "clients.describe()"
   ]
  },
  {
   "cell_type": "code",
   "execution_count": 7,
   "id": "efb6e4d4",
   "metadata": {
    "ExecuteTime": {
     "end_time": "2022-08-05T04:05:51.000077Z",
     "start_time": "2022-08-05T04:05:50.868083Z"
    }
   },
   "outputs": [
    {
     "data": {
      "text/plain": [
       "Row(id='0', Person='Hazel Robinson', Current Age='53', Retirement Age='66', Birth Year='1966', Birth Month='11', Gender='Female', Address='462 Rose Lane', Apartment=None, City='La Verne', State='CA', Zipcode='91750', Latitude='34.15', Longitude='-117.76', Per Capita Income - Zipcode='$29278', Yearly Income - Person='$59696', Total Debt='$127613', FICO Score='787', Num Credit Cards='5')"
      ]
     },
     "execution_count": 7,
     "metadata": {},
     "output_type": "execute_result"
    }
   ],
   "source": [
    "clients.head()"
   ]
  },
  {
   "cell_type": "code",
   "execution_count": 8,
   "id": "886a8ee8",
   "metadata": {
    "ExecuteTime": {
     "end_time": "2022-08-05T04:05:51.214780Z",
     "start_time": "2022-08-05T04:05:51.002220Z"
    }
   },
   "outputs": [],
   "source": [
    "# cards = spark.read.csv(path + 'sd254_cards.csv')\n",
    "cards = spark.read.format('csv').option('header', 'true').load(path + 'sd254_cards.csv')"
   ]
  },
  {
   "cell_type": "code",
   "execution_count": 9,
   "id": "067f7042",
   "metadata": {
    "ExecuteTime": {
     "end_time": "2022-08-05T04:05:51.312634Z",
     "start_time": "2022-08-05T04:05:51.219481Z"
    }
   },
   "outputs": [
    {
     "data": {
      "text/plain": [
       "Row(User='0', CARD INDEX='0', Card Brand='Visa', Card Type='Debit', Card Number='4344676511950444', Expires='12/2022', CVV='623', Has Chip='YES', Cards Issued='2', Credit Limit='$24295', Acct Open Date='09/2002', Year PIN last Changed='2008', Card on Dark Web='No')"
      ]
     },
     "execution_count": 9,
     "metadata": {},
     "output_type": "execute_result"
    }
   ],
   "source": [
    "cards.head()"
   ]
  },
  {
   "cell_type": "code",
   "execution_count": 10,
   "id": "6a823818",
   "metadata": {
    "ExecuteTime": {
     "end_time": "2022-08-05T04:05:51.517634Z",
     "start_time": "2022-08-05T04:05:51.315804Z"
    }
   },
   "outputs": [],
   "source": [
    "# tx = spark.read.csv(path + 'credit_card_transactions-ibm_v2.csv')\n",
    "tx = spark.read.format('csv').option('header', 'true').load(path + 'credit_card_transactions-ibm_v2.csv')"
   ]
  },
  {
   "cell_type": "code",
   "execution_count": 11,
   "id": "f0b736a4",
   "metadata": {
    "ExecuteTime": {
     "end_time": "2022-08-05T04:05:51.644945Z",
     "start_time": "2022-08-05T04:05:51.519568Z"
    }
   },
   "outputs": [
    {
     "data": {
      "text/plain": [
       "Row(User='0', Card='0', Year='2002', Month='9', Day='1', Time='06:21', Amount='$134.09', Use Chip='Swipe Transaction', Merchant Name='3527213246127876953', Merchant City='La Verne', Merchant State='CA', Zip='91750.0', MCC='5300', Errors?=None, Is Fraud?='No')"
      ]
     },
     "execution_count": 11,
     "metadata": {},
     "output_type": "execute_result"
    }
   ],
   "source": [
    "tx.head()"
   ]
  },
  {
   "cell_type": "code",
   "execution_count": 12,
   "id": "1481004b",
   "metadata": {
    "ExecuteTime": {
     "end_time": "2022-08-05T04:05:51.735462Z",
     "start_time": "2022-08-05T04:05:51.647611Z"
    }
   },
   "outputs": [
    {
     "data": {
      "text/plain": [
       "[Row(id='0', Person='Hazel Robinson', Current Age='53', Retirement Age='66', Birth Year='1966', Birth Month='11', Gender='Female', Address='462 Rose Lane', Apartment=None, City='La Verne', State='CA', Zipcode='91750', Latitude='34.15', Longitude='-117.76', Per Capita Income - Zipcode='$29278', Yearly Income - Person='$59696', Total Debt='$127613', FICO Score='787', Num Credit Cards='5'),\n",
       " Row(id='1', Person='Sasha Sadr', Current Age='53', Retirement Age='68', Birth Year='1966', Birth Month='12', Gender='Female', Address='3606 Federal Boulevard', Apartment=None, City='Little Neck', State='NY', Zipcode='11363', Latitude='40.76', Longitude='-73.74', Per Capita Income - Zipcode='$37891', Yearly Income - Person='$77254', Total Debt='$191349', FICO Score='701', Num Credit Cards='5'),\n",
       " Row(id='2', Person='Saanvi Lee', Current Age='81', Retirement Age='67', Birth Year='1938', Birth Month='11', Gender='Female', Address='766 Third Drive', Apartment=None, City='West Covina', State='CA', Zipcode='91792', Latitude='34.02', Longitude='-117.89', Per Capita Income - Zipcode='$22681', Yearly Income - Person='$33483', Total Debt='$196', FICO Score='698', Num Credit Cards='5'),\n",
       " Row(id='3', Person='Everlee Clark', Current Age='63', Retirement Age='63', Birth Year='1957', Birth Month='1', Gender='Female', Address='3 Madison Street', Apartment=None, City='New York', State='NY', Zipcode='10069', Latitude='40.71', Longitude='-73.99', Per Capita Income - Zipcode='$163145', Yearly Income - Person='$249925', Total Debt='$202328', FICO Score='722', Num Credit Cards='4'),\n",
       " Row(id='4', Person='Kyle Peterson', Current Age='43', Retirement Age='70', Birth Year='1976', Birth Month='9', Gender='Male', Address='9620 Valley Stream Drive', Apartment=None, City='San Francisco', State='CA', Zipcode='94117', Latitude='37.76', Longitude='-122.44', Per Capita Income - Zipcode='$53797', Yearly Income - Person='$109687', Total Debt='$183855', FICO Score='675', Num Credit Cards='1')]"
      ]
     },
     "execution_count": 12,
     "metadata": {},
     "output_type": "execute_result"
    }
   ],
   "source": [
    "clients.take(5)"
   ]
  },
  {
   "cell_type": "code",
   "execution_count": 13,
   "id": "370e8486",
   "metadata": {
    "ExecuteTime": {
     "end_time": "2022-08-05T04:05:51.833421Z",
     "start_time": "2022-08-05T04:05:51.737756Z"
    }
   },
   "outputs": [
    {
     "data": {
      "text/plain": [
       "[Row(User='0', CARD INDEX='0', Card Brand='Visa', Card Type='Debit', Card Number='4344676511950444', Expires='12/2022', CVV='623', Has Chip='YES', Cards Issued='2', Credit Limit='$24295', Acct Open Date='09/2002', Year PIN last Changed='2008', Card on Dark Web='No'),\n",
       " Row(User='0', CARD INDEX='1', Card Brand='Visa', Card Type='Debit', Card Number='4956965974959986', Expires='12/2020', CVV='393', Has Chip='YES', Cards Issued='2', Credit Limit='$21968', Acct Open Date='04/2014', Year PIN last Changed='2014', Card on Dark Web='No'),\n",
       " Row(User='0', CARD INDEX='2', Card Brand='Visa', Card Type='Debit', Card Number='4582313478255491', Expires='02/2024', CVV='719', Has Chip='YES', Cards Issued='2', Credit Limit='$46414', Acct Open Date='07/2003', Year PIN last Changed='2004', Card on Dark Web='No'),\n",
       " Row(User='0', CARD INDEX='3', Card Brand='Visa', Card Type='Credit', Card Number='4879494103069057', Expires='08/2024', CVV='693', Has Chip='NO', Cards Issued='1', Credit Limit='$12400', Acct Open Date='01/2003', Year PIN last Changed='2012', Card on Dark Web='No'),\n",
       " Row(User='0', CARD INDEX='4', Card Brand='Mastercard', Card Type='Debit (Prepaid)', Card Number='5722874738736011', Expires='03/2009', CVV='075', Has Chip='YES', Cards Issued='1', Credit Limit='$28', Acct Open Date='09/2008', Year PIN last Changed='2009', Card on Dark Web='No')]"
      ]
     },
     "execution_count": 13,
     "metadata": {},
     "output_type": "execute_result"
    }
   ],
   "source": [
    "cards.take(5)"
   ]
  },
  {
   "cell_type": "code",
   "execution_count": 14,
   "id": "d63d9136",
   "metadata": {
    "ExecuteTime": {
     "end_time": "2022-08-05T04:05:51.918448Z",
     "start_time": "2022-08-05T04:05:51.835786Z"
    }
   },
   "outputs": [
    {
     "data": {
      "text/plain": [
       "[Row(User='0', Card='0', Year='2002', Month='9', Day='1', Time='06:21', Amount='$134.09', Use Chip='Swipe Transaction', Merchant Name='3527213246127876953', Merchant City='La Verne', Merchant State='CA', Zip='91750.0', MCC='5300', Errors?=None, Is Fraud?='No'),\n",
       " Row(User='0', Card='0', Year='2002', Month='9', Day='1', Time='06:42', Amount='$38.48', Use Chip='Swipe Transaction', Merchant Name='-727612092139916043', Merchant City='Monterey Park', Merchant State='CA', Zip='91754.0', MCC='5411', Errors?=None, Is Fraud?='No'),\n",
       " Row(User='0', Card='0', Year='2002', Month='9', Day='2', Time='06:22', Amount='$120.34', Use Chip='Swipe Transaction', Merchant Name='-727612092139916043', Merchant City='Monterey Park', Merchant State='CA', Zip='91754.0', MCC='5411', Errors?=None, Is Fraud?='No'),\n",
       " Row(User='0', Card='0', Year='2002', Month='9', Day='2', Time='17:45', Amount='$128.95', Use Chip='Swipe Transaction', Merchant Name='3414527459579106770', Merchant City='Monterey Park', Merchant State='CA', Zip='91754.0', MCC='5651', Errors?=None, Is Fraud?='No'),\n",
       " Row(User='0', Card='0', Year='2002', Month='9', Day='3', Time='06:23', Amount='$104.71', Use Chip='Swipe Transaction', Merchant Name='5817218446178736267', Merchant City='La Verne', Merchant State='CA', Zip='91750.0', MCC='5912', Errors?=None, Is Fraud?='No')]"
      ]
     },
     "execution_count": 14,
     "metadata": {},
     "output_type": "execute_result"
    }
   ],
   "source": [
    "tx.take(5)"
   ]
  },
  {
   "cell_type": "code",
   "execution_count": 15,
   "id": "a3d7e032",
   "metadata": {
    "ExecuteTime": {
     "end_time": "2022-08-05T04:05:52.065893Z",
     "start_time": "2022-08-05T04:05:51.921934Z"
    }
   },
   "outputs": [
    {
     "name": "stdout",
     "output_type": "stream",
     "text": [
      "+---+--------------+-----------+--------------+----------+-----------+------+--------------------+---------+-------------+-----+-------+--------+---------+---------------------------+----------------------+----------+----------+----------------+\n",
      "| id|        Person|Current Age|Retirement Age|Birth Year|Birth Month|Gender|             Address|Apartment|         City|State|Zipcode|Latitude|Longitude|Per Capita Income - Zipcode|Yearly Income - Person|Total Debt|FICO Score|Num Credit Cards|\n",
      "+---+--------------+-----------+--------------+----------+-----------+------+--------------------+---------+-------------+-----+-------+--------+---------+---------------------------+----------------------+----------+----------+----------------+\n",
      "|  0|Hazel Robinson|         53|            66|      1966|         11|Female|       462 Rose Lane|     null|     La Verne|   CA|  91750|   34.15|  -117.76|                     $29278|                $59696|   $127613|       787|               5|\n",
      "|  1|    Sasha Sadr|         53|            68|      1966|         12|Female|3606 Federal Boul...|     null|  Little Neck|   NY|  11363|   40.76|   -73.74|                     $37891|                $77254|   $191349|       701|               5|\n",
      "|  2|    Saanvi Lee|         81|            67|      1938|         11|Female|     766 Third Drive|     null|  West Covina|   CA|  91792|   34.02|  -117.89|                     $22681|                $33483|      $196|       698|               5|\n",
      "|  3| Everlee Clark|         63|            63|      1957|          1|Female|    3 Madison Street|     null|     New York|   NY|  10069|   40.71|   -73.99|                    $163145|               $249925|   $202328|       722|               4|\n",
      "|  4| Kyle Peterson|         43|            70|      1976|          9|  Male|9620 Valley Strea...|     null|San Francisco|   CA|  94117|   37.76|  -122.44|                     $53797|               $109687|   $183855|       675|               1|\n",
      "+---+--------------+-----------+--------------+----------+-----------+------+--------------------+---------+-------------+-----+-------+--------+---------+---------------------------+----------------------+----------+----------+----------------+\n",
      "only showing top 5 rows\n",
      "\n"
     ]
    }
   ],
   "source": [
    "clients.show(5)"
   ]
  },
  {
   "cell_type": "code",
   "execution_count": 16,
   "id": "20dcfcd4",
   "metadata": {
    "ExecuteTime": {
     "end_time": "2022-08-05T04:05:52.185947Z",
     "start_time": "2022-08-05T04:05:52.069066Z"
    }
   },
   "outputs": [
    {
     "name": "stdout",
     "output_type": "stream",
     "text": [
      "+----+----------+----------+---------------+----------------+-------+---+--------+------------+------------+--------------+---------------------+----------------+\n",
      "|User|CARD INDEX|Card Brand|      Card Type|     Card Number|Expires|CVV|Has Chip|Cards Issued|Credit Limit|Acct Open Date|Year PIN last Changed|Card on Dark Web|\n",
      "+----+----------+----------+---------------+----------------+-------+---+--------+------------+------------+--------------+---------------------+----------------+\n",
      "|   0|         0|      Visa|          Debit|4344676511950444|12/2022|623|     YES|           2|      $24295|       09/2002|                 2008|              No|\n",
      "|   0|         1|      Visa|          Debit|4956965974959986|12/2020|393|     YES|           2|      $21968|       04/2014|                 2014|              No|\n",
      "|   0|         2|      Visa|          Debit|4582313478255491|02/2024|719|     YES|           2|      $46414|       07/2003|                 2004|              No|\n",
      "|   0|         3|      Visa|         Credit|4879494103069057|08/2024|693|      NO|           1|      $12400|       01/2003|                 2012|              No|\n",
      "|   0|         4|Mastercard|Debit (Prepaid)|5722874738736011|03/2009|075|     YES|           1|         $28|       09/2008|                 2009|              No|\n",
      "+----+----------+----------+---------------+----------------+-------+---+--------+------------+------------+--------------+---------------------+----------------+\n",
      "only showing top 5 rows\n",
      "\n"
     ]
    }
   ],
   "source": [
    "cards.show(5)"
   ]
  },
  {
   "cell_type": "code",
   "execution_count": 17,
   "id": "156da33f",
   "metadata": {
    "ExecuteTime": {
     "end_time": "2022-08-05T04:05:52.318124Z",
     "start_time": "2022-08-05T04:05:52.188554Z"
    }
   },
   "outputs": [
    {
     "name": "stdout",
     "output_type": "stream",
     "text": [
      "+----+----+----+-----+---+-----+-------+-----------------+-------------------+-------------+--------------+-------+----+-------+---------+\n",
      "|User|Card|Year|Month|Day| Time| Amount|         Use Chip|      Merchant Name|Merchant City|Merchant State|    Zip| MCC|Errors?|Is Fraud?|\n",
      "+----+----+----+-----+---+-----+-------+-----------------+-------------------+-------------+--------------+-------+----+-------+---------+\n",
      "|   0|   0|2002|    9|  1|06:21|$134.09|Swipe Transaction|3527213246127876953|     La Verne|            CA|91750.0|5300|   null|       No|\n",
      "|   0|   0|2002|    9|  1|06:42| $38.48|Swipe Transaction|-727612092139916043|Monterey Park|            CA|91754.0|5411|   null|       No|\n",
      "|   0|   0|2002|    9|  2|06:22|$120.34|Swipe Transaction|-727612092139916043|Monterey Park|            CA|91754.0|5411|   null|       No|\n",
      "|   0|   0|2002|    9|  2|17:45|$128.95|Swipe Transaction|3414527459579106770|Monterey Park|            CA|91754.0|5651|   null|       No|\n",
      "|   0|   0|2002|    9|  3|06:23|$104.71|Swipe Transaction|5817218446178736267|     La Verne|            CA|91750.0|5912|   null|       No|\n",
      "+----+----+----+-----+---+-----+-------+-----------------+-------------------+-------------+--------------+-------+----+-------+---------+\n",
      "only showing top 5 rows\n",
      "\n"
     ]
    }
   ],
   "source": [
    "tx.show(5)"
   ]
  },
  {
   "cell_type": "code",
   "execution_count": 18,
   "id": "fc4648b8",
   "metadata": {
    "ExecuteTime": {
     "end_time": "2022-08-05T04:05:52.521044Z",
     "start_time": "2022-08-05T04:05:52.321185Z"
    }
   },
   "outputs": [
    {
     "data": {
      "text/plain": [
       "2000"
      ]
     },
     "execution_count": 18,
     "metadata": {},
     "output_type": "execute_result"
    }
   ],
   "source": [
    "clients.count()"
   ]
  },
  {
   "cell_type": "code",
   "execution_count": 19,
   "id": "4564ab20",
   "metadata": {
    "ExecuteTime": {
     "end_time": "2022-08-05T04:05:52.530662Z",
     "start_time": "2022-08-05T04:05:52.523896Z"
    }
   },
   "outputs": [
    {
     "name": "stdout",
     "output_type": "stream",
     "text": [
      "root\n",
      " |-- User: string (nullable = true)\n",
      " |-- Card: string (nullable = true)\n",
      " |-- Year: string (nullable = true)\n",
      " |-- Month: string (nullable = true)\n",
      " |-- Day: string (nullable = true)\n",
      " |-- Time: string (nullable = true)\n",
      " |-- Amount: string (nullable = true)\n",
      " |-- Use Chip: string (nullable = true)\n",
      " |-- Merchant Name: string (nullable = true)\n",
      " |-- Merchant City: string (nullable = true)\n",
      " |-- Merchant State: string (nullable = true)\n",
      " |-- Zip: string (nullable = true)\n",
      " |-- MCC: string (nullable = true)\n",
      " |-- Errors?: string (nullable = true)\n",
      " |-- Is Fraud?: string (nullable = true)\n",
      "\n"
     ]
    }
   ],
   "source": [
    "tx.printSchema()"
   ]
  },
  {
   "cell_type": "code",
   "execution_count": 20,
   "id": "7f892b42",
   "metadata": {
    "ExecuteTime": {
     "end_time": "2022-08-05T04:05:52.540221Z",
     "start_time": "2022-08-05T04:05:52.533452Z"
    }
   },
   "outputs": [
    {
     "name": "stdout",
     "output_type": "stream",
     "text": [
      "root\n",
      " |-- User: string (nullable = true)\n",
      " |-- CARD INDEX: string (nullable = true)\n",
      " |-- Card Brand: string (nullable = true)\n",
      " |-- Card Type: string (nullable = true)\n",
      " |-- Card Number: string (nullable = true)\n",
      " |-- Expires: string (nullable = true)\n",
      " |-- CVV: string (nullable = true)\n",
      " |-- Has Chip: string (nullable = true)\n",
      " |-- Cards Issued: string (nullable = true)\n",
      " |-- Credit Limit: string (nullable = true)\n",
      " |-- Acct Open Date: string (nullable = true)\n",
      " |-- Year PIN last Changed: string (nullable = true)\n",
      " |-- Card on Dark Web: string (nullable = true)\n",
      "\n"
     ]
    }
   ],
   "source": [
    "cards.printSchema()"
   ]
  },
  {
   "cell_type": "code",
   "execution_count": 21,
   "id": "763d86b6",
   "metadata": {
    "ExecuteTime": {
     "end_time": "2022-08-05T04:05:52.547984Z",
     "start_time": "2022-08-05T04:05:52.543028Z"
    }
   },
   "outputs": [
    {
     "name": "stdout",
     "output_type": "stream",
     "text": [
      "root\n",
      " |-- id: string (nullable = true)\n",
      " |-- Person: string (nullable = true)\n",
      " |-- Current Age: string (nullable = true)\n",
      " |-- Retirement Age: string (nullable = true)\n",
      " |-- Birth Year: string (nullable = true)\n",
      " |-- Birth Month: string (nullable = true)\n",
      " |-- Gender: string (nullable = true)\n",
      " |-- Address: string (nullable = true)\n",
      " |-- Apartment: string (nullable = true)\n",
      " |-- City: string (nullable = true)\n",
      " |-- State: string (nullable = true)\n",
      " |-- Zipcode: string (nullable = true)\n",
      " |-- Latitude: string (nullable = true)\n",
      " |-- Longitude: string (nullable = true)\n",
      " |-- Per Capita Income - Zipcode: string (nullable = true)\n",
      " |-- Yearly Income - Person: string (nullable = true)\n",
      " |-- Total Debt: string (nullable = true)\n",
      " |-- FICO Score: string (nullable = true)\n",
      " |-- Num Credit Cards: string (nullable = true)\n",
      "\n"
     ]
    }
   ],
   "source": [
    "clients.printSchema()"
   ]
  },
  {
   "cell_type": "code",
   "execution_count": 22,
   "id": "01375e57",
   "metadata": {
    "ExecuteTime": {
     "end_time": "2022-08-05T04:05:52.662507Z",
     "start_time": "2022-08-05T04:05:52.550783Z"
    }
   },
   "outputs": [
    {
     "name": "stdout",
     "output_type": "stream",
     "text": [
      "-RECORD 0-------------------------------------------\n",
      " id                          | 0                    \n",
      " Person                      | Hazel Robinson       \n",
      " Current Age                 | 53                   \n",
      " Retirement Age              | 66                   \n",
      " Birth Year                  | 1966                 \n",
      " Birth Month                 | 11                   \n",
      " Gender                      | Female               \n",
      " Address                     | 462 Rose Lane        \n",
      " Apartment                   | null                 \n",
      " City                        | La Verne             \n",
      " State                       | CA                   \n",
      " Zipcode                     | 91750                \n",
      " Latitude                    | 34.15                \n",
      " Longitude                   | -117.76              \n",
      " Per Capita Income - Zipcode | $29278               \n",
      " Yearly Income - Person      | $59696               \n",
      " Total Debt                  | $127613              \n",
      " FICO Score                  | 787                  \n",
      " Num Credit Cards            | 5                    \n",
      "-RECORD 1-------------------------------------------\n",
      " id                          | 1                    \n",
      " Person                      | Sasha Sadr           \n",
      " Current Age                 | 53                   \n",
      " Retirement Age              | 68                   \n",
      " Birth Year                  | 1966                 \n",
      " Birth Month                 | 12                   \n",
      " Gender                      | Female               \n",
      " Address                     | 3606 Federal Boul... \n",
      " Apartment                   | null                 \n",
      " City                        | Little Neck          \n",
      " State                       | NY                   \n",
      " Zipcode                     | 11363                \n",
      " Latitude                    | 40.76                \n",
      " Longitude                   | -73.74               \n",
      " Per Capita Income - Zipcode | $37891               \n",
      " Yearly Income - Person      | $77254               \n",
      " Total Debt                  | $191349              \n",
      " FICO Score                  | 701                  \n",
      " Num Credit Cards            | 5                    \n",
      "-RECORD 2-------------------------------------------\n",
      " id                          | 2                    \n",
      " Person                      | Saanvi Lee           \n",
      " Current Age                 | 81                   \n",
      " Retirement Age              | 67                   \n",
      " Birth Year                  | 1938                 \n",
      " Birth Month                 | 11                   \n",
      " Gender                      | Female               \n",
      " Address                     | 766 Third Drive      \n",
      " Apartment                   | null                 \n",
      " City                        | West Covina          \n",
      " State                       | CA                   \n",
      " Zipcode                     | 91792                \n",
      " Latitude                    | 34.02                \n",
      " Longitude                   | -117.89              \n",
      " Per Capita Income - Zipcode | $22681               \n",
      " Yearly Income - Person      | $33483               \n",
      " Total Debt                  | $196                 \n",
      " FICO Score                  | 698                  \n",
      " Num Credit Cards            | 5                    \n",
      "only showing top 3 rows\n",
      "\n"
     ]
    }
   ],
   "source": [
    "clients.show(3, vertical=True)"
   ]
  },
  {
   "cell_type": "code",
   "execution_count": 23,
   "id": "1df12d70",
   "metadata": {
    "ExecuteTime": {
     "end_time": "2022-08-05T04:05:52.761956Z",
     "start_time": "2022-08-05T04:05:52.665589Z"
    }
   },
   "outputs": [
    {
     "name": "stdout",
     "output_type": "stream",
     "text": [
      "-RECORD 0---------------------------------\n",
      " User                  | 0                \n",
      " CARD INDEX            | 0                \n",
      " Card Brand            | Visa             \n",
      " Card Type             | Debit            \n",
      " Card Number           | 4344676511950444 \n",
      " Expires               | 12/2022          \n",
      " CVV                   | 623              \n",
      " Has Chip              | YES              \n",
      " Cards Issued          | 2                \n",
      " Credit Limit          | $24295           \n",
      " Acct Open Date        | 09/2002          \n",
      " Year PIN last Changed | 2008             \n",
      " Card on Dark Web      | No               \n",
      "-RECORD 1---------------------------------\n",
      " User                  | 0                \n",
      " CARD INDEX            | 1                \n",
      " Card Brand            | Visa             \n",
      " Card Type             | Debit            \n",
      " Card Number           | 4956965974959986 \n",
      " Expires               | 12/2020          \n",
      " CVV                   | 393              \n",
      " Has Chip              | YES              \n",
      " Cards Issued          | 2                \n",
      " Credit Limit          | $21968           \n",
      " Acct Open Date        | 04/2014          \n",
      " Year PIN last Changed | 2014             \n",
      " Card on Dark Web      | No               \n",
      "-RECORD 2---------------------------------\n",
      " User                  | 0                \n",
      " CARD INDEX            | 2                \n",
      " Card Brand            | Visa             \n",
      " Card Type             | Debit            \n",
      " Card Number           | 4582313478255491 \n",
      " Expires               | 02/2024          \n",
      " CVV                   | 719              \n",
      " Has Chip              | YES              \n",
      " Cards Issued          | 2                \n",
      " Credit Limit          | $46414           \n",
      " Acct Open Date        | 07/2003          \n",
      " Year PIN last Changed | 2004             \n",
      " Card on Dark Web      | No               \n",
      "-RECORD 3---------------------------------\n",
      " User                  | 0                \n",
      " CARD INDEX            | 3                \n",
      " Card Brand            | Visa             \n",
      " Card Type             | Credit           \n",
      " Card Number           | 4879494103069057 \n",
      " Expires               | 08/2024          \n",
      " CVV                   | 693              \n",
      " Has Chip              | NO               \n",
      " Cards Issued          | 1                \n",
      " Credit Limit          | $12400           \n",
      " Acct Open Date        | 01/2003          \n",
      " Year PIN last Changed | 2012             \n",
      " Card on Dark Web      | No               \n",
      "-RECORD 4---------------------------------\n",
      " User                  | 0                \n",
      " CARD INDEX            | 4                \n",
      " Card Brand            | Mastercard       \n",
      " Card Type             | Debit (Prepaid)  \n",
      " Card Number           | 5722874738736011 \n",
      " Expires               | 03/2009          \n",
      " CVV                   | 075              \n",
      " Has Chip              | YES              \n",
      " Cards Issued          | 1                \n",
      " Credit Limit          | $28              \n",
      " Acct Open Date        | 09/2008          \n",
      " Year PIN last Changed | 2009             \n",
      " Card on Dark Web      | No               \n",
      "-RECORD 5---------------------------------\n",
      " User                  | 1                \n",
      " CARD INDEX            | 0                \n",
      " Card Brand            | Visa             \n",
      " Card Type             | Credit           \n",
      " Card Number           | 4404898874682993 \n",
      " Expires               | 09/2003          \n",
      " CVV                   | 736              \n",
      " Has Chip              | YES              \n",
      " Cards Issued          | 1                \n",
      " Credit Limit          | $27500           \n",
      " Acct Open Date        | 09/2003          \n",
      " Year PIN last Changed | 2012             \n",
      " Card on Dark Web      | No               \n",
      "-RECORD 6---------------------------------\n",
      " User                  | 1                \n",
      " CARD INDEX            | 1                \n",
      " Card Brand            | Visa             \n",
      " Card Type             | Debit            \n",
      " Card Number           | 4001482973848631 \n",
      " Expires               | 07/2022          \n",
      " CVV                   | 972              \n",
      " Has Chip              | YES              \n",
      " Cards Issued          | 2                \n",
      " Credit Limit          | $28508           \n",
      " Acct Open Date        | 02/2011          \n",
      " Year PIN last Changed | 2011             \n",
      " Card on Dark Web      | No               \n",
      "-RECORD 7---------------------------------\n",
      " User                  | 1                \n",
      " CARD INDEX            | 2                \n",
      " Card Brand            | Mastercard       \n",
      " Card Type             | Debit            \n",
      " Card Number           | 5627220683410948 \n",
      " Expires               | 06/2022          \n",
      " CVV                   | 048              \n",
      " Has Chip              | YES              \n",
      " Cards Issued          | 2                \n",
      " Credit Limit          | $9022            \n",
      " Acct Open Date        | 07/2003          \n",
      " Year PIN last Changed | 2015             \n",
      " Card on Dark Web      | No               \n",
      "-RECORD 8---------------------------------\n",
      " User                  | 1                \n",
      " CARD INDEX            | 3                \n",
      " Card Brand            | Mastercard       \n",
      " Card Type             | Debit (Prepaid)  \n",
      " Card Number           | 5711382187309326 \n",
      " Expires               | 11/2020          \n",
      " CVV                   | 722              \n",
      " Has Chip              | YES              \n",
      " Cards Issued          | 2                \n",
      " Credit Limit          | $54              \n",
      " Acct Open Date        | 06/2010          \n",
      " Year PIN last Changed | 2015             \n",
      " Card on Dark Web      | No               \n",
      "-RECORD 9---------------------------------\n",
      " User                  | 1                \n",
      " CARD INDEX            | 4                \n",
      " Card Brand            | Mastercard       \n",
      " Card Type             | Debit (Prepaid)  \n",
      " Card Number           | 5766121508358701 \n",
      " Expires               | 02/2023          \n",
      " CVV                   | 908              \n",
      " Has Chip              | YES              \n",
      " Cards Issued          | 1                \n",
      " Credit Limit          | $99              \n",
      " Acct Open Date        | 07/2006          \n",
      " Year PIN last Changed | 2012             \n",
      " Card on Dark Web      | No               \n",
      "only showing top 10 rows\n",
      "\n"
     ]
    }
   ],
   "source": [
    "cards.show(10, vertical=True)"
   ]
  },
  {
   "cell_type": "code",
   "execution_count": 24,
   "id": "b58b7b7a",
   "metadata": {
    "ExecuteTime": {
     "end_time": "2022-08-05T04:05:52.861033Z",
     "start_time": "2022-08-05T04:05:52.764432Z"
    }
   },
   "outputs": [
    {
     "name": "stdout",
     "output_type": "stream",
     "text": [
      "-RECORD 0-----------------------------\n",
      " User           | 0                   \n",
      " Card           | 0                   \n",
      " Year           | 2002                \n",
      " Month          | 9                   \n",
      " Day            | 1                   \n",
      " Time           | 06:21               \n",
      " Amount         | $134.09             \n",
      " Use Chip       | Swipe Transaction   \n",
      " Merchant Name  | 3527213246127876953 \n",
      " Merchant City  | La Verne            \n",
      " Merchant State | CA                  \n",
      " Zip            | 91750.0             \n",
      " MCC            | 5300                \n",
      " Errors?        | null                \n",
      " Is Fraud?      | No                  \n",
      "-RECORD 1-----------------------------\n",
      " User           | 0                   \n",
      " Card           | 0                   \n",
      " Year           | 2002                \n",
      " Month          | 9                   \n",
      " Day            | 1                   \n",
      " Time           | 06:42               \n",
      " Amount         | $38.48              \n",
      " Use Chip       | Swipe Transaction   \n",
      " Merchant Name  | -727612092139916043 \n",
      " Merchant City  | Monterey Park       \n",
      " Merchant State | CA                  \n",
      " Zip            | 91754.0             \n",
      " MCC            | 5411                \n",
      " Errors?        | null                \n",
      " Is Fraud?      | No                  \n",
      "-RECORD 2-----------------------------\n",
      " User           | 0                   \n",
      " Card           | 0                   \n",
      " Year           | 2002                \n",
      " Month          | 9                   \n",
      " Day            | 2                   \n",
      " Time           | 06:22               \n",
      " Amount         | $120.34             \n",
      " Use Chip       | Swipe Transaction   \n",
      " Merchant Name  | -727612092139916043 \n",
      " Merchant City  | Monterey Park       \n",
      " Merchant State | CA                  \n",
      " Zip            | 91754.0             \n",
      " MCC            | 5411                \n",
      " Errors?        | null                \n",
      " Is Fraud?      | No                  \n",
      "only showing top 3 rows\n",
      "\n"
     ]
    }
   ],
   "source": [
    "tx.show(3, vertical=True)"
   ]
  },
  {
   "cell_type": "code",
   "execution_count": null,
   "id": "1efecc86",
   "metadata": {
    "ExecuteTime": {
     "end_time": "2022-08-05T00:36:51.424696Z",
     "start_time": "2022-08-05T00:36:51.402851Z"
    }
   },
   "outputs": [],
   "source": []
  },
  {
   "cell_type": "code",
   "execution_count": 25,
   "id": "45f414b3",
   "metadata": {
    "ExecuteTime": {
     "end_time": "2022-08-05T04:05:52.915105Z",
     "start_time": "2022-08-05T04:05:52.864021Z"
    }
   },
   "outputs": [],
   "source": [
    "tx_cards = tx.join(cards, tx['User'] == cards['User'],'right')"
   ]
  },
  {
   "cell_type": "code",
   "execution_count": 26,
   "id": "ca79cb1d",
   "metadata": {
    "ExecuteTime": {
     "end_time": "2022-08-05T04:06:10.084757Z",
     "start_time": "2022-08-05T04:05:52.917589Z"
    }
   },
   "outputs": [
    {
     "name": "stderr",
     "output_type": "stream",
     "text": [
      "                                                                                \r"
     ]
    },
    {
     "data": {
      "text/plain": [
       "89828418"
      ]
     },
     "execution_count": 26,
     "metadata": {},
     "output_type": "execute_result"
    }
   ],
   "source": [
    "tx_cards.count()"
   ]
  },
  {
   "cell_type": "code",
   "execution_count": 27,
   "id": "cef85e7f",
   "metadata": {
    "ExecuteTime": {
     "end_time": "2022-08-05T04:06:10.099883Z",
     "start_time": "2022-08-05T04:06:10.094805Z"
    }
   },
   "outputs": [
    {
     "name": "stdout",
     "output_type": "stream",
     "text": [
      "root\n",
      " |-- User: string (nullable = true)\n",
      " |-- Card: string (nullable = true)\n",
      " |-- Year: string (nullable = true)\n",
      " |-- Month: string (nullable = true)\n",
      " |-- Day: string (nullable = true)\n",
      " |-- Time: string (nullable = true)\n",
      " |-- Amount: string (nullable = true)\n",
      " |-- Use Chip: string (nullable = true)\n",
      " |-- Merchant Name: string (nullable = true)\n",
      " |-- Merchant City: string (nullable = true)\n",
      " |-- Merchant State: string (nullable = true)\n",
      " |-- Zip: string (nullable = true)\n",
      " |-- MCC: string (nullable = true)\n",
      " |-- Errors?: string (nullable = true)\n",
      " |-- Is Fraud?: string (nullable = true)\n",
      " |-- User: string (nullable = true)\n",
      " |-- CARD INDEX: string (nullable = true)\n",
      " |-- Card Brand: string (nullable = true)\n",
      " |-- Card Type: string (nullable = true)\n",
      " |-- Card Number: string (nullable = true)\n",
      " |-- Expires: string (nullable = true)\n",
      " |-- CVV: string (nullable = true)\n",
      " |-- Has Chip: string (nullable = true)\n",
      " |-- Cards Issued: string (nullable = true)\n",
      " |-- Credit Limit: string (nullable = true)\n",
      " |-- Acct Open Date: string (nullable = true)\n",
      " |-- Year PIN last Changed: string (nullable = true)\n",
      " |-- Card on Dark Web: string (nullable = true)\n",
      "\n"
     ]
    }
   ],
   "source": [
    "tx_cards.printSchema()"
   ]
  },
  {
   "cell_type": "code",
   "execution_count": 28,
   "id": "7843566c",
   "metadata": {
    "ExecuteTime": {
     "end_time": "2022-08-05T04:06:10.116196Z",
     "start_time": "2022-08-05T04:06:10.103643Z"
    }
   },
   "outputs": [],
   "source": [
    "tx = tx.withColumnRenamed('Is Fraud?', 'tgt')"
   ]
  },
  {
   "cell_type": "code",
   "execution_count": 29,
   "id": "047f3706",
   "metadata": {
    "ExecuteTime": {
     "end_time": "2022-08-05T04:06:20.172095Z",
     "start_time": "2022-08-05T04:06:10.118972Z"
    }
   },
   "outputs": [
    {
     "name": "stderr",
     "output_type": "stream",
     "text": [
      "                                                                                \r"
     ]
    },
    {
     "name": "stdout",
     "output_type": "stream",
     "text": [
      "+---+--------+\n",
      "|tgt|   count|\n",
      "+---+--------+\n",
      "| No|24357143|\n",
      "|Yes|   29757|\n",
      "+---+--------+\n",
      "\n"
     ]
    }
   ],
   "source": [
    "tx.groupBy('tgt').count().show()"
   ]
  },
  {
   "cell_type": "code",
   "execution_count": 30,
   "id": "29176203",
   "metadata": {
    "ExecuteTime": {
     "end_time": "2022-08-05T04:06:20.180370Z",
     "start_time": "2022-08-05T04:06:20.174347Z"
    }
   },
   "outputs": [
    {
     "data": {
      "text/plain": [
       "0.00122169500749739"
      ]
     },
     "execution_count": 30,
     "metadata": {},
     "output_type": "execute_result"
    }
   ],
   "source": [
    "29757/24357143"
   ]
  },
  {
   "cell_type": "markdown",
   "id": "c202204f",
   "metadata": {},
   "source": [
    "$x = \\frac{29,757*100}{40} = 74,392$\n",
    "\n",
    "Por lo que un dataFrame con proporción $60/40$ quedaría de tamaño 74,392 y se deben extraer 44,635 registros para 'Yes'\n",
    "\n",
    "Aprox...\n"
   ]
  },
  {
   "cell_type": "code",
   "execution_count": null,
   "id": "a78cd059",
   "metadata": {
    "ExecuteTime": {
     "end_time": "2022-08-05T01:14:37.710829Z",
     "start_time": "2022-08-05T01:14:37.703648Z"
    }
   },
   "outputs": [],
   "source": []
  },
  {
   "cell_type": "code",
   "execution_count": 1,
   "id": "252d203b",
   "metadata": {
    "ExecuteTime": {
     "end_time": "2022-08-05T04:06:20.215229Z",
     "start_time": "2022-08-05T04:06:20.182833Z"
    }
   },
   "outputs": [
    {
     "ename": "NameError",
     "evalue": "name 'tx' is not defined",
     "output_type": "error",
     "traceback": [
      "\u001b[0;31m---------------------------------------------------------------------------\u001b[0m",
      "\u001b[0;31mNameError\u001b[0m                                 Traceback (most recent call last)",
      "Input \u001b[0;32mIn [1]\u001b[0m, in \u001b[0;36m<cell line: 1>\u001b[0;34m()\u001b[0m\n\u001b[0;32m----> 1\u001b[0m major_tx \u001b[38;5;241m=\u001b[39m \u001b[43mtx\u001b[49m\u001b[38;5;241m.\u001b[39mfilter(col(\u001b[38;5;124m'\u001b[39m\u001b[38;5;124mtgt\u001b[39m\u001b[38;5;124m'\u001b[39m)\u001b[38;5;241m==\u001b[39m\u001b[38;5;124m'\u001b[39m\u001b[38;5;124mNo\u001b[39m\u001b[38;5;124m'\u001b[39m)\n\u001b[1;32m      2\u001b[0m minor_tx \u001b[38;5;241m=\u001b[39m tx\u001b[38;5;241m.\u001b[39mfilter(col(\u001b[38;5;124m'\u001b[39m\u001b[38;5;124mtgt\u001b[39m\u001b[38;5;124m'\u001b[39m)\u001b[38;5;241m==\u001b[39m\u001b[38;5;124m'\u001b[39m\u001b[38;5;124mYes\u001b[39m\u001b[38;5;124m'\u001b[39m)\n",
      "\u001b[0;31mNameError\u001b[0m: name 'tx' is not defined"
     ]
    }
   ],
   "source": [
    "major_tx = tx.filter(col('tgt')=='No')\n",
    "minor_tx = tx.filter(col('tgt')=='Yes')"
   ]
  },
  {
   "cell_type": "code",
   "execution_count": 32,
   "id": "65d26a5b",
   "metadata": {
    "ExecuteTime": {
     "end_time": "2022-08-05T04:06:20.251976Z",
     "start_time": "2022-08-05T04:06:20.219665Z"
    }
   },
   "outputs": [],
   "source": [
    "sampled_majority_tx = major_tx.sample(withReplacement=False, fraction=0.0018, seed=135482)\n",
    "balanced = sampled_majority_tx.unionAll(minor_tx)"
   ]
  },
  {
   "cell_type": "code",
   "execution_count": 33,
   "id": "9384886d",
   "metadata": {
    "ExecuteTime": {
     "end_time": "2022-08-05T04:06:36.532023Z",
     "start_time": "2022-08-05T04:06:20.254760Z"
    }
   },
   "outputs": [
    {
     "name": "stderr",
     "output_type": "stream",
     "text": [
      "                                                                                \r"
     ]
    },
    {
     "name": "stdout",
     "output_type": "stream",
     "text": [
      "+---+-----+\n",
      "|tgt|count|\n",
      "+---+-----+\n",
      "| No|44219|\n",
      "|Yes|29757|\n",
      "+---+-----+\n",
      "\n"
     ]
    }
   ],
   "source": [
    "balanced.groupBy('tgt').count().show()"
   ]
  },
  {
   "cell_type": "code",
   "execution_count": 34,
   "id": "deef078a",
   "metadata": {
    "ExecuteTime": {
     "end_time": "2022-08-05T04:06:36.539492Z",
     "start_time": "2022-08-05T04:06:36.534880Z"
    }
   },
   "outputs": [
    {
     "data": {
      "text/plain": [
       "73976"
      ]
     },
     "execution_count": 34,
     "metadata": {},
     "output_type": "execute_result"
    }
   ],
   "source": [
    "44219 + 29757"
   ]
  },
  {
   "cell_type": "code",
   "execution_count": 35,
   "id": "0d9e09c0",
   "metadata": {
    "ExecuteTime": {
     "end_time": "2022-08-05T04:06:36.550730Z",
     "start_time": "2022-08-05T04:06:36.541613Z"
    }
   },
   "outputs": [
    {
     "data": {
      "text/plain": [
       "0.5977479182437547"
      ]
     },
     "execution_count": 35,
     "metadata": {},
     "output_type": "execute_result"
    }
   ],
   "source": [
    "44219/73976"
   ]
  },
  {
   "cell_type": "code",
   "execution_count": 36,
   "id": "9e471218",
   "metadata": {
    "ExecuteTime": {
     "end_time": "2022-08-05T04:06:36.556974Z",
     "start_time": "2022-08-05T04:06:36.552639Z"
    }
   },
   "outputs": [
    {
     "data": {
      "text/plain": [
       "0.40225208175624527"
      ]
     },
     "execution_count": 36,
     "metadata": {},
     "output_type": "execute_result"
    }
   ],
   "source": [
    "29757/73976"
   ]
  },
  {
   "cell_type": "code",
   "execution_count": 38,
   "id": "d72a2659",
   "metadata": {
    "ExecuteTime": {
     "end_time": "2022-08-05T04:06:36.593070Z",
     "start_time": "2022-08-05T04:06:36.564080Z"
    }
   },
   "outputs": [],
   "source": [
    "cards_tx = cards.join(balanced, (cards['CARD INDEX'] == balanced['Card'])\n",
    "                      & (cards['User'] == balanced['User']), how='inner').drop(cards['User'])"
   ]
  },
  {
   "cell_type": "code",
   "execution_count": 39,
   "id": "31d1b771",
   "metadata": {
    "ExecuteTime": {
     "end_time": "2022-08-05T04:06:55.302225Z",
     "start_time": "2022-08-05T04:06:36.596745Z"
    }
   },
   "outputs": [
    {
     "name": "stderr",
     "output_type": "stream",
     "text": [
      "                                                                                \r"
     ]
    },
    {
     "data": {
      "text/plain": [
       "73976"
      ]
     },
     "execution_count": 39,
     "metadata": {},
     "output_type": "execute_result"
    }
   ],
   "source": [
    "cards_tx.count()"
   ]
  },
  {
   "cell_type": "code",
   "execution_count": 49,
   "id": "b2c4a2db",
   "metadata": {
    "ExecuteTime": {
     "end_time": "2022-08-05T04:12:07.572161Z",
     "start_time": "2022-08-05T04:12:07.218725Z"
    }
   },
   "outputs": [
    {
     "name": "stdout",
     "output_type": "stream",
     "text": [
      "+----------+----------+---------+----------------+-------+---+--------+------------+------------+--------------+---------------------+----------------+----+----+----+-----+---+-----+-------+------------------+--------------------+-------------+--------------+-------+----+-------+---+\n",
      "|CARD INDEX|Card Brand|Card Type|     Card Number|Expires|CVV|Has Chip|Cards Issued|Credit Limit|Acct Open Date|Year PIN last Changed|Card on Dark Web|User|Card|Year|Month|Day| Time| Amount|          Use Chip|       Merchant Name|Merchant City|Merchant State|    Zip| MCC|Errors?|tgt|\n",
      "+----------+----------+---------+----------------+-------+---+--------+------------+------------+--------------+---------------------+----------------+----+----+----+-----+---+-----+-------+------------------+--------------------+-------------+--------------+-------+----+-------+---+\n",
      "|         0|      Visa|    Debit|4344676511950444|12/2022|623|     YES|           2|      $24295|       09/2002|                 2008|              No|   0|   0|2003|    6| 28|13:19| $10.55| Swipe Transaction|-1605794445852049456|     La Verne|            CA|91750.0|5812|   null| No|\n",
      "|         0|      Visa|    Debit|4344676511950444|12/2022|623|     YES|           2|      $24295|       09/2002|                 2008|              No|   0|   0|2003|   10| 14|20:19| $58.47| Swipe Transaction|-5023497618971072366|    Mira Loma|            CA|91752.0|5812|   null| No|\n",
      "|         0|      Visa|    Debit|4344676511950444|12/2022|623|     YES|           2|      $24295|       09/2002|                 2008|              No|   0|   0|2004|    8|  8|06:15|$129.18| Swipe Transaction| -727612092139916043|Monterey Park|            CA|91754.0|5411|   null| No|\n",
      "|         0|      Visa|    Debit|4344676511950444|12/2022|623|     YES|           2|      $24295|       09/2002|                 2008|              No|   0|   0|2006|    9|  4|09:55| $48.86| Swipe Transaction| 3952145593743244256|     La Verne|            CA|91750.0|7538|   null| No|\n",
      "|         0|      Visa|    Debit|4344676511950444|12/2022|623|     YES|           2|      $24295|       09/2002|                 2008|              No|   0|   0|2010|    6| 10|17:43|  $5.29|Online Transaction|-2042049018365856408|       ONLINE|          null|   null|5815|   null| No|\n",
      "+----------+----------+---------+----------------+-------+---+--------+------------+------------+--------------+---------------------+----------------+----+----+----+-----+---+-----+-------+------------------+--------------------+-------------+--------------+-------+----+-------+---+\n",
      "only showing top 5 rows\n",
      "\n"
     ]
    }
   ],
   "source": [
    "cards_tx.show(5)"
   ]
  },
  {
   "cell_type": "code",
   "execution_count": 43,
   "id": "aef1be2a",
   "metadata": {
    "ExecuteTime": {
     "end_time": "2022-08-05T04:08:33.864217Z",
     "start_time": "2022-08-05T04:08:33.837745Z"
    }
   },
   "outputs": [],
   "source": [
    "clients = clients.select(\"*\").withColumn(\"id_\", monotonically_increasing_id())"
   ]
  },
  {
   "cell_type": "code",
   "execution_count": 54,
   "id": "a74420a8",
   "metadata": {
    "ExecuteTime": {
     "end_time": "2022-08-05T04:19:05.566947Z",
     "start_time": "2022-08-05T04:19:05.540397Z"
    }
   },
   "outputs": [],
   "source": [
    "final_tad = clients.join(cards_tx, (clients['id_'] == cards_tx['User']), how='inner').drop(clients['id_'])"
   ]
  },
  {
   "cell_type": "code",
   "execution_count": 55,
   "id": "ca3fdf84",
   "metadata": {
    "ExecuteTime": {
     "end_time": "2022-08-05T04:19:22.869426Z",
     "start_time": "2022-08-05T04:19:06.605095Z"
    }
   },
   "outputs": [
    {
     "name": "stderr",
     "output_type": "stream",
     "text": [
      "                                                                                \r"
     ]
    },
    {
     "data": {
      "text/plain": [
       "73976"
      ]
     },
     "execution_count": 55,
     "metadata": {},
     "output_type": "execute_result"
    }
   ],
   "source": [
    "final_tad.count()"
   ]
  },
  {
   "cell_type": "code",
   "execution_count": 56,
   "id": "ac29d8b2",
   "metadata": {
    "ExecuteTime": {
     "end_time": "2022-08-05T04:20:03.644917Z",
     "start_time": "2022-08-05T04:19:29.348133Z"
    }
   },
   "outputs": [
    {
     "name": "stderr",
     "output_type": "stream",
     "text": [
      "                                                                                \r"
     ]
    }
   ],
   "source": [
    "df = final_tad.toPandas()"
   ]
  },
  {
   "cell_type": "code",
   "execution_count": 57,
   "id": "60c66ae9",
   "metadata": {
    "ExecuteTime": {
     "end_time": "2022-08-05T04:21:00.489737Z",
     "start_time": "2022-08-05T04:21:00.438153Z"
    }
   },
   "outputs": [
    {
     "data": {
      "text/html": [
       "<div>\n",
       "<style scoped>\n",
       "    .dataframe tbody tr th:only-of-type {\n",
       "        vertical-align: middle;\n",
       "    }\n",
       "\n",
       "    .dataframe tbody tr th {\n",
       "        vertical-align: top;\n",
       "    }\n",
       "\n",
       "    .dataframe thead th {\n",
       "        text-align: right;\n",
       "    }\n",
       "</style>\n",
       "<table border=\"1\" class=\"dataframe\">\n",
       "  <thead>\n",
       "    <tr style=\"text-align: right;\">\n",
       "      <th></th>\n",
       "      <th>id</th>\n",
       "      <th>Person</th>\n",
       "      <th>Current Age</th>\n",
       "      <th>Retirement Age</th>\n",
       "      <th>Birth Year</th>\n",
       "      <th>Birth Month</th>\n",
       "      <th>Gender</th>\n",
       "      <th>Address</th>\n",
       "      <th>Apartment</th>\n",
       "      <th>City</th>\n",
       "      <th>State</th>\n",
       "      <th>Zipcode</th>\n",
       "      <th>Latitude</th>\n",
       "      <th>Longitude</th>\n",
       "      <th>Per Capita Income - Zipcode</th>\n",
       "      <th>Yearly Income - Person</th>\n",
       "      <th>Total Debt</th>\n",
       "      <th>FICO Score</th>\n",
       "      <th>Num Credit Cards</th>\n",
       "      <th>CARD INDEX</th>\n",
       "      <th>Card Brand</th>\n",
       "      <th>Card Type</th>\n",
       "      <th>Card Number</th>\n",
       "      <th>Expires</th>\n",
       "      <th>CVV</th>\n",
       "      <th>Has Chip</th>\n",
       "      <th>Cards Issued</th>\n",
       "      <th>Credit Limit</th>\n",
       "      <th>Acct Open Date</th>\n",
       "      <th>Year PIN last Changed</th>\n",
       "      <th>Card on Dark Web</th>\n",
       "      <th>User</th>\n",
       "      <th>Card</th>\n",
       "      <th>Year</th>\n",
       "      <th>Month</th>\n",
       "      <th>Day</th>\n",
       "      <th>Time</th>\n",
       "      <th>Amount</th>\n",
       "      <th>Use Chip</th>\n",
       "      <th>Merchant Name</th>\n",
       "      <th>Merchant City</th>\n",
       "      <th>Merchant State</th>\n",
       "      <th>Zip</th>\n",
       "      <th>MCC</th>\n",
       "      <th>Errors?</th>\n",
       "      <th>tgt</th>\n",
       "    </tr>\n",
       "  </thead>\n",
       "  <tbody>\n",
       "    <tr>\n",
       "      <th>0</th>\n",
       "      <td>0</td>\n",
       "      <td>Hazel Robinson</td>\n",
       "      <td>53</td>\n",
       "      <td>66</td>\n",
       "      <td>1966</td>\n",
       "      <td>11</td>\n",
       "      <td>Female</td>\n",
       "      <td>462 Rose Lane</td>\n",
       "      <td>None</td>\n",
       "      <td>La Verne</td>\n",
       "      <td>CA</td>\n",
       "      <td>91750</td>\n",
       "      <td>34.15</td>\n",
       "      <td>-117.76</td>\n",
       "      <td>$29278</td>\n",
       "      <td>$59696</td>\n",
       "      <td>$127613</td>\n",
       "      <td>787</td>\n",
       "      <td>5</td>\n",
       "      <td>0</td>\n",
       "      <td>Visa</td>\n",
       "      <td>Debit</td>\n",
       "      <td>4344676511950444</td>\n",
       "      <td>12/2022</td>\n",
       "      <td>623</td>\n",
       "      <td>YES</td>\n",
       "      <td>2</td>\n",
       "      <td>$24295</td>\n",
       "      <td>09/2002</td>\n",
       "      <td>2008</td>\n",
       "      <td>No</td>\n",
       "      <td>0</td>\n",
       "      <td>0</td>\n",
       "      <td>2003</td>\n",
       "      <td>6</td>\n",
       "      <td>28</td>\n",
       "      <td>13:19</td>\n",
       "      <td>$10.55</td>\n",
       "      <td>Swipe Transaction</td>\n",
       "      <td>-1605794445852049456</td>\n",
       "      <td>La Verne</td>\n",
       "      <td>CA</td>\n",
       "      <td>91750.0</td>\n",
       "      <td>5812</td>\n",
       "      <td>None</td>\n",
       "      <td>No</td>\n",
       "    </tr>\n",
       "    <tr>\n",
       "      <th>1</th>\n",
       "      <td>0</td>\n",
       "      <td>Hazel Robinson</td>\n",
       "      <td>53</td>\n",
       "      <td>66</td>\n",
       "      <td>1966</td>\n",
       "      <td>11</td>\n",
       "      <td>Female</td>\n",
       "      <td>462 Rose Lane</td>\n",
       "      <td>None</td>\n",
       "      <td>La Verne</td>\n",
       "      <td>CA</td>\n",
       "      <td>91750</td>\n",
       "      <td>34.15</td>\n",
       "      <td>-117.76</td>\n",
       "      <td>$29278</td>\n",
       "      <td>$59696</td>\n",
       "      <td>$127613</td>\n",
       "      <td>787</td>\n",
       "      <td>5</td>\n",
       "      <td>0</td>\n",
       "      <td>Visa</td>\n",
       "      <td>Debit</td>\n",
       "      <td>4344676511950444</td>\n",
       "      <td>12/2022</td>\n",
       "      <td>623</td>\n",
       "      <td>YES</td>\n",
       "      <td>2</td>\n",
       "      <td>$24295</td>\n",
       "      <td>09/2002</td>\n",
       "      <td>2008</td>\n",
       "      <td>No</td>\n",
       "      <td>0</td>\n",
       "      <td>0</td>\n",
       "      <td>2003</td>\n",
       "      <td>10</td>\n",
       "      <td>14</td>\n",
       "      <td>20:19</td>\n",
       "      <td>$58.47</td>\n",
       "      <td>Swipe Transaction</td>\n",
       "      <td>-5023497618971072366</td>\n",
       "      <td>Mira Loma</td>\n",
       "      <td>CA</td>\n",
       "      <td>91752.0</td>\n",
       "      <td>5812</td>\n",
       "      <td>None</td>\n",
       "      <td>No</td>\n",
       "    </tr>\n",
       "    <tr>\n",
       "      <th>2</th>\n",
       "      <td>0</td>\n",
       "      <td>Hazel Robinson</td>\n",
       "      <td>53</td>\n",
       "      <td>66</td>\n",
       "      <td>1966</td>\n",
       "      <td>11</td>\n",
       "      <td>Female</td>\n",
       "      <td>462 Rose Lane</td>\n",
       "      <td>None</td>\n",
       "      <td>La Verne</td>\n",
       "      <td>CA</td>\n",
       "      <td>91750</td>\n",
       "      <td>34.15</td>\n",
       "      <td>-117.76</td>\n",
       "      <td>$29278</td>\n",
       "      <td>$59696</td>\n",
       "      <td>$127613</td>\n",
       "      <td>787</td>\n",
       "      <td>5</td>\n",
       "      <td>0</td>\n",
       "      <td>Visa</td>\n",
       "      <td>Debit</td>\n",
       "      <td>4344676511950444</td>\n",
       "      <td>12/2022</td>\n",
       "      <td>623</td>\n",
       "      <td>YES</td>\n",
       "      <td>2</td>\n",
       "      <td>$24295</td>\n",
       "      <td>09/2002</td>\n",
       "      <td>2008</td>\n",
       "      <td>No</td>\n",
       "      <td>0</td>\n",
       "      <td>0</td>\n",
       "      <td>2004</td>\n",
       "      <td>8</td>\n",
       "      <td>8</td>\n",
       "      <td>06:15</td>\n",
       "      <td>$129.18</td>\n",
       "      <td>Swipe Transaction</td>\n",
       "      <td>-727612092139916043</td>\n",
       "      <td>Monterey Park</td>\n",
       "      <td>CA</td>\n",
       "      <td>91754.0</td>\n",
       "      <td>5411</td>\n",
       "      <td>None</td>\n",
       "      <td>No</td>\n",
       "    </tr>\n",
       "    <tr>\n",
       "      <th>3</th>\n",
       "      <td>0</td>\n",
       "      <td>Hazel Robinson</td>\n",
       "      <td>53</td>\n",
       "      <td>66</td>\n",
       "      <td>1966</td>\n",
       "      <td>11</td>\n",
       "      <td>Female</td>\n",
       "      <td>462 Rose Lane</td>\n",
       "      <td>None</td>\n",
       "      <td>La Verne</td>\n",
       "      <td>CA</td>\n",
       "      <td>91750</td>\n",
       "      <td>34.15</td>\n",
       "      <td>-117.76</td>\n",
       "      <td>$29278</td>\n",
       "      <td>$59696</td>\n",
       "      <td>$127613</td>\n",
       "      <td>787</td>\n",
       "      <td>5</td>\n",
       "      <td>0</td>\n",
       "      <td>Visa</td>\n",
       "      <td>Debit</td>\n",
       "      <td>4344676511950444</td>\n",
       "      <td>12/2022</td>\n",
       "      <td>623</td>\n",
       "      <td>YES</td>\n",
       "      <td>2</td>\n",
       "      <td>$24295</td>\n",
       "      <td>09/2002</td>\n",
       "      <td>2008</td>\n",
       "      <td>No</td>\n",
       "      <td>0</td>\n",
       "      <td>0</td>\n",
       "      <td>2006</td>\n",
       "      <td>9</td>\n",
       "      <td>4</td>\n",
       "      <td>09:55</td>\n",
       "      <td>$48.86</td>\n",
       "      <td>Swipe Transaction</td>\n",
       "      <td>3952145593743244256</td>\n",
       "      <td>La Verne</td>\n",
       "      <td>CA</td>\n",
       "      <td>91750.0</td>\n",
       "      <td>7538</td>\n",
       "      <td>None</td>\n",
       "      <td>No</td>\n",
       "    </tr>\n",
       "    <tr>\n",
       "      <th>4</th>\n",
       "      <td>0</td>\n",
       "      <td>Hazel Robinson</td>\n",
       "      <td>53</td>\n",
       "      <td>66</td>\n",
       "      <td>1966</td>\n",
       "      <td>11</td>\n",
       "      <td>Female</td>\n",
       "      <td>462 Rose Lane</td>\n",
       "      <td>None</td>\n",
       "      <td>La Verne</td>\n",
       "      <td>CA</td>\n",
       "      <td>91750</td>\n",
       "      <td>34.15</td>\n",
       "      <td>-117.76</td>\n",
       "      <td>$29278</td>\n",
       "      <td>$59696</td>\n",
       "      <td>$127613</td>\n",
       "      <td>787</td>\n",
       "      <td>5</td>\n",
       "      <td>0</td>\n",
       "      <td>Visa</td>\n",
       "      <td>Debit</td>\n",
       "      <td>4344676511950444</td>\n",
       "      <td>12/2022</td>\n",
       "      <td>623</td>\n",
       "      <td>YES</td>\n",
       "      <td>2</td>\n",
       "      <td>$24295</td>\n",
       "      <td>09/2002</td>\n",
       "      <td>2008</td>\n",
       "      <td>No</td>\n",
       "      <td>0</td>\n",
       "      <td>0</td>\n",
       "      <td>2010</td>\n",
       "      <td>6</td>\n",
       "      <td>10</td>\n",
       "      <td>17:43</td>\n",
       "      <td>$5.29</td>\n",
       "      <td>Online Transaction</td>\n",
       "      <td>-2042049018365856408</td>\n",
       "      <td>ONLINE</td>\n",
       "      <td>None</td>\n",
       "      <td>None</td>\n",
       "      <td>5815</td>\n",
       "      <td>None</td>\n",
       "      <td>No</td>\n",
       "    </tr>\n",
       "  </tbody>\n",
       "</table>\n",
       "</div>"
      ],
      "text/plain": [
       "  id          Person Current Age Retirement Age Birth Year Birth Month  \\\n",
       "0  0  Hazel Robinson          53             66       1966          11   \n",
       "1  0  Hazel Robinson          53             66       1966          11   \n",
       "2  0  Hazel Robinson          53             66       1966          11   \n",
       "3  0  Hazel Robinson          53             66       1966          11   \n",
       "4  0  Hazel Robinson          53             66       1966          11   \n",
       "\n",
       "   Gender        Address Apartment      City State Zipcode Latitude Longitude  \\\n",
       "0  Female  462 Rose Lane      None  La Verne    CA   91750    34.15   -117.76   \n",
       "1  Female  462 Rose Lane      None  La Verne    CA   91750    34.15   -117.76   \n",
       "2  Female  462 Rose Lane      None  La Verne    CA   91750    34.15   -117.76   \n",
       "3  Female  462 Rose Lane      None  La Verne    CA   91750    34.15   -117.76   \n",
       "4  Female  462 Rose Lane      None  La Verne    CA   91750    34.15   -117.76   \n",
       "\n",
       "  Per Capita Income - Zipcode Yearly Income - Person Total Debt FICO Score  \\\n",
       "0                      $29278                 $59696    $127613        787   \n",
       "1                      $29278                 $59696    $127613        787   \n",
       "2                      $29278                 $59696    $127613        787   \n",
       "3                      $29278                 $59696    $127613        787   \n",
       "4                      $29278                 $59696    $127613        787   \n",
       "\n",
       "  Num Credit Cards CARD INDEX Card Brand Card Type       Card Number  Expires  \\\n",
       "0                5          0       Visa     Debit  4344676511950444  12/2022   \n",
       "1                5          0       Visa     Debit  4344676511950444  12/2022   \n",
       "2                5          0       Visa     Debit  4344676511950444  12/2022   \n",
       "3                5          0       Visa     Debit  4344676511950444  12/2022   \n",
       "4                5          0       Visa     Debit  4344676511950444  12/2022   \n",
       "\n",
       "   CVV Has Chip Cards Issued Credit Limit Acct Open Date  \\\n",
       "0  623      YES            2       $24295        09/2002   \n",
       "1  623      YES            2       $24295        09/2002   \n",
       "2  623      YES            2       $24295        09/2002   \n",
       "3  623      YES            2       $24295        09/2002   \n",
       "4  623      YES            2       $24295        09/2002   \n",
       "\n",
       "  Year PIN last Changed Card on Dark Web User Card  Year Month Day   Time  \\\n",
       "0                  2008               No    0    0  2003     6  28  13:19   \n",
       "1                  2008               No    0    0  2003    10  14  20:19   \n",
       "2                  2008               No    0    0  2004     8   8  06:15   \n",
       "3                  2008               No    0    0  2006     9   4  09:55   \n",
       "4                  2008               No    0    0  2010     6  10  17:43   \n",
       "\n",
       "    Amount            Use Chip         Merchant Name  Merchant City  \\\n",
       "0   $10.55   Swipe Transaction  -1605794445852049456       La Verne   \n",
       "1   $58.47   Swipe Transaction  -5023497618971072366      Mira Loma   \n",
       "2  $129.18   Swipe Transaction   -727612092139916043  Monterey Park   \n",
       "3   $48.86   Swipe Transaction   3952145593743244256       La Verne   \n",
       "4    $5.29  Online Transaction  -2042049018365856408         ONLINE   \n",
       "\n",
       "  Merchant State      Zip   MCC Errors? tgt  \n",
       "0             CA  91750.0  5812    None  No  \n",
       "1             CA  91752.0  5812    None  No  \n",
       "2             CA  91754.0  5411    None  No  \n",
       "3             CA  91750.0  7538    None  No  \n",
       "4           None     None  5815    None  No  "
      ]
     },
     "execution_count": 57,
     "metadata": {},
     "output_type": "execute_result"
    }
   ],
   "source": [
    "df.head()"
   ]
  },
  {
   "cell_type": "code",
   "execution_count": 58,
   "id": "b652328b",
   "metadata": {
    "ExecuteTime": {
     "end_time": "2022-08-05T04:21:22.868901Z",
     "start_time": "2022-08-05T04:21:22.402769Z"
    }
   },
   "outputs": [
    {
     "name": "stdout",
     "output_type": "stream",
     "text": [
      "<class 'pandas.core.frame.DataFrame'>\n",
      "RangeIndex: 73976 entries, 0 to 73975\n",
      "Data columns (total 46 columns):\n",
      " #   Column                       Non-Null Count  Dtype \n",
      "---  ------                       --------------  ----- \n",
      " 0   id                           73976 non-null  object\n",
      " 1   Person                       73976 non-null  object\n",
      " 2   Current Age                  73976 non-null  object\n",
      " 3   Retirement Age               73976 non-null  object\n",
      " 4   Birth Year                   73976 non-null  object\n",
      " 5   Birth Month                  73976 non-null  object\n",
      " 6   Gender                       73976 non-null  object\n",
      " 7   Address                      73976 non-null  object\n",
      " 8   Apartment                    19451 non-null  object\n",
      " 9   City                         73976 non-null  object\n",
      " 10  State                        73976 non-null  object\n",
      " 11  Zipcode                      73976 non-null  object\n",
      " 12  Latitude                     73976 non-null  object\n",
      " 13  Longitude                    73976 non-null  object\n",
      " 14  Per Capita Income - Zipcode  73976 non-null  object\n",
      " 15  Yearly Income - Person       73976 non-null  object\n",
      " 16  Total Debt                   73976 non-null  object\n",
      " 17  FICO Score                   73976 non-null  object\n",
      " 18  Num Credit Cards             73976 non-null  object\n",
      " 19  CARD INDEX                   73976 non-null  object\n",
      " 20  Card Brand                   73976 non-null  object\n",
      " 21  Card Type                    73976 non-null  object\n",
      " 22  Card Number                  73976 non-null  object\n",
      " 23  Expires                      73976 non-null  object\n",
      " 24  CVV                          73976 non-null  object\n",
      " 25  Has Chip                     73976 non-null  object\n",
      " 26  Cards Issued                 73976 non-null  object\n",
      " 27  Credit Limit                 73976 non-null  object\n",
      " 28  Acct Open Date               73976 non-null  object\n",
      " 29  Year PIN last Changed        73976 non-null  object\n",
      " 30  Card on Dark Web             73976 non-null  object\n",
      " 31  User                         73976 non-null  object\n",
      " 32  Card                         73976 non-null  object\n",
      " 33  Year                         73976 non-null  object\n",
      " 34  Month                        73976 non-null  object\n",
      " 35  Day                          73976 non-null  object\n",
      " 36  Time                         73976 non-null  object\n",
      " 37  Amount                       73976 non-null  object\n",
      " 38  Use Chip                     73976 non-null  object\n",
      " 39  Merchant Name                73976 non-null  object\n",
      " 40  Merchant City                73976 non-null  object\n",
      " 41  Merchant State               50737 non-null  object\n",
      " 42  Zip                          43956 non-null  object\n",
      " 43  MCC                          73976 non-null  object\n",
      " 44  Errors?                      2040 non-null   object\n",
      " 45  tgt                          73976 non-null  object\n",
      "dtypes: object(46)\n",
      "memory usage: 26.0+ MB\n"
     ]
    }
   ],
   "source": [
    "df.info()"
   ]
  },
  {
   "cell_type": "code",
   "execution_count": 59,
   "id": "1724665c",
   "metadata": {
    "ExecuteTime": {
     "end_time": "2022-08-05T04:22:07.073609Z",
     "start_time": "2022-08-05T04:21:32.831465Z"
    }
   },
   "outputs": [
    {
     "name": "stderr",
     "output_type": "stream",
     "text": [
      "                                                                                \r"
     ]
    }
   ],
   "source": [
    "final_tad.toPandas().to_csv(path + 'fraud_detection.csv', index=False)"
   ]
  },
  {
   "cell_type": "code",
   "execution_count": null,
   "id": "71f2b0b9",
   "metadata": {},
   "outputs": [],
   "source": []
  },
  {
   "cell_type": "code",
   "execution_count": null,
   "id": "72961a27",
   "metadata": {},
   "outputs": [],
   "source": []
  },
  {
   "cell_type": "code",
   "execution_count": null,
   "id": "f5d40768",
   "metadata": {},
   "outputs": [],
   "source": []
  }
 ],
 "metadata": {
  "kernelspec": {
   "display_name": "DSS2anaconda",
   "language": "python",
   "name": "dss2anaconda"
  },
  "language_info": {
   "codemirror_mode": {
    "name": "ipython",
    "version": 3
   },
   "file_extension": ".py",
   "mimetype": "text/x-python",
   "name": "python",
   "nbconvert_exporter": "python",
   "pygments_lexer": "ipython3",
   "version": "3.10.4"
  },
  "latex_envs": {
   "LaTeX_envs_menu_present": true,
   "autoclose": false,
   "autocomplete": true,
   "bibliofile": "biblio.bib",
   "cite_by": "apalike",
   "current_citInitial": 1,
   "eqLabelWithNumbers": true,
   "eqNumInitial": 1,
   "hotkeys": {
    "equation": "Ctrl-E",
    "itemize": "Ctrl-I"
   },
   "labels_anchors": false,
   "latex_user_defs": false,
   "report_style_numbering": false,
   "user_envs_cfg": false
  },
  "varInspector": {
   "cols": {
    "lenName": 16,
    "lenType": 16,
    "lenVar": 40
   },
   "kernels_config": {
    "python": {
     "delete_cmd_postfix": "",
     "delete_cmd_prefix": "del ",
     "library": "var_list.py",
     "varRefreshCmd": "print(var_dic_list())"
    },
    "r": {
     "delete_cmd_postfix": ") ",
     "delete_cmd_prefix": "rm(",
     "library": "var_list.r",
     "varRefreshCmd": "cat(var_dic_list()) "
    }
   },
   "position": {
    "height": "377.85px",
    "left": "1574px",
    "right": "20px",
    "top": "120px",
    "width": "326px"
   },
   "types_to_exclude": [
    "module",
    "function",
    "builtin_function_or_method",
    "instance",
    "_Feature"
   ],
   "window_display": true
  }
 },
 "nbformat": 4,
 "nbformat_minor": 5
}
