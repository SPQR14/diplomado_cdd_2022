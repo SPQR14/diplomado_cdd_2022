{
 "cells": [
  {
   "cell_type": "code",
   "execution_count": 1,
   "id": "1e4150fc",
   "metadata": {
    "ExecuteTime": {
     "end_time": "2022-07-10T04:57:55.119207Z",
     "start_time": "2022-07-10T04:57:53.913273Z"
    }
   },
   "outputs": [],
   "source": [
    "# Data exploration and manipulation\n",
    "import pandas as pd\n",
    "import numpy as np\n",
    "import missingno as msno\n",
    "from scipy import stats\n",
    "\n",
    "# Data Transformation\n",
    "from sklearn.preprocessing import StandardScaler\n",
    "from sklearn.preprocessing import MinMaxScaler\n",
    "\n",
    "# Graphics\n",
    "from matplotlib import pyplot as plt\n",
    "import plotly.express as px\n",
    "import seaborn as sns\n",
    "\n",
    "# Options\n",
    "pd.set_option(\"display.max_columns\",200)\n",
    "%matplotlib inline\n",
    "\n",
    "# Other librarys\n",
    "import joblib\n",
    "import pickle\n",
    "import sys\n",
    "from sklearn.pipeline import make_pipeline\n",
    "\n",
    "# Model performance related libraries\n",
    "from sklearn.metrics import recall_score\n",
    "from sklearn.metrics import accuracy_score\n",
    "from sklearn.metrics import precision_score"
   ]
  },
  {
   "cell_type": "code",
   "execution_count": 2,
   "id": "3b8084c4",
   "metadata": {
    "ExecuteTime": {
     "end_time": "2022-07-10T04:57:55.162935Z",
     "start_time": "2022-07-10T04:57:55.120855Z"
    }
   },
   "outputs": [],
   "source": [
    "sys.path.insert(1, '../../usr_lib/')\n",
    "import utilities"
   ]
  },
  {
   "cell_type": "code",
   "execution_count": 3,
   "id": "886846ad",
   "metadata": {
    "ExecuteTime": {
     "end_time": "2022-07-10T04:57:55.168680Z",
     "start_time": "2022-07-10T04:57:55.165163Z"
    }
   },
   "outputs": [],
   "source": [
    "data_path = '../../data/modulo2/examen/DataExam1/'"
   ]
  },
  {
   "cell_type": "code",
   "execution_count": 4,
   "id": "2f086e56",
   "metadata": {
    "ExecuteTime": {
     "end_time": "2022-07-10T04:57:55.186697Z",
     "start_time": "2022-07-10T04:57:55.170562Z"
    }
   },
   "outputs": [],
   "source": [
    "df = pd.read_csv(data_path+'HR_train.csv', sep=',', encoding='utf8')"
   ]
  },
  {
   "cell_type": "code",
   "execution_count": 5,
   "id": "858b3de6",
   "metadata": {
    "ExecuteTime": {
     "end_time": "2022-07-10T04:57:55.210079Z",
     "start_time": "2022-07-10T04:57:55.188490Z"
    }
   },
   "outputs": [
    {
     "data": {
      "text/html": [
       "<div>\n",
       "<style scoped>\n",
       "    .dataframe tbody tr th:only-of-type {\n",
       "        vertical-align: middle;\n",
       "    }\n",
       "\n",
       "    .dataframe tbody tr th {\n",
       "        vertical-align: top;\n",
       "    }\n",
       "\n",
       "    .dataframe thead th {\n",
       "        text-align: right;\n",
       "    }\n",
       "</style>\n",
       "<table border=\"1\" class=\"dataframe\">\n",
       "  <thead>\n",
       "    <tr style=\"text-align: right;\">\n",
       "      <th></th>\n",
       "      <th>id</th>\n",
       "      <th>satisfaction_level</th>\n",
       "      <th>last_evaluation</th>\n",
       "      <th>number_project</th>\n",
       "      <th>average_montly_hours</th>\n",
       "      <th>time_spend_company</th>\n",
       "      <th>Work_accident</th>\n",
       "      <th>promotion_last_5years</th>\n",
       "      <th>area</th>\n",
       "      <th>salary</th>\n",
       "      <th>left</th>\n",
       "    </tr>\n",
       "  </thead>\n",
       "  <tbody>\n",
       "    <tr>\n",
       "      <th>0</th>\n",
       "      <td>10557</td>\n",
       "      <td>0.81</td>\n",
       "      <td>0.75</td>\n",
       "      <td>5</td>\n",
       "      <td>101</td>\n",
       "      <td>5</td>\n",
       "      <td>0</td>\n",
       "      <td>0</td>\n",
       "      <td>sales</td>\n",
       "      <td>medium</td>\n",
       "      <td>0</td>\n",
       "    </tr>\n",
       "    <tr>\n",
       "      <th>1</th>\n",
       "      <td>12910</td>\n",
       "      <td>0.79</td>\n",
       "      <td>0.49</td>\n",
       "      <td>3</td>\n",
       "      <td>273</td>\n",
       "      <td>3</td>\n",
       "      <td>0</td>\n",
       "      <td>0</td>\n",
       "      <td>sales</td>\n",
       "      <td>medium</td>\n",
       "      <td>0</td>\n",
       "    </tr>\n",
       "    <tr>\n",
       "      <th>2</th>\n",
       "      <td>9657</td>\n",
       "      <td>0.58</td>\n",
       "      <td>0.49</td>\n",
       "      <td>2</td>\n",
       "      <td>107</td>\n",
       "      <td>3</td>\n",
       "      <td>0</td>\n",
       "      <td>0</td>\n",
       "      <td>technical</td>\n",
       "      <td>medium</td>\n",
       "      <td>0</td>\n",
       "    </tr>\n",
       "    <tr>\n",
       "      <th>3</th>\n",
       "      <td>2477</td>\n",
       "      <td>0.81</td>\n",
       "      <td>0.83</td>\n",
       "      <td>3</td>\n",
       "      <td>196</td>\n",
       "      <td>2</td>\n",
       "      <td>0</td>\n",
       "      <td>0</td>\n",
       "      <td>technical</td>\n",
       "      <td>low</td>\n",
       "      <td>0</td>\n",
       "    </tr>\n",
       "    <tr>\n",
       "      <th>4</th>\n",
       "      <td>2699</td>\n",
       "      <td>0.30</td>\n",
       "      <td>0.86</td>\n",
       "      <td>3</td>\n",
       "      <td>276</td>\n",
       "      <td>5</td>\n",
       "      <td>1</td>\n",
       "      <td>0</td>\n",
       "      <td>accounting</td>\n",
       "      <td>low</td>\n",
       "      <td>0</td>\n",
       "    </tr>\n",
       "  </tbody>\n",
       "</table>\n",
       "</div>"
      ],
      "text/plain": [
       "      id  satisfaction_level  last_evaluation  number_project  \\\n",
       "0  10557                0.81             0.75               5   \n",
       "1  12910                0.79             0.49               3   \n",
       "2   9657                0.58             0.49               2   \n",
       "3   2477                0.81             0.83               3   \n",
       "4   2699                0.30             0.86               3   \n",
       "\n",
       "   average_montly_hours  time_spend_company  Work_accident  \\\n",
       "0                   101                   5              0   \n",
       "1                   273                   3              0   \n",
       "2                   107                   3              0   \n",
       "3                   196                   2              0   \n",
       "4                   276                   5              1   \n",
       "\n",
       "   promotion_last_5years        area  salary  left  \n",
       "0                      0       sales  medium     0  \n",
       "1                      0       sales  medium     0  \n",
       "2                      0   technical  medium     0  \n",
       "3                      0   technical     low     0  \n",
       "4                      0  accounting     low     0  "
      ]
     },
     "execution_count": 5,
     "metadata": {},
     "output_type": "execute_result"
    }
   ],
   "source": [
    "df.head()"
   ]
  },
  {
   "cell_type": "markdown",
   "id": "dbfa7896",
   "metadata": {},
   "source": [
    "# Etiquetado de variables"
   ]
  },
  {
   "cell_type": "code",
   "execution_count": 6,
   "id": "f12e5fa2",
   "metadata": {
    "ExecuteTime": {
     "end_time": "2022-07-10T04:57:55.215585Z",
     "start_time": "2022-07-10T04:57:55.212612Z"
    }
   },
   "outputs": [],
   "source": [
    "var_c = ['satisfaction_level', 'last_evaluation', 'number_project', 'average_montly_hours',\n",
    "        'time_spend_company', 'Work_accident', 'promotion_last_5years']\n",
    "var_v = ['area', 'salary']"
   ]
  },
  {
   "cell_type": "code",
   "execution_count": 7,
   "id": "96110676",
   "metadata": {
    "ExecuteTime": {
     "end_time": "2022-07-10T04:57:55.224785Z",
     "start_time": "2022-07-10T04:57:55.218959Z"
    }
   },
   "outputs": [],
   "source": [
    "df = utilities.rename_variables(df, var_c, 'c_')\n",
    "df = utilities.rename_variables(df, var_v, 'v_')\n",
    "df.rename(columns = {'left':'tgt_left'}, inplace=True)"
   ]
  },
  {
   "cell_type": "code",
   "execution_count": 8,
   "id": "aaf4cf9d",
   "metadata": {
    "ExecuteTime": {
     "end_time": "2022-07-10T04:57:55.232872Z",
     "start_time": "2022-07-10T04:57:55.227244Z"
    }
   },
   "outputs": [],
   "source": [
    "var = list(df.columns)\n",
    "var.pop(var.index('tgt_left'))\n",
    "var_v_n = list(df.filter(like='v_'))\n",
    "var_c_n = list(df.filter(like='c_'))\n",
    "tar = 'tgt_left'"
   ]
  },
  {
   "cell_type": "code",
   "execution_count": 9,
   "id": "eef13d02",
   "metadata": {
    "ExecuteTime": {
     "end_time": "2022-07-10T04:57:55.244676Z",
     "start_time": "2022-07-10T04:57:55.235725Z"
    }
   },
   "outputs": [],
   "source": [
    "from sklearn.model_selection import train_test_split\n",
    "X = df[var].copy()\n",
    "y = df[tar].copy()\n",
    "Xt, Xv, yt, yv = train_test_split(X, y, test_size=0.2, random_state=234)"
   ]
  },
  {
   "cell_type": "code",
   "execution_count": 10,
   "id": "08b4fd8a",
   "metadata": {
    "ExecuteTime": {
     "end_time": "2022-07-10T04:57:55.254014Z",
     "start_time": "2022-07-10T04:57:55.246738Z"
    }
   },
   "outputs": [],
   "source": [
    "def normalize_categorical_variable(df, column, threshold = 0.05, label='cat', other_label='others', new_col=True):\n",
    "    aux = pd.DataFrame(df[column].value_counts(1, dropna=False))\n",
    "    aux[label] = aux.index\n",
    "    aux[label] = aux[label].map(lambda x:x if aux.loc[x, column] > threshold else other_label)\n",
    "    aux_dict = dict(zip(aux.index, aux[label]))\n",
    "    if new_col:\n",
    "        df[column + '_norm'] = df[column].map(aux_dict)\n",
    "    else:\n",
    "        df[column] = df[column].map(aux_dict)\n",
    "    return(df, aux_dict)\n",
    "\n",
    "def woe(df, column, tar, label='_woe'):\n",
    "    df[column].fillna('Missings', inplace=True)\n",
    "    aux = df[[tar, column]].pivot_table(index=column, columns=tar, aggfunc='size')\n",
    "    woe = aux.apply(lambda x:x/sum(x)).apply(lambda x:np.log(x[1]/x[0]), axis=1)\n",
    "    aux['WoE'] = woe\n",
    "    aux_dict = dict(zip(aux.index, aux['WoE']))\n",
    "    df[column + label] = df[column].map(aux_dict)\n",
    "    return(df, aux_dict)"
   ]
  },
  {
   "cell_type": "code",
   "execution_count": 11,
   "id": "fdef5fc0",
   "metadata": {
    "ExecuteTime": {
     "end_time": "2022-07-10T04:57:55.295093Z",
     "start_time": "2022-07-10T04:57:55.255433Z"
    }
   },
   "outputs": [],
   "source": [
    "aux = Xt.copy()\n",
    "aux['tgt_left'] = yt.copy()\n",
    "woes = dict()\n",
    "norms = dict()\n",
    "for c in list(df.filter(like='v_')):\n",
    "    aux, norms[c] = normalize_categorical_variable(aux, c)\n",
    "    aux, woes[c] = woe(aux, c + '_norm', tar)"
   ]
  },
  {
   "cell_type": "code",
   "execution_count": 12,
   "id": "c69b0050",
   "metadata": {
    "ExecuteTime": {
     "end_time": "2022-07-10T04:57:55.312088Z",
     "start_time": "2022-07-10T04:57:55.297467Z"
    }
   },
   "outputs": [
    {
     "data": {
      "text/html": [
       "<div>\n",
       "<style scoped>\n",
       "    .dataframe tbody tr th:only-of-type {\n",
       "        vertical-align: middle;\n",
       "    }\n",
       "\n",
       "    .dataframe tbody tr th {\n",
       "        vertical-align: top;\n",
       "    }\n",
       "\n",
       "    .dataframe thead th {\n",
       "        text-align: right;\n",
       "    }\n",
       "</style>\n",
       "<table border=\"1\" class=\"dataframe\">\n",
       "  <thead>\n",
       "    <tr style=\"text-align: right;\">\n",
       "      <th></th>\n",
       "      <th>id</th>\n",
       "      <th>c_satisfaction_level</th>\n",
       "      <th>c_last_evaluation</th>\n",
       "      <th>c_number_project</th>\n",
       "      <th>c_average_montly_hours</th>\n",
       "      <th>c_time_spend_company</th>\n",
       "      <th>c_work_accident</th>\n",
       "      <th>c_promotion_last_5years</th>\n",
       "      <th>v_area</th>\n",
       "      <th>v_salary</th>\n",
       "      <th>tgt_left</th>\n",
       "      <th>v_area_norm</th>\n",
       "      <th>v_area_norm_woe</th>\n",
       "      <th>v_salary_norm</th>\n",
       "      <th>v_salary_norm_woe</th>\n",
       "    </tr>\n",
       "  </thead>\n",
       "  <tbody>\n",
       "    <tr>\n",
       "      <th>5695</th>\n",
       "      <td>10116</td>\n",
       "      <td>0.99</td>\n",
       "      <td>0.55</td>\n",
       "      <td>3</td>\n",
       "      <td>97</td>\n",
       "      <td>6</td>\n",
       "      <td>1</td>\n",
       "      <td>0</td>\n",
       "      <td>technical</td>\n",
       "      <td>medium</td>\n",
       "      <td>0</td>\n",
       "      <td>technical</td>\n",
       "      <td>0.137832</td>\n",
       "      <td>medium</td>\n",
       "      <td>-0.168074</td>\n",
       "    </tr>\n",
       "    <tr>\n",
       "      <th>8380</th>\n",
       "      <td>5844</td>\n",
       "      <td>0.49</td>\n",
       "      <td>0.92</td>\n",
       "      <td>4</td>\n",
       "      <td>229</td>\n",
       "      <td>2</td>\n",
       "      <td>0</td>\n",
       "      <td>0</td>\n",
       "      <td>technical</td>\n",
       "      <td>low</td>\n",
       "      <td>0</td>\n",
       "      <td>technical</td>\n",
       "      <td>0.137832</td>\n",
       "      <td>low</td>\n",
       "      <td>0.278603</td>\n",
       "    </tr>\n",
       "    <tr>\n",
       "      <th>3480</th>\n",
       "      <td>9418</td>\n",
       "      <td>0.74</td>\n",
       "      <td>0.51</td>\n",
       "      <td>5</td>\n",
       "      <td>198</td>\n",
       "      <td>3</td>\n",
       "      <td>0</td>\n",
       "      <td>0</td>\n",
       "      <td>hr</td>\n",
       "      <td>low</td>\n",
       "      <td>0</td>\n",
       "      <td>others</td>\n",
       "      <td>-0.126034</td>\n",
       "      <td>low</td>\n",
       "      <td>0.278603</td>\n",
       "    </tr>\n",
       "    <tr>\n",
       "      <th>10464</th>\n",
       "      <td>4592</td>\n",
       "      <td>0.89</td>\n",
       "      <td>0.90</td>\n",
       "      <td>3</td>\n",
       "      <td>240</td>\n",
       "      <td>3</td>\n",
       "      <td>0</td>\n",
       "      <td>0</td>\n",
       "      <td>sales</td>\n",
       "      <td>high</td>\n",
       "      <td>0</td>\n",
       "      <td>sales</td>\n",
       "      <td>0.032835</td>\n",
       "      <td>high</td>\n",
       "      <td>-1.429043</td>\n",
       "    </tr>\n",
       "    <tr>\n",
       "      <th>5134</th>\n",
       "      <td>11647</td>\n",
       "      <td>0.31</td>\n",
       "      <td>0.63</td>\n",
       "      <td>4</td>\n",
       "      <td>104</td>\n",
       "      <td>7</td>\n",
       "      <td>1</td>\n",
       "      <td>0</td>\n",
       "      <td>sales</td>\n",
       "      <td>medium</td>\n",
       "      <td>0</td>\n",
       "      <td>sales</td>\n",
       "      <td>0.032835</td>\n",
       "      <td>medium</td>\n",
       "      <td>-0.168074</td>\n",
       "    </tr>\n",
       "  </tbody>\n",
       "</table>\n",
       "</div>"
      ],
      "text/plain": [
       "          id  c_satisfaction_level  c_last_evaluation  c_number_project  \\\n",
       "5695   10116                  0.99               0.55                 3   \n",
       "8380    5844                  0.49               0.92                 4   \n",
       "3480    9418                  0.74               0.51                 5   \n",
       "10464   4592                  0.89               0.90                 3   \n",
       "5134   11647                  0.31               0.63                 4   \n",
       "\n",
       "       c_average_montly_hours  c_time_spend_company  c_work_accident  \\\n",
       "5695                       97                     6                1   \n",
       "8380                      229                     2                0   \n",
       "3480                      198                     3                0   \n",
       "10464                     240                     3                0   \n",
       "5134                      104                     7                1   \n",
       "\n",
       "       c_promotion_last_5years     v_area v_salary  tgt_left v_area_norm  \\\n",
       "5695                         0  technical   medium         0   technical   \n",
       "8380                         0  technical      low         0   technical   \n",
       "3480                         0         hr      low         0      others   \n",
       "10464                        0      sales     high         0       sales   \n",
       "5134                         0      sales   medium         0       sales   \n",
       "\n",
       "       v_area_norm_woe v_salary_norm  v_salary_norm_woe  \n",
       "5695          0.137832        medium          -0.168074  \n",
       "8380          0.137832           low           0.278603  \n",
       "3480         -0.126034           low           0.278603  \n",
       "10464         0.032835          high          -1.429043  \n",
       "5134          0.032835        medium          -0.168074  "
      ]
     },
     "execution_count": 12,
     "metadata": {},
     "output_type": "execute_result"
    }
   ],
   "source": [
    "aux.head()"
   ]
  },
  {
   "cell_type": "code",
   "execution_count": 13,
   "id": "2634b861",
   "metadata": {
    "ExecuteTime": {
     "end_time": "2022-07-10T04:57:55.317273Z",
     "start_time": "2022-07-10T04:57:55.313943Z"
    }
   },
   "outputs": [],
   "source": [
    "def woe_norms(df, disc_cols, woe_cols, disc_dict, woe_dict, disc_label='_norm', woe_label='_woe'):\n",
    "    for c in disc_cols:\n",
    "        df[c+disc_label] = df[c].map(lambda x:disc_dict.get(c).get(x, 'Others'))\n",
    "    for c in woe_cols:\n",
    "        df[c+woe_label] = df[c].map(lambda x:woe_dict.get(c).get(x, 0))\n",
    "    return(df.fillna(0))"
   ]
  },
  {
   "cell_type": "code",
   "execution_count": 14,
   "id": "614523e8",
   "metadata": {
    "ExecuteTime": {
     "end_time": "2022-07-10T04:57:55.356776Z",
     "start_time": "2022-07-10T04:57:55.319016Z"
    }
   },
   "outputs": [
    {
     "name": "stderr",
     "output_type": "stream",
     "text": [
      "/home/sqpr14_/anaconda3/envs/dss/lib/python3.8/site-packages/pandas/core/frame.py:3607: SettingWithCopyWarning: \n",
      "A value is trying to be set on a copy of a slice from a DataFrame.\n",
      "Try using .loc[row_indexer,col_indexer] = value instead\n",
      "\n",
      "See the caveats in the documentation: https://pandas.pydata.org/pandas-docs/stable/user_guide/indexing.html#returning-a-view-versus-a-copy\n",
      "  self._set_item(key, value)\n"
     ]
    },
    {
     "data": {
      "text/html": [
       "<div>\n",
       "<style scoped>\n",
       "    .dataframe tbody tr th:only-of-type {\n",
       "        vertical-align: middle;\n",
       "    }\n",
       "\n",
       "    .dataframe tbody tr th {\n",
       "        vertical-align: top;\n",
       "    }\n",
       "\n",
       "    .dataframe thead th {\n",
       "        text-align: right;\n",
       "    }\n",
       "</style>\n",
       "<table border=\"1\" class=\"dataframe\">\n",
       "  <thead>\n",
       "    <tr style=\"text-align: right;\">\n",
       "      <th></th>\n",
       "      <th>id</th>\n",
       "      <th>c_satisfaction_level</th>\n",
       "      <th>c_last_evaluation</th>\n",
       "      <th>c_number_project</th>\n",
       "      <th>c_average_montly_hours</th>\n",
       "      <th>c_time_spend_company</th>\n",
       "      <th>c_work_accident</th>\n",
       "      <th>c_promotion_last_5years</th>\n",
       "      <th>v_area</th>\n",
       "      <th>v_salary</th>\n",
       "      <th>v_area_norm</th>\n",
       "      <th>v_salary_norm</th>\n",
       "      <th>v_area_woe</th>\n",
       "      <th>v_salary_woe</th>\n",
       "    </tr>\n",
       "  </thead>\n",
       "  <tbody>\n",
       "    <tr>\n",
       "      <th>5695</th>\n",
       "      <td>10116</td>\n",
       "      <td>0.99</td>\n",
       "      <td>0.55</td>\n",
       "      <td>3</td>\n",
       "      <td>97</td>\n",
       "      <td>6</td>\n",
       "      <td>1</td>\n",
       "      <td>0</td>\n",
       "      <td>technical</td>\n",
       "      <td>medium</td>\n",
       "      <td>technical</td>\n",
       "      <td>medium</td>\n",
       "      <td>0.137832</td>\n",
       "      <td>-0.168074</td>\n",
       "    </tr>\n",
       "    <tr>\n",
       "      <th>8380</th>\n",
       "      <td>5844</td>\n",
       "      <td>0.49</td>\n",
       "      <td>0.92</td>\n",
       "      <td>4</td>\n",
       "      <td>229</td>\n",
       "      <td>2</td>\n",
       "      <td>0</td>\n",
       "      <td>0</td>\n",
       "      <td>technical</td>\n",
       "      <td>low</td>\n",
       "      <td>technical</td>\n",
       "      <td>low</td>\n",
       "      <td>0.137832</td>\n",
       "      <td>0.278603</td>\n",
       "    </tr>\n",
       "    <tr>\n",
       "      <th>3480</th>\n",
       "      <td>9418</td>\n",
       "      <td>0.74</td>\n",
       "      <td>0.51</td>\n",
       "      <td>5</td>\n",
       "      <td>198</td>\n",
       "      <td>3</td>\n",
       "      <td>0</td>\n",
       "      <td>0</td>\n",
       "      <td>hr</td>\n",
       "      <td>low</td>\n",
       "      <td>others</td>\n",
       "      <td>low</td>\n",
       "      <td>0.000000</td>\n",
       "      <td>0.278603</td>\n",
       "    </tr>\n",
       "    <tr>\n",
       "      <th>10464</th>\n",
       "      <td>4592</td>\n",
       "      <td>0.89</td>\n",
       "      <td>0.90</td>\n",
       "      <td>3</td>\n",
       "      <td>240</td>\n",
       "      <td>3</td>\n",
       "      <td>0</td>\n",
       "      <td>0</td>\n",
       "      <td>sales</td>\n",
       "      <td>high</td>\n",
       "      <td>sales</td>\n",
       "      <td>high</td>\n",
       "      <td>0.032835</td>\n",
       "      <td>-1.429043</td>\n",
       "    </tr>\n",
       "    <tr>\n",
       "      <th>5134</th>\n",
       "      <td>11647</td>\n",
       "      <td>0.31</td>\n",
       "      <td>0.63</td>\n",
       "      <td>4</td>\n",
       "      <td>104</td>\n",
       "      <td>7</td>\n",
       "      <td>1</td>\n",
       "      <td>0</td>\n",
       "      <td>sales</td>\n",
       "      <td>medium</td>\n",
       "      <td>sales</td>\n",
       "      <td>medium</td>\n",
       "      <td>0.032835</td>\n",
       "      <td>-0.168074</td>\n",
       "    </tr>\n",
       "    <tr>\n",
       "      <th>...</th>\n",
       "      <td>...</td>\n",
       "      <td>...</td>\n",
       "      <td>...</td>\n",
       "      <td>...</td>\n",
       "      <td>...</td>\n",
       "      <td>...</td>\n",
       "      <td>...</td>\n",
       "      <td>...</td>\n",
       "      <td>...</td>\n",
       "      <td>...</td>\n",
       "      <td>...</td>\n",
       "      <td>...</td>\n",
       "      <td>...</td>\n",
       "      <td>...</td>\n",
       "    </tr>\n",
       "    <tr>\n",
       "      <th>5635</th>\n",
       "      <td>254</td>\n",
       "      <td>0.60</td>\n",
       "      <td>0.92</td>\n",
       "      <td>2</td>\n",
       "      <td>258</td>\n",
       "      <td>5</td>\n",
       "      <td>0</td>\n",
       "      <td>0</td>\n",
       "      <td>sales</td>\n",
       "      <td>low</td>\n",
       "      <td>sales</td>\n",
       "      <td>low</td>\n",
       "      <td>0.032835</td>\n",
       "      <td>0.278603</td>\n",
       "    </tr>\n",
       "    <tr>\n",
       "      <th>4959</th>\n",
       "      <td>1612</td>\n",
       "      <td>0.43</td>\n",
       "      <td>0.55</td>\n",
       "      <td>4</td>\n",
       "      <td>134</td>\n",
       "      <td>3</td>\n",
       "      <td>0</td>\n",
       "      <td>0</td>\n",
       "      <td>marketing</td>\n",
       "      <td>low</td>\n",
       "      <td>marketing</td>\n",
       "      <td>low</td>\n",
       "      <td>0.015902</td>\n",
       "      <td>0.278603</td>\n",
       "    </tr>\n",
       "    <tr>\n",
       "      <th>6841</th>\n",
       "      <td>11513</td>\n",
       "      <td>0.98</td>\n",
       "      <td>0.49</td>\n",
       "      <td>3</td>\n",
       "      <td>199</td>\n",
       "      <td>10</td>\n",
       "      <td>0</td>\n",
       "      <td>0</td>\n",
       "      <td>technical</td>\n",
       "      <td>medium</td>\n",
       "      <td>technical</td>\n",
       "      <td>medium</td>\n",
       "      <td>0.137832</td>\n",
       "      <td>-0.168074</td>\n",
       "    </tr>\n",
       "    <tr>\n",
       "      <th>8516</th>\n",
       "      <td>4034</td>\n",
       "      <td>0.26</td>\n",
       "      <td>0.81</td>\n",
       "      <td>5</td>\n",
       "      <td>139</td>\n",
       "      <td>4</td>\n",
       "      <td>0</td>\n",
       "      <td>0</td>\n",
       "      <td>product_mng</td>\n",
       "      <td>medium</td>\n",
       "      <td>product_mng</td>\n",
       "      <td>medium</td>\n",
       "      <td>-0.133397</td>\n",
       "      <td>-0.168074</td>\n",
       "    </tr>\n",
       "    <tr>\n",
       "      <th>10143</th>\n",
       "      <td>8487</td>\n",
       "      <td>0.77</td>\n",
       "      <td>0.87</td>\n",
       "      <td>3</td>\n",
       "      <td>207</td>\n",
       "      <td>4</td>\n",
       "      <td>1</td>\n",
       "      <td>0</td>\n",
       "      <td>sales</td>\n",
       "      <td>low</td>\n",
       "      <td>sales</td>\n",
       "      <td>low</td>\n",
       "      <td>0.032835</td>\n",
       "      <td>0.278603</td>\n",
       "    </tr>\n",
       "  </tbody>\n",
       "</table>\n",
       "<p>9599 rows × 14 columns</p>\n",
       "</div>"
      ],
      "text/plain": [
       "          id  c_satisfaction_level  c_last_evaluation  c_number_project  \\\n",
       "5695   10116                  0.99               0.55                 3   \n",
       "8380    5844                  0.49               0.92                 4   \n",
       "3480    9418                  0.74               0.51                 5   \n",
       "10464   4592                  0.89               0.90                 3   \n",
       "5134   11647                  0.31               0.63                 4   \n",
       "...      ...                   ...                ...               ...   \n",
       "5635     254                  0.60               0.92                 2   \n",
       "4959    1612                  0.43               0.55                 4   \n",
       "6841   11513                  0.98               0.49                 3   \n",
       "8516    4034                  0.26               0.81                 5   \n",
       "10143   8487                  0.77               0.87                 3   \n",
       "\n",
       "       c_average_montly_hours  c_time_spend_company  c_work_accident  \\\n",
       "5695                       97                     6                1   \n",
       "8380                      229                     2                0   \n",
       "3480                      198                     3                0   \n",
       "10464                     240                     3                0   \n",
       "5134                      104                     7                1   \n",
       "...                       ...                   ...              ...   \n",
       "5635                      258                     5                0   \n",
       "4959                      134                     3                0   \n",
       "6841                      199                    10                0   \n",
       "8516                      139                     4                0   \n",
       "10143                     207                     4                1   \n",
       "\n",
       "       c_promotion_last_5years       v_area v_salary  v_area_norm  \\\n",
       "5695                         0    technical   medium    technical   \n",
       "8380                         0    technical      low    technical   \n",
       "3480                         0           hr      low       others   \n",
       "10464                        0        sales     high        sales   \n",
       "5134                         0        sales   medium        sales   \n",
       "...                        ...          ...      ...          ...   \n",
       "5635                         0        sales      low        sales   \n",
       "4959                         0    marketing      low    marketing   \n",
       "6841                         0    technical   medium    technical   \n",
       "8516                         0  product_mng   medium  product_mng   \n",
       "10143                        0        sales      low        sales   \n",
       "\n",
       "      v_salary_norm  v_area_woe  v_salary_woe  \n",
       "5695         medium    0.137832     -0.168074  \n",
       "8380            low    0.137832      0.278603  \n",
       "3480            low    0.000000      0.278603  \n",
       "10464          high    0.032835     -1.429043  \n",
       "5134         medium    0.032835     -0.168074  \n",
       "...             ...         ...           ...  \n",
       "5635            low    0.032835      0.278603  \n",
       "4959            low    0.015902      0.278603  \n",
       "6841         medium    0.137832     -0.168074  \n",
       "8516         medium   -0.133397     -0.168074  \n",
       "10143           low    0.032835      0.278603  \n",
       "\n",
       "[9599 rows x 14 columns]"
      ]
     },
     "execution_count": 14,
     "metadata": {},
     "output_type": "execute_result"
    }
   ],
   "source": [
    "woe_norms(Xt, var_v_n, var_v_n, norms, woes)"
   ]
  },
  {
   "cell_type": "code",
   "execution_count": 15,
   "id": "648b1320",
   "metadata": {
    "ExecuteTime": {
     "end_time": "2022-07-10T04:57:55.384944Z",
     "start_time": "2022-07-10T04:57:55.358583Z"
    }
   },
   "outputs": [
    {
     "name": "stderr",
     "output_type": "stream",
     "text": [
      "/home/sqpr14_/anaconda3/envs/dss/lib/python3.8/site-packages/pandas/core/frame.py:3607: SettingWithCopyWarning: \n",
      "A value is trying to be set on a copy of a slice from a DataFrame.\n",
      "Try using .loc[row_indexer,col_indexer] = value instead\n",
      "\n",
      "See the caveats in the documentation: https://pandas.pydata.org/pandas-docs/stable/user_guide/indexing.html#returning-a-view-versus-a-copy\n",
      "  self._set_item(key, value)\n"
     ]
    }
   ],
   "source": [
    "Xt = woe_norms(Xt, var_v_n, var_v_n, norms, woes)\n",
    "Xv = woe_norms(Xv, var_v_n, var_v_n, norms, woes)"
   ]
  },
  {
   "cell_type": "code",
   "execution_count": 16,
   "id": "cc4805c8",
   "metadata": {
    "ExecuteTime": {
     "end_time": "2022-07-10T04:57:55.391482Z",
     "start_time": "2022-07-10T04:57:55.386787Z"
    }
   },
   "outputs": [
    {
     "data": {
      "text/plain": [
       "['c_satisfaction_level',\n",
       " 'c_last_evaluation',\n",
       " 'c_number_project',\n",
       " 'c_average_montly_hours',\n",
       " 'c_time_spend_company',\n",
       " 'c_work_accident',\n",
       " 'c_promotion_last_5years',\n",
       " 'v_area_woe',\n",
       " 'v_salary_woe']"
      ]
     },
     "execution_count": 16,
     "metadata": {},
     "output_type": "execute_result"
    }
   ],
   "source": [
    "predictors = var_c_n + [c for c in Xt.columns if 'woe' in c]\n",
    "predictors"
   ]
  },
  {
   "cell_type": "code",
   "execution_count": 17,
   "id": "160f34c2",
   "metadata": {
    "ExecuteTime": {
     "end_time": "2022-07-10T04:57:55.418669Z",
     "start_time": "2022-07-10T04:57:55.393425Z"
    }
   },
   "outputs": [
    {
     "data": {
      "text/html": [
       "<div>\n",
       "<style scoped>\n",
       "    .dataframe tbody tr th:only-of-type {\n",
       "        vertical-align: middle;\n",
       "    }\n",
       "\n",
       "    .dataframe tbody tr th {\n",
       "        vertical-align: top;\n",
       "    }\n",
       "\n",
       "    .dataframe thead th {\n",
       "        text-align: right;\n",
       "    }\n",
       "</style>\n",
       "<table border=\"1\" class=\"dataframe\">\n",
       "  <thead>\n",
       "    <tr style=\"text-align: right;\">\n",
       "      <th></th>\n",
       "      <th>id</th>\n",
       "      <th>c_satisfaction_level</th>\n",
       "      <th>c_last_evaluation</th>\n",
       "      <th>c_number_project</th>\n",
       "      <th>c_average_montly_hours</th>\n",
       "      <th>c_time_spend_company</th>\n",
       "      <th>c_work_accident</th>\n",
       "      <th>c_promotion_last_5years</th>\n",
       "      <th>v_area</th>\n",
       "      <th>v_salary</th>\n",
       "      <th>v_area_norm</th>\n",
       "      <th>v_salary_norm</th>\n",
       "      <th>v_area_woe</th>\n",
       "      <th>v_salary_woe</th>\n",
       "    </tr>\n",
       "  </thead>\n",
       "  <tbody>\n",
       "    <tr>\n",
       "      <th>5695</th>\n",
       "      <td>10116</td>\n",
       "      <td>0.99</td>\n",
       "      <td>0.55</td>\n",
       "      <td>3</td>\n",
       "      <td>97</td>\n",
       "      <td>6</td>\n",
       "      <td>1</td>\n",
       "      <td>0</td>\n",
       "      <td>technical</td>\n",
       "      <td>medium</td>\n",
       "      <td>technical</td>\n",
       "      <td>medium</td>\n",
       "      <td>0.137832</td>\n",
       "      <td>-0.168074</td>\n",
       "    </tr>\n",
       "    <tr>\n",
       "      <th>8380</th>\n",
       "      <td>5844</td>\n",
       "      <td>0.49</td>\n",
       "      <td>0.92</td>\n",
       "      <td>4</td>\n",
       "      <td>229</td>\n",
       "      <td>2</td>\n",
       "      <td>0</td>\n",
       "      <td>0</td>\n",
       "      <td>technical</td>\n",
       "      <td>low</td>\n",
       "      <td>technical</td>\n",
       "      <td>low</td>\n",
       "      <td>0.137832</td>\n",
       "      <td>0.278603</td>\n",
       "    </tr>\n",
       "    <tr>\n",
       "      <th>3480</th>\n",
       "      <td>9418</td>\n",
       "      <td>0.74</td>\n",
       "      <td>0.51</td>\n",
       "      <td>5</td>\n",
       "      <td>198</td>\n",
       "      <td>3</td>\n",
       "      <td>0</td>\n",
       "      <td>0</td>\n",
       "      <td>hr</td>\n",
       "      <td>low</td>\n",
       "      <td>others</td>\n",
       "      <td>low</td>\n",
       "      <td>0.000000</td>\n",
       "      <td>0.278603</td>\n",
       "    </tr>\n",
       "    <tr>\n",
       "      <th>10464</th>\n",
       "      <td>4592</td>\n",
       "      <td>0.89</td>\n",
       "      <td>0.90</td>\n",
       "      <td>3</td>\n",
       "      <td>240</td>\n",
       "      <td>3</td>\n",
       "      <td>0</td>\n",
       "      <td>0</td>\n",
       "      <td>sales</td>\n",
       "      <td>high</td>\n",
       "      <td>sales</td>\n",
       "      <td>high</td>\n",
       "      <td>0.032835</td>\n",
       "      <td>-1.429043</td>\n",
       "    </tr>\n",
       "    <tr>\n",
       "      <th>5134</th>\n",
       "      <td>11647</td>\n",
       "      <td>0.31</td>\n",
       "      <td>0.63</td>\n",
       "      <td>4</td>\n",
       "      <td>104</td>\n",
       "      <td>7</td>\n",
       "      <td>1</td>\n",
       "      <td>0</td>\n",
       "      <td>sales</td>\n",
       "      <td>medium</td>\n",
       "      <td>sales</td>\n",
       "      <td>medium</td>\n",
       "      <td>0.032835</td>\n",
       "      <td>-0.168074</td>\n",
       "    </tr>\n",
       "    <tr>\n",
       "      <th>...</th>\n",
       "      <td>...</td>\n",
       "      <td>...</td>\n",
       "      <td>...</td>\n",
       "      <td>...</td>\n",
       "      <td>...</td>\n",
       "      <td>...</td>\n",
       "      <td>...</td>\n",
       "      <td>...</td>\n",
       "      <td>...</td>\n",
       "      <td>...</td>\n",
       "      <td>...</td>\n",
       "      <td>...</td>\n",
       "      <td>...</td>\n",
       "      <td>...</td>\n",
       "    </tr>\n",
       "    <tr>\n",
       "      <th>5635</th>\n",
       "      <td>254</td>\n",
       "      <td>0.60</td>\n",
       "      <td>0.92</td>\n",
       "      <td>2</td>\n",
       "      <td>258</td>\n",
       "      <td>5</td>\n",
       "      <td>0</td>\n",
       "      <td>0</td>\n",
       "      <td>sales</td>\n",
       "      <td>low</td>\n",
       "      <td>sales</td>\n",
       "      <td>low</td>\n",
       "      <td>0.032835</td>\n",
       "      <td>0.278603</td>\n",
       "    </tr>\n",
       "    <tr>\n",
       "      <th>4959</th>\n",
       "      <td>1612</td>\n",
       "      <td>0.43</td>\n",
       "      <td>0.55</td>\n",
       "      <td>4</td>\n",
       "      <td>134</td>\n",
       "      <td>3</td>\n",
       "      <td>0</td>\n",
       "      <td>0</td>\n",
       "      <td>marketing</td>\n",
       "      <td>low</td>\n",
       "      <td>marketing</td>\n",
       "      <td>low</td>\n",
       "      <td>0.015902</td>\n",
       "      <td>0.278603</td>\n",
       "    </tr>\n",
       "    <tr>\n",
       "      <th>6841</th>\n",
       "      <td>11513</td>\n",
       "      <td>0.98</td>\n",
       "      <td>0.49</td>\n",
       "      <td>3</td>\n",
       "      <td>199</td>\n",
       "      <td>10</td>\n",
       "      <td>0</td>\n",
       "      <td>0</td>\n",
       "      <td>technical</td>\n",
       "      <td>medium</td>\n",
       "      <td>technical</td>\n",
       "      <td>medium</td>\n",
       "      <td>0.137832</td>\n",
       "      <td>-0.168074</td>\n",
       "    </tr>\n",
       "    <tr>\n",
       "      <th>8516</th>\n",
       "      <td>4034</td>\n",
       "      <td>0.26</td>\n",
       "      <td>0.81</td>\n",
       "      <td>5</td>\n",
       "      <td>139</td>\n",
       "      <td>4</td>\n",
       "      <td>0</td>\n",
       "      <td>0</td>\n",
       "      <td>product_mng</td>\n",
       "      <td>medium</td>\n",
       "      <td>product_mng</td>\n",
       "      <td>medium</td>\n",
       "      <td>-0.133397</td>\n",
       "      <td>-0.168074</td>\n",
       "    </tr>\n",
       "    <tr>\n",
       "      <th>10143</th>\n",
       "      <td>8487</td>\n",
       "      <td>0.77</td>\n",
       "      <td>0.87</td>\n",
       "      <td>3</td>\n",
       "      <td>207</td>\n",
       "      <td>4</td>\n",
       "      <td>1</td>\n",
       "      <td>0</td>\n",
       "      <td>sales</td>\n",
       "      <td>low</td>\n",
       "      <td>sales</td>\n",
       "      <td>low</td>\n",
       "      <td>0.032835</td>\n",
       "      <td>0.278603</td>\n",
       "    </tr>\n",
       "  </tbody>\n",
       "</table>\n",
       "<p>9599 rows × 14 columns</p>\n",
       "</div>"
      ],
      "text/plain": [
       "          id  c_satisfaction_level  c_last_evaluation  c_number_project  \\\n",
       "5695   10116                  0.99               0.55                 3   \n",
       "8380    5844                  0.49               0.92                 4   \n",
       "3480    9418                  0.74               0.51                 5   \n",
       "10464   4592                  0.89               0.90                 3   \n",
       "5134   11647                  0.31               0.63                 4   \n",
       "...      ...                   ...                ...               ...   \n",
       "5635     254                  0.60               0.92                 2   \n",
       "4959    1612                  0.43               0.55                 4   \n",
       "6841   11513                  0.98               0.49                 3   \n",
       "8516    4034                  0.26               0.81                 5   \n",
       "10143   8487                  0.77               0.87                 3   \n",
       "\n",
       "       c_average_montly_hours  c_time_spend_company  c_work_accident  \\\n",
       "5695                       97                     6                1   \n",
       "8380                      229                     2                0   \n",
       "3480                      198                     3                0   \n",
       "10464                     240                     3                0   \n",
       "5134                      104                     7                1   \n",
       "...                       ...                   ...              ...   \n",
       "5635                      258                     5                0   \n",
       "4959                      134                     3                0   \n",
       "6841                      199                    10                0   \n",
       "8516                      139                     4                0   \n",
       "10143                     207                     4                1   \n",
       "\n",
       "       c_promotion_last_5years       v_area v_salary  v_area_norm  \\\n",
       "5695                         0    technical   medium    technical   \n",
       "8380                         0    technical      low    technical   \n",
       "3480                         0           hr      low       others   \n",
       "10464                        0        sales     high        sales   \n",
       "5134                         0        sales   medium        sales   \n",
       "...                        ...          ...      ...          ...   \n",
       "5635                         0        sales      low        sales   \n",
       "4959                         0    marketing      low    marketing   \n",
       "6841                         0    technical   medium    technical   \n",
       "8516                         0  product_mng   medium  product_mng   \n",
       "10143                        0        sales      low        sales   \n",
       "\n",
       "      v_salary_norm  v_area_woe  v_salary_woe  \n",
       "5695         medium    0.137832     -0.168074  \n",
       "8380            low    0.137832      0.278603  \n",
       "3480            low    0.000000      0.278603  \n",
       "10464          high    0.032835     -1.429043  \n",
       "5134         medium    0.032835     -0.168074  \n",
       "...             ...         ...           ...  \n",
       "5635            low    0.032835      0.278603  \n",
       "4959            low    0.015902      0.278603  \n",
       "6841         medium    0.137832     -0.168074  \n",
       "8516         medium   -0.133397     -0.168074  \n",
       "10143           low    0.032835      0.278603  \n",
       "\n",
       "[9599 rows x 14 columns]"
      ]
     },
     "execution_count": 17,
     "metadata": {},
     "output_type": "execute_result"
    }
   ],
   "source": [
    "Xt"
   ]
  },
  {
   "cell_type": "code",
   "execution_count": 18,
   "id": "b722f647",
   "metadata": {
    "ExecuteTime": {
     "end_time": "2022-07-10T04:57:55.427085Z",
     "start_time": "2022-07-10T04:57:55.420434Z"
    }
   },
   "outputs": [],
   "source": [
    "from sklearn.preprocessing import OneHotEncoder, StandardScaler\n",
    "from sklearn.discriminant_analysis import LinearDiscriminantAnalysis\n",
    "from sklearn.metrics import precision_score, recall_score\n",
    "from sklearn.pipeline import make_pipeline"
   ]
  },
  {
   "cell_type": "code",
   "execution_count": 19,
   "id": "47d5e8d7",
   "metadata": {
    "ExecuteTime": {
     "end_time": "2022-07-10T04:57:55.431332Z",
     "start_time": "2022-07-10T04:57:55.428613Z"
    }
   },
   "outputs": [],
   "source": [
    "pipeline = make_pipeline(OneHotEncoder(handle_unknown='ignore', sparse=False),\n",
    "                        StandardScaler(with_mean=False),\n",
    "                        LinearDiscriminantAnalysis(),\n",
    "                        verbose=3)"
   ]
  },
  {
   "cell_type": "code",
   "execution_count": 20,
   "id": "6b2de854",
   "metadata": {
    "ExecuteTime": {
     "end_time": "2022-07-10T04:57:55.439994Z",
     "start_time": "2022-07-10T04:57:55.433048Z"
    }
   },
   "outputs": [],
   "source": [
    "Xt = Xt[predictors]\n",
    "Xv = Xv[predictors]"
   ]
  },
  {
   "cell_type": "code",
   "execution_count": 21,
   "id": "ca97e51c",
   "metadata": {
    "ExecuteTime": {
     "end_time": "2022-07-10T04:57:56.333482Z",
     "start_time": "2022-07-10T04:57:55.441992Z"
    }
   },
   "outputs": [
    {
     "name": "stdout",
     "output_type": "stream",
     "text": [
      "[Pipeline] ..... (step 1 of 3) Processing onehotencoder, total=   0.0s\n",
      "[Pipeline] .... (step 2 of 3) Processing standardscaler, total=   0.1s\n",
      "[Pipeline]  (step 3 of 3) Processing lineardiscriminantanalysis, total=   0.8s\n"
     ]
    },
    {
     "data": {
      "text/plain": [
       "Pipeline(steps=[('onehotencoder',\n",
       "                 OneHotEncoder(handle_unknown='ignore', sparse=False)),\n",
       "                ('standardscaler', StandardScaler(with_mean=False)),\n",
       "                ('lineardiscriminantanalysis', LinearDiscriminantAnalysis())],\n",
       "         verbose=3)"
      ]
     },
     "execution_count": 21,
     "metadata": {},
     "output_type": "execute_result"
    }
   ],
   "source": [
    "pipeline.fit(Xt, yt)"
   ]
  },
  {
   "cell_type": "code",
   "execution_count": 22,
   "id": "9fc9f965",
   "metadata": {
    "ExecuteTime": {
     "end_time": "2022-07-10T04:57:56.414292Z",
     "start_time": "2022-07-10T04:57:56.337976Z"
    }
   },
   "outputs": [
    {
     "data": {
      "text/plain": [
       "0.903169014084507"
      ]
     },
     "execution_count": 22,
     "metadata": {},
     "output_type": "execute_result"
    }
   ],
   "source": [
    "precision_score(yt, pipeline.predict(Xt))"
   ]
  },
  {
   "cell_type": "code",
   "execution_count": 23,
   "id": "85c1ff66",
   "metadata": {
    "ExecuteTime": {
     "end_time": "2022-07-10T04:57:56.507843Z",
     "start_time": "2022-07-10T04:57:56.417491Z"
    }
   },
   "outputs": [
    {
     "data": {
      "text/plain": [
       "0.8902386117136659"
      ]
     },
     "execution_count": 23,
     "metadata": {},
     "output_type": "execute_result"
    }
   ],
   "source": [
    "recall_score(yt, pipeline.predict(Xt))"
   ]
  },
  {
   "cell_type": "code",
   "execution_count": 24,
   "id": "f5d72d91",
   "metadata": {
    "ExecuteTime": {
     "end_time": "2022-07-10T04:57:56.541723Z",
     "start_time": "2022-07-10T04:57:56.509918Z"
    }
   },
   "outputs": [
    {
     "data": {
      "text/plain": [
       "0.9023569023569024"
      ]
     },
     "execution_count": 24,
     "metadata": {},
     "output_type": "execute_result"
    }
   ],
   "source": [
    "precision_score(yv, pipeline.predict(Xv))"
   ]
  },
  {
   "cell_type": "code",
   "execution_count": 25,
   "id": "927b70cf",
   "metadata": {
    "ExecuteTime": {
     "end_time": "2022-07-10T04:57:56.566964Z",
     "start_time": "2022-07-10T04:57:56.547049Z"
    }
   },
   "outputs": [
    {
     "data": {
      "text/plain": [
       "0.9209621993127147"
      ]
     },
     "execution_count": 25,
     "metadata": {},
     "output_type": "execute_result"
    }
   ],
   "source": [
    "recall_score(yv, pipeline.predict(Xv))"
   ]
  },
  {
   "cell_type": "code",
   "execution_count": 26,
   "id": "d0b3c9cd",
   "metadata": {
    "ExecuteTime": {
     "end_time": "2022-07-10T04:57:56.580872Z",
     "start_time": "2022-07-10T04:57:56.572286Z"
    }
   },
   "outputs": [],
   "source": [
    "test = pd.read_csv(data_path + 'HR_test.csv', sep=',')"
   ]
  },
  {
   "cell_type": "code",
   "execution_count": 27,
   "id": "0533071f",
   "metadata": {
    "ExecuteTime": {
     "end_time": "2022-07-10T04:57:56.597054Z",
     "start_time": "2022-07-10T04:57:56.586339Z"
    }
   },
   "outputs": [],
   "source": [
    "test = utilities.rename_variables(test, var_c, 'c_')\n",
    "test = utilities.rename_variables(test, var_v, 'v_')"
   ]
  },
  {
   "cell_type": "code",
   "execution_count": 28,
   "id": "8eced132",
   "metadata": {
    "ExecuteTime": {
     "end_time": "2022-07-10T04:57:56.626898Z",
     "start_time": "2022-07-10T04:57:56.602172Z"
    }
   },
   "outputs": [],
   "source": [
    "test = woe_norms(test, var_v_n, var_v_n, norms, woes)"
   ]
  },
  {
   "cell_type": "code",
   "execution_count": 30,
   "id": "5a6018bb",
   "metadata": {
    "ExecuteTime": {
     "end_time": "2022-07-10T04:59:54.708773Z",
     "start_time": "2022-07-10T04:59:54.683018Z"
    }
   },
   "outputs": [],
   "source": [
    "test['left'] = pipeline.predict(test[predictors])"
   ]
  },
  {
   "cell_type": "code",
   "execution_count": 31,
   "id": "ab5f3d2c",
   "metadata": {
    "ExecuteTime": {
     "end_time": "2022-07-10T05:00:32.779854Z",
     "start_time": "2022-07-10T05:00:32.757787Z"
    }
   },
   "outputs": [],
   "source": [
    "test[['id', 'left']].to_csv('PicoLaraAlbertoIsaac_HR.csv', index=False)"
   ]
  },
  {
   "cell_type": "code",
   "execution_count": null,
   "id": "f6cad278",
   "metadata": {},
   "outputs": [],
   "source": []
  }
 ],
 "metadata": {
  "kernelspec": {
   "display_name": "dss",
   "language": "python",
   "name": "dss"
  },
  "language_info": {
   "codemirror_mode": {
    "name": "ipython",
    "version": 3
   },
   "file_extension": ".py",
   "mimetype": "text/x-python",
   "name": "python",
   "nbconvert_exporter": "python",
   "pygments_lexer": "ipython3",
   "version": "3.8.10"
  },
  "latex_envs": {
   "LaTeX_envs_menu_present": true,
   "autoclose": false,
   "autocomplete": true,
   "bibliofile": "biblio.bib",
   "cite_by": "apalike",
   "current_citInitial": 1,
   "eqLabelWithNumbers": true,
   "eqNumInitial": 1,
   "hotkeys": {
    "equation": "Ctrl-E",
    "itemize": "Ctrl-I"
   },
   "labels_anchors": false,
   "latex_user_defs": false,
   "report_style_numbering": false,
   "user_envs_cfg": false
  },
  "varInspector": {
   "cols": {
    "lenName": 16,
    "lenType": 16,
    "lenVar": 40
   },
   "kernels_config": {
    "python": {
     "delete_cmd_postfix": "",
     "delete_cmd_prefix": "del ",
     "library": "var_list.py",
     "varRefreshCmd": "print(var_dic_list())"
    },
    "r": {
     "delete_cmd_postfix": ") ",
     "delete_cmd_prefix": "rm(",
     "library": "var_list.r",
     "varRefreshCmd": "cat(var_dic_list()) "
    }
   },
   "position": {
    "height": "780.85px",
    "left": "1533px",
    "right": "20px",
    "top": "120px",
    "width": "383px"
   },
   "types_to_exclude": [
    "module",
    "function",
    "builtin_function_or_method",
    "instance",
    "_Feature"
   ],
   "window_display": true
  }
 },
 "nbformat": 4,
 "nbformat_minor": 5
}
