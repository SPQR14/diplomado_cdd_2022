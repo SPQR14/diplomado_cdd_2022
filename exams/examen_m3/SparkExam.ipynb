{
 "cells": [
  {
   "cell_type": "code",
   "execution_count": 1,
   "id": "5ae1118d",
   "metadata": {},
   "outputs": [],
   "source": [
    "# Import PySpark\n",
    "from pyspark.sql import SparkSession\n",
    "\n",
    "spark = SparkSession.builder \\\n",
    "    .master('local[*]') \\\n",
    "    .config(\"spark.driver.memory\", \"10g\") \\\n",
    "    .appName('Exam') \\\n",
    "    .getOrCreate() \n",
    "from pyspark.sql.functions import *"
   ]
  },
  {
   "cell_type": "code",
   "execution_count": 2,
   "id": "ef572f7b",
   "metadata": {},
   "outputs": [
    {
     "data": {
      "text/html": [
       "<style>\n",
       ".output_subarea.output_text.output_stream.output_stdout > pre {\n",
       "  width:max-content;\n",
       "}\n",
       ".p-Widget.jp-RenderedText.jp-OutputArea-output > pre {\n",
       "  width:max-content;\n",
       "}\n",
       "</style>\n"
      ],
      "text/plain": [
       "<IPython.core.display.HTML object>"
      ]
     },
     "metadata": {},
     "output_type": "display_data"
    }
   ],
   "source": [
    "%%html\n",
    "<style>\n",
    ".output_subarea.output_text.output_stream.output_stdout > pre {\n",
    "  width:max-content;\n",
    "}\n",
    ".p-Widget.jp-RenderedText.jp-OutputArea-output > pre {\n",
    "  width:max-content;\n",
    "}\n",
    "</style>"
   ]
  },
  {
   "cell_type": "code",
   "execution_count": 3,
   "id": "2b4a633a",
   "metadata": {},
   "outputs": [
    {
     "name": "stdout",
     "output_type": "stream",
     "text": [
      "CPU times: total: 0 ns\n",
      "Wall time: 2.57 s\n"
     ]
    }
   ],
   "source": [
    "%%time\n",
    "df =  spark.read.parquet('/Users/karla/Documents/Docs/Credit Cards Transactions/tablas_juntasf.parquet')"
   ]
  },
  {
   "cell_type": "code",
   "execution_count": 4,
   "id": "2aa6118e",
   "metadata": {},
   "outputs": [
    {
     "name": "stdout",
     "output_type": "stream",
     "text": [
      "+------+----------+-------------+---------+----------+------+-------+---------+----+-----+-------+--------+---------+-----------------------+-------------------+---------+---------+--------------+---+---------+---------+--------+----------+-------+---+-------+-----------+-----------+------------+------------------+-------------+----+----+----+-----+---+----+------+--------+-------------+-------------+--------------+-------+---+--------+--------+\n",
      "|Person|CurrentAge|RetirementAge|BirthYear|BirthMonth|Gender|Address|Apartment|City|State|Zipcode|Latitude|Longitude|PerCapitaIncome-Zipcode|YearlyIncome-Person|TotalDebt|FICOScore|NumCreditCards| id|CARDINDEX|CardBrand|CardType|CardNumber|Expires|CVV|HasChip|CardsIssued|CreditLimit|AcctOpenDate|YearPINlastChanged|CardonDarkWeb|User|Card|Year|Month|Day|Time|Amount|Use_Chip|Merchant_Name|Merchant_City|Merchant_State|    Zip|MCC|  Errors|Is_Fraud|\n",
      "+------+----------+-------------+---------+----------+------+-------+---------+----+-----+-------+--------+---------+-----------------------+-------------------+---------+---------+--------------+---+---------+---------+--------+----------+-------+---+-------+-----------+-----------+------------+------------------+-------------+----+----+----+-----+---+----+------+--------+-------------+-------------+--------------+-------+---+--------+--------+\n",
      "|     0|         0|            0|        0|         0|     0|      0| 17762699|   0|    0|      0|       0|        0|                      0|                  0|        0|        0|             0|  0|        0|        0|       0|         0|      0|  0|      0|          0|          0|           0|                 0|            0|   0|   0|   0|    0|  0|   0|     0|       0|            0|            0|       2720821|2878135|  0|23998469|       0|\n",
      "+------+----------+-------------+---------+----------+------+-------+---------+----+-----+-------+--------+---------+-----------------------+-------------------+---------+---------+--------------+---+---------+---------+--------+----------+-------+---+-------+-----------+-----------+------------+------------------+-------------+----+----+----+-----+---+----+------+--------+-------------+-------------+--------------+-------+---+--------+--------+\n",
      "\n"
     ]
    }
   ],
   "source": [
    "df.select(*(sum(col(c).isNull().cast(\"int\")).alias(c) for c in df.columns)).show()"
   ]
  },
  {
   "cell_type": "code",
   "execution_count": 5,
   "id": "24aa7625",
   "metadata": {},
   "outputs": [],
   "source": [
    "df = df.drop('MCC','Errors', 'Apartment')"
   ]
  },
  {
   "cell_type": "markdown",
   "id": "fffd6497",
   "metadata": {},
   "source": [
    "# Limpieza e Ingeniería"
   ]
  },
  {
   "cell_type": "code",
   "execution_count": 6,
   "id": "bdb97757",
   "metadata": {},
   "outputs": [],
   "source": [
    "us_states = [\"AK\",\"AL\", \"AR\",\n",
    "             \"AZ\",\"CA\",\"CO\",\n",
    "             \"CT\", \"DC\",\"DE\",\n",
    "             \"FL\",\"GA\",\"HI\",\n",
    "             \"IA\",\"ID\",\"IL\",\n",
    "             \"IN\", \"KS\",\"KY\",\n",
    "             \"LA\",\"MA\",\"MD\",\n",
    "             \"ME\",\"MI\",\"MN\",\n",
    "             \"MO\",\"MS\",\"MT\",\n",
    "             \"NC\",\"ND\",\"NE\",\n",
    "             \"NH\",\"NJ\",\"NM\",\n",
    "             \"NV\",\"NY\",\"OH\",\n",
    "             \"OK\",\"OR\",\"PA\",\n",
    "             \"RI\",\"SC\",\"SD\",\n",
    "             \"TN\",\"TX\",\"UT\",\n",
    "             \"VA\",\"VT\",\"WA\",\n",
    "             \"WI\",\"WV\",\"WY\"]"
   ]
  },
  {
   "cell_type": "code",
   "execution_count": 7,
   "id": "b61681f0",
   "metadata": {},
   "outputs": [],
   "source": [
    "from pyspark.sql.types import FloatType, DecimalType\n",
    "df = df.select('Person',\n",
    "                 'CurrentAge',\n",
    "                 'RetirementAge',\n",
    "                 'BirthYear',\n",
    "                 'BirthMonth',\n",
    "                 'Gender',\n",
    "                 'Address',\n",
    "                 'City',\n",
    "                 'State',\n",
    "                 'Zipcode',\n",
    "                 'Latitude',\n",
    "                 'Longitude',\n",
    "                  regexp_replace(col(\"PerCapitaIncome-Zipcode\"),\n",
    "                                 \"[^\\d.]\", \"\").cast(FloatType()).alias(\"PerCapitaIncome_Zipcode\"),\n",
    "                  regexp_replace(col(\"YearlyIncome-Person\"),\n",
    "                                 \"[^\\d.]\", \"\").cast(FloatType()).alias(\"YearlyIncome_Person\"),\n",
    "                  regexp_replace(col(\"TotalDebt\"),\n",
    "                                 \"[^\\d.]\", \"\").cast(FloatType()).alias(\"TotalDebt\"),\n",
    "                 'FICOScore',\n",
    "                 'NumCreditCards',\n",
    "                 'id',\n",
    "                 'CARDINDEX',\n",
    "                 'CardBrand',\n",
    "                 'CardType',\n",
    "                 'CardNumber',\n",
    "                 'Expires',\n",
    "                 'CVV',\n",
    "                 'HasChip',\n",
    "                 'CardsIssued',\n",
    "                  regexp_replace(col(\"CreditLimit\"), \"[^\\d.]\", \"\").cast(FloatType()).alias(\"CreditLimit\"),\n",
    "                 'AcctOpenDate',\n",
    "                 'YearPINlastChanged',\n",
    "                 'CardonDarkWeb',\n",
    "                 'User',\n",
    "                 'Card',\n",
    "                 'Year',\n",
    "                 'Month',\n",
    "                 'Day',\n",
    "                 'Time',\n",
    "                  regexp_replace(col(\"Amount\"), \"[^\\d.]\", \"\").cast(FloatType()).alias(\"Amount\"),\n",
    "                 'Use_Chip',\n",
    "                 'Merchant_Name',\n",
    "                 'Merchant_City',\n",
    "                 when(col(\"Merchant_State\").isNull(),\n",
    "                      \"ONLINE\").otherwise(col(\"Merchant_State\")).alias(\"Merchant_State\"),\n",
    "                 when(col(\"Zip\").isNull(), \"ONLINE\").otherwise(col(\"Zip\")).alias(\"Zip\"),\n",
    "                 'Is_Fraud')"
   ]
  },
  {
   "cell_type": "code",
   "execution_count": 8,
   "id": "16846e60",
   "metadata": {},
   "outputs": [],
   "source": [
    "df = df.select(\"*\",\n",
    "               when(col(\"Merchant_State\").isin(us_states),\n",
    "                    \"US\").when(col(\"Merchant_State\").isin(\"ONLINE\"),\n",
    "                               \"ONLINE\").otherwise(\"ABROAD\").alias(\"TransType\"))"
   ]
  },
  {
   "cell_type": "code",
   "execution_count": 9,
   "id": "c8d10bba",
   "metadata": {},
   "outputs": [],
   "source": [
    "df = df.select(\"*\",\n",
    "                    when(col(\"TransType\") == 'US', col(\"Amount\")).otherwise(0).alias('USAmount'),\n",
    "                    when(col(\"TransType\") == 'ONLINE', col(\"Amount\")).otherwise(0).alias('OnlineAmount'),\n",
    "                    when(col(\"TransType\") == 'ABROAD', col(\"Amount\")).otherwise(0).alias('AbroadAmount'),)"
   ]
  },
  {
   "cell_type": "code",
   "execution_count": 10,
   "id": "627e61e0",
   "metadata": {},
   "outputs": [
    {
     "name": "stdout",
     "output_type": "stream",
     "text": [
      "+------------+----------+-------------+---------+----------+------+---------------+----------+-----+-------+--------+---------+-----------------------+-------------------+---------+---------+--------------+---+---------+----------+--------+----------------+-------+---+-------+-----------+-----------+------------+------------------+-------------+----+----+----+-----+---+-----+------+------------------+--------------------+-------------+--------------+------+--------+---------+--------+------------+------------+\n",
      "|      Person|CurrentAge|RetirementAge|BirthYear|BirthMonth|Gender|        Address|      City|State|Zipcode|Latitude|Longitude|PerCapitaIncome_Zipcode|YearlyIncome_Person|TotalDebt|FICOScore|NumCreditCards| id|CARDINDEX| CardBrand|CardType|      CardNumber|Expires|CVV|HasChip|CardsIssued|CreditLimit|AcctOpenDate|YearPINlastChanged|CardonDarkWeb|User|Card|Year|Month|Day| Time|Amount|          Use_Chip|       Merchant_Name|Merchant_City|Merchant_State|   Zip|Is_Fraud|TransType|USAmount|OnlineAmount|AbroadAmount|\n",
      "+------------+----------+-------------+---------+----------+------+---------------+----------+-----+-------+--------+---------+-----------------------+-------------------+---------+---------+--------------+---+---------+----------+--------+----------------+-------+---+-------+-----------+-----------+------------+------------------+-------------+----+----+----+-----+---+-----+------+------------------+--------------------+-------------+--------------+------+--------+---------+--------+------------+------------+\n",
      "|Micheal Long|        28|           61|     1991|         4|  Male|54 Burns Avenue|Broken Bow|   OK|  74728|   34.02|   -94.73|                13811.0|            28163.0|  50872.0|      689|             4|719|        0|Mastercard|   Debit|5886248864335240|02/2020|334|    YES|          2|    14624.0|     07/2011|              2015|           No| 719|   0|2013|    5| 24|19:11| 23.41| Swipe Transaction| 5232804510082391016|      Hendrix|            OK| 74741|      No|       US|   23.41|         0.0|         0.0|\n",
      "|Micheal Long|        28|           61|     1991|         4|  Male|54 Burns Avenue|Broken Bow|   OK|  74728|   34.02|   -94.73|                13811.0|            28163.0|  50872.0|      689|             4|719|        0|Mastercard|   Debit|5886248864335240|02/2020|334|    YES|          2|    14624.0|     07/2011|              2015|           No| 719|   0|2013|    5| 25|13:24| 10.93| Swipe Transaction| 3405106932905969578|   Broken Bow|            OK| 74728|      No|       US|   10.93|         0.0|         0.0|\n",
      "|Micheal Long|        28|           61|     1991|         4|  Male|54 Burns Avenue|Broken Bow|   OK|  74728|   34.02|   -94.73|                13811.0|            28163.0|  50872.0|      689|             4|719|        0|Mastercard|   Debit|5886248864335240|02/2020|334|    YES|          2|    14624.0|     07/2011|              2015|           No| 719|   0|2013|    5| 25|14:41| 50.82| Swipe Transaction| 5474320255037684877|       Calera|            OK| 74730|      No|       US|   50.82|         0.0|         0.0|\n",
      "|Micheal Long|        28|           61|     1991|         4|  Male|54 Burns Avenue|Broken Bow|   OK|  74728|   34.02|   -94.73|                13811.0|            28163.0|  50872.0|      689|             4|719|        0|Mastercard|   Debit|5886248864335240|02/2020|334|    YES|          2|    14624.0|     07/2011|              2015|           No| 719|   0|2013|    5| 25|19:08| 29.24| Swipe Transaction| 5232804510082391016|      Hendrix|            OK| 74741|      No|       US|   29.24|         0.0|         0.0|\n",
      "|Micheal Long|        28|           61|     1991|         4|  Male|54 Burns Avenue|Broken Bow|   OK|  74728|   34.02|   -94.73|                13811.0|            28163.0|  50872.0|      689|             4|719|        0|Mastercard|   Debit|5886248864335240|02/2020|334|    YES|          2|    14624.0|     07/2011|              2015|           No| 719|   0|2013|    5| 25|19:51| 35.77| Swipe Transaction| 7514133484181523691|   Broken Bow|            OK| 74728|      No|       US|   35.77|         0.0|         0.0|\n",
      "|Micheal Long|        28|           61|     1991|         4|  Male|54 Burns Avenue|Broken Bow|   OK|  74728|   34.02|   -94.73|                13811.0|            28163.0|  50872.0|      689|             4|719|        0|Mastercard|   Debit|5886248864335240|02/2020|334|    YES|          2|    14624.0|     07/2011|              2015|           No| 719|   0|2013|    5| 26|19:08| 23.82| Swipe Transaction| 7514133484181523691|   Broken Bow|            OK| 74728|      No|       US|   23.82|         0.0|         0.0|\n",
      "|Micheal Long|        28|           61|     1991|         4|  Male|54 Burns Avenue|Broken Bow|   OK|  74728|   34.02|   -94.73|                13811.0|            28163.0|  50872.0|      689|             4|719|        0|Mastercard|   Debit|5886248864335240|02/2020|334|    YES|          2|    14624.0|     07/2011|              2015|           No| 719|   0|2013|    5| 27|12:54| 20.18|Online Transaction|-4241409341442030551|       ONLINE|        ONLINE|ONLINE|      No|   ONLINE|     0.0|       20.18|         0.0|\n",
      "|Micheal Long|        28|           61|     1991|         4|  Male|54 Burns Avenue|Broken Bow|   OK|  74728|   34.02|   -94.73|                13811.0|            28163.0|  50872.0|      689|             4|719|        0|Mastercard|   Debit|5886248864335240|02/2020|334|    YES|          2|    14624.0|     07/2011|              2015|           No| 719|   0|2013|    5| 27|18:52| 19.76| Swipe Transaction| 7514133484181523691|   Broken Bow|            OK| 74728|      No|       US|   19.76|         0.0|         0.0|\n",
      "|Micheal Long|        28|           61|     1991|         4|  Male|54 Burns Avenue|Broken Bow|   OK|  74728|   34.02|   -94.73|                13811.0|            28163.0|  50872.0|      689|             4|719|        0|Mastercard|   Debit|5886248864335240|02/2020|334|    YES|          2|    14624.0|     07/2011|              2015|           No| 719|   0|2013|    5| 28|18:40| 27.36| Swipe Transaction| 5232804510082391016|      Hendrix|            OK| 74741|      No|       US|   27.36|         0.0|         0.0|\n",
      "|Micheal Long|        28|           61|     1991|         4|  Male|54 Burns Avenue|Broken Bow|   OK|  74728|   34.02|   -94.73|                13811.0|            28163.0|  50872.0|      689|             4|719|        0|Mastercard|   Debit|5886248864335240|02/2020|334|    YES|          2|    14624.0|     07/2011|              2015|           No| 719|   0|2013|    5| 28|19:15| 36.55| Swipe Transaction| 7069584154815291371|  Fort Towson|            OK| 74735|      No|       US|   36.55|         0.0|         0.0|\n",
      "|Micheal Long|        28|           61|     1991|         4|  Male|54 Burns Avenue|Broken Bow|   OK|  74728|   34.02|   -94.73|                13811.0|            28163.0|  50872.0|      689|             4|719|        0|Mastercard|   Debit|5886248864335240|02/2020|334|    YES|          2|    14624.0|     07/2011|              2015|           No| 719|   0|2013|    5| 29|14:44| 42.21| Swipe Transaction|-8140755941559857074|   Broken Bow|            OK| 74728|      No|       US|   42.21|         0.0|         0.0|\n",
      "|Micheal Long|        28|           61|     1991|         4|  Male|54 Burns Avenue|Broken Bow|   OK|  74728|   34.02|   -94.73|                13811.0|            28163.0|  50872.0|      689|             4|719|        0|Mastercard|   Debit|5886248864335240|02/2020|334|    YES|          2|    14624.0|     07/2011|              2015|           No| 719|   0|2013|    5| 30|20:26| 26.14| Swipe Transaction| 7069584154815291371|  Fort Towson|            OK| 74735|      No|       US|   26.14|         0.0|         0.0|\n",
      "|Micheal Long|        28|           61|     1991|         4|  Male|54 Burns Avenue|Broken Bow|   OK|  74728|   34.02|   -94.73|                13811.0|            28163.0|  50872.0|      689|             4|719|        0|Mastercard|   Debit|5886248864335240|02/2020|334|    YES|          2|    14624.0|     07/2011|              2015|           No| 719|   0|2013|    5| 31|06:09|   2.3| Swipe Transaction|-1940418740907874681|   Broken Bow|            OK| 74728|      No|       US|     2.3|         0.0|         0.0|\n",
      "|Micheal Long|        28|           61|     1991|         4|  Male|54 Burns Avenue|Broken Bow|   OK|  74728|   34.02|   -94.73|                13811.0|            28163.0|  50872.0|      689|             4|719|        0|Mastercard|   Debit|5886248864335240|02/2020|334|    YES|          2|    14624.0|     07/2011|              2015|           No| 719|   0|2013|    5| 31|23:20|172.38|Online Transaction|-3289339997738008669|       ONLINE|        ONLINE|ONLINE|      No|   ONLINE|     0.0|      172.38|         0.0|\n",
      "|Micheal Long|        28|           61|     1991|         4|  Male|54 Burns Avenue|Broken Bow|   OK|  74728|   34.02|   -94.73|                13811.0|            28163.0|  50872.0|      689|             4|719|        0|Mastercard|   Debit|5886248864335240|02/2020|334|    YES|          2|    14624.0|     07/2011|              2015|           No| 719|   0|2013|    6|  2|13:37| 20.14| Swipe Transaction| 7069584154815291371|  Fort Towson|            OK| 74735|      No|       US|   20.14|         0.0|         0.0|\n",
      "|Micheal Long|        28|           61|     1991|         4|  Male|54 Burns Avenue|Broken Bow|   OK|  74728|   34.02|   -94.73|                13811.0|            28163.0|  50872.0|      689|             4|719|        0|Mastercard|   Debit|5886248864335240|02/2020|334|    YES|          2|    14624.0|     07/2011|              2015|           No| 719|   0|2013|    6|  2|16:27| 59.58| Swipe Transaction| 4722913068560264812|      Haworth|            OK| 74740|      No|       US|   59.58|         0.0|         0.0|\n",
      "|Micheal Long|        28|           61|     1991|         4|  Male|54 Burns Avenue|Broken Bow|   OK|  74728|   34.02|   -94.73|                13811.0|            28163.0|  50872.0|      689|             4|719|        0|Mastercard|   Debit|5886248864335240|02/2020|334|    YES|          2|    14624.0|     07/2011|              2015|           No| 719|   0|2013|    6|  3|19:00| 27.38| Swipe Transaction| 5232804510082391016|      Hendrix|            OK| 74741|      No|       US|   27.38|         0.0|         0.0|\n",
      "|Micheal Long|        28|           61|     1991|         4|  Male|54 Burns Avenue|Broken Bow|   OK|  74728|   34.02|   -94.73|                13811.0|            28163.0|  50872.0|      689|             4|719|        0|Mastercard|   Debit|5886248864335240|02/2020|334|    YES|          2|    14624.0|     07/2011|              2015|           No| 719|   0|2013|    6|  4|15:40| 40.87| Swipe Transaction|-8140755941559857074|   Broken Bow|            OK| 74728|      No|       US|   40.87|         0.0|         0.0|\n",
      "|Micheal Long|        28|           61|     1991|         4|  Male|54 Burns Avenue|Broken Bow|   OK|  74728|   34.02|   -94.73|                13811.0|            28163.0|  50872.0|      689|             4|719|        0|Mastercard|   Debit|5886248864335240|02/2020|334|    YES|          2|    14624.0|     07/2011|              2015|           No| 719|   0|2013|    6|  5|10:11| 26.16| Swipe Transaction|-5581123930363301609|      Newalla|            OK| 74857|      No|       US|   26.16|         0.0|         0.0|\n",
      "|Micheal Long|        28|           61|     1991|         4|  Male|54 Burns Avenue|Broken Bow|   OK|  74728|   34.02|   -94.73|                13811.0|            28163.0|  50872.0|      689|             4|719|        0|Mastercard|   Debit|5886248864335240|02/2020|334|    YES|          2|    14624.0|     07/2011|              2015|           No| 719|   0|2013|    6|  5|18:41| 26.99| Swipe Transaction| 7069584154815291371|  Fort Towson|            OK| 74735|      No|       US|   26.99|         0.0|         0.0|\n",
      "+------------+----------+-------------+---------+----------+------+---------------+----------+-----+-------+--------+---------+-----------------------+-------------------+---------+---------+--------------+---+---------+----------+--------+----------------+-------+---+-------+-----------+-----------+------------+------------------+-------------+----+----+----+-----+---+-----+------+------------------+--------------------+-------------+--------------+------+--------+---------+--------+------------+------------+\n",
      "only showing top 20 rows\n",
      "\n"
     ]
    }
   ],
   "source": [
    "df.show()"
   ]
  },
  {
   "cell_type": "markdown",
   "id": "f0e857a2",
   "metadata": {},
   "source": [
    "# TAD"
   ]
  },
  {
   "cell_type": "code",
   "execution_count": 11,
   "id": "bc923c48",
   "metadata": {},
   "outputs": [],
   "source": [
    "f = df.groupBy(['Person', 'CurrentAge','FICOScore', 'Zipcode',\n",
    "                'YearlyIncome_Person', 'TotalDebt', 'NumCreditCards'])\\\n",
    "      .agg((sum(\"Amount\").cast(DecimalType(10,2))).alias(\"TotalAmount\"),\n",
    "           (avg(\"Amount\").cast(DecimalType(10,2))).alias(\"AvgAmount\"),\n",
    "           (max(\"Amount\").cast(DecimalType(10,2))).alias(\"MaxAmount\"),\n",
    "           (min(\"Amount\").cast(DecimalType(10,2))).alias(\"MinAmount\"),\n",
    "           count(\"id\").alias(\"TotalTransactions\"),\n",
    "           count(when(col('TransType') == 'US', True)).alias('USTrans'),\n",
    "           count(when(col('TransType') == 'ONLINE', True)).alias('OnlineTrans'),\n",
    "           count(when(col('TransType') == 'ABROAD', True)).alias('AbroadTrans'),\n",
    "           (avg(\"USAmount\").cast(DecimalType(10,2))).alias(\"AvgUSAmount\"),\n",
    "           (avg(\"OnlineAmount\").cast(DecimalType(10,2))).alias(\"AvgOnlineAmount\"),\n",
    "           (avg(\"AbroadAmount\").cast(DecimalType(10,2))).alias(\"AvgAbroadAmount\"),\n",
    "          )"
   ]
  },
  {
   "cell_type": "code",
   "execution_count": 12,
   "id": "b1c22cc5",
   "metadata": {},
   "outputs": [
    {
     "name": "stdout",
     "output_type": "stream",
     "text": [
      "+----------------+----------+---------+-------+-------------------+---------+--------------+-----------+---------+---------+---------+-----------------+-------+-----------+-----------+-----------+---------------+---------------+\n",
      "|          Person|CurrentAge|FICOScore|Zipcode|YearlyIncome_Person|TotalDebt|NumCreditCards|TotalAmount|AvgAmount|MaxAmount|MinAmount|TotalTransactions|USTrans|OnlineTrans|AbroadTrans|AvgUSAmount|AvgOnlineAmount|AvgAbroadAmount|\n",
      "+----------------+----------+---------+-------+-------------------+---------+--------------+-----------+---------+---------+---------+-----------------+-------+-----------+-----------+-----------+---------------+---------------+\n",
      "|     Reign Scott|        30|      640|  45245|            51998.0|  73575.0|             1|  192817.50|    82.58|  1286.38|     0.53|             2335|   2174|        141|         20|      68.40|          12.42|           1.76|\n",
      "|     Raina Anwar|        40|      716|  74855|            36152.0|  81345.0|             1|  651596.73|    52.16|  1181.38|     0.81|            12493|  12035|        384|         74|      48.12|           3.57|           0.47|\n",
      "|    Randall Long|        30|      659|  21044|            76867.0| 118029.0|             1|  299041.43|    59.48|  1478.48|     0.20|             5028|   4708|        294|         26|      52.74|           5.99|           0.74|\n",
      "| Savannah Nguyen|        29|      736|  63368|            61581.0| 241312.0|             2|    9958.89|    73.77|   552.77|     1.10|              135|    126|          9|          0|      69.31|           4.46|           0.00|\n",
      "|    Emily Parker|        87|      747|  35211|            16342.0|   1758.0|             5|  827592.24|    31.68|   773.81|     0.05|            26125|  25113|        939|         73|      28.42|           3.05|           0.21|\n",
      "|     Ivory Peres|        63|      821|  20603|            71593.0| 132181.0|             3| 1005081.20|    49.37|  1478.20|     0.01|            20360|  19092|       1059|        209|      42.57|           6.21|           0.58|\n",
      "| Zariah Mitchell|        43|      773|  46311|            57185.0|      0.0|             3|  839132.92|    34.78|  3752.40|     0.05|            24126|  22854|        970|        302|      28.60|           5.62|           0.56|\n",
      "|     Zayne Adams|        59|      737|  33156|           109440.0| 180865.0|             5| 1895653.07|    85.50|  3010.22|     0.04|            22171|  16383|       5492|        296|      69.01|          15.42|           1.07|\n",
      "|   Aspen Stewart|        48|      714|  30307|            93417.0| 115916.0|             3|  915338.82|   139.85|  2244.36|     2.13|             6545|   5463|        988|         94|     118.99|          18.13|           2.73|\n",
      "|      Tomas Ross|        67|      728|  95121|            31287.0|  25844.0|             4|  624868.70|    62.38|  2090.28|     0.03|            10017|   9559|        350|        108|      53.52|           8.20|           0.65|\n",
      "|Savanna Peterson|        50|      614|  48212|            17657.0|  21899.0|             2|  261828.65|    55.24|   651.24|     0.21|             4740|   4363|        374|          3|      47.51|           7.69|           0.04|\n",
      "|  Conner Johnson|        47|      730|  75149|            36319.0|  44737.0|             4|  561581.07|    59.20|  1061.67|     0.05|             9486|   9085|        380|         21|      53.56|           5.49|           0.15|\n",
      "|    Astrid Ortiz|        37|      803|  95747|            58637.0|  87340.0|             6|  707074.89|    93.48|  1317.98|     0.21|             7564|   6909|        633|         22|      82.23|          10.91|           0.34|\n",
      "|  Nathaniel Bell|        52|      770|  46256|            63433.0| 122550.0|             7| 1487116.83|    62.98|  3416.64|     1.33|            23612|  22772|        551|        289|      58.47|           3.44|           1.08|\n",
      "|      Jace Moore|        39|      728|  35405|            41907.0|  87163.0|             4|  244576.53|    63.81|   976.23|     0.88|             3833|   3416|        402|         15|      53.77|           9.43|           0.61|\n",
      "|     Malik Scott|        54|      536|  36104|            23863.0|  83430.0|             2|  233615.12|    42.09|   821.60|     0.54|             5550|   4902|        648|          0|      34.43|           7.67|           0.00|\n",
      "|Alessandro Davis|        37|      580|  59601|            41401.0|  71180.0|             1|  392979.07|    45.90|  1085.66|     0.00|             8561|   8246|        295|         20|      43.31|           2.45|           0.14|\n",
      "|      Chase Ward|        65|      608|  10530|            40957.0|  64144.0|             4| 1254733.62|    63.82|  1839.16|     0.48|            19662|  18191|        858|        613|      53.86|           7.81|           2.15|\n",
      "|  Raquel Russell|        32|      746|  41074|            35227.0|  25277.0|             3|  395522.69|    44.09|   842.00|     0.64|             8971|   8361|        562|         48|      38.07|           5.66|           0.36|\n",
      "|       Liv Evans|        56|      717|  96028|            27981.0|  62926.0|             3|  486434.93|    23.21|   792.42|     0.00|            20956|  20024|        932|          0|      19.69|           3.52|           0.00|\n",
      "+----------------+----------+---------+-------+-------------------+---------+--------------+-----------+---------+---------+---------+-----------------+-------+-----------+-----------+-----------+---------------+---------------+\n",
      "only showing top 20 rows\n",
      "\n"
     ]
    }
   ],
   "source": [
    "f.show()"
   ]
  },
  {
   "cell_type": "code",
   "execution_count": 13,
   "id": "818d766a",
   "metadata": {},
   "outputs": [
    {
     "data": {
      "text/plain": [
       "2000"
      ]
     },
     "execution_count": 13,
     "metadata": {},
     "output_type": "execute_result"
    }
   ],
   "source": [
    "f.count()"
   ]
  },
  {
   "cell_type": "markdown",
   "id": "94dd05d9",
   "metadata": {},
   "source": [
    "# Clientes repetidos"
   ]
  },
  {
   "cell_type": "code",
   "execution_count": 14,
   "id": "9fc88fed",
   "metadata": {},
   "outputs": [
    {
     "name": "stdout",
     "output_type": "stream",
     "text": [
      "+----------------+-----+\n",
      "|          Person|count|\n",
      "+----------------+-----+\n",
      "|  Lochlan Morris|    2|\n",
      "|     Rory Nelson|    2|\n",
      "|  Hazel Robinson|    2|\n",
      "|Magdalena Farhad|    2|\n",
      "|   Abril Labelle|    2|\n",
      "| Casey El-Mafouk|    2|\n",
      "|   Cassidy Anwar|    2|\n",
      "|  Cristian Adams|    1|\n",
      "|   Belen Stewart|    1|\n",
      "|     Cali Brooks|    1|\n",
      "|Colette Phillips|    1|\n",
      "|     Amir Leroux|    1|\n",
      "|    Alia Stewart|    1|\n",
      "|  Harrison Green|    1|\n",
      "|   Ingrid Thomas|    1|\n",
      "| Markus Masvidal|    1|\n",
      "|      Addyson Xi|    1|\n",
      "| Savannah Nguyen|    1|\n",
      "|      Blake Sadr|    1|\n",
      "|   Vivian Rogers|    1|\n",
      "+----------------+-----+\n",
      "only showing top 20 rows\n",
      "\n"
     ]
    }
   ],
   "source": [
    "f.groupBy(\"Person\").count().orderBy(col(\"count\").desc()).show()"
   ]
  },
  {
   "cell_type": "code",
   "execution_count": 15,
   "id": "04559ee9",
   "metadata": {},
   "outputs": [
    {
     "name": "stdout",
     "output_type": "stream",
     "text": [
      "+----------------+----------+---------+-------+-------------------+---------+--------------+-----------+---------+---------+---------+-----------------+-------+-----------+-----------+-----------+---------------+---------------+\n",
      "|          Person|CurrentAge|FICOScore|Zipcode|YearlyIncome_Person|TotalDebt|NumCreditCards|TotalAmount|AvgAmount|MaxAmount|MinAmount|TotalTransactions|USTrans|OnlineTrans|AbroadTrans|AvgUSAmount|AvgOnlineAmount|AvgAbroadAmount|\n",
      "+----------------+----------+---------+-------+-------------------+---------+--------------+-----------+---------+---------+---------+-----------------+-------+-----------+-----------+-----------+---------------+---------------+\n",
      "|Magdalena Farhad|        45|      663|  34232|            38872.0|  94970.0|             4| 1239062.40|    74.25|   874.66|     0.09|            16687|  15796|        862|         29|      68.14|           5.79|           0.32|\n",
      "|Magdalena Farhad|        36|      719|  88045|            31414.0|  42233.0|             4|  732455.10|    56.93|   840.71|     0.00|            12867|  11994|        846|         27|      54.00|           2.63|           0.29|\n",
      "+----------------+----------+---------+-------+-------------------+---------+--------------+-----------+---------+---------+---------+-----------------+-------+-----------+-----------+-----------+---------------+---------------+\n",
      "\n"
     ]
    }
   ],
   "source": [
    "f.filter(col(\"Person\") == \"Magdalena Farhad\").show()"
   ]
  },
  {
   "cell_type": "markdown",
   "id": "52e601ff",
   "metadata": {},
   "source": [
    "Notemos que tenemos diferente edad y zipcode, por lo tanto nos quedaremos con la edad más actual."
   ]
  },
  {
   "cell_type": "code",
   "execution_count": 16,
   "id": "5aea5776",
   "metadata": {},
   "outputs": [],
   "source": [
    "f = f.orderBy(col('CurrentAge').desc()).coalesce(1).dropDuplicates(subset = ['Person'])"
   ]
  },
  {
   "cell_type": "code",
   "execution_count": 17,
   "id": "12c488f1",
   "metadata": {
    "scrolled": true
   },
   "outputs": [
    {
     "data": {
      "text/plain": [
       "1993"
      ]
     },
     "execution_count": 17,
     "metadata": {},
     "output_type": "execute_result"
    }
   ],
   "source": [
    "f.count()"
   ]
  },
  {
   "cell_type": "markdown",
   "id": "2b64947a",
   "metadata": {},
   "source": [
    "# Guardamos"
   ]
  },
  {
   "cell_type": "code",
   "execution_count": 18,
   "id": "6a75484f",
   "metadata": {},
   "outputs": [],
   "source": [
    "f.write.format(\"csv\").save(\"/Users/karla/Documents/Docs/Credit Cards Transactions/Exam_TAD.csv\")"
   ]
  },
  {
   "cell_type": "code",
   "execution_count": null,
   "id": "76981c36",
   "metadata": {},
   "outputs": [],
   "source": []
  }
 ],
 "metadata": {
  "kernelspec": {
   "display_name": "Python 3 (ipykernel)",
   "language": "python",
   "name": "python3"
  },
  "language_info": {
   "codemirror_mode": {
    "name": "ipython",
    "version": 3
   },
   "file_extension": ".py",
   "mimetype": "text/x-python",
   "name": "python",
   "nbconvert_exporter": "python",
   "pygments_lexer": "ipython3",
   "version": "3.8.10"
  }
 },
 "nbformat": 4,
 "nbformat_minor": 5
}
