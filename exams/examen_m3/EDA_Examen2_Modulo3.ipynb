{
  "cells": [
    {
      "cell_type": "code",
      "execution_count": 130,
      "id": "5ae1118d",
      "metadata": {
        "id": "5ae1118d"
      },
      "outputs": [],
      "source": [
        "# Import PySpark\n",
        "from pyspark.sql import SparkSession\n",
        "\n",
        "spark = SparkSession.builder \\\n",
        "    .master('local[*]') \\\n",
        "    .config(\"spark.driver.memory\", \"10g\") \\\n",
        "    .appName('Exam') \\\n",
        "    .getOrCreate() \n",
        "from pyspark.sql.functions import *"
      ]
    },
    {
      "cell_type": "code",
      "source": [
        "!pip install pyspark"
      ],
      "metadata": {
        "colab": {
          "base_uri": "https://localhost:8080/"
        },
        "id": "geJ8oQcgzsDZ",
        "outputId": "1bb7f76e-a01b-4d53-fbbc-a351295cba04"
      },
      "id": "geJ8oQcgzsDZ",
      "execution_count": 131,
      "outputs": [
        {
          "output_type": "stream",
          "name": "stdout",
          "text": [
            "Looking in indexes: https://pypi.org/simple, https://us-python.pkg.dev/colab-wheels/public/simple/\n",
            "Requirement already satisfied: pyspark in /usr/local/lib/python3.7/dist-packages (3.3.0)\n",
            "Requirement already satisfied: py4j==0.10.9.5 in /usr/local/lib/python3.7/dist-packages (from pyspark) (0.10.9.5)\n"
          ]
        }
      ]
    },
    {
      "cell_type": "code",
      "source": [
        "from google.colab import drive\n",
        "drive.mount('/content/drive')"
      ],
      "metadata": {
        "colab": {
          "base_uri": "https://localhost:8080/"
        },
        "id": "ekZB0vzlzu9y",
        "outputId": "b9e86f35-7fb1-4f73-e7dc-123266b08c56"
      },
      "id": "ekZB0vzlzu9y",
      "execution_count": 132,
      "outputs": [
        {
          "output_type": "stream",
          "name": "stdout",
          "text": [
            "Drive already mounted at /content/drive; to attempt to forcibly remount, call drive.mount(\"/content/drive\", force_remount=True).\n"
          ]
        }
      ]
    },
    {
      "cell_type": "code",
      "source": [
        "import matplotlib.pyplot as plt\n",
        "import plotly.graph_objects as go\n",
        "import plotly.express as px"
      ],
      "metadata": {
        "id": "exhg3jqVEhXU"
      },
      "id": "exhg3jqVEhXU",
      "execution_count": 133,
      "outputs": []
    },
    {
      "cell_type": "code",
      "execution_count": 134,
      "id": "ef572f7b",
      "metadata": {
        "colab": {
          "base_uri": "https://localhost:8080/",
          "height": 17
        },
        "id": "ef572f7b",
        "outputId": "0b2353ec-67a5-4c54-86f6-c8a443a400f5"
      },
      "outputs": [
        {
          "output_type": "display_data",
          "data": {
            "text/plain": [
              "<IPython.core.display.HTML object>"
            ],
            "text/html": [
              "<style>\n",
              ".output_subarea.output_text.output_stream.output_stdout > pre {\n",
              "  width:max-content;\n",
              "}\n",
              ".p-Widget.jp-RenderedText.jp-OutputArea-output > pre {\n",
              "  width:max-content;\n",
              "}\n",
              "</style>\n"
            ]
          },
          "metadata": {}
        }
      ],
      "source": [
        "%%html\n",
        "<style>\n",
        ".output_subarea.output_text.output_stream.output_stdout > pre {\n",
        "  width:max-content;\n",
        "}\n",
        ".p-Widget.jp-RenderedText.jp-OutputArea-output > pre {\n",
        "  width:max-content;\n",
        "}\n",
        "</style>"
      ]
    },
    {
      "cell_type": "code",
      "execution_count": 135,
      "id": "2b4a633a",
      "metadata": {
        "colab": {
          "base_uri": "https://localhost:8080/"
        },
        "id": "2b4a633a",
        "outputId": "a816587e-6eb1-4cf1-ffc6-9d328be33f2d"
      },
      "outputs": [
        {
          "output_type": "stream",
          "name": "stdout",
          "text": [
            "CPU times: user 3.28 ms, sys: 1.08 ms, total: 4.36 ms\n",
            "Wall time: 299 ms\n"
          ]
        }
      ],
      "source": [
        "%%time\n",
        "df =  spark.read.parquet('/content/drive/MyDrive/Colab Notebooks/PARQUET/tablas_juntasf.parquet')"
      ]
    },
    {
      "cell_type": "code",
      "execution_count": 136,
      "id": "1db50bae",
      "metadata": {
        "id": "1db50bae"
      },
      "outputs": [],
      "source": [
        "#df.select(*(sum(col(c).isNull().cast(\"int\")).alias(c) for c in df.columns)).show()"
      ]
    },
    {
      "cell_type": "code",
      "execution_count": 137,
      "id": "24aa7625",
      "metadata": {
        "id": "24aa7625"
      },
      "outputs": [],
      "source": [
        "df = df.drop('MCC','Errors', 'Apartment')"
      ]
    },
    {
      "cell_type": "markdown",
      "id": "55960b8d",
      "metadata": {
        "id": "55960b8d"
      },
      "source": [
        "# Limpieza e Ingeniería"
      ]
    },
    {
      "cell_type": "code",
      "execution_count": 138,
      "id": "7679b0b1",
      "metadata": {
        "id": "7679b0b1"
      },
      "outputs": [],
      "source": [
        "us_states = [\"AK\",\"AL\", \"AR\",\n",
        "             \"AZ\",\"CA\",\"CO\",\n",
        "             \"CT\", \"DC\",\"DE\",\n",
        "             \"FL\",\"GA\",\"HI\",\n",
        "             \"IA\",\"ID\",\"IL\",\n",
        "             \"IN\", \"KS\",\"KY\",\n",
        "             \"LA\",\"MA\",\"MD\",\n",
        "             \"ME\",\"MI\",\"MN\",\n",
        "             \"MO\",\"MS\",\"MT\",\n",
        "             \"NC\",\"ND\",\"NE\",\n",
        "             \"NH\",\"NJ\",\"NM\",\n",
        "             \"NV\",\"NY\",\"OH\",\n",
        "             \"OK\",\"OR\",\"PA\",\n",
        "             \"RI\",\"SC\",\"SD\",\n",
        "             \"TN\",\"TX\",\"UT\",\n",
        "             \"VA\",\"VT\",\"WA\",\n",
        "             \"WI\",\"WV\",\"WY\"]"
      ]
    },
    {
      "cell_type": "code",
      "execution_count": 139,
      "id": "488ed98a",
      "metadata": {
        "id": "488ed98a"
      },
      "outputs": [],
      "source": [
        "from pyspark.sql.types import FloatType, DecimalType\n",
        "df = df.select('Person',\n",
        "                 'CurrentAge',\n",
        "                 'RetirementAge',\n",
        "                 'BirthYear',\n",
        "                 'BirthMonth',\n",
        "                 'Gender',\n",
        "                 'Address',\n",
        "                 'City',\n",
        "                 'State',\n",
        "                 'Zipcode',\n",
        "                 'Latitude',\n",
        "                 'Longitude',\n",
        "                  regexp_replace(col(\"PerCapitaIncome-Zipcode\"),\n",
        "                                 \"[^\\d.]\", \"\").cast(FloatType()).alias(\"PerCapitaIncome_Zipcode\"),\n",
        "                  regexp_replace(col(\"YearlyIncome-Person\"),\n",
        "                                 \"[^\\d.]\", \"\").cast(FloatType()).alias(\"YearlyIncome_Person\"),\n",
        "                  regexp_replace(col(\"TotalDebt\"),\n",
        "                                 \"[^\\d.]\", \"\").cast(FloatType()).alias(\"TotalDebt\"),\n",
        "                 'FICOScore',\n",
        "                 'NumCreditCards',\n",
        "                 'id',\n",
        "                 'CARDINDEX',\n",
        "                 'CardBrand',\n",
        "                 'CardType',\n",
        "                 'CardNumber',\n",
        "                 'Expires',\n",
        "                 'CVV',\n",
        "                 'HasChip',\n",
        "                 'CardsIssued',\n",
        "                  regexp_replace(col(\"CreditLimit\"), \"[^\\d.]\", \"\").cast(FloatType()).alias(\"CreditLimit\"),\n",
        "                 'AcctOpenDate',\n",
        "                 'YearPINlastChanged',\n",
        "                 'CardonDarkWeb',\n",
        "                 'User',\n",
        "                 'Card',\n",
        "                 'Year',\n",
        "                 'Month',\n",
        "                 'Day',\n",
        "                 'Time',\n",
        "                  regexp_replace(col(\"Amount\"), \"[^\\d.]\", \"\").cast(FloatType()).alias(\"Amount\"),\n",
        "                 'Use_Chip',\n",
        "                 'Merchant_Name',\n",
        "                 'Merchant_City',\n",
        "                 when(col(\"Merchant_State\").isNull(),\n",
        "                      \"ONLINE\").otherwise(col(\"Merchant_State\")).alias(\"Merchant_State\"),\n",
        "                 when(col(\"Zip\").isNull(), \"ONLINE\").otherwise(col(\"Zip\")).alias(\"Zip\"),\n",
        "                 'Is_Fraud')"
      ]
    },
    {
      "cell_type": "code",
      "execution_count": 140,
      "id": "f71e2013",
      "metadata": {
        "id": "f71e2013"
      },
      "outputs": [],
      "source": [
        "df = df.select(\"*\",\n",
        "               when(col(\"Merchant_State\").isin(us_states),\n",
        "                    \"US\").when(col(\"Merchant_State\").isin(\"ONLINE\"),\n",
        "                               \"ONLINE\").otherwise(\"ABROAD\").alias(\"TransType\"))"
      ]
    },
    {
      "cell_type": "code",
      "execution_count": 141,
      "id": "25ce7414",
      "metadata": {
        "id": "25ce7414"
      },
      "outputs": [],
      "source": [
        "df = df.select(\"*\",\n",
        "               when(col(\"TransType\") == 'US', col(\"Amount\")).otherwise(0).alias('USAmount'),\n",
        "               when(col(\"TransType\") == 'ONLINE', col(\"Amount\")).otherwise(0).alias('OnlineAmount'),\n",
        "               when(col(\"TransType\") == 'ABROAD', col(\"Amount\")).otherwise(0).alias('AbroadAmount'),\n",
        "               (2020-col(\"Year\")).alias(\"Recency\"),\n",
        "               when((col(\"RetirementAge\")-col(\"CurrentAge\")) < 0, 0\n",
        "                   ).otherwise((col(\"RetirementAge\")-col(\"CurrentAge\"))).alias(\"RemainingYears\")\n",
        "              )"
      ]
    },
    {
      "cell_type": "code",
      "execution_count": 142,
      "id": "3a51c732",
      "metadata": {
        "id": "3a51c732"
      },
      "outputs": [],
      "source": [
        "# Quitamos los clientes que no tienen crédito.\n",
        "df = df.filter((col(\"CreditLimit\") > 0) & (col(\"CardType\") == 'Credit'))"
      ]
    },
    {
      "cell_type": "code",
      "execution_count": 143,
      "id": "ada9f122",
      "metadata": {
        "id": "ada9f122"
      },
      "outputs": [],
      "source": [
        "#df.show(5)"
      ]
    },
    {
      "cell_type": "markdown",
      "id": "8b6d07c4",
      "metadata": {
        "id": "8b6d07c4"
      },
      "source": [
        "# TAD"
      ]
    },
    {
      "cell_type": "code",
      "execution_count": 144,
      "id": "865f409d",
      "metadata": {
        "id": "865f409d"
      },
      "outputs": [],
      "source": [
        "f = df.groupBy(['Person', 'CurrentAge','FICOScore', 'RetirementAge',\n",
        "                'YearlyIncome_Person', 'TotalDebt', 'NumCreditCards','Time','Month','User','Zip','Merchant_State'])\\\n",
        "      .agg((sum(\"Amount\").cast(DecimalType(10,2))).alias(\"TotalAmount\"),\n",
        "           (avg(\"Amount\").cast(DecimalType(10,2))).alias(\"AvgAmount\"),\n",
        "           (max(\"Amount\").cast(DecimalType(10,2))).alias(\"MaxAmount\"),\n",
        "           (min(\"Amount\").cast(DecimalType(10,2))).alias(\"MinAmount\"),\n",
        "           count(\"id\").alias(\"TotalTransactions\"),\n",
        "           count(when(col('TransType') == 'US', True)).alias('USTrans'),\n",
        "           count(when(col('TransType') == 'ONLINE', True)).alias('OnlineTrans'),\n",
        "           count(when(col('TransType') == 'ABROAD', True)).alias('AbroadTrans'),\n",
        "           (avg(\"USAmount\").cast(DecimalType(10,2))).alias(\"AvgUSAmount\"),\n",
        "           (avg(\"OnlineAmount\").cast(DecimalType(10,2))).alias(\"AvgOnlineAmount\"),\n",
        "           (avg(\"AbroadAmount\").cast(DecimalType(10,2))).alias(\"AvgAbroadAmount\"),\n",
        "           (max(\"CreditLimit\").cast(DecimalType(10,2))).alias(\"MaxCreditLimit\"),\n",
        "           (min(\"CreditLimit\").cast(DecimalType(10,2))).alias(\"MinCreditLimit\"),\n",
        "           (avg(\"CreditLimit\").cast(DecimalType(10,2))).alias(\"AvgCreditLimit\"),\n",
        "           (max(\"Recency\")).alias(\"Antiquity\"),\n",
        "           (max(\"RemainingYears\")).alias(\"RemainingYears\")\n",
        "          )"
      ]
    },
    {
      "cell_type": "code",
      "execution_count": 145,
      "id": "ea1bd7a4",
      "metadata": {
        "id": "ea1bd7a4"
      },
      "outputs": [],
      "source": [
        "#f.show()"
      ]
    },
    {
      "cell_type": "code",
      "execution_count": 146,
      "id": "9aedce15",
      "metadata": {
        "id": "9aedce15"
      },
      "outputs": [],
      "source": [
        "#f.count()"
      ]
    },
    {
      "cell_type": "markdown",
      "id": "49554d1f",
      "metadata": {
        "id": "49554d1f"
      },
      "source": [
        "# Clientes repetidos"
      ]
    },
    {
      "cell_type": "code",
      "execution_count": 147,
      "id": "106326e0",
      "metadata": {
        "colab": {
          "base_uri": "https://localhost:8080/"
        },
        "id": "106326e0",
        "outputId": "ca868f27-68c1-4a3c-aa24-4aedfc1706e4"
      },
      "outputs": [
        {
          "output_type": "stream",
          "name": "stdout",
          "text": [
            "+----------------+-----+\n",
            "|          Person|count|\n",
            "+----------------+-----+\n",
            "|     Simeon Cruz|22015|\n",
            "|Beckett Gonzalez|17505|\n",
            "| Addison Faraday|16538|\n",
            "|      Chris Hill|16187|\n",
            "| Journey Ramirez|16125|\n",
            "|    Evelynn Diaz|15741|\n",
            "|      Corey King|15476|\n",
            "|       Alisa Abe|15343|\n",
            "|   Darius Taylor|14717|\n",
            "|   Gianni Merkel|13977|\n",
            "|    Rhys Faraday|13945|\n",
            "|     Bill Merkel|13820|\n",
            "|   Jakob Roberts|13800|\n",
            "|  Garrett Macron|13538|\n",
            "|     Maya Torres|13321|\n",
            "| Kynlee Martinez|13165|\n",
            "|    Terry Nguyen|13072|\n",
            "|   Justice Davis|13011|\n",
            "|   Heaven Wright|12883|\n",
            "|      Ryan Anwar|12848|\n",
            "+----------------+-----+\n",
            "only showing top 20 rows\n",
            "\n"
          ]
        }
      ],
      "source": [
        "f.groupBy(\"Person\").count().orderBy(col(\"count\").desc()).show()"
      ]
    },
    {
      "cell_type": "code",
      "execution_count": 148,
      "id": "4d6c6e43",
      "metadata": {
        "colab": {
          "base_uri": "https://localhost:8080/"
        },
        "id": "4d6c6e43",
        "outputId": "2a0983d6-d81c-4d3a-8646-f975f1b71158"
      },
      "outputs": [
        {
          "output_type": "stream",
          "name": "stdout",
          "text": [
            "+----------------+----------+---------+-------------+-------------------+---------+--------------+-----+-----+----+------+--------------+-----------+---------+---------+---------+-----------------+-------+-----------+-----------+-----------+---------------+---------------+--------------+--------------+--------------+---------+--------------+\n",
            "|          Person|CurrentAge|FICOScore|RetirementAge|YearlyIncome_Person|TotalDebt|NumCreditCards| Time|Month|User|   Zip|Merchant_State|TotalAmount|AvgAmount|MaxAmount|MinAmount|TotalTransactions|USTrans|OnlineTrans|AbroadTrans|AvgUSAmount|AvgOnlineAmount|AvgAbroadAmount|MaxCreditLimit|MinCreditLimit|AvgCreditLimit|Antiquity|RemainingYears|\n",
            "+----------------+----------+---------+-------------+-------------------+---------+--------------+-----+-----+----+------+--------------+-----------+---------+---------+---------+-----------------+-------+-----------+-----------+-----------+---------------+---------------+--------------+--------------+--------------+---------+--------------+\n",
            "|Magdalena Farhad|        45|      663|           61|            38872.0|  94970.0|             4|09:24|    8| 856| 34232|            FL|     521.89|    86.98|   103.59|    73.90|                6|      6|          0|          0|      86.98|           0.00|           0.00|      12500.00|      10400.00|      11800.00|     17.0|          16.0|\n",
            "|Magdalena Farhad|        45|      663|           61|            38872.0|  94970.0|             4|10:30|    9| 856| 34232|            FL|      39.29|    13.10|    13.56|    12.56|                3|      3|          0|          0|      13.10|           0.00|           0.00|      12500.00|      10400.00|      11100.00|     17.0|          16.0|\n",
            "|Magdalena Farhad|        45|      663|           61|            38872.0|  94970.0|             4|09:19|   12| 856| 34266|            FL|     238.06|    79.35|    99.57|    65.04|                3|      3|          0|          0|      79.35|           0.00|           0.00|      12500.00|      10400.00|      11800.00|     17.0|          16.0|\n",
            "|Magdalena Farhad|        45|      663|           61|            38872.0|  94970.0|             4|08:22|    9| 856| 34232|            FL|      26.96|    26.96|    26.96|    26.96|                1|      1|          0|          0|      26.96|           0.00|           0.00|      10400.00|      10400.00|      10400.00|     13.0|          16.0|\n",
            "|Magdalena Farhad|        45|      663|           61|            38872.0|  94970.0|             4|09:08|    7| 856| 34232|            FL|     329.84|    82.46|   105.44|    61.30|                4|      4|          0|          0|      82.46|           0.00|           0.00|      12500.00|      10400.00|      11450.00|     15.0|          16.0|\n",
            "|Magdalena Farhad|        45|      663|           61|            38872.0|  94970.0|             4|10:38|    8| 856| 34232|            FL|      13.11|    13.11|    13.11|    13.11|                1|      1|          0|          0|      13.11|           0.00|           0.00|      10400.00|      10400.00|      10400.00|     12.0|          16.0|\n",
            "|Magdalena Farhad|        45|      663|           61|            38872.0|  94970.0|             4|09:55|    6| 856| 34232|            FL|     177.93|    88.97|    93.01|    84.92|                2|      2|          0|          0|      88.97|           0.00|           0.00|      12500.00|      10400.00|      11450.00|     15.0|          16.0|\n",
            "|Magdalena Farhad|        45|      663|           61|            38872.0|  94970.0|             4|06:19|   10| 856|ONLINE|        ONLINE|      82.80|    82.80|    82.80|    82.80|                1|      0|          1|          0|       0.00|          82.80|           0.00|      10400.00|      10400.00|      10400.00|     11.0|          16.0|\n",
            "|Magdalena Farhad|        45|      663|           61|            38872.0|  94970.0|             4|09:02|   12| 856| 34232|            FL|     597.21|    85.32|   108.49|    70.85|                7|      7|          0|          0|      85.32|           0.00|           0.00|      12500.00|      10400.00|      11900.00|     16.0|          16.0|\n",
            "|Magdalena Farhad|        45|      663|           61|            38872.0|  94970.0|             4|08:17|    3| 856| 34232|            FL|      99.85|    99.85|    99.85|    99.85|                1|      1|          0|          0|      99.85|           0.00|           0.00|      10400.00|      10400.00|      10400.00|     10.0|          16.0|\n",
            "|Magdalena Farhad|        45|      663|           61|            38872.0|  94970.0|             4|19:13|    5| 856| 34235|            FL|     334.33|   334.33|   334.33|   334.33|                1|      1|          0|          0|     334.33|           0.00|           0.00|      10400.00|      10400.00|      10400.00|     10.0|          16.0|\n",
            "|Magdalena Farhad|        45|      663|           61|            38872.0|  94970.0|             4|14:01|    6| 856| 34232|            FL|     105.90|   105.90|   105.90|   105.90|                1|      1|          0|          0|     105.90|           0.00|           0.00|      10400.00|      10400.00|      10400.00|      9.0|          16.0|\n",
            "|Magdalena Farhad|        45|      663|           61|            38872.0|  94970.0|             4|11:19|    5| 856| 89148|            NV|     213.82|   213.82|   213.82|   213.82|                1|      1|          0|          0|     213.82|           0.00|           0.00|      10400.00|      10400.00|      10400.00|      8.0|          16.0|\n",
            "|Magdalena Farhad|        45|      663|           61|            38872.0|  94970.0|             4|00:54|    1| 856| 35553|            AL|      46.21|    46.21|    46.21|    46.21|                1|      1|          0|          0|      46.21|           0.00|           0.00|      10400.00|      10400.00|      10400.00|      4.0|          16.0|\n",
            "|Magdalena Farhad|        45|      663|           61|            38872.0|  94970.0|             4|14:34|    4| 856| 34232|            FL|      62.48|    62.48|    62.48|    62.48|                1|      1|          0|          0|      62.48|           0.00|           0.00|      10400.00|      10400.00|      10400.00|      4.0|          16.0|\n",
            "|Magdalena Farhad|        45|      663|           61|            38872.0|  94970.0|             4|00:09|    3| 856| 35553|            AL|      42.97|    42.97|    42.97|    42.97|                1|      1|          0|          0|      42.97|           0.00|           0.00|      12500.00|      12500.00|      12500.00|     16.0|          16.0|\n",
            "|Magdalena Farhad|        45|      663|           61|            38872.0|  94970.0|             4|01:04|   11| 856| 94601|            CA|     367.00|   367.00|   367.00|   367.00|                1|      1|          0|          0|     367.00|           0.00|           0.00|      12500.00|      12500.00|      12500.00|     16.0|          16.0|\n",
            "|Magdalena Farhad|        45|      663|           61|            38872.0|  94970.0|             4|16:56|    3| 856| 34232|            FL|       0.74|     0.74|     0.74|     0.74|                1|      1|          0|          0|       0.74|           0.00|           0.00|      12500.00|      12500.00|      12500.00|     14.0|          16.0|\n",
            "|Magdalena Farhad|        45|      663|           61|            38872.0|  94970.0|             4|09:10|    9| 856| 34233|            FL|     113.65|   113.65|   113.65|   113.65|                1|      1|          0|          0|     113.65|           0.00|           0.00|      12500.00|      12500.00|      12500.00|     14.0|          16.0|\n",
            "|Magdalena Farhad|        45|      663|           61|            38872.0|  94970.0|             4|21:33|    4| 856| 34232|            FL|      49.20|    49.20|    49.20|    49.20|                1|      1|          0|          0|      49.20|           0.00|           0.00|      12500.00|      12500.00|      12500.00|     13.0|          16.0|\n",
            "+----------------+----------+---------+-------------+-------------------+---------+--------------+-----+-----+----+------+--------------+-----------+---------+---------+---------+-----------------+-------+-----------+-----------+-----------+---------------+---------------+--------------+--------------+--------------+---------+--------------+\n",
            "only showing top 20 rows\n",
            "\n"
          ]
        }
      ],
      "source": [
        "f.filter(col(\"Person\") == \"Magdalena Farhad\").show()"
      ]
    },
    {
      "cell_type": "markdown",
      "id": "f5187e1d",
      "metadata": {
        "id": "f5187e1d"
      },
      "source": [
        "Notemos que tenemos diferente edad y zipcode, por lo tanto nos quedaremos con la edad más actual."
      ]
    },
    {
      "cell_type": "code",
      "execution_count": 149,
      "id": "d7dc9879",
      "metadata": {
        "id": "d7dc9879"
      },
      "outputs": [],
      "source": [
        "f = f.orderBy(col('CurrentAge').desc()).coalesce(1).dropDuplicates(subset = ['Person'])"
      ]
    },
    {
      "cell_type": "code",
      "execution_count": 150,
      "id": "bdbe28e4",
      "metadata": {
        "scrolled": true,
        "id": "bdbe28e4"
      },
      "outputs": [],
      "source": [
        "#f.count()"
      ]
    },
    {
      "cell_type": "code",
      "source": [
        "\n",
        "pandas_df = f.toPandas()"
      ],
      "metadata": {
        "id": "bgvqPSdnAphS"
      },
      "id": "bgvqPSdnAphS",
      "execution_count": 151,
      "outputs": []
    },
    {
      "cell_type": "code",
      "source": [
        "import numpy as np "
      ],
      "metadata": {
        "id": "0uUh0LS2Ce6F"
      },
      "id": "0uUh0LS2Ce6F",
      "execution_count": 152,
      "outputs": []
    },
    {
      "cell_type": "code",
      "source": [
        "df=pandas_df.copy()"
      ],
      "metadata": {
        "id": "rpWe9XuUCws-"
      },
      "id": "rpWe9XuUCws-",
      "execution_count": 153,
      "outputs": []
    },
    {
      "cell_type": "code",
      "source": [
        "df_nonusa = df[df['Merchant_State'] != 'ONLINE']\n",
        "print(f\"# Transacciones en USA: {len(df_nonusa)}\")"
      ],
      "metadata": {
        "colab": {
          "base_uri": "https://localhost:8080/"
        },
        "id": "aPCMtXLu88XX",
        "outputId": "7a2ad9f9-5144-4a95-ae29-a010b4436fce"
      },
      "id": "aPCMtXLu88XX",
      "execution_count": 170,
      "outputs": [
        {
          "output_type": "stream",
          "name": "stdout",
          "text": [
            "# Transacciones en USA: 1160\n"
          ]
        }
      ]
    },
    {
      "cell_type": "code",
      "source": [
        "df_usa = df[df['Merchant_State'] == 'ONLINE']\n",
        "print(f\"# Transacciones fuera USA: {len(df_usa)}\")"
      ],
      "metadata": {
        "colab": {
          "base_uri": "https://localhost:8080/"
        },
        "id": "v6HZtfT1AUaz",
        "outputId": "c58c8dfd-c2c2-4418-9a73-112b04dffe02"
      },
      "id": "v6HZtfT1AUaz",
      "execution_count": 171,
      "outputs": [
        {
          "output_type": "stream",
          "name": "stdout",
          "text": [
            "# Transacciones fuera USA: 136\n"
          ]
        }
      ]
    },
    {
      "cell_type": "code",
      "source": [
        "transaction_count = df_nonusa['Merchant_State'].value_counts().to_frame().reset_index()"
      ],
      "metadata": {
        "id": "klmhnfsCA8jD"
      },
      "id": "klmhnfsCA8jD",
      "execution_count": 156,
      "outputs": []
    },
    {
      "cell_type": "code",
      "source": [
        "transaction_count = transaction_count.rename(columns={\"index\":\"Country\",\"Merchant_State\":\"Count\"})"
      ],
      "metadata": {
        "id": "ai3x_nVqBEvX"
      },
      "id": "ai3x_nVqBEvX",
      "execution_count": 157,
      "outputs": []
    },
    {
      "cell_type": "code",
      "source": [
        "transaction_count.Country.values"
      ],
      "metadata": {
        "colab": {
          "base_uri": "https://localhost:8080/"
        },
        "id": "WjWunxCdBRZj",
        "outputId": "8ece7a59-bbdd-4212-9201-a95eca4c819f"
      },
      "id": "WjWunxCdBRZj",
      "execution_count": 158,
      "outputs": [
        {
          "output_type": "execute_result",
          "data": {
            "text/plain": [
              "array(['CA', 'TX', 'FL', 'NY', 'OH', 'NC', 'PA', 'IL', 'MI', 'IN', 'NJ',\n",
              "       'GA', 'VA', 'TN', 'OK', 'MD', 'WA', 'LA', 'MO', 'AZ', 'WI', 'SC',\n",
              "       'MA', 'AL', 'IA', 'MN', 'MS', 'NV', 'OR', 'CO', 'KY', 'AR', 'CT',\n",
              "       'KS', 'NM', 'NE', 'HI', 'UT', 'WV', 'NH', 'SD', 'RI', 'ME', 'VT',\n",
              "       'ID', 'DE', 'MT', 'AK', 'Canada', 'ND', 'DC', 'WY', 'Mexico',\n",
              "       'Jamaica', 'Japan'], dtype=object)"
            ]
          },
          "metadata": {},
          "execution_count": 158
        }
      ]
    },
    {
      "cell_type": "code",
      "source": [
        "code_list = []\n",
        "\n",
        "for country in transaction_count.Country.values:\n",
        "    small_country = country.lower()\n",
        "    try:\n",
        "        response = requests.get(\"https://restcountries.eu/rest/v2/name/\" + small_country + \"?fullText=true\")\n",
        "        code_list.append(response.json()[0]['alpha3Code'])\n",
        "    except:\n",
        "        code_list.append(\"\")"
      ],
      "metadata": {
        "id": "LwIqUDIdBNaE"
      },
      "id": "LwIqUDIdBNaE",
      "execution_count": 159,
      "outputs": []
    },
    {
      "cell_type": "code",
      "source": [
        "transaction_count[\"ISO_Code\"] = code_list"
      ],
      "metadata": {
        "id": "aKa7RajOFPT9"
      },
      "id": "aKa7RajOFPT9",
      "execution_count": 160,
      "outputs": []
    },
    {
      "cell_type": "code",
      "source": [
        "transaction_count[transaction_count[\"ISO_Code\"] == \"\"]"
      ],
      "metadata": {
        "colab": {
          "base_uri": "https://localhost:8080/",
          "height": 1000
        },
        "id": "5CaPp9XaFSdV",
        "outputId": "8a7acd0b-f489-4e47-e128-a19ad595b732"
      },
      "id": "5CaPp9XaFSdV",
      "execution_count": 161,
      "outputs": [
        {
          "output_type": "execute_result",
          "data": {
            "text/plain": [
              "    Country  Count ISO_Code\n",
              "0        CA    140         \n",
              "1        TX     94         \n",
              "2        FL     82         \n",
              "3        NY     66         \n",
              "4        OH     49         \n",
              "5        NC     48         \n",
              "6        PA     46         \n",
              "7        IL     44         \n",
              "8        MI     37         \n",
              "9        IN     34         \n",
              "10       NJ     33         \n",
              "11       GA     33         \n",
              "12       VA     25         \n",
              "13       TN     25         \n",
              "14       OK     23         \n",
              "15       MD     23         \n",
              "16       WA     20         \n",
              "17       LA     19         \n",
              "18       MO     19         \n",
              "19       AZ     17         \n",
              "20       WI     16         \n",
              "21       SC     16         \n",
              "22       MA     16         \n",
              "23       AL     16         \n",
              "24       IA     16         \n",
              "25       MN     15         \n",
              "26       MS     15         \n",
              "27       NV     15         \n",
              "28       OR     14         \n",
              "29       CO     13         \n",
              "30       KY     13         \n",
              "31       AR     12         \n",
              "32       CT     12         \n",
              "33       KS     10         \n",
              "34       NM     10         \n",
              "35       NE      8         \n",
              "36       HI      8         \n",
              "37       UT      7         \n",
              "38       WV      6         \n",
              "39       NH      5         \n",
              "40       SD      5         \n",
              "41       RI      4         \n",
              "42       ME      4         \n",
              "43       VT      4         \n",
              "44       ID      4         \n",
              "45       DE      4         \n",
              "46       MT      3         \n",
              "47       AK      3         \n",
              "48   Canada      2         \n",
              "49       ND      2         \n",
              "50       DC      1         \n",
              "51       WY      1         \n",
              "52   Mexico      1         \n",
              "53  Jamaica      1         \n",
              "54    Japan      1         "
            ],
            "text/html": [
              "\n",
              "  <div id=\"df-bc95fb36-c488-46ee-88c8-c8b5eba8ceb1\">\n",
              "    <div class=\"colab-df-container\">\n",
              "      <div>\n",
              "<style scoped>\n",
              "    .dataframe tbody tr th:only-of-type {\n",
              "        vertical-align: middle;\n",
              "    }\n",
              "\n",
              "    .dataframe tbody tr th {\n",
              "        vertical-align: top;\n",
              "    }\n",
              "\n",
              "    .dataframe thead th {\n",
              "        text-align: right;\n",
              "    }\n",
              "</style>\n",
              "<table border=\"1\" class=\"dataframe\">\n",
              "  <thead>\n",
              "    <tr style=\"text-align: right;\">\n",
              "      <th></th>\n",
              "      <th>Country</th>\n",
              "      <th>Count</th>\n",
              "      <th>ISO_Code</th>\n",
              "    </tr>\n",
              "  </thead>\n",
              "  <tbody>\n",
              "    <tr>\n",
              "      <th>0</th>\n",
              "      <td>CA</td>\n",
              "      <td>140</td>\n",
              "      <td></td>\n",
              "    </tr>\n",
              "    <tr>\n",
              "      <th>1</th>\n",
              "      <td>TX</td>\n",
              "      <td>94</td>\n",
              "      <td></td>\n",
              "    </tr>\n",
              "    <tr>\n",
              "      <th>2</th>\n",
              "      <td>FL</td>\n",
              "      <td>82</td>\n",
              "      <td></td>\n",
              "    </tr>\n",
              "    <tr>\n",
              "      <th>3</th>\n",
              "      <td>NY</td>\n",
              "      <td>66</td>\n",
              "      <td></td>\n",
              "    </tr>\n",
              "    <tr>\n",
              "      <th>4</th>\n",
              "      <td>OH</td>\n",
              "      <td>49</td>\n",
              "      <td></td>\n",
              "    </tr>\n",
              "    <tr>\n",
              "      <th>5</th>\n",
              "      <td>NC</td>\n",
              "      <td>48</td>\n",
              "      <td></td>\n",
              "    </tr>\n",
              "    <tr>\n",
              "      <th>6</th>\n",
              "      <td>PA</td>\n",
              "      <td>46</td>\n",
              "      <td></td>\n",
              "    </tr>\n",
              "    <tr>\n",
              "      <th>7</th>\n",
              "      <td>IL</td>\n",
              "      <td>44</td>\n",
              "      <td></td>\n",
              "    </tr>\n",
              "    <tr>\n",
              "      <th>8</th>\n",
              "      <td>MI</td>\n",
              "      <td>37</td>\n",
              "      <td></td>\n",
              "    </tr>\n",
              "    <tr>\n",
              "      <th>9</th>\n",
              "      <td>IN</td>\n",
              "      <td>34</td>\n",
              "      <td></td>\n",
              "    </tr>\n",
              "    <tr>\n",
              "      <th>10</th>\n",
              "      <td>NJ</td>\n",
              "      <td>33</td>\n",
              "      <td></td>\n",
              "    </tr>\n",
              "    <tr>\n",
              "      <th>11</th>\n",
              "      <td>GA</td>\n",
              "      <td>33</td>\n",
              "      <td></td>\n",
              "    </tr>\n",
              "    <tr>\n",
              "      <th>12</th>\n",
              "      <td>VA</td>\n",
              "      <td>25</td>\n",
              "      <td></td>\n",
              "    </tr>\n",
              "    <tr>\n",
              "      <th>13</th>\n",
              "      <td>TN</td>\n",
              "      <td>25</td>\n",
              "      <td></td>\n",
              "    </tr>\n",
              "    <tr>\n",
              "      <th>14</th>\n",
              "      <td>OK</td>\n",
              "      <td>23</td>\n",
              "      <td></td>\n",
              "    </tr>\n",
              "    <tr>\n",
              "      <th>15</th>\n",
              "      <td>MD</td>\n",
              "      <td>23</td>\n",
              "      <td></td>\n",
              "    </tr>\n",
              "    <tr>\n",
              "      <th>16</th>\n",
              "      <td>WA</td>\n",
              "      <td>20</td>\n",
              "      <td></td>\n",
              "    </tr>\n",
              "    <tr>\n",
              "      <th>17</th>\n",
              "      <td>LA</td>\n",
              "      <td>19</td>\n",
              "      <td></td>\n",
              "    </tr>\n",
              "    <tr>\n",
              "      <th>18</th>\n",
              "      <td>MO</td>\n",
              "      <td>19</td>\n",
              "      <td></td>\n",
              "    </tr>\n",
              "    <tr>\n",
              "      <th>19</th>\n",
              "      <td>AZ</td>\n",
              "      <td>17</td>\n",
              "      <td></td>\n",
              "    </tr>\n",
              "    <tr>\n",
              "      <th>20</th>\n",
              "      <td>WI</td>\n",
              "      <td>16</td>\n",
              "      <td></td>\n",
              "    </tr>\n",
              "    <tr>\n",
              "      <th>21</th>\n",
              "      <td>SC</td>\n",
              "      <td>16</td>\n",
              "      <td></td>\n",
              "    </tr>\n",
              "    <tr>\n",
              "      <th>22</th>\n",
              "      <td>MA</td>\n",
              "      <td>16</td>\n",
              "      <td></td>\n",
              "    </tr>\n",
              "    <tr>\n",
              "      <th>23</th>\n",
              "      <td>AL</td>\n",
              "      <td>16</td>\n",
              "      <td></td>\n",
              "    </tr>\n",
              "    <tr>\n",
              "      <th>24</th>\n",
              "      <td>IA</td>\n",
              "      <td>16</td>\n",
              "      <td></td>\n",
              "    </tr>\n",
              "    <tr>\n",
              "      <th>25</th>\n",
              "      <td>MN</td>\n",
              "      <td>15</td>\n",
              "      <td></td>\n",
              "    </tr>\n",
              "    <tr>\n",
              "      <th>26</th>\n",
              "      <td>MS</td>\n",
              "      <td>15</td>\n",
              "      <td></td>\n",
              "    </tr>\n",
              "    <tr>\n",
              "      <th>27</th>\n",
              "      <td>NV</td>\n",
              "      <td>15</td>\n",
              "      <td></td>\n",
              "    </tr>\n",
              "    <tr>\n",
              "      <th>28</th>\n",
              "      <td>OR</td>\n",
              "      <td>14</td>\n",
              "      <td></td>\n",
              "    </tr>\n",
              "    <tr>\n",
              "      <th>29</th>\n",
              "      <td>CO</td>\n",
              "      <td>13</td>\n",
              "      <td></td>\n",
              "    </tr>\n",
              "    <tr>\n",
              "      <th>30</th>\n",
              "      <td>KY</td>\n",
              "      <td>13</td>\n",
              "      <td></td>\n",
              "    </tr>\n",
              "    <tr>\n",
              "      <th>31</th>\n",
              "      <td>AR</td>\n",
              "      <td>12</td>\n",
              "      <td></td>\n",
              "    </tr>\n",
              "    <tr>\n",
              "      <th>32</th>\n",
              "      <td>CT</td>\n",
              "      <td>12</td>\n",
              "      <td></td>\n",
              "    </tr>\n",
              "    <tr>\n",
              "      <th>33</th>\n",
              "      <td>KS</td>\n",
              "      <td>10</td>\n",
              "      <td></td>\n",
              "    </tr>\n",
              "    <tr>\n",
              "      <th>34</th>\n",
              "      <td>NM</td>\n",
              "      <td>10</td>\n",
              "      <td></td>\n",
              "    </tr>\n",
              "    <tr>\n",
              "      <th>35</th>\n",
              "      <td>NE</td>\n",
              "      <td>8</td>\n",
              "      <td></td>\n",
              "    </tr>\n",
              "    <tr>\n",
              "      <th>36</th>\n",
              "      <td>HI</td>\n",
              "      <td>8</td>\n",
              "      <td></td>\n",
              "    </tr>\n",
              "    <tr>\n",
              "      <th>37</th>\n",
              "      <td>UT</td>\n",
              "      <td>7</td>\n",
              "      <td></td>\n",
              "    </tr>\n",
              "    <tr>\n",
              "      <th>38</th>\n",
              "      <td>WV</td>\n",
              "      <td>6</td>\n",
              "      <td></td>\n",
              "    </tr>\n",
              "    <tr>\n",
              "      <th>39</th>\n",
              "      <td>NH</td>\n",
              "      <td>5</td>\n",
              "      <td></td>\n",
              "    </tr>\n",
              "    <tr>\n",
              "      <th>40</th>\n",
              "      <td>SD</td>\n",
              "      <td>5</td>\n",
              "      <td></td>\n",
              "    </tr>\n",
              "    <tr>\n",
              "      <th>41</th>\n",
              "      <td>RI</td>\n",
              "      <td>4</td>\n",
              "      <td></td>\n",
              "    </tr>\n",
              "    <tr>\n",
              "      <th>42</th>\n",
              "      <td>ME</td>\n",
              "      <td>4</td>\n",
              "      <td></td>\n",
              "    </tr>\n",
              "    <tr>\n",
              "      <th>43</th>\n",
              "      <td>VT</td>\n",
              "      <td>4</td>\n",
              "      <td></td>\n",
              "    </tr>\n",
              "    <tr>\n",
              "      <th>44</th>\n",
              "      <td>ID</td>\n",
              "      <td>4</td>\n",
              "      <td></td>\n",
              "    </tr>\n",
              "    <tr>\n",
              "      <th>45</th>\n",
              "      <td>DE</td>\n",
              "      <td>4</td>\n",
              "      <td></td>\n",
              "    </tr>\n",
              "    <tr>\n",
              "      <th>46</th>\n",
              "      <td>MT</td>\n",
              "      <td>3</td>\n",
              "      <td></td>\n",
              "    </tr>\n",
              "    <tr>\n",
              "      <th>47</th>\n",
              "      <td>AK</td>\n",
              "      <td>3</td>\n",
              "      <td></td>\n",
              "    </tr>\n",
              "    <tr>\n",
              "      <th>48</th>\n",
              "      <td>Canada</td>\n",
              "      <td>2</td>\n",
              "      <td></td>\n",
              "    </tr>\n",
              "    <tr>\n",
              "      <th>49</th>\n",
              "      <td>ND</td>\n",
              "      <td>2</td>\n",
              "      <td></td>\n",
              "    </tr>\n",
              "    <tr>\n",
              "      <th>50</th>\n",
              "      <td>DC</td>\n",
              "      <td>1</td>\n",
              "      <td></td>\n",
              "    </tr>\n",
              "    <tr>\n",
              "      <th>51</th>\n",
              "      <td>WY</td>\n",
              "      <td>1</td>\n",
              "      <td></td>\n",
              "    </tr>\n",
              "    <tr>\n",
              "      <th>52</th>\n",
              "      <td>Mexico</td>\n",
              "      <td>1</td>\n",
              "      <td></td>\n",
              "    </tr>\n",
              "    <tr>\n",
              "      <th>53</th>\n",
              "      <td>Jamaica</td>\n",
              "      <td>1</td>\n",
              "      <td></td>\n",
              "    </tr>\n",
              "    <tr>\n",
              "      <th>54</th>\n",
              "      <td>Japan</td>\n",
              "      <td>1</td>\n",
              "      <td></td>\n",
              "    </tr>\n",
              "  </tbody>\n",
              "</table>\n",
              "</div>\n",
              "      <button class=\"colab-df-convert\" onclick=\"convertToInteractive('df-bc95fb36-c488-46ee-88c8-c8b5eba8ceb1')\"\n",
              "              title=\"Convert this dataframe to an interactive table.\"\n",
              "              style=\"display:none;\">\n",
              "        \n",
              "  <svg xmlns=\"http://www.w3.org/2000/svg\" height=\"24px\"viewBox=\"0 0 24 24\"\n",
              "       width=\"24px\">\n",
              "    <path d=\"M0 0h24v24H0V0z\" fill=\"none\"/>\n",
              "    <path d=\"M18.56 5.44l.94 2.06.94-2.06 2.06-.94-2.06-.94-.94-2.06-.94 2.06-2.06.94zm-11 1L8.5 8.5l.94-2.06 2.06-.94-2.06-.94L8.5 2.5l-.94 2.06-2.06.94zm10 10l.94 2.06.94-2.06 2.06-.94-2.06-.94-.94-2.06-.94 2.06-2.06.94z\"/><path d=\"M17.41 7.96l-1.37-1.37c-.4-.4-.92-.59-1.43-.59-.52 0-1.04.2-1.43.59L10.3 9.45l-7.72 7.72c-.78.78-.78 2.05 0 2.83L4 21.41c.39.39.9.59 1.41.59.51 0 1.02-.2 1.41-.59l7.78-7.78 2.81-2.81c.8-.78.8-2.07 0-2.86zM5.41 20L4 18.59l7.72-7.72 1.47 1.35L5.41 20z\"/>\n",
              "  </svg>\n",
              "      </button>\n",
              "      \n",
              "  <style>\n",
              "    .colab-df-container {\n",
              "      display:flex;\n",
              "      flex-wrap:wrap;\n",
              "      gap: 12px;\n",
              "    }\n",
              "\n",
              "    .colab-df-convert {\n",
              "      background-color: #E8F0FE;\n",
              "      border: none;\n",
              "      border-radius: 50%;\n",
              "      cursor: pointer;\n",
              "      display: none;\n",
              "      fill: #1967D2;\n",
              "      height: 32px;\n",
              "      padding: 0 0 0 0;\n",
              "      width: 32px;\n",
              "    }\n",
              "\n",
              "    .colab-df-convert:hover {\n",
              "      background-color: #E2EBFA;\n",
              "      box-shadow: 0px 1px 2px rgba(60, 64, 67, 0.3), 0px 1px 3px 1px rgba(60, 64, 67, 0.15);\n",
              "      fill: #174EA6;\n",
              "    }\n",
              "\n",
              "    [theme=dark] .colab-df-convert {\n",
              "      background-color: #3B4455;\n",
              "      fill: #D2E3FC;\n",
              "    }\n",
              "\n",
              "    [theme=dark] .colab-df-convert:hover {\n",
              "      background-color: #434B5C;\n",
              "      box-shadow: 0px 1px 3px 1px rgba(0, 0, 0, 0.15);\n",
              "      filter: drop-shadow(0px 1px 2px rgba(0, 0, 0, 0.3));\n",
              "      fill: #FFFFFF;\n",
              "    }\n",
              "  </style>\n",
              "\n",
              "      <script>\n",
              "        const buttonEl =\n",
              "          document.querySelector('#df-bc95fb36-c488-46ee-88c8-c8b5eba8ceb1 button.colab-df-convert');\n",
              "        buttonEl.style.display =\n",
              "          google.colab.kernel.accessAllowed ? 'block' : 'none';\n",
              "\n",
              "        async function convertToInteractive(key) {\n",
              "          const element = document.querySelector('#df-bc95fb36-c488-46ee-88c8-c8b5eba8ceb1');\n",
              "          const dataTable =\n",
              "            await google.colab.kernel.invokeFunction('convertToInteractive',\n",
              "                                                     [key], {});\n",
              "          if (!dataTable) return;\n",
              "\n",
              "          const docLinkHtml = 'Like what you see? Visit the ' +\n",
              "            '<a target=\"_blank\" href=https://colab.research.google.com/notebooks/data_table.ipynb>data table notebook</a>'\n",
              "            + ' to learn more about interactive tables.';\n",
              "          element.innerHTML = '';\n",
              "          dataTable['output_type'] = 'display_data';\n",
              "          await google.colab.output.renderOutput(dataTable, element);\n",
              "          const docLink = document.createElement('div');\n",
              "          docLink.innerHTML = docLinkHtml;\n",
              "          element.appendChild(docLink);\n",
              "        }\n",
              "      </script>\n",
              "    </div>\n",
              "  </div>\n",
              "  "
            ]
          },
          "metadata": {},
          "execution_count": 161
        }
      ]
    },
    {
      "cell_type": "code",
      "source": [
        "transaction_count.at[3, \"ISO_Code\"] = \"GBR\"\n",
        "transaction_count.at[13, \"ISO_Code\"] = \"KOR\"\n",
        "transaction_count.at[17, \"ISO_Code\"] = \"BHS\"\n",
        "transaction_count.at[47, \"ISO_Code\"] = \"RUS\"\n",
        "transaction_count.at[54, \"ISO_Code\"] = \"VAT\"\n",
        "transaction_count.at[55, \"ISO_Code\"] = \"MKD\"\n",
        "transaction_count.at[57, \"ISO_Code\"] = \"VNM\"\n",
        "transaction_count.at[91, \"ISO_Code\"] = \"VEN\"\n",
        "transaction_count.at[97, \"ISO_Code\"] = \"MDA\"\n",
        "transaction_count.at[99, \"ISO_Code\"] = \"SYR\"\n",
        "transaction_count.at[107, \"ISO_Code\"] = \"BUR\"\n",
        "transaction_count.at[110, \"ISO_Code\"] = \"IRN\"\n",
        "transaction_count.at[116, \"ISO_Code\"] = \"FSM\"\n",
        "transaction_count.at[123, \"ISO_Code\"] = \"KOS\"\n",
        "transaction_count.at[124, \"ISO_Code\"] = \"TLS\"\n",
        "transaction_count.at[136, \"ISO_Code\"] = \"TZA\"\n",
        "transaction_count.at[140, \"ISO_Code\"] = \"BRN\"\n",
        "transaction_count.at[148, \"ISO_Code\"] = \"COG\"\n",
        "transaction_count.at[166, \"ISO_Code\"] = \"COD\""
      ],
      "metadata": {
        "id": "aeSgqDctFYjZ"
      },
      "id": "aeSgqDctFYjZ",
      "execution_count": 162,
      "outputs": []
    },
    {
      "cell_type": "markdown",
      "source": [],
      "metadata": {
        "id": "PY7HQVeiFb2O"
      },
      "id": "PY7HQVeiFb2O"
    },
    {
      "cell_type": "code",
      "source": [
        "transaction_count['Count'] = np.log10(transaction_count['Count'].replace(0, np.nan))"
      ],
      "metadata": {
        "id": "ocpnqH_aFcdx"
      },
      "id": "ocpnqH_aFcdx",
      "execution_count": 163,
      "outputs": []
    },
    {
      "cell_type": "code",
      "source": [
        "fig = px.choropleth(transaction_count, locations=\"ISO_Code\",\n",
        "                    color=\"Count\",\n",
        "                    hover_name=\"Country\",\n",
        "                    color_continuous_scale=px.colors.sequential.Blues,\n",
        "                    title =\"Transacciones alrededor del mundo\")\n",
        "fig.show()"
      ],
      "metadata": {
        "colab": {
          "base_uri": "https://localhost:8080/",
          "height": 542
        },
        "id": "93eZe-GWFfSF",
        "outputId": "974de9a8-5139-4216-babf-542d8d2d6701"
      },
      "id": "93eZe-GWFfSF",
      "execution_count": 164,
      "outputs": [
        {
          "output_type": "display_data",
          "data": {
            "text/html": [
              "<html>\n",
              "<head><meta charset=\"utf-8\" /></head>\n",
              "<body>\n",
              "    <div>            <script src=\"https://cdnjs.cloudflare.com/ajax/libs/mathjax/2.7.5/MathJax.js?config=TeX-AMS-MML_SVG\"></script><script type=\"text/javascript\">if (window.MathJax) {MathJax.Hub.Config({SVG: {font: \"STIX-Web\"}});}</script>                <script type=\"text/javascript\">window.PlotlyConfig = {MathJaxConfig: 'local'};</script>\n",
              "        <script src=\"https://cdn.plot.ly/plotly-2.8.3.min.js\"></script>                <div id=\"c04a87bc-6b83-489c-8788-1f4c3eaf2405\" class=\"plotly-graph-div\" style=\"height:525px; width:100%;\"></div>            <script type=\"text/javascript\">                                    window.PLOTLYENV=window.PLOTLYENV || {};                                    if (document.getElementById(\"c04a87bc-6b83-489c-8788-1f4c3eaf2405\")) {                    Plotly.newPlot(                        \"c04a87bc-6b83-489c-8788-1f4c3eaf2405\",                        [{\"coloraxis\":\"coloraxis\",\"geo\":\"geo\",\"hovertemplate\":\"<b>%{hovertext}</b><br><br>ISO_Code=%{location}<br>Count=%{z}<extra></extra>\",\"hovertext\":[\"CA\",\"TX\",\"FL\",\"NY\",\"OH\",\"NC\",\"PA\",\"IL\",\"MI\",\"IN\",\"NJ\",\"GA\",\"VA\",\"TN\",\"OK\",\"MD\",\"WA\",\"LA\",\"MO\",\"AZ\",\"WI\",\"SC\",\"MA\",\"AL\",\"IA\",\"MN\",\"MS\",\"NV\",\"OR\",\"CO\",\"KY\",\"AR\",\"CT\",\"KS\",\"NM\",\"NE\",\"HI\",\"UT\",\"WV\",\"NH\",\"SD\",\"RI\",\"ME\",\"VT\",\"ID\",\"DE\",\"MT\",\"AK\",\"Canada\",\"ND\",\"DC\",\"WY\",\"Mexico\",\"Jamaica\",\"Japan\",null,null,null,null,null,null,null,null,null,null,null,null,null,null],\"locations\":[\"\",\"\",\"\",\"GBR\",\"\",\"\",\"\",\"\",\"\",\"\",\"\",\"\",\"\",\"KOR\",\"\",\"\",\"\",\"BHS\",\"\",\"\",\"\",\"\",\"\",\"\",\"\",\"\",\"\",\"\",\"\",\"\",\"\",\"\",\"\",\"\",\"\",\"\",\"\",\"\",\"\",\"\",\"\",\"\",\"\",\"\",\"\",\"\",\"\",\"RUS\",\"\",\"\",\"\",\"\",\"\",\"\",\"VAT\",\"MKD\",\"VNM\",\"VEN\",\"MDA\",\"SYR\",\"BUR\",\"IRN\",\"FSM\",\"KOS\",\"TLS\",\"TZA\",\"BRN\",\"COG\",\"COD\"],\"name\":\"\",\"z\":[2.146128035678238,1.9731278535996986,1.9138138523837167,1.8195439355418688,1.6901960800285136,1.6812412373755872,1.662757831681574,1.6434526764861874,1.568201724066995,1.5314789170422551,1.5185139398778875,1.5185139398778875,1.3979400086720377,1.3979400086720377,1.3617278360175928,1.3617278360175928,1.3010299956639813,1.2787536009528289,1.2787536009528289,1.2304489213782739,1.2041199826559248,1.2041199826559248,1.2041199826559248,1.2041199826559248,1.2041199826559248,1.1760912590556813,1.1760912590556813,1.1760912590556813,1.146128035678238,1.1139433523068367,1.1139433523068367,1.0791812460476249,1.0791812460476249,1.0,1.0,0.9030899869919435,0.9030899869919435,0.8450980400142568,0.7781512503836436,0.6989700043360189,0.6989700043360189,0.6020599913279624,0.6020599913279624,0.6020599913279624,0.6020599913279624,0.6020599913279624,0.47712125471966244,0.47712125471966244,0.3010299956639812,0.3010299956639812,0.0,0.0,0.0,0.0,0.0,null,null,null,null,null,null,null,null,null,null,null,null,null,null],\"type\":\"choropleth\"}],                        {\"template\":{\"data\":{\"bar\":[{\"error_x\":{\"color\":\"#2a3f5f\"},\"error_y\":{\"color\":\"#2a3f5f\"},\"marker\":{\"line\":{\"color\":\"#E5ECF6\",\"width\":0.5},\"pattern\":{\"fillmode\":\"overlay\",\"size\":10,\"solidity\":0.2}},\"type\":\"bar\"}],\"barpolar\":[{\"marker\":{\"line\":{\"color\":\"#E5ECF6\",\"width\":0.5},\"pattern\":{\"fillmode\":\"overlay\",\"size\":10,\"solidity\":0.2}},\"type\":\"barpolar\"}],\"carpet\":[{\"aaxis\":{\"endlinecolor\":\"#2a3f5f\",\"gridcolor\":\"white\",\"linecolor\":\"white\",\"minorgridcolor\":\"white\",\"startlinecolor\":\"#2a3f5f\"},\"baxis\":{\"endlinecolor\":\"#2a3f5f\",\"gridcolor\":\"white\",\"linecolor\":\"white\",\"minorgridcolor\":\"white\",\"startlinecolor\":\"#2a3f5f\"},\"type\":\"carpet\"}],\"choropleth\":[{\"colorbar\":{\"outlinewidth\":0,\"ticks\":\"\"},\"type\":\"choropleth\"}],\"contour\":[{\"colorbar\":{\"outlinewidth\":0,\"ticks\":\"\"},\"colorscale\":[[0.0,\"#0d0887\"],[0.1111111111111111,\"#46039f\"],[0.2222222222222222,\"#7201a8\"],[0.3333333333333333,\"#9c179e\"],[0.4444444444444444,\"#bd3786\"],[0.5555555555555556,\"#d8576b\"],[0.6666666666666666,\"#ed7953\"],[0.7777777777777778,\"#fb9f3a\"],[0.8888888888888888,\"#fdca26\"],[1.0,\"#f0f921\"]],\"type\":\"contour\"}],\"contourcarpet\":[{\"colorbar\":{\"outlinewidth\":0,\"ticks\":\"\"},\"type\":\"contourcarpet\"}],\"heatmap\":[{\"colorbar\":{\"outlinewidth\":0,\"ticks\":\"\"},\"colorscale\":[[0.0,\"#0d0887\"],[0.1111111111111111,\"#46039f\"],[0.2222222222222222,\"#7201a8\"],[0.3333333333333333,\"#9c179e\"],[0.4444444444444444,\"#bd3786\"],[0.5555555555555556,\"#d8576b\"],[0.6666666666666666,\"#ed7953\"],[0.7777777777777778,\"#fb9f3a\"],[0.8888888888888888,\"#fdca26\"],[1.0,\"#f0f921\"]],\"type\":\"heatmap\"}],\"heatmapgl\":[{\"colorbar\":{\"outlinewidth\":0,\"ticks\":\"\"},\"colorscale\":[[0.0,\"#0d0887\"],[0.1111111111111111,\"#46039f\"],[0.2222222222222222,\"#7201a8\"],[0.3333333333333333,\"#9c179e\"],[0.4444444444444444,\"#bd3786\"],[0.5555555555555556,\"#d8576b\"],[0.6666666666666666,\"#ed7953\"],[0.7777777777777778,\"#fb9f3a\"],[0.8888888888888888,\"#fdca26\"],[1.0,\"#f0f921\"]],\"type\":\"heatmapgl\"}],\"histogram\":[{\"marker\":{\"pattern\":{\"fillmode\":\"overlay\",\"size\":10,\"solidity\":0.2}},\"type\":\"histogram\"}],\"histogram2d\":[{\"colorbar\":{\"outlinewidth\":0,\"ticks\":\"\"},\"colorscale\":[[0.0,\"#0d0887\"],[0.1111111111111111,\"#46039f\"],[0.2222222222222222,\"#7201a8\"],[0.3333333333333333,\"#9c179e\"],[0.4444444444444444,\"#bd3786\"],[0.5555555555555556,\"#d8576b\"],[0.6666666666666666,\"#ed7953\"],[0.7777777777777778,\"#fb9f3a\"],[0.8888888888888888,\"#fdca26\"],[1.0,\"#f0f921\"]],\"type\":\"histogram2d\"}],\"histogram2dcontour\":[{\"colorbar\":{\"outlinewidth\":0,\"ticks\":\"\"},\"colorscale\":[[0.0,\"#0d0887\"],[0.1111111111111111,\"#46039f\"],[0.2222222222222222,\"#7201a8\"],[0.3333333333333333,\"#9c179e\"],[0.4444444444444444,\"#bd3786\"],[0.5555555555555556,\"#d8576b\"],[0.6666666666666666,\"#ed7953\"],[0.7777777777777778,\"#fb9f3a\"],[0.8888888888888888,\"#fdca26\"],[1.0,\"#f0f921\"]],\"type\":\"histogram2dcontour\"}],\"mesh3d\":[{\"colorbar\":{\"outlinewidth\":0,\"ticks\":\"\"},\"type\":\"mesh3d\"}],\"parcoords\":[{\"line\":{\"colorbar\":{\"outlinewidth\":0,\"ticks\":\"\"}},\"type\":\"parcoords\"}],\"pie\":[{\"automargin\":true,\"type\":\"pie\"}],\"scatter\":[{\"marker\":{\"colorbar\":{\"outlinewidth\":0,\"ticks\":\"\"}},\"type\":\"scatter\"}],\"scatter3d\":[{\"line\":{\"colorbar\":{\"outlinewidth\":0,\"ticks\":\"\"}},\"marker\":{\"colorbar\":{\"outlinewidth\":0,\"ticks\":\"\"}},\"type\":\"scatter3d\"}],\"scattercarpet\":[{\"marker\":{\"colorbar\":{\"outlinewidth\":0,\"ticks\":\"\"}},\"type\":\"scattercarpet\"}],\"scattergeo\":[{\"marker\":{\"colorbar\":{\"outlinewidth\":0,\"ticks\":\"\"}},\"type\":\"scattergeo\"}],\"scattergl\":[{\"marker\":{\"colorbar\":{\"outlinewidth\":0,\"ticks\":\"\"}},\"type\":\"scattergl\"}],\"scattermapbox\":[{\"marker\":{\"colorbar\":{\"outlinewidth\":0,\"ticks\":\"\"}},\"type\":\"scattermapbox\"}],\"scatterpolar\":[{\"marker\":{\"colorbar\":{\"outlinewidth\":0,\"ticks\":\"\"}},\"type\":\"scatterpolar\"}],\"scatterpolargl\":[{\"marker\":{\"colorbar\":{\"outlinewidth\":0,\"ticks\":\"\"}},\"type\":\"scatterpolargl\"}],\"scatterternary\":[{\"marker\":{\"colorbar\":{\"outlinewidth\":0,\"ticks\":\"\"}},\"type\":\"scatterternary\"}],\"surface\":[{\"colorbar\":{\"outlinewidth\":0,\"ticks\":\"\"},\"colorscale\":[[0.0,\"#0d0887\"],[0.1111111111111111,\"#46039f\"],[0.2222222222222222,\"#7201a8\"],[0.3333333333333333,\"#9c179e\"],[0.4444444444444444,\"#bd3786\"],[0.5555555555555556,\"#d8576b\"],[0.6666666666666666,\"#ed7953\"],[0.7777777777777778,\"#fb9f3a\"],[0.8888888888888888,\"#fdca26\"],[1.0,\"#f0f921\"]],\"type\":\"surface\"}],\"table\":[{\"cells\":{\"fill\":{\"color\":\"#EBF0F8\"},\"line\":{\"color\":\"white\"}},\"header\":{\"fill\":{\"color\":\"#C8D4E3\"},\"line\":{\"color\":\"white\"}},\"type\":\"table\"}]},\"layout\":{\"annotationdefaults\":{\"arrowcolor\":\"#2a3f5f\",\"arrowhead\":0,\"arrowwidth\":1},\"autotypenumbers\":\"strict\",\"coloraxis\":{\"colorbar\":{\"outlinewidth\":0,\"ticks\":\"\"}},\"colorscale\":{\"diverging\":[[0,\"#8e0152\"],[0.1,\"#c51b7d\"],[0.2,\"#de77ae\"],[0.3,\"#f1b6da\"],[0.4,\"#fde0ef\"],[0.5,\"#f7f7f7\"],[0.6,\"#e6f5d0\"],[0.7,\"#b8e186\"],[0.8,\"#7fbc41\"],[0.9,\"#4d9221\"],[1,\"#276419\"]],\"sequential\":[[0.0,\"#0d0887\"],[0.1111111111111111,\"#46039f\"],[0.2222222222222222,\"#7201a8\"],[0.3333333333333333,\"#9c179e\"],[0.4444444444444444,\"#bd3786\"],[0.5555555555555556,\"#d8576b\"],[0.6666666666666666,\"#ed7953\"],[0.7777777777777778,\"#fb9f3a\"],[0.8888888888888888,\"#fdca26\"],[1.0,\"#f0f921\"]],\"sequentialminus\":[[0.0,\"#0d0887\"],[0.1111111111111111,\"#46039f\"],[0.2222222222222222,\"#7201a8\"],[0.3333333333333333,\"#9c179e\"],[0.4444444444444444,\"#bd3786\"],[0.5555555555555556,\"#d8576b\"],[0.6666666666666666,\"#ed7953\"],[0.7777777777777778,\"#fb9f3a\"],[0.8888888888888888,\"#fdca26\"],[1.0,\"#f0f921\"]]},\"colorway\":[\"#636efa\",\"#EF553B\",\"#00cc96\",\"#ab63fa\",\"#FFA15A\",\"#19d3f3\",\"#FF6692\",\"#B6E880\",\"#FF97FF\",\"#FECB52\"],\"font\":{\"color\":\"#2a3f5f\"},\"geo\":{\"bgcolor\":\"white\",\"lakecolor\":\"white\",\"landcolor\":\"#E5ECF6\",\"showlakes\":true,\"showland\":true,\"subunitcolor\":\"white\"},\"hoverlabel\":{\"align\":\"left\"},\"hovermode\":\"closest\",\"mapbox\":{\"style\":\"light\"},\"paper_bgcolor\":\"white\",\"plot_bgcolor\":\"#E5ECF6\",\"polar\":{\"angularaxis\":{\"gridcolor\":\"white\",\"linecolor\":\"white\",\"ticks\":\"\"},\"bgcolor\":\"#E5ECF6\",\"radialaxis\":{\"gridcolor\":\"white\",\"linecolor\":\"white\",\"ticks\":\"\"}},\"scene\":{\"xaxis\":{\"backgroundcolor\":\"#E5ECF6\",\"gridcolor\":\"white\",\"gridwidth\":2,\"linecolor\":\"white\",\"showbackground\":true,\"ticks\":\"\",\"zerolinecolor\":\"white\"},\"yaxis\":{\"backgroundcolor\":\"#E5ECF6\",\"gridcolor\":\"white\",\"gridwidth\":2,\"linecolor\":\"white\",\"showbackground\":true,\"ticks\":\"\",\"zerolinecolor\":\"white\"},\"zaxis\":{\"backgroundcolor\":\"#E5ECF6\",\"gridcolor\":\"white\",\"gridwidth\":2,\"linecolor\":\"white\",\"showbackground\":true,\"ticks\":\"\",\"zerolinecolor\":\"white\"}},\"shapedefaults\":{\"line\":{\"color\":\"#2a3f5f\"}},\"ternary\":{\"aaxis\":{\"gridcolor\":\"white\",\"linecolor\":\"white\",\"ticks\":\"\"},\"baxis\":{\"gridcolor\":\"white\",\"linecolor\":\"white\",\"ticks\":\"\"},\"bgcolor\":\"#E5ECF6\",\"caxis\":{\"gridcolor\":\"white\",\"linecolor\":\"white\",\"ticks\":\"\"}},\"title\":{\"x\":0.05},\"xaxis\":{\"automargin\":true,\"gridcolor\":\"white\",\"linecolor\":\"white\",\"ticks\":\"\",\"title\":{\"standoff\":15},\"zerolinecolor\":\"white\",\"zerolinewidth\":2},\"yaxis\":{\"automargin\":true,\"gridcolor\":\"white\",\"linecolor\":\"white\",\"ticks\":\"\",\"title\":{\"standoff\":15},\"zerolinecolor\":\"white\",\"zerolinewidth\":2}}},\"geo\":{\"domain\":{\"x\":[0.0,1.0],\"y\":[0.0,1.0]},\"center\":{}},\"coloraxis\":{\"colorbar\":{\"title\":{\"text\":\"Count\"}},\"colorscale\":[[0.0,\"rgb(247,251,255)\"],[0.125,\"rgb(222,235,247)\"],[0.25,\"rgb(198,219,239)\"],[0.375,\"rgb(158,202,225)\"],[0.5,\"rgb(107,174,214)\"],[0.625,\"rgb(66,146,198)\"],[0.75,\"rgb(33,113,181)\"],[0.875,\"rgb(8,81,156)\"],[1.0,\"rgb(8,48,107)\"]]},\"legend\":{\"tracegroupgap\":0},\"title\":{\"text\":\"Transacciones alrededor del mundo\"}},                        {\"responsive\": true}                    ).then(function(){\n",
              "                            \n",
              "var gd = document.getElementById('c04a87bc-6b83-489c-8788-1f4c3eaf2405');\n",
              "var x = new MutationObserver(function (mutations, observer) {{\n",
              "        var display = window.getComputedStyle(gd).display;\n",
              "        if (!display || display === 'none') {{\n",
              "            console.log([gd, 'removed!']);\n",
              "            Plotly.purge(gd);\n",
              "            observer.disconnect();\n",
              "        }}\n",
              "}});\n",
              "\n",
              "// Listen for the removal of the full notebook cells\n",
              "var notebookContainer = gd.closest('#notebook-container');\n",
              "if (notebookContainer) {{\n",
              "    x.observe(notebookContainer, {childList: true});\n",
              "}}\n",
              "\n",
              "// Listen for the clearing of the current output cell\n",
              "var outputEl = gd.closest('.output');\n",
              "if (outputEl) {{\n",
              "    x.observe(outputEl, {childList: true});\n",
              "}}\n",
              "\n",
              "                        })                };                            </script>        </div>\n",
              "</body>\n",
              "</html>"
            ]
          },
          "metadata": {}
        }
      ]
    },
    {
      "cell_type": "code",
      "source": [
        "df['Hour'] = df['Time'].apply(lambda value: value.split(\":\")[0])\n",
        "df['Minutes'] = df['Time'].apply(lambda value: value.split(\":\")[1])"
      ],
      "metadata": {
        "id": "XbFGdt8HCPrH"
      },
      "id": "XbFGdt8HCPrH",
      "execution_count": 165,
      "outputs": []
    },
    {
      "cell_type": "code",
      "source": [
        "convert_dict = {\n",
        "                'Minutes': np.uint8,\n",
        "                'Hour': np.uint8,\n",
        "                'Month': np.uint8,\n",
        "               }"
      ],
      "metadata": {
        "id": "bvAO5735DHTv"
      },
      "id": "bvAO5735DHTv",
      "execution_count": 166,
      "outputs": []
    },
    {
      "cell_type": "code",
      "source": [
        "df = df.astype(convert_dict)"
      ],
      "metadata": {
        "id": "0zttZ_CBEQTq"
      },
      "id": "0zttZ_CBEQTq",
      "execution_count": 167,
      "outputs": []
    },
    {
      "cell_type": "code",
      "source": [
        "fig = px.histogram(df, x=\"Month\")\n",
        "fig.update_layout(bargap=0.2, title=\"Distribución de Transacciones a lo largo de los meses\")\n",
        "fig.show()"
      ],
      "metadata": {
        "colab": {
          "base_uri": "https://localhost:8080/",
          "height": 542
        },
        "id": "YWFRqJrVEVlS",
        "outputId": "e9856fdf-4dae-4482-beac-2556ca9849e2"
      },
      "id": "YWFRqJrVEVlS",
      "execution_count": 168,
      "outputs": [
        {
          "output_type": "display_data",
          "data": {
            "text/html": [
              "<html>\n",
              "<head><meta charset=\"utf-8\" /></head>\n",
              "<body>\n",
              "    <div>            <script src=\"https://cdnjs.cloudflare.com/ajax/libs/mathjax/2.7.5/MathJax.js?config=TeX-AMS-MML_SVG\"></script><script type=\"text/javascript\">if (window.MathJax) {MathJax.Hub.Config({SVG: {font: \"STIX-Web\"}});}</script>                <script type=\"text/javascript\">window.PlotlyConfig = {MathJaxConfig: 'local'};</script>\n",
              "        <script src=\"https://cdn.plot.ly/plotly-2.8.3.min.js\"></script>                <div id=\"c6f4f4ac-ba42-44e9-8543-8bd269b0b426\" class=\"plotly-graph-div\" style=\"height:525px; width:100%;\"></div>            <script type=\"text/javascript\">                                    window.PLOTLYENV=window.PLOTLYENV || {};                                    if (document.getElementById(\"c6f4f4ac-ba42-44e9-8543-8bd269b0b426\")) {                    Plotly.newPlot(                        \"c6f4f4ac-ba42-44e9-8543-8bd269b0b426\",                        [{\"alignmentgroup\":\"True\",\"bingroup\":\"x\",\"hovertemplate\":\"Month=%{x}<br>count=%{y}<extra></extra>\",\"legendgroup\":\"\",\"marker\":{\"color\":\"#636efa\",\"pattern\":{\"shape\":\"\"}},\"name\":\"\",\"offsetgroup\":\"\",\"orientation\":\"v\",\"showlegend\":false,\"x\":[10,7,6,10,2,1,2,3,10,12,12,7,1,10,7,2,8,4,7,7,11,7,6,11,9,9,2,7,10,5,7,8,8,1,4,11,4,1,2,2,1,2,12,10,10,8,11,2,6,8,2,6,5,2,2,2,12,10,4,9,1,5,6,1,7,10,9,11,7,2,1,2,3,12,10,10,4,12,2,1,1,5,2,9,6,3,10,5,7,12,2,6,3,6,9,1,7,6,7,12,5,1,7,12,1,6,12,12,8,2,8,2,7,12,3,10,9,2,6,2,12,12,6,9,1,5,5,10,10,2,1,6,6,2,3,8,1,1,1,1,12,9,2,10,6,4,3,9,2,1,1,4,4,2,5,8,9,11,7,11,2,12,12,1,1,1,12,8,12,12,8,11,1,4,2,4,5,6,1,10,12,2,8,2,2,7,7,2,9,1,11,2,2,9,10,1,11,1,4,12,5,10,2,10,9,2,6,2,3,6,1,5,4,7,5,6,3,4,5,6,7,4,1,11,10,3,12,8,2,8,4,11,2,3,10,3,7,2,4,7,4,2,10,4,1,11,10,2,12,7,2,11,5,2,1,1,1,1,2,10,4,2,2,1,11,1,8,6,9,8,12,2,2,11,1,7,10,5,6,1,9,6,5,7,8,2,4,10,10,9,11,4,3,3,7,3,1,2,2,11,9,10,10,6,7,1,11,4,1,3,2,2,2,11,1,1,1,12,7,2,6,7,12,6,1,4,1,12,6,9,1,1,5,2,10,9,8,12,1,4,4,1,2,3,6,10,11,2,6,1,7,11,11,10,7,12,1,7,1,2,3,2,2,2,4,10,5,1,10,8,1,11,3,2,10,1,3,8,11,12,11,5,5,3,9,2,7,8,9,3,12,9,8,9,9,9,10,6,2,6,12,6,1,10,5,2,2,3,8,1,11,11,11,3,7,6,7,2,9,8,2,3,6,8,4,1,9,5,3,12,1,3,7,11,2,2,11,8,1,2,12,3,5,12,1,5,7,2,3,5,1,3,2,1,4,9,7,11,2,4,9,4,1,2,3,5,1,9,12,3,12,2,2,9,2,5,9,7,6,5,5,3,12,1,2,4,5,8,7,5,10,9,4,11,1,11,2,2,2,10,11,1,2,4,11,1,3,1,7,1,9,7,6,6,2,7,1,1,5,2,1,12,6,1,4,2,12,6,6,2,6,1,2,5,5,5,10,2,2,8,7,8,1,3,12,1,1,8,3,4,9,8,7,2,6,3,3,4,10,1,1,2,2,6,11,2,1,12,4,7,2,1,8,4,11,4,6,1,3,7,6,2,12,9,2,1,4,2,11,8,5,12,1,11,9,12,2,9,2,2,11,2,1,9,1,6,4,2,2,1,7,2,11,8,1,5,11,1,9,8,7,3,7,6,7,10,3,1,3,1,6,7,2,1,6,12,4,3,2,2,7,2,10,3,10,1,2,6,2,1,7,3,3,9,7,9,11,3,1,1,2,10,1,2,2,7,2,11,2,3,12,9,8,2,9,11,7,2,4,11,5,4,5,6,10,1,7,11,6,4,9,6,2,1,2,5,1,2,2,7,10,3,10,1,1,7,1,1,2,9,5,1,2,1,3,11,12,6,8,1,10,2,9,1,2,1,12,2,10,5,10,7,6,10,8,8,3,1,5,4,4,12,8,6,2,2,2,4,3,1,4,10,11,2,7,4,4,7,7,12,7,1,3,1,4,3,5,3,2,10,2,1,2,1,5,9,6,10,7,1,1,5,8,12,9,12,5,12,5,9,2,11,3,7,12,5,10,10,1,2,12,4,1,2,3,2,4,11,10,4,2,2,8,2,2,2,5,2,5,10,1,3,12,4,10,12,2,11,6,4,10,10,11,2,11,3,1,4,9,11,1,2,9,5,1,2,8,1,9,8,2,3,1,5,2,2,2,8,3,7,3,5,6,9,7,2,3,9,2,12,3,9,2,2,7,6,2,7,11,6,2,4,2,2,5,3,10,12,7,10,2,1,1,5,8,2,2,10,10,5,12,2,2,1,11,5,8,12,1,3,2,12,1,6,9,2,8,4,2,1,2,1,3,11,10,9,5,8,2,11,4,10,9,5,9,1,12,7,12,5,2,2,6,12,12,9,9,5,12,6,10,1,6,9,7,10,2,3,12,12,9,6,2,6,10,7,8,11,4,2,7,7,8,5,9,8,8,8,7,9,3,5,2,3,2,9,5,11,9,5,5,2,5,7,8,6,8,3,1,11,11,2,9,6,2,11,5,2,9,1,12,9,12,6,12,7,12,6,2,7,2,12,1,9,8,5,8,6,1,2,2,7,10,1,2,1,1,2,1,3,8,9,2,11,1,5,11,11,9,2,2,8,10,2,11,4,2,2,10,10,3,6,2,7,8,3,1,4,9,1,11,10,2,8,5,2,10,1,7,12,4,8,9,1,9,2,12,7,5,2,1,11,12,1,4,2,1,3,7,9,10,3,10,4,7,9,6,2,2,10,2,2,7,8,2,2,6,2,5,11,8,7,4,9,1,2,12,10,7,11,5,2,2,3,3,8,10,3,2,12,8,1,12,5,12,10,5,1,10,4,2,8,1,11,2,5,1,2,7,10,4,1,3,12,8,3,4,4,2,10,1,11,9,2,8,1,6,2,4,2,5,2,8,12,3,2,10,2,1,2,12,5,1,7,10,11,8,4,6,2,7,9,2,2,2,9,10,11,5,9,9,11,11,9,11,8,8,1,1,3,7,2,1,1,3,9,5,5,3,1,2,4,7,4,1,1,5,2,2,6,9,3,11,1,1,1,1,6,5,6,12,2,2,2,7,1,5,11,6,1,2,9,2,3,12,11,8,2,2,4,9,3,2,9,9,11,2,10,11,4,10,2,3,6,7,9,9,5,2,4,1,5,12,3,7,2],\"xaxis\":\"x\",\"yaxis\":\"y\",\"type\":\"histogram\"}],                        {\"template\":{\"data\":{\"bar\":[{\"error_x\":{\"color\":\"#2a3f5f\"},\"error_y\":{\"color\":\"#2a3f5f\"},\"marker\":{\"line\":{\"color\":\"#E5ECF6\",\"width\":0.5},\"pattern\":{\"fillmode\":\"overlay\",\"size\":10,\"solidity\":0.2}},\"type\":\"bar\"}],\"barpolar\":[{\"marker\":{\"line\":{\"color\":\"#E5ECF6\",\"width\":0.5},\"pattern\":{\"fillmode\":\"overlay\",\"size\":10,\"solidity\":0.2}},\"type\":\"barpolar\"}],\"carpet\":[{\"aaxis\":{\"endlinecolor\":\"#2a3f5f\",\"gridcolor\":\"white\",\"linecolor\":\"white\",\"minorgridcolor\":\"white\",\"startlinecolor\":\"#2a3f5f\"},\"baxis\":{\"endlinecolor\":\"#2a3f5f\",\"gridcolor\":\"white\",\"linecolor\":\"white\",\"minorgridcolor\":\"white\",\"startlinecolor\":\"#2a3f5f\"},\"type\":\"carpet\"}],\"choropleth\":[{\"colorbar\":{\"outlinewidth\":0,\"ticks\":\"\"},\"type\":\"choropleth\"}],\"contour\":[{\"colorbar\":{\"outlinewidth\":0,\"ticks\":\"\"},\"colorscale\":[[0.0,\"#0d0887\"],[0.1111111111111111,\"#46039f\"],[0.2222222222222222,\"#7201a8\"],[0.3333333333333333,\"#9c179e\"],[0.4444444444444444,\"#bd3786\"],[0.5555555555555556,\"#d8576b\"],[0.6666666666666666,\"#ed7953\"],[0.7777777777777778,\"#fb9f3a\"],[0.8888888888888888,\"#fdca26\"],[1.0,\"#f0f921\"]],\"type\":\"contour\"}],\"contourcarpet\":[{\"colorbar\":{\"outlinewidth\":0,\"ticks\":\"\"},\"type\":\"contourcarpet\"}],\"heatmap\":[{\"colorbar\":{\"outlinewidth\":0,\"ticks\":\"\"},\"colorscale\":[[0.0,\"#0d0887\"],[0.1111111111111111,\"#46039f\"],[0.2222222222222222,\"#7201a8\"],[0.3333333333333333,\"#9c179e\"],[0.4444444444444444,\"#bd3786\"],[0.5555555555555556,\"#d8576b\"],[0.6666666666666666,\"#ed7953\"],[0.7777777777777778,\"#fb9f3a\"],[0.8888888888888888,\"#fdca26\"],[1.0,\"#f0f921\"]],\"type\":\"heatmap\"}],\"heatmapgl\":[{\"colorbar\":{\"outlinewidth\":0,\"ticks\":\"\"},\"colorscale\":[[0.0,\"#0d0887\"],[0.1111111111111111,\"#46039f\"],[0.2222222222222222,\"#7201a8\"],[0.3333333333333333,\"#9c179e\"],[0.4444444444444444,\"#bd3786\"],[0.5555555555555556,\"#d8576b\"],[0.6666666666666666,\"#ed7953\"],[0.7777777777777778,\"#fb9f3a\"],[0.8888888888888888,\"#fdca26\"],[1.0,\"#f0f921\"]],\"type\":\"heatmapgl\"}],\"histogram\":[{\"marker\":{\"pattern\":{\"fillmode\":\"overlay\",\"size\":10,\"solidity\":0.2}},\"type\":\"histogram\"}],\"histogram2d\":[{\"colorbar\":{\"outlinewidth\":0,\"ticks\":\"\"},\"colorscale\":[[0.0,\"#0d0887\"],[0.1111111111111111,\"#46039f\"],[0.2222222222222222,\"#7201a8\"],[0.3333333333333333,\"#9c179e\"],[0.4444444444444444,\"#bd3786\"],[0.5555555555555556,\"#d8576b\"],[0.6666666666666666,\"#ed7953\"],[0.7777777777777778,\"#fb9f3a\"],[0.8888888888888888,\"#fdca26\"],[1.0,\"#f0f921\"]],\"type\":\"histogram2d\"}],\"histogram2dcontour\":[{\"colorbar\":{\"outlinewidth\":0,\"ticks\":\"\"},\"colorscale\":[[0.0,\"#0d0887\"],[0.1111111111111111,\"#46039f\"],[0.2222222222222222,\"#7201a8\"],[0.3333333333333333,\"#9c179e\"],[0.4444444444444444,\"#bd3786\"],[0.5555555555555556,\"#d8576b\"],[0.6666666666666666,\"#ed7953\"],[0.7777777777777778,\"#fb9f3a\"],[0.8888888888888888,\"#fdca26\"],[1.0,\"#f0f921\"]],\"type\":\"histogram2dcontour\"}],\"mesh3d\":[{\"colorbar\":{\"outlinewidth\":0,\"ticks\":\"\"},\"type\":\"mesh3d\"}],\"parcoords\":[{\"line\":{\"colorbar\":{\"outlinewidth\":0,\"ticks\":\"\"}},\"type\":\"parcoords\"}],\"pie\":[{\"automargin\":true,\"type\":\"pie\"}],\"scatter\":[{\"marker\":{\"colorbar\":{\"outlinewidth\":0,\"ticks\":\"\"}},\"type\":\"scatter\"}],\"scatter3d\":[{\"line\":{\"colorbar\":{\"outlinewidth\":0,\"ticks\":\"\"}},\"marker\":{\"colorbar\":{\"outlinewidth\":0,\"ticks\":\"\"}},\"type\":\"scatter3d\"}],\"scattercarpet\":[{\"marker\":{\"colorbar\":{\"outlinewidth\":0,\"ticks\":\"\"}},\"type\":\"scattercarpet\"}],\"scattergeo\":[{\"marker\":{\"colorbar\":{\"outlinewidth\":0,\"ticks\":\"\"}},\"type\":\"scattergeo\"}],\"scattergl\":[{\"marker\":{\"colorbar\":{\"outlinewidth\":0,\"ticks\":\"\"}},\"type\":\"scattergl\"}],\"scattermapbox\":[{\"marker\":{\"colorbar\":{\"outlinewidth\":0,\"ticks\":\"\"}},\"type\":\"scattermapbox\"}],\"scatterpolar\":[{\"marker\":{\"colorbar\":{\"outlinewidth\":0,\"ticks\":\"\"}},\"type\":\"scatterpolar\"}],\"scatterpolargl\":[{\"marker\":{\"colorbar\":{\"outlinewidth\":0,\"ticks\":\"\"}},\"type\":\"scatterpolargl\"}],\"scatterternary\":[{\"marker\":{\"colorbar\":{\"outlinewidth\":0,\"ticks\":\"\"}},\"type\":\"scatterternary\"}],\"surface\":[{\"colorbar\":{\"outlinewidth\":0,\"ticks\":\"\"},\"colorscale\":[[0.0,\"#0d0887\"],[0.1111111111111111,\"#46039f\"],[0.2222222222222222,\"#7201a8\"],[0.3333333333333333,\"#9c179e\"],[0.4444444444444444,\"#bd3786\"],[0.5555555555555556,\"#d8576b\"],[0.6666666666666666,\"#ed7953\"],[0.7777777777777778,\"#fb9f3a\"],[0.8888888888888888,\"#fdca26\"],[1.0,\"#f0f921\"]],\"type\":\"surface\"}],\"table\":[{\"cells\":{\"fill\":{\"color\":\"#EBF0F8\"},\"line\":{\"color\":\"white\"}},\"header\":{\"fill\":{\"color\":\"#C8D4E3\"},\"line\":{\"color\":\"white\"}},\"type\":\"table\"}]},\"layout\":{\"annotationdefaults\":{\"arrowcolor\":\"#2a3f5f\",\"arrowhead\":0,\"arrowwidth\":1},\"autotypenumbers\":\"strict\",\"coloraxis\":{\"colorbar\":{\"outlinewidth\":0,\"ticks\":\"\"}},\"colorscale\":{\"diverging\":[[0,\"#8e0152\"],[0.1,\"#c51b7d\"],[0.2,\"#de77ae\"],[0.3,\"#f1b6da\"],[0.4,\"#fde0ef\"],[0.5,\"#f7f7f7\"],[0.6,\"#e6f5d0\"],[0.7,\"#b8e186\"],[0.8,\"#7fbc41\"],[0.9,\"#4d9221\"],[1,\"#276419\"]],\"sequential\":[[0.0,\"#0d0887\"],[0.1111111111111111,\"#46039f\"],[0.2222222222222222,\"#7201a8\"],[0.3333333333333333,\"#9c179e\"],[0.4444444444444444,\"#bd3786\"],[0.5555555555555556,\"#d8576b\"],[0.6666666666666666,\"#ed7953\"],[0.7777777777777778,\"#fb9f3a\"],[0.8888888888888888,\"#fdca26\"],[1.0,\"#f0f921\"]],\"sequentialminus\":[[0.0,\"#0d0887\"],[0.1111111111111111,\"#46039f\"],[0.2222222222222222,\"#7201a8\"],[0.3333333333333333,\"#9c179e\"],[0.4444444444444444,\"#bd3786\"],[0.5555555555555556,\"#d8576b\"],[0.6666666666666666,\"#ed7953\"],[0.7777777777777778,\"#fb9f3a\"],[0.8888888888888888,\"#fdca26\"],[1.0,\"#f0f921\"]]},\"colorway\":[\"#636efa\",\"#EF553B\",\"#00cc96\",\"#ab63fa\",\"#FFA15A\",\"#19d3f3\",\"#FF6692\",\"#B6E880\",\"#FF97FF\",\"#FECB52\"],\"font\":{\"color\":\"#2a3f5f\"},\"geo\":{\"bgcolor\":\"white\",\"lakecolor\":\"white\",\"landcolor\":\"#E5ECF6\",\"showlakes\":true,\"showland\":true,\"subunitcolor\":\"white\"},\"hoverlabel\":{\"align\":\"left\"},\"hovermode\":\"closest\",\"mapbox\":{\"style\":\"light\"},\"paper_bgcolor\":\"white\",\"plot_bgcolor\":\"#E5ECF6\",\"polar\":{\"angularaxis\":{\"gridcolor\":\"white\",\"linecolor\":\"white\",\"ticks\":\"\"},\"bgcolor\":\"#E5ECF6\",\"radialaxis\":{\"gridcolor\":\"white\",\"linecolor\":\"white\",\"ticks\":\"\"}},\"scene\":{\"xaxis\":{\"backgroundcolor\":\"#E5ECF6\",\"gridcolor\":\"white\",\"gridwidth\":2,\"linecolor\":\"white\",\"showbackground\":true,\"ticks\":\"\",\"zerolinecolor\":\"white\"},\"yaxis\":{\"backgroundcolor\":\"#E5ECF6\",\"gridcolor\":\"white\",\"gridwidth\":2,\"linecolor\":\"white\",\"showbackground\":true,\"ticks\":\"\",\"zerolinecolor\":\"white\"},\"zaxis\":{\"backgroundcolor\":\"#E5ECF6\",\"gridcolor\":\"white\",\"gridwidth\":2,\"linecolor\":\"white\",\"showbackground\":true,\"ticks\":\"\",\"zerolinecolor\":\"white\"}},\"shapedefaults\":{\"line\":{\"color\":\"#2a3f5f\"}},\"ternary\":{\"aaxis\":{\"gridcolor\":\"white\",\"linecolor\":\"white\",\"ticks\":\"\"},\"baxis\":{\"gridcolor\":\"white\",\"linecolor\":\"white\",\"ticks\":\"\"},\"bgcolor\":\"#E5ECF6\",\"caxis\":{\"gridcolor\":\"white\",\"linecolor\":\"white\",\"ticks\":\"\"}},\"title\":{\"x\":0.05},\"xaxis\":{\"automargin\":true,\"gridcolor\":\"white\",\"linecolor\":\"white\",\"ticks\":\"\",\"title\":{\"standoff\":15},\"zerolinecolor\":\"white\",\"zerolinewidth\":2},\"yaxis\":{\"automargin\":true,\"gridcolor\":\"white\",\"linecolor\":\"white\",\"ticks\":\"\",\"title\":{\"standoff\":15},\"zerolinecolor\":\"white\",\"zerolinewidth\":2}}},\"xaxis\":{\"anchor\":\"y\",\"domain\":[0.0,1.0],\"title\":{\"text\":\"Month\"}},\"yaxis\":{\"anchor\":\"x\",\"domain\":[0.0,1.0],\"title\":{\"text\":\"count\"}},\"legend\":{\"tracegroupgap\":0},\"margin\":{\"t\":60},\"barmode\":\"relative\",\"bargap\":0.2,\"title\":{\"text\":\"Distribuci\\u00f3n de Transacciones a lo largo de los meses\"}},                        {\"responsive\": true}                    ).then(function(){\n",
              "                            \n",
              "var gd = document.getElementById('c6f4f4ac-ba42-44e9-8543-8bd269b0b426');\n",
              "var x = new MutationObserver(function (mutations, observer) {{\n",
              "        var display = window.getComputedStyle(gd).display;\n",
              "        if (!display || display === 'none') {{\n",
              "            console.log([gd, 'removed!']);\n",
              "            Plotly.purge(gd);\n",
              "            observer.disconnect();\n",
              "        }}\n",
              "}});\n",
              "\n",
              "// Listen for the removal of the full notebook cells\n",
              "var notebookContainer = gd.closest('#notebook-container');\n",
              "if (notebookContainer) {{\n",
              "    x.observe(notebookContainer, {childList: true});\n",
              "}}\n",
              "\n",
              "// Listen for the clearing of the current output cell\n",
              "var outputEl = gd.closest('.output');\n",
              "if (outputEl) {{\n",
              "    x.observe(outputEl, {childList: true});\n",
              "}}\n",
              "\n",
              "                        })                };                            </script>        </div>\n",
              "</body>\n",
              "</html>"
            ]
          },
          "metadata": {}
        }
      ]
    },
    {
      "cell_type": "code",
      "source": [
        "fig_hour = px.histogram(df, x=\"CurrentAge\")\n",
        "fig.update_layout(bargap=0.09, title=\"Distribución de transacciones por edades\")\n",
        "fig_hour.show()"
      ],
      "metadata": {
        "colab": {
          "base_uri": "https://localhost:8080/",
          "height": 542
        },
        "id": "knXnREQoErao",
        "outputId": "b0fbdf41-1446-4307-cc1f-fac485a5ca76"
      },
      "id": "knXnREQoErao",
      "execution_count": 169,
      "outputs": [
        {
          "output_type": "display_data",
          "data": {
            "text/html": [
              "<html>\n",
              "<head><meta charset=\"utf-8\" /></head>\n",
              "<body>\n",
              "    <div>            <script src=\"https://cdnjs.cloudflare.com/ajax/libs/mathjax/2.7.5/MathJax.js?config=TeX-AMS-MML_SVG\"></script><script type=\"text/javascript\">if (window.MathJax) {MathJax.Hub.Config({SVG: {font: \"STIX-Web\"}});}</script>                <script type=\"text/javascript\">window.PlotlyConfig = {MathJaxConfig: 'local'};</script>\n",
              "        <script src=\"https://cdn.plot.ly/plotly-2.8.3.min.js\"></script>                <div id=\"9c21267f-5fc8-4c51-a597-7817b0554ccb\" class=\"plotly-graph-div\" style=\"height:525px; width:100%;\"></div>            <script type=\"text/javascript\">                                    window.PLOTLYENV=window.PLOTLYENV || {};                                    if (document.getElementById(\"9c21267f-5fc8-4c51-a597-7817b0554ccb\")) {                    Plotly.newPlot(                        \"9c21267f-5fc8-4c51-a597-7817b0554ccb\",                        [{\"alignmentgroup\":\"True\",\"bingroup\":\"x\",\"hovertemplate\":\"CurrentAge=%{x}<br>count=%{y}<extra></extra>\",\"legendgroup\":\"\",\"marker\":{\"color\":\"#636efa\",\"pattern\":{\"shape\":\"\"}},\"name\":\"\",\"offsetgroup\":\"\",\"orientation\":\"v\",\"showlegend\":false,\"x\":[\"33\",\"43\",\"48\",\"54\",\"19\",\"21\",\"29\",\"39\",\"52\",\"79\",\"52\",\"75\",\"76\",\"86\",\"56\",\"22\",\"49\",\"78\",\"39\",\"68\",\"51\",\"82\",\"77\",\"54\",\"71\",\"78\",\"26\",\"85\",\"47\",\"68\",\"29\",\"49\",\"61\",\"22\",\"85\",\"47\",\"44\",\"40\",\"39\",\"20\",\"23\",\"42\",\"54\",\"39\",\"37\",\"48\",\"80\",\"22\",\"99\",\"70\",\"82\",\"66\",\"31\",\"47\",\"58\",\"22\",\"38\",\"76\",\"33\",\"69\",\"80\",\"63\",\"56\",\"18\",\"41\",\"33\",\"54\",\"52\",\"50\",\"29\",\"52\",\"25\",\"54\",\"74\",\"61\",\"56\",\"44\",\"50\",\"34\",\"65\",\"64\",\"48\",\"40\",\"63\",\"43\",\"33\",\"43\",\"70\",\"44\",\"58\",\"47\",\"30\",\"62\",\"24\",\"51\",\"18\",\"37\",\"76\",\"86\",\"36\",\"53\",\"37\",\"76\",\"83\",\"26\",\"34\",\"54\",\"33\",\"26\",\"24\",\"50\",\"47\",\"61\",\"35\",\"42\",\"40\",\"52\",\"18\",\"44\",\"32\",\"49\",\"67\",\"57\",\"61\",\"20\",\"58\",\"28\",\"73\",\"37\",\"61\",\"46\",\"52\",\"37\",\"18\",\"42\",\"59\",\"47\",\"33\",\"37\",\"32\",\"48\",\"54\",\"35\",\"39\",\"55\",\"37\",\"42\",\"32\",\"42\",\"22\",\"26\",\"58\",\"40\",\"39\",\"50\",\"49\",\"42\",\"50\",\"67\",\"61\",\"30\",\"75\",\"52\",\"41\",\"18\",\"30\",\"49\",\"44\",\"30\",\"42\",\"43\",\"43\",\"46\",\"59\",\"25\",\"40\",\"24\",\"42\",\"19\",\"62\",\"45\",\"22\",\"64\",\"32\",\"48\",\"40\",\"47\",\"27\",\"94\",\"18\",\"44\",\"28\",\"46\",\"32\",\"27\",\"36\",\"67\",\"62\",\"67\",\"52\",\"47\",\"54\",\"21\",\"45\",\"44\",\"45\",\"70\",\"34\",\"61\",\"44\",\"19\",\"50\",\"55\",\"33\",\"90\",\"28\",\"49\",\"40\",\"62\",\"91\",\"77\",\"22\",\"59\",\"66\",\"43\",\"52\",\"65\",\"50\",\"27\",\"75\",\"39\",\"82\",\"58\",\"50\",\"80\",\"47\",\"46\",\"26\",\"55\",\"48\",\"79\",\"30\",\"85\",\"50\",\"39\",\"89\",\"46\",\"81\",\"44\",\"23\",\"23\",\"58\",\"54\",\"25\",\"21\",\"45\",\"86\",\"21\",\"29\",\"60\",\"53\",\"28\",\"24\",\"26\",\"39\",\"22\",\"52\",\"55\",\"49\",\"31\",\"46\",\"33\",\"23\",\"79\",\"41\",\"58\",\"65\",\"54\",\"34\",\"65\",\"63\",\"36\",\"47\",\"58\",\"38\",\"48\",\"67\",\"56\",\"52\",\"50\",\"33\",\"55\",\"68\",\"57\",\"54\",\"57\",\"50\",\"18\",\"45\",\"49\",\"39\",\"52\",\"36\",\"40\",\"39\",\"49\",\"47\",\"63\",\"24\",\"46\",\"56\",\"33\",\"27\",\"66\",\"24\",\"58\",\"33\",\"31\",\"45\",\"26\",\"27\",\"58\",\"38\",\"55\",\"18\",\"51\",\"21\",\"66\",\"51\",\"52\",\"43\",\"55\",\"51\",\"33\",\"51\",\"76\",\"65\",\"59\",\"19\",\"59\",\"48\",\"37\",\"70\",\"57\",\"60\",\"25\",\"52\",\"42\",\"52\",\"22\",\"84\",\"68\",\"28\",\"35\",\"53\",\"64\",\"61\",\"37\",\"21\",\"37\",\"50\",\"68\",\"19\",\"29\",\"28\",\"72\",\"47\",\"26\",\"68\",\"57\",\"42\",\"60\",\"42\",\"25\",\"59\",\"18\",\"88\",\"39\",\"84\",\"35\",\"45\",\"50\",\"72\",\"83\",\"49\",\"25\",\"42\",\"65\",\"55\",\"62\",\"29\",\"58\",\"38\",\"40\",\"48\",\"45\",\"53\",\"82\",\"19\",\"47\",\"49\",\"40\",\"57\",\"31\",\"64\",\"68\",\"22\",\"81\",\"38\",\"37\",\"48\",\"63\",\"40\",\"40\",\"40\",\"63\",\"57\",\"58\",\"61\",\"51\",\"21\",\"44\",\"52\",\"74\",\"42\",\"28\",\"46\",\"53\",\"51\",\"84\",\"33\",\"63\",\"60\",\"74\",\"25\",\"31\",\"23\",\"48\",\"53\",\"36\",\"39\",\"59\",\"45\",\"58\",\"44\",\"80\",\"51\",\"31\",\"60\",\"36\",\"43\",\"49\",\"27\",\"61\",\"57\",\"38\",\"69\",\"58\",\"18\",\"63\",\"63\",\"55\",\"22\",\"61\",\"65\",\"53\",\"76\",\"74\",\"63\",\"60\",\"56\",\"18\",\"35\",\"77\",\"18\",\"44\",\"53\",\"35\",\"60\",\"81\",\"30\",\"62\",\"44\",\"18\",\"19\",\"78\",\"73\",\"40\",\"25\",\"61\",\"50\",\"34\",\"82\",\"35\",\"69\",\"64\",\"24\",\"77\",\"91\",\"41\",\"72\",\"19\",\"56\",\"54\",\"55\",\"70\",\"73\",\"51\",\"41\",\"32\",\"67\",\"61\",\"59\",\"29\",\"29\",\"36\",\"40\",\"19\",\"32\",\"30\",\"26\",\"45\",\"68\",\"22\",\"35\",\"65\",\"58\",\"48\",\"81\",\"51\",\"88\",\"35\",\"29\",\"54\",\"47\",\"51\",\"55\",\"22\",\"25\",\"56\",\"41\",\"34\",\"78\",\"86\",\"61\",\"24\",\"39\",\"36\",\"45\",\"54\",\"28\",\"61\",\"33\",\"75\",\"36\",\"55\",\"27\",\"37\",\"38\",\"41\",\"46\",\"30\",\"90\",\"36\",\"48\",\"25\",\"32\",\"69\",\"75\",\"32\",\"31\",\"18\",\"46\",\"56\",\"38\",\"54\",\"41\",\"18\",\"48\",\"59\",\"63\",\"22\",\"67\",\"50\",\"32\",\"18\",\"28\",\"80\",\"49\",\"37\",\"64\",\"58\",\"19\",\"48\",\"53\",\"29\",\"23\",\"57\",\"18\",\"33\",\"73\",\"18\",\"29\",\"76\",\"28\",\"24\",\"48\",\"18\",\"41\",\"21\",\"42\",\"20\",\"35\",\"55\",\"59\",\"67\",\"83\",\"59\",\"84\",\"44\",\"46\",\"63\",\"32\",\"32\",\"68\",\"78\",\"52\",\"46\",\"47\",\"85\",\"63\",\"57\",\"18\",\"19\",\"51\",\"37\",\"66\",\"52\",\"41\",\"25\",\"54\",\"33\",\"41\",\"90\",\"81\",\"29\",\"47\",\"49\",\"66\",\"19\",\"84\",\"53\",\"50\",\"66\",\"44\",\"61\",\"58\",\"38\",\"33\",\"68\",\"28\",\"21\",\"44\",\"26\",\"59\",\"66\",\"32\",\"59\",\"50\",\"61\",\"50\",\"76\",\"64\",\"41\",\"76\",\"54\",\"61\",\"26\",\"62\",\"36\",\"61\",\"65\",\"56\",\"31\",\"34\",\"44\",\"36\",\"57\",\"40\",\"49\",\"59\",\"32\",\"54\",\"18\",\"34\",\"59\",\"50\",\"22\",\"25\",\"49\",\"45\",\"91\",\"62\",\"71\",\"19\",\"21\",\"20\",\"34\",\"19\",\"44\",\"53\",\"81\",\"25\",\"23\",\"44\",\"44\",\"44\",\"45\",\"25\",\"47\",\"49\",\"50\",\"76\",\"18\",\"30\",\"18\",\"89\",\"23\",\"52\",\"51\",\"44\",\"66\",\"52\",\"57\",\"43\",\"80\",\"54\",\"25\",\"46\",\"53\",\"43\",\"83\",\"56\",\"62\",\"20\",\"23\",\"22\",\"45\",\"44\",\"42\",\"51\",\"40\",\"90\",\"50\",\"71\",\"93\",\"39\",\"36\",\"50\",\"28\",\"61\",\"53\",\"55\",\"63\",\"49\",\"49\",\"75\",\"60\",\"28\",\"82\",\"29\",\"64\",\"22\",\"34\",\"41\",\"45\",\"32\",\"66\",\"34\",\"26\",\"59\",\"28\",\"64\",\"42\",\"54\",\"42\",\"65\",\"54\",\"50\",\"35\",\"18\",\"72\",\"46\",\"31\",\"34\",\"56\",\"40\",\"52\",\"31\",\"54\",\"49\",\"69\",\"51\",\"18\",\"85\",\"32\",\"61\",\"37\",\"55\",\"79\",\"28\",\"56\",\"56\",\"31\",\"34\",\"21\",\"49\",\"35\",\"82\",\"33\",\"28\",\"92\",\"50\",\"50\",\"53\",\"43\",\"20\",\"70\",\"60\",\"58\",\"32\",\"40\",\"58\",\"26\",\"62\",\"66\",\"24\",\"46\",\"52\",\"36\",\"33\",\"27\",\"35\",\"43\",\"57\",\"27\",\"41\",\"18\",\"35\",\"45\",\"23\",\"28\",\"18\",\"38\",\"18\",\"26\",\"25\",\"53\",\"87\",\"22\",\"61\",\"83\",\"53\",\"64\",\"48\",\"18\",\"50\",\"84\",\"75\",\"35\",\"41\",\"58\",\"18\",\"18\",\"25\",\"49\",\"29\",\"59\",\"62\",\"86\",\"76\",\"35\",\"28\",\"23\",\"49\",\"46\",\"76\",\"79\",\"58\",\"74\",\"51\",\"28\",\"26\",\"40\",\"37\",\"24\",\"52\",\"30\",\"58\",\"32\",\"52\",\"28\",\"29\",\"24\",\"35\",\"45\",\"36\",\"40\",\"57\",\"58\",\"39\",\"71\",\"28\",\"73\",\"54\",\"25\",\"87\",\"66\",\"23\",\"101\",\"88\",\"22\",\"69\",\"56\",\"42\",\"73\",\"62\",\"41\",\"21\",\"77\",\"40\",\"47\",\"68\",\"28\",\"33\",\"48\",\"58\",\"30\",\"36\",\"48\",\"20\",\"32\",\"53\",\"41\",\"80\",\"29\",\"36\",\"31\",\"43\",\"29\",\"47\",\"39\",\"32\",\"49\",\"92\",\"39\",\"59\",\"34\",\"30\",\"41\",\"63\",\"30\",\"26\",\"52\",\"46\",\"53\",\"40\",\"59\",\"85\",\"29\",\"66\",\"67\",\"32\",\"44\",\"48\",\"53\",\"77\",\"37\",\"62\",\"41\",\"67\",\"71\",\"88\",\"61\",\"43\",\"53\",\"66\",\"78\",\"64\",\"34\",\"39\",\"59\",\"41\",\"42\",\"55\",\"48\",\"31\",\"36\",\"20\",\"48\",\"68\",\"18\",\"47\",\"62\",\"21\",\"49\",\"28\",\"30\",\"50\",\"56\",\"61\",\"78\",\"38\",\"49\",\"35\",\"37\",\"47\",\"68\",\"21\",\"40\",\"71\",\"53\",\"86\",\"81\",\"38\",\"43\",\"31\",\"42\",\"58\",\"19\",\"24\",\"39\",\"47\",\"42\",\"20\",\"82\",\"22\",\"26\",\"41\",\"41\",\"55\",\"39\",\"21\",\"71\",\"42\",\"68\",\"68\",\"39\",\"48\",\"31\",\"21\",\"66\",\"32\",\"23\",\"58\",\"56\",\"24\",\"18\",\"36\",\"66\",\"54\",\"49\",\"32\",\"79\",\"67\",\"30\",\"37\",\"83\",\"54\",\"18\",\"66\",\"64\",\"18\",\"33\",\"43\",\"57\",\"35\",\"94\",\"41\",\"42\",\"38\",\"61\",\"92\",\"44\",\"68\",\"28\",\"70\",\"51\",\"36\",\"59\",\"21\",\"57\",\"43\",\"56\",\"54\",\"21\",\"23\",\"36\",\"83\",\"45\",\"64\",\"32\",\"67\",\"45\",\"56\",\"47\",\"50\",\"24\",\"22\",\"33\",\"23\",\"18\",\"36\",\"24\",\"20\",\"47\",\"64\",\"56\",\"43\",\"30\",\"92\",\"58\",\"31\",\"53\",\"54\",\"29\",\"53\",\"30\",\"39\",\"57\",\"87\",\"35\",\"23\",\"29\",\"59\",\"40\",\"62\",\"75\",\"30\",\"47\",\"52\",\"26\",\"47\",\"47\",\"46\",\"52\",\"51\",\"48\",\"52\",\"59\",\"18\",\"37\",\"25\",\"79\",\"62\",\"39\",\"18\",\"38\",\"47\",\"31\",\"42\",\"66\",\"83\",\"35\",\"41\",\"59\",\"39\",\"60\",\"21\",\"87\",\"67\",\"70\",\"59\",\"25\",\"56\",\"25\",\"36\",\"27\",\"32\",\"35\",\"46\",\"28\",\"45\",\"89\",\"79\",\"30\",\"82\",\"22\",\"31\",\"39\",\"48\",\"57\",\"39\",\"48\",\"67\",\"51\",\"32\",\"73\",\"68\",\"33\",\"57\",\"25\",\"19\",\"24\",\"24\",\"62\",\"51\",\"49\",\"56\",\"50\",\"65\",\"50\",\"61\",\"67\",\"58\",\"76\",\"46\",\"26\",\"18\",\"66\",\"47\",\"26\",\"21\",\"50\",\"44\",\"36\",\"50\",\"69\",\"36\",\"37\",\"78\",\"56\",\"58\",\"60\",\"21\",\"54\",\"82\",\"49\",\"83\",\"64\",\"44\",\"42\",\"47\",\"25\",\"70\",\"56\",\"26\",\"58\",\"47\",\"86\",\"65\",\"22\",\"43\",\"40\",\"38\",\"19\",\"62\",\"56\",\"76\",\"24\",\"39\",\"48\",\"29\",\"47\",\"43\",\"40\",\"51\",\"46\",\"18\",\"34\",\"98\",\"68\",\"24\",\"42\",\"55\",\"84\",\"18\",\"73\",\"74\",\"53\",\"43\",\"38\",\"48\",\"50\",\"50\",\"63\",\"59\",\"31\",\"19\",\"59\",\"48\",\"64\",\"46\",\"76\",\"65\",\"19\"],\"xaxis\":\"x\",\"yaxis\":\"y\",\"type\":\"histogram\"}],                        {\"template\":{\"data\":{\"bar\":[{\"error_x\":{\"color\":\"#2a3f5f\"},\"error_y\":{\"color\":\"#2a3f5f\"},\"marker\":{\"line\":{\"color\":\"#E5ECF6\",\"width\":0.5},\"pattern\":{\"fillmode\":\"overlay\",\"size\":10,\"solidity\":0.2}},\"type\":\"bar\"}],\"barpolar\":[{\"marker\":{\"line\":{\"color\":\"#E5ECF6\",\"width\":0.5},\"pattern\":{\"fillmode\":\"overlay\",\"size\":10,\"solidity\":0.2}},\"type\":\"barpolar\"}],\"carpet\":[{\"aaxis\":{\"endlinecolor\":\"#2a3f5f\",\"gridcolor\":\"white\",\"linecolor\":\"white\",\"minorgridcolor\":\"white\",\"startlinecolor\":\"#2a3f5f\"},\"baxis\":{\"endlinecolor\":\"#2a3f5f\",\"gridcolor\":\"white\",\"linecolor\":\"white\",\"minorgridcolor\":\"white\",\"startlinecolor\":\"#2a3f5f\"},\"type\":\"carpet\"}],\"choropleth\":[{\"colorbar\":{\"outlinewidth\":0,\"ticks\":\"\"},\"type\":\"choropleth\"}],\"contour\":[{\"colorbar\":{\"outlinewidth\":0,\"ticks\":\"\"},\"colorscale\":[[0.0,\"#0d0887\"],[0.1111111111111111,\"#46039f\"],[0.2222222222222222,\"#7201a8\"],[0.3333333333333333,\"#9c179e\"],[0.4444444444444444,\"#bd3786\"],[0.5555555555555556,\"#d8576b\"],[0.6666666666666666,\"#ed7953\"],[0.7777777777777778,\"#fb9f3a\"],[0.8888888888888888,\"#fdca26\"],[1.0,\"#f0f921\"]],\"type\":\"contour\"}],\"contourcarpet\":[{\"colorbar\":{\"outlinewidth\":0,\"ticks\":\"\"},\"type\":\"contourcarpet\"}],\"heatmap\":[{\"colorbar\":{\"outlinewidth\":0,\"ticks\":\"\"},\"colorscale\":[[0.0,\"#0d0887\"],[0.1111111111111111,\"#46039f\"],[0.2222222222222222,\"#7201a8\"],[0.3333333333333333,\"#9c179e\"],[0.4444444444444444,\"#bd3786\"],[0.5555555555555556,\"#d8576b\"],[0.6666666666666666,\"#ed7953\"],[0.7777777777777778,\"#fb9f3a\"],[0.8888888888888888,\"#fdca26\"],[1.0,\"#f0f921\"]],\"type\":\"heatmap\"}],\"heatmapgl\":[{\"colorbar\":{\"outlinewidth\":0,\"ticks\":\"\"},\"colorscale\":[[0.0,\"#0d0887\"],[0.1111111111111111,\"#46039f\"],[0.2222222222222222,\"#7201a8\"],[0.3333333333333333,\"#9c179e\"],[0.4444444444444444,\"#bd3786\"],[0.5555555555555556,\"#d8576b\"],[0.6666666666666666,\"#ed7953\"],[0.7777777777777778,\"#fb9f3a\"],[0.8888888888888888,\"#fdca26\"],[1.0,\"#f0f921\"]],\"type\":\"heatmapgl\"}],\"histogram\":[{\"marker\":{\"pattern\":{\"fillmode\":\"overlay\",\"size\":10,\"solidity\":0.2}},\"type\":\"histogram\"}],\"histogram2d\":[{\"colorbar\":{\"outlinewidth\":0,\"ticks\":\"\"},\"colorscale\":[[0.0,\"#0d0887\"],[0.1111111111111111,\"#46039f\"],[0.2222222222222222,\"#7201a8\"],[0.3333333333333333,\"#9c179e\"],[0.4444444444444444,\"#bd3786\"],[0.5555555555555556,\"#d8576b\"],[0.6666666666666666,\"#ed7953\"],[0.7777777777777778,\"#fb9f3a\"],[0.8888888888888888,\"#fdca26\"],[1.0,\"#f0f921\"]],\"type\":\"histogram2d\"}],\"histogram2dcontour\":[{\"colorbar\":{\"outlinewidth\":0,\"ticks\":\"\"},\"colorscale\":[[0.0,\"#0d0887\"],[0.1111111111111111,\"#46039f\"],[0.2222222222222222,\"#7201a8\"],[0.3333333333333333,\"#9c179e\"],[0.4444444444444444,\"#bd3786\"],[0.5555555555555556,\"#d8576b\"],[0.6666666666666666,\"#ed7953\"],[0.7777777777777778,\"#fb9f3a\"],[0.8888888888888888,\"#fdca26\"],[1.0,\"#f0f921\"]],\"type\":\"histogram2dcontour\"}],\"mesh3d\":[{\"colorbar\":{\"outlinewidth\":0,\"ticks\":\"\"},\"type\":\"mesh3d\"}],\"parcoords\":[{\"line\":{\"colorbar\":{\"outlinewidth\":0,\"ticks\":\"\"}},\"type\":\"parcoords\"}],\"pie\":[{\"automargin\":true,\"type\":\"pie\"}],\"scatter\":[{\"marker\":{\"colorbar\":{\"outlinewidth\":0,\"ticks\":\"\"}},\"type\":\"scatter\"}],\"scatter3d\":[{\"line\":{\"colorbar\":{\"outlinewidth\":0,\"ticks\":\"\"}},\"marker\":{\"colorbar\":{\"outlinewidth\":0,\"ticks\":\"\"}},\"type\":\"scatter3d\"}],\"scattercarpet\":[{\"marker\":{\"colorbar\":{\"outlinewidth\":0,\"ticks\":\"\"}},\"type\":\"scattercarpet\"}],\"scattergeo\":[{\"marker\":{\"colorbar\":{\"outlinewidth\":0,\"ticks\":\"\"}},\"type\":\"scattergeo\"}],\"scattergl\":[{\"marker\":{\"colorbar\":{\"outlinewidth\":0,\"ticks\":\"\"}},\"type\":\"scattergl\"}],\"scattermapbox\":[{\"marker\":{\"colorbar\":{\"outlinewidth\":0,\"ticks\":\"\"}},\"type\":\"scattermapbox\"}],\"scatterpolar\":[{\"marker\":{\"colorbar\":{\"outlinewidth\":0,\"ticks\":\"\"}},\"type\":\"scatterpolar\"}],\"scatterpolargl\":[{\"marker\":{\"colorbar\":{\"outlinewidth\":0,\"ticks\":\"\"}},\"type\":\"scatterpolargl\"}],\"scatterternary\":[{\"marker\":{\"colorbar\":{\"outlinewidth\":0,\"ticks\":\"\"}},\"type\":\"scatterternary\"}],\"surface\":[{\"colorbar\":{\"outlinewidth\":0,\"ticks\":\"\"},\"colorscale\":[[0.0,\"#0d0887\"],[0.1111111111111111,\"#46039f\"],[0.2222222222222222,\"#7201a8\"],[0.3333333333333333,\"#9c179e\"],[0.4444444444444444,\"#bd3786\"],[0.5555555555555556,\"#d8576b\"],[0.6666666666666666,\"#ed7953\"],[0.7777777777777778,\"#fb9f3a\"],[0.8888888888888888,\"#fdca26\"],[1.0,\"#f0f921\"]],\"type\":\"surface\"}],\"table\":[{\"cells\":{\"fill\":{\"color\":\"#EBF0F8\"},\"line\":{\"color\":\"white\"}},\"header\":{\"fill\":{\"color\":\"#C8D4E3\"},\"line\":{\"color\":\"white\"}},\"type\":\"table\"}]},\"layout\":{\"annotationdefaults\":{\"arrowcolor\":\"#2a3f5f\",\"arrowhead\":0,\"arrowwidth\":1},\"autotypenumbers\":\"strict\",\"coloraxis\":{\"colorbar\":{\"outlinewidth\":0,\"ticks\":\"\"}},\"colorscale\":{\"diverging\":[[0,\"#8e0152\"],[0.1,\"#c51b7d\"],[0.2,\"#de77ae\"],[0.3,\"#f1b6da\"],[0.4,\"#fde0ef\"],[0.5,\"#f7f7f7\"],[0.6,\"#e6f5d0\"],[0.7,\"#b8e186\"],[0.8,\"#7fbc41\"],[0.9,\"#4d9221\"],[1,\"#276419\"]],\"sequential\":[[0.0,\"#0d0887\"],[0.1111111111111111,\"#46039f\"],[0.2222222222222222,\"#7201a8\"],[0.3333333333333333,\"#9c179e\"],[0.4444444444444444,\"#bd3786\"],[0.5555555555555556,\"#d8576b\"],[0.6666666666666666,\"#ed7953\"],[0.7777777777777778,\"#fb9f3a\"],[0.8888888888888888,\"#fdca26\"],[1.0,\"#f0f921\"]],\"sequentialminus\":[[0.0,\"#0d0887\"],[0.1111111111111111,\"#46039f\"],[0.2222222222222222,\"#7201a8\"],[0.3333333333333333,\"#9c179e\"],[0.4444444444444444,\"#bd3786\"],[0.5555555555555556,\"#d8576b\"],[0.6666666666666666,\"#ed7953\"],[0.7777777777777778,\"#fb9f3a\"],[0.8888888888888888,\"#fdca26\"],[1.0,\"#f0f921\"]]},\"colorway\":[\"#636efa\",\"#EF553B\",\"#00cc96\",\"#ab63fa\",\"#FFA15A\",\"#19d3f3\",\"#FF6692\",\"#B6E880\",\"#FF97FF\",\"#FECB52\"],\"font\":{\"color\":\"#2a3f5f\"},\"geo\":{\"bgcolor\":\"white\",\"lakecolor\":\"white\",\"landcolor\":\"#E5ECF6\",\"showlakes\":true,\"showland\":true,\"subunitcolor\":\"white\"},\"hoverlabel\":{\"align\":\"left\"},\"hovermode\":\"closest\",\"mapbox\":{\"style\":\"light\"},\"paper_bgcolor\":\"white\",\"plot_bgcolor\":\"#E5ECF6\",\"polar\":{\"angularaxis\":{\"gridcolor\":\"white\",\"linecolor\":\"white\",\"ticks\":\"\"},\"bgcolor\":\"#E5ECF6\",\"radialaxis\":{\"gridcolor\":\"white\",\"linecolor\":\"white\",\"ticks\":\"\"}},\"scene\":{\"xaxis\":{\"backgroundcolor\":\"#E5ECF6\",\"gridcolor\":\"white\",\"gridwidth\":2,\"linecolor\":\"white\",\"showbackground\":true,\"ticks\":\"\",\"zerolinecolor\":\"white\"},\"yaxis\":{\"backgroundcolor\":\"#E5ECF6\",\"gridcolor\":\"white\",\"gridwidth\":2,\"linecolor\":\"white\",\"showbackground\":true,\"ticks\":\"\",\"zerolinecolor\":\"white\"},\"zaxis\":{\"backgroundcolor\":\"#E5ECF6\",\"gridcolor\":\"white\",\"gridwidth\":2,\"linecolor\":\"white\",\"showbackground\":true,\"ticks\":\"\",\"zerolinecolor\":\"white\"}},\"shapedefaults\":{\"line\":{\"color\":\"#2a3f5f\"}},\"ternary\":{\"aaxis\":{\"gridcolor\":\"white\",\"linecolor\":\"white\",\"ticks\":\"\"},\"baxis\":{\"gridcolor\":\"white\",\"linecolor\":\"white\",\"ticks\":\"\"},\"bgcolor\":\"#E5ECF6\",\"caxis\":{\"gridcolor\":\"white\",\"linecolor\":\"white\",\"ticks\":\"\"}},\"title\":{\"x\":0.05},\"xaxis\":{\"automargin\":true,\"gridcolor\":\"white\",\"linecolor\":\"white\",\"ticks\":\"\",\"title\":{\"standoff\":15},\"zerolinecolor\":\"white\",\"zerolinewidth\":2},\"yaxis\":{\"automargin\":true,\"gridcolor\":\"white\",\"linecolor\":\"white\",\"ticks\":\"\",\"title\":{\"standoff\":15},\"zerolinecolor\":\"white\",\"zerolinewidth\":2}}},\"xaxis\":{\"anchor\":\"y\",\"domain\":[0.0,1.0],\"title\":{\"text\":\"CurrentAge\"}},\"yaxis\":{\"anchor\":\"x\",\"domain\":[0.0,1.0],\"title\":{\"text\":\"count\"}},\"legend\":{\"tracegroupgap\":0},\"margin\":{\"t\":60},\"barmode\":\"relative\"},                        {\"responsive\": true}                    ).then(function(){\n",
              "                            \n",
              "var gd = document.getElementById('9c21267f-5fc8-4c51-a597-7817b0554ccb');\n",
              "var x = new MutationObserver(function (mutations, observer) {{\n",
              "        var display = window.getComputedStyle(gd).display;\n",
              "        if (!display || display === 'none') {{\n",
              "            console.log([gd, 'removed!']);\n",
              "            Plotly.purge(gd);\n",
              "            observer.disconnect();\n",
              "        }}\n",
              "}});\n",
              "\n",
              "// Listen for the removal of the full notebook cells\n",
              "var notebookContainer = gd.closest('#notebook-container');\n",
              "if (notebookContainer) {{\n",
              "    x.observe(notebookContainer, {childList: true});\n",
              "}}\n",
              "\n",
              "// Listen for the clearing of the current output cell\n",
              "var outputEl = gd.closest('.output');\n",
              "if (outputEl) {{\n",
              "    x.observe(outputEl, {childList: true});\n",
              "}}\n",
              "\n",
              "                        })                };                            </script>        </div>\n",
              "</body>\n",
              "</html>"
            ]
          },
          "metadata": {}
        }
      ]
    },
    {
      "cell_type": "code",
      "execution_count": 169,
      "id": "c2cc66ff",
      "metadata": {
        "id": "c2cc66ff"
      },
      "outputs": [],
      "source": []
    }
  ],
  "metadata": {
    "kernelspec": {
      "display_name": "Python 3 (ipykernel)",
      "language": "python",
      "name": "python3"
    },
    "language_info": {
      "codemirror_mode": {
        "name": "ipython",
        "version": 3
      },
      "file_extension": ".py",
      "mimetype": "text/x-python",
      "name": "python",
      "nbconvert_exporter": "python",
      "pygments_lexer": "ipython3",
      "version": "3.8.10"
    },
    "colab": {
      "provenance": [],
      "collapsed_sections": []
    }
  },
  "nbformat": 4,
  "nbformat_minor": 5
}